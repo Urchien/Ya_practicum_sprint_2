{
 "cells": [
  {
   "cell_type": "markdown",
   "metadata": {
    "toc": true
   },
   "source": [
    "<h1>Содержание<span class=\"tocSkip\"></span></h1>\n",
    "<div class=\"toc\"><ul class=\"toc-item\"><li><span><a href=\"#Загрузка-данных\" data-toc-modified-id=\"Загрузка-данных-1\"><span class=\"toc-item-num\">1&nbsp;&nbsp;</span>Загрузка данных</a></span><ul class=\"toc-item\"><li><span><a href=\"#Подключим-необходимые-библиотеки-и-настройки:\" data-toc-modified-id=\"Подключим-необходимые-библиотеки-и-настройки:-1.1\"><span class=\"toc-item-num\">1.1&nbsp;&nbsp;</span>Подключим необходимые библиотеки и настройки:</a></span></li><li><span><a href=\"#Посмотрим-на-данные:\" data-toc-modified-id=\"Посмотрим-на-данные:-1.2\"><span class=\"toc-item-num\">1.2&nbsp;&nbsp;</span>Посмотрим на данные:</a></span></li><li><span><a href=\"#Вывод:\" data-toc-modified-id=\"Вывод:-1.3\"><span class=\"toc-item-num\">1.3&nbsp;&nbsp;</span>Вывод:</a></span></li></ul></li><li><span><a href=\"#Умножение-матриц\" data-toc-modified-id=\"Умножение-матриц-2\"><span class=\"toc-item-num\">2&nbsp;&nbsp;</span>Умножение матриц</a></span></li><li><span><a href=\"#Алгоритм-преобразования\" data-toc-modified-id=\"Алгоритм-преобразования-3\"><span class=\"toc-item-num\">3&nbsp;&nbsp;</span>Алгоритм преобразования</a></span></li><li><span><a href=\"#Проверка-алгоритма\" data-toc-modified-id=\"Проверка-алгоритма-4\"><span class=\"toc-item-num\">4&nbsp;&nbsp;</span>Проверка алгоритма</a></span><ul class=\"toc-item\"><li><span><a href=\"#Делим-датасет-на-фичи-и-таргет:\" data-toc-modified-id=\"Делим-датасет-на-фичи-и-таргет:-4.1\"><span class=\"toc-item-num\">4.1&nbsp;&nbsp;</span>Делим датасет на фичи и таргет:</a></span></li><li><span><a href=\"#Разбиваем-на-тренировочную-и-тестовую-выборки-исходные-данные:\" data-toc-modified-id=\"Разбиваем-на-тренировочную-и-тестовую-выборки-исходные-данные:-4.2\"><span class=\"toc-item-num\">4.2&nbsp;&nbsp;</span>Разбиваем на тренировочную и тестовую выборки исходные данные:</a></span></li><li><span><a href=\"#Создадим-модель-линейной-регресии:\" data-toc-modified-id=\"Создадим-модель-линейной-регресии:-4.3\"><span class=\"toc-item-num\">4.3&nbsp;&nbsp;</span>Создадим модель линейной регресии:</a></span></li><li><span><a href=\"#Обучим-модель-и-посчитаем-метрику-R2:\" data-toc-modified-id=\"Обучим-модель-и-посчитаем-метрику-R2:-4.4\"><span class=\"toc-item-num\">4.4&nbsp;&nbsp;</span>Обучим модель и посчитаем метрику R2:</a></span></li><li><span><a href=\"#Создадим-обратимую-матрицу:\" data-toc-modified-id=\"Создадим-обратимую-матрицу:-4.5\"><span class=\"toc-item-num\">4.5&nbsp;&nbsp;</span>Создадим обратимую матрицу:</a></span></li><li><span><a href=\"#Закодируем-фичи:\" data-toc-modified-id=\"Закодируем-фичи:-4.6\"><span class=\"toc-item-num\">4.6&nbsp;&nbsp;</span>Закодируем фичи:</a></span></li><li><span><a href=\"#Разобьем-на--выборки-шифрованные-данные,-обучим-модель-и-выведем-метрику-R2:\" data-toc-modified-id=\"Разобьем-на--выборки-шифрованные-данные,-обучим-модель-и-выведем-метрику-R2:-4.7\"><span class=\"toc-item-num\">4.7&nbsp;&nbsp;</span>Разобьем на  выборки шифрованные данные, обучим модель и выведем метрику R2:</a></span></li><li><span><a href=\"#Сверим-метрики-R2-для-шифрованных-и-исходных-данных:\" data-toc-modified-id=\"Сверим-метрики-R2-для-шифрованных-и-исходных-данных:-4.8\"><span class=\"toc-item-num\">4.8&nbsp;&nbsp;</span>Сверим метрики R2 для шифрованных и исходных данных:</a></span></li><li><span><a href=\"#Проверим,-как-расшифровываются-данные:\" data-toc-modified-id=\"Проверим,-как-расшифровываются-данные:-4.9\"><span class=\"toc-item-num\">4.9&nbsp;&nbsp;</span>Проверим, как расшифровываются данные:</a></span></li></ul></li><li><span><a href=\"#Вывод:\" data-toc-modified-id=\"Вывод:-5\"><span class=\"toc-item-num\">5&nbsp;&nbsp;</span>Вывод:</a></span></li><li><span><a href=\"#Чек-лист-проверки\" data-toc-modified-id=\"Чек-лист-проверки-6\"><span class=\"toc-item-num\">6&nbsp;&nbsp;</span>Чек-лист проверки</a></span></li></ul></div>"
   ]
  },
  {
   "cell_type": "markdown",
   "metadata": {},
   "source": [
    "# Защита персональных данных клиентов"
   ]
  },
  {
   "cell_type": "markdown",
   "metadata": {},
   "source": [
    "Вам нужно защитить данные клиентов страховой компании «Хоть потоп». Разработайте такой метод преобразования данных, чтобы по ним было сложно восстановить персональную информацию. Обоснуйте корректность его работы.\n",
    "\n",
    "Нужно защитить данные, чтобы при преобразовании качество моделей машинного обучения не ухудшилось. Подбирать наилучшую модель не требуется."
   ]
  },
  {
   "cell_type": "markdown",
   "metadata": {},
   "source": [
    "# План работ:\n",
    "\n",
    "1. Загрузить и изучить данные.\n",
    "2. Ответить на вопрос и обосновать решение: \n",
    "- Признаки умножают на обратимую матрицу. Изменится ли качество линейной регрессии? (Её можно обучить заново.)\n",
    "    - Изменится. Привести примеры матриц.\n",
    "    - Не изменится. Указать, как связаны параметры линейной регрессии в исходной задаче и в преобразованной.\n",
    "3. Предложить алгоритм преобразования данных для решения задачи. Обосновать, почему качество линейной регрессии не поменяется.\n",
    "4. Запрограммировать этот алгоритм, применив матричные операции. Проверить, что качество линейной регрессии из sklearn не отличается до и после преобразования. Применить метрику R2."
   ]
  },
  {
   "cell_type": "markdown",
   "metadata": {},
   "source": [
    "# Описание данных:\n",
    "\n",
    "- Признаки: пол, возраст и зарплата застрахованного, количество членов его семьи.\n",
    "- Целевой признак: количество страховых выплат клиенту за последние 5 лет."
   ]
  },
  {
   "cell_type": "markdown",
   "metadata": {},
   "source": [
    "## Загрузка данных"
   ]
  },
  {
   "cell_type": "markdown",
   "metadata": {},
   "source": [
    "### Подключим необходимые библиотеки и настройки:"
   ]
  },
  {
   "cell_type": "markdown",
   "metadata": {},
   "source": [
    "Импортируем библиотеки:"
   ]
  },
  {
   "cell_type": "code",
   "execution_count": 1,
   "metadata": {},
   "outputs": [],
   "source": [
    "import pandas as pd\n",
    "import numpy as np\n",
    "import matplotlib.pyplot as plt\n",
    "import seaborn as sns\n",
    "\n",
    "from sklearn.linear_model import LinearRegression\n",
    "from sklearn.model_selection import train_test_split\n",
    "from sklearn.pipeline import Pipeline\n",
    "from sklearn.preprocessing import StandardScaler\n",
    "from sklearn.metrics import r2_score\n",
    "\n",
    "import warnings\n",
    "warnings.filterwarnings('ignore')\n",
    "\n",
    "STATE = 12345"
   ]
  },
  {
   "cell_type": "markdown",
   "metadata": {},
   "source": [
    "Загрузим датафрейм:"
   ]
  },
  {
   "cell_type": "code",
   "execution_count": 2,
   "metadata": {},
   "outputs": [],
   "source": [
    "try:\n",
    "    data = pd.read_csv(\n",
    "        '___________insurance.csv')\n",
    "except FileNotFoundError:\n",
    "    data = pd.read_csv('https://____________/insurance.csv')"
   ]
  },
  {
   "cell_type": "markdown",
   "metadata": {},
   "source": [
    "Создадим и применим функцию функцию, которая будет на вход принимать датафрейм, а на выходе будет выводить все необходимые характеристики поочередно применяя методы:"
   ]
  },
  {
   "cell_type": "code",
   "execution_count": 3,
   "metadata": {},
   "outputs": [],
   "source": [
    "def data_info(dataframe):\n",
    "    print('Выведем общую информацию по датафрейму:')\n",
    "    display(dataframe.info())\n",
    "    print('\\nВыведем первые 10 строк:')\n",
    "    display(dataframe.head(10))\n",
    "    print('\\nВыведем последние 10 строк:')\n",
    "    display(dataframe.tail(10))\n",
    "    print('\\nПосмотрим пропуски:')\n",
    "    display(dataframe.isnull().sum().sort_values(ascending=False))\n",
    "    print('\\nПосмотрим на описание датафрейма:')\n",
    "    display(dataframe.describe())\n",
    "    print('\\nКоличество дубликатов:')\n",
    "    display(dataframe.duplicated().sum())\n",
    "    print('\\nПосмотрим на признаки:\\n')\n",
    "    for item in dataframe.columns:\n",
    "        print(f'\\nКоличество уникальных значений в признаке: {item} - {dataframe[item].nunique()}')\n",
    "    fig, axs = plt.subplots(1, 5, figsize=(20, 4))\n",
    "    fig.suptitle('Раcпределение признаков', fontsize=18)\n",
    "    for i, col in enumerate(dataframe.columns):\n",
    "        unique_values = dataframe[col].nunique()\n",
    "        if unique_values > 10:\n",
    "            axs[i].hist(dataframe[col], alpha=0.5, edgecolor='black')\n",
    "        elif unique_values < 10:\n",
    "            value_counts = dataframe[col].value_counts()\n",
    "            axs[i].pie(value_counts.values, labels=value_counts.index)\n",
    "        axs[i].set_title(col, fontsize=16)\n",
    "    fig.tight_layout()\n",
    "    plt.show()"
   ]
  },
  {
   "cell_type": "markdown",
   "metadata": {},
   "source": [
    "### Посмотрим на данные:"
   ]
  },
  {
   "cell_type": "code",
   "execution_count": 4,
   "metadata": {
    "scrolled": false
   },
   "outputs": [
    {
     "name": "stdout",
     "output_type": "stream",
     "text": [
      "Выведем общую информацию по датафрейму:\n",
      "<class 'pandas.core.frame.DataFrame'>\n",
      "RangeIndex: 5000 entries, 0 to 4999\n",
      "Data columns (total 5 columns):\n",
      " #   Column             Non-Null Count  Dtype  \n",
      "---  ------             --------------  -----  \n",
      " 0   Пол                5000 non-null   int64  \n",
      " 1   Возраст            5000 non-null   float64\n",
      " 2   Зарплата           5000 non-null   float64\n",
      " 3   Члены семьи        5000 non-null   int64  \n",
      " 4   Страховые выплаты  5000 non-null   int64  \n",
      "dtypes: float64(2), int64(3)\n",
      "memory usage: 195.4 KB\n"
     ]
    },
    {
     "data": {
      "text/plain": [
       "None"
      ]
     },
     "metadata": {},
     "output_type": "display_data"
    },
    {
     "name": "stdout",
     "output_type": "stream",
     "text": [
      "\n",
      "Выведем первые 10 строк:\n"
     ]
    },
    {
     "data": {
      "text/html": [
       "<div>\n",
       "<style scoped>\n",
       "    .dataframe tbody tr th:only-of-type {\n",
       "        vertical-align: middle;\n",
       "    }\n",
       "\n",
       "    .dataframe tbody tr th {\n",
       "        vertical-align: top;\n",
       "    }\n",
       "\n",
       "    .dataframe thead th {\n",
       "        text-align: right;\n",
       "    }\n",
       "</style>\n",
       "<table border=\"1\" class=\"dataframe\">\n",
       "  <thead>\n",
       "    <tr style=\"text-align: right;\">\n",
       "      <th></th>\n",
       "      <th>Пол</th>\n",
       "      <th>Возраст</th>\n",
       "      <th>Зарплата</th>\n",
       "      <th>Члены семьи</th>\n",
       "      <th>Страховые выплаты</th>\n",
       "    </tr>\n",
       "  </thead>\n",
       "  <tbody>\n",
       "    <tr>\n",
       "      <th>0</th>\n",
       "      <td>1</td>\n",
       "      <td>41.0</td>\n",
       "      <td>49600.0</td>\n",
       "      <td>1</td>\n",
       "      <td>0</td>\n",
       "    </tr>\n",
       "    <tr>\n",
       "      <th>1</th>\n",
       "      <td>0</td>\n",
       "      <td>46.0</td>\n",
       "      <td>38000.0</td>\n",
       "      <td>1</td>\n",
       "      <td>1</td>\n",
       "    </tr>\n",
       "    <tr>\n",
       "      <th>2</th>\n",
       "      <td>0</td>\n",
       "      <td>29.0</td>\n",
       "      <td>21000.0</td>\n",
       "      <td>0</td>\n",
       "      <td>0</td>\n",
       "    </tr>\n",
       "    <tr>\n",
       "      <th>3</th>\n",
       "      <td>0</td>\n",
       "      <td>21.0</td>\n",
       "      <td>41700.0</td>\n",
       "      <td>2</td>\n",
       "      <td>0</td>\n",
       "    </tr>\n",
       "    <tr>\n",
       "      <th>4</th>\n",
       "      <td>1</td>\n",
       "      <td>28.0</td>\n",
       "      <td>26100.0</td>\n",
       "      <td>0</td>\n",
       "      <td>0</td>\n",
       "    </tr>\n",
       "    <tr>\n",
       "      <th>5</th>\n",
       "      <td>1</td>\n",
       "      <td>43.0</td>\n",
       "      <td>41000.0</td>\n",
       "      <td>2</td>\n",
       "      <td>1</td>\n",
       "    </tr>\n",
       "    <tr>\n",
       "      <th>6</th>\n",
       "      <td>1</td>\n",
       "      <td>39.0</td>\n",
       "      <td>39700.0</td>\n",
       "      <td>2</td>\n",
       "      <td>0</td>\n",
       "    </tr>\n",
       "    <tr>\n",
       "      <th>7</th>\n",
       "      <td>1</td>\n",
       "      <td>25.0</td>\n",
       "      <td>38600.0</td>\n",
       "      <td>4</td>\n",
       "      <td>0</td>\n",
       "    </tr>\n",
       "    <tr>\n",
       "      <th>8</th>\n",
       "      <td>1</td>\n",
       "      <td>36.0</td>\n",
       "      <td>49700.0</td>\n",
       "      <td>1</td>\n",
       "      <td>0</td>\n",
       "    </tr>\n",
       "    <tr>\n",
       "      <th>9</th>\n",
       "      <td>1</td>\n",
       "      <td>32.0</td>\n",
       "      <td>51700.0</td>\n",
       "      <td>1</td>\n",
       "      <td>0</td>\n",
       "    </tr>\n",
       "  </tbody>\n",
       "</table>\n",
       "</div>"
      ],
      "text/plain": [
       "   Пол  Возраст  Зарплата  Члены семьи  Страховые выплаты\n",
       "0    1     41.0   49600.0            1                  0\n",
       "1    0     46.0   38000.0            1                  1\n",
       "2    0     29.0   21000.0            0                  0\n",
       "3    0     21.0   41700.0            2                  0\n",
       "4    1     28.0   26100.0            0                  0\n",
       "5    1     43.0   41000.0            2                  1\n",
       "6    1     39.0   39700.0            2                  0\n",
       "7    1     25.0   38600.0            4                  0\n",
       "8    1     36.0   49700.0            1                  0\n",
       "9    1     32.0   51700.0            1                  0"
      ]
     },
     "metadata": {},
     "output_type": "display_data"
    },
    {
     "name": "stdout",
     "output_type": "stream",
     "text": [
      "\n",
      "Выведем последние 10 строк:\n"
     ]
    },
    {
     "data": {
      "text/html": [
       "<div>\n",
       "<style scoped>\n",
       "    .dataframe tbody tr th:only-of-type {\n",
       "        vertical-align: middle;\n",
       "    }\n",
       "\n",
       "    .dataframe tbody tr th {\n",
       "        vertical-align: top;\n",
       "    }\n",
       "\n",
       "    .dataframe thead th {\n",
       "        text-align: right;\n",
       "    }\n",
       "</style>\n",
       "<table border=\"1\" class=\"dataframe\">\n",
       "  <thead>\n",
       "    <tr style=\"text-align: right;\">\n",
       "      <th></th>\n",
       "      <th>Пол</th>\n",
       "      <th>Возраст</th>\n",
       "      <th>Зарплата</th>\n",
       "      <th>Члены семьи</th>\n",
       "      <th>Страховые выплаты</th>\n",
       "    </tr>\n",
       "  </thead>\n",
       "  <tbody>\n",
       "    <tr>\n",
       "      <th>4990</th>\n",
       "      <td>0</td>\n",
       "      <td>22.0</td>\n",
       "      <td>56800.0</td>\n",
       "      <td>1</td>\n",
       "      <td>0</td>\n",
       "    </tr>\n",
       "    <tr>\n",
       "      <th>4991</th>\n",
       "      <td>0</td>\n",
       "      <td>21.0</td>\n",
       "      <td>38300.0</td>\n",
       "      <td>3</td>\n",
       "      <td>0</td>\n",
       "    </tr>\n",
       "    <tr>\n",
       "      <th>4992</th>\n",
       "      <td>0</td>\n",
       "      <td>45.0</td>\n",
       "      <td>54600.0</td>\n",
       "      <td>0</td>\n",
       "      <td>1</td>\n",
       "    </tr>\n",
       "    <tr>\n",
       "      <th>4993</th>\n",
       "      <td>1</td>\n",
       "      <td>32.0</td>\n",
       "      <td>36000.0</td>\n",
       "      <td>1</td>\n",
       "      <td>0</td>\n",
       "    </tr>\n",
       "    <tr>\n",
       "      <th>4994</th>\n",
       "      <td>1</td>\n",
       "      <td>26.0</td>\n",
       "      <td>51400.0</td>\n",
       "      <td>0</td>\n",
       "      <td>0</td>\n",
       "    </tr>\n",
       "    <tr>\n",
       "      <th>4995</th>\n",
       "      <td>0</td>\n",
       "      <td>28.0</td>\n",
       "      <td>35700.0</td>\n",
       "      <td>2</td>\n",
       "      <td>0</td>\n",
       "    </tr>\n",
       "    <tr>\n",
       "      <th>4996</th>\n",
       "      <td>0</td>\n",
       "      <td>34.0</td>\n",
       "      <td>52400.0</td>\n",
       "      <td>1</td>\n",
       "      <td>0</td>\n",
       "    </tr>\n",
       "    <tr>\n",
       "      <th>4997</th>\n",
       "      <td>0</td>\n",
       "      <td>20.0</td>\n",
       "      <td>33900.0</td>\n",
       "      <td>2</td>\n",
       "      <td>0</td>\n",
       "    </tr>\n",
       "    <tr>\n",
       "      <th>4998</th>\n",
       "      <td>1</td>\n",
       "      <td>22.0</td>\n",
       "      <td>32700.0</td>\n",
       "      <td>3</td>\n",
       "      <td>0</td>\n",
       "    </tr>\n",
       "    <tr>\n",
       "      <th>4999</th>\n",
       "      <td>1</td>\n",
       "      <td>28.0</td>\n",
       "      <td>40600.0</td>\n",
       "      <td>1</td>\n",
       "      <td>0</td>\n",
       "    </tr>\n",
       "  </tbody>\n",
       "</table>\n",
       "</div>"
      ],
      "text/plain": [
       "      Пол  Возраст  Зарплата  Члены семьи  Страховые выплаты\n",
       "4990    0     22.0   56800.0            1                  0\n",
       "4991    0     21.0   38300.0            3                  0\n",
       "4992    0     45.0   54600.0            0                  1\n",
       "4993    1     32.0   36000.0            1                  0\n",
       "4994    1     26.0   51400.0            0                  0\n",
       "4995    0     28.0   35700.0            2                  0\n",
       "4996    0     34.0   52400.0            1                  0\n",
       "4997    0     20.0   33900.0            2                  0\n",
       "4998    1     22.0   32700.0            3                  0\n",
       "4999    1     28.0   40600.0            1                  0"
      ]
     },
     "metadata": {},
     "output_type": "display_data"
    },
    {
     "name": "stdout",
     "output_type": "stream",
     "text": [
      "\n",
      "Посмотрим пропуски:\n"
     ]
    },
    {
     "data": {
      "text/plain": [
       "Пол                  0\n",
       "Возраст              0\n",
       "Зарплата             0\n",
       "Члены семьи          0\n",
       "Страховые выплаты    0\n",
       "dtype: int64"
      ]
     },
     "metadata": {},
     "output_type": "display_data"
    },
    {
     "name": "stdout",
     "output_type": "stream",
     "text": [
      "\n",
      "Посмотрим на описание датафрейма:\n"
     ]
    },
    {
     "data": {
      "text/html": [
       "<div>\n",
       "<style scoped>\n",
       "    .dataframe tbody tr th:only-of-type {\n",
       "        vertical-align: middle;\n",
       "    }\n",
       "\n",
       "    .dataframe tbody tr th {\n",
       "        vertical-align: top;\n",
       "    }\n",
       "\n",
       "    .dataframe thead th {\n",
       "        text-align: right;\n",
       "    }\n",
       "</style>\n",
       "<table border=\"1\" class=\"dataframe\">\n",
       "  <thead>\n",
       "    <tr style=\"text-align: right;\">\n",
       "      <th></th>\n",
       "      <th>Пол</th>\n",
       "      <th>Возраст</th>\n",
       "      <th>Зарплата</th>\n",
       "      <th>Члены семьи</th>\n",
       "      <th>Страховые выплаты</th>\n",
       "    </tr>\n",
       "  </thead>\n",
       "  <tbody>\n",
       "    <tr>\n",
       "      <th>count</th>\n",
       "      <td>5000.000000</td>\n",
       "      <td>5000.000000</td>\n",
       "      <td>5000.000000</td>\n",
       "      <td>5000.000000</td>\n",
       "      <td>5000.000000</td>\n",
       "    </tr>\n",
       "    <tr>\n",
       "      <th>mean</th>\n",
       "      <td>0.499000</td>\n",
       "      <td>30.952800</td>\n",
       "      <td>39916.360000</td>\n",
       "      <td>1.194200</td>\n",
       "      <td>0.148000</td>\n",
       "    </tr>\n",
       "    <tr>\n",
       "      <th>std</th>\n",
       "      <td>0.500049</td>\n",
       "      <td>8.440807</td>\n",
       "      <td>9900.083569</td>\n",
       "      <td>1.091387</td>\n",
       "      <td>0.463183</td>\n",
       "    </tr>\n",
       "    <tr>\n",
       "      <th>min</th>\n",
       "      <td>0.000000</td>\n",
       "      <td>18.000000</td>\n",
       "      <td>5300.000000</td>\n",
       "      <td>0.000000</td>\n",
       "      <td>0.000000</td>\n",
       "    </tr>\n",
       "    <tr>\n",
       "      <th>25%</th>\n",
       "      <td>0.000000</td>\n",
       "      <td>24.000000</td>\n",
       "      <td>33300.000000</td>\n",
       "      <td>0.000000</td>\n",
       "      <td>0.000000</td>\n",
       "    </tr>\n",
       "    <tr>\n",
       "      <th>50%</th>\n",
       "      <td>0.000000</td>\n",
       "      <td>30.000000</td>\n",
       "      <td>40200.000000</td>\n",
       "      <td>1.000000</td>\n",
       "      <td>0.000000</td>\n",
       "    </tr>\n",
       "    <tr>\n",
       "      <th>75%</th>\n",
       "      <td>1.000000</td>\n",
       "      <td>37.000000</td>\n",
       "      <td>46600.000000</td>\n",
       "      <td>2.000000</td>\n",
       "      <td>0.000000</td>\n",
       "    </tr>\n",
       "    <tr>\n",
       "      <th>max</th>\n",
       "      <td>1.000000</td>\n",
       "      <td>65.000000</td>\n",
       "      <td>79000.000000</td>\n",
       "      <td>6.000000</td>\n",
       "      <td>5.000000</td>\n",
       "    </tr>\n",
       "  </tbody>\n",
       "</table>\n",
       "</div>"
      ],
      "text/plain": [
       "               Пол      Возраст      Зарплата  Члены семьи  Страховые выплаты\n",
       "count  5000.000000  5000.000000   5000.000000  5000.000000        5000.000000\n",
       "mean      0.499000    30.952800  39916.360000     1.194200           0.148000\n",
       "std       0.500049     8.440807   9900.083569     1.091387           0.463183\n",
       "min       0.000000    18.000000   5300.000000     0.000000           0.000000\n",
       "25%       0.000000    24.000000  33300.000000     0.000000           0.000000\n",
       "50%       0.000000    30.000000  40200.000000     1.000000           0.000000\n",
       "75%       1.000000    37.000000  46600.000000     2.000000           0.000000\n",
       "max       1.000000    65.000000  79000.000000     6.000000           5.000000"
      ]
     },
     "metadata": {},
     "output_type": "display_data"
    },
    {
     "name": "stdout",
     "output_type": "stream",
     "text": [
      "\n",
      "Количество дубликатов:\n"
     ]
    },
    {
     "data": {
      "text/plain": [
       "153"
      ]
     },
     "metadata": {},
     "output_type": "display_data"
    },
    {
     "name": "stdout",
     "output_type": "stream",
     "text": [
      "\n",
      "Посмотрим на признаки:\n",
      "\n",
      "\n",
      "Количество уникальных значений в признаке: Пол - 2\n",
      "\n",
      "Количество уникальных значений в признаке: Возраст - 46\n",
      "\n",
      "Количество уникальных значений в признаке: Зарплата - 524\n",
      "\n",
      "Количество уникальных значений в признаке: Члены семьи - 7\n",
      "\n",
      "Количество уникальных значений в признаке: Страховые выплаты - 6\n"
     ]
    },
    {
     "data": {
      "image/png": "[encoded data removed]",
      "text/plain": [
       "<Figure size 1440x288 with 5 Axes>"
      ]
     },
     "metadata": {
      "needs_background": "light"
     },
     "output_type": "display_data"
    }
   ],
   "source": [
    "data_info(data)"
   ]
  },
  {
   "cell_type": "markdown",
   "metadata": {},
   "source": [
    "### Вывод:\n",
    "\n",
    "- В датафрейме 5000 строк, 5 стобцов.\n",
    "- Пропущенных значений не выявлено.\n",
    "- Судя по таблице распределения статистических значений, все признаки выглядят адекватно.\n",
    "- Обнаружены 153 явных дубликата. Поскольку данные не имеют уникального идентификатора (например Ф.И.О или ID), мы не можем утверждать, что это дубликаты. Поэтому оставим их как есть.\n",
    "- Признак пола распределен поровну.\n",
    "- В целевом признаке явный дисбаланс классов (для большинства клиентов страховых выплат за последниее 5 лет небыло)."
   ]
  },
  {
   "cell_type": "markdown",
   "metadata": {},
   "source": [
    "## Умножение матриц"
   ]
  },
  {
   "cell_type": "markdown",
   "metadata": {},
   "source": [
    "В этом задании вы можете записывать формулы в *Jupyter Notebook.*\n",
    "\n",
    "Чтобы записать формулу внутри текста, окружите её символами доллара \\\\$; если снаружи —  двойными символами \\\\$\\\\$. Эти формулы записываются на языке вёрстки *LaTeX.* \n",
    "\n",
    "Для примера мы записали формулы линейной регрессии. Можете их скопировать и отредактировать, чтобы решить задачу.\n",
    "\n",
    "Работать в *LaTeX* необязательно."
   ]
  },
  {
   "cell_type": "markdown",
   "metadata": {},
   "source": [
    "Обозначения:\n",
    "\n",
    "- $X$ — матрица признаков (нулевой столбец состоит из единиц)\n",
    "\n",
    "- $y$ — вектор целевого признака\n",
    "\n",
    "- $P$ — матрица, на которую умножаются признаки\n",
    "\n",
    "- $w$ — вектор весов линейной регрессии (нулевой элемент равен сдвигу)"
   ]
  },
  {
   "cell_type": "markdown",
   "metadata": {},
   "source": [
    "Предсказания:\n",
    "\n",
    "$$\n",
    "a = Xw\n",
    "$$\n",
    "\n",
    "Задача обучения:\n",
    "\n",
    "$$\n",
    "w = \\arg\\min_w MSE(Xw, y)\n",
    "$$\n",
    "\n",
    "Формула обучения:\n",
    "\n",
    "$$\n",
    "w = (X^T X)^{-1} X^T y\n",
    "$$"
   ]
  },
  {
   "cell_type": "markdown",
   "metadata": {},
   "source": [
    "**Ответ:** качество линейной регрессии не изменится.\n",
    "\n",
    "**Обоснование:** \n",
    "\n",
    "Для обоснования данного утверждения воспользуемся формулами линейной регрессии. Пусть у нас есть матрица признаков $X$ размера $n \\times m$, где $n$ - количество наблюдений, а $m$ - количество признаков. Также у нас есть вектор целевых переменных $y$ размера $n \\times 1$. Мы хотим найти вектор коэффициентов $\\theta$ размера $m \\times 1$, который минимизирует сумму квадратов ошибок предсказания:\n",
    "\n",
    "$$\\theta = \\arg\\min_{\\theta} \\sum_{i=1}^{n} (y_i - \\theta^T x_i)^2$$\n",
    "\n",
    "Решение этой задачи можно найти аналитически, используя нормальное уравнение:\n",
    "\n",
    "$$\\theta = (X^T X)^{-1} X^T y$$\n",
    "\n",
    "Теперь предположим, что мы умножаем матрицу признаков $X$ на обратимую матрицу $A$ размера $m \\times m$. Тогда новая матрица признаков $X'$ будет иметь вид:\n",
    "\n",
    "$$X' = XA$$\n",
    "\n",
    "Таким образом, мы можем выразить вектор коэффициентов для новой матрицы признаков $X'$:\n",
    "\n",
    "$$\\theta' = ((XA)^T XA)^{-1} (XA)^T y$$\n",
    "\n",
    "Раскроем скобки:\n",
    "\n",
    "$$\\theta' = (A^T X^T X A)^{-1} A^T X^T y$$\n",
    "\n",
    "Заметим, что матрица $A^T X^T X A$ является обратимой, так как $A$ обратима и $X^T X$ является симметричной и положительно определенной матрицей. Таким образом, мы можем выразить вектор коэффициентов для новой матрицы признаков через старый вектор коэффициентов:\n",
    "\n",
    "$$\\theta' = A^{-1} \\theta$$\n",
    "\n",
    "Таким образом, мы получили, что при умножении матрицы признаков на обратимую матрицу, вектор коэффициентов линейной регрессии просто умножается на обратную матрицу. Это означает, что качество линейной регрессии не изменится."
   ]
  },
  {
   "cell_type": "markdown",
   "metadata": {},
   "source": [
    "## Алгоритм преобразования"
   ]
  },
  {
   "cell_type": "markdown",
   "metadata": {},
   "source": [
    "**Алгоритм**\n",
    "\n",
    "- Разделим наш датафрейм на фичи и таргет\n",
    "- Генерируем обратимую матрицу\n",
    "- Зашифруем данные умножением на нашу матрицу\n",
    "- Создадим модель LinearRegression и сверим метрики R2 на зашифрованных и незашифрованных данных\n",
    "- Расшифруем данные и сверим их с исходными"
   ]
  },
  {
   "cell_type": "markdown",
   "metadata": {},
   "source": [
    "**Обоснование**\n",
    "\n",
    "Исходя из обоснования выше, при умножении матрицы признаков на обратимую матрицу, метрики R2 не изменятся."
   ]
  },
  {
   "cell_type": "markdown",
   "metadata": {},
   "source": [
    "## Проверка алгоритма"
   ]
  },
  {
   "cell_type": "markdown",
   "metadata": {},
   "source": [
    "### Делим датасет на фичи и таргет:"
   ]
  },
  {
   "cell_type": "code",
   "execution_count": 5,
   "metadata": {},
   "outputs": [],
   "source": [
    "features = data.drop('Страховые выплаты', axis=1)\n",
    "target = data['Страховые выплаты']"
   ]
  },
  {
   "cell_type": "markdown",
   "metadata": {},
   "source": [
    "### Разбиваем на тренировочную и тестовую выборки исходные данные:"
   ]
  },
  {
   "cell_type": "code",
   "execution_count": 6,
   "metadata": {},
   "outputs": [],
   "source": [
    "features_train, features_test, target_train, target_test = train_test_split(\n",
    "    features, target, test_size=0.20, random_state=STATE)"
   ]
  },
  {
   "cell_type": "markdown",
   "metadata": {},
   "source": [
    "### Создадим модель линейной регресии:"
   ]
  },
  {
   "cell_type": "code",
   "execution_count": 7,
   "metadata": {},
   "outputs": [],
   "source": [
    "pipeline = Pipeline([('scale', StandardScaler()),\n",
    "                    ('linear', LinearRegression())])"
   ]
  },
  {
   "cell_type": "markdown",
   "metadata": {},
   "source": [
    "### Обучим модель и посчитаем метрику R2:"
   ]
  },
  {
   "cell_type": "code",
   "execution_count": 8,
   "metadata": {},
   "outputs": [
    {
     "name": "stdout",
     "output_type": "stream",
     "text": [
      "Метрика R2 для незашифрованных данных: 0.4117683956770476\n"
     ]
    }
   ],
   "source": [
    "pipeline.fit(features_train, target_train)\n",
    "r2 = r2_score(target_test, pipeline.predict(features_test))\n",
    "print('Метрика R2 для незашифрованных данных:', r2)"
   ]
  },
  {
   "cell_type": "markdown",
   "metadata": {},
   "source": [
    "### Создадим обратимую матрицу:"
   ]
  },
  {
   "cell_type": "code",
   "execution_count": 9,
   "metadata": {},
   "outputs": [
    {
     "name": "stdout",
     "output_type": "stream",
     "text": [
      "Исходная матрица:\n",
      " [[0.24347693 0.02622229 0.60570824 0.7532471 ]\n",
      " [0.92048167 0.94273305 0.05416414 0.79999858]\n",
      " [0.82789815 0.30889859 0.77936266 0.39297049]\n",
      " [0.35807117 0.93720435 0.97700044 0.72286876]]\n",
      "Обратная матрица:\n",
      " [[-0.29039252  0.40321961  1.18593572 -0.78835268]\n",
      " [-0.98772305  0.28971029 -0.44203988  0.94891407]\n",
      " [-0.05736078 -0.79448351  0.64593933  0.58787632]\n",
      " [ 1.50196149  0.49844688 -0.88736811 -0.25093829]]\n"
     ]
    }
   ],
   "source": [
    "# функция для создания случайной матрицы 4x4 и ее обратной матрицы\n",
    "def generate_random_matrix():\n",
    "    while True:\n",
    "        matrix = np.random.rand(4, 4)\n",
    "        determinant = np.linalg.det(matrix)\n",
    "        if determinant != 0:\n",
    "            inverse_matrix = np.linalg.inv(matrix)\n",
    "            return matrix, inverse_matrix\n",
    "\n",
    "# вызов функции и вывод результатов на экран\n",
    "matrix, inverse_matrix = generate_random_matrix()\n",
    "\n",
    "print(\"Исходная матрица:\\n\", matrix)\n",
    "print(\"Обратная матрица:\\n\", inverse_matrix)"
   ]
  },
  {
   "cell_type": "markdown",
   "metadata": {},
   "source": [
    "### Закодируем фичи:"
   ]
  },
  {
   "cell_type": "code",
   "execution_count": 10,
   "metadata": {},
   "outputs": [
    {
     "data": {
      "text/html": [
       "<div>\n",
       "<style scoped>\n",
       "    .dataframe tbody tr th:only-of-type {\n",
       "        vertical-align: middle;\n",
       "    }\n",
       "\n",
       "    .dataframe tbody tr th {\n",
       "        vertical-align: top;\n",
       "    }\n",
       "\n",
       "    .dataframe thead th {\n",
       "        text-align: right;\n",
       "    }\n",
       "</style>\n",
       "<table border=\"1\" class=\"dataframe\">\n",
       "  <thead>\n",
       "    <tr style=\"text-align: right;\">\n",
       "      <th></th>\n",
       "      <th>0</th>\n",
       "      <th>1</th>\n",
       "      <th>2</th>\n",
       "      <th>3</th>\n",
       "    </tr>\n",
       "  </thead>\n",
       "  <tbody>\n",
       "    <tr>\n",
       "      <th>0</th>\n",
       "      <td>41102.089575</td>\n",
       "      <td>15360.985585</td>\n",
       "      <td>38660.191299</td>\n",
       "      <td>19525.612285</td>\n",
       "    </tr>\n",
       "    <tr>\n",
       "      <th>1</th>\n",
       "      <td>31502.829958</td>\n",
       "      <td>11782.449375</td>\n",
       "      <td>29619.249573</td>\n",
       "      <td>14970.401364</td>\n",
       "    </tr>\n",
       "    <tr>\n",
       "      <th>2</th>\n",
       "      <td>17412.555135</td>\n",
       "      <td>6514.209665</td>\n",
       "      <td>16368.186588</td>\n",
       "      <td>8275.580216</td>\n",
       "    </tr>\n",
       "    <tr>\n",
       "      <th>3</th>\n",
       "      <td>34543.399145</td>\n",
       "      <td>12902.743039</td>\n",
       "      <td>32502.514306</td>\n",
       "      <td>16405.115076</td>\n",
       "    </tr>\n",
       "    <tr>\n",
       "      <th>4</th>\n",
       "      <td>21634.158699</td>\n",
       "      <td>8088.675968</td>\n",
       "      <td>20343.487690</td>\n",
       "      <td>10279.682956</td>\n",
       "    </tr>\n",
       "    <tr>\n",
       "      <th>...</th>\n",
       "      <td>...</td>\n",
       "      <td>...</td>\n",
       "      <td>...</td>\n",
       "      <td>...</td>\n",
       "    </tr>\n",
       "    <tr>\n",
       "      <th>4995</th>\n",
       "      <td>29582.453612</td>\n",
       "      <td>11055.950626</td>\n",
       "      <td>27826.717504</td>\n",
       "      <td>14052.892135</td>\n",
       "    </tr>\n",
       "    <tr>\n",
       "      <th>4996</th>\n",
       "      <td>43413.517549</td>\n",
       "      <td>16219.276286</td>\n",
       "      <td>40841.421885</td>\n",
       "      <td>20619.576415</td>\n",
       "    </tr>\n",
       "    <tr>\n",
       "      <th>4997</th>\n",
       "      <td>28084.873087</td>\n",
       "      <td>10492.391298</td>\n",
       "      <td>26423.431406</td>\n",
       "      <td>13339.145268</td>\n",
       "    </tr>\n",
       "    <tr>\n",
       "      <th>4998</th>\n",
       "      <td>27093.837818</td>\n",
       "      <td>10124.561882</td>\n",
       "      <td>25489.887253</td>\n",
       "      <td>12870.656794</td>\n",
       "    </tr>\n",
       "    <tr>\n",
       "      <th>4999</th>\n",
       "      <td>33639.039957</td>\n",
       "      <td>12568.642738</td>\n",
       "      <td>31645.223239</td>\n",
       "      <td>15978.477907</td>\n",
       "    </tr>\n",
       "  </tbody>\n",
       "</table>\n",
       "<p>5000 rows × 4 columns</p>\n",
       "</div>"
      ],
      "text/plain": [
       "                 0             1             2             3\n",
       "0     41102.089575  15360.985585  38660.191299  19525.612285\n",
       "1     31502.829958  11782.449375  29619.249573  14970.401364\n",
       "2     17412.555135   6514.209665  16368.186588   8275.580216\n",
       "3     34543.399145  12902.743039  32502.514306  16405.115076\n",
       "4     21634.158699   8088.675968  20343.487690  10279.682956\n",
       "...            ...           ...           ...           ...\n",
       "4995  29582.453612  11055.950626  27826.717504  14052.892135\n",
       "4996  43413.517549  16219.276286  40841.421885  20619.576415\n",
       "4997  28084.873087  10492.391298  26423.431406  13339.145268\n",
       "4998  27093.837818  10124.561882  25489.887253  12870.656794\n",
       "4999  33639.039957  12568.642738  31645.223239  15978.477907\n",
       "\n",
       "[5000 rows x 4 columns]"
      ]
     },
     "execution_count": 10,
     "metadata": {},
     "output_type": "execute_result"
    }
   ],
   "source": [
    "features_encode = pd.DataFrame(features @ matrix)\n",
    "features_encode"
   ]
  },
  {
   "cell_type": "markdown",
   "metadata": {},
   "source": [
    "### Разобьем на  выборки шифрованные данные, обучим модель и выведем метрику R2:"
   ]
  },
  {
   "cell_type": "code",
   "execution_count": 11,
   "metadata": {},
   "outputs": [
    {
     "name": "stdout",
     "output_type": "stream",
     "text": [
      "Метрика R2 для зашифрованных данных: 0.41176839567703194\n"
     ]
    }
   ],
   "source": [
    "features_encode_train, features_encode_test, target_encode_train, target_encode_test = train_test_split(\n",
    "    features_encode, target, test_size=0.20, random_state=STATE)\n",
    "\n",
    "pipeline.fit(features_encode_train, target_encode_train)\n",
    "r2p = r2_score(target_encode_test, pipeline.predict(features_encode_test))\n",
    "print('Метрика R2 для зашифрованных данных:', r2p)"
   ]
  },
  {
   "cell_type": "markdown",
   "metadata": {},
   "source": [
    "### Сверим метрики R2 для шифрованных и исходных данных:"
   ]
  },
  {
   "cell_type": "code",
   "execution_count": 12,
   "metadata": {},
   "outputs": [
    {
     "name": "stdout",
     "output_type": "stream",
     "text": [
      "Метрика R2 для незашифрованных данных: 0.4117683956770476\n",
      "Метрика R2 для зашифрованных данных: 0.41176839567703194\n"
     ]
    }
   ],
   "source": [
    "print('Метрика R2 для незашифрованных данных:', r2)\n",
    "print('Метрика R2 для зашифрованных данных:', r2p)"
   ]
  },
  {
   "cell_type": "markdown",
   "metadata": {},
   "source": [
    "### Проверим, как расшифровываются данные:"
   ]
  },
  {
   "cell_type": "code",
   "execution_count": 13,
   "metadata": {},
   "outputs": [
    {
     "data": {
      "text/html": [
       "<div>\n",
       "<style scoped>\n",
       "    .dataframe tbody tr th:only-of-type {\n",
       "        vertical-align: middle;\n",
       "    }\n",
       "\n",
       "    .dataframe tbody tr th {\n",
       "        vertical-align: top;\n",
       "    }\n",
       "\n",
       "    .dataframe thead th {\n",
       "        text-align: right;\n",
       "    }\n",
       "</style>\n",
       "<table border=\"1\" class=\"dataframe\">\n",
       "  <thead>\n",
       "    <tr style=\"text-align: right;\">\n",
       "      <th></th>\n",
       "      <th>0</th>\n",
       "      <th>1</th>\n",
       "      <th>2</th>\n",
       "      <th>3</th>\n",
       "    </tr>\n",
       "  </thead>\n",
       "  <tbody>\n",
       "    <tr>\n",
       "      <th>0</th>\n",
       "      <td>1.0</td>\n",
       "      <td>41.0</td>\n",
       "      <td>49600.0</td>\n",
       "      <td>1.0</td>\n",
       "    </tr>\n",
       "    <tr>\n",
       "      <th>1</th>\n",
       "      <td>0.0</td>\n",
       "      <td>46.0</td>\n",
       "      <td>38000.0</td>\n",
       "      <td>1.0</td>\n",
       "    </tr>\n",
       "    <tr>\n",
       "      <th>2</th>\n",
       "      <td>0.0</td>\n",
       "      <td>29.0</td>\n",
       "      <td>21000.0</td>\n",
       "      <td>-0.0</td>\n",
       "    </tr>\n",
       "    <tr>\n",
       "      <th>3</th>\n",
       "      <td>0.0</td>\n",
       "      <td>21.0</td>\n",
       "      <td>41700.0</td>\n",
       "      <td>2.0</td>\n",
       "    </tr>\n",
       "    <tr>\n",
       "      <th>4</th>\n",
       "      <td>1.0</td>\n",
       "      <td>28.0</td>\n",
       "      <td>26100.0</td>\n",
       "      <td>-0.0</td>\n",
       "    </tr>\n",
       "  </tbody>\n",
       "</table>\n",
       "</div>"
      ],
      "text/plain": [
       "     0     1        2    3\n",
       "0  1.0  41.0  49600.0  1.0\n",
       "1  0.0  46.0  38000.0  1.0\n",
       "2  0.0  29.0  21000.0 -0.0\n",
       "3  0.0  21.0  41700.0  2.0\n",
       "4  1.0  28.0  26100.0 -0.0"
      ]
     },
     "metadata": {},
     "output_type": "display_data"
    },
    {
     "data": {
      "text/html": [
       "<div>\n",
       "<style scoped>\n",
       "    .dataframe tbody tr th:only-of-type {\n",
       "        vertical-align: middle;\n",
       "    }\n",
       "\n",
       "    .dataframe tbody tr th {\n",
       "        vertical-align: top;\n",
       "    }\n",
       "\n",
       "    .dataframe thead th {\n",
       "        text-align: right;\n",
       "    }\n",
       "</style>\n",
       "<table border=\"1\" class=\"dataframe\">\n",
       "  <thead>\n",
       "    <tr style=\"text-align: right;\">\n",
       "      <th></th>\n",
       "      <th>Пол</th>\n",
       "      <th>Возраст</th>\n",
       "      <th>Зарплата</th>\n",
       "      <th>Члены семьи</th>\n",
       "    </tr>\n",
       "  </thead>\n",
       "  <tbody>\n",
       "    <tr>\n",
       "      <th>0</th>\n",
       "      <td>1</td>\n",
       "      <td>41.0</td>\n",
       "      <td>49600.0</td>\n",
       "      <td>1</td>\n",
       "    </tr>\n",
       "    <tr>\n",
       "      <th>1</th>\n",
       "      <td>0</td>\n",
       "      <td>46.0</td>\n",
       "      <td>38000.0</td>\n",
       "      <td>1</td>\n",
       "    </tr>\n",
       "    <tr>\n",
       "      <th>2</th>\n",
       "      <td>0</td>\n",
       "      <td>29.0</td>\n",
       "      <td>21000.0</td>\n",
       "      <td>0</td>\n",
       "    </tr>\n",
       "    <tr>\n",
       "      <th>3</th>\n",
       "      <td>0</td>\n",
       "      <td>21.0</td>\n",
       "      <td>41700.0</td>\n",
       "      <td>2</td>\n",
       "    </tr>\n",
       "    <tr>\n",
       "      <th>4</th>\n",
       "      <td>1</td>\n",
       "      <td>28.0</td>\n",
       "      <td>26100.0</td>\n",
       "      <td>0</td>\n",
       "    </tr>\n",
       "  </tbody>\n",
       "</table>\n",
       "</div>"
      ],
      "text/plain": [
       "   Пол  Возраст  Зарплата  Члены семьи\n",
       "0    1     41.0   49600.0            1\n",
       "1    0     46.0   38000.0            1\n",
       "2    0     29.0   21000.0            0\n",
       "3    0     21.0   41700.0            2\n",
       "4    1     28.0   26100.0            0"
      ]
     },
     "metadata": {},
     "output_type": "display_data"
    },
    {
     "name": "stdout",
     "output_type": "stream",
     "text": [
      "Данные идентичны\n"
     ]
    }
   ],
   "source": [
    "features_restored = pd.DataFrame(features_encode @ inverse_matrix).round()\n",
    "display(features_restored.head(5))\n",
    "display(features.head(5))\n",
    "\n",
    "if np.allclose(features.astype(np.float64), features_restored.astype(np.float64), rtol=1e-3):\n",
    "    print('Данные идентичны')\n",
    "else:\n",
    "    print('Данные отличаются')"
   ]
  },
  {
   "cell_type": "markdown",
   "metadata": {},
   "source": [
    "## Вывод:"
   ]
  },
  {
   "cell_type": "markdown",
   "metadata": {},
   "source": [
    "**При выполнении проекта мы:**\n",
    "- Изучили данные и посмотрели на распределение признаков\n",
    "- Обосновали неизменность качества линейной регрессии при умножении признаков на обратимую мвтрицу\n",
    "- Предложили и обосновали алгоритм преобразования данных для решения задачи. \n",
    "- Реализовали алгоритм в коде, применив метрику R2\n",
    "\n",
    "**Метрика R2 не изменилась при умножении признаков на обратимую матрицу**\n",
    "\n",
    "**Данные после дешифровки методом умножения на обратную матрицу идентичны исходным**"
   ]
  },
  {
   "cell_type": "markdown",
   "metadata": {},
   "source": [
    "## Чек-лист проверки"
   ]
  },
  {
   "cell_type": "markdown",
   "metadata": {},
   "source": [
    "Поставьте 'x' в выполненных пунктах. Далее нажмите Shift+Enter."
   ]
  },
  {
   "cell_type": "markdown",
   "metadata": {},
   "source": [
    "- [x]  Jupyter Notebook открыт\n",
    "- [x]  Весь код выполняется без ошибок\n",
    "- [x]  Ячейки с кодом расположены в порядке исполнения\n",
    "- [x]  Выполнен шаг 1: данные загружены\n",
    "- [x]  Выполнен шаг 2: получен ответ на вопрос об умножении матриц\n",
    "    - [x]  Указан правильный вариант ответа\n",
    "    - [x]  Вариант обоснован\n",
    "- [x]  Выполнен шаг 3: предложен алгоритм преобразования\n",
    "    - [x]  Алгоритм описан\n",
    "    - [x]  Алгоритм обоснован\n",
    "- [x]  Выполнен шаг 4: алгоритм проверен\n",
    "    - [x]  Алгоритм реализован\n",
    "    - [x]  Проведено сравнение качества моделей до и после преобразования"
   ]
  }
 ],
 "metadata": {
  "celltoolbar": "Отсутствует",
  "kernelspec": {
   "display_name": "Python 3 (ipykernel)",
   "language": "python",
   "name": "python3"
  },
  "language_info": {
   "codemirror_mode": {
    "name": "ipython",
    "version": 3
   },
   "file_extension": ".py",
   "mimetype": "text/x-python",
   "name": "python",
   "nbconvert_exporter": "python",
   "pygments_lexer": "ipython3",
   "version": "3.9.13"
  },
  "toc": {
   "base_numbering": 1,
   "nav_menu": {},
   "number_sections": true,
   "sideBar": true,
   "skip_h1_title": true,
   "title_cell": "Содержание",
   "title_sidebar": "Contents",
   "toc_cell": true,
   "toc_position": {
    "height": "calc(100% - 180px)",
    "left": "10px",
    "top": "150px",
    "width": "269.225px"
   },
   "toc_section_display": true,
   "toc_window_display": false
  },
  "varInspector": {
   "cols": {
    "lenName": 16,
    "lenType": 16,
    "lenVar": 40
   },
   "kernels_config": {
    "python": {
     "delete_cmd_postfix": "",
     "delete_cmd_prefix": "del ",
     "library": "var_list.py",
     "varRefreshCmd": "print(var_dic_list())"
    },
    "r": {
     "delete_cmd_postfix": ") ",
     "delete_cmd_prefix": "rm(",
     "library": "var_list.r",
     "varRefreshCmd": "cat(var_dic_list()) "
    }
   },
   "oldHeight": 135.65,
   "position": {
    "height": "157.25px",
    "left": "1235.2px",
    "right": "20px",
    "top": "30px",
    "width": "292.8px"
   },
   "types_to_exclude": [
    "module",
    "function",
    "builtin_function_or_method",
    "instance",
    "_Feature"
   ],
   "varInspector_section_display": "block",
   "window_display": false
  }
 },
 "nbformat": 4,
 "nbformat_minor": 2
}
