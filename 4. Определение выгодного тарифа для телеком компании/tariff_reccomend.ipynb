{
 "cells": [
  {
   "cell_type": "markdown",
   "metadata": {
    "pycharm": {
     "name": "#%% md\n"
    }
   },
   "source": [
    "# Рекомендация тарифов"
   ]
  },
  {
   "cell_type": "markdown",
   "metadata": {
    "pycharm": {
     "name": "#%% md\n"
    }
   },
   "source": [
    "В вашем распоряжении данные о поведении клиентов, которые уже перешли на эти тарифы (из проекта курса «Статистический анализ данных»). Нужно построить модель для задачи классификации, которая выберет подходящий тариф. Предобработка данных не понадобится — вы её уже сделали.\n",
    "\n",
    "Постройте модель с максимально большим значением *accuracy*. Чтобы сдать проект успешно, нужно довести долю правильных ответов по крайней мере до 0.75. Проверьте *accuracy* на тестовой выборке самостоятельно."
   ]
  },
  {
   "cell_type": "markdown",
   "metadata": {
    "collapsed": false,
    "pycharm": {
     "name": "#%% md\n"
    }
   },
   "source": [
    "**Описание данных:**\n",
    "\n",
    "Каждый объект в наборе данных — это информация о поведении одного пользователя за месяц. Известно:\n",
    "- сalls — количество звонков,\n",
    "- minutes — суммарная длительность звонков в минутах,\n",
    "- messages — количество sms-сообщений,\n",
    "- mb_used — израсходованный интернет-трафик в Мб,\n",
    "- is_ultra — каким тарифом пользовался в течение месяца («Ультра» — 1, «Смарт» — 0)."
   ]
  },
  {
   "cell_type": "markdown",
   "metadata": {
    "pycharm": {
     "name": "#%% md\n"
    }
   },
   "source": [
    "## Откройте и изучите файл"
   ]
  },
  {
   "cell_type": "markdown",
   "metadata": {
    "pycharm": {
     "name": "#%% md\n"
    }
   },
   "source": [
    "**Подключим необходимые библиотеки и настройки:**"
   ]
  },
  {
   "cell_type": "code",
   "execution_count": 1,
   "metadata": {
    "pycharm": {
     "name": "#%%\n"
    }
   },
   "outputs": [],
   "source": [
    "import pandas as pd\n",
    "import seaborn as sns\n",
    "import matplotlib.pyplot as plt\n",
    "import numpy as np\n",
    "\n",
    "from sklearn.tree import DecisionTreeClassifier\n",
    "from sklearn.ensemble import RandomForestClassifier \n",
    "from sklearn.linear_model import LogisticRegression\n",
    "\n",
    "from sklearn.model_selection import train_test_split\n",
    "from sklearn.model_selection import GridSearchCV\n",
    "from sklearn.model_selection import cross_val_score\n",
    "from sklearn.dummy import DummyClassifier\n",
    "import time\n",
    "#from sklearn.metrics import accuracy_score"
   ]
  },
  {
   "cell_type": "markdown",
   "metadata": {
    "pycharm": {
     "name": "#%% md\n"
    }
   },
   "source": [
    "**Загрузим датафрейм:**"
   ]
  },
  {
   "cell_type": "code",
   "execution_count": 2,
   "metadata": {
    "pycharm": {
     "name": "#%%\n"
    }
   },
   "outputs": [],
   "source": [
    "try:\n",
    "    data = pd.read_csv('users_behavior.csv')\n",
    "except:\n",
    "    data = pd.read_csv('users_behavior.csv')"
   ]
  },
  {
   "cell_type": "markdown",
   "metadata": {
    "pycharm": {
     "name": "#%% md\n"
    }
   },
   "source": [
    "**Создадим и применим функцию функцию, которая будет на вход принимать датафрейм, а на выходе будет выводить все необходимые характеристики поочередно применяя методы:**"
   ]
  },
  {
   "cell_type": "code",
   "execution_count": 3,
   "metadata": {
    "pycharm": {
     "name": "#%%\n"
    }
   },
   "outputs": [],
   "source": [
    "def data_info(dataframe):\n",
    "    print(\"Характеристики датафрейма:\")\n",
    "    print(\"-\"*100)\n",
    "    print('Выведем общую информацию по датафрейму:')\n",
    "    print(data.info())\n",
    "    print(\"-\"*100)\n",
    "    print('Выведем первые 10 строк')\n",
    "    print(data.head(10))\n",
    "    print(\"-\"*100)\n",
    "    print('Выведем последние 10 строк')\n",
    "    print(data.tail(10))\n",
    "    print(\"-\"*100)\n",
    "    print('Посмотрим пропуски')\n",
    "    print(data.isnull().sum().sort_values(ascending=False))\n",
    "    print(\"-\"*100)\n",
    "    print('Посмотрим на описание датафрейма')\n",
    "    print(data.describe())\n",
    "    print(\"-\"*100)\n",
    "    print('Количество дубликатов:')\n",
    "    print(data.duplicated().sum())"
   ]
  },
  {
   "cell_type": "code",
   "execution_count": 4,
   "metadata": {
    "pycharm": {
     "name": "#%%\n"
    },
    "scrolled": false
   },
   "outputs": [
    {
     "name": "stdout",
     "output_type": "stream",
     "text": [
      "Характеристики датафрейма:\n",
      "----------------------------------------------------------------------------------------------------\n",
      "Выведем общую информацию по датафрейму:\n",
      "<class 'pandas.core.frame.DataFrame'>\n",
      "RangeIndex: 3214 entries, 0 to 3213\n",
      "Data columns (total 5 columns):\n",
      " #   Column    Non-Null Count  Dtype  \n",
      "---  ------    --------------  -----  \n",
      " 0   calls     3214 non-null   float64\n",
      " 1   minutes   3214 non-null   float64\n",
      " 2   messages  3214 non-null   float64\n",
      " 3   mb_used   3214 non-null   float64\n",
      " 4   is_ultra  3214 non-null   int64  \n",
      "dtypes: float64(4), int64(1)\n",
      "memory usage: 125.7 KB\n",
      "None\n",
      "----------------------------------------------------------------------------------------------------\n",
      "Выведем первые 10 строк\n",
      "   calls  minutes  messages   mb_used  is_ultra\n",
      "0   40.0   311.90      83.0  19915.42         0\n",
      "1   85.0   516.75      56.0  22696.96         0\n",
      "2   77.0   467.66      86.0  21060.45         0\n",
      "3  106.0   745.53      81.0   8437.39         1\n",
      "4   66.0   418.74       1.0  14502.75         0\n",
      "5   58.0   344.56      21.0  15823.37         0\n",
      "6   57.0   431.64      20.0   3738.90         1\n",
      "7   15.0   132.40       6.0  21911.60         0\n",
      "8    7.0    43.39       3.0   2538.67         1\n",
      "9   90.0   665.41      38.0  17358.61         0\n",
      "----------------------------------------------------------------------------------------------------\n",
      "Выведем последние 10 строк\n",
      "      calls  minutes  messages   mb_used  is_ultra\n",
      "3204   86.0   658.66      47.0  14153.10         0\n",
      "3205   59.0   412.81      16.0  14105.03         0\n",
      "3206   76.0   586.51      54.0  14345.74         0\n",
      "3207   17.0    92.39       2.0   4299.25         0\n",
      "3208  164.0  1016.98      71.0  17787.52         1\n",
      "3209  122.0   910.98      20.0  35124.90         1\n",
      "3210   25.0   190.36       0.0   3275.61         0\n",
      "3211   97.0   634.44      70.0  13974.06         0\n",
      "3212   64.0   462.32      90.0  31239.78         0\n",
      "3213   80.0   566.09       6.0  29480.52         1\n",
      "----------------------------------------------------------------------------------------------------\n",
      "Посмотрим пропуски\n",
      "calls       0\n",
      "minutes     0\n",
      "messages    0\n",
      "mb_used     0\n",
      "is_ultra    0\n",
      "dtype: int64\n",
      "----------------------------------------------------------------------------------------------------\n",
      "Посмотрим на описание датафрейма\n",
      "             calls      minutes     messages       mb_used     is_ultra\n",
      "count  3214.000000  3214.000000  3214.000000   3214.000000  3214.000000\n",
      "mean     63.038892   438.208787    38.281269  17207.673836     0.306472\n",
      "std      33.236368   234.569872    36.148326   7570.968246     0.461100\n",
      "min       0.000000     0.000000     0.000000      0.000000     0.000000\n",
      "25%      40.000000   274.575000     9.000000  12491.902500     0.000000\n",
      "50%      62.000000   430.600000    30.000000  16943.235000     0.000000\n",
      "75%      82.000000   571.927500    57.000000  21424.700000     1.000000\n",
      "max     244.000000  1632.060000   224.000000  49745.730000     1.000000\n",
      "----------------------------------------------------------------------------------------------------\n",
      "Количество дубликатов:\n",
      "0\n"
     ]
    }
   ],
   "source": [
    "data_info(data)"
   ]
  },
  {
   "cell_type": "code",
   "execution_count": 5,
   "metadata": {
    "pycharm": {
     "name": "#%%\n"
    },
    "scrolled": true
   },
   "outputs": [
    {
     "data": {
      "image/png": "[encoded data removed]",
      "text/plain": [
       "<Figure size 432x288 with 2 Axes>"
      ]
     },
     "metadata": {
      "needs_background": "light"
     },
     "output_type": "display_data"
    }
   ],
   "source": [
    "sns.heatmap(data.corr(),annot=True, linewidth=.5, cmap='crest');"
   ]
  },
  {
   "cell_type": "markdown",
   "metadata": {
    "pycharm": {
     "name": "#%% md\n"
    }
   },
   "source": [
    "**Выводы:**\n",
    "\n",
    "- В датафрейме 5 столбцов и 3214 строк.\n",
    "- Столбцы:\n",
    "    - сalls — количество звонков,\n",
    "    - minutes — суммарная длительность звонков в минутах,\n",
    "    - messages — количество sms-сообщений,\n",
    "    - mb_used — израсходованный интернет-трафик в Мб,\n",
    "    содержат числовые признаки.\n",
    "- Столбец is_ultra — каким тарифом пользовался в течение месяца («Ультра» — 1, «Смарт» — 0) - содержит категориальные признаки.\n",
    "- Пропусков и дубликатов нет.\n",
    "- Высокая степень корреляции между признаками calls и minutes может негативно повлиять на качество модели, если между ними есть зависимость. Посмотрим зависимы ли признаки между собой, обучив модель по полным данным, без стобца calls и без столбца minutes."
   ]
  },
  {
   "cell_type": "markdown",
   "metadata": {
    "pycharm": {
     "name": "#%% md\n"
    }
   },
   "source": [
    "**Посмотрим на целевой признак - столбец is_ultra:**"
   ]
  },
  {
   "cell_type": "code",
   "execution_count": 6,
   "metadata": {
    "pycharm": {
     "name": "#%%\n"
    }
   },
   "outputs": [
    {
     "data": {
      "text/plain": [
       "0    0.69\n",
       "1    0.31\n",
       "Name: is_ultra, dtype: float64"
      ]
     },
     "execution_count": 6,
     "metadata": {},
     "output_type": "execute_result"
    }
   ],
   "source": [
    "data['is_ultra'].value_counts(normalize=True).round(2)"
   ]
  },
  {
   "cell_type": "markdown",
   "metadata": {
    "pycharm": {
     "name": "#%% md\n"
    }
   },
   "source": [
    "Если рекомендовать тариф «Ультра», в 69% случаев мы окажемся правы."
   ]
  },
  {
   "cell_type": "markdown",
   "metadata": {
    "pycharm": {
     "name": "#%% md\n"
    }
   },
   "source": [
    "## Разбейте данные на выборки"
   ]
  },
  {
   "cell_type": "markdown",
   "metadata": {
    "pycharm": {
     "name": "#%% md\n"
    }
   },
   "source": [
    "Посколько отдельной тестовой выборки мы не имеем, будем разбивать датасет на 3 части в соотношении 3:1:1 (60% обучающая выборка, 20% валидационная и 20% тестовая)."
   ]
  },
  {
   "cell_type": "markdown",
   "metadata": {
    "pycharm": {
     "name": "#%% md\n"
    }
   },
   "source": [
    "Извлечем признаки:"
   ]
  },
  {
   "cell_type": "code",
   "execution_count": 7,
   "metadata": {
    "pycharm": {
     "name": "#%%\n"
    }
   },
   "outputs": [],
   "source": [
    "features = data.drop(['is_ultra'], axis=1)"
   ]
  },
  {
   "cell_type": "markdown",
   "metadata": {
    "pycharm": {
     "name": "#%% md\n"
    }
   },
   "source": [
    "Извлечем целевой признак:"
   ]
  },
  {
   "cell_type": "code",
   "execution_count": 8,
   "metadata": {
    "pycharm": {
     "name": "#%%\n"
    }
   },
   "outputs": [],
   "source": [
    "target = data['is_ultra']"
   ]
  },
  {
   "cell_type": "markdown",
   "metadata": {
    "pycharm": {
     "name": "#%% md\n"
    }
   },
   "source": [
    "Отделим обучающую выборку:"
   ]
  },
  {
   "cell_type": "code",
   "execution_count": 9,
   "metadata": {
    "pycharm": {
     "name": "#%%\n"
    }
   },
   "outputs": [],
   "source": [
    "features_train, features_valid, target_train, target_valid = train_test_split(\n",
    "    features, target, test_size=0.40, random_state=12345, stratify=target)"
   ]
  },
  {
   "cell_type": "markdown",
   "metadata": {
    "pycharm": {
     "name": "#%% md\n"
    }
   },
   "source": [
    "Разделим оставшиеся данные пополам для тестовой валидационной и тестовой выборки:"
   ]
  },
  {
   "cell_type": "code",
   "execution_count": 10,
   "metadata": {
    "pycharm": {
     "name": "#%%\n"
    }
   },
   "outputs": [],
   "source": [
    "features_valid, features_test, target_valid, target_test = train_test_split(\n",
    "    features_valid, target_valid, test_size=0.50, random_state=12345, stratify=target_valid)"
   ]
  },
  {
   "cell_type": "markdown",
   "metadata": {
    "pycharm": {
     "name": "#%% md\n"
    }
   },
   "source": [
    "Проверим разделение:"
   ]
  },
  {
   "cell_type": "code",
   "execution_count": 11,
   "metadata": {
    "pycharm": {
     "name": "#%%\n"
    }
   },
   "outputs": [
    {
     "name": "stdout",
     "output_type": "stream",
     "text": [
      "Количество строк и столбцов в обучающей выборке: (1928, 4) , что составляет 60 % от данных.\n",
      "Количество строк и столбцов в валидационной выборке: (643, 4) , что составляет 20 % от данных.\n",
      "Количество строк и столбцов в тестовой выборке: (643, 4) , что составляет 20 % от данных.\n"
     ]
    }
   ],
   "source": [
    "(\n",
    "print('Количество строк и столбцов в обучающей выборке:',features_train.shape, \n",
    "      ', что составляет', round(len(features_train)/len(data)*100,), '% от данных.')\n",
    ")\n",
    "(\n",
    "print('Количество строк и столбцов в валидационной выборке:',features_valid.shape,\n",
    "      ', что составляет', round(len(features_valid)/len(data)*100,), '% от данных.')\n",
    ")\n",
    "(\n",
    "print('Количество строк и столбцов в тестовой выборке:',features_test.shape,\n",
    "      ', что составляет', round(len(features_test)/len(data)*100,), '% от данных.')\n",
    ")"
   ]
  },
  {
   "cell_type": "markdown",
   "metadata": {
    "pycharm": {
     "name": "#%% md\n"
    }
   },
   "source": [
    "Для проверки влияния на качество модели корреляции calls и minutes, сделаем набор выборок без них:"
   ]
  },
  {
   "cell_type": "code",
   "execution_count": 12,
   "metadata": {
    "pycharm": {
     "name": "#%%\n"
    }
   },
   "outputs": [],
   "source": [
    "features_train_without_calls = features_train.drop('calls', axis=1)\n",
    "features_valid_without_calls = features_valid.drop('calls', axis=1)\n",
    "\n",
    "features_train_without_minutes = features_train.drop('minutes', axis=1)\n",
    "features_valid_without_minutes = features_valid.drop('minutes', axis=1)"
   ]
  },
  {
   "cell_type": "markdown",
   "metadata": {
    "pycharm": {
     "name": "#%% md\n"
    }
   },
   "source": [
    "Запишем выборки в словари:"
   ]
  },
  {
   "cell_type": "code",
   "execution_count": 13,
   "metadata": {
    "pycharm": {
     "name": "#%%\n"
    }
   },
   "outputs": [],
   "source": [
    "train_sample = {\n",
    "    'sample': features_train,\n",
    "    'sample_without_calls': features_train_without_calls,\n",
    "    'sample_without_minutes': features_train_without_minutes,\n",
    "}\n",
    "\n",
    "valid_sample = {\n",
    "    'sample': features_valid,\n",
    "    'sample_without_calls': features_valid_without_calls,\n",
    "    'sample_without_minutes': features_valid_without_minutes,\n",
    "}"
   ]
  },
  {
   "cell_type": "markdown",
   "metadata": {
    "pycharm": {
     "name": "#%% md\n"
    }
   },
   "source": [
    "**Вывод:**\n",
    "\n",
    "Датасет поделен, приступим к исследованию моделей."
   ]
  },
  {
   "cell_type": "markdown",
   "metadata": {
    "pycharm": {
     "name": "#%% md\n"
    }
   },
   "source": [
    "## Исследуйте модели"
   ]
  },
  {
   "cell_type": "markdown",
   "metadata": {
    "pycharm": {
     "name": "#%% md\n"
    }
   },
   "source": [
    "Выберем для исследования следующие классификаторы:\n",
    "- DecisionTreeClassifier (Дерево решений)\n",
    "- RandomForestClassifier (Случайный лес)\n",
    "- LogisticRegression (Логистическая регрессия)\n",
    "\n",
    "\n",
    "Посмотрим на эти классификаторы с разными гиперпараметрами и выберем наилучшие варианты для каждого классификатора. \n",
    "Для подбора гиперпараметров будем пользоваться GridSearchCV. Он находит наилучшие гиперпараметры путем перебора."
   ]
  },
  {
   "cell_type": "markdown",
   "metadata": {
    "pycharm": {
     "name": "#%% md\n"
    }
   },
   "source": [
    "**DecisionTreeClassifier (Дерево решений)**"
   ]
  },
  {
   "cell_type": "markdown",
   "metadata": {
    "pycharm": {
     "name": "#%% md\n"
    }
   },
   "source": [
    "В качестве основных гиперпараметров для DecisionTreeClassifier возьмем:\n",
    "- max_depth - определяет максимальную глубину дерева.\n",
    "- min_samples_split - определяет минимальное число объектов в узле дерева, достаточное для дальнейшего разделения.\n",
    "- min_samples_leaf - определяет минимальное число объектов в листьях дерева."
   ]
  },
  {
   "cell_type": "markdown",
   "metadata": {
    "pycharm": {
     "name": "#%% md\n"
    }
   },
   "source": [
    "Создадим функцию, которая возвращает наилучшие гиперпараметры для DecisionTreeClassifier с помощью GridSearchCV\n",
    "- features - признаки\n",
    "- target - целевая переменная"
   ]
  },
  {
   "cell_type": "code",
   "execution_count": 14,
   "metadata": {
    "pycharm": {
     "name": "#%%\n"
    }
   },
   "outputs": [],
   "source": [
    "def get_dt_params(features, target):\n",
    "    model = DecisionTreeClassifier(random_state=12345)\n",
    "    \n",
    "    max_depth = range(1,10)\n",
    "    min_samples_split = range(2,20)\n",
    "    min_samples_leaf = range(1,20)\n",
    "    \n",
    "    params = {'max_depth': max_depth,\n",
    "            'min_samples_split': min_samples_split,\n",
    "            'min_samples_leaf': min_samples_leaf}\n",
    "    \n",
    "    dt_search = GridSearchCV(model, params, cv=5)\n",
    "    dt_search.fit(features, target)\n",
    "    return dt_search.best_params_"
   ]
  },
  {
   "cell_type": "markdown",
   "metadata": {
    "pycharm": {
     "name": "#%% md\n"
    }
   },
   "source": [
    "Создадим функцию, которая возвращает accuracy и обученную модель DecisionTreeClassifier\n",
    "- params - гиперпараметры\n",
    "- features - признаки\n",
    "- target - целевая переменна"
   ]
  },
  {
   "cell_type": "code",
   "execution_count": 15,
   "metadata": {
    "pycharm": {
     "name": "#%%\n"
    }
   },
   "outputs": [],
   "source": [
    "def get_dt_score(params, features, target):\n",
    "    model = DecisionTreeClassifier(random_state=12345, **params)\n",
    "    model.fit(features, target)\n",
    "    score = model.score(features, target)\n",
    "    return score, model"
   ]
  },
  {
   "cell_type": "code",
   "execution_count": 16,
   "metadata": {
    "pycharm": {
     "name": "#%%\n"
    },
    "scrolled": true
   },
   "outputs": [
    {
     "name": "stdout",
     "output_type": "stream",
     "text": [
      "sample 0.8174273858921162\n",
      "{'max_depth': 6, 'min_samples_leaf': 7, 'min_samples_split': 18} \n",
      "\n",
      "sample_without_calls 0.8257261410788381\n",
      "{'max_depth': 7, 'min_samples_leaf': 3, 'min_samples_split': 18} \n",
      "\n",
      "sample_without_minutes 0.8335062240663901\n",
      "{'max_depth': 8, 'min_samples_leaf': 7, 'min_samples_split': 15} \n",
      "\n",
      "Время работы модели: 288.91184663772583\n"
     ]
    }
   ],
   "source": [
    "start = time.time() # старт таймера\n",
    "\n",
    "dt_result = dict()\n",
    "for name, data in train_sample.items():\n",
    "    best_params = get_dt_params(data, target_train)\n",
    "    score, model = get_dt_score(best_params, data, target_train)\n",
    "    \n",
    "    dt_result[name] = (model, score)\n",
    "    \n",
    "    print(name, score)\n",
    "    print(best_params, '\\n')\n",
    "\n",
    "end = time.time() - start # стоп таймера\n",
    "print('Время работы модели:', end)"
   ]
  },
  {
   "cell_type": "markdown",
   "metadata": {
    "pycharm": {
     "name": "#%% md\n"
    }
   },
   "source": [
    "Наличие или отсутствие столбцов call и minutes кардинально не влияет на качество модели . Оптимальные гиперпараметры для каждой из выборок - различны."
   ]
  },
  {
   "cell_type": "markdown",
   "metadata": {
    "pycharm": {
     "name": "#%% md\n"
    }
   },
   "source": [
    "**RandomForestClassifier (Случайный лес)**"
   ]
  },
  {
   "cell_type": "markdown",
   "metadata": {
    "pycharm": {
     "name": "#%% md\n"
    }
   },
   "source": [
    "В качестве основных гиперпараметров для RandomForestClassifier возьмем:\n",
    "\n",
    "- n_estimators - определяет количество деревьев в случайном лесу\n",
    "- max_depth - определяет максимальную глубину дерева.\n",
    "- min_samples_leaf - определяет минимальное число объектов в листьях дерева.\n",
    "- min_samples_split -определяет минимальное число объектов в узле дерева, достаточное для дальнейшего разделения.\n",
    "- max_features - определяет число признаков для выбора разделения.\n"
   ]
  },
  {
   "cell_type": "markdown",
   "metadata": {
    "pycharm": {
     "name": "#%% md\n"
    }
   },
   "source": [
    "Создадим функцию, которая возвращает наилучшие гиперпараметры для RandomForestClassifier с помощью GridSearchCV\n",
    "- features - признаки\n",
    "- target - целевая переменная"
   ]
  },
  {
   "cell_type": "code",
   "execution_count": 17,
   "metadata": {
    "pycharm": {
     "name": "#%%\n"
    }
   },
   "outputs": [],
   "source": [
    "def get_rf_params(features, target):\n",
    "    model = RandomForestClassifier(random_state=12345)\n",
    "    \n",
    "    n_estimators = range (10, 51, 10)\n",
    "    max_depth = range (1,13, 2)\n",
    "    min_samples_leaf = range (1, 4)\n",
    "    min_samples_split = range (2, 8, 2)\n",
    "    max_features = ['log2', 'sqrt']\n",
    "      \n",
    "    params = {'n_estimators': n_estimators,\n",
    "            'max_depth': max_depth,\n",
    "            'min_samples_split': min_samples_split,\n",
    "            'min_samples_leaf': min_samples_leaf,\n",
    "            'max_features': max_features}\n",
    "    \n",
    "    rf_search = GridSearchCV(model, params, cv=5)\n",
    "    rf_search.fit(features, target)\n",
    "    return rf_search.best_params_"
   ]
  },
  {
   "cell_type": "markdown",
   "metadata": {
    "pycharm": {
     "name": "#%% md\n"
    }
   },
   "source": [
    "Создадим функцию, которая возвращает accuracy и обученную модель RandomForestClassifier\n",
    "- params - гиперпараметры\n",
    "- features - признаки\n",
    "- target - целевая переменная"
   ]
  },
  {
   "cell_type": "code",
   "execution_count": 18,
   "metadata": {
    "pycharm": {
     "name": "#%%\n"
    }
   },
   "outputs": [],
   "source": [
    "def get_rf_score(params, features, target):\n",
    "    model = RandomForestClassifier(random_state=12345, **params)\n",
    "    model.fit(features, target)\n",
    "    score = model.score(features, target)\n",
    "    return score, model"
   ]
  },
  {
   "cell_type": "code",
   "execution_count": 19,
   "metadata": {
    "pycharm": {
     "name": "#%%\n"
    }
   },
   "outputs": [
    {
     "name": "stdout",
     "output_type": "stream",
     "text": [
      "sample 0.8599585062240664\n",
      "{'max_depth': 9, 'max_features': 'log2', 'min_samples_leaf': 2, 'min_samples_split': 2, 'n_estimators': 10} \n",
      "\n",
      "sample_without_calls 0.8625518672199171\n",
      "{'max_depth': 9, 'max_features': 'log2', 'min_samples_leaf': 2, 'min_samples_split': 2, 'n_estimators': 30} \n",
      "\n",
      "sample_without_minutes 0.8620331950207469\n",
      "{'max_depth': 11, 'max_features': 'log2', 'min_samples_leaf': 3, 'min_samples_split': 2, 'n_estimators': 20} \n",
      "\n",
      "Время работы модели: 610.9635608196259\n"
     ]
    }
   ],
   "source": [
    "start = time.time() # старт таймера\n",
    "\n",
    "rf_result = dict()\n",
    "for name, data in train_sample.items():\n",
    "    best_params = get_rf_params(data, target_train)\n",
    "    score, model = get_rf_score(best_params, data, target_train)\n",
    "    \n",
    "    rf_result[name] = (model, score)\n",
    "    \n",
    "    print(name, score)\n",
    "    print(best_params, '\\n') \n",
    "\n",
    "end = time.time() - start # стоп таймера\n",
    "print('Время работы модели:', end)"
   ]
  },
  {
   "cell_type": "markdown",
   "metadata": {
    "pycharm": {
     "name": "#%% md\n"
    }
   },
   "source": [
    "Также, как и в дереве решений, наличие или отсутствие столбцов call и minutes в случайном лесу кардинально не влияет на качество модели . Оптимальные гиперпараметры для каждой из выборок одинаковы в max_features и min_samples_split."
   ]
  },
  {
   "cell_type": "markdown",
   "metadata": {
    "pycharm": {
     "name": "#%% md\n"
    }
   },
   "source": [
    "**LogisticRegression (Логистическая регрессия)**"
   ]
  },
  {
   "cell_type": "markdown",
   "metadata": {
    "pycharm": {
     "name": "#%% md\n"
    }
   },
   "source": [
    "Для LogisticRegression используем cross_val_score для перекрестной проверки."
   ]
  },
  {
   "cell_type": "code",
   "execution_count": 20,
   "metadata": {
    "pycharm": {
     "name": "#%%\n"
    }
   },
   "outputs": [
    {
     "name": "stdout",
     "output_type": "stream",
     "text": [
      "sample 0.7365022542224614 \n",
      "\n",
      "sample_without_calls 0.7240643294529304 \n",
      "\n",
      "sample_without_minutes 0.7510369423322791 \n",
      "\n"
     ]
    }
   ],
   "source": [
    "lr_result = dict()\n",
    "for name, data in train_sample.items():\n",
    "    model = LogisticRegression(random_state=12345)\n",
    "    score = cross_val_score(model, data, target_train, scoring = 'accuracy').mean()\n",
    "    model.fit(data, target_train)\n",
    "    \n",
    "    lr_result[name] = (model, score)\n",
    "    \n",
    "    print(name, score, '\\n') "
   ]
  },
  {
   "cell_type": "markdown",
   "metadata": {
    "pycharm": {
     "name": "#%% md\n"
    }
   },
   "source": [
    "Как и в предущих классификаторах наличие или отсутствие столбцов call и minutes кардинально не влияет на качество модели.\n",
    "Но качество модели сильно хуже."
   ]
  },
  {
   "cell_type": "markdown",
   "metadata": {
    "pycharm": {
     "name": "#%% md\n"
    }
   },
   "source": [
    "Посмотрим на сводную таблицу:"
   ]
  },
  {
   "cell_type": "code",
   "execution_count": 21,
   "metadata": {
    "pycharm": {
     "name": "#%%\n"
    }
   },
   "outputs": [
    {
     "data": {
      "text/html": [
       "<div>\n",
       "<style scoped>\n",
       "    .dataframe tbody tr th:only-of-type {\n",
       "        vertical-align: middle;\n",
       "    }\n",
       "\n",
       "    .dataframe tbody tr th {\n",
       "        vertical-align: top;\n",
       "    }\n",
       "\n",
       "    .dataframe thead th {\n",
       "        text-align: right;\n",
       "    }\n",
       "</style>\n",
       "<table border=\"1\" class=\"dataframe\">\n",
       "  <thead>\n",
       "    <tr style=\"text-align: right;\">\n",
       "      <th></th>\n",
       "      <th>sample</th>\n",
       "      <th>sample_without_calls</th>\n",
       "      <th>sample_without_minutes</th>\n",
       "    </tr>\n",
       "  </thead>\n",
       "  <tbody>\n",
       "    <tr>\n",
       "      <th>DecisionTreeClassifier</th>\n",
       "      <td>0.817427</td>\n",
       "      <td>0.825726</td>\n",
       "      <td>0.833506</td>\n",
       "    </tr>\n",
       "    <tr>\n",
       "      <th>RandomForestClassifier</th>\n",
       "      <td>0.859959</td>\n",
       "      <td>0.862552</td>\n",
       "      <td>0.862033</td>\n",
       "    </tr>\n",
       "    <tr>\n",
       "      <th>LogisticRegression</th>\n",
       "      <td>0.736502</td>\n",
       "      <td>0.724064</td>\n",
       "      <td>0.751037</td>\n",
       "    </tr>\n",
       "  </tbody>\n",
       "</table>\n",
       "</div>"
      ],
      "text/plain": [
       "                          sample  sample_without_calls  sample_without_minutes\n",
       "DecisionTreeClassifier  0.817427              0.825726                0.833506\n",
       "RandomForestClassifier  0.859959              0.862552                0.862033\n",
       "LogisticRegression      0.736502              0.724064                0.751037"
      ]
     },
     "execution_count": 21,
     "metadata": {},
     "output_type": "execute_result"
    }
   ],
   "source": [
    "research_result = pd.DataFrame([\n",
    "    {keys:values[1] for keys,values in dt_result.items()},\n",
    "    {keys:values[1] for keys,values in rf_result.items()}, \n",
    "    {keys:values[1] for keys,values in lr_result.items()}, \n",
    "    ],\n",
    "    index = ['DecisionTreeClassifier','RandomForestClassifier', 'LogisticRegression'])\n",
    "\n",
    "research_result"
   ]
  },
  {
   "cell_type": "markdown",
   "metadata": {
    "pycharm": {
     "name": "#%% md\n"
    }
   },
   "source": [
    "**Вывод**\n",
    "\n",
    "Наилучший результат у RandomForestClassifier. Отсутствие столбцов call или minutes кардинально не влияет на качество моделей, поэтому мы можем сделать вывод, что эти признаки не зависимы."
   ]
  },
  {
   "cell_type": "code",
   "execution_count": 22,
   "metadata": {
    "pycharm": {
     "name": "#%%\n"
    }
   },
   "outputs": [
    {
     "name": "stdout",
     "output_type": "stream",
     "text": [
      "Гиперпараметры наилучшей модели: RandomForestClassifier(max_depth=9, max_features='log2', min_samples_leaf=2,\n",
      "                       n_estimators=10, random_state=12345)\n"
     ]
    }
   ],
   "source": [
    "best_model = rf_result['sample'][0]\n",
    "print('Гиперпараметры наилучшей модели:', best_model)"
   ]
  },
  {
   "cell_type": "markdown",
   "metadata": {
    "pycharm": {
     "name": "#%% md\n"
    }
   },
   "source": [
    "**Посмотрим влияние глубины деревьев на качество моделей**"
   ]
  },
  {
   "cell_type": "markdown",
   "metadata": {
    "pycharm": {
     "name": "#%% md\n"
    }
   },
   "source": [
    "Создадим функцию, которая возвращает список обученых на признаках \"Х\" и целевой переменной \"у\" моделей  с глубиной дерева от 1 до max_depth"
   ]
  },
  {
   "cell_type": "code",
   "execution_count": 23,
   "metadata": {
    "pycharm": {
     "name": "#%%\n"
    }
   },
   "outputs": [],
   "source": [
    "def model_for_max_depth(classifier, X, y, max_depth):    \n",
    "    result = []\n",
    "    for depth in range(1, max_depth):\n",
    "        model = classifier(random_state=12345, max_depth=depth)\n",
    "        model.fit(X, y)\n",
    "        result.append(model)\n",
    "    return result"
   ]
  },
  {
   "cell_type": "code",
   "execution_count": 24,
   "metadata": {
    "pycharm": {
     "name": "#%%\n"
    }
   },
   "outputs": [
    {
     "name": "stdout",
     "output_type": "stream",
     "text": [
      "Время работы модели: 23.82042384147644\n"
     ]
    }
   ],
   "source": [
    "start = time.time() # старт таймера\n",
    "\n",
    "dt_models = model_for_max_depth(DecisionTreeClassifier, features_train, target_train, 50)\n",
    "rf_models = model_for_max_depth(RandomForestClassifier, features_train, target_train, 50)\n",
    "\n",
    "dt_train_score = [model.score(features_train, target_train) for model in dt_models]\n",
    "dt_valid_score = [model.score(features_valid, target_valid) for model in dt_models]\n",
    "\n",
    "rf_train_score = [model.score(features_train, target_train) for model in rf_models]\n",
    "rf_valid_score = [model.score(features_valid, target_valid) for model in rf_models]\n",
    "\n",
    "end = time.time() - start # стоп таймера\n",
    "print('Время работы модели:', end)"
   ]
  },
  {
   "cell_type": "code",
   "execution_count": 25,
   "metadata": {
    "pycharm": {
     "name": "#%%\n"
    }
   },
   "outputs": [
    {
     "data": {
      "image/png": "[encoded data removed]",
      "text/plain": [
       "<Figure size 1152x576 with 1 Axes>"
      ]
     },
     "metadata": {
      "needs_background": "light"
     },
     "output_type": "display_data"
    }
   ],
   "source": [
    "plt.figure(figsize=(16, 8))\n",
    "plt.plot(dt_train_score)\n",
    "plt.plot(dt_valid_score)\n",
    "plt.plot(rf_train_score)\n",
    "plt.plot(rf_valid_score)\n",
    "plt.xticks(np.arange(0, 50, step=5)) \n",
    "plt.ylabel('Точность предсказания модели', fontsize=15)\n",
    "plt.xlabel('Глубина дерева', fontsize=15)\n",
    "plt.title('Зависимость точности предсказания модели от глубины дерева', fontsize=20)\n",
    "plt.legend([\n",
    "    'Качество Decision Tree на обучающей выборке', \n",
    "    'Качество Decision Tree на валидационной выборке',\n",
    "    'Качество Random Forest на обучающей выборке', \n",
    "    'Качество Random Forest на валидационной выборке',\n",
    "])\n",
    "plt.grid();"
   ]
  },
  {
   "cell_type": "markdown",
   "metadata": {
    "pycharm": {
     "name": "#%% md\n"
    }
   },
   "source": [
    "**Вывод:**\n",
    "\n",
    "- У Decision Tree точность на валидационной выборке растет до глубины 7. Далее точность резко снижается в связи с переобучением.\n",
    "- У Random Forest точность на валидационной выборке растет до глубины 5-12. Далее мы наблюдаем снижение точности на валидационной выборке. Скорее всего качество модели тоже снижается.\n",
    "- После того как точность предсказания модели у Decision Tree и Random Forest на обучающей выборке достигает единицы, разделение решающих деревьев прекращается и модель перестает изменятся.\n",
    "- Точность Random Forest выше чем Decision Tree."
   ]
  },
  {
   "cell_type": "markdown",
   "metadata": {
    "pycharm": {
     "name": "#%% md\n"
    }
   },
   "source": [
    "**Посмотрим влияние количества деревьев на качество моделей**"
   ]
  },
  {
   "cell_type": "markdown",
   "metadata": {
    "pycharm": {
     "name": "#%% md\n"
    }
   },
   "source": [
    "Создадим функцию, которая возвращает список обученых на признаках \"Х\" и целевой переменной \"у\" моделей с количеством деревьев в диапазоне от 1 до n_estimators"
   ]
  },
  {
   "cell_type": "code",
   "execution_count": 26,
   "metadata": {
    "pycharm": {
     "name": "#%%\n"
    }
   },
   "outputs": [],
   "source": [
    "def model_for_n_estimators(classifier, X, y, n_estimators):\n",
    "    models = []\n",
    "    for n_estimators in range(1, n_estimators):\n",
    "        model = classifier(random_state=12345, n_estimators=n_estimators)\n",
    "        model.fit(X, y)\n",
    "        models.append(model)\n",
    "    return models"
   ]
  },
  {
   "cell_type": "code",
   "execution_count": 27,
   "metadata": {
    "pycharm": {
     "name": "#%%\n"
    }
   },
   "outputs": [
    {
     "name": "stdout",
     "output_type": "stream",
     "text": [
      "Время работы модели: 6.7936131954193115\n"
     ]
    }
   ],
   "source": [
    "start = time.time() # старт таймера\n",
    "\n",
    "nrf_models = model_for_n_estimators(RandomForestClassifier, features_train, target_train, 51)\n",
    "\n",
    "nrf_train_score = [model.score(features_train, target_train) for model in nrf_models]\n",
    "nrf_valid_score = [model.score(features_valid, target_valid) for model in nrf_models]\n",
    "\n",
    "end = time.time() - start # стоп таймера\n",
    "print('Время работы модели:', end)"
   ]
  },
  {
   "cell_type": "code",
   "execution_count": 28,
   "metadata": {
    "pycharm": {
     "name": "#%%\n"
    }
   },
   "outputs": [
    {
     "data": {
      "image/png": "[encoded data removed]",
      "text/plain": [
       "<Figure size 1152x576 with 1 Axes>"
      ]
     },
     "metadata": {
      "needs_background": "light"
     },
     "output_type": "display_data"
    }
   ],
   "source": [
    "plt.figure(figsize=(16, 8))\n",
    "plt.plot(nrf_train_score)\n",
    "plt.plot(nrf_valid_score)\n",
    "plt.xticks(np.arange(0, 50, step=5)) \n",
    "plt.ylabel('Точность предсказания модели', fontsize=15)\n",
    "plt.xlabel('Количество деревьев', fontsize=15)\n",
    "plt.title('Зависимость точности предсказания модели от количества деревьев', fontsize=20)\n",
    "plt.legend([\n",
    "    'Качество Random Forest на обучающей выборке', \n",
    "    'Качество Random Forest на валидационной выборке'\n",
    "])\n",
    "plt.grid();"
   ]
  },
  {
   "cell_type": "markdown",
   "metadata": {
    "pycharm": {
     "name": "#%% md\n"
    }
   },
   "source": [
    "**Вывод:**\n",
    "\n",
    "- Кривая для обучающей выборки растет с увеличением количества деревьев, а кривая для валидационной выборки может начать падать, если модель начинает переобучаться. \n",
    "- Валидационная кривая начинает падать и отстает от кривой для обучающей выборки в районе 10 деревьев. \n",
    "- Мы можем сделать вывод, что дальнейшее увеличение количества деревьев приводит к переобучению модели."
   ]
  },
  {
   "cell_type": "markdown",
   "metadata": {
    "pycharm": {
     "name": "#%% md\n"
    }
   },
   "source": [
    "## Проверьте модель на тестовой выборке"
   ]
  },
  {
   "cell_type": "code",
   "execution_count": 29,
   "metadata": {
    "pycharm": {
     "name": "#%%\n"
    }
   },
   "outputs": [
    {
     "name": "stdout",
     "output_type": "stream",
     "text": [
      "Точность предсказания модели на тестовой сборке: 0.8102643856920684\n"
     ]
    }
   ],
   "source": [
    "score = best_model.score(features_test, target_test)\n",
    "print('Точность предсказания модели на тестовой сборке:', score)"
   ]
  },
  {
   "cell_type": "markdown",
   "metadata": {
    "pycharm": {
     "name": "#%% md\n"
    }
   },
   "source": [
    "**Вывод**\n",
    "\n",
    "По заданию, нам надо было довести долю правильных ответов по крайней мере до 0.75 - с чем мы справились."
   ]
  },
  {
   "cell_type": "markdown",
   "metadata": {
    "pycharm": {
     "name": "#%% md\n"
    }
   },
   "source": [
    "## (бонус) Проверьте модели на адекватность"
   ]
  },
  {
   "cell_type": "markdown",
   "metadata": {
    "pycharm": {
     "name": "#%% md\n"
    }
   },
   "source": [
    "Для проверки модели на адекватность возьмем DummyClassifier. Это классификатор,который делает прогнозы,используя простые правила. Он полезен в качестве простой основы для сравнения с другими (реальными)классификаторами.\n",
    "Используем стратегию 'most_frequent' - всегда предсказывать наиболее часто встречающуюся метку в обучающем наборе."
   ]
  },
  {
   "cell_type": "code",
   "execution_count": 30,
   "metadata": {
    "pycharm": {
     "name": "#%%\n"
    }
   },
   "outputs": [
    {
     "name": "stdout",
     "output_type": "stream",
     "text": [
      "Точность предсказания модели на тестовой сборке c DummyClassifier: 0.6936236391912908\n",
      "Точность предсказания модели на тестовой сборке c Random Forest: 0.8102643856920684\n"
     ]
    }
   ],
   "source": [
    "dummy_model = DummyClassifier(strategy='most_frequent') \n",
    "dummy_model.fit(features_train, target_train)\n",
    "dummy_score = dummy_model.score(features_test, target_test)\n",
    "print('Точность предсказания модели на тестовой сборке c DummyClassifier:', dummy_score)\n",
    "print('Точность предсказания модели на тестовой сборке c Random Forest:', score)"
   ]
  },
  {
   "cell_type": "markdown",
   "metadata": {
    "pycharm": {
     "name": "#%% md\n"
    }
   },
   "source": [
    "**Вывод:**\n",
    "\n",
    "С DummyClassifier точность предсказания модели хуже, чем с Random Forest, Decision Tree и LogisticRegression."
   ]
  },
  {
   "cell_type": "markdown",
   "metadata": {
    "pycharm": {
     "name": "#%% md\n"
    }
   },
   "source": [
    "**Обший вывод:**\n",
    "\n",
    "В этом проекте мы:\n",
    "- Загрузили необходимые библиотеки и посмотрели данные.\n",
    "- Обнаружили сильную корреляцию между признаками calls и minutes, и решили проверить влияет ли она на качество модели.\n",
    "- Разбили датасет на на 3 части в соотношении 3:1:1 (60% обучающая выборка, 20% валидационная и 20% тестовая).\n",
    "- Для проверки влияния на качество модели корреляции calls и minutes, сделали набор выборок без них.\n",
    "- Исследовали модели со следующими классификаторами:\n",
    "    - DecisionTreeClassifier (Дерево решений)\n",
    "    - RandomForestClassifier (Случайный лес)\n",
    "    - LogisticRegression (Логистическая регрессия)\n",
    "- Определили, что наличие или отсутствие столбцов call и minutes кардинально не влияет на качество модели.\n",
    "- Определили, что из 3-х классификаторов, точность предсказания модели c Random Forest самая высокая.\n",
    "    - Точность предсказания модели c Random Forest: 0.8599585062240664\n",
    "    - Точность предсказания модели c Decision Tree: 0.8174273858921162\n",
    "    - Точность предсказания модели c LogisticRegression: 0.7365022542224614\n",
    "- Посмотрели влияние глубины деревьев на качество моделей и определили, что после того как точность предсказания модели у Decision Tree и Random Forest на обучающей выборке достигает единицы, разделение решающих деревьев прекращается и модель перестает изменятся.\n",
    "- Посмотрели влияние количества деревьев на качество моделей и определили, что после десятого дерева модель начинает переобучаться.\n",
    "- Проверили модель на тестовой выборке и определили, что доля правильных ответов выше, чем миниму по заданию (0.75)\n",
    "- Проверили модели на адекватность при помощи DummyClassifier"
   ]
  }
 ],
 "metadata": {
  "ExecuteTimeLog": [
   {
    "duration": 1774,
    "start_time": "2023-04-01T16:23:24.945Z"
   },
   {
    "duration": 77,
    "start_time": "2023-04-01T16:26:12.713Z"
   },
   {
    "duration": 1774,
    "start_time": "2023-04-06T14:38:42.566Z"
   },
   {
    "duration": 317,
    "start_time": "2023-04-06T14:38:44.342Z"
   },
   {
    "duration": 0,
    "start_time": "2023-04-06T14:38:44.667Z"
   },
   {
    "duration": 0,
    "start_time": "2023-04-06T14:38:44.668Z"
   },
   {
    "duration": 1,
    "start_time": "2023-04-06T14:38:44.668Z"
   },
   {
    "duration": 0,
    "start_time": "2023-04-06T14:38:44.669Z"
   },
   {
    "duration": 0,
    "start_time": "2023-04-06T14:38:44.675Z"
   },
   {
    "duration": 0,
    "start_time": "2023-04-06T14:38:44.679Z"
   },
   {
    "duration": 0,
    "start_time": "2023-04-06T14:38:44.683Z"
   },
   {
    "duration": 0,
    "start_time": "2023-04-06T14:38:44.685Z"
   },
   {
    "duration": 0,
    "start_time": "2023-04-06T14:38:44.686Z"
   },
   {
    "duration": 0,
    "start_time": "2023-04-06T14:38:44.688Z"
   },
   {
    "duration": 0,
    "start_time": "2023-04-06T14:38:44.689Z"
   },
   {
    "duration": 0,
    "start_time": "2023-04-06T14:38:44.691Z"
   },
   {
    "duration": 0,
    "start_time": "2023-04-06T14:38:44.694Z"
   },
   {
    "duration": 0,
    "start_time": "2023-04-06T14:38:44.696Z"
   },
   {
    "duration": 0,
    "start_time": "2023-04-06T14:38:44.697Z"
   },
   {
    "duration": 0,
    "start_time": "2023-04-06T14:38:44.699Z"
   },
   {
    "duration": 0,
    "start_time": "2023-04-06T14:38:44.700Z"
   },
   {
    "duration": 0,
    "start_time": "2023-04-06T14:38:44.703Z"
   },
   {
    "duration": 0,
    "start_time": "2023-04-06T14:38:44.704Z"
   },
   {
    "duration": 0,
    "start_time": "2023-04-06T14:38:44.705Z"
   },
   {
    "duration": 0,
    "start_time": "2023-04-06T14:38:44.706Z"
   },
   {
    "duration": 0,
    "start_time": "2023-04-06T14:38:44.708Z"
   },
   {
    "duration": 0,
    "start_time": "2023-04-06T14:38:44.709Z"
   },
   {
    "duration": 0,
    "start_time": "2023-04-06T14:38:44.710Z"
   },
   {
    "duration": 1,
    "start_time": "2023-04-06T14:38:44.711Z"
   },
   {
    "duration": 229,
    "start_time": "2023-04-06T14:39:12.477Z"
   },
   {
    "duration": 1698,
    "start_time": "2023-04-06T14:39:17.765Z"
   },
   {
    "duration": 143,
    "start_time": "2023-04-06T14:39:19.469Z"
   },
   {
    "duration": 14,
    "start_time": "2023-04-06T14:39:19.614Z"
   },
   {
    "duration": 56,
    "start_time": "2023-04-06T14:39:19.629Z"
   },
   {
    "duration": 341,
    "start_time": "2023-04-06T14:39:19.687Z"
   },
   {
    "duration": 8,
    "start_time": "2023-04-06T14:39:20.030Z"
   },
   {
    "duration": 19,
    "start_time": "2023-04-06T14:39:20.040Z"
   },
   {
    "duration": 18,
    "start_time": "2023-04-06T14:39:20.060Z"
   },
   {
    "duration": 9,
    "start_time": "2023-04-06T14:39:20.079Z"
   },
   {
    "duration": 11,
    "start_time": "2023-04-06T14:39:20.089Z"
   },
   {
    "duration": 8,
    "start_time": "2023-04-06T14:39:20.102Z"
   },
   {
    "duration": 14,
    "start_time": "2023-04-06T14:39:20.111Z"
   },
   {
    "duration": 7,
    "start_time": "2023-04-06T14:39:20.126Z"
   },
   {
    "duration": 5,
    "start_time": "2023-04-06T14:39:20.135Z"
   },
   {
    "duration": 13,
    "start_time": "2023-04-06T14:39:20.141Z"
   },
   {
    "duration": 291761,
    "start_time": "2023-04-06T14:39:20.156Z"
   },
   {
    "duration": 4,
    "start_time": "2023-04-06T14:44:11.919Z"
   },
   {
    "duration": 21,
    "start_time": "2023-04-06T14:44:11.925Z"
   },
   {
    "duration": 549911,
    "start_time": "2023-04-06T14:44:11.948Z"
   },
   {
    "duration": 357,
    "start_time": "2023-04-06T14:53:21.861Z"
   },
   {
    "duration": 11,
    "start_time": "2023-04-06T14:53:22.220Z"
   },
   {
    "duration": 14,
    "start_time": "2023-04-06T14:53:22.233Z"
   },
   {
    "duration": 33,
    "start_time": "2023-04-06T14:53:22.251Z"
   },
   {
    "duration": 22822,
    "start_time": "2023-04-06T14:53:22.286Z"
   },
   {
    "duration": 291,
    "start_time": "2023-04-06T14:53:45.110Z"
   },
   {
    "duration": 12,
    "start_time": "2023-04-06T14:53:45.402Z"
   },
   {
    "duration": 7,
    "start_time": "2023-04-06T14:53:45.415Z"
   },
   {
    "duration": 9,
    "start_time": "2023-04-06T14:56:50.976Z"
   },
   {
    "duration": 260,
    "start_time": "2023-04-06T15:00:07.277Z"
   },
   {
    "duration": 47,
    "start_time": "2023-04-06T22:02:41.629Z"
   },
   {
    "duration": 1485,
    "start_time": "2023-04-06T22:02:47.947Z"
   },
   {
    "duration": 203,
    "start_time": "2023-04-06T22:08:28.548Z"
   },
   {
    "duration": 1404,
    "start_time": "2023-04-06T22:09:19.012Z"
   },
   {
    "duration": 184,
    "start_time": "2023-04-06T22:09:20.418Z"
   },
   {
    "duration": 0,
    "start_time": "2023-04-06T22:09:20.605Z"
   },
   {
    "duration": 0,
    "start_time": "2023-04-06T22:09:20.607Z"
   },
   {
    "duration": 0,
    "start_time": "2023-04-06T22:09:20.609Z"
   },
   {
    "duration": 0,
    "start_time": "2023-04-06T22:09:20.610Z"
   },
   {
    "duration": 1,
    "start_time": "2023-04-06T22:09:20.611Z"
   },
   {
    "duration": 0,
    "start_time": "2023-04-06T22:09:20.613Z"
   },
   {
    "duration": 0,
    "start_time": "2023-04-06T22:09:20.614Z"
   },
   {
    "duration": 0,
    "start_time": "2023-04-06T22:09:20.616Z"
   },
   {
    "duration": 0,
    "start_time": "2023-04-06T22:09:20.617Z"
   },
   {
    "duration": 0,
    "start_time": "2023-04-06T22:09:20.618Z"
   },
   {
    "duration": 0,
    "start_time": "2023-04-06T22:09:20.634Z"
   },
   {
    "duration": 0,
    "start_time": "2023-04-06T22:09:20.636Z"
   },
   {
    "duration": 0,
    "start_time": "2023-04-06T22:09:20.637Z"
   },
   {
    "duration": 0,
    "start_time": "2023-04-06T22:09:20.639Z"
   },
   {
    "duration": 0,
    "start_time": "2023-04-06T22:09:20.640Z"
   },
   {
    "duration": 0,
    "start_time": "2023-04-06T22:09:20.641Z"
   },
   {
    "duration": 0,
    "start_time": "2023-04-06T22:09:20.643Z"
   },
   {
    "duration": 0,
    "start_time": "2023-04-06T22:09:20.644Z"
   },
   {
    "duration": 0,
    "start_time": "2023-04-06T22:09:20.645Z"
   },
   {
    "duration": 0,
    "start_time": "2023-04-06T22:09:20.647Z"
   },
   {
    "duration": 0,
    "start_time": "2023-04-06T22:09:20.648Z"
   },
   {
    "duration": 0,
    "start_time": "2023-04-06T22:09:20.650Z"
   },
   {
    "duration": 0,
    "start_time": "2023-04-06T22:09:20.651Z"
   },
   {
    "duration": 0,
    "start_time": "2023-04-06T22:09:20.653Z"
   },
   {
    "duration": 0,
    "start_time": "2023-04-06T22:09:20.654Z"
   },
   {
    "duration": 138,
    "start_time": "2023-04-06T22:10:50.915Z"
   },
   {
    "duration": 1356,
    "start_time": "2023-04-06T22:11:02.116Z"
   },
   {
    "duration": 64,
    "start_time": "2023-04-06T22:11:03.474Z"
   },
   {
    "duration": 4,
    "start_time": "2023-04-06T22:11:03.540Z"
   },
   {
    "duration": 118,
    "start_time": "2023-04-06T22:11:03.545Z"
   },
   {
    "duration": 0,
    "start_time": "2023-04-06T22:11:03.665Z"
   },
   {
    "duration": 0,
    "start_time": "2023-04-06T22:11:03.666Z"
   },
   {
    "duration": 0,
    "start_time": "2023-04-06T22:11:03.667Z"
   },
   {
    "duration": 0,
    "start_time": "2023-04-06T22:11:03.668Z"
   },
   {
    "duration": 0,
    "start_time": "2023-04-06T22:11:03.669Z"
   },
   {
    "duration": 0,
    "start_time": "2023-04-06T22:11:03.670Z"
   },
   {
    "duration": 0,
    "start_time": "2023-04-06T22:11:03.671Z"
   },
   {
    "duration": 0,
    "start_time": "2023-04-06T22:11:03.672Z"
   },
   {
    "duration": 0,
    "start_time": "2023-04-06T22:11:03.673Z"
   },
   {
    "duration": 0,
    "start_time": "2023-04-06T22:11:03.674Z"
   },
   {
    "duration": 0,
    "start_time": "2023-04-06T22:11:03.674Z"
   },
   {
    "duration": 0,
    "start_time": "2023-04-06T22:11:03.675Z"
   },
   {
    "duration": 0,
    "start_time": "2023-04-06T22:11:03.676Z"
   },
   {
    "duration": 0,
    "start_time": "2023-04-06T22:11:03.677Z"
   },
   {
    "duration": 0,
    "start_time": "2023-04-06T22:11:03.678Z"
   },
   {
    "duration": 0,
    "start_time": "2023-04-06T22:11:03.680Z"
   },
   {
    "duration": 0,
    "start_time": "2023-04-06T22:11:03.680Z"
   },
   {
    "duration": 0,
    "start_time": "2023-04-06T22:11:03.681Z"
   },
   {
    "duration": 0,
    "start_time": "2023-04-06T22:11:03.683Z"
   },
   {
    "duration": 0,
    "start_time": "2023-04-06T22:11:03.684Z"
   },
   {
    "duration": 0,
    "start_time": "2023-04-06T22:11:03.685Z"
   },
   {
    "duration": 0,
    "start_time": "2023-04-06T22:11:03.686Z"
   },
   {
    "duration": 0,
    "start_time": "2023-04-06T22:11:03.688Z"
   },
   {
    "duration": 10,
    "start_time": "2023-04-06T22:13:12.218Z"
   },
   {
    "duration": 61,
    "start_time": "2023-04-06T22:13:44.471Z"
   },
   {
    "duration": 1361,
    "start_time": "2023-04-06T22:14:07.617Z"
   },
   {
    "duration": 65,
    "start_time": "2023-04-06T22:14:08.980Z"
   },
   {
    "duration": 4,
    "start_time": "2023-04-06T22:14:09.047Z"
   },
   {
    "duration": 51,
    "start_time": "2023-04-06T22:14:09.053Z"
   },
   {
    "duration": 370,
    "start_time": "2023-04-06T22:14:09.106Z"
   },
   {
    "duration": 7,
    "start_time": "2023-04-06T22:14:09.478Z"
   },
   {
    "duration": 27,
    "start_time": "2023-04-06T22:14:09.486Z"
   },
   {
    "duration": 16,
    "start_time": "2023-04-06T22:14:09.515Z"
   },
   {
    "duration": 18,
    "start_time": "2023-04-06T22:14:09.532Z"
   },
   {
    "duration": 12,
    "start_time": "2023-04-06T22:14:09.551Z"
   },
   {
    "duration": 28,
    "start_time": "2023-04-06T22:14:09.564Z"
   },
   {
    "duration": 25,
    "start_time": "2023-04-06T22:14:09.593Z"
   },
   {
    "duration": 21,
    "start_time": "2023-04-06T22:14:09.619Z"
   },
   {
    "duration": 22,
    "start_time": "2023-04-06T22:14:09.642Z"
   },
   {
    "duration": 22,
    "start_time": "2023-04-06T22:14:09.665Z"
   },
   {
    "duration": 246198,
    "start_time": "2023-04-06T22:14:09.689Z"
   },
   {
    "duration": 4,
    "start_time": "2023-04-06T22:18:15.889Z"
   },
   {
    "duration": 4,
    "start_time": "2023-04-06T22:18:15.895Z"
   },
   {
    "duration": 473268,
    "start_time": "2023-04-06T22:18:15.901Z"
   },
   {
    "duration": 335,
    "start_time": "2023-04-06T22:26:09.171Z"
   },
   {
    "duration": 9,
    "start_time": "2023-04-06T22:26:09.507Z"
   },
   {
    "duration": 16,
    "start_time": "2023-04-06T22:26:09.518Z"
   },
   {
    "duration": 3,
    "start_time": "2023-04-06T22:26:09.536Z"
   },
   {
    "duration": 18363,
    "start_time": "2023-04-06T22:26:09.540Z"
   },
   {
    "duration": 279,
    "start_time": "2023-04-06T22:26:27.904Z"
   },
   {
    "duration": 12,
    "start_time": "2023-04-06T22:26:28.185Z"
   },
   {
    "duration": 25,
    "start_time": "2023-04-06T22:26:28.198Z"
   },
   {
    "duration": 51,
    "start_time": "2023-04-06T22:33:35.455Z"
   },
   {
    "duration": 1307,
    "start_time": "2023-04-06T22:38:01.541Z"
   },
   {
    "duration": 72,
    "start_time": "2023-04-06T22:38:02.851Z"
   },
   {
    "duration": 4,
    "start_time": "2023-04-06T22:38:02.925Z"
   },
   {
    "duration": 43,
    "start_time": "2023-04-06T22:38:02.930Z"
   },
   {
    "duration": 315,
    "start_time": "2023-04-06T22:38:02.976Z"
   },
   {
    "duration": 6,
    "start_time": "2023-04-06T22:38:03.292Z"
   },
   {
    "duration": 3,
    "start_time": "2023-04-06T22:38:03.300Z"
   },
   {
    "duration": 5,
    "start_time": "2023-04-06T22:38:03.304Z"
   },
   {
    "duration": 111,
    "start_time": "2023-04-06T22:38:03.311Z"
   },
   {
    "duration": 0,
    "start_time": "2023-04-06T22:38:03.424Z"
   },
   {
    "duration": 0,
    "start_time": "2023-04-06T22:38:03.434Z"
   },
   {
    "duration": 0,
    "start_time": "2023-04-06T22:38:03.435Z"
   },
   {
    "duration": 0,
    "start_time": "2023-04-06T22:38:03.436Z"
   },
   {
    "duration": 0,
    "start_time": "2023-04-06T22:38:03.437Z"
   },
   {
    "duration": 0,
    "start_time": "2023-04-06T22:38:03.438Z"
   },
   {
    "duration": 0,
    "start_time": "2023-04-06T22:38:03.439Z"
   },
   {
    "duration": 0,
    "start_time": "2023-04-06T22:38:03.440Z"
   },
   {
    "duration": 0,
    "start_time": "2023-04-06T22:38:03.440Z"
   },
   {
    "duration": 0,
    "start_time": "2023-04-06T22:38:03.441Z"
   },
   {
    "duration": 0,
    "start_time": "2023-04-06T22:38:03.442Z"
   },
   {
    "duration": 0,
    "start_time": "2023-04-06T22:38:03.443Z"
   },
   {
    "duration": 0,
    "start_time": "2023-04-06T22:38:03.444Z"
   },
   {
    "duration": 0,
    "start_time": "2023-04-06T22:38:03.445Z"
   },
   {
    "duration": 0,
    "start_time": "2023-04-06T22:38:03.445Z"
   },
   {
    "duration": 0,
    "start_time": "2023-04-06T22:38:03.446Z"
   },
   {
    "duration": 0,
    "start_time": "2023-04-06T22:38:03.447Z"
   },
   {
    "duration": 0,
    "start_time": "2023-04-06T22:38:03.448Z"
   },
   {
    "duration": 1364,
    "start_time": "2023-04-06T22:40:02.480Z"
   },
   {
    "duration": 80,
    "start_time": "2023-04-06T22:40:03.846Z"
   },
   {
    "duration": 4,
    "start_time": "2023-04-06T22:40:03.928Z"
   },
   {
    "duration": 72,
    "start_time": "2023-04-06T22:40:03.934Z"
   },
   {
    "duration": 357,
    "start_time": "2023-04-06T22:40:04.008Z"
   },
   {
    "duration": 7,
    "start_time": "2023-04-06T22:40:04.367Z"
   },
   {
    "duration": 3,
    "start_time": "2023-04-06T22:40:04.376Z"
   },
   {
    "duration": 4,
    "start_time": "2023-04-06T22:40:04.381Z"
   },
   {
    "duration": 8,
    "start_time": "2023-04-06T22:40:04.386Z"
   },
   {
    "duration": 125,
    "start_time": "2023-04-06T22:40:04.397Z"
   },
   {
    "duration": 0,
    "start_time": "2023-04-06T22:40:04.524Z"
   },
   {
    "duration": 0,
    "start_time": "2023-04-06T22:40:04.525Z"
   },
   {
    "duration": 0,
    "start_time": "2023-04-06T22:40:04.526Z"
   },
   {
    "duration": 0,
    "start_time": "2023-04-06T22:40:04.534Z"
   },
   {
    "duration": 0,
    "start_time": "2023-04-06T22:40:04.536Z"
   },
   {
    "duration": 0,
    "start_time": "2023-04-06T22:40:04.537Z"
   },
   {
    "duration": 0,
    "start_time": "2023-04-06T22:40:04.538Z"
   },
   {
    "duration": 0,
    "start_time": "2023-04-06T22:40:04.539Z"
   },
   {
    "duration": 0,
    "start_time": "2023-04-06T22:40:04.540Z"
   },
   {
    "duration": 0,
    "start_time": "2023-04-06T22:40:04.541Z"
   },
   {
    "duration": 0,
    "start_time": "2023-04-06T22:40:04.543Z"
   },
   {
    "duration": 1,
    "start_time": "2023-04-06T22:40:04.543Z"
   },
   {
    "duration": 0,
    "start_time": "2023-04-06T22:40:04.545Z"
   },
   {
    "duration": 0,
    "start_time": "2023-04-06T22:40:04.545Z"
   },
   {
    "duration": 0,
    "start_time": "2023-04-06T22:40:04.547Z"
   },
   {
    "duration": 0,
    "start_time": "2023-04-06T22:40:04.548Z"
   },
   {
    "duration": 0,
    "start_time": "2023-04-06T22:40:04.549Z"
   },
   {
    "duration": 1401,
    "start_time": "2023-04-06T22:43:47.806Z"
   },
   {
    "duration": 75,
    "start_time": "2023-04-06T22:43:49.209Z"
   },
   {
    "duration": 6,
    "start_time": "2023-04-06T22:43:49.286Z"
   },
   {
    "duration": 48,
    "start_time": "2023-04-06T22:43:49.295Z"
   },
   {
    "duration": 383,
    "start_time": "2023-04-06T22:43:49.345Z"
   },
   {
    "duration": 7,
    "start_time": "2023-04-06T22:43:49.730Z"
   },
   {
    "duration": 31,
    "start_time": "2023-04-06T22:43:49.739Z"
   },
   {
    "duration": 7,
    "start_time": "2023-04-06T22:43:49.771Z"
   },
   {
    "duration": 8,
    "start_time": "2023-04-06T22:43:49.779Z"
   },
   {
    "duration": 5,
    "start_time": "2023-04-06T22:43:49.789Z"
   },
   {
    "duration": 12,
    "start_time": "2023-04-06T22:43:49.795Z"
   },
   {
    "duration": 9,
    "start_time": "2023-04-06T22:43:49.808Z"
   },
   {
    "duration": 6,
    "start_time": "2023-04-06T22:43:49.818Z"
   },
   {
    "duration": 5,
    "start_time": "2023-04-06T22:43:49.825Z"
   },
   {
    "duration": 6,
    "start_time": "2023-04-06T22:43:49.831Z"
   },
   {
    "duration": 246283,
    "start_time": "2023-04-06T22:43:49.839Z"
   },
   {
    "duration": 3,
    "start_time": "2023-04-06T22:47:56.124Z"
   },
   {
    "duration": 8,
    "start_time": "2023-04-06T22:47:56.134Z"
   },
   {
    "duration": 469304,
    "start_time": "2023-04-06T22:47:56.143Z"
   },
   {
    "duration": 401,
    "start_time": "2023-04-06T22:55:45.449Z"
   },
   {
    "duration": 10,
    "start_time": "2023-04-06T22:55:45.851Z"
   },
   {
    "duration": 8,
    "start_time": "2023-04-06T22:55:45.863Z"
   },
   {
    "duration": 5,
    "start_time": "2023-04-06T22:55:45.873Z"
   },
   {
    "duration": 18487,
    "start_time": "2023-04-06T22:55:45.879Z"
   },
   {
    "duration": 283,
    "start_time": "2023-04-06T22:56:04.368Z"
   },
   {
    "duration": 10,
    "start_time": "2023-04-06T22:56:04.654Z"
   },
   {
    "duration": 10,
    "start_time": "2023-04-06T22:56:04.667Z"
   },
   {
    "duration": 3,
    "start_time": "2023-04-06T23:32:17.520Z"
   },
   {
    "duration": 18340,
    "start_time": "2023-04-06T23:32:19.604Z"
   },
   {
    "duration": 208,
    "start_time": "2023-04-06T23:32:37.946Z"
   },
   {
    "duration": 214,
    "start_time": "2023-04-06T23:33:27.064Z"
   },
   {
    "duration": 3,
    "start_time": "2023-04-06T23:54:02.660Z"
   },
   {
    "duration": 18436,
    "start_time": "2023-04-06T23:54:03.698Z"
   },
   {
    "duration": 252,
    "start_time": "2023-04-06T23:54:22.136Z"
   },
   {
    "duration": 3,
    "start_time": "2023-04-06T23:58:50.384Z"
   },
   {
    "duration": 1735,
    "start_time": "2023-04-06T23:58:51.013Z"
   },
   {
    "duration": 230,
    "start_time": "2023-04-06T23:58:52.750Z"
   },
   {
    "duration": 4,
    "start_time": "2023-04-06T23:59:18.017Z"
   },
   {
    "duration": 18850,
    "start_time": "2023-04-06T23:59:18.675Z"
   },
   {
    "duration": 241,
    "start_time": "2023-04-06T23:59:37.527Z"
   },
   {
    "duration": 3,
    "start_time": "2023-04-07T00:00:06.683Z"
   },
   {
    "duration": 19096,
    "start_time": "2023-04-07T00:00:07.414Z"
   },
   {
    "duration": 238,
    "start_time": "2023-04-07T00:00:26.512Z"
   },
   {
    "duration": 253,
    "start_time": "2023-04-07T00:16:21.478Z"
   },
   {
    "duration": 215,
    "start_time": "2023-04-07T00:16:35.550Z"
   },
   {
    "duration": 251,
    "start_time": "2023-04-07T00:17:31.179Z"
   },
   {
    "duration": 4,
    "start_time": "2023-04-07T00:17:43.082Z"
   },
   {
    "duration": 19791,
    "start_time": "2023-04-07T00:17:43.680Z"
   },
   {
    "duration": 238,
    "start_time": "2023-04-07T00:18:03.472Z"
   },
   {
    "duration": 256,
    "start_time": "2023-04-07T00:18:11.360Z"
   },
   {
    "duration": 323,
    "start_time": "2023-04-07T00:18:30.827Z"
   },
   {
    "duration": 237,
    "start_time": "2023-04-07T00:18:38.308Z"
   },
   {
    "duration": 3,
    "start_time": "2023-04-07T00:47:42.500Z"
   },
   {
    "duration": 115,
    "start_time": "2023-04-07T00:47:43.387Z"
   },
   {
    "duration": 3,
    "start_time": "2023-04-07T00:50:05.666Z"
   },
   {
    "duration": 13,
    "start_time": "2023-04-07T00:50:09.235Z"
   },
   {
    "duration": 3,
    "start_time": "2023-04-07T00:56:56.335Z"
   },
   {
    "duration": 15,
    "start_time": "2023-04-07T00:56:57.299Z"
   },
   {
    "duration": 728,
    "start_time": "2023-04-07T01:25:59.649Z"
   },
   {
    "duration": 738,
    "start_time": "2023-04-07T01:27:34.489Z"
   },
   {
    "duration": 696,
    "start_time": "2023-04-07T01:30:51.688Z"
   },
   {
    "duration": 695,
    "start_time": "2023-04-07T01:30:56.506Z"
   },
   {
    "duration": 692,
    "start_time": "2023-04-07T01:31:22.964Z"
   },
   {
    "duration": 705,
    "start_time": "2023-04-07T01:32:06.985Z"
   },
   {
    "duration": 787,
    "start_time": "2023-04-07T01:46:51.949Z"
   },
   {
    "duration": 785,
    "start_time": "2023-04-07T01:47:55.582Z"
   },
   {
    "duration": 4,
    "start_time": "2023-04-07T01:49:29.080Z"
   },
   {
    "duration": 93,
    "start_time": "2023-04-07T01:53:03.100Z"
   },
   {
    "duration": 59,
    "start_time": "2023-04-07T01:57:27.006Z"
   },
   {
    "duration": 3,
    "start_time": "2023-04-07T01:59:01.684Z"
   },
   {
    "duration": 4,
    "start_time": "2023-04-07T02:14:10.282Z"
   },
   {
    "duration": 3,
    "start_time": "2023-04-07T02:16:51.951Z"
   },
   {
    "duration": 4414,
    "start_time": "2023-04-07T02:16:53.441Z"
   },
   {
    "duration": 831,
    "start_time": "2023-04-07T02:16:57.860Z"
   },
   {
    "duration": 220,
    "start_time": "2023-04-07T02:17:48.232Z"
   },
   {
    "duration": 3,
    "start_time": "2023-04-07T02:21:23.725Z"
   },
   {
    "duration": 435,
    "start_time": "2023-04-07T02:21:24.654Z"
   },
   {
    "duration": 79,
    "start_time": "2023-04-07T02:21:26.102Z"
   },
   {
    "duration": 208,
    "start_time": "2023-04-07T02:21:27.352Z"
   },
   {
    "duration": 10,
    "start_time": "2023-04-07T02:21:39.859Z"
   },
   {
    "duration": 9,
    "start_time": "2023-04-07T02:21:40.583Z"
   },
   {
    "duration": 282,
    "start_time": "2023-04-07T02:21:41.447Z"
   },
   {
    "duration": 362,
    "start_time": "2023-04-07T02:21:52.806Z"
   },
   {
    "duration": 92,
    "start_time": "2023-04-07T02:21:53.840Z"
   },
   {
    "duration": 233,
    "start_time": "2023-04-07T02:21:54.561Z"
   },
   {
    "duration": 1534,
    "start_time": "2023-04-07T02:22:05.895Z"
   },
   {
    "duration": 288,
    "start_time": "2023-04-07T02:22:07.431Z"
   },
   {
    "duration": 208,
    "start_time": "2023-04-07T02:22:07.720Z"
   },
   {
    "duration": 4553,
    "start_time": "2023-04-07T02:22:29.253Z"
   },
   {
    "duration": 910,
    "start_time": "2023-04-07T02:22:33.808Z"
   },
   {
    "duration": 232,
    "start_time": "2023-04-07T02:22:34.720Z"
   },
   {
    "duration": 563,
    "start_time": "2023-04-07T02:25:34.985Z"
   },
   {
    "duration": 237,
    "start_time": "2023-04-07T02:25:55.043Z"
   },
   {
    "duration": 211,
    "start_time": "2023-04-07T02:28:01.304Z"
   },
   {
    "duration": 203,
    "start_time": "2023-04-07T02:28:11.490Z"
   },
   {
    "duration": 3,
    "start_time": "2023-04-07T02:30:12.742Z"
   },
   {
    "duration": 4517,
    "start_time": "2023-04-07T02:30:13.834Z"
   },
   {
    "duration": 882,
    "start_time": "2023-04-07T02:30:18.354Z"
   },
   {
    "duration": 215,
    "start_time": "2023-04-07T02:30:19.237Z"
   },
   {
    "duration": 3,
    "start_time": "2023-04-07T02:34:02.255Z"
   },
   {
    "duration": 8,
    "start_time": "2023-04-07T02:34:03.004Z"
   },
   {
    "duration": 13,
    "start_time": "2023-04-07T02:34:50.109Z"
   },
   {
    "duration": 4,
    "start_time": "2023-04-07T02:35:54.422Z"
   },
   {
    "duration": 4449,
    "start_time": "2023-04-07T02:35:55.177Z"
   },
   {
    "duration": 1020,
    "start_time": "2023-04-07T02:35:59.636Z"
   },
   {
    "duration": 331,
    "start_time": "2023-04-07T02:36:25.440Z"
   },
   {
    "duration": 3,
    "start_time": "2023-04-07T02:38:41.615Z"
   },
   {
    "duration": 4591,
    "start_time": "2023-04-07T02:39:01.907Z"
   },
   {
    "duration": 905,
    "start_time": "2023-04-07T02:39:06.501Z"
   },
   {
    "duration": 235,
    "start_time": "2023-04-07T02:39:07.407Z"
   },
   {
    "duration": 5,
    "start_time": "2023-04-07T02:39:24.332Z"
   },
   {
    "duration": 13,
    "start_time": "2023-04-07T02:39:25.023Z"
   },
   {
    "duration": 3,
    "start_time": "2023-04-07T02:42:29.662Z"
   },
   {
    "duration": 4468,
    "start_time": "2023-04-07T02:42:30.690Z"
   },
   {
    "duration": 861,
    "start_time": "2023-04-07T02:42:35.160Z"
   },
   {
    "duration": 203,
    "start_time": "2023-04-07T02:42:36.219Z"
   },
   {
    "duration": 4,
    "start_time": "2023-04-07T02:43:53.019Z"
   },
   {
    "duration": 4504,
    "start_time": "2023-04-07T02:43:53.584Z"
   },
   {
    "duration": 875,
    "start_time": "2023-04-07T02:43:58.090Z"
   },
   {
    "duration": 214,
    "start_time": "2023-04-07T02:43:58.967Z"
   },
   {
    "duration": 4,
    "start_time": "2023-04-07T02:45:51.295Z"
   },
   {
    "duration": 3,
    "start_time": "2023-04-07T02:46:08.706Z"
   },
   {
    "duration": 12,
    "start_time": "2023-04-07T02:46:09.430Z"
   },
   {
    "duration": 55,
    "start_time": "2023-04-07T02:46:15.615Z"
   },
   {
    "duration": 3,
    "start_time": "2023-04-07T02:46:31.818Z"
   },
   {
    "duration": 3,
    "start_time": "2023-04-07T02:47:07.531Z"
   },
   {
    "duration": 4,
    "start_time": "2023-04-07T02:47:21.582Z"
   },
   {
    "duration": 5,
    "start_time": "2023-04-07T02:47:44.726Z"
   },
   {
    "duration": 13,
    "start_time": "2023-04-07T02:47:46.852Z"
   },
   {
    "duration": 3,
    "start_time": "2023-04-07T02:54:37.098Z"
   },
   {
    "duration": 2,
    "start_time": "2023-04-07T03:03:10.273Z"
   },
   {
    "duration": 3,
    "start_time": "2023-04-07T03:05:39.190Z"
   },
   {
    "duration": 12,
    "start_time": "2023-04-07T03:05:39.774Z"
   },
   {
    "duration": 4,
    "start_time": "2023-04-07T03:06:17.572Z"
   },
   {
    "duration": 13,
    "start_time": "2023-04-07T03:06:19.408Z"
   },
   {
    "duration": 3,
    "start_time": "2023-04-07T03:06:49.786Z"
   },
   {
    "duration": 8,
    "start_time": "2023-04-07T03:06:50.426Z"
   },
   {
    "duration": 3,
    "start_time": "2023-04-07T03:07:30.205Z"
   },
   {
    "duration": 9,
    "start_time": "2023-04-07T03:07:31.454Z"
   },
   {
    "duration": 8,
    "start_time": "2023-04-07T03:08:53.991Z"
   },
   {
    "duration": 3,
    "start_time": "2023-04-07T03:09:08.881Z"
   },
   {
    "duration": 9,
    "start_time": "2023-04-07T03:09:09.400Z"
   },
   {
    "duration": 4708,
    "start_time": "2023-04-07T03:10:21.405Z"
   },
   {
    "duration": 954,
    "start_time": "2023-04-07T03:10:26.116Z"
   },
   {
    "duration": 221,
    "start_time": "2023-04-07T03:10:27.072Z"
   },
   {
    "duration": 67,
    "start_time": "2023-04-07T03:11:01.214Z"
   },
   {
    "duration": 4,
    "start_time": "2023-04-07T03:11:18.161Z"
   },
   {
    "duration": 4638,
    "start_time": "2023-04-07T03:11:19.262Z"
   },
   {
    "duration": 1066,
    "start_time": "2023-04-07T03:11:23.902Z"
   },
   {
    "duration": 3,
    "start_time": "2023-04-07T03:12:19.035Z"
   },
   {
    "duration": 5621,
    "start_time": "2023-04-07T03:12:20.927Z"
   },
   {
    "duration": 220,
    "start_time": "2023-04-07T03:12:26.550Z"
   },
   {
    "duration": 3,
    "start_time": "2023-04-07T03:13:30.385Z"
   },
   {
    "duration": 5417,
    "start_time": "2023-04-07T03:13:31.052Z"
   },
   {
    "duration": 292,
    "start_time": "2023-04-07T03:13:36.471Z"
   },
   {
    "duration": 15,
    "start_time": "2023-04-07T03:21:02.731Z"
   },
   {
    "duration": 19,
    "start_time": "2023-04-07T03:21:43.134Z"
   },
   {
    "duration": 14,
    "start_time": "2023-04-07T03:21:56.242Z"
   },
   {
    "duration": 5,
    "start_time": "2023-04-07T03:22:20.083Z"
   },
   {
    "duration": 14,
    "start_time": "2023-04-07T03:22:23.844Z"
   },
   {
    "duration": 3,
    "start_time": "2023-04-07T03:31:36.453Z"
   },
   {
    "duration": 5216,
    "start_time": "2023-04-07T03:31:37.895Z"
   },
   {
    "duration": 212,
    "start_time": "2023-04-07T03:31:43.112Z"
   },
   {
    "duration": 3,
    "start_time": "2023-04-07T03:38:23.128Z"
   },
   {
    "duration": 20472,
    "start_time": "2023-04-07T03:38:23.693Z"
   },
   {
    "duration": 252,
    "start_time": "2023-04-07T03:38:44.167Z"
   },
   {
    "duration": 3,
    "start_time": "2023-04-07T03:41:11.088Z"
   },
   {
    "duration": 20879,
    "start_time": "2023-04-07T03:41:11.951Z"
   },
   {
    "duration": 244,
    "start_time": "2023-04-07T03:41:32.834Z"
   },
   {
    "duration": 5246,
    "start_time": "2023-04-07T03:42:59.820Z"
   },
   {
    "duration": 291,
    "start_time": "2023-04-07T03:43:05.067Z"
   },
   {
    "duration": 3,
    "start_time": "2023-04-07T03:43:09.790Z"
   },
   {
    "duration": 5256,
    "start_time": "2023-04-07T03:43:10.394Z"
   },
   {
    "duration": 231,
    "start_time": "2023-04-07T03:43:15.652Z"
   },
   {
    "duration": 3,
    "start_time": "2023-04-07T03:59:05.860Z"
   },
   {
    "duration": 4115,
    "start_time": "2023-04-07T03:59:07.034Z"
   },
   {
    "duration": 216,
    "start_time": "2023-04-07T03:59:11.151Z"
   },
   {
    "duration": 5,
    "start_time": "2023-04-07T03:59:44.678Z"
   },
   {
    "duration": 5409,
    "start_time": "2023-04-07T03:59:45.447Z"
   },
   {
    "duration": 1328,
    "start_time": "2023-04-07T04:22:58.631Z"
   },
   {
    "duration": 106,
    "start_time": "2023-04-07T04:22:59.961Z"
   },
   {
    "duration": 4,
    "start_time": "2023-04-07T04:23:00.069Z"
   },
   {
    "duration": 49,
    "start_time": "2023-04-07T04:23:00.075Z"
   },
   {
    "duration": 358,
    "start_time": "2023-04-07T04:23:00.126Z"
   },
   {
    "duration": 7,
    "start_time": "2023-04-07T04:23:00.485Z"
   },
   {
    "duration": 36,
    "start_time": "2023-04-07T04:23:00.494Z"
   },
   {
    "duration": 18,
    "start_time": "2023-04-07T04:23:00.532Z"
   },
   {
    "duration": 30,
    "start_time": "2023-04-07T04:23:00.551Z"
   },
   {
    "duration": 31,
    "start_time": "2023-04-07T04:23:00.583Z"
   },
   {
    "duration": 37,
    "start_time": "2023-04-07T04:23:00.616Z"
   },
   {
    "duration": 49,
    "start_time": "2023-04-07T04:23:00.654Z"
   },
   {
    "duration": 30,
    "start_time": "2023-04-07T04:23:00.705Z"
   },
   {
    "duration": 29,
    "start_time": "2023-04-07T04:23:00.738Z"
   },
   {
    "duration": 27,
    "start_time": "2023-04-07T04:23:00.769Z"
   },
   {
    "duration": 245162,
    "start_time": "2023-04-07T04:23:00.797Z"
   },
   {
    "duration": 3,
    "start_time": "2023-04-07T04:27:05.961Z"
   },
   {
    "duration": 15,
    "start_time": "2023-04-07T04:27:05.966Z"
   },
   {
    "duration": 469655,
    "start_time": "2023-04-07T04:27:05.982Z"
   },
   {
    "duration": 331,
    "start_time": "2023-04-07T04:34:55.638Z"
   },
   {
    "duration": 10,
    "start_time": "2023-04-07T04:34:55.970Z"
   },
   {
    "duration": 19,
    "start_time": "2023-04-07T04:34:55.981Z"
   },
   {
    "duration": 3,
    "start_time": "2023-04-07T04:34:56.002Z"
   },
   {
    "duration": 17812,
    "start_time": "2023-04-07T04:34:56.007Z"
   },
   {
    "duration": 271,
    "start_time": "2023-04-07T04:35:13.820Z"
   },
   {
    "duration": 3,
    "start_time": "2023-04-07T04:35:14.093Z"
   },
   {
    "duration": 5,
    "start_time": "2023-04-07T04:35:14.098Z"
   },
   {
    "duration": 5350,
    "start_time": "2023-04-07T04:35:14.104Z"
   },
   {
    "duration": 216,
    "start_time": "2023-04-07T04:35:19.455Z"
   },
   {
    "duration": 7,
    "start_time": "2023-04-07T04:35:19.672Z"
   },
   {
    "duration": 4,
    "start_time": "2023-04-07T04:35:19.681Z"
   },
   {
    "duration": 1541,
    "start_time": "2023-04-07T16:07:24.790Z"
   },
   {
    "duration": 209,
    "start_time": "2023-04-07T16:07:26.333Z"
   },
   {
    "duration": 5,
    "start_time": "2023-04-07T16:07:55.476Z"
   },
   {
    "duration": 39,
    "start_time": "2023-04-07T16:07:55.897Z"
   },
   {
    "duration": 361,
    "start_time": "2023-04-07T16:07:56.392Z"
   },
   {
    "duration": 10,
    "start_time": "2023-04-07T16:07:57.532Z"
   },
   {
    "duration": 4,
    "start_time": "2023-04-07T16:08:01.426Z"
   },
   {
    "duration": 3,
    "start_time": "2023-04-07T16:08:01.999Z"
   },
   {
    "duration": 5,
    "start_time": "2023-04-07T16:08:02.781Z"
   },
   {
    "duration": 5,
    "start_time": "2023-04-07T16:08:03.810Z"
   },
   {
    "duration": 5,
    "start_time": "2023-04-07T16:08:04.462Z"
   },
   {
    "duration": 5,
    "start_time": "2023-04-07T16:08:07.428Z"
   },
   {
    "duration": 3,
    "start_time": "2023-04-07T16:08:08.272Z"
   },
   {
    "duration": 3,
    "start_time": "2023-04-07T16:08:31.317Z"
   },
   {
    "duration": 20191,
    "start_time": "2023-04-07T16:08:31.643Z"
   },
   {
    "duration": 338,
    "start_time": "2023-04-07T16:08:51.836Z"
   },
   {
    "duration": 119,
    "start_time": "2023-04-07T16:09:40.847Z"
   }
  ],
  "kernelspec": {
   "display_name": "Python 3 (ipykernel)",
   "language": "python",
   "name": "python3"
  },
  "language_info": {
   "codemirror_mode": {
    "name": "ipython",
    "version": 3
   },
   "file_extension": ".py",
   "mimetype": "text/x-python",
   "name": "python",
   "nbconvert_exporter": "python",
   "pygments_lexer": "ipython3",
   "version": "3.9.13"
  },
  "toc": {
   "base_numbering": 1,
   "nav_menu": {},
   "number_sections": true,
   "sideBar": true,
   "skip_h1_title": true,
   "title_cell": "Table of Contents",
   "title_sidebar": "Contents",
   "toc_cell": false,
   "toc_position": {},
   "toc_section_display": true,
   "toc_window_display": true
  }
 },
 "nbformat": 4,
 "nbformat_minor": 2
}
