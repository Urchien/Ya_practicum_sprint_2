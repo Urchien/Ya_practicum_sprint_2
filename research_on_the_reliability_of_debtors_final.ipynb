{
 "cells": [
  {
   "cell_type": "markdown",
   "id": "72892fa9",
   "metadata": {
    "deletable": false,
    "editable": false,
    "id": "72892fa9"
   },
   "source": [
    "# Исследование надежности заемщиков\n"
   ]
  },
  {
   "cell_type": "markdown",
   "id": "da342dbb",
   "metadata": {
    "id": "da342dbb"
   },
   "source": [
    "**Описание проекта**\n",
    "    \n",
    "  Заказчик — кредитный отдел банка. Нужно разобраться, влияет ли семейное положение и количество детей клиента на факт       погашения кредита в срок. Входные данные от банка — статистика о платёжеспособности клиентов.\n",
    "  Результаты исследования будут учтены при построении модели кредитного скоринга — специальной системы, которая оценивает     способность потенциального заёмщика вернуть кредит банку.\n",
    "\n",
    "**Цель исследования**\n",
    "\n",
    "  Проанализировать зависимость различных факторов на просрочку кредита\n",
    "        \n",
    "**Описание данных**\n",
    "\n",
    "  - children — количество детей в семье\n",
    "  - days_employed — общий трудовой стаж в днях\n",
    "  - dob_years — возраст клиента в годах\n",
    "  - education — уровень образования клиента\n",
    "  - education_id — идентификатор уровня образования\n",
    "  - family_status — семейное положение\n",
    "  - family_status_id — идентификатор семейного положения\n",
    "  - gender — пол клиента\n",
    "  - income_type — тип занятости\n",
    "  - debt — имел ли задолженность по возврату кредитов\n",
    "  - total_income — ежемесячный доход\n",
    "  - purpose — цель получения кредита    \n",
    "\n",
    "**План работы**\n",
    "    \n",
    "1. Произвести предобработку данных\n",
    "2. Ответить на следующие вопросы:\n",
    "    - Есть ли зависимость между количеством детей и возвратом кредита в срок?\n",
    "    - Есть ли зависимость между семейным положением и возвратом кредита в срок?\n",
    "    - Есть ли зависимость между уровнем дохода и возвратом кредита в срок?\n",
    "    - Как разные цели кредита влияют на его возврат в срок?\n"
   ]
  },
  {
   "cell_type": "markdown",
   "id": "eec89bf3",
   "metadata": {
    "deletable": false,
    "editable": false,
    "id": "eec89bf3"
   },
   "source": [
    "## Откроем таблицу и изучим общую информацию о данных"
   ]
  },
  {
   "cell_type": "markdown",
   "id": "b269a75e",
   "metadata": {
    "deletable": false,
    "editable": false,
    "id": "b269a75e"
   },
   "source": [
    "**1. Импортируем библиотеку pandas. Считаем данные из csv-файла в датафрейм и сохраним в переменную `data`. Путь к файлу:**\n",
    "\n",
    "`/datasets/data.csv`"
   ]
  },
  {
   "cell_type": "code",
   "execution_count": 1,
   "id": "2211587f",
   "metadata": {
    "deletable": false,
    "id": "2211587f"
   },
   "outputs": [],
   "source": [
    "import pandas as pd\n",
    "\n",
    "data = pd.read_csv('/datasets/data.csv')\n",
   ]
  },
  {
   "cell_type": "markdown",
   "id": "24f1288e",
   "metadata": {
    "deletable": false,
    "editable": false,
    "id": "24f1288e"
   },
   "source": [
    "**2. Выведем первые 20 строчек датафрейма `data` на экран.**"
   ]
  },
  {
   "cell_type": "code",
   "execution_count": 2,
   "id": "a1ce791d",
   "metadata": {
    "colab": {
     "base_uri": "https://localhost:8080/",
     "height": 859
    },
    "deletable": false,
    "id": "a1ce791d",
    "outputId": "c2e308ad-7f70-4ecf-f020-9f79df78324b",
    "scrolled": true
   },
   "outputs": [
    {
     "data": {
      "text/html": [
       "<div>\n",
       "<style scoped>\n",
       "    .dataframe tbody tr th:only-of-type {\n",
       "        vertical-align: middle;\n",
       "    }\n",
       "\n",
       "    .dataframe tbody tr th {\n",
       "        vertical-align: top;\n",
       "    }\n",
       "\n",
       "    .dataframe thead th {\n",
       "        text-align: right;\n",
       "    }\n",
       "</style>\n",
       "<table border=\"1\" class=\"dataframe\">\n",
       "  <thead>\n",
       "    <tr style=\"text-align: right;\">\n",
       "      <th></th>\n",
       "      <th>children</th>\n",
       "      <th>days_employed</th>\n",
       "      <th>dob_years</th>\n",
       "      <th>education</th>\n",
       "      <th>education_id</th>\n",
       "      <th>family_status</th>\n",
       "      <th>family_status_id</th>\n",
       "      <th>gender</th>\n",
       "      <th>income_type</th>\n",
       "      <th>debt</th>\n",
       "      <th>total_income</th>\n",
       "      <th>purpose</th>\n",
       "    </tr>\n",
       "  </thead>\n",
       "  <tbody>\n",
       "    <tr>\n",
       "      <th>0</th>\n",
       "      <td>1</td>\n",
       "      <td>-8437.673028</td>\n",
       "      <td>42</td>\n",
       "      <td>высшее</td>\n",
       "      <td>0</td>\n",
       "      <td>женат / замужем</td>\n",
       "      <td>0</td>\n",
       "      <td>F</td>\n",
       "      <td>сотрудник</td>\n",
       "      <td>0</td>\n",
       "      <td>253875.639453</td>\n",
       "      <td>покупка жилья</td>\n",
       "    </tr>\n",
       "    <tr>\n",
       "      <th>1</th>\n",
       "      <td>1</td>\n",
       "      <td>-4024.803754</td>\n",
       "      <td>36</td>\n",
       "      <td>среднее</td>\n",
       "      <td>1</td>\n",
       "      <td>женат / замужем</td>\n",
       "      <td>0</td>\n",
       "      <td>F</td>\n",
       "      <td>сотрудник</td>\n",
       "      <td>0</td>\n",
       "      <td>112080.014102</td>\n",
       "      <td>приобретение автомобиля</td>\n",
       "    </tr>\n",
       "    <tr>\n",
       "      <th>2</th>\n",
       "      <td>0</td>\n",
       "      <td>-5623.422610</td>\n",
       "      <td>33</td>\n",
       "      <td>Среднее</td>\n",
       "      <td>1</td>\n",
       "      <td>женат / замужем</td>\n",
       "      <td>0</td>\n",
       "      <td>M</td>\n",
       "      <td>сотрудник</td>\n",
       "      <td>0</td>\n",
       "      <td>145885.952297</td>\n",
       "      <td>покупка жилья</td>\n",
       "    </tr>\n",
       "    <tr>\n",
       "      <th>3</th>\n",
       "      <td>3</td>\n",
       "      <td>-4124.747207</td>\n",
       "      <td>32</td>\n",
       "      <td>среднее</td>\n",
       "      <td>1</td>\n",
       "      <td>женат / замужем</td>\n",
       "      <td>0</td>\n",
       "      <td>M</td>\n",
       "      <td>сотрудник</td>\n",
       "      <td>0</td>\n",
       "      <td>267628.550329</td>\n",
       "      <td>дополнительное образование</td>\n",
       "    </tr>\n",
       "    <tr>\n",
       "      <th>4</th>\n",
       "      <td>0</td>\n",
       "      <td>340266.072047</td>\n",
       "      <td>53</td>\n",
       "      <td>среднее</td>\n",
       "      <td>1</td>\n",
       "      <td>гражданский брак</td>\n",
       "      <td>1</td>\n",
       "      <td>F</td>\n",
       "      <td>пенсионер</td>\n",
       "      <td>0</td>\n",
       "      <td>158616.077870</td>\n",
       "      <td>сыграть свадьбу</td>\n",
       "    </tr>\n",
       "    <tr>\n",
       "      <th>5</th>\n",
       "      <td>0</td>\n",
       "      <td>-926.185831</td>\n",
       "      <td>27</td>\n",
       "      <td>высшее</td>\n",
       "      <td>0</td>\n",
       "      <td>гражданский брак</td>\n",
       "      <td>1</td>\n",
       "      <td>M</td>\n",
       "      <td>компаньон</td>\n",
       "      <td>0</td>\n",
       "      <td>255763.565419</td>\n",
       "      <td>покупка жилья</td>\n",
       "    </tr>\n",
       "    <tr>\n",
       "      <th>6</th>\n",
       "      <td>0</td>\n",
       "      <td>-2879.202052</td>\n",
       "      <td>43</td>\n",
       "      <td>высшее</td>\n",
       "      <td>0</td>\n",
       "      <td>женат / замужем</td>\n",
       "      <td>0</td>\n",
       "      <td>F</td>\n",
       "      <td>компаньон</td>\n",
       "      <td>0</td>\n",
       "      <td>240525.971920</td>\n",
       "      <td>операции с жильем</td>\n",
       "    </tr>\n",
       "    <tr>\n",
       "      <th>7</th>\n",
       "      <td>0</td>\n",
       "      <td>-152.779569</td>\n",
       "      <td>50</td>\n",
       "      <td>СРЕДНЕЕ</td>\n",
       "      <td>1</td>\n",
       "      <td>женат / замужем</td>\n",
       "      <td>0</td>\n",
       "      <td>M</td>\n",
       "      <td>сотрудник</td>\n",
       "      <td>0</td>\n",
       "      <td>135823.934197</td>\n",
       "      <td>образование</td>\n",
       "    </tr>\n",
       "    <tr>\n",
       "      <th>8</th>\n",
       "      <td>2</td>\n",
       "      <td>-6929.865299</td>\n",
       "      <td>35</td>\n",
       "      <td>ВЫСШЕЕ</td>\n",
       "      <td>0</td>\n",
       "      <td>гражданский брак</td>\n",
       "      <td>1</td>\n",
       "      <td>F</td>\n",
       "      <td>сотрудник</td>\n",
       "      <td>0</td>\n",
       "      <td>95856.832424</td>\n",
       "      <td>на проведение свадьбы</td>\n",
       "    </tr>\n",
       "    <tr>\n",
       "      <th>9</th>\n",
       "      <td>0</td>\n",
       "      <td>-2188.756445</td>\n",
       "      <td>41</td>\n",
       "      <td>среднее</td>\n",
       "      <td>1</td>\n",
       "      <td>женат / замужем</td>\n",
       "      <td>0</td>\n",
       "      <td>M</td>\n",
       "      <td>сотрудник</td>\n",
       "      <td>0</td>\n",
       "      <td>144425.938277</td>\n",
       "      <td>покупка жилья для семьи</td>\n",
       "    </tr>\n",
       "    <tr>\n",
       "      <th>10</th>\n",
       "      <td>2</td>\n",
       "      <td>-4171.483647</td>\n",
       "      <td>36</td>\n",
       "      <td>высшее</td>\n",
       "      <td>0</td>\n",
       "      <td>женат / замужем</td>\n",
       "      <td>0</td>\n",
       "      <td>M</td>\n",
       "      <td>компаньон</td>\n",
       "      <td>0</td>\n",
       "      <td>113943.491460</td>\n",
       "      <td>покупка недвижимости</td>\n",
       "    </tr>\n",
       "    <tr>\n",
       "      <th>11</th>\n",
       "      <td>0</td>\n",
       "      <td>-792.701887</td>\n",
       "      <td>40</td>\n",
       "      <td>среднее</td>\n",
       "      <td>1</td>\n",
       "      <td>женат / замужем</td>\n",
       "      <td>0</td>\n",
       "      <td>F</td>\n",
       "      <td>сотрудник</td>\n",
       "      <td>0</td>\n",
       "      <td>77069.234271</td>\n",
       "      <td>покупка коммерческой недвижимости</td>\n",
       "    </tr>\n",
       "    <tr>\n",
       "      <th>12</th>\n",
       "      <td>0</td>\n",
       "      <td>NaN</td>\n",
       "      <td>65</td>\n",
       "      <td>среднее</td>\n",
       "      <td>1</td>\n",
       "      <td>гражданский брак</td>\n",
       "      <td>1</td>\n",
       "      <td>M</td>\n",
       "      <td>пенсионер</td>\n",
       "      <td>0</td>\n",
       "      <td>NaN</td>\n",
       "      <td>сыграть свадьбу</td>\n",
       "    </tr>\n",
       "    <tr>\n",
       "      <th>13</th>\n",
       "      <td>0</td>\n",
       "      <td>-1846.641941</td>\n",
       "      <td>54</td>\n",
       "      <td>неоконченное высшее</td>\n",
       "      <td>2</td>\n",
       "      <td>женат / замужем</td>\n",
       "      <td>0</td>\n",
       "      <td>F</td>\n",
       "      <td>сотрудник</td>\n",
       "      <td>0</td>\n",
       "      <td>130458.228857</td>\n",
       "      <td>приобретение автомобиля</td>\n",
       "    </tr>\n",
       "    <tr>\n",
       "      <th>14</th>\n",
       "      <td>0</td>\n",
       "      <td>-1844.956182</td>\n",
       "      <td>56</td>\n",
       "      <td>высшее</td>\n",
       "      <td>0</td>\n",
       "      <td>гражданский брак</td>\n",
       "      <td>1</td>\n",
       "      <td>F</td>\n",
       "      <td>компаньон</td>\n",
       "      <td>1</td>\n",
       "      <td>165127.911772</td>\n",
       "      <td>покупка жилой недвижимости</td>\n",
       "    </tr>\n",
       "    <tr>\n",
       "      <th>15</th>\n",
       "      <td>1</td>\n",
       "      <td>-972.364419</td>\n",
       "      <td>26</td>\n",
       "      <td>среднее</td>\n",
       "      <td>1</td>\n",
       "      <td>женат / замужем</td>\n",
       "      <td>0</td>\n",
       "      <td>F</td>\n",
       "      <td>сотрудник</td>\n",
       "      <td>0</td>\n",
       "      <td>116820.904450</td>\n",
       "      <td>строительство собственной недвижимости</td>\n",
       "    </tr>\n",
       "    <tr>\n",
       "      <th>16</th>\n",
       "      <td>0</td>\n",
       "      <td>-1719.934226</td>\n",
       "      <td>35</td>\n",
       "      <td>среднее</td>\n",
       "      <td>1</td>\n",
       "      <td>женат / замужем</td>\n",
       "      <td>0</td>\n",
       "      <td>F</td>\n",
       "      <td>сотрудник</td>\n",
       "      <td>0</td>\n",
       "      <td>289202.704229</td>\n",
       "      <td>недвижимость</td>\n",
       "    </tr>\n",
       "    <tr>\n",
       "      <th>17</th>\n",
       "      <td>0</td>\n",
       "      <td>-2369.999720</td>\n",
       "      <td>33</td>\n",
       "      <td>высшее</td>\n",
       "      <td>0</td>\n",
       "      <td>гражданский брак</td>\n",
       "      <td>1</td>\n",
       "      <td>M</td>\n",
       "      <td>сотрудник</td>\n",
       "      <td>0</td>\n",
       "      <td>90410.586745</td>\n",
       "      <td>строительство недвижимости</td>\n",
       "    </tr>\n",
       "    <tr>\n",
       "      <th>18</th>\n",
       "      <td>0</td>\n",
       "      <td>400281.136913</td>\n",
       "      <td>53</td>\n",
       "      <td>среднее</td>\n",
       "      <td>1</td>\n",
       "      <td>вдовец / вдова</td>\n",
       "      <td>2</td>\n",
       "      <td>F</td>\n",
       "      <td>пенсионер</td>\n",
       "      <td>0</td>\n",
       "      <td>56823.777243</td>\n",
       "      <td>на покупку подержанного автомобиля</td>\n",
       "    </tr>\n",
       "    <tr>\n",
       "      <th>19</th>\n",
       "      <td>0</td>\n",
       "      <td>-10038.818549</td>\n",
       "      <td>48</td>\n",
       "      <td>СРЕДНЕЕ</td>\n",
       "      <td>1</td>\n",
       "      <td>в разводе</td>\n",
       "      <td>3</td>\n",
       "      <td>F</td>\n",
       "      <td>сотрудник</td>\n",
       "      <td>0</td>\n",
       "      <td>242831.107982</td>\n",
       "      <td>на покупку своего автомобиля</td>\n",
       "    </tr>\n",
       "  </tbody>\n",
       "</table>\n",
       "</div>"
      ],
      "text/plain": [
       "    children  days_employed  dob_years            education  education_id  \\\n",
       "0          1   -8437.673028         42               высшее             0   \n",
       "1          1   -4024.803754         36              среднее             1   \n",
       "2          0   -5623.422610         33              Среднее             1   \n",
       "3          3   -4124.747207         32              среднее             1   \n",
       "4          0  340266.072047         53              среднее             1   \n",
       "5          0    -926.185831         27               высшее             0   \n",
       "6          0   -2879.202052         43               высшее             0   \n",
       "7          0    -152.779569         50              СРЕДНЕЕ             1   \n",
       "8          2   -6929.865299         35               ВЫСШЕЕ             0   \n",
       "9          0   -2188.756445         41              среднее             1   \n",
       "10         2   -4171.483647         36               высшее             0   \n",
       "11         0    -792.701887         40              среднее             1   \n",
       "12         0            NaN         65              среднее             1   \n",
       "13         0   -1846.641941         54  неоконченное высшее             2   \n",
       "14         0   -1844.956182         56               высшее             0   \n",
       "15         1    -972.364419         26              среднее             1   \n",
       "16         0   -1719.934226         35              среднее             1   \n",
       "17         0   -2369.999720         33               высшее             0   \n",
       "18         0  400281.136913         53              среднее             1   \n",
       "19         0  -10038.818549         48              СРЕДНЕЕ             1   \n",
       "\n",
       "       family_status  family_status_id gender income_type  debt  \\\n",
       "0    женат / замужем                 0      F   сотрудник     0   \n",
       "1    женат / замужем                 0      F   сотрудник     0   \n",
       "2    женат / замужем                 0      M   сотрудник     0   \n",
       "3    женат / замужем                 0      M   сотрудник     0   \n",
       "4   гражданский брак                 1      F   пенсионер     0   \n",
       "5   гражданский брак                 1      M   компаньон     0   \n",
       "6    женат / замужем                 0      F   компаньон     0   \n",
       "7    женат / замужем                 0      M   сотрудник     0   \n",
       "8   гражданский брак                 1      F   сотрудник     0   \n",
       "9    женат / замужем                 0      M   сотрудник     0   \n",
       "10   женат / замужем                 0      M   компаньон     0   \n",
       "11   женат / замужем                 0      F   сотрудник     0   \n",
       "12  гражданский брак                 1      M   пенсионер     0   \n",
       "13   женат / замужем                 0      F   сотрудник     0   \n",
       "14  гражданский брак                 1      F   компаньон     1   \n",
       "15   женат / замужем                 0      F   сотрудник     0   \n",
       "16   женат / замужем                 0      F   сотрудник     0   \n",
       "17  гражданский брак                 1      M   сотрудник     0   \n",
       "18    вдовец / вдова                 2      F   пенсионер     0   \n",
       "19         в разводе                 3      F   сотрудник     0   \n",
       "\n",
       "     total_income                                 purpose  \n",
       "0   253875.639453                           покупка жилья  \n",
       "1   112080.014102                 приобретение автомобиля  \n",
       "2   145885.952297                           покупка жилья  \n",
       "3   267628.550329              дополнительное образование  \n",
       "4   158616.077870                         сыграть свадьбу  \n",
       "5   255763.565419                           покупка жилья  \n",
       "6   240525.971920                       операции с жильем  \n",
       "7   135823.934197                             образование  \n",
       "8    95856.832424                   на проведение свадьбы  \n",
       "9   144425.938277                 покупка жилья для семьи  \n",
       "10  113943.491460                    покупка недвижимости  \n",
       "11   77069.234271       покупка коммерческой недвижимости  \n",
       "12            NaN                         сыграть свадьбу  \n",
       "13  130458.228857                 приобретение автомобиля  \n",
       "14  165127.911772              покупка жилой недвижимости  \n",
       "15  116820.904450  строительство собственной недвижимости  \n",
       "16  289202.704229                            недвижимость  \n",
       "17   90410.586745              строительство недвижимости  \n",
       "18   56823.777243      на покупку подержанного автомобиля  \n",
       "19  242831.107982            на покупку своего автомобиля  "
      ]
     },
     "execution_count": 2,
     "metadata": {},
     "output_type": "execute_result"
    }
   ],
   "source": [
    "data.head(20)"
   ]
  },
  {
   "cell_type": "markdown",
   "id": "3285b414",
   "metadata": {
    "deletable": false,
    "editable": false,
    "id": "3285b414"
   },
   "source": [
    "**3. Выведем основную информацию о датафрейме с помощью метода `info()`.**"
   ]
  },
  {
   "cell_type": "code",
   "execution_count": 3,
   "id": "13bda110",
   "metadata": {
    "colab": {
     "base_uri": "https://localhost:8080/"
    },
    "deletable": false,
    "id": "13bda110",
    "outputId": "77a2e917-9fd1-4dbd-ac9a-68e16326c53e"
   },
   "outputs": [
    {
     "name": "stdout",
     "output_type": "stream",
     "text": [
      "<class 'pandas.core.frame.DataFrame'>\n",
      "RangeIndex: 21525 entries, 0 to 21524\n",
      "Data columns (total 12 columns):\n",
      " #   Column            Non-Null Count  Dtype  \n",
      "---  ------            --------------  -----  \n",
      " 0   children          21525 non-null  int64  \n",
      " 1   days_employed     19351 non-null  float64\n",
      " 2   dob_years         21525 non-null  int64  \n",
      " 3   education         21525 non-null  object \n",
      " 4   education_id      21525 non-null  int64  \n",
      " 5   family_status     21525 non-null  object \n",
      " 6   family_status_id  21525 non-null  int64  \n",
      " 7   gender            21525 non-null  object \n",
      " 8   income_type       21525 non-null  object \n",
      " 9   debt              21525 non-null  int64  \n",
      " 10  total_income      19351 non-null  float64\n",
      " 11  purpose           21525 non-null  object \n",
      "dtypes: float64(2), int64(5), object(5)\n",
      "memory usage: 2.0+ MB\n"
     ]
    }
   ],
   "source": [
    "data.info()"
   ]
  },
  {
   "cell_type": "markdown",
   "id": "7d114749",
   "metadata": {
    "id": "7d114749"
   },
   "source": [
    "**Вывод:**\n",
    "- В файле всего 21525 строк, в стобце days_employed присутствуют отрицательные значения, пропуски и трудовой стаж некоторых клиентов около тысячи лет. Столбец не понадобится в иследовании, но стоит предупредить об этом коллег, чтобы не допускать такого в будущем. \n",
    "- В столбце education присутвуют заглавные и строчнные буквы, но он тоже не понадобится для исследования. \n",
    "- Присутвуют пропуски в столбце total_income. "
   ]
  },
  {
   "cell_type": "markdown",
   "id": "de710849",
   "metadata": {
    "deletable": false,
    "editable": false,
    "id": "de710849"
   },
   "source": [
    "## Предобработка данных"
   ]
  },
  {
   "cell_type": "markdown",
   "id": "30e76893",
   "metadata": {
    "deletable": false,
    "editable": false,
    "id": "30e76893"
   },
   "source": [
    "### Удаление пропусков"
   ]
  },
  {
   "cell_type": "markdown",
   "id": "7f5e4d47",
   "metadata": {
    "deletable": false,
    "editable": false,
    "id": "7f5e4d47"
   },
   "source": [
    "**4. Выведем количество пропущенных значений для каждого столбца. Используем комбинацию двух методов.**"
   ]
  },
  {
   "cell_type": "code",
   "execution_count": 4,
   "id": "930ad7ac",
   "metadata": {
    "colab": {
     "base_uri": "https://localhost:8080/"
    },
    "deletable": false,
    "id": "930ad7ac",
    "outputId": "a451d93e-21fb-49f5-d48c-8e3370c7c468"
   },
   "outputs": [
    {
     "data": {
      "text/plain": [
       "children               0\n",
       "days_employed       2174\n",
       "dob_years              0\n",
       "education              0\n",
       "education_id           0\n",
       "family_status          0\n",
       "family_status_id       0\n",
       "gender                 0\n",
       "income_type            0\n",
       "debt                   0\n",
       "total_income        2174\n",
       "purpose                0\n",
       "dtype: int64"
      ]
     },
     "execution_count": 4,
     "metadata": {},
     "output_type": "execute_result"
    }
   ],
   "source": [
    "data.isna().sum()"
   ]
  },
  {
   "cell_type": "markdown",
   "id": "85d35069",
   "metadata": {
    "deletable": false,
    "editable": false,
    "id": "85d35069"
   },
   "source": [
    "**5. В двух столбцах есть пропущенные значения. Один из них — `days_employed`. Пропуски в этом столбце мы обработаем на следующем этапе. Другой столбец с пропущенными значениями — `total_income` — хранит данные о доходах. На сумму дохода сильнее всего влияет тип занятости, поэтому заполнить пропуски в этом столбце нужно медианным значением по каждому типу из столбца `income_type`. Например, у человека с типом занятости `сотрудник` пропуск в столбце `total_income` должен быть заполнен медианным доходом среди всех записей с тем же типом.**"
   ]
  },
  {
   "cell_type": "code",
   "execution_count": 5,
   "id": "e01439e7",
   "metadata": {
    "deletable": false,
    "id": "e01439e7"
   },
   "outputs": [],
   "source": [
    "for income in data['income_type'].unique():\n",
    "    data.loc[(data['income_type'] == income) & (data['total_income'].isna()), 'total_income'] = \\\n",
    "    data.loc[(data['income_type'] == income), 'total_income'].median()"
   ]
  },
  {
   "cell_type": "markdown",
   "id": "12e07f2d",
   "metadata": {
    "deletable": false,
    "editable": false,
    "id": "12e07f2d"
   },
   "source": [
    "### Обработка аномальных значений"
   ]
  },
  {
   "cell_type": "markdown",
   "id": "179e4413",
   "metadata": {
    "deletable": false,
    "editable": false,
    "id": "179e4413"
   },
   "source": [
    "**6. В данных могут встречаться артефакты (аномалии) — значения, которые не отражают действительность и появились по какой-то ошибке. таким артефактом будет отрицательное количество дней трудового стажа в столбце `days_employed`. Для реальных данных это нормально. Обработаем значения в этом столбце: заменим все отрицательные значения положительными с помощью метода `abs()`.**"
   ]
  },
  {
   "cell_type": "code",
   "execution_count": 6,
   "id": "a2462184",
   "metadata": {
    "deletable": false,
    "id": "a2462184"
   },
   "outputs": [],
   "source": [
    "data['days_employed'] = data['days_employed'].abs()"
   ]
  },
  {
   "cell_type": "markdown",
   "id": "3b9bae7c",
   "metadata": {
    "deletable": false,
    "editable": false,
    "id": "3b9bae7c"
   },
   "source": [
    "**7. Для каждого типа занятости выведем медианное значение трудового стажа `days_employed` в днях.**"
   ]
  },
  {
   "cell_type": "code",
   "execution_count": 7,
   "id": "842019ca",
   "metadata": {
    "colab": {
     "base_uri": "https://localhost:8080/"
    },
    "deletable": false,
    "id": "842019ca",
    "outputId": "244f6427-99b5-4508-b1ab-17efd5393612"
   },
   "outputs": [
    {
     "data": {
      "text/plain": [
       "income_type\n",
       "безработный        366413.652744\n",
       "в декрете            3296.759962\n",
       "госслужащий          2689.368353\n",
       "компаньон            1547.382223\n",
       "пенсионер          365213.306266\n",
       "предприниматель       520.848083\n",
       "сотрудник            1574.202821\n",
       "студент               578.751554\n",
       "Name: days_employed, dtype: float64"
      ]
     },
     "execution_count": 7,
     "metadata": {},
     "output_type": "execute_result"
    }
   ],
   "source": [
    "data.groupby('income_type')['days_employed'].agg('median')"
   ]
  },
  {
   "cell_type": "markdown",
   "id": "1bcde5eb",
   "metadata": {
    "deletable": false,
    "editable": false,
    "id": "1bcde5eb"
   },
   "source": [
    "У двух типов (безработные и пенсионеры) получатся аномально большие значения. Исправить такие значения сложно, поэтому оставим их как есть. Тем более этот столбец не понадобится нам для исследования."
   ]
  },
  {
   "cell_type": "markdown",
   "id": "7eec926f",
   "metadata": {
    "deletable": false,
    "editable": false,
    "id": "7eec926f"
   },
   "source": [
    "**8. Выведем перечень уникальных значений столбца `children`.**"
   ]
  },
  {
   "cell_type": "code",
   "execution_count": 8,
   "id": "238917eb",
   "metadata": {
    "colab": {
     "base_uri": "https://localhost:8080/"
    },
    "deletable": false,
    "id": "238917eb",
    "outputId": "256dad51-1ba4-4ac1-d48d-4d2953459659"
   },
   "outputs": [
    {
     "data": {
      "text/plain": [
       "array([ 1,  0,  3,  2, -1,  4, 20,  5], dtype=int64)"
      ]
     },
     "execution_count": 8,
     "metadata": {},
     "output_type": "execute_result"
    }
   ],
   "source": [
    "data['children'].unique()"
   ]
  },
  {
   "cell_type": "markdown",
   "id": "a647fb97",
   "metadata": {
    "deletable": false,
    "editable": false,
    "id": "a647fb97"
   },
   "source": [
    "**9. В столбце `children` есть два аномальных значения. Удалим строки, в которых встречаются такие аномальные значения из датафрейма `data`.**"
   ]
  },
  {
   "cell_type": "code",
   "execution_count": 9,
   "id": "24aa53eb",
   "metadata": {
    "deletable": false,
    "id": "24aa53eb"
   },
   "outputs": [],
   "source": [
    "data = data[(data['children'] != -1) & (data['children'] != 20)]"
   ]
  },
  {
   "cell_type": "markdown",
   "id": "cc3b3e7e",
   "metadata": {
    "deletable": false,
    "editable": false,
    "id": "cc3b3e7e"
   },
   "source": [
    "**10. Ещё раз выведем перечень уникальных значений столбца `children`, чтобы убедиться, что артефакты удалены.**"
   ]
  },
  {
   "cell_type": "code",
   "execution_count": 10,
   "id": "066736d7",
   "metadata": {
    "colab": {
     "base_uri": "https://localhost:8080/"
    },
    "deletable": false,
    "id": "066736d7",
    "outputId": "37fa6ed5-281a-4982-c37a-bec4caec43a2"
   },
   "outputs": [
    {
     "data": {
      "text/plain": [
       "array([1, 0, 3, 2, 4, 5], dtype=int64)"
      ]
     },
     "execution_count": 10,
     "metadata": {},
     "output_type": "execute_result"
    }
   ],
   "source": [
    "data['children'].unique()"
   ]
  },
  {
   "cell_type": "markdown",
   "id": "a41354e2",
   "metadata": {
    "deletable": false,
    "editable": false,
    "id": "a41354e2"
   },
   "source": [
    "### Удаление пропусков (продолжение)"
   ]
  },
  {
   "cell_type": "markdown",
   "id": "7aa7639a",
   "metadata": {
    "deletable": false,
    "editable": false,
    "id": "7aa7639a"
   },
   "source": [
    "**11. Заполним пропуски в столбце `days_employed` медианными значениями по каждого типа занятости `income_type`.**"
   ]
  },
  {
   "cell_type": "code",
   "execution_count": 11,
   "id": "a857ff14",
   "metadata": {
    "colab": {
     "base_uri": "https://localhost:8080/"
    },
    "deletable": false,
    "id": "a857ff14",
    "outputId": "ec2af921-ff86-44c5-f754-815162b32337"
   },
   "outputs": [],
   "source": [
    "for income in data['income_type'].unique():\n",
    "    data.loc[(data['income_type'] == income) & (data['days_employed'].isna()), 'days_employed'] = \\\n",
    "    data.loc[(data['income_type'] == income), 'days_employed'].median()"
   ]
  },
  {
   "cell_type": "markdown",
   "id": "684b611a",
   "metadata": {
    "deletable": false,
    "editable": false,
    "id": "684b611a"
   },
   "source": [
    "**12. Убедимся, что все пропуски заполнены. Проверим себя и ещё раз выведем количество пропущенных значений для каждого столбца с помощью двух методов.**"
   ]
  },
  {
   "cell_type": "code",
   "execution_count": 12,
   "id": "21ed8655",
   "metadata": {
    "colab": {
     "base_uri": "https://localhost:8080/"
    },
    "deletable": false,
    "id": "21ed8655",
    "outputId": "3f0df6f6-f589-48f8-b705-0e3d453671cc",
    "scrolled": true
   },
   "outputs": [
    {
     "data": {
      "text/plain": [
       "children            0\n",
       "days_employed       0\n",
       "dob_years           0\n",
       "education           0\n",
       "education_id        0\n",
       "family_status       0\n",
       "family_status_id    0\n",
       "gender              0\n",
       "income_type         0\n",
       "debt                0\n",
       "total_income        0\n",
       "purpose             0\n",
       "dtype: int64"
      ]
     },
     "execution_count": 12,
     "metadata": {},
     "output_type": "execute_result"
    }
   ],
   "source": [
    "data.isna().sum()"
   ]
  },
  {
   "cell_type": "markdown",
   "id": "c9538edb",
   "metadata": {
    "deletable": false,
    "editable": false,
    "id": "c9538edb"
   },
   "source": [
    "### Изменение типов данных"
   ]
  },
  {
   "cell_type": "markdown",
   "id": "7fb49114",
   "metadata": {
    "deletable": false,
    "editable": false,
    "id": "7fb49114"
   },
   "source": [
    "**13. Заменим вещественный тип данных в столбце `total_income` на целочисленный с помощью метода `astype()`.**"
   ]
  },
  {
   "cell_type": "code",
   "execution_count": 13,
   "id": "3befc8a7",
   "metadata": {
    "colab": {
     "base_uri": "https://localhost:8080/"
    },
    "deletable": false,
    "id": "3befc8a7",
    "outputId": "e50effbe-6ca7-40c9-9f8d-a74cbaa5b192",
    "scrolled": true
   },
   "outputs": [],
   "source": [
    "data['total_income'] = data['total_income'].astype(int)"
   ]
  },
  {
   "cell_type": "markdown",
   "id": "41845b9c",
   "metadata": {
    "deletable": false,
    "editable": false,
    "id": "41845b9c"
   },
   "source": [
    "### Обработка дубликатов"
   ]
  },
  {
   "cell_type": "markdown",
   "id": "40472f0d",
   "metadata": {
    "deletable": false,
    "editable": false,
    "id": "40472f0d"
   },
   "source": [
    "**14. Обработаем неявные дубликаты в столбце `education`. В этом столбце есть одни и те же значения, но записанные по-разному: с использованием заглавных и строчных букв. Приведем их к нижнему регистру. Проверим остальные столбцы.**"
   ]
  },
  {
   "cell_type": "code",
   "execution_count": 14,
   "id": "33c3dd7d",
   "metadata": {
    "deletable": false,
    "id": "33c3dd7d"
   },
   "outputs": [],
   "source": [
    "data['education'] = data['education'].str.lower()"
   ]
  },
  {
   "cell_type": "markdown",
   "id": "ff069826",
   "metadata": {
    "deletable": false,
    "editable": false,
    "id": "ff069826"
   },
   "source": [
    "**15. Выведем на экран количество строк-дубликатов в данных. Если такие строки присутствуют, удалим их.**"
   ]
  },
  {
   "cell_type": "code",
   "execution_count": 15,
   "id": "78394826",
   "metadata": {
    "colab": {
     "base_uri": "https://localhost:8080/"
    },
    "deletable": false,
    "id": "78394826",
    "outputId": "9b5bb230-74fc-4ab5-8a53-53f68909b4b9"
   },
   "outputs": [
    {
     "data": {
      "text/plain": [
       "71"
      ]
     },
     "execution_count": 15,
     "metadata": {},
     "output_type": "execute_result"
    }
   ],
   "source": [
    "data.duplicated().sum()"
   ]
  },
  {
   "cell_type": "code",
   "execution_count": 16,
   "id": "6c376f8c",
   "metadata": {
    "deletable": false,
    "id": "6c376f8c"
   },
   "outputs": [],
   "source": [
    "data = data.drop_duplicates()"
   ]
  },
  {
   "cell_type": "markdown",
   "id": "ff7f2165",
   "metadata": {
    "deletable": false,
    "editable": false,
    "id": "ff7f2165"
   },
   "source": [
    "### Категоризация данных"
   ]
  },
  {
   "cell_type": "markdown",
   "id": "80cb86c2",
   "metadata": {
    "deletable": false,
    "editable": false,
    "id": "80cb86c2"
   },
   "source": [
    "**16. На основании диапазонов, указанных ниже, создадим в датафрейме `data` столбец `total_income_category` с категориями:**\n",
    "\n",
    "- 0–30000 — `'E'`;\n",
    "- 30001–50000 — `'D'`;\n",
    "- 50001–200000 — `'C'`;\n",
    "- 200001–1000000 — `'B'`;\n",
    "- 1000001 и выше — `'A'`.\n",
    "\n",
    "\n",
    "**Например, кредитополучателю с доходом 25000 нужно назначить категорию `'E'`, а клиенту, получающему 235000, — `'B'`. Используем собственную функцию с именем `categorize_income()` и метод `apply()`.**"
   ]
  },
  {
   "cell_type": "code",
   "execution_count": 17,
   "id": "3a2b0606",
   "metadata": {
    "deletable": false,
    "id": "3a2b0606"
   },
   "outputs": [],
   "source": [
    "def categorize_income(income):\n",
    "    try:\n",
    "        if 0 <= income <= 30000:\n",
    "            return 'E'\n",
    "        elif 30001 <= income <= 50000:\n",
    "            return 'D'\n",
    "        elif 50001 <= income <= 200000:\n",
    "            return 'C'\n",
    "        elif 200001 <= income <= 1000000:\n",
    "            return 'B'\n",
    "        elif income >= 1000001:\n",
    "            return 'A'\n",
    "    except:\n",
    "        pass"
   ]
  },
  {
   "cell_type": "code",
   "execution_count": 18,
   "id": "95cea799",
   "metadata": {
    "colab": {
     "base_uri": "https://localhost:8080/"
    },
    "deletable": false,
    "id": "95cea799",
    "outputId": "ce292f4e-12af-4f9f-c93c-838c571d335d"
   },
   "outputs": [],
   "source": [
    "data['total_income_category'] = data['total_income'].apply(categorize_income)"
   ]
  },
  {
   "cell_type": "markdown",
   "id": "5fb13a39",
   "metadata": {
    "deletable": false,
    "editable": false,
    "id": "5fb13a39"
   },
   "source": [
    "**17. Выведем на экран перечень уникальных целей взятия кредита из столбца `purpose`.**"
   ]
  },
  {
   "cell_type": "code",
   "execution_count": 19,
   "id": "412b2fdf",
   "metadata": {
    "colab": {
     "base_uri": "https://localhost:8080/"
    },
    "deletable": false,
    "id": "412b2fdf",
    "outputId": "9ec5c8b5-a437-4a93-9d0c-7be48ddadd5b"
   },
   "outputs": [
    {
     "data": {
      "text/plain": [
       "array(['покупка жилья', 'приобретение автомобиля',\n",
       "       'дополнительное образование', 'сыграть свадьбу',\n",
       "       'операции с жильем', 'образование', 'на проведение свадьбы',\n",
       "       'покупка жилья для семьи', 'покупка недвижимости',\n",
       "       'покупка коммерческой недвижимости', 'покупка жилой недвижимости',\n",
       "       'строительство собственной недвижимости', 'недвижимость',\n",
       "       'строительство недвижимости', 'на покупку подержанного автомобиля',\n",
       "       'на покупку своего автомобиля',\n",
       "       'операции с коммерческой недвижимостью',\n",
       "       'строительство жилой недвижимости', 'жилье',\n",
       "       'операции со своей недвижимостью', 'автомобили',\n",
       "       'заняться образованием', 'сделка с подержанным автомобилем',\n",
       "       'получение образования', 'автомобиль', 'свадьба',\n",
       "       'получение дополнительного образования', 'покупка своего жилья',\n",
       "       'операции с недвижимостью', 'получение высшего образования',\n",
       "       'свой автомобиль', 'сделка с автомобилем',\n",
       "       'профильное образование', 'высшее образование',\n",
       "       'покупка жилья для сдачи', 'на покупку автомобиля', 'ремонт жилью',\n",
       "       'заняться высшим образованием'], dtype=object)"
      ]
     },
     "execution_count": 19,
     "metadata": {},
     "output_type": "execute_result"
    }
   ],
   "source": [
    "data['purpose'].unique()"
   ]
  },
  {
   "cell_type": "markdown",
   "id": "17611981",
   "metadata": {
    "deletable": false,
    "editable": false,
    "id": "17611981"
   },
   "source": [
    "**18. Создадим функцию, которая на основании данных из столбца `purpose` сформирует новый столбец `purpose_category`, в который войдут следующие категории:**\n",
    "\n",
    "- `'операции с автомобилем'`,\n",
    "- `'операции с недвижимостью'`,\n",
    "- `'проведение свадьбы'`,\n",
    "- `'получение образования'`.\n",
    "\n",
    "**Например, если в столбце `purpose` находится подстрока `'на покупку автомобиля'`, то в столбце `purpose_category` должна появиться строка `'операции с автомобилем'`.**\n",
    "\n",
    "**Используем собственную функцию с именем `categorize_purpose()` и метод `apply()`. Изучим данные в столбце `purpose` и определим, какие подстроки помогут вам правильно определить категорию.**"
   ]
  },
  {
   "cell_type": "code",
   "execution_count": 20,
   "id": "5173cad2",
   "metadata": {
    "deletable": false,
    "id": "5173cad2"
   },
   "outputs": [],
   "source": [
    "def categorize_purpose(row):\n",
    "    try:\n",
    "        if 'автом' in row:\n",
    "            return 'операции с автомобилем'\n",
    "        elif 'жил' in row or 'недвиж' in row:\n",
    "            return 'операции с недвижимостью'\n",
    "        elif 'свад' in row:\n",
    "            return 'проведение свадьбы'\n",
    "        elif 'образов' in row:\n",
    "            return 'получение образования'\n",
    "    except:\n",
    "        return 'нет категории'"
   ]
  },
  {
   "cell_type": "code",
   "execution_count": 21,
   "id": "df6b1179",
   "metadata": {
    "deletable": false,
    "id": "df6b1179"
   },
   "outputs": [],
   "source": [
    "data['purpose_category'] = data['purpose'].apply(categorize_purpose)"
   ]
  },
  {
   "cell_type": "markdown",
   "id": "951e89b4",
   "metadata": {
    "id": "951e89b4"
   },
   "source": [
    "**Вывод:**\n",
    "- Пропуски из стобца total_income заполнены медианным значением.\n",
    "- Отрицательные значения в столбце days_employed заменены на положительные.\n",
    "- Обнаружено, что аномально большой стаж в стобце days_employed у безработных и пенсионеров, также пропуски в этом стобце заполнены медианным значением.\n",
    "- Обнаружены и удалены строки стобца children с аномальными значениями.\n",
    "- В столбце total_income заменен тип данных на целочисленный.\n",
    "- Стобец education приведен к нижнему регистру.\n",
    "- Датафрейм очищен от строк-дубликатов.\n",
    "- Данные категоризированы по уровню дохода (созадн столбец total_income_category) и по назначению кредита (создан стобец purpose_category).\n"
   ]
  },
  {
   "cell_type": "markdown",
   "id": "d591c215",
   "metadata": {
    "deletable": false,
    "editable": false,
    "id": "d591c215"
   },
   "source": [
    "### Шаг 3. Исследуйте данные и ответьте на вопросы"
   ]
  },
  {
   "cell_type": "markdown",
   "id": "ezpUKmhB7462",
   "metadata": {
    "id": "ezpUKmhB7462"
   },
   "source": [
    "Создадим функцию, addiction() для расчета разницы между минимальным и максимальным средним значением и функцию, percent(x) для показа данных в процентах и запишем и здесь."
   ]
  },
  {
   "cell_type": "code",
   "execution_count": 22,
   "id": "d45f1e95",
   "metadata": {
    "id": "d45f1e95"
   },
   "outputs": [],
   "source": [
    "# Функции для исследований\n",
    "\n",
    "def addiction(mean):\n",
    "    mean = mean[mean != 0]\n",
    "    min_max = abs(mean.min() - mean.max())\n",
    "    return f'Разница между минимальным и максимальным средним значением составляет: {round(min_max*1000, 2)} %'\n",
    "\n",
    "def percent(x):\n",
    "    return f'{round(x*100,2)}%'"
   ]
  },
  {
   "cell_type": "markdown",
   "id": "9b49bbf1",
   "metadata": {
    "deletable": false,
    "editable": false,
    "id": "9b49bbf1"
   },
   "source": [
    "#### 3.1 Есть ли зависимость между количеством детей и возвратом кредита в срок?"
   ]
  },
  {
   "cell_type": "code",
   "execution_count": 23,
   "id": "5f755061",
   "metadata": {
    "colab": {
     "base_uri": "https://localhost:8080/",
     "height": 255
    },
    "deletable": false,
    "id": "5f755061",
    "outputId": "20913902-f966-4f13-f93d-aeb0d099d0fb"
   },
   "outputs": [
    {
     "name": "stdout",
     "output_type": "stream",
     "text": [
      "Разница между минимальным и максимальным средним значением составляет: 22.12 %\n"
     ]
    },
    {
     "data": {
      "text/html": [
       "<div>\n",
       "<style scoped>\n",
       "    .dataframe tbody tr th:only-of-type {\n",
       "        vertical-align: middle;\n",
       "    }\n",
       "\n",
       "    .dataframe tbody tr th {\n",
       "        vertical-align: top;\n",
       "    }\n",
       "\n",
       "    .dataframe thead th {\n",
       "        text-align: right;\n",
       "    }\n",
       "</style>\n",
       "<table border=\"1\" class=\"dataframe\">\n",
       "  <thead>\n",
       "    <tr style=\"text-align: right;\">\n",
       "      <th></th>\n",
       "      <th>Кол-во детей</th>\n",
       "      <th>Кол-во записей</th>\n",
       "      <th>Среднее по задолженности</th>\n",
       "    </tr>\n",
       "  </thead>\n",
       "  <tbody>\n",
       "    <tr>\n",
       "      <th>5</th>\n",
       "      <td>5</td>\n",
       "      <td>9</td>\n",
       "      <td>0.0%</td>\n",
       "    </tr>\n",
       "    <tr>\n",
       "      <th>0</th>\n",
       "      <td>0</td>\n",
       "      <td>14091</td>\n",
       "      <td>7.54%</td>\n",
       "    </tr>\n",
       "    <tr>\n",
       "      <th>3</th>\n",
       "      <td>3</td>\n",
       "      <td>330</td>\n",
       "      <td>8.18%</td>\n",
       "    </tr>\n",
       "    <tr>\n",
       "      <th>1</th>\n",
       "      <td>1</td>\n",
       "      <td>4808</td>\n",
       "      <td>9.23%</td>\n",
       "    </tr>\n",
       "    <tr>\n",
       "      <th>2</th>\n",
       "      <td>2</td>\n",
       "      <td>2052</td>\n",
       "      <td>9.45%</td>\n",
       "    </tr>\n",
       "    <tr>\n",
       "      <th>4</th>\n",
       "      <td>4</td>\n",
       "      <td>41</td>\n",
       "      <td>9.76%</td>\n",
       "    </tr>\n",
       "  </tbody>\n",
       "</table>\n",
       "</div>"
      ],
      "text/plain": [
       "   Кол-во детей  Кол-во записей Среднее по задолженности\n",
       "5             5               9                     0.0%\n",
       "0             0           14091                    7.54%\n",
       "3             3             330                    8.18%\n",
       "1             1            4808                    9.23%\n",
       "2             2            2052                    9.45%\n",
       "4             4              41                    9.76%"
      ]
     },
     "execution_count": 23,
     "metadata": {},
     "output_type": "execute_result"
    }
   ],
   "source": [
    "#data['children'].value_counts()\n",
    "mean = data.groupby('children')['debt'].mean()\n",
    "\n",
    "print(addiction(mean))\n",
    "\n",
    "children_to_debt = data.pivot_table(index=['children'], values='debt', aggfunc=('mean', lambda x: x.count()))\n",
    "\n",
    "children_to_debt['mean'] = children_to_debt['mean'].apply(percent)\n",
    "children_to_debt = children_to_debt.reset_index()\n",
    "children_to_debt = children_to_debt.rename(columns={'children': 'Кол-во детей', '<lambda_0>': 'Кол-во записей', 'mean': 'Среднее по задолженности'})\n",
    "children_to_debt.sort_values(by='Среднее по задолженности')"
   ]
  },
  {
   "cell_type": "markdown",
   "id": "1cd0a5c6",
   "metadata": {
    "deletable": false,
    "id": "1cd0a5c6"
   },
   "source": [
    "**Вывод:** \n",
    "- Самыми ответственными являются клиенты без детей. Это выглядит логичным, потому, что у них меньше ежемесячных расходов. \n",
    "- На втором месте находятся клиенты с 3-я детьми. Я думаю потому, что им приходится быть более ответственными в планировании бюджета, чем семьям с 1-2 детьми так, как скорее всего потребуется хорошая кредитная история для будущих кредитов. \n",
    "- На 3, 4 и 5 местах находятся семьи с 1-м, 2-я и 4-я детьми соответственно. Логически могу предположить, что эти семьи берут кредиты одноразово и не очень сильно ориентируются на сроки погашения кредита. \n",
    "- Семьи с 5 детьми встречаются крайне редко и для данного вывода информация о них не представляет интереса. \n",
    "- Если сравнить только самые многочисленные выборки (без детей, с 1-м и 2-я детьми) по проценту должников, можно сказать, что чем больше у заемщика детей, тем выше риск допустить просрочку. \n",
    "- Разница между минимальным и максимальным средним значением составляет: 22.12 %"
   ]
  },
  {
   "cell_type": "markdown",
   "id": "bd31dd80",
   "metadata": {
    "deletable": false,
    "editable": false,
    "id": "bd31dd80"
   },
   "source": [
    "#### 3.2 Есть ли зависимость между семейным положением и возвратом кредита в срок?"
   ]
  },
  {
   "cell_type": "code",
   "execution_count": 24,
   "id": "3cb833d9",
   "metadata": {
    "colab": {
     "base_uri": "https://localhost:8080/",
     "height": 223
    },
    "deletable": false,
    "id": "3cb833d9",
    "outputId": "9b420a72-61b6-438a-f5e8-13c964cb1962"
   },
   "outputs": [
    {
     "name": "stdout",
     "output_type": "stream",
     "text": [
      "Разница между минимальным и максимальным средним значением составляет: 31.39 %\n"
     ]
    },
    {
     "data": {
      "text/html": [
       "<div>\n",
       "<style scoped>\n",
       "    .dataframe tbody tr th:only-of-type {\n",
       "        vertical-align: middle;\n",
       "    }\n",
       "\n",
       "    .dataframe tbody tr th {\n",
       "        vertical-align: top;\n",
       "    }\n",
       "\n",
       "    .dataframe thead th {\n",
       "        text-align: right;\n",
       "    }\n",
       "</style>\n",
       "<table border=\"1\" class=\"dataframe\">\n",
       "  <thead>\n",
       "    <tr style=\"text-align: right;\">\n",
       "      <th></th>\n",
       "      <th>Статус</th>\n",
       "      <th>Кол-во записей</th>\n",
       "      <th>Среднее по задолженности</th>\n",
       "    </tr>\n",
       "  </thead>\n",
       "  <tbody>\n",
       "    <tr>\n",
       "      <th>2</th>\n",
       "      <td>вдовец / вдова</td>\n",
       "      <td>951</td>\n",
       "      <td>6.62%</td>\n",
       "    </tr>\n",
       "    <tr>\n",
       "      <th>1</th>\n",
       "      <td>в разводе</td>\n",
       "      <td>1189</td>\n",
       "      <td>7.06%</td>\n",
       "    </tr>\n",
       "    <tr>\n",
       "      <th>4</th>\n",
       "      <td>женат / замужем</td>\n",
       "      <td>12261</td>\n",
       "      <td>7.56%</td>\n",
       "    </tr>\n",
       "    <tr>\n",
       "      <th>3</th>\n",
       "      <td>гражданский брак</td>\n",
       "      <td>4134</td>\n",
       "      <td>9.31%</td>\n",
       "    </tr>\n",
       "    <tr>\n",
       "      <th>0</th>\n",
       "      <td>Не женат / не замужем</td>\n",
       "      <td>2796</td>\n",
       "      <td>9.76%</td>\n",
       "    </tr>\n",
       "  </tbody>\n",
       "</table>\n",
       "</div>"
      ],
      "text/plain": [
       "                  Статус  Кол-во записей Среднее по задолженности\n",
       "2         вдовец / вдова             951                    6.62%\n",
       "1              в разводе            1189                    7.06%\n",
       "4        женат / замужем           12261                    7.56%\n",
       "3       гражданский брак            4134                    9.31%\n",
       "0  Не женат / не замужем            2796                    9.76%"
      ]
     },
     "execution_count": 24,
     "metadata": {},
     "output_type": "execute_result"
    }
   ],
   "source": [
    "mean = data.groupby('family_status')['debt'].mean()\n",
    "\n",
    "print(addiction(mean))\n",
    "\n",
    "family_debt = data.pivot_table(index=['family_status'], values='debt', aggfunc=('mean', lambda x: x.count()))\n",
    "family_debt['mean'] = family_debt['mean'].apply(percent)\n",
    "family_debt = family_debt.reset_index()\n",
    "family_debt = family_debt.rename(columns={'family_status': 'Статус', '<lambda_0>': 'Кол-во записей', 'mean': 'Среднее по задолженности'})\n",
    "family_debt.sort_values(by='Среднее по задолженности')"
   ]
  },
  {
   "cell_type": "markdown",
   "id": "dfd48de7",
   "metadata": {
    "deletable": false,
    "id": "dfd48de7"
   },
   "source": [
    "**Вывод:** \n",
    "- Вдовцы/вдовы самые ответственные из клиентов. \n",
    "- Холостые  клиенты меньше всего заботятся о сроках погашения кредита. \n",
    "- Если обобщить, можно сказать, что состоящие или состоявшие в браке заемщики реже допускают просрочки. \n",
    "- Разница между минимальным и максимальным средним значением составляет: 31.39 %"
   ]
  },
  {
   "cell_type": "markdown",
   "id": "2ab16bd9",
   "metadata": {
    "deletable": false,
    "editable": false,
    "id": "2ab16bd9"
   },
   "source": [
    "#### 3.3 Есть ли зависимость между уровнем дохода и возвратом кредита в срок?"
   ]
  },
  {
   "cell_type": "code",
   "execution_count": 25,
   "id": "07665819",
   "metadata": {
    "colab": {
     "base_uri": "https://localhost:8080/",
     "height": 223
    },
    "deletable": false,
    "id": "07665819",
    "outputId": "233bfb90-fbb8-4a52-87e3-b6576d376ba1"
   },
   "outputs": [
    {
     "name": "stdout",
     "output_type": "stream",
     "text": [
      "Разница между минимальным и максимальным средним значением составляет: 30.74 %\n"
     ]
    },
    {
     "data": {
      "text/html": [
       "<div>\n",
       "<style scoped>\n",
       "    .dataframe tbody tr th:only-of-type {\n",
       "        vertical-align: middle;\n",
       "    }\n",
       "\n",
       "    .dataframe tbody tr th {\n",
       "        vertical-align: top;\n",
       "    }\n",
       "\n",
       "    .dataframe thead th {\n",
       "        text-align: right;\n",
       "    }\n",
       "</style>\n",
       "<table border=\"1\" class=\"dataframe\">\n",
       "  <thead>\n",
       "    <tr style=\"text-align: right;\">\n",
       "      <th></th>\n",
       "      <th>Категория дохода</th>\n",
       "      <th>Кол-во записей</th>\n",
       "      <th>Среднее по задолженности</th>\n",
       "    </tr>\n",
       "  </thead>\n",
       "  <tbody>\n",
       "    <tr>\n",
       "      <th>3</th>\n",
       "      <td>D</td>\n",
       "      <td>349</td>\n",
       "      <td>6.02%</td>\n",
       "    </tr>\n",
       "    <tr>\n",
       "      <th>1</th>\n",
       "      <td>B</td>\n",
       "      <td>5014</td>\n",
       "      <td>7.06%</td>\n",
       "    </tr>\n",
       "    <tr>\n",
       "      <th>0</th>\n",
       "      <td>A</td>\n",
       "      <td>25</td>\n",
       "      <td>8.0%</td>\n",
       "    </tr>\n",
       "    <tr>\n",
       "      <th>2</th>\n",
       "      <td>C</td>\n",
       "      <td>15921</td>\n",
       "      <td>8.5%</td>\n",
       "    </tr>\n",
       "    <tr>\n",
       "      <th>4</th>\n",
       "      <td>E</td>\n",
       "      <td>22</td>\n",
       "      <td>9.09%</td>\n",
       "    </tr>\n",
       "  </tbody>\n",
       "</table>\n",
       "</div>"
      ],
      "text/plain": [
       "  Категория дохода  Кол-во записей Среднее по задолженности\n",
       "3                D             349                    6.02%\n",
       "1                B            5014                    7.06%\n",
       "0                A              25                     8.0%\n",
       "2                C           15921                     8.5%\n",
       "4                E              22                    9.09%"
      ]
     },
     "execution_count": 25,
     "metadata": {},
     "output_type": "execute_result"
    }
   ],
   "source": [
    "mean = data.groupby('total_income_category')['debt'].mean()\n",
    "\n",
    "print(addiction(mean))\n",
    "\n",
    "income_debt = data.pivot_table(index=['total_income_category'], values='debt', aggfunc=('mean', lambda x: x.count()))\n",
    "income_debt['mean'] = income_debt['mean'].apply(percent)\n",
    "income_debt = income_debt.reset_index()\n",
    "income_debt = income_debt.rename(columns={'total_income_category': 'Категория дохода', '<lambda_0>': 'Кол-во записей', 'mean': 'Среднее по задолженности'})\n",
    "income_debt.sort_values(by='Среднее по задолженности')"
   ]
  },
  {
   "cell_type": "markdown",
   "id": "4a9125a3",
   "metadata": {
    "deletable": false,
    "id": "4a9125a3"
   },
   "source": [
    "**Вывод:** \n",
    "- Самыми ответственными оказались клиенты категории D (с доходом от 30 до 50 т.р.). \n",
    "- Но они берут меньше кредитов по сравнению с категориями B (с доходом от 200 до 1000 т.р.) и С (с доходом от 50 до 200 т.р.), что говорит о том, что кредитный продукт лучше всего продается именно в категориях В и С. \n",
    "- Категория Е (с доходом до 30 т.р.), является самой неблагонадежной. \n",
    "- Если сравнить самые большие категории B и C по проценту просрочки, можно сказать, что заемщики с более высоким доходом платят кредиты вовремя лучше. \n",
    "- Разница между минимальным и максимальным средним значением составляет: 30.74 %"
   ]
  },
  {
   "cell_type": "markdown",
   "id": "41413905",
   "metadata": {
    "deletable": false,
    "editable": false,
    "id": "41413905"
   },
   "source": [
    "#### 3.4 Как разные цели кредита влияют на его возврат в срок?"
   ]
  },
  {
   "cell_type": "code",
   "execution_count": 26,
   "id": "7f194e14",
   "metadata": {
    "colab": {
     "base_uri": "https://localhost:8080/",
     "height": 192
    },
    "deletable": false,
    "id": "7f194e14",
    "outputId": "eedb2e98-b3fb-4c40-b1cd-4447d76d21d1"
   },
   "outputs": [
    {
     "name": "stdout",
     "output_type": "stream",
     "text": [
      "Разница между минимальным и максимальным средним значением составляет: 20.93 %\n"
     ]
    },
    {
     "data": {
      "text/html": [
       "<div>\n",
       "<style scoped>\n",
       "    .dataframe tbody tr th:only-of-type {\n",
       "        vertical-align: middle;\n",
       "    }\n",
       "\n",
       "    .dataframe tbody tr th {\n",
       "        vertical-align: top;\n",
       "    }\n",
       "\n",
       "    .dataframe thead th {\n",
       "        text-align: right;\n",
       "    }\n",
       "</style>\n",
       "<table border=\"1\" class=\"dataframe\">\n",
       "  <thead>\n",
       "    <tr style=\"text-align: right;\">\n",
       "      <th></th>\n",
       "      <th>цель кредита</th>\n",
       "      <th>Кол-во записей</th>\n",
       "      <th>Среднее по задолженности</th>\n",
       "    </tr>\n",
       "  </thead>\n",
       "  <tbody>\n",
       "    <tr>\n",
       "      <th>1</th>\n",
       "      <td>операции с недвижимостью</td>\n",
       "      <td>10751</td>\n",
       "      <td>7.26%</td>\n",
       "    </tr>\n",
       "    <tr>\n",
       "      <th>3</th>\n",
       "      <td>проведение свадьбы</td>\n",
       "      <td>2313</td>\n",
       "      <td>7.91%</td>\n",
       "    </tr>\n",
       "    <tr>\n",
       "      <th>2</th>\n",
       "      <td>получение образования</td>\n",
       "      <td>3988</td>\n",
       "      <td>9.25%</td>\n",
       "    </tr>\n",
       "    <tr>\n",
       "      <th>0</th>\n",
       "      <td>операции с автомобилем</td>\n",
       "      <td>4279</td>\n",
       "      <td>9.35%</td>\n",
       "    </tr>\n",
       "  </tbody>\n",
       "</table>\n",
       "</div>"
      ],
      "text/plain": [
       "               цель кредита  Кол-во записей Среднее по задолженности\n",
       "1  операции с недвижимостью           10751                    7.26%\n",
       "3        проведение свадьбы            2313                    7.91%\n",
       "2     получение образования            3988                    9.25%\n",
       "0    операции с автомобилем            4279                    9.35%"
      ]
     },
     "execution_count": 26,
     "metadata": {},
     "output_type": "execute_result"
    }
   ],
   "source": [
    "mean = data.groupby('purpose_category')['debt'].mean()\n",
    "\n",
    "print(addiction(mean))\n",
    "\n",
    "purpose_debt = data.pivot_table(index=['purpose_category'], values='debt', aggfunc=('mean', lambda x: x.count()))\n",
    "purpose_debt['mean'] = purpose_debt['mean'].apply(percent)\n",
    "purpose_debt = purpose_debt.reset_index()\n",
    "purpose_debt = purpose_debt.rename(columns={'purpose_category': 'цель кредита', '<lambda_0>': 'Кол-во записей', 'mean': 'Среднее по задолженности'})\n",
    "purpose_debt.sort_values(by='Среднее по задолженности')"
   ]
  },
  {
   "cell_type": "markdown",
   "id": "b43c0e5f",
   "metadata": {
    "deletable": false,
    "id": "b43c0e5f"
   },
   "source": [
    "**Вывод:** \n",
    "- Лучшие показатели у операций с недвижимостью и свадеб. \n",
    "- Самыми проблемными выглядят автокредиты и кредиты на образование.. \n",
    "- Разница между минимальным и максимальным средним значением составляет: 20.93 %"
   ]
  },
  {
   "cell_type": "markdown",
   "id": "0df58c46",
   "metadata": {
    "deletable": false,
    "editable": false,
    "id": "0df58c46"
   },
   "source": [
    "#### 3.5 Приведем возможные причины появления пропусков в исходных данных."
   ]
  },
  {
   "cell_type": "markdown",
   "id": "3b93a266",
   "metadata": {
    "deletable": false,
    "id": "3b93a266"
   },
   "source": [
    "Причинами пропусков данных может быть неправильный ввод в следствии человечеких ошибок, намеренного сокрытия данных (например пользователь не захотел указывать имэйл при регистрации на сайте), некорректной формы ввода данных (например поле ввода имейла для рассылки не сделана обязательной). Также данные могут быть пропущены в следствии техничекой ошибки при любых манипуляциях (например загрузка или выгрузка данных)."
   ]
  },
  {
   "cell_type": "markdown",
   "id": "a950c8d8",
   "metadata": {
    "deletable": false,
    "editable": false,
    "id": "a950c8d8"
   },
   "source": [
    "#### 3.6 Почему заполнить пропуски медианным значением — лучшее решение для количественных переменных."
   ]
  },
  {
   "cell_type": "markdown",
   "id": "7d25f51c",
   "metadata": {
    "deletable": false,
    "id": "7d25f51c"
   },
   "source": [
    "Потому, что среднее значение некорректно характеризует данные, когда некоторые значения сильно выделяются среди большинства."
   ]
  },
  {
   "cell_type": "markdown",
   "id": "fbfc3fb9",
   "metadata": {
    "deletable": false,
    "editable": false,
    "id": "fbfc3fb9"
   },
   "source": [
    "### Шаг 4: Общий вывод."
   ]
  },
  {
   "cell_type": "markdown",
   "id": "7425d316",
   "metadata": {
    "deletable": false,
    "id": "7425d316"
   },
   "source": [
    "При работе с данными были произведены следующие действия:\n",
    "- Заполнены пропущенные и аномальные значения. \n",
    "- Обработаны дубликаты. \n",
    "- Выделены категории клиентов по уровню дохода и по целям кредита. \n",
    "- Применив сводные таблицы, был произведены исследования зависимостей: \n",
    "    - между количеством детей и возвратом кредита в срок. \n",
    "    - между семейным положением и возвратом кредита в срок. \n",
    "    - между уровнем дохода и возвратом кредита в срок и целям кредита на его возврат в срок. \n",
    "- Была расчитана разница между минимальным и максимальным средним значением по каждому исследованию:\n",
    "    - Семейное положение - 31.39 %\n",
    "    - Уровень дохода - 30.74 %\n",
    "    - Количество детей - 22.12 %\n",
    "    - Цель кредита - 20.93 %\n",
    "\n",
    "Основной вывод:\n",
    "- Зависимость семейного положения к соевременной выплате кредита требует больше всего внимания.\n",
    "- В общей массе клиентов просрочку чаще всего допускают заемщики с 1-2 детьми, не женатые/замужем или живущие гражданским браком, с доходом от минимального до 200 т.р., целью кредита которых является образования или оперции с автомобилем. \n",
    "- Самые многочисленые категории клиентов - женатые/замужем, без детей с доходом от 50 до 200 т.р., целью кредита которых являются операции с недвижимостью, являются самыми добросовесными."
   ]
  }
 ],
 "metadata": {
  "ExecuteTimeLog": [
   {
    "duration": 470,
    "start_time": "2023-02-02T17:26:40.728Z"
   },
   {
    "duration": 21,
    "start_time": "2023-02-02T17:26:41.201Z"
   },
   {
    "duration": 14,
    "start_time": "2023-02-02T17:26:41.224Z"
   },
   {
    "duration": 10,
    "start_time": "2023-02-02T17:26:41.240Z"
   },
   {
    "duration": 44,
    "start_time": "2023-02-02T17:26:41.251Z"
   },
   {
    "duration": 3,
    "start_time": "2023-02-02T17:26:41.297Z"
   },
   {
    "duration": 35,
    "start_time": "2023-02-02T17:26:41.301Z"
   },
   {
    "duration": 25,
    "start_time": "2023-02-02T17:26:41.337Z"
   },
   {
    "duration": 17,
    "start_time": "2023-02-02T17:26:41.364Z"
   },
   {
    "duration": 7,
    "start_time": "2023-02-02T17:26:41.384Z"
   },
   {
    "duration": 36,
    "start_time": "2023-02-02T17:26:41.392Z"
   },
   {
    "duration": 11,
    "start_time": "2023-02-02T17:26:41.429Z"
   },
   {
    "duration": 13,
    "start_time": "2023-02-02T17:26:41.441Z"
   },
   {
    "duration": 18,
    "start_time": "2023-02-02T17:26:41.456Z"
   },
   {
    "duration": 21,
    "start_time": "2023-02-02T17:26:41.476Z"
   },
   {
    "duration": 128,
    "start_time": "2023-02-02T17:26:41.499Z"
   },
   {
    "duration": 4,
    "start_time": "2023-02-02T17:26:41.628Z"
   },
   {
    "duration": 17,
    "start_time": "2023-02-02T17:26:41.633Z"
   },
   {
    "duration": 16,
    "start_time": "2023-02-02T17:26:41.653Z"
   },
   {
    "duration": 5,
    "start_time": "2023-02-02T17:26:41.671Z"
   },
   {
    "duration": 16,
    "start_time": "2023-02-02T17:26:41.678Z"
   },
   {
    "duration": 5,
    "start_time": "2023-02-02T17:26:41.696Z"
   },
   {
    "duration": 43,
    "start_time": "2023-02-02T17:26:41.703Z"
   },
   {
    "duration": 30,
    "start_time": "2023-02-02T17:26:41.748Z"
   },
   {
    "duration": 49,
    "start_time": "2023-02-02T17:26:41.779Z"
   },
   {
    "duration": 29,
    "start_time": "2023-02-02T17:26:41.830Z"
   },
   {
    "duration": 582,
    "start_time": "2023-02-03T14:50:41.555Z"
   },
   {
    "duration": 25,
    "start_time": "2023-02-03T14:50:42.139Z"
   },
   {
    "duration": 35,
    "start_time": "2023-02-03T14:50:42.166Z"
   },
   {
    "duration": 12,
    "start_time": "2023-02-03T14:50:42.204Z"
   },
   {
    "duration": 39,
    "start_time": "2023-02-03T14:50:42.218Z"
   },
   {
    "duration": 25,
    "start_time": "2023-02-03T14:50:42.259Z"
   },
   {
    "duration": 22,
    "start_time": "2023-02-03T14:50:42.286Z"
   },
   {
    "duration": 5,
    "start_time": "2023-02-03T14:50:42.310Z"
   },
   {
    "duration": 15,
    "start_time": "2023-02-03T14:50:42.317Z"
   },
   {
    "duration": 13,
    "start_time": "2023-02-03T14:50:42.337Z"
   },
   {
    "duration": 57,
    "start_time": "2023-02-03T14:50:42.352Z"
   },
   {
    "duration": 12,
    "start_time": "2023-02-03T14:50:42.410Z"
   },
   {
    "duration": 14,
    "start_time": "2023-02-03T14:50:42.424Z"
   },
   {
    "duration": 21,
    "start_time": "2023-02-03T14:50:42.440Z"
   },
   {
    "duration": 33,
    "start_time": "2023-02-03T14:50:42.463Z"
   },
   {
    "duration": 20,
    "start_time": "2023-02-03T14:50:42.497Z"
   },
   {
    "duration": 4,
    "start_time": "2023-02-03T14:50:42.519Z"
   },
   {
    "duration": 20,
    "start_time": "2023-02-03T14:50:42.524Z"
   },
   {
    "duration": 10,
    "start_time": "2023-02-03T14:50:42.546Z"
   },
   {
    "duration": 4,
    "start_time": "2023-02-03T14:50:42.558Z"
   },
   {
    "duration": 10,
    "start_time": "2023-02-03T14:50:42.584Z"
   },
   {
    "duration": 8,
    "start_time": "2023-02-03T14:50:42.596Z"
   },
   {
    "duration": 48,
    "start_time": "2023-02-03T14:50:42.606Z"
   },
   {
    "duration": 43,
    "start_time": "2023-02-03T14:50:42.655Z"
   },
   {
    "duration": 31,
    "start_time": "2023-02-03T14:50:42.699Z"
   },
   {
    "duration": 62,
    "start_time": "2023-02-03T14:50:42.732Z"
   }
  ],
  "colab": {
   "provenance": []
  },
  "kernelspec": {
   "display_name": "Python 3 (ipykernel)",
   "language": "python",
   "name": "python3"
  },
  "language_info": {
   "codemirror_mode": {
    "name": "ipython",
    "version": 3
   },
   "file_extension": ".py",
   "mimetype": "text/x-python",
   "name": "python",
   "nbconvert_exporter": "python",
   "pygments_lexer": "ipython3",
   "version": "3.9.13"
  },
  "toc": {
   "base_numbering": 1,
   "nav_menu": {},
   "number_sections": true,
   "sideBar": true,
   "skip_h1_title": true,
   "title_cell": "Table of Contents",
   "title_sidebar": "Contents",
   "toc_cell": false,
   "toc_position": {
    "height": "calc(100% - 180px)",
    "left": "10px",
    "top": "150px",
    "width": "315.6px"
   },
   "toc_section_display": true,
   "toc_window_display": false
  }
 },
 "nbformat": 4,
 "nbformat_minor": 5
}
