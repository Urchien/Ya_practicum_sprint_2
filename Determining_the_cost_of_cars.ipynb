{
 "cells": [
  {
   "cell_type": "markdown",
   "metadata": {},
   "source": [
    "# Определение стоимости автомобилей"
   ]
  },
  {
   "cell_type": "markdown",
   "metadata": {},
   "source": [
    "Сервис по продаже автомобилей с пробегом «Не бит, не крашен» разрабатывает приложение для привлечения новых клиентов. В нём можно быстро узнать рыночную стоимость своего автомобиля. В вашем распоряжении исторические данные: технические характеристики, комплектации и цены автомобилей. Вам нужно построить модель для определения стоимости. \n",
    "\n",
    "Заказчику важны:\n",
    "\n",
    "- качество предсказания;\n",
    "- скорость предсказания;\n",
    "- время обучения."
   ]
  },
  {
   "cell_type": "markdown",
   "metadata": {},
   "source": [
    "# План работ:\n",
    "\n",
    "1. Загрузить и изучить данные. \n",
    "2. Заполнить пропущенные значения и обработать аномалии в столбцах. Если среди признаков имеются неинформативные, удалить их.\n",
    "2. Подготовить выборки для обучения моделей.\n",
    "4. Обучить разные модели, одна из которых — LightGBM, как минимум одна — не бустинг. Для каждой модели попробовать разные гиперпараметры.\n",
    "5. Проанализировать время обучения, время предсказания и качество моделей.\n",
    "6. Опираясь на критерии заказчика, выбрать лучшую модель, проверить её качество на тестовой выборке."
   ]
  },
  {
   "cell_type": "markdown",
   "metadata": {},
   "source": [
    "# Описание данных:\n",
    "\n",
    "- Признаки\n",
    "    - DateCrawled — дата скачивания анкеты из базы\n",
    "    - VehicleType — тип автомобильного кузова\n",
    "    - RegistrationYear — год регистрации автомобиля\n",
    "    - Gearbox — тип коробки передач\n",
    "    - Power — мощность (л. с.)\n",
    "    - Model — модель автомобиля\n",
    "    - Kilometer — пробег (км)\n",
    "    - RegistrationMonth — месяц регистрации автомобиля\n",
    "    - FuelType — тип топлива\n",
    "    - Brand — марка автомобиля\n",
    "    - Repaired — была машина в ремонте или нет\n",
    "    - DateCreated — дата создания анкеты\n",
    "    - NumberOfPictures — количество фотографий автомобиля\n",
    "    - PostalCode — почтовый индекс владельца анкеты (пользователя)\n",
    "    - LastSeen — дата последней активности пользователя\n",
    "- Целевой признак\n",
    "    - Price — цена (евро)"
   ]
  },
  {
   "cell_type": "markdown",
   "metadata": {},
   "source": [
    "## Подготовка данных"
   ]
  },
  {
   "cell_type": "markdown",
   "metadata": {},
   "source": [
    "### Подключим необходимые библиотеки и настройки:"
   ]
  },
  {
   "cell_type": "code",
   "execution_count": 1,
   "metadata": {},
   "outputs": [
    {
     "name": "stdout",
     "output_type": "stream",
     "text": [
      "Requirement already satisfied: lightgbm in c:\\users\\msi-\\anaconda3\\lib\\site-packages (3.3.5)"
     ]
    },
    {
     "name": "stderr",
     "output_type": "stream",
     "text": [
      "WARNING: You are using pip version 21.3.1; however, version 23.1.2 is available.\n",
      "You should consider upgrading via the 'C:\\Users\\MSI-\\anaconda3\\python.exe -m pip install --upgrade pip' command.\n"
     ]
    },
    {
     "name": "stdout",
     "output_type": "stream",
     "text": [
      "\n",
      "Requirement already satisfied: numpy in c:\\users\\msi-\\anaconda3\\lib\\site-packages (from lightgbm) (1.21.5)\n",
      "Requirement already satisfied: scikit-learn!=0.22.0 in c:\\users\\msi-\\anaconda3\\lib\\site-packages (from lightgbm) (1.1.3)\n",
      "Requirement already satisfied: scipy in c:\\users\\msi-\\anaconda3\\lib\\site-packages (from lightgbm) (1.9.1)\n",
      "Requirement already satisfied: wheel in c:\\users\\msi-\\anaconda3\\lib\\site-packages (from lightgbm) (0.37.1)\n",
      "Requirement already satisfied: threadpoolctl>=2.0.0 in c:\\users\\msi-\\anaconda3\\lib\\site-packages (from scikit-learn!=0.22.0->lightgbm) (2.2.0)\n",
      "Requirement already satisfied: joblib>=1.0.0 in c:\\users\\msi-\\anaconda3\\lib\\site-packages (from scikit-learn!=0.22.0->lightgbm) (1.2.0)\n",
      "Requirement already satisfied: catboost in c:\\users\\msi-\\anaconda3\\lib\\site-packages (1.2)\n",
      "Requirement already satisfied: scipy in c:\\users\\msi-\\anaconda3\\lib\\site-packages (from catboost) (1.9.1)\n",
      "Requirement already satisfied: pandas>=0.24 in c:\\users\\msi-\\anaconda3\\lib\\site-packages (from catboost) (1.4.4)\n",
      "Requirement already satisfied: plotly in c:\\users\\msi-\\anaconda3\\lib\\site-packages (from catboost) (5.9.0)\n",
      "Requirement already satisfied: graphviz in c:\\users\\msi-\\anaconda3\\lib\\site-packages (from catboost) (0.20.1)\n",
      "Requirement already satisfied: matplotlib in c:\\users\\msi-\\anaconda3\\lib\\site-packages (from catboost) (3.5.2)\n",
      "Requirement already satisfied: numpy>=1.16.0 in c:\\users\\msi-\\anaconda3\\lib\\site-packages (from catboost) (1.21.5)\n",
      "Requirement already satisfied: six in c:\\users\\msi-\\appdata\\roaming\\python\\python39\\site-packages (from catboost) (1.16.0)\n",
      "Requirement already satisfied: pytz>=2020.1 in c:\\users\\msi-\\appdata\\roaming\\python\\python39\\site-packages (from pandas>=0.24->catboost) (2021.3)\n",
      "Requirement already satisfied: python-dateutil>=2.8.1 in c:\\users\\msi-\\appdata\\roaming\\python\\python39\\site-packages (from pandas>=0.24->catboost) (2.8.2)\n",
      "Requirement already satisfied: packaging>=20.0 in c:\\users\\msi-\\appdata\\roaming\\python\\python39\\site-packages (from matplotlib->catboost) (21.3)\n",
      "Requirement already satisfied: pyparsing>=2.2.1 in c:\\users\\msi-\\appdata\\roaming\\python\\python39\\site-packages (from matplotlib->catboost) (3.0.6)\n",
      "Requirement already satisfied: kiwisolver>=1.0.1 in c:\\users\\msi-\\anaconda3\\lib\\site-packages (from matplotlib->catboost) (1.4.2)\n",
      "Requirement already satisfied: cycler>=0.10 in c:\\users\\msi-\\anaconda3\\lib\\site-packages (from matplotlib->catboost) (0.11.0)\n",
      "Requirement already satisfied: pillow>=6.2.0 in c:\\users\\msi-\\anaconda3\\lib\\site-packages (from matplotlib->catboost) (9.2.0)\n",
      "Requirement already satisfied: fonttools>=4.22.0 in c:\\users\\msi-\\anaconda3\\lib\\site-packages (from matplotlib->catboost) (4.25.0)\n",
      "Requirement already satisfied: tenacity>=6.2.0 in c:\\users\\msi-\\anaconda3\\lib\\site-packages (from plotly->catboost) (8.0.1)\n"
     ]
    },
    {
     "name": "stderr",
     "output_type": "stream",
     "text": [
      "WARNING: You are using pip version 21.3.1; however, version 23.1.2 is available.\n",
      "You should consider upgrading via the 'C:\\Users\\MSI-\\anaconda3\\python.exe -m pip install --upgrade pip' command.\n"
     ]
    }
   ],
   "source": [
    "import pandas as pd\n",
    "import numpy as np\n",
    "import matplotlib.pyplot as plt\n",
    "import seaborn as sns\n",
    "\n",
    "import os\n",
    "import re\n",
    "import time\n",
    "#from datetime import datetime\n",
    "\n",
    "!pip install lightgbm\n",
    "!pip install catboost\n",
    "\n",
    "from sklearn.pipeline import Pipeline\n",
    "from sklearn.compose import ColumnTransformer\n",
    "from sklearn.preprocessing import StandardScaler\n",
    "from category_encoders import TargetEncoder\n",
    "from sklearn.model_selection import train_test_split, GridSearchCV, cross_val_score\n",
    "from sklearn.linear_model import LinearRegression, Ridge\n",
    "from lightgbm import LGBMRegressor\n",
    "from catboost import CatBoostRegressor\n",
    "from sklearn.ensemble import RandomForestRegressor\n",
    "from sklearn.metrics import mean_squared_error\n",
    "from sklearn.ensemble import GradientBoostingRegressor, BaggingRegressor\n",
    "from sklearn.dummy import DummyRegressor\n",
    "\n",
    "import warnings\n",
    "warnings.filterwarnings('ignore')\n",
    "\n",
    "pd.set_option('max_colwidth', 1000)\n",
    "\n",
    "RANDOM_STATE = 42"
   ]
  },
  {
   "cell_type": "markdown",
   "metadata": {},
   "source": [
    "**Создадим и применим функцию функцию, которая будет на вход принимать датафрейм, а на выходе будет выводить все необходимые характеристики поочередно применяя методы:**"
   ]
  },
  {
   "cell_type": "code",
   "execution_count": 2,
   "metadata": {},
   "outputs": [],
   "source": [
    "def data_info(dataframe):\n",
    "    print('Выведем общую информацию по датафрейму:')\n",
    "    display(dataframe.info())\n",
    "    print('\\nВыведем первые 10 строк:')\n",
    "    display(dataframe.head(10))\n",
    "    print('\\nВыведем последние 10 строк:')\n",
    "    display(dataframe.tail(10))\n",
    "    print('\\nПосмотрим пропуски:')\n",
    "    display(dataframe.isnull().sum().sort_values(ascending=False))\n",
    "    print('\\nПосмотрим на описание датафрейма:')\n",
    "    display(dataframe.describe())\n",
    "    print('\\nКоличество дубликатов:')\n",
    "    display(dataframe.duplicated().sum())\n",
    "    print('\\nПосмотрим на признаки:\\n')\n",
    "    num_columns, cat_columns = [], []\n",
    "    for num, i in enumerate(dataframe.columns):\n",
    "        if pd.api.types.is_numeric_dtype(dataframe[i]):\n",
    "            print(\n",
    "                f'{num+1}. {i} - тип данных int64, уникальных значений: {len(dataframe[i].unique())}')\n",
    "            num_columns.append(i)\n",
    "        elif pd.api.types.is_object_dtype(dataframe[i]):\n",
    "            print(\n",
    "                f'{num+1}. {i} - тип данных object, уникальных значений: {len(dataframe[i].unique())}')\n",
    "            cat_columns.append(i)\n",
    "    print(\n",
    "        f'\\nИтого:\\nпризнаки с типом данных int64: {len(num_columns)}\\nпризнаки с типом данных object: {len(cat_columns)}')\n",
    "#     fig, ax = plt.subplots(nrows=4, ncols=4, figsize=(12, 12))\n",
    "#     fig.suptitle('Распределение значений признаков', fontsize=20)\n",
    "#     for num, col_name in enumerate(dataframe.columns):\n",
    "#         row = num // 4\n",
    "#         col = num % 4\n",
    "#         if dataframe[col_name].nunique() > 10000:\n",
    "#             ax[row][col].set_title(col_name)\n",
    "#             ax[row][col].set_xticks([])\n",
    "#             ax[row][col].set_yticks([])\n",
    "#             continue\n",
    "#         if col_name in num_columns:\n",
    "#             ax[row][col].hist(dataframe[col_name].dropna(), bins=20)\n",
    "#             ax[row][col].set_title(col_name)\n",
    "#             ax[row][col].set_xticks([])\n",
    "#             ax[row][col].set_yticks([])\n",
    "#         else:\n",
    "#             counts = dataframe[col_name].dropna().value_counts()\n",
    "#             ax[row][col].pie(counts.values.tolist(), startangle=90, wedgeprops={\n",
    "#                              'linewidth': .5, 'edgecolor': 'white'})\n",
    "#             ax[row][col].set_title(col_name)\n",
    "#     plt.subplots_adjust(hspace=.8, wspace=.5)\n",
    "#     plt.show"
   ]
  },
  {
   "cell_type": "markdown",
   "metadata": {},
   "source": [
    "### Загрузим и опишем датафрейм:"
   ]
  },
  {
   "cell_type": "code",
   "execution_count": 3,
   "metadata": {},
   "outputs": [],
   "source": [
    "# try:\n",
    "#     data = pd.read_csv('D:\\\\Profile\\\\Desktop\\\\Ya_P\\\\Python\\\\Projects\\\\data\\\\autos.csv')\n",
    "# except FileNotFoundError:\n",
    "#     data = pd.read_csv('https://code.s3.yandex.net/datasets/autos.csv')"
   ]
  },
  {
   "cell_type": "code",
   "execution_count": 4,
   "metadata": {},
   "outputs": [],
   "source": [
    "path_1 = '_______________autos.csv'\n",
    "path_2 = 'https://____________autos.csv'\n",
    "\n",
    "if os.path.exists(path_1):\n",
    "    data = pd.read_csv(path_1)\n",
    "elif os.path.exists(path_2):\n",
    "    data = pd.read_csv(path_2)\n",
    "else:\n",
    "    print('Что-то пошло не так')"
   ]
  },
  {
   "cell_type": "code",
   "execution_count": 5,
   "metadata": {
    "scrolled": false
   },
   "outputs": [
    {
     "name": "stdout",
     "output_type": "stream",
     "text": [
      "Выведем общую информацию по датафрейму:\n",
      "<class 'pandas.core.frame.DataFrame'>\n",
      "RangeIndex: 354369 entries, 0 to 354368\n",
      "Data columns (total 16 columns):\n",
      " #   Column             Non-Null Count   Dtype \n",
      "---  ------             --------------   ----- \n",
      " 0   DateCrawled        354369 non-null  object\n",
      " 1   Price              354369 non-null  int64 \n",
      " 2   VehicleType        316879 non-null  object\n",
      " 3   RegistrationYear   354369 non-null  int64 \n",
      " 4   Gearbox            334536 non-null  object\n",
      " 5   Power              354369 non-null  int64 \n",
      " 6   Model              334664 non-null  object\n",
      " 7   Kilometer          354369 non-null  int64 \n",
      " 8   RegistrationMonth  354369 non-null  int64 \n",
      " 9   FuelType           321474 non-null  object\n",
      " 10  Brand              354369 non-null  object\n",
      " 11  Repaired           283215 non-null  object\n",
      " 12  DateCreated        354369 non-null  object\n",
      " 13  NumberOfPictures   354369 non-null  int64 \n",
      " 14  PostalCode         354369 non-null  int64 \n",
      " 15  LastSeen           354369 non-null  object\n",
      "dtypes: int64(7), object(9)\n",
      "memory usage: 43.3+ MB\n"
     ]
    },
    {
     "data": {
      "text/plain": [
       "None"
      ]
     },
     "metadata": {},
     "output_type": "display_data"
    },
    {
     "name": "stdout",
     "output_type": "stream",
     "text": [
      "\n",
      "Выведем первые 10 строк:\n"
     ]
    },
    {
     "data": {
      "text/html": [
       "<div>\n",
       "<style scoped>\n",
       "    .dataframe tbody tr th:only-of-type {\n",
       "        vertical-align: middle;\n",
       "    }\n",
       "\n",
       "    .dataframe tbody tr th {\n",
       "        vertical-align: top;\n",
       "    }\n",
       "\n",
       "    .dataframe thead th {\n",
       "        text-align: right;\n",
       "    }\n",
       "</style>\n",
       "<table border=\"1\" class=\"dataframe\">\n",
       "  <thead>\n",
       "    <tr style=\"text-align: right;\">\n",
       "      <th></th>\n",
       "      <th>DateCrawled</th>\n",
       "      <th>Price</th>\n",
       "      <th>VehicleType</th>\n",
       "      <th>RegistrationYear</th>\n",
       "      <th>Gearbox</th>\n",
       "      <th>Power</th>\n",
       "      <th>Model</th>\n",
       "      <th>Kilometer</th>\n",
       "      <th>RegistrationMonth</th>\n",
       "      <th>FuelType</th>\n",
       "      <th>Brand</th>\n",
       "      <th>Repaired</th>\n",
       "      <th>DateCreated</th>\n",
       "      <th>NumberOfPictures</th>\n",
       "      <th>PostalCode</th>\n",
       "      <th>LastSeen</th>\n",
       "    </tr>\n",
       "  </thead>\n",
       "  <tbody>\n",
       "    <tr>\n",
       "      <th>0</th>\n",
       "      <td>2016-03-24 11:52:17</td>\n",
       "      <td>480</td>\n",
       "      <td>NaN</td>\n",
       "      <td>1993</td>\n",
       "      <td>manual</td>\n",
       "      <td>0</td>\n",
       "      <td>golf</td>\n",
       "      <td>150000</td>\n",
       "      <td>0</td>\n",
       "      <td>petrol</td>\n",
       "      <td>volkswagen</td>\n",
       "      <td>NaN</td>\n",
       "      <td>2016-03-24 00:00:00</td>\n",
       "      <td>0</td>\n",
       "      <td>70435</td>\n",
       "      <td>2016-04-07 03:16:57</td>\n",
       "    </tr>\n",
       "    <tr>\n",
       "      <th>1</th>\n",
       "      <td>2016-03-24 10:58:45</td>\n",
       "      <td>18300</td>\n",
       "      <td>coupe</td>\n",
       "      <td>2011</td>\n",
       "      <td>manual</td>\n",
       "      <td>190</td>\n",
       "      <td>NaN</td>\n",
       "      <td>125000</td>\n",
       "      <td>5</td>\n",
       "      <td>gasoline</td>\n",
       "      <td>audi</td>\n",
       "      <td>yes</td>\n",
       "      <td>2016-03-24 00:00:00</td>\n",
       "      <td>0</td>\n",
       "      <td>66954</td>\n",
       "      <td>2016-04-07 01:46:50</td>\n",
       "    </tr>\n",
       "    <tr>\n",
       "      <th>2</th>\n",
       "      <td>2016-03-14 12:52:21</td>\n",
       "      <td>9800</td>\n",
       "      <td>suv</td>\n",
       "      <td>2004</td>\n",
       "      <td>auto</td>\n",
       "      <td>163</td>\n",
       "      <td>grand</td>\n",
       "      <td>125000</td>\n",
       "      <td>8</td>\n",
       "      <td>gasoline</td>\n",
       "      <td>jeep</td>\n",
       "      <td>NaN</td>\n",
       "      <td>2016-03-14 00:00:00</td>\n",
       "      <td>0</td>\n",
       "      <td>90480</td>\n",
       "      <td>2016-04-05 12:47:46</td>\n",
       "    </tr>\n",
       "    <tr>\n",
       "      <th>3</th>\n",
       "      <td>2016-03-17 16:54:04</td>\n",
       "      <td>1500</td>\n",
       "      <td>small</td>\n",
       "      <td>2001</td>\n",
       "      <td>manual</td>\n",
       "      <td>75</td>\n",
       "      <td>golf</td>\n",
       "      <td>150000</td>\n",
       "      <td>6</td>\n",
       "      <td>petrol</td>\n",
       "      <td>volkswagen</td>\n",
       "      <td>no</td>\n",
       "      <td>2016-03-17 00:00:00</td>\n",
       "      <td>0</td>\n",
       "      <td>91074</td>\n",
       "      <td>2016-03-17 17:40:17</td>\n",
       "    </tr>\n",
       "    <tr>\n",
       "      <th>4</th>\n",
       "      <td>2016-03-31 17:25:20</td>\n",
       "      <td>3600</td>\n",
       "      <td>small</td>\n",
       "      <td>2008</td>\n",
       "      <td>manual</td>\n",
       "      <td>69</td>\n",
       "      <td>fabia</td>\n",
       "      <td>90000</td>\n",
       "      <td>7</td>\n",
       "      <td>gasoline</td>\n",
       "      <td>skoda</td>\n",
       "      <td>no</td>\n",
       "      <td>2016-03-31 00:00:00</td>\n",
       "      <td>0</td>\n",
       "      <td>60437</td>\n",
       "      <td>2016-04-06 10:17:21</td>\n",
       "    </tr>\n",
       "    <tr>\n",
       "      <th>5</th>\n",
       "      <td>2016-04-04 17:36:23</td>\n",
       "      <td>650</td>\n",
       "      <td>sedan</td>\n",
       "      <td>1995</td>\n",
       "      <td>manual</td>\n",
       "      <td>102</td>\n",
       "      <td>3er</td>\n",
       "      <td>150000</td>\n",
       "      <td>10</td>\n",
       "      <td>petrol</td>\n",
       "      <td>bmw</td>\n",
       "      <td>yes</td>\n",
       "      <td>2016-04-04 00:00:00</td>\n",
       "      <td>0</td>\n",
       "      <td>33775</td>\n",
       "      <td>2016-04-06 19:17:07</td>\n",
       "    </tr>\n",
       "    <tr>\n",
       "      <th>6</th>\n",
       "      <td>2016-04-01 20:48:51</td>\n",
       "      <td>2200</td>\n",
       "      <td>convertible</td>\n",
       "      <td>2004</td>\n",
       "      <td>manual</td>\n",
       "      <td>109</td>\n",
       "      <td>2_reihe</td>\n",
       "      <td>150000</td>\n",
       "      <td>8</td>\n",
       "      <td>petrol</td>\n",
       "      <td>peugeot</td>\n",
       "      <td>no</td>\n",
       "      <td>2016-04-01 00:00:00</td>\n",
       "      <td>0</td>\n",
       "      <td>67112</td>\n",
       "      <td>2016-04-05 18:18:39</td>\n",
       "    </tr>\n",
       "    <tr>\n",
       "      <th>7</th>\n",
       "      <td>2016-03-21 18:54:38</td>\n",
       "      <td>0</td>\n",
       "      <td>sedan</td>\n",
       "      <td>1980</td>\n",
       "      <td>manual</td>\n",
       "      <td>50</td>\n",
       "      <td>other</td>\n",
       "      <td>40000</td>\n",
       "      <td>7</td>\n",
       "      <td>petrol</td>\n",
       "      <td>volkswagen</td>\n",
       "      <td>no</td>\n",
       "      <td>2016-03-21 00:00:00</td>\n",
       "      <td>0</td>\n",
       "      <td>19348</td>\n",
       "      <td>2016-03-25 16:47:58</td>\n",
       "    </tr>\n",
       "    <tr>\n",
       "      <th>8</th>\n",
       "      <td>2016-04-04 23:42:13</td>\n",
       "      <td>14500</td>\n",
       "      <td>bus</td>\n",
       "      <td>2014</td>\n",
       "      <td>manual</td>\n",
       "      <td>125</td>\n",
       "      <td>c_max</td>\n",
       "      <td>30000</td>\n",
       "      <td>8</td>\n",
       "      <td>petrol</td>\n",
       "      <td>ford</td>\n",
       "      <td>NaN</td>\n",
       "      <td>2016-04-04 00:00:00</td>\n",
       "      <td>0</td>\n",
       "      <td>94505</td>\n",
       "      <td>2016-04-04 23:42:13</td>\n",
       "    </tr>\n",
       "    <tr>\n",
       "      <th>9</th>\n",
       "      <td>2016-03-17 10:53:50</td>\n",
       "      <td>999</td>\n",
       "      <td>small</td>\n",
       "      <td>1998</td>\n",
       "      <td>manual</td>\n",
       "      <td>101</td>\n",
       "      <td>golf</td>\n",
       "      <td>150000</td>\n",
       "      <td>0</td>\n",
       "      <td>NaN</td>\n",
       "      <td>volkswagen</td>\n",
       "      <td>NaN</td>\n",
       "      <td>2016-03-17 00:00:00</td>\n",
       "      <td>0</td>\n",
       "      <td>27472</td>\n",
       "      <td>2016-03-31 17:17:06</td>\n",
       "    </tr>\n",
       "  </tbody>\n",
       "</table>\n",
       "</div>"
      ],
      "text/plain": [
       "           DateCrawled  Price  VehicleType  RegistrationYear Gearbox  Power  \\\n",
       "0  2016-03-24 11:52:17    480          NaN              1993  manual      0   \n",
       "1  2016-03-24 10:58:45  18300        coupe              2011  manual    190   \n",
       "2  2016-03-14 12:52:21   9800          suv              2004    auto    163   \n",
       "3  2016-03-17 16:54:04   1500        small              2001  manual     75   \n",
       "4  2016-03-31 17:25:20   3600        small              2008  manual     69   \n",
       "5  2016-04-04 17:36:23    650        sedan              1995  manual    102   \n",
       "6  2016-04-01 20:48:51   2200  convertible              2004  manual    109   \n",
       "7  2016-03-21 18:54:38      0        sedan              1980  manual     50   \n",
       "8  2016-04-04 23:42:13  14500          bus              2014  manual    125   \n",
       "9  2016-03-17 10:53:50    999        small              1998  manual    101   \n",
       "\n",
       "     Model  Kilometer  RegistrationMonth  FuelType       Brand Repaired  \\\n",
       "0     golf     150000                  0    petrol  volkswagen      NaN   \n",
       "1      NaN     125000                  5  gasoline        audi      yes   \n",
       "2    grand     125000                  8  gasoline        jeep      NaN   \n",
       "3     golf     150000                  6    petrol  volkswagen       no   \n",
       "4    fabia      90000                  7  gasoline       skoda       no   \n",
       "5      3er     150000                 10    petrol         bmw      yes   \n",
       "6  2_reihe     150000                  8    petrol     peugeot       no   \n",
       "7    other      40000                  7    petrol  volkswagen       no   \n",
       "8    c_max      30000                  8    petrol        ford      NaN   \n",
       "9     golf     150000                  0       NaN  volkswagen      NaN   \n",
       "\n",
       "           DateCreated  NumberOfPictures  PostalCode             LastSeen  \n",
       "0  2016-03-24 00:00:00                 0       70435  2016-04-07 03:16:57  \n",
       "1  2016-03-24 00:00:00                 0       66954  2016-04-07 01:46:50  \n",
       "2  2016-03-14 00:00:00                 0       90480  2016-04-05 12:47:46  \n",
       "3  2016-03-17 00:00:00                 0       91074  2016-03-17 17:40:17  \n",
       "4  2016-03-31 00:00:00                 0       60437  2016-04-06 10:17:21  \n",
       "5  2016-04-04 00:00:00                 0       33775  2016-04-06 19:17:07  \n",
       "6  2016-04-01 00:00:00                 0       67112  2016-04-05 18:18:39  \n",
       "7  2016-03-21 00:00:00                 0       19348  2016-03-25 16:47:58  \n",
       "8  2016-04-04 00:00:00                 0       94505  2016-04-04 23:42:13  \n",
       "9  2016-03-17 00:00:00                 0       27472  2016-03-31 17:17:06  "
      ]
     },
     "metadata": {},
     "output_type": "display_data"
    },
    {
     "name": "stdout",
     "output_type": "stream",
     "text": [
      "\n",
      "Выведем последние 10 строк:\n"
     ]
    },
    {
     "data": {
      "text/html": [
       "<div>\n",
       "<style scoped>\n",
       "    .dataframe tbody tr th:only-of-type {\n",
       "        vertical-align: middle;\n",
       "    }\n",
       "\n",
       "    .dataframe tbody tr th {\n",
       "        vertical-align: top;\n",
       "    }\n",
       "\n",
       "    .dataframe thead th {\n",
       "        text-align: right;\n",
       "    }\n",
       "</style>\n",
       "<table border=\"1\" class=\"dataframe\">\n",
       "  <thead>\n",
       "    <tr style=\"text-align: right;\">\n",
       "      <th></th>\n",
       "      <th>DateCrawled</th>\n",
       "      <th>Price</th>\n",
       "      <th>VehicleType</th>\n",
       "      <th>RegistrationYear</th>\n",
       "      <th>Gearbox</th>\n",
       "      <th>Power</th>\n",
       "      <th>Model</th>\n",
       "      <th>Kilometer</th>\n",
       "      <th>RegistrationMonth</th>\n",
       "      <th>FuelType</th>\n",
       "      <th>Brand</th>\n",
       "      <th>Repaired</th>\n",
       "      <th>DateCreated</th>\n",
       "      <th>NumberOfPictures</th>\n",
       "      <th>PostalCode</th>\n",
       "      <th>LastSeen</th>\n",
       "    </tr>\n",
       "  </thead>\n",
       "  <tbody>\n",
       "    <tr>\n",
       "      <th>354359</th>\n",
       "      <td>2016-03-28 13:48:07</td>\n",
       "      <td>7900</td>\n",
       "      <td>sedan</td>\n",
       "      <td>2010</td>\n",
       "      <td>manual</td>\n",
       "      <td>140</td>\n",
       "      <td>golf</td>\n",
       "      <td>150000</td>\n",
       "      <td>7</td>\n",
       "      <td>gasoline</td>\n",
       "      <td>volkswagen</td>\n",
       "      <td>no</td>\n",
       "      <td>2016-03-28 00:00:00</td>\n",
       "      <td>0</td>\n",
       "      <td>75223</td>\n",
       "      <td>2016-04-02 18:16:20</td>\n",
       "    </tr>\n",
       "    <tr>\n",
       "      <th>354360</th>\n",
       "      <td>2016-04-02 20:37:03</td>\n",
       "      <td>3999</td>\n",
       "      <td>wagon</td>\n",
       "      <td>2005</td>\n",
       "      <td>manual</td>\n",
       "      <td>3</td>\n",
       "      <td>3er</td>\n",
       "      <td>150000</td>\n",
       "      <td>5</td>\n",
       "      <td>gasoline</td>\n",
       "      <td>bmw</td>\n",
       "      <td>no</td>\n",
       "      <td>2016-04-02 00:00:00</td>\n",
       "      <td>0</td>\n",
       "      <td>81825</td>\n",
       "      <td>2016-04-06 20:47:12</td>\n",
       "    </tr>\n",
       "    <tr>\n",
       "      <th>354361</th>\n",
       "      <td>2016-03-09 13:37:43</td>\n",
       "      <td>5250</td>\n",
       "      <td>NaN</td>\n",
       "      <td>2016</td>\n",
       "      <td>auto</td>\n",
       "      <td>150</td>\n",
       "      <td>159</td>\n",
       "      <td>150000</td>\n",
       "      <td>12</td>\n",
       "      <td>NaN</td>\n",
       "      <td>alfa_romeo</td>\n",
       "      <td>no</td>\n",
       "      <td>2016-03-09 00:00:00</td>\n",
       "      <td>0</td>\n",
       "      <td>51371</td>\n",
       "      <td>2016-03-13 01:44:13</td>\n",
       "    </tr>\n",
       "    <tr>\n",
       "      <th>354362</th>\n",
       "      <td>2016-03-19 19:53:49</td>\n",
       "      <td>3200</td>\n",
       "      <td>sedan</td>\n",
       "      <td>2004</td>\n",
       "      <td>manual</td>\n",
       "      <td>225</td>\n",
       "      <td>leon</td>\n",
       "      <td>150000</td>\n",
       "      <td>5</td>\n",
       "      <td>petrol</td>\n",
       "      <td>seat</td>\n",
       "      <td>yes</td>\n",
       "      <td>2016-03-19 00:00:00</td>\n",
       "      <td>0</td>\n",
       "      <td>96465</td>\n",
       "      <td>2016-03-19 20:44:43</td>\n",
       "    </tr>\n",
       "    <tr>\n",
       "      <th>354363</th>\n",
       "      <td>2016-03-27 20:36:20</td>\n",
       "      <td>1150</td>\n",
       "      <td>bus</td>\n",
       "      <td>2000</td>\n",
       "      <td>manual</td>\n",
       "      <td>0</td>\n",
       "      <td>zafira</td>\n",
       "      <td>150000</td>\n",
       "      <td>3</td>\n",
       "      <td>petrol</td>\n",
       "      <td>opel</td>\n",
       "      <td>no</td>\n",
       "      <td>2016-03-27 00:00:00</td>\n",
       "      <td>0</td>\n",
       "      <td>26624</td>\n",
       "      <td>2016-03-29 10:17:23</td>\n",
       "    </tr>\n",
       "    <tr>\n",
       "      <th>354364</th>\n",
       "      <td>2016-03-21 09:50:58</td>\n",
       "      <td>0</td>\n",
       "      <td>NaN</td>\n",
       "      <td>2005</td>\n",
       "      <td>manual</td>\n",
       "      <td>0</td>\n",
       "      <td>colt</td>\n",
       "      <td>150000</td>\n",
       "      <td>7</td>\n",
       "      <td>petrol</td>\n",
       "      <td>mitsubishi</td>\n",
       "      <td>yes</td>\n",
       "      <td>2016-03-21 00:00:00</td>\n",
       "      <td>0</td>\n",
       "      <td>2694</td>\n",
       "      <td>2016-03-21 10:42:49</td>\n",
       "    </tr>\n",
       "    <tr>\n",
       "      <th>354365</th>\n",
       "      <td>2016-03-14 17:48:27</td>\n",
       "      <td>2200</td>\n",
       "      <td>NaN</td>\n",
       "      <td>2005</td>\n",
       "      <td>NaN</td>\n",
       "      <td>0</td>\n",
       "      <td>NaN</td>\n",
       "      <td>20000</td>\n",
       "      <td>1</td>\n",
       "      <td>NaN</td>\n",
       "      <td>sonstige_autos</td>\n",
       "      <td>NaN</td>\n",
       "      <td>2016-03-14 00:00:00</td>\n",
       "      <td>0</td>\n",
       "      <td>39576</td>\n",
       "      <td>2016-04-06 00:46:52</td>\n",
       "    </tr>\n",
       "    <tr>\n",
       "      <th>354366</th>\n",
       "      <td>2016-03-05 19:56:21</td>\n",
       "      <td>1199</td>\n",
       "      <td>convertible</td>\n",
       "      <td>2000</td>\n",
       "      <td>auto</td>\n",
       "      <td>101</td>\n",
       "      <td>fortwo</td>\n",
       "      <td>125000</td>\n",
       "      <td>3</td>\n",
       "      <td>petrol</td>\n",
       "      <td>smart</td>\n",
       "      <td>no</td>\n",
       "      <td>2016-03-05 00:00:00</td>\n",
       "      <td>0</td>\n",
       "      <td>26135</td>\n",
       "      <td>2016-03-11 18:17:12</td>\n",
       "    </tr>\n",
       "    <tr>\n",
       "      <th>354367</th>\n",
       "      <td>2016-03-19 18:57:12</td>\n",
       "      <td>9200</td>\n",
       "      <td>bus</td>\n",
       "      <td>1996</td>\n",
       "      <td>manual</td>\n",
       "      <td>102</td>\n",
       "      <td>transporter</td>\n",
       "      <td>150000</td>\n",
       "      <td>3</td>\n",
       "      <td>gasoline</td>\n",
       "      <td>volkswagen</td>\n",
       "      <td>no</td>\n",
       "      <td>2016-03-19 00:00:00</td>\n",
       "      <td>0</td>\n",
       "      <td>87439</td>\n",
       "      <td>2016-04-07 07:15:26</td>\n",
       "    </tr>\n",
       "    <tr>\n",
       "      <th>354368</th>\n",
       "      <td>2016-03-20 19:41:08</td>\n",
       "      <td>3400</td>\n",
       "      <td>wagon</td>\n",
       "      <td>2002</td>\n",
       "      <td>manual</td>\n",
       "      <td>100</td>\n",
       "      <td>golf</td>\n",
       "      <td>150000</td>\n",
       "      <td>6</td>\n",
       "      <td>gasoline</td>\n",
       "      <td>volkswagen</td>\n",
       "      <td>NaN</td>\n",
       "      <td>2016-03-20 00:00:00</td>\n",
       "      <td>0</td>\n",
       "      <td>40764</td>\n",
       "      <td>2016-03-24 12:45:21</td>\n",
       "    </tr>\n",
       "  </tbody>\n",
       "</table>\n",
       "</div>"
      ],
      "text/plain": [
       "                DateCrawled  Price  VehicleType  RegistrationYear Gearbox  \\\n",
       "354359  2016-03-28 13:48:07   7900        sedan              2010  manual   \n",
       "354360  2016-04-02 20:37:03   3999        wagon              2005  manual   \n",
       "354361  2016-03-09 13:37:43   5250          NaN              2016    auto   \n",
       "354362  2016-03-19 19:53:49   3200        sedan              2004  manual   \n",
       "354363  2016-03-27 20:36:20   1150          bus              2000  manual   \n",
       "354364  2016-03-21 09:50:58      0          NaN              2005  manual   \n",
       "354365  2016-03-14 17:48:27   2200          NaN              2005     NaN   \n",
       "354366  2016-03-05 19:56:21   1199  convertible              2000    auto   \n",
       "354367  2016-03-19 18:57:12   9200          bus              1996  manual   \n",
       "354368  2016-03-20 19:41:08   3400        wagon              2002  manual   \n",
       "\n",
       "        Power        Model  Kilometer  RegistrationMonth  FuelType  \\\n",
       "354359    140         golf     150000                  7  gasoline   \n",
       "354360      3          3er     150000                  5  gasoline   \n",
       "354361    150          159     150000                 12       NaN   \n",
       "354362    225         leon     150000                  5    petrol   \n",
       "354363      0       zafira     150000                  3    petrol   \n",
       "354364      0         colt     150000                  7    petrol   \n",
       "354365      0          NaN      20000                  1       NaN   \n",
       "354366    101       fortwo     125000                  3    petrol   \n",
       "354367    102  transporter     150000                  3  gasoline   \n",
       "354368    100         golf     150000                  6  gasoline   \n",
       "\n",
       "                 Brand Repaired          DateCreated  NumberOfPictures  \\\n",
       "354359      volkswagen       no  2016-03-28 00:00:00                 0   \n",
       "354360             bmw       no  2016-04-02 00:00:00                 0   \n",
       "354361      alfa_romeo       no  2016-03-09 00:00:00                 0   \n",
       "354362            seat      yes  2016-03-19 00:00:00                 0   \n",
       "354363            opel       no  2016-03-27 00:00:00                 0   \n",
       "354364      mitsubishi      yes  2016-03-21 00:00:00                 0   \n",
       "354365  sonstige_autos      NaN  2016-03-14 00:00:00                 0   \n",
       "354366           smart       no  2016-03-05 00:00:00                 0   \n",
       "354367      volkswagen       no  2016-03-19 00:00:00                 0   \n",
       "354368      volkswagen      NaN  2016-03-20 00:00:00                 0   \n",
       "\n",
       "        PostalCode             LastSeen  \n",
       "354359       75223  2016-04-02 18:16:20  \n",
       "354360       81825  2016-04-06 20:47:12  \n",
       "354361       51371  2016-03-13 01:44:13  \n",
       "354362       96465  2016-03-19 20:44:43  \n",
       "354363       26624  2016-03-29 10:17:23  \n",
       "354364        2694  2016-03-21 10:42:49  \n",
       "354365       39576  2016-04-06 00:46:52  \n",
       "354366       26135  2016-03-11 18:17:12  \n",
       "354367       87439  2016-04-07 07:15:26  \n",
       "354368       40764  2016-03-24 12:45:21  "
      ]
     },
     "metadata": {},
     "output_type": "display_data"
    },
    {
     "name": "stdout",
     "output_type": "stream",
     "text": [
      "\n",
      "Посмотрим пропуски:\n"
     ]
    },
    {
     "data": {
      "text/plain": [
       "Repaired             71154\n",
       "VehicleType          37490\n",
       "FuelType             32895\n",
       "Gearbox              19833\n",
       "Model                19705\n",
       "DateCrawled              0\n",
       "Price                    0\n",
       "RegistrationYear         0\n",
       "Power                    0\n",
       "Kilometer                0\n",
       "RegistrationMonth        0\n",
       "Brand                    0\n",
       "DateCreated              0\n",
       "NumberOfPictures         0\n",
       "PostalCode               0\n",
       "LastSeen                 0\n",
       "dtype: int64"
      ]
     },
     "metadata": {},
     "output_type": "display_data"
    },
    {
     "name": "stdout",
     "output_type": "stream",
     "text": [
      "\n",
      "Посмотрим на описание датафрейма:\n"
     ]
    },
    {
     "data": {
      "text/html": [
       "<div>\n",
       "<style scoped>\n",
       "    .dataframe tbody tr th:only-of-type {\n",
       "        vertical-align: middle;\n",
       "    }\n",
       "\n",
       "    .dataframe tbody tr th {\n",
       "        vertical-align: top;\n",
       "    }\n",
       "\n",
       "    .dataframe thead th {\n",
       "        text-align: right;\n",
       "    }\n",
       "</style>\n",
       "<table border=\"1\" class=\"dataframe\">\n",
       "  <thead>\n",
       "    <tr style=\"text-align: right;\">\n",
       "      <th></th>\n",
       "      <th>Price</th>\n",
       "      <th>RegistrationYear</th>\n",
       "      <th>Power</th>\n",
       "      <th>Kilometer</th>\n",
       "      <th>RegistrationMonth</th>\n",
       "      <th>NumberOfPictures</th>\n",
       "      <th>PostalCode</th>\n",
       "    </tr>\n",
       "  </thead>\n",
       "  <tbody>\n",
       "    <tr>\n",
       "      <th>count</th>\n",
       "      <td>354369.000000</td>\n",
       "      <td>354369.000000</td>\n",
       "      <td>354369.000000</td>\n",
       "      <td>354369.000000</td>\n",
       "      <td>354369.000000</td>\n",
       "      <td>354369.0</td>\n",
       "      <td>354369.000000</td>\n",
       "    </tr>\n",
       "    <tr>\n",
       "      <th>mean</th>\n",
       "      <td>4416.656776</td>\n",
       "      <td>2004.234448</td>\n",
       "      <td>110.094337</td>\n",
       "      <td>128211.172535</td>\n",
       "      <td>5.714645</td>\n",
       "      <td>0.0</td>\n",
       "      <td>50508.689087</td>\n",
       "    </tr>\n",
       "    <tr>\n",
       "      <th>std</th>\n",
       "      <td>4514.158514</td>\n",
       "      <td>90.227958</td>\n",
       "      <td>189.850405</td>\n",
       "      <td>37905.341530</td>\n",
       "      <td>3.726421</td>\n",
       "      <td>0.0</td>\n",
       "      <td>25783.096248</td>\n",
       "    </tr>\n",
       "    <tr>\n",
       "      <th>min</th>\n",
       "      <td>0.000000</td>\n",
       "      <td>1000.000000</td>\n",
       "      <td>0.000000</td>\n",
       "      <td>5000.000000</td>\n",
       "      <td>0.000000</td>\n",
       "      <td>0.0</td>\n",
       "      <td>1067.000000</td>\n",
       "    </tr>\n",
       "    <tr>\n",
       "      <th>25%</th>\n",
       "      <td>1050.000000</td>\n",
       "      <td>1999.000000</td>\n",
       "      <td>69.000000</td>\n",
       "      <td>125000.000000</td>\n",
       "      <td>3.000000</td>\n",
       "      <td>0.0</td>\n",
       "      <td>30165.000000</td>\n",
       "    </tr>\n",
       "    <tr>\n",
       "      <th>50%</th>\n",
       "      <td>2700.000000</td>\n",
       "      <td>2003.000000</td>\n",
       "      <td>105.000000</td>\n",
       "      <td>150000.000000</td>\n",
       "      <td>6.000000</td>\n",
       "      <td>0.0</td>\n",
       "      <td>49413.000000</td>\n",
       "    </tr>\n",
       "    <tr>\n",
       "      <th>75%</th>\n",
       "      <td>6400.000000</td>\n",
       "      <td>2008.000000</td>\n",
       "      <td>143.000000</td>\n",
       "      <td>150000.000000</td>\n",
       "      <td>9.000000</td>\n",
       "      <td>0.0</td>\n",
       "      <td>71083.000000</td>\n",
       "    </tr>\n",
       "    <tr>\n",
       "      <th>max</th>\n",
       "      <td>20000.000000</td>\n",
       "      <td>9999.000000</td>\n",
       "      <td>20000.000000</td>\n",
       "      <td>150000.000000</td>\n",
       "      <td>12.000000</td>\n",
       "      <td>0.0</td>\n",
       "      <td>99998.000000</td>\n",
       "    </tr>\n",
       "  </tbody>\n",
       "</table>\n",
       "</div>"
      ],
      "text/plain": [
       "               Price  RegistrationYear          Power      Kilometer  \\\n",
       "count  354369.000000     354369.000000  354369.000000  354369.000000   \n",
       "mean     4416.656776       2004.234448     110.094337  128211.172535   \n",
       "std      4514.158514         90.227958     189.850405   37905.341530   \n",
       "min         0.000000       1000.000000       0.000000    5000.000000   \n",
       "25%      1050.000000       1999.000000      69.000000  125000.000000   \n",
       "50%      2700.000000       2003.000000     105.000000  150000.000000   \n",
       "75%      6400.000000       2008.000000     143.000000  150000.000000   \n",
       "max     20000.000000       9999.000000   20000.000000  150000.000000   \n",
       "\n",
       "       RegistrationMonth  NumberOfPictures     PostalCode  \n",
       "count      354369.000000          354369.0  354369.000000  \n",
       "mean            5.714645               0.0   50508.689087  \n",
       "std             3.726421               0.0   25783.096248  \n",
       "min             0.000000               0.0    1067.000000  \n",
       "25%             3.000000               0.0   30165.000000  \n",
       "50%             6.000000               0.0   49413.000000  \n",
       "75%             9.000000               0.0   71083.000000  \n",
       "max            12.000000               0.0   99998.000000  "
      ]
     },
     "metadata": {},
     "output_type": "display_data"
    },
    {
     "name": "stdout",
     "output_type": "stream",
     "text": [
      "\n",
      "Количество дубликатов:\n"
     ]
    },
    {
     "data": {
      "text/plain": [
       "4"
      ]
     },
     "metadata": {},
     "output_type": "display_data"
    },
    {
     "name": "stdout",
     "output_type": "stream",
     "text": [
      "\n",
      "Посмотрим на признаки:\n",
      "\n",
      "1. DateCrawled - тип данных object, уникальных значений: 271174\n",
      "2. Price - тип данных int64, уникальных значений: 3731\n",
      "3. VehicleType - тип данных object, уникальных значений: 9\n",
      "4. RegistrationYear - тип данных int64, уникальных значений: 151\n",
      "5. Gearbox - тип данных object, уникальных значений: 3\n",
      "6. Power - тип данных int64, уникальных значений: 712\n",
      "7. Model - тип данных object, уникальных значений: 251\n",
      "8. Kilometer - тип данных int64, уникальных значений: 13\n",
      "9. RegistrationMonth - тип данных int64, уникальных значений: 13\n",
      "10. FuelType - тип данных object, уникальных значений: 8\n",
      "11. Brand - тип данных object, уникальных значений: 40\n",
      "12. Repaired - тип данных object, уникальных значений: 3\n",
      "13. DateCreated - тип данных object, уникальных значений: 109\n",
      "14. NumberOfPictures - тип данных int64, уникальных значений: 1\n",
      "15. PostalCode - тип данных int64, уникальных значений: 8143\n",
      "16. LastSeen - тип данных object, уникальных значений: 179150\n",
      "\n",
      "Итого:\n",
      "признаки с типом данных int64: 7\n",
      "признаки с типом данных object: 9\n"
     ]
    }
   ],
   "source": [
    "data_info(data)"
   ]
  },
  {
   "cell_type": "markdown",
   "metadata": {},
   "source": [
    "**Предварительный вывод:**\n",
    "\n",
    "- В датафрейме 16 признаков и 354369 наблюдений.\n",
    "- Названия признаков стоит привести к snake_case\n",
    "- В 5 признаках присутствуют пропущенные значения - с ними будем разбираться поотдельности\n",
    "- Обнаружено 4 явных дубликата, стоит их удалить \n",
    "- 7 признаков имеют тип данных int64, 9 признаков имеют тип данных object. Проверять их на наличие аномальных значений и значимость для обучения модели определения стоимости автомобиля также будем индивидуально."
   ]
  },
  {
   "cell_type": "markdown",
   "metadata": {},
   "source": [
    "### Разберемся с признаками:"
   ]
  },
  {
   "cell_type": "code",
   "execution_count": 6,
   "metadata": {},
   "outputs": [
    {
     "data": {
      "text/plain": [
       "(354369, 16)"
      ]
     },
     "execution_count": 6,
     "metadata": {},
     "output_type": "execute_result"
    }
   ],
   "source": [
    "# Объявим переменную отображающую исходный размер датафрейма:\n",
    "original_size = data.shape\n",
    "original_size"
   ]
  },
  {
   "cell_type": "markdown",
   "metadata": {},
   "source": [
    "#### Приведем к snake_case названия признаков:"
   ]
  },
  {
   "cell_type": "code",
   "execution_count": 7,
   "metadata": {},
   "outputs": [
    {
     "data": {
      "text/plain": [
       "Index(['date_crawled', 'price', 'vehicle_type', 'registration_year', 'gearbox',\n",
       "       'power', 'model', 'kilometer', 'registration_month', 'fuel_type',\n",
       "       'brand', 'repaired', 'date_created', 'number_of_pictures',\n",
       "       'postal_code', 'last_seen'],\n",
       "      dtype='object')"
      ]
     },
     "execution_count": 7,
     "metadata": {},
     "output_type": "execute_result"
    }
   ],
   "source": [
    "data.columns = [re.sub(r'(?<!^)(?=[A-Z])', '_', i).lower() for i in data.columns]\n",
    "# Проверим:\n",
    "data.columns"
   ]
  },
  {
   "cell_type": "markdown",
   "metadata": {},
   "source": [
    "#### Удалим дубликаты:"
   ]
  },
  {
   "cell_type": "code",
   "execution_count": 8,
   "metadata": {
    "scrolled": true
   },
   "outputs": [
    {
     "name": "stdout",
     "output_type": "stream",
     "text": [
      "Количество дубликатов: 0\n"
     ]
    }
   ],
   "source": [
    "data.drop_duplicates(inplace=True)\n",
    "# Проверим:\n",
    "print(f'Количество дубликатов: {data.duplicated().sum()}')"
   ]
  },
  {
   "cell_type": "markdown",
   "metadata": {},
   "source": [
    "#### Признак 'number_of_pictures' (количество фотографий автомобиля) \n",
    "Признак неинформативен и содержит одно уникальное значение - 0, поэтому удалим его."
   ]
  },
  {
   "cell_type": "code",
   "execution_count": 9,
   "metadata": {},
   "outputs": [],
   "source": [
    "data = data.drop(['number_of_pictures'], axis=1)"
   ]
  },
  {
   "cell_type": "markdown",
   "metadata": {},
   "source": [
    "#### Признаки 'date_crawled' (дата скачивания анкеты из базы), 'date_created' (дата создания анкеты) и 'last_seen' (дата последней активности пользователя)\n",
    "Приведем их к datetime и посмотрим на них:"
   ]
  },
  {
   "cell_type": "code",
   "execution_count": 10,
   "metadata": {},
   "outputs": [],
   "source": [
    "# Создадим функцию:\n",
    "\n",
    "def plot_date_columns(data, date_columns):\n",
    "    \"\"\"\n",
    "    Функция принимает на вход датафрейм и список признаков с датами\n",
    "    приводит признаки к типу datetime и выводит графики и сводную таблицу по начальным и \n",
    "    конечным датам для каждого признака\n",
    "    \"\"\"\n",
    "    min_max_dates = pd.DataFrame(columns=['Признак', 'Начальная дата', 'Конечная дата'])\n",
    "\n",
    "    for column in date_columns:\n",
    "        data[column] = pd.to_datetime(data[column])\n",
    "        min_date = data[column].min()\n",
    "        max_date = data[column].max()\n",
    "        min_max_dates = pd.concat([min_max_dates, pd.DataFrame(\n",
    "            {'Признак': [column], 'Начальная дата': [min_date], 'Конечная дата': [max_date]})])\n",
    "        plt.figure(figsize=(12, 5))\n",
    "        data[column].plot(grid=True)\n",
    "        plt.title(f'Распределение значений по {column}')\n",
    "        plt.xlabel('Количество наблюдений')\n",
    "        plt.ylabel(column)\n",
    "        plt.show()\n",
    "\n",
    "    return min_max_dates"
   ]
  },
  {
   "cell_type": "code",
   "execution_count": 11,
   "metadata": {
    "scrolled": false
   },
   "outputs": [
    {
     "data": {
      "image/png": "[encoded data removed]",
      "text/plain": [
       "<Figure size 864x360 with 1 Axes>"
      ]
     },
     "metadata": {
      "needs_background": "light"
     },
     "output_type": "display_data"
    },
    {
     "data": {
      "image/png": "[encoded data removed]",
      "text/plain": [
       "<Figure size 864x360 with 1 Axes>"
      ]
     },
     "metadata": {
      "needs_background": "light"
     },
     "output_type": "display_data"
    },
    {
     "data": {
      "image/png": "[encoded data removed]",
      "text/plain": [
       "<Figure size 864x360 with 1 Axes>"
      ]
     },
     "metadata": {
      "needs_background": "light"
     },
     "output_type": "display_data"
    },
    {
     "data": {
      "text/html": [
       "<div>\n",
       "<style scoped>\n",
       "    .dataframe tbody tr th:only-of-type {\n",
       "        vertical-align: middle;\n",
       "    }\n",
       "\n",
       "    .dataframe tbody tr th {\n",
       "        vertical-align: top;\n",
       "    }\n",
       "\n",
       "    .dataframe thead th {\n",
       "        text-align: right;\n",
       "    }\n",
       "</style>\n",
       "<table border=\"1\" class=\"dataframe\">\n",
       "  <thead>\n",
       "    <tr style=\"text-align: right;\">\n",
       "      <th></th>\n",
       "      <th>Признак</th>\n",
       "      <th>Начальная дата</th>\n",
       "      <th>Конечная дата</th>\n",
       "    </tr>\n",
       "  </thead>\n",
       "  <tbody>\n",
       "    <tr>\n",
       "      <th>0</th>\n",
       "      <td>date_created</td>\n",
       "      <td>2014-03-10 00:00:00</td>\n",
       "      <td>2016-04-07 00:00:00</td>\n",
       "    </tr>\n",
       "    <tr>\n",
       "      <th>0</th>\n",
       "      <td>last_seen</td>\n",
       "      <td>2016-03-05 14:15:08</td>\n",
       "      <td>2016-04-07 14:58:51</td>\n",
       "    </tr>\n",
       "    <tr>\n",
       "      <th>0</th>\n",
       "      <td>date_crawled</td>\n",
       "      <td>2016-03-05 14:06:22</td>\n",
       "      <td>2016-04-07 14:36:58</td>\n",
       "    </tr>\n",
       "  </tbody>\n",
       "</table>\n",
       "</div>"
      ],
      "text/plain": [
       "        Признак      Начальная дата       Конечная дата\n",
       "0  date_created 2014-03-10 00:00:00 2016-04-07 00:00:00\n",
       "0     last_seen 2016-03-05 14:15:08 2016-04-07 14:58:51\n",
       "0  date_crawled 2016-03-05 14:06:22 2016-04-07 14:36:58"
      ]
     },
     "metadata": {},
     "output_type": "display_data"
    }
   ],
   "source": [
    "date_columns = ['date_created', 'last_seen', 'date_crawled']\n",
    "min_max_dates = plot_date_columns(data, date_columns)\n",
    "display(min_max_dates)"
   ]
  },
  {
   "cell_type": "code",
   "execution_count": 12,
   "metadata": {},
   "outputs": [
    {
     "data": {
      "text/html": [
       "<div>\n",
       "<style scoped>\n",
       "    .dataframe tbody tr th:only-of-type {\n",
       "        vertical-align: middle;\n",
       "    }\n",
       "\n",
       "    .dataframe tbody tr th {\n",
       "        vertical-align: top;\n",
       "    }\n",
       "\n",
       "    .dataframe thead th {\n",
       "        text-align: right;\n",
       "    }\n",
       "</style>\n",
       "<table border=\"1\" class=\"dataframe\">\n",
       "  <thead>\n",
       "    <tr style=\"text-align: right;\">\n",
       "      <th></th>\n",
       "      <th>date_created</th>\n",
       "      <th>date_crawled</th>\n",
       "      <th>last_seen</th>\n",
       "    </tr>\n",
       "  </thead>\n",
       "  <tbody>\n",
       "    <tr>\n",
       "      <th>61207</th>\n",
       "      <td>2014-03-10</td>\n",
       "      <td>2016-03-16 11:48:06</td>\n",
       "      <td>2016-04-07 04:46:24</td>\n",
       "    </tr>\n",
       "    <tr>\n",
       "      <th>4001</th>\n",
       "      <td>2015-03-20</td>\n",
       "      <td>2016-03-23 14:42:46</td>\n",
       "      <td>2016-04-07 03:45:01</td>\n",
       "    </tr>\n",
       "    <tr>\n",
       "      <th>342275</th>\n",
       "      <td>2015-06-18</td>\n",
       "      <td>2016-03-05 21:44:26</td>\n",
       "      <td>2016-04-05 17:46:09</td>\n",
       "    </tr>\n",
       "    <tr>\n",
       "      <th>86601</th>\n",
       "      <td>2015-08-07</td>\n",
       "      <td>2016-04-02 19:47:40</td>\n",
       "      <td>2016-04-07 09:15:23</td>\n",
       "    </tr>\n",
       "    <tr>\n",
       "      <th>175103</th>\n",
       "      <td>2015-08-10</td>\n",
       "      <td>2016-03-08 17:57:45</td>\n",
       "      <td>2016-04-05 20:46:54</td>\n",
       "    </tr>\n",
       "    <tr>\n",
       "      <th>75598</th>\n",
       "      <td>2015-09-04</td>\n",
       "      <td>2016-03-14 08:43:53</td>\n",
       "      <td>2016-03-15 14:16:58</td>\n",
       "    </tr>\n",
       "    <tr>\n",
       "      <th>221002</th>\n",
       "      <td>2015-09-04</td>\n",
       "      <td>2016-03-15 01:56:49</td>\n",
       "      <td>2016-03-15 15:49:29</td>\n",
       "    </tr>\n",
       "    <tr>\n",
       "      <th>340616</th>\n",
       "      <td>2015-09-09</td>\n",
       "      <td>2016-03-05 21:51:02</td>\n",
       "      <td>2016-04-05 17:46:04</td>\n",
       "    </tr>\n",
       "    <tr>\n",
       "      <th>9972</th>\n",
       "      <td>2015-11-02</td>\n",
       "      <td>2016-03-05 17:53:53</td>\n",
       "      <td>2016-03-17 15:46:57</td>\n",
       "    </tr>\n",
       "    <tr>\n",
       "      <th>161567</th>\n",
       "      <td>2015-11-08</td>\n",
       "      <td>2016-03-05 14:31:01</td>\n",
       "      <td>2016-04-06 23:15:36</td>\n",
       "    </tr>\n",
       "    <tr>\n",
       "      <th>282938</th>\n",
       "      <td>2015-11-10</td>\n",
       "      <td>2016-03-23 23:37:01</td>\n",
       "      <td>2016-04-07 09:15:21</td>\n",
       "    </tr>\n",
       "    <tr>\n",
       "      <th>75684</th>\n",
       "      <td>2015-11-12</td>\n",
       "      <td>2016-03-14 18:44:30</td>\n",
       "      <td>2016-04-06 03:16:57</td>\n",
       "    </tr>\n",
       "    <tr>\n",
       "      <th>60168</th>\n",
       "      <td>2015-11-17</td>\n",
       "      <td>2016-03-05 20:42:38</td>\n",
       "      <td>2016-04-06 05:46:03</td>\n",
       "    </tr>\n",
       "    <tr>\n",
       "      <th>301180</th>\n",
       "      <td>2015-11-23</td>\n",
       "      <td>2016-03-05 21:49:15</td>\n",
       "      <td>2016-03-23 07:18:38</td>\n",
       "    </tr>\n",
       "    <tr>\n",
       "      <th>153650</th>\n",
       "      <td>2015-11-23</td>\n",
       "      <td>2016-03-19 12:52:26</td>\n",
       "      <td>2016-03-27 17:44:16</td>\n",
       "    </tr>\n",
       "    <tr>\n",
       "      <th>125286</th>\n",
       "      <td>2015-11-24</td>\n",
       "      <td>2016-04-03 21:50:31</td>\n",
       "      <td>2016-04-07 11:25:36</td>\n",
       "    </tr>\n",
       "    <tr>\n",
       "      <th>77378</th>\n",
       "      <td>2015-11-24</td>\n",
       "      <td>2016-03-14 08:27:52</td>\n",
       "      <td>2016-04-05 22:47:33</td>\n",
       "    </tr>\n",
       "    <tr>\n",
       "      <th>226822</th>\n",
       "      <td>2015-12-05</td>\n",
       "      <td>2016-03-07 08:44:05</td>\n",
       "      <td>2016-03-22 20:16:42</td>\n",
       "    </tr>\n",
       "    <tr>\n",
       "      <th>260635</th>\n",
       "      <td>2015-12-05</td>\n",
       "      <td>2016-03-18 10:41:20</td>\n",
       "      <td>2016-03-23 13:56:25</td>\n",
       "    </tr>\n",
       "    <tr>\n",
       "      <th>85505</th>\n",
       "      <td>2015-12-05</td>\n",
       "      <td>2016-03-14 01:41:25</td>\n",
       "      <td>2016-03-22 23:16:25</td>\n",
       "    </tr>\n",
       "    <tr>\n",
       "      <th>29712</th>\n",
       "      <td>2015-12-06</td>\n",
       "      <td>2016-03-28 13:31:25</td>\n",
       "      <td>2016-04-06 14:16:09</td>\n",
       "    </tr>\n",
       "    <tr>\n",
       "      <th>274600</th>\n",
       "      <td>2015-12-17</td>\n",
       "      <td>2016-03-11 12:47:09</td>\n",
       "      <td>2016-04-05 12:45:51</td>\n",
       "    </tr>\n",
       "    <tr>\n",
       "      <th>76459</th>\n",
       "      <td>2015-12-27</td>\n",
       "      <td>2016-03-05 15:50:46</td>\n",
       "      <td>2016-03-27 22:15:37</td>\n",
       "    </tr>\n",
       "    <tr>\n",
       "      <th>244633</th>\n",
       "      <td>2015-12-30</td>\n",
       "      <td>2016-03-15 23:57:10</td>\n",
       "      <td>2016-04-06 15:17:11</td>\n",
       "    </tr>\n",
       "    <tr>\n",
       "      <th>343447</th>\n",
       "      <td>2015-12-30</td>\n",
       "      <td>2016-03-05 21:42:47</td>\n",
       "      <td>2016-04-07 07:15:41</td>\n",
       "    </tr>\n",
       "    <tr>\n",
       "      <th>344287</th>\n",
       "      <td>2015-12-30</td>\n",
       "      <td>2016-03-24 19:49:48</td>\n",
       "      <td>2016-04-05 12:44:49</td>\n",
       "    </tr>\n",
       "  </tbody>\n",
       "</table>\n",
       "</div>"
      ],
      "text/plain": [
       "       date_created        date_crawled           last_seen\n",
       "61207    2014-03-10 2016-03-16 11:48:06 2016-04-07 04:46:24\n",
       "4001     2015-03-20 2016-03-23 14:42:46 2016-04-07 03:45:01\n",
       "342275   2015-06-18 2016-03-05 21:44:26 2016-04-05 17:46:09\n",
       "86601    2015-08-07 2016-04-02 19:47:40 2016-04-07 09:15:23\n",
       "175103   2015-08-10 2016-03-08 17:57:45 2016-04-05 20:46:54\n",
       "75598    2015-09-04 2016-03-14 08:43:53 2016-03-15 14:16:58\n",
       "221002   2015-09-04 2016-03-15 01:56:49 2016-03-15 15:49:29\n",
       "340616   2015-09-09 2016-03-05 21:51:02 2016-04-05 17:46:04\n",
       "9972     2015-11-02 2016-03-05 17:53:53 2016-03-17 15:46:57\n",
       "161567   2015-11-08 2016-03-05 14:31:01 2016-04-06 23:15:36\n",
       "282938   2015-11-10 2016-03-23 23:37:01 2016-04-07 09:15:21\n",
       "75684    2015-11-12 2016-03-14 18:44:30 2016-04-06 03:16:57\n",
       "60168    2015-11-17 2016-03-05 20:42:38 2016-04-06 05:46:03\n",
       "301180   2015-11-23 2016-03-05 21:49:15 2016-03-23 07:18:38\n",
       "153650   2015-11-23 2016-03-19 12:52:26 2016-03-27 17:44:16\n",
       "125286   2015-11-24 2016-04-03 21:50:31 2016-04-07 11:25:36\n",
       "77378    2015-11-24 2016-03-14 08:27:52 2016-04-05 22:47:33\n",
       "226822   2015-12-05 2016-03-07 08:44:05 2016-03-22 20:16:42\n",
       "260635   2015-12-05 2016-03-18 10:41:20 2016-03-23 13:56:25\n",
       "85505    2015-12-05 2016-03-14 01:41:25 2016-03-22 23:16:25\n",
       "29712    2015-12-06 2016-03-28 13:31:25 2016-04-06 14:16:09\n",
       "274600   2015-12-17 2016-03-11 12:47:09 2016-04-05 12:45:51\n",
       "76459    2015-12-27 2016-03-05 15:50:46 2016-03-27 22:15:37\n",
       "244633   2015-12-30 2016-03-15 23:57:10 2016-04-06 15:17:11\n",
       "343447   2015-12-30 2016-03-05 21:42:47 2016-04-07 07:15:41\n",
       "344287   2015-12-30 2016-03-24 19:49:48 2016-04-05 12:44:49"
      ]
     },
     "metadata": {},
     "output_type": "display_data"
    }
   ],
   "source": [
    "# Посмотрим на признаки с датами создания анкет в 2014 - 2015 годах:\n",
    "display(data[data['date_created'].between('2014-01-01', '2015-12-31')\n",
    "             ].sort_values(by='date_created')[['date_created', 'date_crawled', 'last_seen']])"
   ]
  },
  {
   "cell_type": "markdown",
   "metadata": {},
   "source": [
    "- Признак 'date_created' (дата создания анкеты) - выборка охватывает временной период с 10.03.2014 г. по 07.04.2016 г. Основной массив данных относится к первым четырем месяцам 2016 г., небольшая часть относится к 2015 г. Обнаружена одна анкета с датой создания в 2014 г. и датой последней активности в 2016 г. \n",
    "- Признак 'date_crawled' (дата скачивания анкеты из базы) - данные равномерно распределены в промежутке с 05.03.2016 по 09.04.2016.\n",
    "- Признак 'last_seen' (дата последней активности пользователя) - данные, как и в признаке 'date_crawled' (дата скачивания анкеты из базы) равномерно распределены в промежутке с 05.03.2016 по 09.04.2016.\n",
    "- Вышеупомянутые признаки не влияют на процесс ценообразования и могут помешать нам при обучении модели, поэтому удалим их предварительно отсортировав датафрейм по дате создания анкеты."
   ]
  },
  {
   "cell_type": "code",
   "execution_count": 13,
   "metadata": {},
   "outputs": [
    {
     "name": "stdout",
     "output_type": "stream",
     "text": [
      "<class 'pandas.core.frame.DataFrame'>\n",
      "RangeIndex: 354365 entries, 0 to 354364\n",
      "Data columns (total 12 columns):\n",
      " #   Column              Non-Null Count   Dtype \n",
      "---  ------              --------------   ----- \n",
      " 0   price               354365 non-null  int64 \n",
      " 1   vehicle_type        316875 non-null  object\n",
      " 2   registration_year   354365 non-null  int64 \n",
      " 3   gearbox             334532 non-null  object\n",
      " 4   power               354365 non-null  int64 \n",
      " 5   model               334660 non-null  object\n",
      " 6   kilometer           354365 non-null  int64 \n",
      " 7   registration_month  354365 non-null  int64 \n",
      " 8   fuel_type           321470 non-null  object\n",
      " 9   brand               354365 non-null  object\n",
      " 10  repaired            283211 non-null  object\n",
      " 11  postal_code         354365 non-null  int64 \n",
      "dtypes: int64(6), object(6)\n",
      "memory usage: 32.4+ MB\n"
     ]
    }
   ],
   "source": [
    "# Сортируем:\n",
    "data = data.sort_values('date_created').reset_index(drop=True)\n",
    "\n",
    "# Удаляем:\n",
    "data.drop(columns=date_columns, inplace=True)\n",
    "\n",
    "# Проверяем:\n",
    "data.info()"
   ]
  },
  {
   "cell_type": "markdown",
   "metadata": {},
   "source": [
    "#### Признаки 'registration_year' (год регистрации автомобиля) и 'registration_month' (месяц регистрации автомобиля)"
   ]
  },
  {
   "cell_type": "markdown",
   "metadata": {},
   "source": [
    "Посмотрим на 'registration_year'"
   ]
  },
  {
   "cell_type": "code",
   "execution_count": 14,
   "metadata": {
    "scrolled": false
   },
   "outputs": [
    {
     "data": {
      "text/plain": [
       "'Статистические данные:'"
      ]
     },
     "metadata": {},
     "output_type": "display_data"
    },
    {
     "data": {
      "text/plain": [
       "count    354365.000000\n",
       "mean       2004.234481\n",
       "std          90.228466\n",
       "min        1000.000000\n",
       "25%        1999.000000\n",
       "50%        2003.000000\n",
       "75%        2008.000000\n",
       "max        9999.000000\n",
       "Name: registration_year, dtype: float64"
      ]
     },
     "metadata": {},
     "output_type": "display_data"
    },
    {
     "data": {
      "text/plain": [
       "'Уникальные значения:'"
      ]
     },
     "metadata": {},
     "output_type": "display_data"
    },
    {
     "data": {
      "text/plain": [
       "array([1000, 1001, 1039, 1111, 1200, 1234, 1253, 1255, 1300, 1400, 1500,\n",
       "       1600, 1602, 1688, 1800, 1910, 1915, 1919, 1920, 1923, 1925, 1927,\n",
       "       1928, 1929, 1930, 1931, 1932, 1933, 1934, 1935, 1936, 1937, 1938,\n",
       "       1940, 1941, 1942, 1943, 1944, 1945, 1946, 1947, 1948, 1949, 1950,\n",
       "       1951, 1952, 1953, 1954, 1955, 1956, 1957, 1958, 1959, 1960, 1961,\n",
       "       1962, 1963, 1964, 1965, 1966, 1967, 1968, 1969, 1970, 1971, 1972,\n",
       "       1973, 1974, 1975, 1976, 1977, 1978, 1979, 1980, 1981, 1982, 1983,\n",
       "       1984, 1985, 1986, 1987, 1988, 1989, 1990, 1991, 1992, 1993, 1994,\n",
       "       1995, 1996, 1997, 1998, 1999, 2000, 2001, 2002, 2003, 2004, 2005,\n",
       "       2006, 2007, 2008, 2009, 2010, 2011, 2012, 2013, 2014, 2015, 2016,\n",
       "       2017, 2018, 2019, 2066, 2200, 2222, 2290, 2500, 2800, 2900, 3000,\n",
       "       3200, 3500, 3700, 3800, 4000, 4100, 4500, 4800, 5000, 5300, 5555,\n",
       "       5600, 5900, 5911, 6000, 6500, 7000, 7100, 7500, 7800, 8000, 8200,\n",
       "       8455, 8500, 8888, 9000, 9229, 9450, 9996, 9999], dtype=int64)"
      ]
     },
     "metadata": {},
     "output_type": "display_data"
    }
   ],
   "source": [
    "display('Статистические данные:', data['registration_year'].describe())\n",
    "display('Уникальные значения:', np.sort(data['registration_year'].unique()))"
   ]
  },
  {
   "cell_type": "markdown",
   "metadata": {},
   "source": [
    "Судя по уникальным значениям, в датафрейме представлены транспортные средства от колесниц Римской Империи, до межгалактических звездолетов) Но среднее и медианное значения выглядят вполне нормально. [Поскольку первые серийные автомобили появились ориентировочно в 1914 году,](https://translated.turbopages.org/proxy_u/en-ru.ru.90a9f31a-649cebed-afa74bc9-74722d776562/https/en.wikipedia.org/wiki/Production_vehicle#:~:text=%D0%A1%D0%B0%D0%BC%D0%BE%D0%B5%20%D1%80%D0%B0%D0%BD%D0%BD%D0%B5%D0%B5%20%D0%B8%D1%81%D0%BF%D0%BE%D0%BB%D1%8C%D0%B7%D0%BE%D0%B2%D0%B0%D0%BD%D0%B8%D0%B5%20%D1%82%D0%B5%D1%80%D0%BC%D0%B8%D0%BD%D0%B0%20%22%D1%81%D0%B5%D1%80%D0%B8%D0%B9%D0%BD%D1%8B%D0%B9%20%D0%B0%D0%B2%D1%82%D0%BE%D0%BC%D0%BE%D0%B1%D0%B8%D0%BB%D1%8C%22%20%D0%BF%D1%80%D0%B8%D0%BC%D0%B5%D0%BD%D0%B8%D1%82%D0%B5%D0%BB%D1%8C%D0%BD%D0%BE%20%D0%BA%20%D0%BB%D0%B5%D0%B3%D0%BA%D0%BE%D0%B2%D1%8B%D0%BC%20%D0%B0%D0%B2%D1%82%D0%BE%D0%BC%D0%BE%D0%B1%D0%B8%D0%BB%D1%8F%D0%BC%2C%20%D0%BE%D0%B1%D0%BD%D0%B0%D1%80%D1%83%D0%B6%D0%B5%D0%BD%D0%BD%D0%BE%D0%B5%20%D0%BD%D0%B0%20%D1%81%D0%B5%D0%B3%D0%BE%D0%B4%D0%BD%D1%8F%D1%88%D0%BD%D0%B8%D0%B9%20%D0%B4%D0%B5%D0%BD%D1%8C%2C%20%D0%B1%D1%8B%D0%BB%D0%BE%20%D0%B2%20%D0%B0%D0%BC%D0%B5%D1%80%D0%B8%D0%BA%D0%B0%D0%BD%D1%81%D0%BA%D0%BE%D0%B9%20%D1%80%D0%B5%D0%BA%D0%BB%D0%B0%D0%BC%D0%B5%20Regal%20motor%20Car%2C%20%D0%B2%D1%8B%D0%BF%D1%83%D1%89%D0%B5%D0%BD%D0%BD%D0%BE%D0%B9%20%D0%B2%20%D0%B8%D1%8E%D0%BD%D0%B5%201914%20%D0%B3%D0%BE%D0%B4%D0%B0.%5B2%5D) а последняя публикация в выборке датирована 2016-04-07, посмотрим на количество анкет вне этого диапазона и удалим их."
   ]
  },
  {
   "cell_type": "code",
   "execution_count": 15,
   "metadata": {},
   "outputs": [
    {
     "name": "stdout",
     "output_type": "stream",
     "text": [
      "Количество анкет ранее 1910 года: 66\n",
      "Количество анкет позднее 2016 года: 14530\n",
      "Анкет ранее 1910 года осталось: 0\n",
      "Анкет позднее 2016 года осталось: 0\n"
     ]
    }
   ],
   "source": [
    "# Смотрим:\n",
    "print('Количество анкет ранее 1910 года:', len(data[data['registration_year'] < 1910]))\n",
    "print('Количество анкет позднее 2016 года:',  len(data[data['registration_year'] > 2016]))\n",
    "\n",
    "# Удаляем:\n",
    "data = data[(data['registration_year'] >= 1910) & (data['registration_year'] <= 2016)]\n",
    "\n",
    "# Проверяем:\n",
    "print('Анкет ранее 1910 года осталось:', len(data[data['registration_year'] < 1910]))\n",
    "print('Анкет позднее 2016 года осталось:',  len(data[data['registration_year'] > 2016]))"
   ]
  },
  {
   "cell_type": "markdown",
   "metadata": {},
   "source": [
    "Выведем обновленные статистические данные:"
   ]
  },
  {
   "cell_type": "code",
   "execution_count": 16,
   "metadata": {},
   "outputs": [
    {
     "data": {
      "text/plain": [
       "count    339769.000000\n",
       "mean       2002.482236\n",
       "std           7.091220\n",
       "min        1910.000000\n",
       "25%        1999.000000\n",
       "50%        2003.000000\n",
       "75%        2007.000000\n",
       "max        2016.000000\n",
       "Name: registration_year, dtype: float64"
      ]
     },
     "execution_count": 16,
     "metadata": {},
     "output_type": "execute_result"
    }
   ],
   "source": [
    "data['registration_year'].describe()"
   ]
  },
  {
   "cell_type": "markdown",
   "metadata": {},
   "source": [
    "Посмотрим на распределение анкет по годам:"
   ]
  },
  {
   "cell_type": "code",
   "execution_count": 17,
   "metadata": {},
   "outputs": [],
   "source": [
    "def plot_distribution(x, y, xlabel, ylabel, title, rotation=0, h=False):\n",
    "    \"\"\"\n",
    "    Функция принимает следующие параметры:\n",
    "    x: массив значений на оси X или массив меток для каждого столбца/полосы гистограммы.\n",
    "    y: массив значений на оси Y, представляющих высоту каждого столбца/полосы гистограммы.\n",
    "    xlabel: подпись оси X.\n",
    "    ylabel: подпись оси Y.\n",
    "    title: заголовок графика.\n",
    "    rotation (необязательный): угол поворота подписей делений оси X. \n",
    "    h (необязательный): указывает, следует ли строить гистограмму вертикально (False) или горизонтально (True).\n",
    "    Функция отрисовывает столбчатую диаграмму\n",
    "    \"\"\"\n",
    "    \n",
    "    if h:\n",
    "        plt.figure(figsize=(15, 8))\n",
    "        plt.barh(x, y)\n",
    "        axis_ = 'x'\n",
    "    else:\n",
    "        plt.figure(figsize=(15,5))\n",
    "        plt.bar(x, y)\n",
    "        axis_ = 'y'\n",
    "    plt.xlabel(xlabel)\n",
    "    plt.ylabel(ylabel)\n",
    "    plt.title(title)\n",
    "    if len(x) <= 14:\n",
    "        plt.xticks(range(len(x)), x, rotation=rotation)\n",
    "    else:\n",
    "        plt.xticks(rotation=rotation)\n",
    "    plt.minorticks_on()\n",
    "    plt.grid(which='major', axis=axis_, linewidth=.5)\n",
    "    plt.grid(which='minor', axis=axis_, linewidth=.25, linestyle='--')\n",
    "    \n",
    "    plt.show()"
   ]
  },
  {
   "cell_type": "code",
   "execution_count": 18,
   "metadata": {},
   "outputs": [
    {
     "data": {
      "image/png": "[encoded data removed]",
      "text/plain": [
       "<Figure size 1080x360 with 1 Axes>"
      ]
     },
     "metadata": {
      "needs_background": "light"
     },
     "output_type": "display_data"
    }
   ],
   "source": [
    "inform_dataset = data['registration_year'].value_counts().sort_index().reset_index()\n",
    "inform_dataset.columns = ['year', 'count']\n",
    "\n",
    "plot_distribution(inform_dataset['year'], inform_dataset['count'],\n",
    "                  'Год', 'Количество анкет', 'Распределение анкет по годам')"
   ]
  },
  {
   "cell_type": "markdown",
   "metadata": {},
   "source": [
    "Наблюдаем длинный хвост слева, который говорит нам, что фактически регистрация автомобилией в более-менее заметном для нас объеме представлена с 1980-85 годов. Хвост до 1980 года признаем аномальным. Посмотрим на количество анкет в нем и удалим."
   ]
  },
  {
   "cell_type": "code",
   "execution_count": 19,
   "metadata": {},
   "outputs": [
    {
     "name": "stdout",
     "output_type": "stream",
     "text": [
      "Анкет ранее 1980 года осталось: 3386\n",
      "Анкет ранее 1980 года осталось: 0\n"
     ]
    }
   ],
   "source": [
    "print('Анкет ранее 1980 года осталось:', len(data[data['registration_year'] < 1980]))\n",
    "# Удалим аномальные значения\n",
    "data = data[data['registration_year'] > 1980]\n",
    "# Проверим:\n",
    "print('Анкет ранее 1980 года осталось:', len(data[data['registration_year'] < 1980]))"
   ]
  },
  {
   "cell_type": "markdown",
   "metadata": {},
   "source": [
    "Посмотрим на обновленное распределение анкет по годам:"
   ]
  },
  {
   "cell_type": "code",
   "execution_count": 20,
   "metadata": {},
   "outputs": [
    {
     "data": {
      "image/png": "[encoded data removed]",
      "text/plain": [
       "<Figure size 1080x360 with 1 Axes>"
      ]
     },
     "metadata": {
      "needs_background": "light"
     },
     "output_type": "display_data"
    }
   ],
   "source": [
    "inform_dataset = data['registration_year'].value_counts().sort_index().reset_index()\n",
    "inform_dataset.columns = ['year', 'count']\n",
    "\n",
    "plot_distribution(inform_dataset['year'], inform_dataset['count'],\n",
    "                  'Год', 'Количество анкет', 'Распределение анкет по годам')"
   ]
  },
  {
   "cell_type": "markdown",
   "metadata": {},
   "source": [
    "Уже вырисовывается нормальное распределение. Но мы наблюдаем всплеск в 2016 году. Причина его возникновения нам неизвестна, возможно имел место быть технический сбой при снятии базы. Мы точно знаем, что выборка охватывает временной период с 10.03.2014 по 07.04.2016 гг. Поэтому данные о регистрации после 07.04.2016 будем считать аномальными. Посмотрим на 'registration_month' (месяц регистрации автомобиля)"
   ]
  },
  {
   "cell_type": "code",
   "execution_count": 21,
   "metadata": {},
   "outputs": [
    {
     "data": {
      "text/plain": [
       "'Статистические данные:'"
      ]
     },
     "metadata": {},
     "output_type": "display_data"
    },
    {
     "data": {
      "text/plain": [
       "count    335795.000000\n",
       "mean          5.776182\n",
       "std           3.705485\n",
       "min           0.000000\n",
       "25%           3.000000\n",
       "50%           6.000000\n",
       "75%           9.000000\n",
       "max          12.000000\n",
       "Name: registration_month, dtype: float64"
      ]
     },
     "metadata": {},
     "output_type": "display_data"
    },
    {
     "data": {
      "text/plain": [
       "'Уникальные значения:'"
      ]
     },
     "metadata": {},
     "output_type": "display_data"
    },
    {
     "data": {
      "text/plain": [
       "array([ 0,  1,  2,  3,  4,  5,  6,  7,  8,  9, 10, 11, 12], dtype=int64)"
      ]
     },
     "metadata": {},
     "output_type": "display_data"
    }
   ],
   "source": [
    "display('Статистические данные:', data['registration_month'].describe())\n",
    "display('Уникальные значения:', np.sort(data['registration_month'].unique()))"
   ]
  },
  {
   "cell_type": "markdown",
   "metadata": {},
   "source": [
    "Посмотрим на распределение анкет по месяцам:"
   ]
  },
  {
   "cell_type": "code",
   "execution_count": 22,
   "metadata": {},
   "outputs": [
    {
     "data": {
      "image/png": "[encoded data removed]",
      "text/plain": [
       "<Figure size 1080x360 with 1 Axes>"
      ]
     },
     "metadata": {
      "needs_background": "light"
     },
     "output_type": "display_data"
    }
   ],
   "source": [
    "inform_dataset = data['registration_month'].value_counts().sort_index().reset_index()\n",
    "inform_dataset.columns = ['month', 'count']\n",
    "\n",
    "plot_distribution(inform_dataset['month'], inform_dataset['count'],\n",
    "                  'Месяц', 'Количество анкет', 'Распределение анкет по месяцам')"
   ]
  },
  {
   "cell_type": "markdown",
   "metadata": {},
   "source": [
    "В признаке 'registration_month' мы наблюдаем 13 уникальных значений, что может говорить о том, что значение признака 0 является обозначением пропуска данных в анкете. Если исключить значение 0, то мы можем наблюдать самое большое количество анкет в марте. А мы знаем что конец временного периода нашей выборки датировано началом апреля. Посмотрим в какие года присутствовало значение 0 в признаке:"
   ]
  },
  {
   "cell_type": "code",
   "execution_count": 23,
   "metadata": {},
   "outputs": [
    {
     "data": {
      "text/plain": [
       "array([1981, 1982, 1983, 1984, 1985, 1986, 1987, 1988, 1989, 1990, 1991,\n",
       "       1992, 1993, 1994, 1995, 1996, 1997, 1998, 1999, 2000, 2001, 2002,\n",
       "       2003, 2004, 2005, 2006, 2007, 2008, 2009, 2010, 2011, 2012, 2013,\n",
       "       2014, 2015, 2016], dtype=int64)"
      ]
     },
     "execution_count": 23,
     "metadata": {},
     "output_type": "execute_result"
    }
   ],
   "source": [
    "np.sort(data.loc[data['registration_month'] == 0, 'registration_year'].unique())"
   ]
  },
  {
   "cell_type": "markdown",
   "metadata": {},
   "source": [
    "Значение 0 в признаке 'registration_month' присутствует во все года, поэтому мы не можем однозначно утверждать, что это значение является обозначением пропуска данных. Но поскольку признак 'registration_month' не влияет на ценообразование, а следовательно подлежит удалению, обрежем наш датафрейм по март 2016 г. включительно следующим образом:"
   ]
  },
  {
   "cell_type": "code",
   "execution_count": 24,
   "metadata": {},
   "outputs": [],
   "source": [
    "# Заменим значение 0 в 'registration_month' на 1 (нас интересует только 3-й месяц)\n",
    "data['registration_month'] = data['registration_month'].replace(0, 1)\n",
    "\n",
    "# Сгрупируем признаки 'registration_month' и 'registration_year' в новый признак 'registration_date'\n",
    "data['registration_date'] = (pd.to_datetime(data['registration_year'].astype(str) +\n",
    "                                            '-' + data['registration_month'].astype(str) + '-1', errors='coerce'))\n",
    "# Обрежем датафрейм по март 2016 г.\n",
    "data = data[data['registration_date'] <= '2016-03-31']\n",
    "\n",
    "# Удалим 'registration_month' и 'registration_date'\n",
    "data.drop(columns=['registration_month',\n",
    "          'registration_date'], axis=1, inplace=True)"
   ]
  },
  {
   "cell_type": "markdown",
   "metadata": {},
   "source": [
    "Посмотрим на результат через распределение по годам:"
   ]
  },
  {
   "cell_type": "code",
   "execution_count": 25,
   "metadata": {},
   "outputs": [
    {
     "data": {
      "image/png": "[encoded data removed]",
      "text/plain": [
       "<Figure size 1080x360 with 1 Axes>"
      ]
     },
     "metadata": {
      "needs_background": "light"
     },
     "output_type": "display_data"
    }
   ],
   "source": [
    "inform_dataset = data['registration_year'].value_counts().sort_index().reset_index()\n",
    "inform_dataset.columns = ['year', 'count']\n",
    "\n",
    "plot_distribution(inform_dataset['year'], inform_dataset['count'],\n",
    "                  'Год', 'Количество анкет', 'Распределение анкет по годам')"
   ]
  },
  {
   "cell_type": "markdown",
   "metadata": {},
   "source": [
    "Посмотрим сколько мы отрезали от основного датафрейма:"
   ]
  },
  {
   "cell_type": "code",
   "execution_count": 26,
   "metadata": {},
   "outputs": [
    {
     "data": {
      "text/plain": [
       "'Удалено 23936 строк, что составляет 6.75% от изначального датафрейма'"
      ]
     },
     "execution_count": 26,
     "metadata": {},
     "output_type": "execute_result"
    }
   ],
   "source": [
    "f'Удалено {original_size[0] - data.shape[0]} строк, \\\n",
    "что составляет {1-data.shape[0] / original_size[0]:.2%} от изначального датафрейма'"
   ]
  },
  {
   "cell_type": "markdown",
   "metadata": {},
   "source": [
    "6,75% - вполне приемлемо, учитывая что мы избавились от анкет с аномальными значениями даты регистрации автомобиля."
   ]
  },
  {
   "cell_type": "markdown",
   "metadata": {},
   "source": [
    "#### Признак 'postal_code' (почтовый индекс владельца анкеты (пользователя)\n",
    "\n",
    "Почтовый индекс влияет на ценообразование, так как содержит информацию о географическом расположении продавца автомобиля. Цены на автомобили связаны с географическим местом нахождения, так как разные регионы имеют разный уровень достатка населения, что непосредственно влияет на цены, особенно на вторичном рынке.\n",
    "\n",
    "Посмотрим на количество уникальных значений признака 'postal_code' после удаления аномальных значений в датах регистрации автомобилей:"
   ]
  },
  {
   "cell_type": "code",
   "execution_count": 27,
   "metadata": {},
   "outputs": [
    {
     "name": "stdout",
     "output_type": "stream",
     "text": [
      "Количество уникальных значений: 8134\n",
      "Разрядность индексов: Int64Index([5, 4], dtype='int64')\n"
     ]
    }
   ],
   "source": [
    "print('Количество уникальных значений:', len(data['postal_code'].unique()))\n",
    "print('Разрядность индексов:', data['postal_code'].astype(str).str.len().value_counts().index)"
   ]
  },
  {
   "cell_type": "markdown",
   "metadata": {},
   "source": [
    "Не смотря на тип данных int64, признак категориальный. \n",
    "\n",
    "[Немного исследовав интернет](https://ru.wikipedia.org/wiki/%D0%9F%D0%BE%D1%87%D1%82%D0%BE%D0%B2%D1%8B%D0%B5_%D0%B8%D0%BD%D0%B4%D0%B5%D0%BA%D1%81%D1%8B_%D0%B2_%D0%93%D0%B5%D1%80%D0%BC%D0%B0%D0%BD%D0%B8%D0%B8#:~:text=%D0%A1%D0%BE%D0%B2%D1%80%D0%B5%D0%BC%D0%B5%D0%BD%D0%BD%D1%8B%D0%B9%20PLZ%2D%D0%B8%D0%BD%D0%B4%D0%B5%D0%BA%D1%81,%D0%B2%D1%81%D0%B5%2010%20%D1%80%D0%B5%D0%B3%D0%B8%D0%BE%D0%BD%D0%BE%D0%B2.), приходим к выводу что в нашем признаке представлены почтовые адреса Германии. \n",
    "\n",
    "Также мы можем заметить, что все значения нашего признака, это либо 4-х, либо 5 разрядные числа. Это вызвано потерей нуля спереди индекса. Вот краткая сводка по системе почтовых индексов Германии:\n",
    "\n",
    "Современная система почтовых индексов Германии (нем. Postleitzahl, сокращённо — PLZ) предусматривает деление территории страны на десять главных почтовых зон и использование пятизначных цифровых кодов. Современный PLZ-индекс состоит из пяти цифр. Первая (крайняя левая) цифра в PLZ-коде обозначает зону (Zone) и, соответственно, аэропорт, через который происходит обмен почтой с этой зоной. При этом следует понимать, что зональное деление PLZ-кодов не соответствует административному делению Германии на земли. Вторая цифра в PLZ-коде обозначает регион зоны и вместе с номером зоны образует двузначный номер региона, который определяет дальнейшую маршрутизацию почты внутри зоны. Регионы внутри зоны, как правило, нумеруются последовательным обходом зоны против часовой стрелки, начиная с юга зоны.\n",
    "\n",
    "Заменим индексы на почтовые зоны от 0 до 9:"
   ]
  },
  {
   "cell_type": "code",
   "execution_count": 28,
   "metadata": {},
   "outputs": [
    {
     "name": "stdout",
     "output_type": "stream",
     "text": [
      "Уникальные значения: [0 1 2 3 4 5 6 7 8 9]\n"
     ]
    }
   ],
   "source": [
    "# Создадим функцию:\n",
    "def replace_index(index):\n",
    "    if len(index) == 4:\n",
    "        index = '0'\n",
    "    return int(index[0])\n",
    "# Произведем замену:    \n",
    "data['postal_code'] = data['postal_code'].apply(lambda x: replace_index(str(x)))\n",
    "# Проверим:\n",
    "print('Уникальные значения:', np.sort(data['postal_code'].unique()))"
   ]
  },
  {
   "cell_type": "code",
   "execution_count": 29,
   "metadata": {},
   "outputs": [
    {
     "data": {
      "image/png": "[encoded data removed]",
      "text/plain": [
       "<Figure size 1080x360 with 1 Axes>"
      ]
     },
     "metadata": {
      "needs_background": "light"
     },
     "output_type": "display_data"
    }
   ],
   "source": [
    "inform_dataset = data['postal_code'].value_counts().sort_index().reset_index()\n",
    "inform_dataset.columns = ['postal_code', 'count']\n",
    "\n",
    "plot_distribution(inform_dataset['postal_code'], inform_dataset['count'],\n",
    "                  'Почтовые зоны', 'Количество анкет', 'Распределение анкет по почтовым зонам')"
   ]
  },
  {
   "cell_type": "markdown",
   "metadata": {},
   "source": [
    "Из графика распределения мы можем увидеть, что большинство объявлений о продаже машин поданы в зонах 2, 3, 4, 5. [Если посмотреть на карту деления Германии по почтовым зонам](https://ru.wikipedia.org/wiki/%D0%9F%D0%BE%D1%87%D1%82%D0%BE%D0%B2%D1%8B%D0%B5_%D0%B8%D0%BD%D0%B4%D0%B5%D0%BA%D1%81%D1%8B_%D0%B2_%D0%93%D0%B5%D1%80%D0%BC%D0%B0%D0%BD%D0%B8%D0%B8#/media/%D0%A4%D0%B0%D0%B9%D0%BB:German_postcode_information.png), то мы увидим, что это западные территории Германии. Это вызванно спецификой развития государства - исторически западные районы более развиты."
   ]
  },
  {
   "cell_type": "code",
   "execution_count": 30,
   "metadata": {},
   "outputs": [],
   "source": [
    "data = data.drop(['postal_code'], axis=1)"
   ]
  },
  {
   "cell_type": "markdown",
   "metadata": {},
   "source": [
    "#### Признак 'brand' (марка автомобиля)\n",
    "\n",
    "В признаке 'brand' содержется 40 уникальных значений, пропущенные данные отсутствуют."
   ]
  },
  {
   "cell_type": "code",
   "execution_count": 31,
   "metadata": {
    "scrolled": false
   },
   "outputs": [
    {
     "data": {
      "image/png": "[encoded data removed]",
      "text/plain": [
       "<Figure size 1080x576 with 1 Axes>"
      ]
     },
     "metadata": {
      "needs_background": "light"
     },
     "output_type": "display_data"
    }
   ],
   "source": [
    "inform_dataset = data['brand'].value_counts().sort_index().reset_index()\n",
    "inform_dataset.columns = ['brand', 'count']\n",
    "inform_dataset = inform_dataset.sort_values('count')\n",
    "plot_distribution(inform_dataset['brand'], inform_dataset['count'],\n",
    "                  'Количество анкет', 'Марки автомобилей', 'Распределение анкет по маркам автомобилей', h=True)"
   ]
  },
  {
   "cell_type": "code",
   "execution_count": 32,
   "metadata": {},
   "outputs": [
    {
     "data": {
      "text/html": [
       "<div>\n",
       "<style scoped>\n",
       "    .dataframe tbody tr th:only-of-type {\n",
       "        vertical-align: middle;\n",
       "    }\n",
       "\n",
       "    .dataframe tbody tr th {\n",
       "        vertical-align: top;\n",
       "    }\n",
       "\n",
       "    .dataframe thead th {\n",
       "        text-align: right;\n",
       "    }\n",
       "</style>\n",
       "<table border=\"1\" class=\"dataframe\">\n",
       "  <thead>\n",
       "    <tr style=\"text-align: right;\">\n",
       "      <th></th>\n",
       "      <th>brand</th>\n",
       "      <th>count</th>\n",
       "    </tr>\n",
       "  </thead>\n",
       "  <tbody>\n",
       "    <tr>\n",
       "      <th>38</th>\n",
       "      <td>volkswagen</td>\n",
       "      <td>71146</td>\n",
       "    </tr>\n",
       "    <tr>\n",
       "      <th>24</th>\n",
       "      <td>opel</td>\n",
       "      <td>36788</td>\n",
       "    </tr>\n",
       "    <tr>\n",
       "      <th>2</th>\n",
       "      <td>bmw</td>\n",
       "      <td>35275</td>\n",
       "    </tr>\n",
       "    <tr>\n",
       "      <th>20</th>\n",
       "      <td>mercedes_benz</td>\n",
       "      <td>30100</td>\n",
       "    </tr>\n",
       "    <tr>\n",
       "      <th>1</th>\n",
       "      <td>audi</td>\n",
       "      <td>28056</td>\n",
       "    </tr>\n",
       "    <tr>\n",
       "      <th>10</th>\n",
       "      <td>ford</td>\n",
       "      <td>23434</td>\n",
       "    </tr>\n",
       "    <tr>\n",
       "      <th>27</th>\n",
       "      <td>renault</td>\n",
       "      <td>16527</td>\n",
       "    </tr>\n",
       "    <tr>\n",
       "      <th>25</th>\n",
       "      <td>peugeot</td>\n",
       "      <td>10430</td>\n",
       "    </tr>\n",
       "    <tr>\n",
       "      <th>9</th>\n",
       "      <td>fiat</td>\n",
       "      <td>8782</td>\n",
       "    </tr>\n",
       "    <tr>\n",
       "      <th>30</th>\n",
       "      <td>seat</td>\n",
       "      <td>6392</td>\n",
       "    </tr>\n",
       "  </tbody>\n",
       "</table>\n",
       "</div>"
      ],
      "text/plain": [
       "            brand  count\n",
       "38     volkswagen  71146\n",
       "24           opel  36788\n",
       "2             bmw  35275\n",
       "20  mercedes_benz  30100\n",
       "1            audi  28056\n",
       "10           ford  23434\n",
       "27        renault  16527\n",
       "25        peugeot  10430\n",
       "9            fiat   8782\n",
       "30           seat   6392"
      ]
     },
     "metadata": {},
     "output_type": "display_data"
    }
   ],
   "source": [
    "display(inform_dataset.sort_values('count', ascending=False).head(10))"
   ]
  },
  {
   "cell_type": "markdown",
   "metadata": {},
   "source": [
    "Из диаграммы мы видим, что клиенты сервиса \"Не бит, не крашен\" предпочитают немецкие автомобили. Все немецкие марки, кроме audi (28056 анкет) приодолели порог в  30000 анкет. На них стоит соредоточить основное внимание маркетологов сервиса \"Не бит, не крашен\"."
   ]
  },
  {
   "cell_type": "markdown",
   "metadata": {},
   "source": [
    "#### Признак 'model'  (модель автомобиля)"
   ]
  },
  {
   "cell_type": "code",
   "execution_count": 33,
   "metadata": {},
   "outputs": [
    {
     "name": "stdout",
     "output_type": "stream",
     "text": [
      "Количество уникальных значений: 249\n",
      "Количество пропущеных значений: 15953\n"
     ]
    }
   ],
   "source": [
    "print('Количество уникальных значений:', len(data['model'].unique()))\n",
    "print('Количество пропущеных значений:', data['model'].isnull().sum())"
   ]
  },
  {
   "cell_type": "markdown",
   "metadata": {},
   "source": [
    "Вот и дошли до пропущенных значений. Посмотрим как распределены пропуски по маркам автомобилей:"
   ]
  },
  {
   "cell_type": "code",
   "execution_count": 34,
   "metadata": {},
   "outputs": [
    {
     "data": {
      "image/png": "[encoded data removed]",
      "text/plain": [
       "<Figure size 1080x576 with 1 Axes>"
      ]
     },
     "metadata": {
      "needs_background": "light"
     },
     "output_type": "display_data"
    }
   ],
   "source": [
    "nan_dataset = (\n",
    "    data.groupby('brand')['model']\n",
    "    .apply(lambda x: x.isna().sum())\n",
    "    .reset_index(name='nans')\n",
    "    .sort_values('nans')\n",
    ")\n",
    "plot_distribution(nan_dataset['brand'], nan_dataset['nans'],\n",
    "                  'Количество пропусков', 'Марки автомобилей', 'Распределение пропусков по маркам автомобилей', h=True)"
   ]
  },
  {
   "cell_type": "markdown",
   "metadata": {},
   "source": [
    "Из диаграммы мы видим, что пропущенные значения распределены по маркам автомобилей практичеки пропорционально распредению анкет по маркам автомобилей. В глаза бросается sonstige_autos, но в переводе с немецкого, это другие автомобили."
   ]
  },
  {
   "cell_type": "code",
   "execution_count": 35,
   "metadata": {},
   "outputs": [
    {
     "data": {
      "text/plain": [
       "brand\n",
       "sonstige_autos      0\n",
       "lada              175\n",
       "trabant           355\n",
       "Name: model, dtype: int64"
      ]
     },
     "metadata": {},
     "output_type": "display_data"
    }
   ],
   "source": [
    "display(data.groupby('brand')['model'].count().nsmallest(3))"
   ]
  },
  {
   "cell_type": "markdown",
   "metadata": {},
   "source": [
    "Удалим sonstige_autos - мы не знаем ни марку ни модель."
   ]
  },
  {
   "cell_type": "code",
   "execution_count": 36,
   "metadata": {},
   "outputs": [],
   "source": [
    "data = data[data['brand'] != 'sonstige_autos']"
   ]
  },
  {
   "cell_type": "markdown",
   "metadata": {},
   "source": [
    "Остальные пропуски в 'model' заполним заглушкой, так как достоверно узнать их природу мы не можем."
   ]
  },
  {
   "cell_type": "code",
   "execution_count": 37,
   "metadata": {},
   "outputs": [
    {
     "name": "stdout",
     "output_type": "stream",
     "text": [
      "Количество пропущеных значений: 0\n"
     ]
    }
   ],
   "source": [
    "data['model'] = data['model'].fillna('unknown')\n",
    "# Проверим:\n",
    "print('Количество пропущеных значений:', data['model'].isnull().sum())"
   ]
  },
  {
   "cell_type": "markdown",
   "metadata": {},
   "source": [
    "#### Признаки 'vehicle_type'  (тип автомобильного кузова), 'gearbox' (тип коробки передач), fuel_type (тип топлива)\n",
    "\n",
    "Все три признака относятся к техническим характеристикам автомобиля и являются категориальными. \n",
    "Посмотрим на них:"
   ]
  },
  {
   "cell_type": "code",
   "execution_count": 38,
   "metadata": {},
   "outputs": [
    {
     "name": "stdout",
     "output_type": "stream",
     "text": [
      "Для признака 'vehicle_type':\n",
      "Количество уникальных значений: 9\n",
      "Количество пропущенных значений: 16189 что составляет 5.19% от количества значений\n",
      "\n",
      "Для признака 'gearbox':\n",
      "Количество уникальных значений: 3\n",
      "Количество пропущенных значений: 15677 что составляет 5.02% от количества значений\n",
      "\n",
      "Для признака 'fuel_type':\n",
      "Количество уникальных значений: 8\n",
      "Количество пропущенных значений: 23366 что составляет 7.67% от количества значений\n",
      "\n"
     ]
    }
   ],
   "source": [
    "tech_features = ['vehicle_type', 'gearbox', 'fuel_type']\n",
    "\n",
    "for feature in tech_features:\n",
    "    unique_values = len(data[feature].unique())\n",
    "    missing_values = data[feature].isnull().sum()\n",
    "    notnull_values = data[feature].notnull().sum()\n",
    "\n",
    "    print(f\"Для признака '{feature}':\")\n",
    "    print(f\"Количество уникальных значений: {unique_values}\")\n",
    "    print(f\"Количество пропущенных значений: {missing_values} что составляет \\\n",
    "{missing_values / notnull_values:.2%} от количества значений\")\n",
    "    print()"
   ]
  },
  {
   "cell_type": "markdown",
   "metadata": {},
   "source": [
    "Посмотрим на количество пропущенных значений, которые присутвуют во всех трех признаках:"
   ]
  },
  {
   "cell_type": "code",
   "execution_count": 39,
   "metadata": {},
   "outputs": [
    {
     "data": {
      "text/plain": [
       "4753"
      ]
     },
     "execution_count": 39,
     "metadata": {},
     "output_type": "execute_result"
    }
   ],
   "source": [
    "data[(data['vehicle_type'].isnull()) & (data['gearbox'].isnull()) & (data['fuel_type'].isnull())].shape[0]"
   ]
  },
  {
   "cell_type": "markdown",
   "metadata": {},
   "source": [
    "Эти анкеты врядли будут нам полезны при обучении модели - удалим их, а остальные пропуски заполним заглушкой."
   ]
  },
  {
   "cell_type": "code",
   "execution_count": 40,
   "metadata": {},
   "outputs": [
    {
     "name": "stdout",
     "output_type": "stream",
     "text": [
      "Для признака 'vehicle_type':\n",
      "Количество пропущенных значений: 0\n",
      "\n",
      "Для признака 'gearbox':\n",
      "Количество пропущенных значений: 0\n",
      "\n",
      "Для признака 'fuel_type':\n",
      "Количество пропущенных значений: 0\n",
      "\n"
     ]
    }
   ],
   "source": [
    "# Удаляем:\n",
    "data.dropna(subset=['vehicle_type', 'gearbox', 'fuel_type'], how='all', inplace=True)\n",
    "# Заполняем остальные признаки заглушкой и проверяем:\n",
    "for feature in tech_features:\n",
    "    data[feature] = data[feature].fillna('unknown')\n",
    "    missing_values = data[feature].isnull().sum()\n",
    "    print(f\"Для признака '{feature}':\")\n",
    "    print(f\"Количество пропущенных значений: {missing_values}\")\n",
    "    print()"
   ]
  },
  {
   "cell_type": "markdown",
   "metadata": {},
   "source": [
    "Посмотрим, насколько уменьшилась выборка:"
   ]
  },
  {
   "cell_type": "code",
   "execution_count": 41,
   "metadata": {},
   "outputs": [
    {
     "data": {
      "text/plain": [
       "'Удалено 31152 строк, что составляет 8.79% от изначального датафрейма'"
      ]
     },
     "execution_count": 41,
     "metadata": {},
     "output_type": "execute_result"
    }
   ],
   "source": [
    "(f'Удалено {original_size[0] - data.shape[0]} строк, '\n",
    "    f'что составляет {1-data.shape[0] / original_size[0]:.2%} от изначального датафрейма')"
   ]
  },
  {
   "cell_type": "markdown",
   "metadata": {},
   "source": [
    "Пока все идет в пределах нормы. Продолжаем."
   ]
  },
  {
   "cell_type": "markdown",
   "metadata": {},
   "source": [
    "#### Признак 'repaired' (была машина в ремонте или нет)\n",
    "\n",
    "Это категориальный признак, содержащий в 2 значения с большим количеством пропусков. Посмотрим на него:"
   ]
  },
  {
   "cell_type": "code",
   "execution_count": 42,
   "metadata": {},
   "outputs": [
    {
     "name": "stdout",
     "output_type": "stream",
     "text": [
      "Количество пропущенных значений: 55740 что составляет 20.84% от количества значений\n"
     ]
    }
   ],
   "source": [
    "print(f\"Количество пропущенных значений: {data['repaired'].isnull().sum()} что составляет \\\n",
    "{data['repaired'].isnull().sum() / data['repaired'].notnull().sum():.2%} от количества значений\")"
   ]
  },
  {
   "cell_type": "markdown",
   "metadata": {},
   "source": [
    "20.84% очень много для удаления, да и признак влияет на ценообразование - мы не можем удалить его. Скорее всего многие клиенты не указывают была ли машина в ремонте, чтобы не потерять в деньгах. Поэтому тоже заполним заглушкой."
   ]
  },
  {
   "cell_type": "code",
   "execution_count": 43,
   "metadata": {},
   "outputs": [
    {
     "name": "stdout",
     "output_type": "stream",
     "text": [
      "Количество пропущеных значений: 0\n"
     ]
    }
   ],
   "source": [
    "data['repaired'] = data['repaired'].fillna('unknown')\n",
    "# Проверим:\n",
    "print('Количество пропущеных значений:', data['repaired'].isnull().sum())"
   ]
  },
  {
   "cell_type": "markdown",
   "metadata": {},
   "source": [
    "#### Признак 'power' (мощность (л. с.))\n",
    "\n",
    "Это важный числовой признак, влияющий на ценообразование. Посмотрим на него:"
   ]
  },
  {
   "cell_type": "code",
   "execution_count": 44,
   "metadata": {},
   "outputs": [
    {
     "name": "stdout",
     "output_type": "stream",
     "text": [
      "Количество уникальных значений: 682\n"
     ]
    }
   ],
   "source": [
    "print('Количество уникальных значений:', len(data['power'].unique()))"
   ]
  },
  {
   "cell_type": "code",
   "execution_count": 45,
   "metadata": {},
   "outputs": [
    {
     "data": {
      "text/plain": [
       "count    323217.000000\n",
       "mean        113.395307\n",
       "std         182.031438\n",
       "min           0.000000\n",
       "25%          75.000000\n",
       "50%         105.000000\n",
       "75%         143.000000\n",
       "max       20000.000000\n",
       "Name: power, dtype: float64"
      ]
     },
     "execution_count": 45,
     "metadata": {},
     "output_type": "execute_result"
    }
   ],
   "source": [
    "data['power'].describe()"
   ]
  },
  {
   "cell_type": "markdown",
   "metadata": {},
   "source": [
    "Статистические данные показали разброс от 0 до 20000 л.с. Посмотрим минимальные и максимальные значения:"
   ]
  },
  {
   "cell_type": "code",
   "execution_count": 46,
   "metadata": {},
   "outputs": [
    {
     "data": {
      "text/plain": [
       "0        28612\n",
       "1           20\n",
       "2            7\n",
       "3            1\n",
       "4            6\n",
       "         ...  \n",
       "17932        1\n",
       "19208        1\n",
       "19211        1\n",
       "19312        1\n",
       "20000        1\n",
       "Name: power, Length: 682, dtype: int64"
      ]
     },
     "execution_count": 46,
     "metadata": {},
     "output_type": "execute_result"
    }
   ],
   "source": [
    "data['power'].value_counts().sort_index()"
   ]
  },
  {
   "cell_type": "markdown",
   "metadata": {},
   "source": [
    "Очень много нулей и значения больше 600 л.с явно аномальны. Посмотрим распределение на графике: "
   ]
  },
  {
   "cell_type": "code",
   "execution_count": 47,
   "metadata": {},
   "outputs": [],
   "source": [
    "def get_boxplot(data, title, xlim):\n",
    "    \"\"\"\n",
    "    Функция отрисовывает ящик с усами.\n",
    "    title: заголовок графика.\n",
    "    xlim: диапазон значений на оси x.\n",
    "    \"\"\"\n",
    "    plt.figure(figsize=(15, 6))\n",
    "    sns.boxplot(x=data)\n",
    "    plt.title(title)\n",
    "    plt.xlim(xlim)\n",
    "    plt.minorticks_on()\n",
    "    plt.grid(which='major', linewidth=.5)\n",
    "    plt.grid(which='minor', linewidth=.25, linestyle='--')\n",
    "    plt.show()"
   ]
  },
  {
   "cell_type": "markdown",
   "metadata": {},
   "source": [
    "Зададим для диаграммы размаха диапазон значений по 1500 л.с., потому что выше точно аномальные значения и будем отрезать."
   ]
  },
  {
   "cell_type": "code",
   "execution_count": 48,
   "metadata": {
    "scrolled": false
   },
   "outputs": [
    {
     "data": {
      "image/png": "[encoded data removed]",
      "text/plain": [
       "<Figure size 1080x432 with 1 Axes>"
      ]
     },
     "metadata": {
      "needs_background": "light"
     },
     "output_type": "display_data"
    }
   ],
   "source": [
    "get_boxplot(data['power'], 'Распределение значений для power', (-10, 1500))"
   ]
  },
  {
   "cell_type": "markdown",
   "metadata": {},
   "source": [
    "Из представленых в выборке моделей автомобилей, [самым маломощным оказался Fiat Nuova 500 (1957—1975), мощность двигателя- 13 л.с.](https://auto.ru/catalog/cars/fiat/500/specifications/harakteristiki-dvigatelya/#:~:text=Fiat%20500%20%D0%BE%D1%81%D0%BD%D0%B0%D1%89%D1%91%D0%BD,102%2D250%20%D0%9D%D0%BC.), [самым мощным автомобилем может быть Ford Mustang Shelby GT500 (2007-2014), мощность двигателя - 662 л.с.](https://ru.wikipedia.org/wiki/Shelby_Mustang#:~:text=V8%2C%20%D0%B1%D0%B5%D0%BD%D0%B7%D0%B8%D0%BD%D0%BE%D0%B2%D1%8B%D0%B9%20%D0%B8%D0%BD%D0%B6%D0%B5%D0%BA%D1%82%D0%BE%D1%80%20%D1%81%20%D1%82%D1%83%D1%80%D0%B1%D0%BE%D0%BD%D0%B0%D0%B4%D0%B4%D1%83%D0%B2%D0%BE%D0%BC%20%D0%B8%20%D0%BF%D1%80%D0%BE%D0%BC%D0%B5%D0%B6%D1%83%D1%82%D0%BE%D1%87%D0%BD%D1%8B%D0%BC%20%D0%BE%D1%85%D0%BB%D0%B0%D0%B6%D0%B4%D0%B5%D0%BD%D0%B8%D0%B5%D0%BC%20(5800%20%D1%81%D0%BC%C2%B3%2C%20662%20%D0%BB.%20%D1%81.)%2C%20%D1%80%D0%B0%D1%81%D0%BF%D0%BE%D0%BB%D0%BE%D0%B6%D0%B5%D0%BD%20%D1%81%D0%BF%D0%B5%D1%80%D0%B5%D0%B4%D0%B8%2C%20%D0%BF%D1%80%D0%BE%D0%B4%D0%BE%D0%BB%D1%8C%D0%BD%D0%BE). По этим данным и будем резать нашу выборку."
   ]
  },
  {
   "cell_type": "code",
   "execution_count": 49,
   "metadata": {},
   "outputs": [],
   "source": [
    "data = data[(data['power'] >= 13) & (data['power'] <= 662)]"
   ]
  },
  {
   "cell_type": "markdown",
   "metadata": {},
   "source": [
    "Посмотрим, что получилось:"
   ]
  },
  {
   "cell_type": "code",
   "execution_count": 50,
   "metadata": {},
   "outputs": [
    {
     "data": {
      "image/png": "[encoded data removed]",
      "text/plain": [
       "<Figure size 1080x432 with 1 Axes>"
      ]
     },
     "metadata": {
      "needs_background": "light"
     },
     "output_type": "display_data"
    }
   ],
   "source": [
    "get_boxplot(data['power'], 'Распределение значений для power', (-10, 700))"
   ]
  },
  {
   "cell_type": "markdown",
   "metadata": {},
   "source": [
    "Из диаграммы мы видим изменения в лучшую сторону. Хвост справа бросается в глаза, но наличие редких мощных серийных автомобилей его оправдывает. Оставим как есть.\n",
    "\n",
    "Посмотрим, насколько уменьшилась выборка:"
   ]
  },
  {
   "cell_type": "code",
   "execution_count": 51,
   "metadata": {},
   "outputs": [
    {
     "data": {
      "text/plain": [
       "'Удалено 60168 строк, что составляет 16.98% от изначального датафрейма'"
      ]
     },
     "execution_count": 51,
     "metadata": {},
     "output_type": "execute_result"
    }
   ],
   "source": [
    "(f'Удалено {original_size[0] - data.shape[0]} строк, '\n",
    "    f'что составляет {1-data.shape[0] / original_size[0]:.2%} от изначального датафрейма')"
   ]
  },
  {
   "cell_type": "markdown",
   "metadata": {},
   "source": [
    "Много, но мы избавились от аномальных значений в мощности двигателя, которые могут мешать обучению модели."
   ]
  },
  {
   "cell_type": "markdown",
   "metadata": {},
   "source": [
    "#### Признак 'kilometer'  (пробег (км))\n",
    "\n",
    "Важный числовой признак с малым количеством уникальных значений. Есть вероятность, что это категориальный признак. Посмотрим на него:"
   ]
  },
  {
   "cell_type": "code",
   "execution_count": 52,
   "metadata": {},
   "outputs": [
    {
     "data": {
      "text/plain": [
       "5000        2767\n",
       "10000        869\n",
       "20000       3149\n",
       "30000       3792\n",
       "40000       4392\n",
       "50000       5511\n",
       "60000       6643\n",
       "70000       7584\n",
       "80000       8838\n",
       "90000      10138\n",
       "100000     12470\n",
       "125000     31493\n",
       "150000    196555\n",
       "Name: kilometer, dtype: int64"
      ]
     },
     "execution_count": 52,
     "metadata": {},
     "output_type": "execute_result"
    }
   ],
   "source": [
    "data['kilometer'].value_counts().sort_index()"
   ]
  },
  {
   "cell_type": "code",
   "execution_count": 53,
   "metadata": {},
   "outputs": [],
   "source": [
    "def get_histplot(data, xlabel, rotation=0, kde=True):\n",
    "    \"\"\"\n",
    "    Функция строит seaborn-гистограмму с kde-линией\n",
    "    data: данные, для которых нужно построить гистограмму.\n",
    "    xlabel: подпись оси x на графике.\n",
    "    rotation (по умолчанию 0): угол поворота подписей на оси x.\n",
    "    kde (по умолчанию False): флаг, указывающий, нужно ли отрисовывать линию ядерной оценки плотности.\n",
    "    \"\"\"\n",
    "    plt.figure(figsize=(15,5))\n",
    "    sns.histplot(data, kde=kde, linewidth=5, ec='#0073bb')\n",
    "    plt.xlabel(xlabel)\n",
    "    plt.ylabel('Количество анкет')\n",
    "    plt.title(f'Распределение значений для {data.name}')\n",
    "    plt.xticks(rotation=rotation)\n",
    "    plt.minorticks_on()\n",
    "    plt.grid(which='major', linewidth=.5)\n",
    "    plt.grid(which='minor', linewidth=.25, linestyle='--')\n",
    "    plt.show()"
   ]
  },
  {
   "cell_type": "markdown",
   "metadata": {},
   "source": [
    "Посмотрим на распределение:"
   ]
  },
  {
   "cell_type": "code",
   "execution_count": 54,
   "metadata": {},
   "outputs": [
    {
     "data": {
      "image/png": "[encoded data removed]",
      "text/plain": [
       "<Figure size 1080x360 with 1 Axes>"
      ]
     },
     "metadata": {
      "needs_background": "light"
     },
     "output_type": "display_data"
    }
   ],
   "source": [
    "get_histplot(data['kilometer'], 'Пробег в км')"
   ]
  },
  {
   "cell_type": "markdown",
   "metadata": {},
   "source": [
    "Диаграмма показвает нам, что признак категориальный. Большинство анкет (практически 200000) с пробегом 150000 км., что говорит об аккуратности немецкого автовладельца. Для проверки адекватности заполнения признака, посмотрим на его зависимость от цены на автомобили:"
   ]
  },
  {
   "cell_type": "code",
   "execution_count": 55,
   "metadata": {},
   "outputs": [],
   "source": [
    "def get_lineplot(data, column_1, column_2, xlabel, ylabel):\n",
    "    \"\"\"\n",
    "    Функция строит линнейный график зависимости признаков\n",
    "    data: DataFrame, содержащий данные для построения графика.\n",
    "    column_1: признак, который будет использован для оси x на графике.\n",
    "    column_2: признак, который будет использован для оси y на графике.\n",
    "    xlabel: подпись для оси x на графике.\n",
    "    ylabel: подпись для оси y на графике.\n",
    "    \"\"\"\n",
    "    data_mean = data[[column_1, column_2]].groupby(column_1).mean()\n",
    "    plt.figure(figsize=(15, 5))\n",
    "    sns.lineplot(x=column_1, y=column_2, data=data_mean, color='#0073bb', linewidth=4)\n",
    "    plt.xlabel(xlabel)\n",
    "    plt.ylabel(ylabel)\n",
    "    plt.title(f'Зависимость {data[column_2].name} от {data[column_1].name}')\n",
    "    plt.minorticks_on()\n",
    "    plt.grid(which='major', linewidth=.5)\n",
    "    plt.grid(which='minor', linewidth=.25, linestyle='--')\n",
    "    plt.show()"
   ]
  },
  {
   "cell_type": "code",
   "execution_count": 56,
   "metadata": {},
   "outputs": [
    {
     "data": {
      "image/png": "[encoded data removed]",
      "text/plain": [
       "<Figure size 1080x360 with 1 Axes>"
      ]
     },
     "metadata": {
      "needs_background": "light"
     },
     "output_type": "display_data"
    }
   ],
   "source": [
    "get_lineplot(data, 'kilometer', 'price', 'Пробег', 'Цена')"
   ]
  },
  {
   "cell_type": "markdown",
   "metadata": {},
   "source": [
    "Чем выше пробег - тем ниже цена. Оставляем признак нетронутым."
   ]
  },
  {
   "cell_type": "markdown",
   "metadata": {},
   "source": [
    "#### Целевой признак 'price'(цена (евро))\n",
    "\n",
    "Это признак, который будем предсказывать. Посмотрим на него:"
   ]
  },
  {
   "cell_type": "code",
   "execution_count": 57,
   "metadata": {},
   "outputs": [
    {
     "data": {
      "text/plain": [
       "count    294201.000000\n",
       "mean       4754.757516\n",
       "std        4604.992139\n",
       "min           0.000000\n",
       "25%        1250.000000\n",
       "50%        3000.000000\n",
       "75%        6900.000000\n",
       "max       20000.000000\n",
       "Name: price, dtype: float64"
      ]
     },
     "execution_count": 57,
     "metadata": {},
     "output_type": "execute_result"
    }
   ],
   "source": [
    "data['price'].describe()"
   ]
  },
  {
   "cell_type": "markdown",
   "metadata": {},
   "source": [
    "Статистические данные показывают нам наличие нулей. Похоже, что клиенты не указали стоимость автомобиля в анкете или произошел какой-то сбой при выгрузке. Посмотрим распределение:"
   ]
  },
  {
   "cell_type": "code",
   "execution_count": 58,
   "metadata": {},
   "outputs": [
    {
     "data": {
      "image/png": "[encoded data removed]",
      "text/plain": [
       "<Figure size 1080x360 with 1 Axes>"
      ]
     },
     "metadata": {
      "needs_background": "light"
     },
     "output_type": "display_data"
    }
   ],
   "source": [
    "get_histplot(data['price'], 'Цена', kde=False)"
   ]
  },
  {
   "cell_type": "markdown",
   "metadata": {},
   "source": [
    "Из диаграммы мы видим, что нулей приличное количество. Посмотрим сколько анкет с ценой ниже 100 евро:"
   ]
  },
  {
   "cell_type": "code",
   "execution_count": 59,
   "metadata": {},
   "outputs": [
    {
     "data": {
      "text/plain": [
       "'Анкет с ценой ниже 100 евро: 7024, что составляет 2.39% от общего количества анкет'"
      ]
     },
     "execution_count": 59,
     "metadata": {},
     "output_type": "execute_result"
    }
   ],
   "source": [
    "(f\"Анкет с ценой ниже 100 евро: {data[data['price'] < 100].shape[0]}, \"\n",
    "    f\"что составляет {data[data['price'] < 100].shape[0]/data.shape[0]:.2%} от общего количества анкет\")"
   ]
  },
  {
   "cell_type": "markdown",
   "metadata": {},
   "source": [
    "Поскольку мы разрабатываем алгоритм, который будет предлагать клиенту цену автомобиля, удалим анкеты ниже 100 евро."
   ]
  },
  {
   "cell_type": "code",
   "execution_count": 60,
   "metadata": {},
   "outputs": [
    {
     "data": {
      "text/plain": [
       "0"
      ]
     },
     "execution_count": 60,
     "metadata": {},
     "output_type": "execute_result"
    }
   ],
   "source": [
    "# Удаляем:\n",
    "data = data[data['price'] >= 100]\n",
    "# Проверяем:\n",
    "len(data[data['price'] < 100])"
   ]
  },
  {
   "cell_type": "markdown",
   "metadata": {},
   "source": [
    "#### Посмотрим, что получилось:\n",
    "\n",
    "Разобрались с признаками, избавились от аномальных и пропущенных значений. Посмотрим, что в итоге:"
   ]
  },
  {
   "cell_type": "code",
   "execution_count": 61,
   "metadata": {},
   "outputs": [
    {
     "name": "stdout",
     "output_type": "stream",
     "text": [
      "<class 'pandas.core.frame.DataFrame'>\n",
      "Int64Index: 287177 entries, 1 to 354364\n",
      "Data columns (total 10 columns):\n",
      " #   Column             Non-Null Count   Dtype \n",
      "---  ------             --------------   ----- \n",
      " 0   price              287177 non-null  int64 \n",
      " 1   vehicle_type       287177 non-null  object\n",
      " 2   registration_year  287177 non-null  int64 \n",
      " 3   gearbox            287177 non-null  object\n",
      " 4   power              287177 non-null  int64 \n",
      " 5   model              287177 non-null  object\n",
      " 6   kilometer          287177 non-null  int64 \n",
      " 7   fuel_type          287177 non-null  object\n",
      " 8   brand              287177 non-null  object\n",
      " 9   repaired           287177 non-null  object\n",
      "dtypes: int64(4), object(6)\n",
      "memory usage: 24.1+ MB\n"
     ]
    }
   ],
   "source": [
    "data.info()"
   ]
  },
  {
   "cell_type": "code",
   "execution_count": 62,
   "metadata": {},
   "outputs": [
    {
     "data": {
      "text/html": [
       "<div>\n",
       "<style scoped>\n",
       "    .dataframe tbody tr th:only-of-type {\n",
       "        vertical-align: middle;\n",
       "    }\n",
       "\n",
       "    .dataframe tbody tr th {\n",
       "        vertical-align: top;\n",
       "    }\n",
       "\n",
       "    .dataframe thead th {\n",
       "        text-align: right;\n",
       "    }\n",
       "</style>\n",
       "<table border=\"1\" class=\"dataframe\">\n",
       "  <thead>\n",
       "    <tr style=\"text-align: right;\">\n",
       "      <th></th>\n",
       "      <th>price</th>\n",
       "      <th>vehicle_type</th>\n",
       "      <th>registration_year</th>\n",
       "      <th>gearbox</th>\n",
       "      <th>power</th>\n",
       "      <th>model</th>\n",
       "      <th>kilometer</th>\n",
       "      <th>fuel_type</th>\n",
       "      <th>brand</th>\n",
       "      <th>repaired</th>\n",
       "    </tr>\n",
       "  </thead>\n",
       "  <tbody>\n",
       "    <tr>\n",
       "      <th>1</th>\n",
       "      <td>6000</td>\n",
       "      <td>bus</td>\n",
       "      <td>1995</td>\n",
       "      <td>auto</td>\n",
       "      <td>200</td>\n",
       "      <td>other</td>\n",
       "      <td>150000</td>\n",
       "      <td>petrol</td>\n",
       "      <td>chevrolet</td>\n",
       "      <td>no</td>\n",
       "    </tr>\n",
       "    <tr>\n",
       "      <th>3</th>\n",
       "      <td>14250</td>\n",
       "      <td>convertible</td>\n",
       "      <td>2005</td>\n",
       "      <td>manual</td>\n",
       "      <td>163</td>\n",
       "      <td>slk</td>\n",
       "      <td>150000</td>\n",
       "      <td>petrol</td>\n",
       "      <td>mercedes_benz</td>\n",
       "      <td>no</td>\n",
       "    </tr>\n",
       "    <tr>\n",
       "      <th>4</th>\n",
       "      <td>5200</td>\n",
       "      <td>convertible</td>\n",
       "      <td>2006</td>\n",
       "      <td>manual</td>\n",
       "      <td>109</td>\n",
       "      <td>2_reihe</td>\n",
       "      <td>80000</td>\n",
       "      <td>petrol</td>\n",
       "      <td>peugeot</td>\n",
       "      <td>no</td>\n",
       "    </tr>\n",
       "    <tr>\n",
       "      <th>5</th>\n",
       "      <td>600</td>\n",
       "      <td>small</td>\n",
       "      <td>2005</td>\n",
       "      <td>manual</td>\n",
       "      <td>54</td>\n",
       "      <td>polo</td>\n",
       "      <td>150000</td>\n",
       "      <td>petrol</td>\n",
       "      <td>volkswagen</td>\n",
       "      <td>yes</td>\n",
       "    </tr>\n",
       "    <tr>\n",
       "      <th>6</th>\n",
       "      <td>600</td>\n",
       "      <td>small</td>\n",
       "      <td>2005</td>\n",
       "      <td>manual</td>\n",
       "      <td>54</td>\n",
       "      <td>polo</td>\n",
       "      <td>150000</td>\n",
       "      <td>petrol</td>\n",
       "      <td>volkswagen</td>\n",
       "      <td>yes</td>\n",
       "    </tr>\n",
       "  </tbody>\n",
       "</table>\n",
       "</div>"
      ],
      "text/plain": [
       "   price vehicle_type  registration_year gearbox  power    model  kilometer  \\\n",
       "1   6000          bus               1995    auto    200    other     150000   \n",
       "3  14250  convertible               2005  manual    163      slk     150000   \n",
       "4   5200  convertible               2006  manual    109  2_reihe      80000   \n",
       "5    600        small               2005  manual     54     polo     150000   \n",
       "6    600        small               2005  manual     54     polo     150000   \n",
       "\n",
       "  fuel_type          brand repaired  \n",
       "1    petrol      chevrolet       no  \n",
       "3    petrol  mercedes_benz       no  \n",
       "4    petrol        peugeot       no  \n",
       "5    petrol     volkswagen      yes  \n",
       "6    petrol     volkswagen      yes  "
      ]
     },
     "metadata": {},
     "output_type": "display_data"
    },
    {
     "data": {
      "text/html": [
       "<div>\n",
       "<style scoped>\n",
       "    .dataframe tbody tr th:only-of-type {\n",
       "        vertical-align: middle;\n",
       "    }\n",
       "\n",
       "    .dataframe tbody tr th {\n",
       "        vertical-align: top;\n",
       "    }\n",
       "\n",
       "    .dataframe thead th {\n",
       "        text-align: right;\n",
       "    }\n",
       "</style>\n",
       "<table border=\"1\" class=\"dataframe\">\n",
       "  <thead>\n",
       "    <tr style=\"text-align: right;\">\n",
       "      <th></th>\n",
       "      <th>price</th>\n",
       "      <th>vehicle_type</th>\n",
       "      <th>registration_year</th>\n",
       "      <th>gearbox</th>\n",
       "      <th>power</th>\n",
       "      <th>model</th>\n",
       "      <th>kilometer</th>\n",
       "      <th>fuel_type</th>\n",
       "      <th>brand</th>\n",
       "      <th>repaired</th>\n",
       "    </tr>\n",
       "  </thead>\n",
       "  <tbody>\n",
       "    <tr>\n",
       "      <th>354360</th>\n",
       "      <td>550</td>\n",
       "      <td>small</td>\n",
       "      <td>1997</td>\n",
       "      <td>manual</td>\n",
       "      <td>60</td>\n",
       "      <td>ka</td>\n",
       "      <td>150000</td>\n",
       "      <td>petrol</td>\n",
       "      <td>ford</td>\n",
       "      <td>no</td>\n",
       "    </tr>\n",
       "    <tr>\n",
       "      <th>354361</th>\n",
       "      <td>2190</td>\n",
       "      <td>wagon</td>\n",
       "      <td>1998</td>\n",
       "      <td>manual</td>\n",
       "      <td>110</td>\n",
       "      <td>a4</td>\n",
       "      <td>150000</td>\n",
       "      <td>gasoline</td>\n",
       "      <td>audi</td>\n",
       "      <td>no</td>\n",
       "    </tr>\n",
       "    <tr>\n",
       "      <th>354362</th>\n",
       "      <td>1890</td>\n",
       "      <td>wagon</td>\n",
       "      <td>2000</td>\n",
       "      <td>manual</td>\n",
       "      <td>150</td>\n",
       "      <td>a4</td>\n",
       "      <td>5000</td>\n",
       "      <td>gasoline</td>\n",
       "      <td>audi</td>\n",
       "      <td>no</td>\n",
       "    </tr>\n",
       "    <tr>\n",
       "      <th>354363</th>\n",
       "      <td>15490</td>\n",
       "      <td>convertible</td>\n",
       "      <td>2010</td>\n",
       "      <td>manual</td>\n",
       "      <td>150</td>\n",
       "      <td>c_reihe</td>\n",
       "      <td>125000</td>\n",
       "      <td>gasoline</td>\n",
       "      <td>volvo</td>\n",
       "      <td>no</td>\n",
       "    </tr>\n",
       "    <tr>\n",
       "      <th>354364</th>\n",
       "      <td>850</td>\n",
       "      <td>sedan</td>\n",
       "      <td>1991</td>\n",
       "      <td>manual</td>\n",
       "      <td>100</td>\n",
       "      <td>3er</td>\n",
       "      <td>30000</td>\n",
       "      <td>petrol</td>\n",
       "      <td>bmw</td>\n",
       "      <td>no</td>\n",
       "    </tr>\n",
       "  </tbody>\n",
       "</table>\n",
       "</div>"
      ],
      "text/plain": [
       "        price vehicle_type  registration_year gearbox  power    model  \\\n",
       "354360    550        small               1997  manual     60       ka   \n",
       "354361   2190        wagon               1998  manual    110       a4   \n",
       "354362   1890        wagon               2000  manual    150       a4   \n",
       "354363  15490  convertible               2010  manual    150  c_reihe   \n",
       "354364    850        sedan               1991  manual    100      3er   \n",
       "\n",
       "        kilometer fuel_type  brand repaired  \n",
       "354360     150000    petrol   ford       no  \n",
       "354361     150000  gasoline   audi       no  \n",
       "354362       5000  gasoline   audi       no  \n",
       "354363     125000  gasoline  volvo       no  \n",
       "354364      30000    petrol    bmw       no  "
      ]
     },
     "metadata": {},
     "output_type": "display_data"
    }
   ],
   "source": [
    "display(data.head(5))\n",
    "display(data.tail(5))"
   ]
  },
  {
   "cell_type": "code",
   "execution_count": 63,
   "metadata": {},
   "outputs": [
    {
     "data": {
      "text/plain": [
       "'Удалено 67192 строк, что составляет 18.96% от изначального датафрейма'"
      ]
     },
     "execution_count": 63,
     "metadata": {},
     "output_type": "execute_result"
    }
   ],
   "source": [
    "(f'Удалено {original_size[0] - data.shape[0]} строк, '\n",
    "    f'что составляет {1-data.shape[0] / original_size[0]:.2%} от изначального датафрейма')"
   ]
  },
  {
   "cell_type": "markdown",
   "metadata": {},
   "source": [
    "Наша выборка \"похудела\" практически на 19% (67192 строк) и на 5 признаков. Хочется заменить признак 'registration_year' (год регистрации автомобиля) на возраст автомобиля. Так и поступим."
   ]
  },
  {
   "cell_type": "code",
   "execution_count": 64,
   "metadata": {},
   "outputs": [
    {
     "data": {
      "text/html": [
       "<div>\n",
       "<style scoped>\n",
       "    .dataframe tbody tr th:only-of-type {\n",
       "        vertical-align: middle;\n",
       "    }\n",
       "\n",
       "    .dataframe tbody tr th {\n",
       "        vertical-align: top;\n",
       "    }\n",
       "\n",
       "    .dataframe thead th {\n",
       "        text-align: right;\n",
       "    }\n",
       "</style>\n",
       "<table border=\"1\" class=\"dataframe\">\n",
       "  <thead>\n",
       "    <tr style=\"text-align: right;\">\n",
       "      <th></th>\n",
       "      <th>price</th>\n",
       "      <th>vehicle_type</th>\n",
       "      <th>gearbox</th>\n",
       "      <th>power</th>\n",
       "      <th>model</th>\n",
       "      <th>kilometer</th>\n",
       "      <th>fuel_type</th>\n",
       "      <th>brand</th>\n",
       "      <th>repaired</th>\n",
       "      <th>car_age</th>\n",
       "    </tr>\n",
       "  </thead>\n",
       "  <tbody>\n",
       "    <tr>\n",
       "      <th>1</th>\n",
       "      <td>6000</td>\n",
       "      <td>bus</td>\n",
       "      <td>auto</td>\n",
       "      <td>200</td>\n",
       "      <td>other</td>\n",
       "      <td>150000</td>\n",
       "      <td>petrol</td>\n",
       "      <td>chevrolet</td>\n",
       "      <td>no</td>\n",
       "      <td>21</td>\n",
       "    </tr>\n",
       "    <tr>\n",
       "      <th>3</th>\n",
       "      <td>14250</td>\n",
       "      <td>convertible</td>\n",
       "      <td>manual</td>\n",
       "      <td>163</td>\n",
       "      <td>slk</td>\n",
       "      <td>150000</td>\n",
       "      <td>petrol</td>\n",
       "      <td>mercedes_benz</td>\n",
       "      <td>no</td>\n",
       "      <td>11</td>\n",
       "    </tr>\n",
       "    <tr>\n",
       "      <th>4</th>\n",
       "      <td>5200</td>\n",
       "      <td>convertible</td>\n",
       "      <td>manual</td>\n",
       "      <td>109</td>\n",
       "      <td>2_reihe</td>\n",
       "      <td>80000</td>\n",
       "      <td>petrol</td>\n",
       "      <td>peugeot</td>\n",
       "      <td>no</td>\n",
       "      <td>10</td>\n",
       "    </tr>\n",
       "    <tr>\n",
       "      <th>5</th>\n",
       "      <td>600</td>\n",
       "      <td>small</td>\n",
       "      <td>manual</td>\n",
       "      <td>54</td>\n",
       "      <td>polo</td>\n",
       "      <td>150000</td>\n",
       "      <td>petrol</td>\n",
       "      <td>volkswagen</td>\n",
       "      <td>yes</td>\n",
       "      <td>11</td>\n",
       "    </tr>\n",
       "    <tr>\n",
       "      <th>6</th>\n",
       "      <td>600</td>\n",
       "      <td>small</td>\n",
       "      <td>manual</td>\n",
       "      <td>54</td>\n",
       "      <td>polo</td>\n",
       "      <td>150000</td>\n",
       "      <td>petrol</td>\n",
       "      <td>volkswagen</td>\n",
       "      <td>yes</td>\n",
       "      <td>11</td>\n",
       "    </tr>\n",
       "  </tbody>\n",
       "</table>\n",
       "</div>"
      ],
      "text/plain": [
       "   price vehicle_type gearbox  power    model  kilometer fuel_type  \\\n",
       "1   6000          bus    auto    200    other     150000    petrol   \n",
       "3  14250  convertible  manual    163      slk     150000    petrol   \n",
       "4   5200  convertible  manual    109  2_reihe      80000    petrol   \n",
       "5    600        small  manual     54     polo     150000    petrol   \n",
       "6    600        small  manual     54     polo     150000    petrol   \n",
       "\n",
       "           brand repaired  car_age  \n",
       "1      chevrolet       no       21  \n",
       "3  mercedes_benz       no       11  \n",
       "4        peugeot       no       10  \n",
       "5     volkswagen      yes       11  \n",
       "6     volkswagen      yes       11  "
      ]
     },
     "execution_count": 64,
     "metadata": {},
     "output_type": "execute_result"
    }
   ],
   "source": [
    "# Создаем новый признак 'car_age' (возраст автомобиля):\n",
    "data['car_age'] = 2016 - data['registration_year']\n",
    "# Удаляем признак 'registration_year':\n",
    "data.drop(columns='registration_year', axis=1, inplace=True)\n",
    "# Проверим:\n",
    "data.head(5)"
   ]
  },
  {
   "cell_type": "markdown",
   "metadata": {},
   "source": [
    "### Предварительный вывод:"
   ]
  },
  {
   "cell_type": "markdown",
   "metadata": {},
   "source": [
    "На этом этапе мы:\n",
    "- Загрузили и описали наш датафрейм\n",
    "- Привели названия признаков к snake_case\n",
    "- Обнаружили и удалили 4 явных дубликата\n",
    "- Исследовали каждый признак по отдельности:\n",
    "    - Удалили 6 признаков, которые не влияют на ценообразование\n",
    "    - Удалили аномальные значения\n",
    "    - Заменили  признак 'registration_year' (год регистрации автомобиля) на признак 'car_age' (возраст автомобиля)\n",
    "- Датафрейм уменьнился на 19% (67192 строк) и 5 признаков.\n",
    "Все готово к обучению моделей"
   ]
  },
  {
   "cell_type": "markdown",
   "metadata": {},
   "source": [
    "## Обучение моделей"
   ]
  },
  {
   "cell_type": "markdown",
   "metadata": {},
   "source": [
    "Будем обучать следующие модели:\n",
    "- LinearRegression\n",
    "- LGBMRegressor\n",
    "- CatBoostRegressor\n",
    "- Ridge\n",
    "- GradientBoostingRegressor\n",
    "\n",
    "Подбирать гиперпараметры будем при помощи GridSearchCV\n",
    "\n",
    "Критериями качества моделей будет:\n",
    "- метрика RMSE (Root Mean Squared Error)\n",
    "- время затраченное алгоритмами на обучение моделей и предсказания"
   ]
  },
  {
   "cell_type": "markdown",
   "metadata": {},
   "source": [
    "### Подготовка к обучению и тестированию  моделей\n",
    "\n",
    "Разобьем датафрейм на выборки с учетом индексации"
   ]
  },
  {
   "cell_type": "code",
   "execution_count": 65,
   "metadata": {},
   "outputs": [],
   "source": [
    "X_train, X_test = train_test_split(data, shuffle=False, test_size=.25)\n",
    "\n",
    "X_train = X_train.sample(frac=1, random_state=RANDOM_STATE)\n",
    "X_test = X_test.sample(frac=1, random_state=RANDOM_STATE)\n",
    "\n",
    "y_train = X_train['price']\n",
    "X_train.drop('price', axis=1, inplace=True)\n",
    "\n",
    "y_test = X_test['price']\n",
    "X_test.drop('price', axis=1, inplace=True)"
   ]
  },
  {
   "cell_type": "markdown",
   "metadata": {},
   "source": [
    "Проверим разбиение:"
   ]
  },
  {
   "cell_type": "code",
   "execution_count": 66,
   "metadata": {},
   "outputs": [
    {
     "name": "stdout",
     "output_type": "stream",
     "text": [
      "Количество строк и столбцов в обучающей выборке: (215382, 9), что составляет 75.0 % от данных.\n",
      "Количество строк и столбцов в тестовой выборке: (71795, 9), что составляет 25.0 % от данных.\n"
     ]
    }
   ],
   "source": [
    "print(f'Количество строк и столбцов в обучающей выборке: {X_train.shape}, '\n",
    " f'что составляет {round(len(X_train)/len(data)*100, 2)} % от данных.')\n",
    "print(f'Количество строк и столбцов в тестовой выборке: {X_test.shape}, '\n",
    " f'что составляет {round(len(X_test)/len(data)*100, 2)} % от данных.')"
   ]
  },
  {
   "cell_type": "markdown",
   "metadata": {},
   "source": [
    "Объявим списки с числовыми и категориальными признаками:"
   ]
  },
  {
   "cell_type": "code",
   "execution_count": 67,
   "metadata": {},
   "outputs": [],
   "source": [
    "cat_features = ['vehicle_type', 'gearbox', 'model',\n",
    "                'kilometer', 'fuel_type', 'brand', 'repaired']\n",
    "num_features = ['power', 'car_age']"
   ]
  },
  {
   "cell_type": "markdown",
   "metadata": {},
   "source": [
    "Создаем pipeline с ColumnTransformer, TargetEncoder, StandardScaler"
   ]
  },
  {
   "cell_type": "code",
   "execution_count": 68,
   "metadata": {},
   "outputs": [],
   "source": [
    "num_transformer = Pipeline(steps=[\n",
    "    ('scaler', StandardScaler())\n",
    "])\n",
    "\n",
    "cat_transformer = Pipeline(steps=[\n",
    "    ('encoder', TargetEncoder(cols=cat_features))\n",
    "])\n",
    "\n",
    "preprocessor = ColumnTransformer(\n",
    "    transformers=[\n",
    "        ('num_features', num_transformer, num_features),\n",
    "        ('cat_features', cat_transformer, cat_features)\n",
    "    ])"
   ]
  },
  {
   "cell_type": "markdown",
   "metadata": {},
   "source": [
    "Преобразуем время в секундах в строку в формате \"часы:минуты:секунды\"."
   ]
  },
  {
   "cell_type": "code",
   "execution_count": 69,
   "metadata": {},
   "outputs": [],
   "source": [
    "format_time = lambda x: time.strftime('%H:%M:%S', time.gmtime(x))"
   ]
  },
  {
   "cell_type": "markdown",
   "metadata": {},
   "source": [
    "Создадим таблицу с результатами обучения моделей"
   ]
  },
  {
   "cell_type": "code",
   "execution_count": 70,
   "metadata": {},
   "outputs": [],
   "source": [
    "result_table = pd.DataFrame(columns=['Название модели', 'Лучшие гиперпараметры',\n",
    "                            'RMSE', 'Время подбора гиперпараметров', 'Время обучения', 'Время предсказания'])"
   ]
  },
  {
   "cell_type": "markdown",
   "metadata": {},
   "source": [
    "Напишем функцию, которая будет тестировать модели и возвращать результаты и экземпляр Pipeline с лучшими параметрами"
   ]
  },
  {
   "cell_type": "code",
   "execution_count": 71,
   "metadata": {},
   "outputs": [],
   "source": [
    "def test_model(pipeline, param_grid):\n",
    "    \"\"\"\n",
    "    Функция test_model выполняет оценку и тестирование модели машинного обучения с использованием метода \n",
    "    кросс-валидации и поиска оптимальных гиперпараметров. Она принимает два аргумента:\n",
    "    pipeline: объект pipeline, содержащий последовательность шагов обработки данных и модель для обучения. \n",
    "    Модель должна быть доступна через ключ 'regressor' в named_steps атрибуте pipeline.\n",
    "    param_grid: словарь с набором гиперпараметров для перебора во время поиска оптимальных значений.\n",
    "    \"\"\"\n",
    "    # Получаем название модели из pipeline\n",
    "    model_name = pipeline.named_steps['regressor'].__class__.__name__\n",
    "\n",
    "    # Создаем объект GridSearchCV для текущей модели\n",
    "    grid_search = GridSearchCV(pipeline, param_grid=param_grid, cv=3,\n",
    "                               scoring='neg_root_mean_squared_error',\n",
    "                               refit=False, error_score='raise', verbose=10, n_jobs=-1)\n",
    "\n",
    "    # Обучаем модель на тренировочных данных\n",
    "    time_grid = time.time()\n",
    "    grid_search.fit(X_train, y_train)\n",
    "    time_grid = format_time(time.time() - time_grid)\n",
    "\n",
    "    # Получаем лучшие параметры и создаем новый экземпляр Pipeline с лучшими параметрами\n",
    "    best_params = grid_search.best_params_\n",
    "    pipeline.set_params(**best_params)\n",
    "\n",
    "    # Обучаем модель с лучшими параметрами\n",
    "    time_fit = time.time()\n",
    "    pipeline.fit(X_train, y_train)\n",
    "    time_fit = format_time(time.time() - time_fit)\n",
    "\n",
    "    # Предсказываем\n",
    "    time_predict = time.time()\n",
    "    predictions = pipeline.predict(X_train)\n",
    "    RMSE = mean_squared_error(y_train, predictions, squared=False)\n",
    "    time_predict = format_time(time.time() - time_predict)\n",
    "\n",
    "    # Сохраняем результаты кросс-валидации для текущей модели\n",
    "    result = {'Название модели': model_name,\n",
    "              'Лучшие гиперпараметры': str(best_params),\n",
    "              'RMSE': round(RMSE, 2),\n",
    "              'Время подбора гиперпараметров': time_grid,\n",
    "              'Время обучения': time_fit,\n",
    "              'Время предсказания': time_predict}\n",
    "\n",
    "    return result, pipeline, best_params"
   ]
  },
  {
   "cell_type": "markdown",
   "metadata": {},
   "source": [
    "### LinearRegression"
   ]
  },
  {
   "cell_type": "code",
   "execution_count": 72,
   "metadata": {
    "scrolled": false
   },
   "outputs": [
    {
     "name": "stdout",
     "output_type": "stream",
     "text": [
      "Fitting 3 folds for each of 1 candidates, totalling 3 fits\n"
     ]
    },
    {
     "data": {
      "text/plain": [
       "{'Название модели': 'LinearRegression',\n",
       " 'Лучшие гиперпараметры': '{}',\n",
       " 'RMSE': 2519.07,\n",
       " 'Время подбора гиперпараметров': '00:00:06',\n",
       " 'Время обучения': '00:00:02',\n",
       " 'Время предсказания': '00:00:00'}"
      ]
     },
     "metadata": {},
     "output_type": "display_data"
    }
   ],
   "source": [
    "# Создаем объект модели\n",
    "model = LinearRegression()\n",
    "\n",
    "# Определяем параметры сетки для подбора гиперпараметров\n",
    "param_grid = {}\n",
    "\n",
    "# Создаем Pipeline с моделью\n",
    "pipeline = Pipeline(steps=[\n",
    "    ('encoder', TargetEncoder(cols=cat_features)),\n",
    "    ('regressor', model)\n",
    "])\n",
    "\n",
    "# Вызываем функцию test_model\n",
    "lr_result, lr_best_pipeline, lr_best_params = test_model(pipeline, param_grid)\n",
    "\n",
    "# Выводим результаты\n",
    "display(lr_result)\n",
    "\n",
    "# Добавляем результаты в сводную таблицу\n",
    "result_table = result_table.append(lr_result, ignore_index=True)"
   ]
  },
  {
   "cell_type": "markdown",
   "metadata": {},
   "source": [
    "### LGBMRegressor"
   ]
  },
  {
   "cell_type": "code",
   "execution_count": 73,
   "metadata": {},
   "outputs": [
    {
     "name": "stdout",
     "output_type": "stream",
     "text": [
      "Fitting 3 folds for each of 24 candidates, totalling 72 fits\n"
     ]
    },
    {
     "data": {
      "text/plain": [
       "{'Название модели': 'LGBMRegressor',\n",
       " 'Лучшие гиперпараметры': \"{'regressor__learning_rate': 0.2, 'regressor__max_depth': 10, 'regressor__n_estimators': 350}\",\n",
       " 'RMSE': 1357.08,\n",
       " 'Время подбора гиперпараметров': '00:01:30',\n",
       " 'Время обучения': '00:00:03',\n",
       " 'Время предсказания': '00:00:01'}"
      ]
     },
     "metadata": {},
     "output_type": "display_data"
    }
   ],
   "source": [
    "# Создаем объект модели\n",
    "model = LGBMRegressor()\n",
    "\n",
    "# Определяем параметры сетки для подбора гиперпараметров\n",
    "param_grid = {\n",
    "    'regressor__learning_rate': [0.1, 0.2],\n",
    "    'regressor__n_estimators' : range(100, 400, 50),\n",
    "    'regressor__max_depth' : range(10, 16 , 5)\n",
    "}\n",
    "\n",
    "# Создаем Pipeline с моделью\n",
    "pipeline = Pipeline(steps=[\n",
    "    ('preprocessor', preprocessor),\n",
    "    ('regressor', LGBMRegressor(random_state=RANDOM_STATE))\n",
    "])\n",
    "\n",
    "# Вызываем функцию test_model\n",
    "lg_result, lg_best_pipeline, lg_best_params = test_model(pipeline, param_grid)\n",
    "\n",
    "# Выводим результаты\n",
    "display(lg_result)\n",
    "\n",
    "# Добавляем результаты в сводную таблицу\n",
    "result_table = result_table.append(lg_result, ignore_index=True)"
   ]
  },
  {
   "cell_type": "markdown",
   "metadata": {},
   "source": [
    "### CatBoostRegressor"
   ]
  },
  {
   "cell_type": "code",
   "execution_count": 74,
   "metadata": {
    "scrolled": true
   },
   "outputs": [
    {
     "name": "stdout",
     "output_type": "stream",
     "text": [
      "Fitting 3 folds for each of 9 candidates, totalling 27 fits\n",
      "0:\tlearn: 3161.7284453\ttotal: 158ms\tremaining: 47.3s\n",
      "1:\tlearn: 2497.4077072\ttotal: 177ms\tremaining: 26.3s\n",
      "2:\tlearn: 2196.0493630\ttotal: 193ms\tremaining: 19.1s\n",
      "3:\tlearn: 2031.9260421\ttotal: 208ms\tremaining: 15.4s\n",
      "4:\tlearn: 1941.3387004\ttotal: 224ms\tremaining: 13.2s\n",
      "5:\tlearn: 1895.0713560\ttotal: 238ms\tremaining: 11.7s\n",
      "6:\tlearn: 1869.6171204\ttotal: 252ms\tremaining: 10.6s\n",
      "7:\tlearn: 1828.8299070\ttotal: 267ms\tremaining: 9.73s\n",
      "8:\tlearn: 1813.0047564\ttotal: 281ms\tremaining: 9.08s\n",
      "9:\tlearn: 1799.7535396\ttotal: 295ms\tremaining: 8.54s\n",
      "10:\tlearn: 1786.7365867\ttotal: 309ms\tremaining: 8.12s\n",
      "11:\tlearn: 1776.6922848\ttotal: 323ms\tremaining: 7.75s\n",
      "12:\tlearn: 1760.9571064\ttotal: 336ms\tremaining: 7.42s\n",
      "13:\tlearn: 1749.2967278\ttotal: 350ms\tremaining: 7.16s\n",
      "14:\tlearn: 1739.6955914\ttotal: 366ms\tremaining: 6.96s\n",
      "15:\tlearn: 1730.7408539\ttotal: 382ms\tremaining: 6.77s\n",
      "16:\tlearn: 1720.2985546\ttotal: 396ms\tremaining: 6.59s\n",
      "17:\tlearn: 1714.9684196\ttotal: 410ms\tremaining: 6.42s\n",
      "18:\tlearn: 1705.7455991\ttotal: 426ms\tremaining: 6.3s\n",
      "19:\tlearn: 1698.8994578\ttotal: 441ms\tremaining: 6.17s\n",
      "20:\tlearn: 1695.7713480\ttotal: 455ms\tremaining: 6.05s\n",
      "21:\tlearn: 1693.3053433\ttotal: 470ms\tremaining: 5.94s\n",
      "22:\tlearn: 1688.2751240\ttotal: 485ms\tremaining: 5.84s\n",
      "23:\tlearn: 1683.1634705\ttotal: 501ms\tremaining: 5.76s\n",
      "24:\tlearn: 1675.7172015\ttotal: 517ms\tremaining: 5.68s\n",
      "25:\tlearn: 1669.4833902\ttotal: 531ms\tremaining: 5.6s\n",
      "26:\tlearn: 1663.3375439\ttotal: 548ms\tremaining: 5.54s\n",
      "27:\tlearn: 1657.8852625\ttotal: 565ms\tremaining: 5.49s\n",
      "28:\tlearn: 1653.6765223\ttotal: 581ms\tremaining: 5.43s\n",
      "29:\tlearn: 1649.3732435\ttotal: 596ms\tremaining: 5.36s\n",
      "30:\tlearn: 1645.6828666\ttotal: 611ms\tremaining: 5.3s\n",
      "31:\tlearn: 1640.6259228\ttotal: 642ms\tremaining: 5.38s\n",
      "32:\tlearn: 1636.1435158\ttotal: 666ms\tremaining: 5.39s\n",
      "33:\tlearn: 1631.3336626\ttotal: 685ms\tremaining: 5.36s\n",
      "34:\tlearn: 1628.0057934\ttotal: 700ms\tremaining: 5.3s\n",
      "35:\tlearn: 1625.4869474\ttotal: 715ms\tremaining: 5.24s\n",
      "36:\tlearn: 1621.0665865\ttotal: 731ms\tremaining: 5.19s\n",
      "37:\tlearn: 1619.3485257\ttotal: 746ms\tremaining: 5.14s\n",
      "38:\tlearn: 1614.6934409\ttotal: 762ms\tremaining: 5.1s\n",
      "39:\tlearn: 1611.3835960\ttotal: 779ms\tremaining: 5.06s\n",
      "40:\tlearn: 1609.5123800\ttotal: 798ms\tremaining: 5.04s\n",
      "41:\tlearn: 1606.4379836\ttotal: 817ms\tremaining: 5.02s\n",
      "42:\tlearn: 1604.1594660\ttotal: 832ms\tremaining: 4.97s\n",
      "43:\tlearn: 1601.3433871\ttotal: 852ms\tremaining: 4.96s\n",
      "44:\tlearn: 1598.8210162\ttotal: 869ms\tremaining: 4.92s\n",
      "45:\tlearn: 1596.4462012\ttotal: 886ms\tremaining: 4.89s\n",
      "46:\tlearn: 1593.6068313\ttotal: 903ms\tremaining: 4.86s\n",
      "47:\tlearn: 1590.9318568\ttotal: 920ms\tremaining: 4.83s\n",
      "48:\tlearn: 1588.7198104\ttotal: 937ms\tremaining: 4.8s\n",
      "49:\tlearn: 1586.8155731\ttotal: 953ms\tremaining: 4.76s\n",
      "50:\tlearn: 1584.8816684\ttotal: 969ms\tremaining: 4.73s\n",
      "51:\tlearn: 1582.6197666\ttotal: 984ms\tremaining: 4.69s\n",
      "52:\tlearn: 1581.0033873\ttotal: 1s\tremaining: 4.66s\n",
      "53:\tlearn: 1578.5063926\ttotal: 1.02s\tremaining: 4.64s\n",
      "54:\tlearn: 1576.2879246\ttotal: 1.03s\tremaining: 4.61s\n",
      "55:\tlearn: 1575.2716908\ttotal: 1.05s\tremaining: 4.58s\n",
      "56:\tlearn: 1573.1841778\ttotal: 1.07s\tremaining: 4.54s\n",
      "57:\tlearn: 1570.7368808\ttotal: 1.08s\tremaining: 4.52s\n",
      "58:\tlearn: 1569.0468310\ttotal: 1.1s\tremaining: 4.49s\n",
      "59:\tlearn: 1566.8262646\ttotal: 1.12s\tremaining: 4.47s\n",
      "60:\tlearn: 1563.7790925\ttotal: 1.13s\tremaining: 4.44s\n",
      "61:\tlearn: 1561.2443170\ttotal: 1.15s\tremaining: 4.42s\n",
      "62:\tlearn: 1559.0587226\ttotal: 1.17s\tremaining: 4.39s\n",
      "63:\tlearn: 1557.5938702\ttotal: 1.18s\tremaining: 4.35s\n",
      "64:\tlearn: 1555.7582540\ttotal: 1.2s\tremaining: 4.33s\n",
      "65:\tlearn: 1554.6325231\ttotal: 1.22s\tremaining: 4.31s\n",
      "66:\tlearn: 1553.6716659\ttotal: 1.23s\tremaining: 4.29s\n",
      "67:\tlearn: 1552.0893877\ttotal: 1.25s\tremaining: 4.27s\n",
      "68:\tlearn: 1550.2187003\ttotal: 1.27s\tremaining: 4.25s\n",
      "69:\tlearn: 1547.7959080\ttotal: 1.28s\tremaining: 4.22s\n",
      "70:\tlearn: 1546.7041179\ttotal: 1.3s\tremaining: 4.19s\n",
      "71:\tlearn: 1545.4899990\ttotal: 1.31s\tremaining: 4.16s\n",
      "72:\tlearn: 1543.6963734\ttotal: 1.33s\tremaining: 4.14s\n",
      "73:\tlearn: 1541.9826826\ttotal: 1.34s\tremaining: 4.11s\n",
      "74:\tlearn: 1540.6244334\ttotal: 1.36s\tremaining: 4.08s\n",
      "75:\tlearn: 1539.4276517\ttotal: 1.38s\tremaining: 4.05s\n",
      "76:\tlearn: 1537.5607741\ttotal: 1.39s\tremaining: 4.03s\n",
      "77:\tlearn: 1536.6276065\ttotal: 1.4s\tremaining: 4s\n",
      "78:\tlearn: 1534.3097554\ttotal: 1.42s\tremaining: 3.97s\n",
      "79:\tlearn: 1532.8452991\ttotal: 1.44s\tremaining: 3.95s\n",
      "80:\tlearn: 1531.6324488\ttotal: 1.45s\tremaining: 3.92s\n",
      "81:\tlearn: 1530.6611110\ttotal: 1.47s\tremaining: 3.9s\n",
      "82:\tlearn: 1529.1799822\ttotal: 1.48s\tremaining: 3.88s\n",
      "83:\tlearn: 1528.1922241\ttotal: 1.5s\tremaining: 3.85s\n",
      "84:\tlearn: 1526.8200271\ttotal: 1.51s\tremaining: 3.83s\n",
      "85:\tlearn: 1525.8279862\ttotal: 1.53s\tremaining: 3.8s\n",
      "86:\tlearn: 1524.7301464\ttotal: 1.54s\tremaining: 3.77s\n",
      "87:\tlearn: 1523.5608328\ttotal: 1.56s\tremaining: 3.75s\n",
      "88:\tlearn: 1522.5585565\ttotal: 1.57s\tremaining: 3.73s\n",
      "89:\tlearn: 1520.7593245\ttotal: 1.59s\tremaining: 3.7s\n",
      "90:\tlearn: 1519.7294194\ttotal: 1.6s\tremaining: 3.67s\n",
      "91:\tlearn: 1518.2570741\ttotal: 1.61s\tremaining: 3.65s\n",
      "92:\tlearn: 1517.1470644\ttotal: 1.63s\tremaining: 3.63s\n",
      "93:\tlearn: 1516.1576175\ttotal: 1.64s\tremaining: 3.6s\n",
      "94:\tlearn: 1515.1403308\ttotal: 1.66s\tremaining: 3.58s\n",
      "95:\tlearn: 1513.9454825\ttotal: 1.67s\tremaining: 3.55s\n",
      "96:\tlearn: 1512.7699923\ttotal: 1.69s\tremaining: 3.53s\n",
      "97:\tlearn: 1511.8516589\ttotal: 1.7s\tremaining: 3.51s\n",
      "98:\tlearn: 1511.1813972\ttotal: 1.72s\tremaining: 3.49s\n",
      "99:\tlearn: 1510.1057873\ttotal: 1.73s\tremaining: 3.46s\n",
      "100:\tlearn: 1509.5428657\ttotal: 1.75s\tremaining: 3.44s\n",
      "101:\tlearn: 1508.3170213\ttotal: 1.76s\tremaining: 3.42s\n",
      "102:\tlearn: 1507.2764664\ttotal: 1.78s\tremaining: 3.4s\n",
      "103:\tlearn: 1506.4633117\ttotal: 1.79s\tremaining: 3.38s\n",
      "104:\tlearn: 1505.4384662\ttotal: 1.81s\tremaining: 3.37s\n",
      "105:\tlearn: 1504.7552126\ttotal: 1.83s\tremaining: 3.35s\n",
      "106:\tlearn: 1504.0483317\ttotal: 1.84s\tremaining: 3.33s\n",
      "107:\tlearn: 1503.1084413\ttotal: 1.86s\tremaining: 3.31s\n",
      "108:\tlearn: 1502.1046144\ttotal: 1.88s\tremaining: 3.29s\n",
      "109:\tlearn: 1500.4925823\ttotal: 1.89s\tremaining: 3.27s\n",
      "110:\tlearn: 1499.7030857\ttotal: 1.91s\tremaining: 3.25s\n",
      "111:\tlearn: 1498.3620648\ttotal: 1.93s\tremaining: 3.23s\n",
      "112:\tlearn: 1497.4384304\ttotal: 1.94s\tremaining: 3.21s\n",
      "113:\tlearn: 1496.6811626\ttotal: 1.96s\tremaining: 3.19s\n",
      "114:\tlearn: 1495.9591629\ttotal: 1.98s\tremaining: 3.18s\n",
      "115:\tlearn: 1494.9010238\ttotal: 1.99s\tremaining: 3.16s\n",
      "116:\tlearn: 1494.2257487\ttotal: 2.01s\tremaining: 3.15s\n",
      "117:\tlearn: 1493.2960109\ttotal: 2.03s\tremaining: 3.13s\n",
      "118:\tlearn: 1492.6251574\ttotal: 2.04s\tremaining: 3.11s\n",
      "119:\tlearn: 1492.1466877\ttotal: 2.06s\tremaining: 3.09s\n",
      "120:\tlearn: 1491.6650980\ttotal: 2.07s\tremaining: 3.07s\n",
      "121:\tlearn: 1491.2210905\ttotal: 2.09s\tremaining: 3.05s\n",
      "122:\tlearn: 1490.2921745\ttotal: 2.1s\tremaining: 3.03s\n",
      "123:\tlearn: 1489.5030569\ttotal: 2.12s\tremaining: 3.01s\n",
      "124:\tlearn: 1488.6165744\ttotal: 2.13s\tremaining: 2.99s\n",
      "125:\tlearn: 1487.1443886\ttotal: 2.15s\tremaining: 2.97s\n",
      "126:\tlearn: 1486.6477678\ttotal: 2.17s\tremaining: 2.95s\n",
      "127:\tlearn: 1485.7518995\ttotal: 2.18s\tremaining: 2.93s\n",
      "128:\tlearn: 1485.1566538\ttotal: 2.2s\tremaining: 2.91s\n",
      "129:\tlearn: 1484.5460129\ttotal: 2.21s\tremaining: 2.89s\n",
      "130:\tlearn: 1483.4149558\ttotal: 2.23s\tremaining: 2.88s\n",
      "131:\tlearn: 1482.6802548\ttotal: 2.25s\tremaining: 2.86s\n",
      "132:\tlearn: 1481.7589369\ttotal: 2.27s\tremaining: 2.85s\n",
      "133:\tlearn: 1481.3477524\ttotal: 2.28s\tremaining: 2.83s\n",
      "134:\tlearn: 1480.3623423\ttotal: 2.3s\tremaining: 2.81s\n",
      "135:\tlearn: 1479.6386592\ttotal: 2.32s\tremaining: 2.8s\n",
      "136:\tlearn: 1479.1029072\ttotal: 2.34s\tremaining: 2.78s\n",
      "137:\tlearn: 1478.7350014\ttotal: 2.36s\tremaining: 2.77s\n",
      "138:\tlearn: 1478.2960499\ttotal: 2.37s\tremaining: 2.75s\n",
      "139:\tlearn: 1477.9058931\ttotal: 2.39s\tremaining: 2.73s\n",
      "140:\tlearn: 1477.1015076\ttotal: 2.41s\tremaining: 2.72s\n",
      "141:\tlearn: 1476.4570915\ttotal: 2.42s\tremaining: 2.7s\n",
      "142:\tlearn: 1475.9025392\ttotal: 2.44s\tremaining: 2.68s\n",
      "143:\tlearn: 1475.4063669\ttotal: 2.45s\tremaining: 2.66s\n",
      "144:\tlearn: 1474.7960011\ttotal: 2.47s\tremaining: 2.64s\n",
      "145:\tlearn: 1473.6759453\ttotal: 2.48s\tremaining: 2.62s\n",
      "146:\tlearn: 1473.2826137\ttotal: 2.5s\tremaining: 2.6s\n",
      "147:\tlearn: 1472.3518149\ttotal: 2.51s\tremaining: 2.58s\n",
      "148:\tlearn: 1471.7179106\ttotal: 2.53s\tremaining: 2.56s\n",
      "149:\tlearn: 1470.9233416\ttotal: 2.54s\tremaining: 2.54s\n",
      "150:\tlearn: 1470.3195802\ttotal: 2.56s\tremaining: 2.52s\n",
      "151:\tlearn: 1469.5135968\ttotal: 2.57s\tremaining: 2.5s\n",
      "152:\tlearn: 1468.7870090\ttotal: 2.59s\tremaining: 2.49s\n",
      "153:\tlearn: 1468.3754627\ttotal: 2.6s\tremaining: 2.47s\n",
      "154:\tlearn: 1467.7691693\ttotal: 2.62s\tremaining: 2.45s\n",
      "155:\tlearn: 1467.1646576\ttotal: 2.63s\tremaining: 2.43s\n",
      "156:\tlearn: 1466.7333617\ttotal: 2.65s\tremaining: 2.41s\n",
      "157:\tlearn: 1465.8051850\ttotal: 2.66s\tremaining: 2.39s\n",
      "158:\tlearn: 1464.9954095\ttotal: 2.68s\tremaining: 2.37s\n",
      "159:\tlearn: 1464.5343574\ttotal: 2.69s\tremaining: 2.35s\n",
      "160:\tlearn: 1463.3110042\ttotal: 2.71s\tremaining: 2.34s\n",
      "161:\tlearn: 1462.8767187\ttotal: 2.72s\tremaining: 2.32s\n",
      "162:\tlearn: 1462.5801827\ttotal: 2.74s\tremaining: 2.3s\n",
      "163:\tlearn: 1462.2355001\ttotal: 2.75s\tremaining: 2.28s\n",
      "164:\tlearn: 1461.1469562\ttotal: 2.77s\tremaining: 2.26s\n",
      "165:\tlearn: 1460.4708125\ttotal: 2.78s\tremaining: 2.25s\n",
      "166:\tlearn: 1459.9491917\ttotal: 2.8s\tremaining: 2.23s\n",
      "167:\tlearn: 1459.4175140\ttotal: 2.81s\tremaining: 2.21s\n",
      "168:\tlearn: 1458.8101588\ttotal: 2.83s\tremaining: 2.19s\n",
      "169:\tlearn: 1458.3013058\ttotal: 2.85s\tremaining: 2.18s\n",
      "170:\tlearn: 1457.8899373\ttotal: 2.86s\tremaining: 2.16s\n",
      "171:\tlearn: 1457.5504682\ttotal: 2.88s\tremaining: 2.14s\n",
      "172:\tlearn: 1457.0863441\ttotal: 2.89s\tremaining: 2.12s\n",
      "173:\tlearn: 1456.3489336\ttotal: 2.91s\tremaining: 2.1s\n",
      "174:\tlearn: 1455.6820245\ttotal: 2.92s\tremaining: 2.09s\n",
      "175:\tlearn: 1455.4170523\ttotal: 2.94s\tremaining: 2.07s\n",
      "176:\tlearn: 1454.8371178\ttotal: 2.95s\tremaining: 2.05s\n",
      "177:\tlearn: 1454.4907465\ttotal: 2.96s\tremaining: 2.03s\n",
      "178:\tlearn: 1453.9902493\ttotal: 2.98s\tremaining: 2.02s\n",
      "179:\tlearn: 1453.4677499\ttotal: 3s\tremaining: 2s\n",
      "180:\tlearn: 1453.1525007\ttotal: 3.02s\tremaining: 1.98s\n",
      "181:\tlearn: 1452.7429374\ttotal: 3.03s\tremaining: 1.97s\n",
      "182:\tlearn: 1452.4416316\ttotal: 3.05s\tremaining: 1.95s\n",
      "183:\tlearn: 1451.7263203\ttotal: 3.07s\tremaining: 1.93s\n",
      "184:\tlearn: 1451.1752799\ttotal: 3.09s\tremaining: 1.92s\n",
      "185:\tlearn: 1450.7071203\ttotal: 3.12s\tremaining: 1.91s\n",
      "186:\tlearn: 1450.1731591\ttotal: 3.15s\tremaining: 1.91s\n",
      "187:\tlearn: 1449.5108905\ttotal: 3.19s\tremaining: 1.9s\n",
      "188:\tlearn: 1449.0962482\ttotal: 3.23s\tremaining: 1.89s\n",
      "189:\tlearn: 1448.2691722\ttotal: 3.28s\tremaining: 1.9s\n",
      "190:\tlearn: 1447.6826965\ttotal: 3.31s\tremaining: 1.89s\n",
      "191:\tlearn: 1447.3140037\ttotal: 3.33s\tremaining: 1.87s\n",
      "192:\tlearn: 1446.6617029\ttotal: 3.35s\tremaining: 1.86s\n",
      "193:\tlearn: 1446.2885142\ttotal: 3.38s\tremaining: 1.85s\n",
      "194:\tlearn: 1445.6430332\ttotal: 3.4s\tremaining: 1.83s\n",
      "195:\tlearn: 1445.2652615\ttotal: 3.43s\tremaining: 1.82s\n",
      "196:\tlearn: 1444.8672040\ttotal: 3.44s\tremaining: 1.8s\n",
      "197:\tlearn: 1444.3083759\ttotal: 3.46s\tremaining: 1.78s\n",
      "198:\tlearn: 1443.7433421\ttotal: 3.48s\tremaining: 1.76s\n",
      "199:\tlearn: 1443.3189866\ttotal: 3.51s\tremaining: 1.75s\n",
      "200:\tlearn: 1442.6242845\ttotal: 3.53s\tremaining: 1.74s\n",
      "201:\tlearn: 1442.1156706\ttotal: 3.55s\tremaining: 1.72s\n",
      "202:\tlearn: 1441.7167641\ttotal: 3.56s\tremaining: 1.7s\n",
      "203:\tlearn: 1441.2577756\ttotal: 3.58s\tremaining: 1.69s\n",
      "204:\tlearn: 1440.8259471\ttotal: 3.6s\tremaining: 1.67s\n",
      "205:\tlearn: 1440.1314263\ttotal: 3.62s\tremaining: 1.65s\n",
      "206:\tlearn: 1439.8351237\ttotal: 3.63s\tremaining: 1.63s\n",
      "207:\tlearn: 1439.3514800\ttotal: 3.65s\tremaining: 1.61s\n",
      "208:\tlearn: 1438.8787277\ttotal: 3.66s\tremaining: 1.59s\n",
      "209:\tlearn: 1438.4233702\ttotal: 3.68s\tremaining: 1.58s\n",
      "210:\tlearn: 1437.8764693\ttotal: 3.7s\tremaining: 1.56s\n",
      "211:\tlearn: 1437.4866287\ttotal: 3.71s\tremaining: 1.54s\n",
      "212:\tlearn: 1436.8714042\ttotal: 3.73s\tremaining: 1.52s\n",
      "213:\tlearn: 1436.4968484\ttotal: 3.75s\tremaining: 1.5s\n",
      "214:\tlearn: 1435.9292821\ttotal: 3.76s\tremaining: 1.49s\n",
      "215:\tlearn: 1435.6616329\ttotal: 3.78s\tremaining: 1.47s\n",
      "216:\tlearn: 1435.4904319\ttotal: 3.79s\tremaining: 1.45s\n",
      "217:\tlearn: 1435.0024860\ttotal: 3.81s\tremaining: 1.43s\n",
      "218:\tlearn: 1434.6244394\ttotal: 3.83s\tremaining: 1.42s\n",
      "219:\tlearn: 1434.0048729\ttotal: 3.84s\tremaining: 1.4s\n",
      "220:\tlearn: 1433.5755333\ttotal: 3.86s\tremaining: 1.38s\n",
      "221:\tlearn: 1433.2076407\ttotal: 3.88s\tremaining: 1.36s\n",
      "222:\tlearn: 1432.8723781\ttotal: 3.89s\tremaining: 1.34s\n",
      "223:\tlearn: 1432.4968309\ttotal: 3.91s\tremaining: 1.32s\n",
      "224:\tlearn: 1431.7480652\ttotal: 3.92s\tremaining: 1.31s\n",
      "225:\tlearn: 1431.2314208\ttotal: 3.94s\tremaining: 1.29s\n",
      "226:\tlearn: 1430.6086584\ttotal: 3.95s\tremaining: 1.27s\n",
      "227:\tlearn: 1430.3703917\ttotal: 3.97s\tremaining: 1.25s\n",
      "228:\tlearn: 1429.9472153\ttotal: 3.98s\tremaining: 1.24s\n",
      "229:\tlearn: 1429.2931986\ttotal: 4s\tremaining: 1.22s\n",
      "230:\tlearn: 1428.9938668\ttotal: 4.01s\tremaining: 1.2s\n",
      "231:\tlearn: 1428.4907119\ttotal: 4.03s\tremaining: 1.18s\n",
      "232:\tlearn: 1427.9570074\ttotal: 4.04s\tremaining: 1.16s\n",
      "233:\tlearn: 1427.5510836\ttotal: 4.06s\tremaining: 1.15s\n",
      "234:\tlearn: 1427.2078292\ttotal: 4.08s\tremaining: 1.13s\n",
      "235:\tlearn: 1426.8438991\ttotal: 4.1s\tremaining: 1.11s\n",
      "236:\tlearn: 1426.5623330\ttotal: 4.11s\tremaining: 1.09s\n",
      "237:\tlearn: 1426.2819076\ttotal: 4.13s\tremaining: 1.08s\n",
      "238:\tlearn: 1426.1081830\ttotal: 4.15s\tremaining: 1.06s\n",
      "239:\tlearn: 1425.4349035\ttotal: 4.16s\tremaining: 1.04s\n",
      "240:\tlearn: 1424.6272783\ttotal: 4.18s\tremaining: 1.02s\n",
      "241:\tlearn: 1424.2294402\ttotal: 4.2s\tremaining: 1.01s\n",
      "242:\tlearn: 1423.5372692\ttotal: 4.21s\tremaining: 989ms\n",
      "243:\tlearn: 1423.1377639\ttotal: 4.23s\tremaining: 971ms\n",
      "244:\tlearn: 1422.3089765\ttotal: 4.25s\tremaining: 953ms\n",
      "245:\tlearn: 1421.6376835\ttotal: 4.26s\tremaining: 936ms\n",
      "246:\tlearn: 1421.2449265\ttotal: 4.28s\tremaining: 918ms\n",
      "247:\tlearn: 1420.8946794\ttotal: 4.29s\tremaining: 900ms\n",
      "248:\tlearn: 1420.6514644\ttotal: 4.31s\tremaining: 882ms\n",
      "249:\tlearn: 1420.2707918\ttotal: 4.32s\tremaining: 864ms\n",
      "250:\tlearn: 1419.8456538\ttotal: 4.34s\tremaining: 847ms\n",
      "251:\tlearn: 1419.6483536\ttotal: 4.35s\tremaining: 829ms\n",
      "252:\tlearn: 1419.4155595\ttotal: 4.37s\tremaining: 811ms\n",
      "253:\tlearn: 1418.8033322\ttotal: 4.38s\tremaining: 794ms\n",
      "254:\tlearn: 1417.8834022\ttotal: 4.4s\tremaining: 777ms\n",
      "255:\tlearn: 1417.6662990\ttotal: 4.42s\tremaining: 759ms\n",
      "256:\tlearn: 1417.4490238\ttotal: 4.44s\tremaining: 742ms\n",
      "257:\tlearn: 1416.8198589\ttotal: 4.46s\tremaining: 726ms\n",
      "258:\tlearn: 1416.3706712\ttotal: 4.48s\tremaining: 709ms\n",
      "259:\tlearn: 1416.0141200\ttotal: 4.5s\tremaining: 692ms\n",
      "260:\tlearn: 1415.7269972\ttotal: 4.51s\tremaining: 674ms\n",
      "261:\tlearn: 1415.2898243\ttotal: 4.53s\tremaining: 657ms\n",
      "262:\tlearn: 1414.8325142\ttotal: 4.55s\tremaining: 640ms\n",
      "263:\tlearn: 1414.5669463\ttotal: 4.57s\tremaining: 623ms\n",
      "264:\tlearn: 1414.2168735\ttotal: 4.58s\tremaining: 605ms\n",
      "265:\tlearn: 1413.8673454\ttotal: 4.6s\tremaining: 588ms\n",
      "266:\tlearn: 1413.6534064\ttotal: 4.62s\tremaining: 571ms\n",
      "267:\tlearn: 1413.2158227\ttotal: 4.63s\tremaining: 553ms\n",
      "268:\tlearn: 1412.6576335\ttotal: 4.65s\tremaining: 536ms\n",
      "269:\tlearn: 1411.9785977\ttotal: 4.67s\tremaining: 518ms\n",
      "270:\tlearn: 1411.1699309\ttotal: 4.68s\tremaining: 501ms\n",
      "271:\tlearn: 1410.9203068\ttotal: 4.7s\tremaining: 484ms\n",
      "272:\tlearn: 1410.6467375\ttotal: 4.71s\tremaining: 466ms\n",
      "273:\tlearn: 1410.0868062\ttotal: 4.73s\tremaining: 449ms\n",
      "274:\tlearn: 1409.8147418\ttotal: 4.74s\tremaining: 431ms\n",
      "275:\tlearn: 1409.5936176\ttotal: 4.76s\tremaining: 414ms\n",
      "276:\tlearn: 1409.4309659\ttotal: 4.77s\tremaining: 396ms\n",
      "277:\tlearn: 1409.2118935\ttotal: 4.79s\tremaining: 379ms\n",
      "278:\tlearn: 1409.0159929\ttotal: 4.81s\tremaining: 362ms\n",
      "279:\tlearn: 1408.6831295\ttotal: 4.83s\tremaining: 345ms\n",
      "280:\tlearn: 1408.3488148\ttotal: 4.84s\tremaining: 327ms\n",
      "281:\tlearn: 1408.1225946\ttotal: 4.86s\tremaining: 310ms\n",
      "282:\tlearn: 1407.3765969\ttotal: 4.87s\tremaining: 293ms\n",
      "283:\tlearn: 1406.9367230\ttotal: 4.89s\tremaining: 275ms\n",
      "284:\tlearn: 1406.5704473\ttotal: 4.91s\tremaining: 258ms\n",
      "285:\tlearn: 1406.3682355\ttotal: 4.92s\tremaining: 241ms\n",
      "286:\tlearn: 1406.0154208\ttotal: 4.94s\tremaining: 224ms\n",
      "287:\tlearn: 1405.3877679\ttotal: 4.95s\tremaining: 206ms\n",
      "288:\tlearn: 1404.9431808\ttotal: 4.97s\tremaining: 189ms\n",
      "289:\tlearn: 1404.4998072\ttotal: 4.99s\tremaining: 172ms\n",
      "290:\tlearn: 1404.2175010\ttotal: 5s\tremaining: 155ms\n",
      "291:\tlearn: 1403.8765407\ttotal: 5.02s\tremaining: 137ms\n",
      "292:\tlearn: 1403.3138387\ttotal: 5.03s\tremaining: 120ms\n",
      "293:\tlearn: 1402.9566275\ttotal: 5.05s\tremaining: 103ms\n",
      "294:\tlearn: 1402.6364645\ttotal: 5.06s\tremaining: 85.8ms\n",
      "295:\tlearn: 1402.4187812\ttotal: 5.07s\tremaining: 68.6ms\n",
      "296:\tlearn: 1402.1643658\ttotal: 5.09s\tremaining: 51.4ms\n",
      "297:\tlearn: 1401.9410768\ttotal: 5.1s\tremaining: 34.3ms\n",
      "298:\tlearn: 1401.6901330\ttotal: 5.12s\tremaining: 17.1ms\n",
      "299:\tlearn: 1401.4020192\ttotal: 5.13s\tremaining: 0us\n"
     ]
    },
    {
     "data": {
      "text/plain": [
       "{'Название модели': 'CatBoostRegressor',\n",
       " 'Лучшие гиперпараметры': \"{'regressor__learning_rate': 0.5, 'regressor__n_estimators': 300}\",\n",
       " 'RMSE': 1401.4,\n",
       " 'Время подбора гиперпараметров': '00:01:09',\n",
       " 'Время обучения': '00:00:07',\n",
       " 'Время предсказания': '00:00:00'}"
      ]
     },
     "metadata": {},
     "output_type": "display_data"
    }
   ],
   "source": [
    "# Создаем объект модели\n",
    "model = CatBoostRegressor()\n",
    "\n",
    "# Определяем параметры сетки для подбора гиперпараметров\n",
    "param_grid = {'regressor__learning_rate': [0.01, 0.1, 0.5], 'regressor__n_estimators': range(100, 301, 100)}\n",
    "\n",
    "# Создаем Pipeline с моделью\n",
    "pipeline = Pipeline(steps=[\n",
    "    ('preprocessor', preprocessor),\n",
    "    ('regressor', CatBoostRegressor(random_state=RANDOM_STATE))\n",
    "])\n",
    "\n",
    "# Вызываем функцию test_model\n",
    "cb_result, cb_best_pipeline, cb_best_params = test_model(pipeline, param_grid)\n",
    "\n",
    "# Выводим результаты\n",
    "display(cb_result)\n",
    "\n",
    "# Добавляем результаты в сводную таблицу\n",
    "result_table = result_table.append(cb_result, ignore_index=True)"
   ]
  },
  {
   "cell_type": "markdown",
   "metadata": {},
   "source": [
    "### Ridge"
   ]
  },
  {
   "cell_type": "code",
   "execution_count": 75,
   "metadata": {
    "scrolled": false
   },
   "outputs": [
    {
     "name": "stdout",
     "output_type": "stream",
     "text": [
      "Fitting 3 folds for each of 3 candidates, totalling 9 fits\n"
     ]
    },
    {
     "data": {
      "text/plain": [
       "{'Название модели': 'Ridge',\n",
       " 'Лучшие гиперпараметры': \"{'regressor__alpha': 0.1}\",\n",
       " 'RMSE': 2519.07,\n",
       " 'Время подбора гиперпараметров': '00:00:05',\n",
       " 'Время обучения': '00:00:02',\n",
       " 'Время предсказания': '00:00:00'}"
      ]
     },
     "metadata": {},
     "output_type": "display_data"
    }
   ],
   "source": [
    "# Создаем объект модели\n",
    "model = Ridge()\n",
    "\n",
    "# Определяем параметры сетки для подбора гиперпараметров\n",
    "param_grid = {'regressor__alpha': [.1, 1, 10]}\n",
    "\n",
    "# Создаем Pipeline с моделью\n",
    "pipeline = Pipeline(steps=[\n",
    "    ('encoder', TargetEncoder(cols=cat_features)),\n",
    "    ('regressor', Ridge(random_state=RANDOM_STATE))\n",
    "])\n",
    "\n",
    "# Вызываем функцию test_model\n",
    "rg_result, rg_best_pipeline, rg_best_params = test_model(pipeline, param_grid)\n",
    "\n",
    "# Выводим результаты\n",
    "display(rg_result)\n",
    "\n",
    "# Добавляем результаты в сводную таблицу\n",
    "result_table = result_table.append(rg_result, ignore_index=True)"
   ]
  },
  {
   "cell_type": "markdown",
   "metadata": {},
   "source": [
    "### GradientBoostingRegressor"
   ]
  },
  {
   "cell_type": "code",
   "execution_count": 76,
   "metadata": {},
   "outputs": [
    {
     "name": "stdout",
     "output_type": "stream",
     "text": [
      "Fitting 3 folds for each of 15 candidates, totalling 45 fits\n"
     ]
    },
    {
     "data": {
      "text/plain": [
       "{'Название модели': 'GradientBoostingRegressor',\n",
       " 'Лучшие гиперпараметры': \"{'regressor__learning_rate': 1, 'regressor__n_estimators': 300}\",\n",
       " 'RMSE': 1505.27,\n",
       " 'Время подбора гиперпараметров': '00:06:03',\n",
       " 'Время обучения': '00:00:58',\n",
       " 'Время предсказания': '00:00:01'}"
      ]
     },
     "metadata": {},
     "output_type": "display_data"
    }
   ],
   "source": [
    "# Создаем объект модели\n",
    "model = GradientBoostingRegressor()\n",
    "\n",
    "# Определяем параметры сетки для подбора гиперпараметров\n",
    "param_grid = {\n",
    "    'regressor__n_estimators': [50, 100, 200, 250, 300],\n",
    "    'regressor__learning_rate': [.01, .1, 1] \n",
    "}\n",
    "\n",
    "# Создаем Pipeline с моделью\n",
    "pipeline = Pipeline(steps=[\n",
    "    ('preprocessor', preprocessor),\n",
    "    ('regressor', GradientBoostingRegressor(random_state=RANDOM_STATE))\n",
    "])\n",
    "\n",
    "# Вызываем функцию test_model\n",
    "gb_result, gb_best_pipeline, gb_best_params = test_model(pipeline, param_grid)\n",
    "\n",
    "# Выводим результаты\n",
    "display(gb_result)\n",
    "\n",
    "# Добавляем результаты в сводную таблицу\n",
    "result_table = result_table.append(gb_result, ignore_index=True)"
   ]
  },
  {
   "cell_type": "markdown",
   "metadata": {},
   "source": [
    "### Предварительный вывод"
   ]
  },
  {
   "cell_type": "markdown",
   "metadata": {},
   "source": [
    "На этом этапе мы обучили и протестировали следующие модели:\n",
    "\n",
    "- LinearRegression\n",
    "- LGBMRegressor\n",
    "- CatBoostRegressor\n",
    "- Ridge\n",
    "- GradientBoostingRegressor\n",
    "\n",
    "Подобрали гиперпараметры при помощи GridSearchCV\n",
    "\n",
    "По результатам тестирования моделей мы можем утверждать:\n",
    "- На первом месте по RMSE (1357.08) LGBMRegressor, показавший неплохое время на подбор гиперпараметров и обучение\n",
    "- На втором месте по RMSE (1401.40)  CatBoostRegressor, также показавший неплохое время\n",
    "- Остальные модели не отвечают нашим критериям"
   ]
  },
  {
   "cell_type": "markdown",
   "metadata": {},
   "source": [
    "## Анализ моделей"
   ]
  },
  {
   "cell_type": "markdown",
   "metadata": {},
   "source": [
    "### Создадим бэггинг из лучших моделей\n",
    "\n",
    " Бэггинг (англ. Bagging, от bootstrap aggregating) — это метод ансамблевого обучения, который использует комбинацию нескольких моделей для улучшения предсказательной способности. Основная идея бэггинга заключается в создании нескольких подвыборок из обучающего набора данных, затем каждая подвыборка используется для обучения отдельной модели.\n",
    "\n",
    "В процессе бэггинга каждая модель обучается независимо от остальных моделей, что делает его параллельным методом обучения. Когда необходимо сделать предсказание, каждая из обученных моделей выдает свой прогноз, а итоговый прогноз получается путем усреднения или голосования по прогнозам всех моделей.\n",
    "\n",
    "Основное преимущество бэггинга заключается в снижении дисперсии модели, что может приводить к улучшению качества предсказаний и более стабильным результатам. Бэггинг также помогает снизить проблему переобучения, поскольку каждая модель обучается на разных подмножествах данных."
   ]
  },
  {
   "cell_type": "code",
   "execution_count": 77,
   "metadata": {},
   "outputs": [
    {
     "name": "stdout",
     "output_type": "stream",
     "text": [
      "Fitting 3 folds for each of 6 candidates, totalling 18 fits\n"
     ]
    },
    {
     "data": {
      "text/plain": [
       "{'Название модели': 'BaggingRegressor',\n",
       " 'Лучшие гиперпараметры': \"{'regressor__base_estimator': LGBMRegressor(learning_rate=0.2, max_depth=15, n_estimators=350,\\n              random_state=42), 'regressor__n_estimators': 7}\",\n",
       " 'RMSE': 1350.84,\n",
       " 'Время подбора гиперпараметров': '00:03:23',\n",
       " 'Время обучения': '00:00:13',\n",
       " 'Время предсказания': '00:00:06'}"
      ]
     },
     "metadata": {},
     "output_type": "display_data"
    }
   ],
   "source": [
    "# Создаем базовые модели\n",
    "catboost = CatBoostRegressor(learning_rate=0.5, n_estimators=300, random_state=RANDOM_STATE)\n",
    "lgbm = LGBMRegressor(learning_rate=0.2, max_depth=15, n_estimators=350, random_state=RANDOM_STATE)\n",
    "\n",
    "# Создаем бэггинг-модель, используя базовые модели\n",
    "bagging = BaggingRegressor(base_estimator=lgbm, n_estimators=6)\n",
    "\n",
    "# Создаем Pipeline с препроцессором и бэггинг-моделью\n",
    "pipeline = Pipeline([\n",
    "    ('preprocessor', preprocessor),\n",
    "    ('regressor', bagging)\n",
    "])\n",
    "\n",
    "# Определяем параметры сетки для подбора гиперпараметров\n",
    "param_grid = {\n",
    "    'regressor__base_estimator': [lgbm, catboost],\n",
    "    'regressor__n_estimators': [5, 6, 7]\n",
    "}\n",
    "\n",
    "# Вызываем функцию test_model\n",
    "bag_result, bag_best_pipeline, bag_best_params = test_model(pipeline, param_grid)\n",
    "\n",
    "# Выводим результаты\n",
    "display(bag_result)\n",
    "\n",
    "# Добавляем результаты в сводную таблицу\n",
    "result_table = result_table.append(bag_result, ignore_index=True)"
   ]
  },
  {
   "cell_type": "markdown",
   "metadata": {},
   "source": [
    "Посмотрим на сводную таблицу результатов:"
   ]
  },
  {
   "cell_type": "code",
   "execution_count": 78,
   "metadata": {},
   "outputs": [
    {
     "data": {
      "text/html": [
       "<div>\n",
       "<style scoped>\n",
       "    .dataframe tbody tr th:only-of-type {\n",
       "        vertical-align: middle;\n",
       "    }\n",
       "\n",
       "    .dataframe tbody tr th {\n",
       "        vertical-align: top;\n",
       "    }\n",
       "\n",
       "    .dataframe thead th {\n",
       "        text-align: right;\n",
       "    }\n",
       "</style>\n",
       "<table border=\"1\" class=\"dataframe\">\n",
       "  <thead>\n",
       "    <tr style=\"text-align: right;\">\n",
       "      <th></th>\n",
       "      <th>Название модели</th>\n",
       "      <th>Лучшие гиперпараметры</th>\n",
       "      <th>RMSE</th>\n",
       "      <th>Время подбора гиперпараметров</th>\n",
       "      <th>Время обучения</th>\n",
       "      <th>Время предсказания</th>\n",
       "    </tr>\n",
       "  </thead>\n",
       "  <tbody>\n",
       "    <tr>\n",
       "      <th>0</th>\n",
       "      <td>LinearRegression</td>\n",
       "      <td>{}</td>\n",
       "      <td>2519.07</td>\n",
       "      <td>00:00:06</td>\n",
       "      <td>00:00:02</td>\n",
       "      <td>00:00:00</td>\n",
       "    </tr>\n",
       "    <tr>\n",
       "      <th>1</th>\n",
       "      <td>LGBMRegressor</td>\n",
       "      <td>{'regressor__learning_rate': 0.2, 'regressor__max_depth': 10, 'regressor__n_estimators': 350}</td>\n",
       "      <td>1357.08</td>\n",
       "      <td>00:01:30</td>\n",
       "      <td>00:00:03</td>\n",
       "      <td>00:00:01</td>\n",
       "    </tr>\n",
       "    <tr>\n",
       "      <th>2</th>\n",
       "      <td>CatBoostRegressor</td>\n",
       "      <td>{'regressor__learning_rate': 0.5, 'regressor__n_estimators': 300}</td>\n",
       "      <td>1401.40</td>\n",
       "      <td>00:01:09</td>\n",
       "      <td>00:00:07</td>\n",
       "      <td>00:00:00</td>\n",
       "    </tr>\n",
       "    <tr>\n",
       "      <th>3</th>\n",
       "      <td>Ridge</td>\n",
       "      <td>{'regressor__alpha': 0.1}</td>\n",
       "      <td>2519.07</td>\n",
       "      <td>00:00:05</td>\n",
       "      <td>00:00:02</td>\n",
       "      <td>00:00:00</td>\n",
       "    </tr>\n",
       "    <tr>\n",
       "      <th>4</th>\n",
       "      <td>GradientBoostingRegressor</td>\n",
       "      <td>{'regressor__learning_rate': 1, 'regressor__n_estimators': 300}</td>\n",
       "      <td>1505.27</td>\n",
       "      <td>00:06:03</td>\n",
       "      <td>00:00:58</td>\n",
       "      <td>00:00:01</td>\n",
       "    </tr>\n",
       "    <tr>\n",
       "      <th>5</th>\n",
       "      <td>BaggingRegressor</td>\n",
       "      <td>{'regressor__base_estimator': LGBMRegressor(learning_rate=0.2, max_depth=15, n_estimators=350,\\n              random_state=42), 'regressor__n_estimators': 7}</td>\n",
       "      <td>1350.84</td>\n",
       "      <td>00:03:23</td>\n",
       "      <td>00:00:13</td>\n",
       "      <td>00:00:06</td>\n",
       "    </tr>\n",
       "  </tbody>\n",
       "</table>\n",
       "</div>"
      ],
      "text/plain": [
       "             Название модели  \\\n",
       "0           LinearRegression   \n",
       "1              LGBMRegressor   \n",
       "2          CatBoostRegressor   \n",
       "3                      Ridge   \n",
       "4  GradientBoostingRegressor   \n",
       "5           BaggingRegressor   \n",
       "\n",
       "                                                                                                                                           Лучшие гиперпараметры  \\\n",
       "0                                                                                                                                                             {}   \n",
       "1                                                                  {'regressor__learning_rate': 0.2, 'regressor__max_depth': 10, 'regressor__n_estimators': 350}   \n",
       "2                                                                                              {'regressor__learning_rate': 0.5, 'regressor__n_estimators': 300}   \n",
       "3                                                                                                                                      {'regressor__alpha': 0.1}   \n",
       "4                                                                                                {'regressor__learning_rate': 1, 'regressor__n_estimators': 300}   \n",
       "5  {'regressor__base_estimator': LGBMRegressor(learning_rate=0.2, max_depth=15, n_estimators=350,\\n              random_state=42), 'regressor__n_estimators': 7}   \n",
       "\n",
       "      RMSE Время подбора гиперпараметров Время обучения Время предсказания  \n",
       "0  2519.07                      00:00:06       00:00:02           00:00:00  \n",
       "1  1357.08                      00:01:30       00:00:03           00:00:01  \n",
       "2  1401.40                      00:01:09       00:00:07           00:00:00  \n",
       "3  2519.07                      00:00:05       00:00:02           00:00:00  \n",
       "4  1505.27                      00:06:03       00:00:58           00:00:01  \n",
       "5  1350.84                      00:03:23       00:00:13           00:00:06  "
      ]
     },
     "execution_count": 78,
     "metadata": {},
     "output_type": "execute_result"
    }
   ],
   "source": [
    "result_table"
   ]
  },
  {
   "cell_type": "markdown",
   "metadata": {},
   "source": [
    "BaggingRegressor показал незначительно лучше результат чем лидер тестирования на тренировочной выборке LGBMRegressor, но затратил практически в 3 раза больше времени."
   ]
  },
  {
   "cell_type": "markdown",
   "metadata": {},
   "source": [
    "### Протестируем нашу лучшую модель на тестовой выборке и сравним с константным предсказанием"
   ]
  },
  {
   "cell_type": "markdown",
   "metadata": {},
   "source": [
    "Создадим сводную таблицу для финальных результатов"
   ]
  },
  {
   "cell_type": "code",
   "execution_count": 79,
   "metadata": {},
   "outputs": [],
   "source": [
    "test_result_table = result_table = pd.DataFrame(columns=['Название модели', 'RMSE', 'Время предсказания'])"
   ]
  },
  {
   "cell_type": "markdown",
   "metadata": {},
   "source": [
    "### Создадим константное предсказание"
   ]
  },
  {
   "cell_type": "code",
   "execution_count": 80,
   "metadata": {},
   "outputs": [
    {
     "data": {
      "text/plain": [
       "{'Название модели': 'DummyRegressor',\n",
       " 'RMSE': 4657.45,\n",
       " 'Время предсказания': '00:00:00'}"
      ]
     },
     "execution_count": 80,
     "metadata": {},
     "output_type": "execute_result"
    }
   ],
   "source": [
    "dummy = Pipeline(steps=[\n",
    "    ('preprocessor', preprocessor),\n",
    "    ('regressor', DummyRegressor(strategy=\"mean\"))\n",
    "])\n",
    "\n",
    "dummy.fit(X_train, y_train)\n",
    "\n",
    "# Предсказываем\n",
    "time_predict = time.time()\n",
    "predict_dummy = dummy.predict(X_test)\n",
    "time_predict = format_time(time.time() - time_predict)\n",
    "RMSE = mean_squared_error(y_test, predict_dummy, squared=False)\n",
    "\n",
    "dummy_result = {'Название модели': dummy.named_steps['regressor'].__class__.__name__,\n",
    "              'RMSE': round(RMSE, 2),\n",
    "              'Время предсказания': time_predict}\n",
    "\n",
    "# Добавляем результаты в сводную таблицу\n",
    "test_result_table = test_result_table.append(dummy_result, ignore_index=True)\n",
    "\n",
    "# Выводим результаты\n",
    "dummy_result"
   ]
  },
  {
   "cell_type": "markdown",
   "metadata": {},
   "source": [
    "### LGBMRegressor на тестовой выборке"
   ]
  },
  {
   "cell_type": "code",
   "execution_count": 81,
   "metadata": {},
   "outputs": [
    {
     "data": {
      "text/plain": [
       "{'Название модели': 'LGBMRegressor',\n",
       " 'RMSE': 1499.78,\n",
       " 'Время предсказания': '00:00:00'}"
      ]
     },
     "execution_count": 81,
     "metadata": {},
     "output_type": "execute_result"
    }
   ],
   "source": [
    "# Предсказываем\n",
    "time_predict = time.time()\n",
    "lg_test=lg_best_pipeline.predict(X_test)\n",
    "RMSE = mean_squared_error(y_test, lg_test, squared=False)\n",
    "time_predict = format_time(time.time() - time_predict)\n",
    "lg_result = {'Название модели': lg_best_pipeline.named_steps['regressor'].__class__.__name__,\n",
    "              'RMSE': round(RMSE, 2),\n",
    "              'Время предсказания': time_predict}\n",
    "\n",
    "# Добавляем результаты в сводную таблицу\n",
    "test_result_table = test_result_table.append(lg_result, ignore_index=True)\n",
    "\n",
    "# Выводим результаты\n",
    "lg_result"
   ]
  },
  {
   "cell_type": "markdown",
   "metadata": {},
   "source": [
    "### Посмотрим на результат"
   ]
  },
  {
   "cell_type": "code",
   "execution_count": 82,
   "metadata": {},
   "outputs": [
    {
     "data": {
      "text/html": [
       "<div>\n",
       "<style scoped>\n",
       "    .dataframe tbody tr th:only-of-type {\n",
       "        vertical-align: middle;\n",
       "    }\n",
       "\n",
       "    .dataframe tbody tr th {\n",
       "        vertical-align: top;\n",
       "    }\n",
       "\n",
       "    .dataframe thead th {\n",
       "        text-align: right;\n",
       "    }\n",
       "</style>\n",
       "<table border=\"1\" class=\"dataframe\">\n",
       "  <thead>\n",
       "    <tr style=\"text-align: right;\">\n",
       "      <th></th>\n",
       "      <th>Название модели</th>\n",
       "      <th>RMSE</th>\n",
       "      <th>Время предсказания</th>\n",
       "    </tr>\n",
       "  </thead>\n",
       "  <tbody>\n",
       "    <tr>\n",
       "      <th>0</th>\n",
       "      <td>DummyRegressor</td>\n",
       "      <td>4657.45</td>\n",
       "      <td>00:00:00</td>\n",
       "    </tr>\n",
       "    <tr>\n",
       "      <th>1</th>\n",
       "      <td>LGBMRegressor</td>\n",
       "      <td>1499.78</td>\n",
       "      <td>00:00:00</td>\n",
       "    </tr>\n",
       "  </tbody>\n",
       "</table>\n",
       "</div>"
      ],
      "text/plain": [
       "  Название модели     RMSE Время предсказания\n",
       "0  DummyRegressor  4657.45           00:00:00\n",
       "1   LGBMRegressor  1499.78           00:00:00"
      ]
     },
     "execution_count": 82,
     "metadata": {},
     "output_type": "execute_result"
    }
   ],
   "source": [
    "test_result_table"
   ]
  },
  {
   "cell_type": "markdown",
   "metadata": {},
   "source": [
    "BaggingRegressor на тестовой выборке показал лучший RMSE и не сильно просел по времени по отношению к остальным моделям."
   ]
  },
  {
   "cell_type": "markdown",
   "metadata": {},
   "source": [
    "### Предварительный вывод"
   ]
  },
  {
   "cell_type": "markdown",
   "metadata": {},
   "source": [
    "На этом этапе мы:\n",
    "\n",
    "- Построили бэггинг из лучших моделей LGBMRegressor и CatBoostRegressor\n",
    "- Проанализировали все модели на тренировочной выборке\n",
    "- Построили константное предсказание на тестовой выборке для сравнения\n",
    "- Выбрали лучшие модели и построили предсказания на тестовой выборке \n",
    "- Создали константное предсказание на тестовой выборке"
   ]
  },
  {
   "cell_type": "markdown",
   "metadata": {},
   "source": [
    "## Вывод"
   ]
  },
  {
   "cell_type": "markdown",
   "metadata": {},
   "source": [
    "Работая над проектом мы:\n",
    "- Загрузили и изучили данные.\n",
    "- Заполнили пропущенные значения и обработать аномалии в признаках. Удалили неинформативные признаки.\n",
    "- Подготовили выборки для обучения моделей.\n",
    "- Обучили модели:\n",
    "    - линейные: LinearRegression и Ridge\n",
    "    - бустинги: LGBMRegressor, CatBoostRegressor и GradientBoostingRegressor\n",
    "- Проанализировали время обучения, время предсказания и качество моделей.\n",
    "- Лучше всего себя себя показал LGBMRegressor:\n",
    "    - На тренировочной выборке: RMSE: 1357.08, Время подбора гиперпараметров: 00:01:30, Время обучения: 00:00:03, Время предсказания: 00:00:01\n",
    "    - На тестовой выборке: RMSE: 1499.78, Время предсказания: 00:00:00\n",
    "\n",
    "**Опираясь на критерии заказчика, и проверив качество модели на тестовой выборке, мы можем рекомендовать сервису по продаже автомобилей с пробегом «Не бит, не крашен» обученую модель LGBMRegressor с ошибкой предсказания 1510.32 евро. Для сравнения у константной модели ошибка предсказания 4657.45 евро.**"
   ]
  }
 ],
 "metadata": {
  "ExecuteTimeLog": [
   {
    "duration": 6950,
    "start_time": "2023-07-06T11:45:36.214Z"
   },
   {
    "duration": 0,
    "start_time": "2023-07-06T11:45:43.168Z"
   },
   {
    "duration": 0,
    "start_time": "2023-07-06T11:45:43.170Z"
   },
   {
    "duration": 0,
    "start_time": "2023-07-06T11:45:43.171Z"
   },
   {
    "duration": 0,
    "start_time": "2023-07-06T11:45:43.172Z"
   },
   {
    "duration": 0,
    "start_time": "2023-07-06T11:45:43.173Z"
   },
   {
    "duration": 0,
    "start_time": "2023-07-06T11:45:43.174Z"
   },
   {
    "duration": 0,
    "start_time": "2023-07-06T11:45:43.175Z"
   },
   {
    "duration": 0,
    "start_time": "2023-07-06T11:45:43.176Z"
   },
   {
    "duration": 0,
    "start_time": "2023-07-06T11:45:43.178Z"
   },
   {
    "duration": 0,
    "start_time": "2023-07-06T11:45:43.179Z"
   },
   {
    "duration": 0,
    "start_time": "2023-07-06T11:45:43.180Z"
   },
   {
    "duration": 0,
    "start_time": "2023-07-06T11:45:43.181Z"
   },
   {
    "duration": 0,
    "start_time": "2023-07-06T11:45:43.182Z"
   },
   {
    "duration": 0,
    "start_time": "2023-07-06T11:45:43.183Z"
   },
   {
    "duration": 0,
    "start_time": "2023-07-06T11:45:43.184Z"
   },
   {
    "duration": 0,
    "start_time": "2023-07-06T11:45:43.185Z"
   },
   {
    "duration": 0,
    "start_time": "2023-07-06T11:45:43.186Z"
   },
   {
    "duration": 0,
    "start_time": "2023-07-06T11:45:43.187Z"
   },
   {
    "duration": 0,
    "start_time": "2023-07-06T11:45:43.188Z"
   },
   {
    "duration": 0,
    "start_time": "2023-07-06T11:45:43.189Z"
   },
   {
    "duration": 0,
    "start_time": "2023-07-06T11:45:43.190Z"
   },
   {
    "duration": 0,
    "start_time": "2023-07-06T11:45:43.192Z"
   },
   {
    "duration": 0,
    "start_time": "2023-07-06T11:45:43.193Z"
   },
   {
    "duration": 0,
    "start_time": "2023-07-06T11:45:43.194Z"
   },
   {
    "duration": 0,
    "start_time": "2023-07-06T11:45:43.195Z"
   },
   {
    "duration": 0,
    "start_time": "2023-07-06T11:45:43.196Z"
   },
   {
    "duration": 0,
    "start_time": "2023-07-06T11:45:43.197Z"
   },
   {
    "duration": 1,
    "start_time": "2023-07-06T11:45:43.198Z"
   },
   {
    "duration": 0,
    "start_time": "2023-07-06T11:45:43.200Z"
   },
   {
    "duration": 0,
    "start_time": "2023-07-06T11:45:43.201Z"
   },
   {
    "duration": 0,
    "start_time": "2023-07-06T11:45:43.254Z"
   },
   {
    "duration": 0,
    "start_time": "2023-07-06T11:45:43.255Z"
   },
   {
    "duration": 0,
    "start_time": "2023-07-06T11:45:43.256Z"
   },
   {
    "duration": 0,
    "start_time": "2023-07-06T11:45:43.257Z"
   },
   {
    "duration": 0,
    "start_time": "2023-07-06T11:45:43.258Z"
   },
   {
    "duration": 0,
    "start_time": "2023-07-06T11:45:43.260Z"
   },
   {
    "duration": 0,
    "start_time": "2023-07-06T11:45:43.260Z"
   },
   {
    "duration": 0,
    "start_time": "2023-07-06T11:45:43.262Z"
   },
   {
    "duration": 0,
    "start_time": "2023-07-06T11:45:43.263Z"
   },
   {
    "duration": 0,
    "start_time": "2023-07-06T11:45:43.264Z"
   },
   {
    "duration": 0,
    "start_time": "2023-07-06T11:45:43.265Z"
   },
   {
    "duration": 0,
    "start_time": "2023-07-06T11:45:43.266Z"
   },
   {
    "duration": 0,
    "start_time": "2023-07-06T11:45:43.268Z"
   },
   {
    "duration": 0,
    "start_time": "2023-07-06T11:45:43.269Z"
   },
   {
    "duration": 0,
    "start_time": "2023-07-06T11:45:43.270Z"
   },
   {
    "duration": 0,
    "start_time": "2023-07-06T11:45:43.271Z"
   },
   {
    "duration": 0,
    "start_time": "2023-07-06T11:45:43.272Z"
   },
   {
    "duration": 0,
    "start_time": "2023-07-06T11:45:43.273Z"
   },
   {
    "duration": 0,
    "start_time": "2023-07-06T11:45:43.274Z"
   },
   {
    "duration": 0,
    "start_time": "2023-07-06T11:45:43.276Z"
   },
   {
    "duration": 0,
    "start_time": "2023-07-06T11:45:43.277Z"
   },
   {
    "duration": 0,
    "start_time": "2023-07-06T11:45:43.278Z"
   },
   {
    "duration": 0,
    "start_time": "2023-07-06T11:45:43.280Z"
   },
   {
    "duration": 0,
    "start_time": "2023-07-06T11:45:43.281Z"
   },
   {
    "duration": 0,
    "start_time": "2023-07-06T11:45:43.282Z"
   },
   {
    "duration": 0,
    "start_time": "2023-07-06T11:45:43.283Z"
   },
   {
    "duration": 0,
    "start_time": "2023-07-06T11:45:43.284Z"
   },
   {
    "duration": 0,
    "start_time": "2023-07-06T11:45:43.285Z"
   },
   {
    "duration": 0,
    "start_time": "2023-07-06T11:45:43.286Z"
   },
   {
    "duration": 0,
    "start_time": "2023-07-06T11:45:43.354Z"
   },
   {
    "duration": 0,
    "start_time": "2023-07-06T11:45:43.355Z"
   },
   {
    "duration": 0,
    "start_time": "2023-07-06T11:45:43.357Z"
   },
   {
    "duration": 0,
    "start_time": "2023-07-06T11:45:43.358Z"
   },
   {
    "duration": 0,
    "start_time": "2023-07-06T11:45:43.359Z"
   },
   {
    "duration": 0,
    "start_time": "2023-07-06T11:45:43.361Z"
   },
   {
    "duration": 0,
    "start_time": "2023-07-06T11:45:43.361Z"
   },
   {
    "duration": 0,
    "start_time": "2023-07-06T11:45:43.363Z"
   },
   {
    "duration": 0,
    "start_time": "2023-07-06T11:45:43.364Z"
   },
   {
    "duration": 0,
    "start_time": "2023-07-06T11:45:43.365Z"
   },
   {
    "duration": 0,
    "start_time": "2023-07-06T11:45:43.367Z"
   },
   {
    "duration": 0,
    "start_time": "2023-07-06T11:45:43.368Z"
   },
   {
    "duration": 0,
    "start_time": "2023-07-06T11:45:43.369Z"
   },
   {
    "duration": 0,
    "start_time": "2023-07-06T11:45:43.370Z"
   },
   {
    "duration": 0,
    "start_time": "2023-07-06T11:45:43.371Z"
   },
   {
    "duration": 0,
    "start_time": "2023-07-06T11:45:43.373Z"
   },
   {
    "duration": 0,
    "start_time": "2023-07-06T11:45:43.374Z"
   },
   {
    "duration": 0,
    "start_time": "2023-07-06T11:45:43.375Z"
   },
   {
    "duration": 0,
    "start_time": "2023-07-06T11:45:43.376Z"
   },
   {
    "duration": 0,
    "start_time": "2023-07-06T11:45:43.377Z"
   },
   {
    "duration": 0,
    "start_time": "2023-07-06T11:45:43.378Z"
   },
   {
    "duration": 0,
    "start_time": "2023-07-06T11:45:43.380Z"
   }
  ],
  "kernelspec": {
   "display_name": "Python 3 (ipykernel)",
   "language": "python",
   "name": "python3"
  },
  "language_info": {
   "codemirror_mode": {
    "name": "ipython",
    "version": 3
   },
   "file_extension": ".py",
   "mimetype": "text/x-python",
   "name": "python",
   "nbconvert_exporter": "python",
   "pygments_lexer": "ipython3",
   "version": "3.9.13"
  },
  "toc": {
   "base_numbering": 1,
   "nav_menu": {},
   "number_sections": true,
   "sideBar": true,
   "skip_h1_title": true,
   "title_cell": "Table of Contents",
   "title_sidebar": "Contents",
   "toc_cell": false,
   "toc_position": {},
   "toc_section_display": true,
   "toc_window_display": false
  },
  "varInspector": {
   "cols": {
    "lenName": 16,
    "lenType": 16,
    "lenVar": 40
   },
   "kernels_config": {
    "python": {
     "delete_cmd_postfix": "",
     "delete_cmd_prefix": "del ",
     "library": "var_list.py",
     "varRefreshCmd": "print(var_dic_list())"
    },
    "r": {
     "delete_cmd_postfix": ") ",
     "delete_cmd_prefix": "rm(",
     "library": "var_list.r",
     "varRefreshCmd": "cat(var_dic_list()) "
    }
   },
   "oldHeight": 102.25,
   "position": {
    "height": "123.85px",
    "left": "1019.2px",
    "right": "20px",
    "top": "36px",
    "width": "502.8px"
   },
   "types_to_exclude": [
    "module",
    "function",
    "builtin_function_or_method",
    "instance",
    "_Feature"
   ],
   "varInspector_section_display": "block",
   "window_display": false
  }
 },
 "nbformat": 4,
 "nbformat_minor": 2
}
