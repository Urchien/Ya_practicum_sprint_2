{
 "cells": [
  {
   "cell_type": "markdown",
   "id": "91ba6b34",
   "metadata": {
    "toc": true
   },
   "source": [
    "<h1>Table of Contents<span class=\"tocSkip\"></span></h1>\n",
    "<div class=\"toc\"><ul class=\"toc-item\"><li><span><a href=\"#Откроем-файл-с-данными-и-изучим-общую-информацию\" data-toc-modified-id=\"Откроем-файл-с-данными-и-изучим-общую-информацию-1\"><span class=\"toc-item-num\">1&nbsp;&nbsp;</span>Откроем файл с данными и изучим общую информацию</a></span><ul class=\"toc-item\"><li><span><a href=\"#Подключим-необходимые-библиотеки-и--настройки:\" data-toc-modified-id=\"Подключим-необходимые-библиотеки-и--настройки:-1.1\"><span class=\"toc-item-num\">1.1&nbsp;&nbsp;</span>Подключим необходимые библиотеки и  настройки:</a></span></li><li><span><a href=\"#Загрузим-датафрейм:\" data-toc-modified-id=\"Загрузим-датафрейм:-1.2\"><span class=\"toc-item-num\">1.2&nbsp;&nbsp;</span>Загрузим датафрейм:</a></span></li></ul></li><li><span><a href=\"#Подготовка-данных\" data-toc-modified-id=\"Подготовка-данных-2\"><span class=\"toc-item-num\">2&nbsp;&nbsp;</span>Подготовка данных</a></span><ul class=\"toc-item\"><li><span><a href=\"#Приведем-данные-к-&quot;змеиному-стилю&quot;\" data-toc-modified-id=\"Приведем-данные-к-&quot;змеиному-стилю&quot;-2.1\"><span class=\"toc-item-num\">2.1&nbsp;&nbsp;</span>Приведем данные к \"змеиному стилю\"</a></span><ul class=\"toc-item\"><li><span><a href=\"#Заменим-названия-столбцов-(приведем-&quot;змеиному-стилю&quot;)\" data-toc-modified-id=\"Заменим-названия-столбцов-(приведем-&quot;змеиному-стилю&quot;)-2.1.1\"><span class=\"toc-item-num\">2.1.1&nbsp;&nbsp;</span>Заменим названия столбцов (приведем \"змеиному стилю\")</a></span></li><li><span><a href=\"#Приведем-столбцы-genre-и-name-к-&quot;змеиному-стилю&quot;\" data-toc-modified-id=\"Приведем-столбцы-genre-и-name-к-&quot;змеиному-стилю&quot;-2.1.2\"><span class=\"toc-item-num\">2.1.2&nbsp;&nbsp;</span>Приведем столбцы genre и name к \"змеиному стилю\"</a></span></li></ul></li><li><span><a href=\"#Преобразуем-данные-в-нужные-типы\" data-toc-modified-id=\"Преобразуем-данные-в-нужные-типы-2.2\"><span class=\"toc-item-num\">2.2&nbsp;&nbsp;</span>Преобразуем данные в нужные типы</a></span><ul class=\"toc-item\"><li><span><a href=\"#Столбец-year_of_release-приведем-к-&quot;int&quot;\" data-toc-modified-id=\"Столбец-year_of_release-приведем-к-&quot;int&quot;-2.2.1\"><span class=\"toc-item-num\">2.2.1&nbsp;&nbsp;</span>Столбец year_of_release приведем к \"int\"</a></span></li><li><span><a href=\"#Столбец-user_score-приведем-к-&quot;float&quot;\" data-toc-modified-id=\"Столбец-user_score-приведем-к-&quot;float&quot;-2.2.2\"><span class=\"toc-item-num\">2.2.2&nbsp;&nbsp;</span>Столбец user_score приведем к \"float\"</a></span></li><li><span><a href=\"#Удостоверимся,-что-все-данные-преобразованы-в-нужные-типы:\" data-toc-modified-id=\"Удостоверимся,-что-все-данные-преобразованы-в-нужные-типы:-2.2.3\"><span class=\"toc-item-num\">2.2.3&nbsp;&nbsp;</span>Удостоверимся, что все данные преобразованы в нужные типы:</a></span></li></ul></li><li><span><a href=\"#Обработаем-пропущенные-данные-и-аномалии\" data-toc-modified-id=\"Обработаем-пропущенные-данные-и-аномалии-2.3\"><span class=\"toc-item-num\">2.3&nbsp;&nbsp;</span>Обработаем пропущенные данные и аномалии</a></span><ul class=\"toc-item\"><li><span><a href=\"#Посмотрим-на-общее-количество-пропусков-для-каждого-столбца:\" data-toc-modified-id=\"Посмотрим-на-общее-количество-пропусков-для-каждого-столбца:-2.3.1\"><span class=\"toc-item-num\">2.3.1&nbsp;&nbsp;</span>Посмотрим на общее количество пропусков для каждого столбца:</a></span></li><li><span><a href=\"#Столбцы-name-и-genre\" data-toc-modified-id=\"Столбцы-name-и-genre-2.3.2\"><span class=\"toc-item-num\">2.3.2&nbsp;&nbsp;</span>Столбцы name и genre</a></span></li><li><span><a href=\"#Посмотрим-столбец-year_of_release\" data-toc-modified-id=\"Посмотрим-столбец-year_of_release-2.3.3\"><span class=\"toc-item-num\">2.3.3&nbsp;&nbsp;</span>Посмотрим столбец year_of_release</a></span></li><li><span><a href=\"#Посмотрим-стобец-rating\" data-toc-modified-id=\"Посмотрим-стобец-rating-2.3.4\"><span class=\"toc-item-num\">2.3.4&nbsp;&nbsp;</span>Посмотрим стобец rating</a></span></li><li><span><a href=\"#Посмотрим-critic_score-и--user_score\" data-toc-modified-id=\"Посмотрим-critic_score-и--user_score-2.3.5\"><span class=\"toc-item-num\">2.3.5&nbsp;&nbsp;</span>Посмотрим critic_score и  user_score</a></span></li><li><span><a href=\"#Посмотрим-на-предобработанный-датафрейм:\" data-toc-modified-id=\"Посмотрим-на-предобработанный-датафрейм:-2.3.6\"><span class=\"toc-item-num\">2.3.6&nbsp;&nbsp;</span>Посмотрим на предобработанный датафрейм:</a></span></li></ul></li><li><span><a href=\"#Посчитаем-суммарные-продажи-во-всех-регионах-и-запишем-их-в-отдельный-столбец\" data-toc-modified-id=\"Посчитаем-суммарные-продажи-во-всех-регионах-и-запишем-их-в-отдельный-столбец-2.4\"><span class=\"toc-item-num\">2.4&nbsp;&nbsp;</span>Посчитаем суммарные продажи во всех регионах и запишем их в отдельный столбец</a></span></li><li><span><a href=\"#Выводы:\" data-toc-modified-id=\"Выводы:-2.5\"><span class=\"toc-item-num\">2.5&nbsp;&nbsp;</span>Выводы:</a></span></li></ul></li><li><span><a href=\"#Исследовательский-анализ-данных\" data-toc-modified-id=\"Исследовательский-анализ-данных-3\"><span class=\"toc-item-num\">3&nbsp;&nbsp;</span>Исследовательский анализ данных</a></span><ul class=\"toc-item\"><li><span><a href=\"#Посмотрим-на-датафрейм:\" data-toc-modified-id=\"Посмотрим-на-датафрейм:-3.1\"><span class=\"toc-item-num\">3.1&nbsp;&nbsp;</span>Посмотрим на датафрейм:</a></span></li><li><span><a href=\"#Посмотрим,-сколько-игр-выпускалось-в-разные-годы.-Важны-ли-данные-за-все-периоды?\" data-toc-modified-id=\"Посмотрим,-сколько-игр-выпускалось-в-разные-годы.-Важны-ли-данные-за-все-периоды?-3.2\"><span class=\"toc-item-num\">3.2&nbsp;&nbsp;</span>Посмотрим, сколько игр выпускалось в разные годы. Важны ли данные за все периоды?</a></span></li><li><span><a href=\"#Посмотрим,-как-менялись-продажи-по-платформам.-Выберем-платформы-с-наибольшими-суммарными-продажами-и-построим-распределение-по-годам.-Определим,-за-какой-характерный-срок-появляются-новые-и-исчезают-старые-платформы?\" data-toc-modified-id=\"Посмотрим,-как-менялись-продажи-по-платформам.-Выберем-платформы-с-наибольшими-суммарными-продажами-и-построим-распределение-по-годам.-Определим,-за-какой-характерный-срок-появляются-новые-и-исчезают-старые-платформы?-3.3\"><span class=\"toc-item-num\">3.3&nbsp;&nbsp;</span>Посмотрим, как менялись продажи по платформам. Выберем платформы с наибольшими суммарными продажами и построим распределение по годам. Определим, за какой характерный срок появляются новые и исчезают старые платформы?</a></span><ul class=\"toc-item\"><li><span><a href=\"#Выберем-платформы-с-наибольшими-суммарными-продажами-и-построем-распределение-по-годам.\" data-toc-modified-id=\"Выберем-платформы-с-наибольшими-суммарными-продажами-и-построем-распределение-по-годам.-3.3.1\"><span class=\"toc-item-num\">3.3.1&nbsp;&nbsp;</span>Выберем платформы с наибольшими суммарными продажами и построем распределение по годам.</a></span></li><li><span><a href=\"#Построим-распределение-по-годам-для-платформ-с-наибольшими-суммарными-продажами:\" data-toc-modified-id=\"Построим-распределение-по-годам-для-платформ-с-наибольшими-суммарными-продажами:-3.3.2\"><span class=\"toc-item-num\">3.3.2&nbsp;&nbsp;</span>Построим распределение по годам для платформ с наибольшими суммарными продажами:</a></span></li></ul></li><li><span><a href=\"#Определим-данные-за-соответствующий-актуальный-период.-Основной-фактор-—-эти-данные-помогут-построить-прогноз-на-2017-год.\" data-toc-modified-id=\"Определим-данные-за-соответствующий-актуальный-период.-Основной-фактор-—-эти-данные-помогут-построить-прогноз-на-2017-год.-3.4\"><span class=\"toc-item-num\">3.4&nbsp;&nbsp;</span>Определим данные за соответствующий актуальный период. Основной фактор — эти данные помогут построить прогноз на 2017 год.</a></span></li><li><span><a href=\"#Какие-платформы-лидируют-по-продажам,-растут-или-падают?-Выберем-несколько-потенциально-прибыльных-платформ:\" data-toc-modified-id=\"Какие-платформы-лидируют-по-продажам,-растут-или-падают?-Выберем-несколько-потенциально-прибыльных-платформ:-3.5\"><span class=\"toc-item-num\">3.5&nbsp;&nbsp;</span>Какие платформы лидируют по продажам, растут или падают? Выберем несколько потенциально прибыльных платформ:</a></span></li><li><span><a href=\"#Построим-график-«ящик-с-усами»-по-глобальным-продажам-игр-в-разбивке-по-платформам-и-опишем-результат.\" data-toc-modified-id=\"Построим-график-«ящик-с-усами»-по-глобальным-продажам-игр-в-разбивке-по-платформам-и-опишем-результат.-3.6\"><span class=\"toc-item-num\">3.6&nbsp;&nbsp;</span>Построим график «ящик с усами» по глобальным продажам игр в разбивке по платформам и опишем результат.</a></span></li><li><span><a href=\"#Посмотрим,-как-влияют-на-продажи-внутри-одной-популярной-платформы-отзывы-пользователей-и-критиков.-Построим-диаграмму-рассеяния-и-посчитаем-корреляцию-между-отзывами-и-продажами.-Сформулируем-выводы.\" data-toc-modified-id=\"Посмотрим,-как-влияют-на-продажи-внутри-одной-популярной-платформы-отзывы-пользователей-и-критиков.-Построим-диаграмму-рассеяния-и-посчитаем-корреляцию-между-отзывами-и-продажами.-Сформулируем-выводы.-3.7\"><span class=\"toc-item-num\">3.7&nbsp;&nbsp;</span>Посмотрим, как влияют на продажи внутри одной популярной платформы отзывы пользователей и критиков. Построим диаграмму рассеяния и посчитаем корреляцию между отзывами и продажами. Сформулируем выводы.</a></span></li><li><span><a href=\"#Соотнесем-выводы-с-продажами-игр-на-других-платформах.\" data-toc-modified-id=\"Соотнесем-выводы-с-продажами-игр-на-других-платформах.-3.8\"><span class=\"toc-item-num\">3.8&nbsp;&nbsp;</span>Соотнесем выводы с продажами игр на других платформах.</a></span></li><li><span><a href=\"#Опишем-общее-распределение-игр-по-жанрам\" data-toc-modified-id=\"Опишем-общее-распределение-игр-по-жанрам-3.9\"><span class=\"toc-item-num\">3.9&nbsp;&nbsp;</span>Опишем общее распределение игр по жанрам</a></span></li><li><span><a href=\"#Выводы:\" data-toc-modified-id=\"Выводы:-3.10\"><span class=\"toc-item-num\">3.10&nbsp;&nbsp;</span>Выводы:</a></span></li></ul></li><li><span><a href=\"#Составим-портрет-пользователя-каждого-региона\" data-toc-modified-id=\"Составим-портрет-пользователя-каждого-региона-4\"><span class=\"toc-item-num\">4&nbsp;&nbsp;</span>Составим портрет пользователя каждого региона</a></span><ul class=\"toc-item\"><li><span><a href=\"#Определим-для-пользователя-каждого-региона-(NA,-EU,-JP)-самые-популярные-платформы-(топ-5).\" data-toc-modified-id=\"Определим-для-пользователя-каждого-региона-(NA,-EU,-JP)-самые-популярные-платформы-(топ-5).-4.1\"><span class=\"toc-item-num\">4.1&nbsp;&nbsp;</span>Определим для пользователя каждого региона (NA, EU, JP) самые популярные платформы (топ-5).</a></span><ul class=\"toc-item\"><li><span><a href=\"#Распредление-продаж-по-платформам-в-регионе-NA-(Северная-Америка)\" data-toc-modified-id=\"Распредление-продаж-по-платформам-в-регионе-NA-(Северная-Америка)-4.1.1\"><span class=\"toc-item-num\">4.1.1&nbsp;&nbsp;</span>Распредление продаж по платформам в регионе NA (Северная Америка)</a></span></li><li><span><a href=\"#Распредление-продаж-по-платформам-в-регионе-EU-(Европа)\" data-toc-modified-id=\"Распредление-продаж-по-платформам-в-регионе-EU-(Европа)-4.1.2\"><span class=\"toc-item-num\">4.1.2&nbsp;&nbsp;</span>Распредление продаж по платформам в регионе EU (Европа)</a></span></li><li><span><a href=\"#Распредление-продаж-по-платформам-в-регионе-JP-(Япония)\" data-toc-modified-id=\"Распредление-продаж-по-платформам-в-регионе-JP-(Япония)-4.1.3\"><span class=\"toc-item-num\">4.1.3&nbsp;&nbsp;</span>Распредление продаж по платформам в регионе JP (Япония)</a></span></li><li><span><a href=\"#Вывод\" data-toc-modified-id=\"Вывод-4.1.4\"><span class=\"toc-item-num\">4.1.4&nbsp;&nbsp;</span>Вывод</a></span></li></ul></li><li><span><a href=\"#Самые-популярные-жанры-(топ-5).\" data-toc-modified-id=\"Самые-популярные-жанры-(топ-5).-4.2\"><span class=\"toc-item-num\">4.2&nbsp;&nbsp;</span>Самые популярные жанры (топ-5).</a></span><ul class=\"toc-item\"><li><span><a href=\"#Распредление-продаж-по-жанрам-игры-в-регионе-NA-(Северная-Америка)\" data-toc-modified-id=\"Распредление-продаж-по-жанрам-игры-в-регионе-NA-(Северная-Америка)-4.2.1\"><span class=\"toc-item-num\">4.2.1&nbsp;&nbsp;</span>Распредление продаж по жанрам игры в регионе NA (Северная Америка)</a></span></li><li><span><a href=\"#Распредление-продаж-по-жанрам-игры-в-регионе-EU-(Европа)\" data-toc-modified-id=\"Распредление-продаж-по-жанрам-игры-в-регионе-EU-(Европа)-4.2.2\"><span class=\"toc-item-num\">4.2.2&nbsp;&nbsp;</span>Распредление продаж по жанрам игры в регионе EU (Европа)</a></span></li><li><span><a href=\"#Распредление-продаж-по-жанрам-игры-в-регионе-JP-(Япония)\" data-toc-modified-id=\"Распредление-продаж-по-жанрам-игры-в-регионе-JP-(Япония)-4.2.3\"><span class=\"toc-item-num\">4.2.3&nbsp;&nbsp;</span>Распредление продаж по жанрам игры в регионе JP (Япония)</a></span></li><li><span><a href=\"#Вывод\" data-toc-modified-id=\"Вывод-4.2.4\"><span class=\"toc-item-num\">4.2.4&nbsp;&nbsp;</span>Вывод</a></span></li></ul></li><li><span><a href=\"#Определим,-влияет-ли-рейтинг-ESRB-на-продажи-в-отдельном-регионе\" data-toc-modified-id=\"Определим,-влияет-ли-рейтинг-ESRB-на-продажи-в-отдельном-регионе-4.3\"><span class=\"toc-item-num\">4.3&nbsp;&nbsp;</span>Определим, влияет ли рейтинг ESRB на продажи в отдельном регионе</a></span><ul class=\"toc-item\"><li><span><a href=\"#Распредление-продаж-по-рейтингам-ESRB-в-регионе-NA-(Северная-Америка)\" data-toc-modified-id=\"Распредление-продаж-по-рейтингам-ESRB-в-регионе-NA-(Северная-Америка)-4.3.1\"><span class=\"toc-item-num\">4.3.1&nbsp;&nbsp;</span>Распредление продаж по рейтингам ESRB в регионе NA (Северная Америка)</a></span></li><li><span><a href=\"#Распредление-продаж-по-рейтингам-ESRB-в-регионе-EU-(Европа)\" data-toc-modified-id=\"Распредление-продаж-по-рейтингам-ESRB-в-регионе-EU-(Европа)-4.3.2\"><span class=\"toc-item-num\">4.3.2&nbsp;&nbsp;</span>Распредление продаж по рейтингам ESRB в регионе EU (Европа)</a></span></li><li><span><a href=\"#Распредление-продаж-по-рейтингам-ESRB-в-регионе-JP-(Япония)\" data-toc-modified-id=\"Распредление-продаж-по-рейтингам-ESRB-в-регионе-JP-(Япония)-4.3.3\"><span class=\"toc-item-num\">4.3.3&nbsp;&nbsp;</span>Распредление продаж по рейтингам ESRB в регионе JP (Япония)</a></span></li><li><span><a href=\"#Вывод\" data-toc-modified-id=\"Вывод-4.3.4\"><span class=\"toc-item-num\">4.3.4&nbsp;&nbsp;</span>Вывод</a></span></li></ul></li><li><span><a href=\"#Общий-вывод-по-разделу-Портрет-пользователя-каждого-региона:\" data-toc-modified-id=\"Общий-вывод-по-разделу-Портрет-пользователя-каждого-региона:-4.4\"><span class=\"toc-item-num\">4.4&nbsp;&nbsp;</span>Общий вывод по разделу Портрет пользователя каждого региона:</a></span></li></ul></li><li><span><a href=\"#Проверка-гипотез\" data-toc-modified-id=\"Проверка-гипотез-5\"><span class=\"toc-item-num\">5&nbsp;&nbsp;</span>Проверка гипотез</a></span><ul class=\"toc-item\"><li><span><a href=\"#Гипотеза-1.-Средние-пользовательские-рейтинги-платформ-Xbox-One-и-PC-одинаковые.\" data-toc-modified-id=\"Гипотеза-1.-Средние-пользовательские-рейтинги-платформ-Xbox-One-и-PC-одинаковые.-5.1\"><span class=\"toc-item-num\">5.1&nbsp;&nbsp;</span>Гипотеза 1. Средние пользовательские рейтинги платформ Xbox One и PC одинаковые.</a></span><ul class=\"toc-item\"><li><span><a href=\"#Сформулируем-нулевую-и-альтернативную-гипотезы:\" data-toc-modified-id=\"Сформулируем-нулевую-и-альтернативную-гипотезы:-5.1.1\"><span class=\"toc-item-num\">5.1.1&nbsp;&nbsp;</span>Сформулируем нулевую и альтернативную гипотезы:</a></span></li><li><span><a href=\"#Назначим-переменные-с-данными-оценок-по-XOne-и-PC\" data-toc-modified-id=\"Назначим-переменные-с-данными-оценок-по-XOne-и-PC-5.1.2\"><span class=\"toc-item-num\">5.1.2&nbsp;&nbsp;</span>Назначим переменные с данными оценок по XOne и PC</a></span></li><li><span><a href=\"#Зададим-пороговое-значение-alpha\" data-toc-modified-id=\"Зададим-пороговое-значение-alpha-5.1.3\"><span class=\"toc-item-num\">5.1.3&nbsp;&nbsp;</span>Зададим пороговое значение alpha</a></span></li><li><span><a href=\"#Проведём-тест\" data-toc-modified-id=\"Проведём-тест-5.1.4\"><span class=\"toc-item-num\">5.1.4&nbsp;&nbsp;</span>Проведём тест</a></span></li><li><span><a href=\"#Выведем-результат\" data-toc-modified-id=\"Выведем-результат-5.1.5\"><span class=\"toc-item-num\">5.1.5&nbsp;&nbsp;</span>Выведем результат</a></span></li><li><span><a href=\"#Вывод:\" data-toc-modified-id=\"Вывод:-5.1.6\"><span class=\"toc-item-num\">5.1.6&nbsp;&nbsp;</span>Вывод:</a></span></li></ul></li><li><span><a href=\"#Гипотеза-2.-Средние-пользовательские-рейтинги-жанров-Action--и-Sports-разные.\" data-toc-modified-id=\"Гипотеза-2.-Средние-пользовательские-рейтинги-жанров-Action--и-Sports-разные.-5.2\"><span class=\"toc-item-num\">5.2&nbsp;&nbsp;</span>Гипотеза 2. Средние пользовательские рейтинги жанров Action  и Sports разные.</a></span><ul class=\"toc-item\"><li><span><a href=\"#Сформулируем-нулевую-и-альтернативную-гипотезы:\" data-toc-modified-id=\"Сформулируем-нулевую-и-альтернативную-гипотезы:-5.2.1\"><span class=\"toc-item-num\">5.2.1&nbsp;&nbsp;</span>Сформулируем нулевую и альтернативную гипотезы:</a></span></li><li><span><a href=\"#Назначим-переменные-с-данными-оценок-по-Action-и-Sports\" data-toc-modified-id=\"Назначим-переменные-с-данными-оценок-по-Action-и-Sports-5.2.2\"><span class=\"toc-item-num\">5.2.2&nbsp;&nbsp;</span>Назначим переменные с данными оценок по Action и Sports</a></span></li><li><span><a href=\"#Зададим-пороговое-значение-alpha\" data-toc-modified-id=\"Зададим-пороговое-значение-alpha-5.2.3\"><span class=\"toc-item-num\">5.2.3&nbsp;&nbsp;</span>Зададим пороговое значение alpha</a></span></li><li><span><a href=\"#Проведём-тест\" data-toc-modified-id=\"Проведём-тест-5.2.4\"><span class=\"toc-item-num\">5.2.4&nbsp;&nbsp;</span>Проведём тест</a></span></li><li><span><a href=\"#Выведем-результат\" data-toc-modified-id=\"Выведем-результат-5.2.5\"><span class=\"toc-item-num\">5.2.5&nbsp;&nbsp;</span>Выведем результат</a></span></li><li><span><a href=\"#Вывод:\" data-toc-modified-id=\"Вывод:-5.2.6\"><span class=\"toc-item-num\">5.2.6&nbsp;&nbsp;</span>Вывод:</a></span></li></ul></li></ul></li><li><span><a href=\"#Общие-выводы\" data-toc-modified-id=\"Общие-выводы-6\"><span class=\"toc-item-num\">6&nbsp;&nbsp;</span>Общие выводы</a></span></li></ul></div>"
   ]
  },
  {
   "cell_type": "markdown",
   "id": "61fcb00e",
   "metadata": {},
   "source": [
    "# Сборный проект 1: Анализ игровой индустрии.\n",
    "\n",
    "**Описание проекта:**\n",
    "\n",
    "Мы работаем в интернет-магазине «Стримчик», который продаёт по всему миру компьютерные игры. Из открытых источников доступны исторические данные о продажах игр, оценки пользователей и экспертов, жанры и платформы (например, Xbox или PlayStation). \n",
    "Перед нами данные до 2016 года. Представим, что сейчас декабрь 2016 г., и мы планируем кампанию на 2017-й. Нужно отработать принцип работы с данными. \n",
    "В наборе данных попадается аббревиатура ESRB (Entertainment Software Rating Board) — это ассоциация, определяющая возрастной рейтинг компьютерных игр. ESRB оценивает игровой контент и присваивает ему подходящую возрастную категорию, например, «Для взрослых», «Для детей младшего возраста» или «Для подростков».\n",
    "\n",
    "**Цель исследования:**\n",
    "\n",
    "Нам нужно выявить определяющие успешность игры закономерности. Это позволит сделать ставку на потенциально популярный продукт и спланировать рекламные кампании.\n",
    "\n",
    "**Описание данных:**\n",
    "\n",
    "- Name — название игры\n",
    "- Platform — платформа\n",
    "- Year_of_Release — год выпуска\n",
    "- Genre — жанр игры\n",
    "- NA_sales — продажи в Северной Америке (миллионы проданных копий)\n",
    "- EU_sales — продажи в Европе (миллионы проданных копий)\n",
    "- JP_sales — продажи в Японии (миллионы проданных копий)\n",
    "- Other_sales — продажи в других странах (миллионы проданных копий)\n",
    "- Critic_Score — оценка критиков (максимум 100)\n",
    "- User_Score — оценка пользователей (максимум 10)\n",
    "- Rating — рейтинг от организации ESRB (англ. Entertainment Software Rating Board). Эта ассоциация определяет рейтинг компьютерных игр и присваивает им подходящую возрастную категорию.\n",
    "\n",
    "**План работы:**\n",
    "\n",
    "1. Загрузить файл с данными и изучить общую информацию\n",
    "\n",
    "2. Подготовить данные:\n",
    "- Заменить названия столбцов (привести к нижнему регистру)\n",
    "- Преобразовать данные в нужные типы. Описать, в каких столбцах заменили тип данных и почему\n",
    "- Обработать пропуски при необходимости. Объяснить, почему заполнили пропуски определённым образом или почему не стали это делать\n",
    "- Описать причины, которые могли привести к пропускам\n",
    "- Обратить внимание на аббревиатуру 'tbd' в столбце с оценкой пользователей. Отдельно разобрать это значение и опишите, как его обработать\n",
    "- Посчитайте суммарные продажи во всех регионах и запишите их в отдельный столбец\n",
    "\n",
    "3. Проведите исследовательский анализ данных\n",
    "- Посмотреть, сколько игр выпускалось в разные годы. Важны ли данные за все периоды?\n",
    "- Посмотреть, как менялись продажи по платформам. Выбрать платформы с наибольшими суммарными продажами и постройте распределение по годам. За какой характерный срок появляются новые и исчезают старые платформы?\n",
    "- Взять данные за соответствующий актуальный период. Актуальный период определите самостоятельно в результате исследования предыдущих вопросов. Основной фактор — эти данные помогут построить прогноз на 2017 год. Не учитывать в работе данные за предыдущие годы.\n",
    "- Какие платформы лидируют по продажам, растут или падают? Выбрать несколько потенциально прибыльных платформ.\n",
    "- Построить график «ящик с усами» по глобальным продажам игр в разбивке по платформам. Описать результат.\n",
    "- Посмотреть, как влияют на продажи внутри одной популярной платформы отзывы пользователей и критиков. Построить диаграмму рассеяния и посчитайте корреляцию между отзывами и продажами. Сформулировать выводы.\n",
    "- Соотнести выводы с продажами игр на других платформах.\n",
    "- Посмотреть на общее распределение игр по жанрам. Что можно сказать о самых прибыльных жанрах? Выделяются ли жанры с высокими и низкими продажами?\n",
    "\n",
    "4. Составить портрет пользователя каждого региона\n",
    "- Определить для пользователя каждого региона (NA, EU, JP):\n",
    "    - Самые популярные платформы (топ-5). Опишите различия в долях продаж.\n",
    "    - Самые популярные жанры (топ-5). Поясните разницу.\n",
    "    - Влияет ли рейтинг ESRB на продажи в отдельном регионе?\n",
    "\n",
    "5. Проверить гипотезы\n",
    "- Средние пользовательские рейтинги платформ Xbox One и PC одинаковые\n",
    "- Средние пользовательские рейтинги жанров Action (англ. «действие», экшен-игры) и Sports (англ. «спортивные соревнования») разные.\n",
    "- Задать самостоятельно пороговое значение alpha\n",
    "- Пояснить:\n",
    "    - Как сформулировали нулевую и альтернативную гипотезы\n",
    "    - Какой критерий применили для проверки гипотез и почему\n",
    "\n",
    "6. Написать общий вывод"
   ]
  },
  {
   "cell_type": "markdown",
   "id": "69250751",
   "metadata": {},
   "source": [
    "## Откроем файл с данными и изучим общую информацию"
   ]
  },
  {
   "cell_type": "markdown",
   "id": "8f0d7f90",
   "metadata": {},
   "source": [
    "### Подключим необходимые библиотеки и  настройки:"
   ]
  },
  {
   "cell_type": "code",
   "execution_count": 1,
   "id": "fc01988b",
   "metadata": {},
   "outputs": [],
   "source": [
    "import pandas as pd\n",
    "import seaborn as sns\n",
    "import matplotlib.pyplot as plt\n",
    "import numpy as np\n",
    "from scipy import stats as st\n",
    "pd.set_option('display.max_columns', None)\n",
    "import warnings\n",
    "warnings.filterwarnings(\"ignore\")"
   ]
  },
  {
   "cell_type": "markdown",
   "id": "21c84516",
   "metadata": {},
   "source": [
    "### Загрузим датафрейм:"
   ]
  },
  {
   "cell_type": "code",
   "execution_count": 2,
   "id": "5f12775b",
   "metadata": {},
   "outputs": [],
   "source": [
    "try:\n",
    "    raw_data = pd.read_csv('games.csv')\n",
    "except:\n",
    "    raw_data = pd.read_csv('games.csv')"
   ]
  },
  {
   "cell_type": "markdown",
   "id": "3df6cba9",
   "metadata": {},
   "source": [
    "**Будем работать с копией:**"
   ]
  },
  {
   "cell_type": "code",
   "execution_count": 3,
   "id": "cd668e56",
   "metadata": {},
   "outputs": [],
   "source": [
    "data = raw_data.copy()"
   ]
  },
  {
   "cell_type": "markdown",
   "id": "a955a956",
   "metadata": {},
   "source": [
    "**Создадим и применим функцию функцию, которая будет на вход принимать датафрейм, а на выходе будет выводить все необходимые характеристики поочередно применяя методы:**"
   ]
  },
  {
   "cell_type": "code",
   "execution_count": 4,
   "id": "1419b68e",
   "metadata": {},
   "outputs": [],
   "source": [
    "def datainfo(dataframe):\n",
    "    print(\"Характеристики датафрейма:\")\n",
    "    print(\"-\"*100)\n",
    "    print('Выведем первые 10 строк')\n",
    "    print(data.head(10))\n",
    "    print(\"-\"*100)\n",
    "    print('Выведем последние 10 строк')\n",
    "    print(data.tail(10))\n",
    "    print(\"-\"*100)\n",
    "    print('Выведем общую информацию по датафрейму:')\n",
    "    print(data.info())\n",
    "    print(\"-\"*100)\n",
    "    print('Посмотрим пропуски')\n",
    "    print(data.isnull().sum().sort_values(ascending=False))\n",
    "    print(\"-\"*100)\n",
    "    print('Посмотрим на описание датафрейма')\n",
    "    print(data.describe())\n",
    "    print(\"-\"*100)\n",
    "    print('Количество дубликатов:')\n",
    "    print(data.duplicated().sum())\n",
    "    print(\"-\"*100)\n",
    "    print('Построим общую гистограмму для всех столбцов датафрейма')\n",
    "    data.hist(figsize=(15,20))\n",
    "    plt.show()"
   ]
  },
  {
   "cell_type": "code",
   "execution_count": 5,
   "id": "18fac290",
   "metadata": {
    "scrolled": false
   },
   "outputs": [
    {
     "name": "stdout",
     "output_type": "stream",
     "text": [
      "Характеристики датафрейма:\n",
      "----------------------------------------------------------------------------------------------------\n",
      "Выведем первые 10 строк\n",
      "                        Name Platform  Year_of_Release         Genre  \\\n",
      "0                 Wii Sports      Wii           2006.0        Sports   \n",
      "1          Super Mario Bros.      NES           1985.0      Platform   \n",
      "2             Mario Kart Wii      Wii           2008.0        Racing   \n",
      "3          Wii Sports Resort      Wii           2009.0        Sports   \n",
      "4   Pokemon Red/Pokemon Blue       GB           1996.0  Role-Playing   \n",
      "5                     Tetris       GB           1989.0        Puzzle   \n",
      "6      New Super Mario Bros.       DS           2006.0      Platform   \n",
      "7                   Wii Play      Wii           2006.0          Misc   \n",
      "8  New Super Mario Bros. Wii      Wii           2009.0      Platform   \n",
      "9                  Duck Hunt      NES           1984.0       Shooter   \n",
      "\n",
      "   NA_sales  EU_sales  JP_sales  Other_sales  Critic_Score User_Score Rating  \n",
      "0     41.36     28.96      3.77         8.45          76.0          8      E  \n",
      "1     29.08      3.58      6.81         0.77           NaN        NaN    NaN  \n",
      "2     15.68     12.76      3.79         3.29          82.0        8.3      E  \n",
      "3     15.61     10.93      3.28         2.95          80.0          8      E  \n",
      "4     11.27      8.89     10.22         1.00           NaN        NaN    NaN  \n",
      "5     23.20      2.26      4.22         0.58           NaN        NaN    NaN  \n",
      "6     11.28      9.14      6.50         2.88          89.0        8.5      E  \n",
      "7     13.96      9.18      2.93         2.84          58.0        6.6      E  \n",
      "8     14.44      6.94      4.70         2.24          87.0        8.4      E  \n",
      "9     26.93      0.63      0.28         0.47           NaN        NaN    NaN  \n",
      "----------------------------------------------------------------------------------------------------\n",
      "Выведем последние 10 строк\n",
      "                                                   Name Platform  \\\n",
      "16705                                           15 Days       PC   \n",
      "16706                     Men in Black II: Alien Escape       GC   \n",
      "16707                                  Aiyoku no Eustia      PSV   \n",
      "16708                Woody Woodpecker in Crazy Castle 5      GBA   \n",
      "16709  SCORE International Baja 1000: The Official Game      PS2   \n",
      "16710                     Samurai Warriors: Sanada Maru      PS3   \n",
      "16711                                  LMA Manager 2007     X360   \n",
      "16712                           Haitaka no Psychedelica      PSV   \n",
      "16713                                  Spirits & Spells      GBA   \n",
      "16714                               Winning Post 8 2016      PSV   \n",
      "\n",
      "       Year_of_Release       Genre  NA_sales  EU_sales  JP_sales  Other_sales  \\\n",
      "16705           2009.0   Adventure      0.00      0.01      0.00          0.0   \n",
      "16706           2003.0     Shooter      0.01      0.00      0.00          0.0   \n",
      "16707           2014.0        Misc      0.00      0.00      0.01          0.0   \n",
      "16708           2002.0    Platform      0.01      0.00      0.00          0.0   \n",
      "16709           2008.0      Racing      0.00      0.00      0.00          0.0   \n",
      "16710           2016.0      Action      0.00      0.00      0.01          0.0   \n",
      "16711           2006.0      Sports      0.00      0.01      0.00          0.0   \n",
      "16712           2016.0   Adventure      0.00      0.00      0.01          0.0   \n",
      "16713           2003.0    Platform      0.01      0.00      0.00          0.0   \n",
      "16714           2016.0  Simulation      0.00      0.00      0.01          0.0   \n",
      "\n",
      "       Critic_Score User_Score Rating  \n",
      "16705          63.0        5.8    NaN  \n",
      "16706           NaN        tbd      T  \n",
      "16707           NaN        NaN    NaN  \n",
      "16708           NaN        NaN    NaN  \n",
      "16709           NaN        NaN    NaN  \n",
      "16710           NaN        NaN    NaN  \n",
      "16711           NaN        NaN    NaN  \n",
      "16712           NaN        NaN    NaN  \n",
      "16713           NaN        NaN    NaN  \n",
      "16714           NaN        NaN    NaN  \n",
      "----------------------------------------------------------------------------------------------------\n",
      "Выведем общую информацию по датафрейму:\n",
      "<class 'pandas.core.frame.DataFrame'>\n",
      "RangeIndex: 16715 entries, 0 to 16714\n",
      "Data columns (total 11 columns):\n",
      " #   Column           Non-Null Count  Dtype  \n",
      "---  ------           --------------  -----  \n",
      " 0   Name             16713 non-null  object \n",
      " 1   Platform         16715 non-null  object \n",
      " 2   Year_of_Release  16446 non-null  float64\n",
      " 3   Genre            16713 non-null  object \n",
      " 4   NA_sales         16715 non-null  float64\n",
      " 5   EU_sales         16715 non-null  float64\n",
      " 6   JP_sales         16715 non-null  float64\n",
      " 7   Other_sales      16715 non-null  float64\n",
      " 8   Critic_Score     8137 non-null   float64\n",
      " 9   User_Score       10014 non-null  object \n",
      " 10  Rating           9949 non-null   object \n",
      "dtypes: float64(6), object(5)\n",
      "memory usage: 1.4+ MB\n",
      "None\n",
      "----------------------------------------------------------------------------------------------------\n",
      "Посмотрим пропуски\n",
      "Critic_Score       8578\n",
      "Rating             6766\n",
      "User_Score         6701\n",
      "Year_of_Release     269\n",
      "Name                  2\n",
      "Genre                 2\n",
      "Platform              0\n",
      "NA_sales              0\n",
      "EU_sales              0\n",
      "JP_sales              0\n",
      "Other_sales           0\n",
      "dtype: int64\n",
      "----------------------------------------------------------------------------------------------------\n",
      "Посмотрим на описание датафрейма\n",
      "       Year_of_Release      NA_sales      EU_sales      JP_sales  \\\n",
      "count     16446.000000  16715.000000  16715.000000  16715.000000   \n",
      "mean       2006.484616      0.263377      0.145060      0.077617   \n",
      "std           5.877050      0.813604      0.503339      0.308853   \n",
      "min        1980.000000      0.000000      0.000000      0.000000   \n",
      "25%        2003.000000      0.000000      0.000000      0.000000   \n",
      "50%        2007.000000      0.080000      0.020000      0.000000   \n",
      "75%        2010.000000      0.240000      0.110000      0.040000   \n",
      "max        2016.000000     41.360000     28.960000     10.220000   \n",
      "\n",
      "        Other_sales  Critic_Score  \n",
      "count  16715.000000   8137.000000  \n",
      "mean       0.047342     68.967679  \n",
      "std        0.186731     13.938165  \n",
      "min        0.000000     13.000000  \n",
      "25%        0.000000     60.000000  \n",
      "50%        0.010000     71.000000  \n",
      "75%        0.030000     79.000000  \n",
      "max       10.570000     98.000000  \n",
      "----------------------------------------------------------------------------------------------------\n",
      "Количество дубликатов:\n",
      "0\n",
      "----------------------------------------------------------------------------------------------------\n",
      "Построим общую гистограмму для всех столбцов датафрейма\n"
     ]
    },
    {
     "data": {
      "image/png": "[encoded data removed]",
      "text/plain": [
       "<Figure size 1080x1440 with 6 Axes>"
      ]
     },
     "metadata": {
      "needs_background": "light"
     },
     "output_type": "display_data"
    }
   ],
   "source": [
    "datainfo(data)"
   ]
  },
  {
   "cell_type": "markdown",
   "id": "0bfcc924",
   "metadata": {},
   "source": [
    "**Вывод:**\n",
    "\n",
    "- В датафрейме 11 стобцов и 16715 строк.\n",
    "- 5 столбцов содержат категориальные признаки, 6 столбцов содержат числовые признаки\n",
    "- Название столбцов надо привести к \"змеиному\" стилю.\n",
    "- Также стоит привести к \"змеиному\" стилю данные в стобцах **name** и **genre**\n",
    "- Столбец **Year_of_Release** имеет тип данных **\"float\"**, хотя это год релиза - следовательно должен быть целочисленный тип данных **\"int\"**.\n",
    "- Столбец **User_Score** имеет тип данных **\"object\"**, но это оценка пользователей - следовательно должен быть числовой тип данных **\"float\"**.\n",
    "- Около 3/4 датафрейма пропущено в столбце **Critic_Score** (оценка критиков).\n",
    "- В столбцах **Rating** (рейтинг от организации ESRB) и **User_Score** (оценка пользователей) примерно одинаковое количество пропусков, но их больше половины датафрейма.\n",
    "- Гитограммы показывают, что большинство игр было выпущено с 2008 по 2013 годы, а самые распространенные оценки критиков от 62 до 80."
   ]
  },
  {
   "cell_type": "markdown",
   "id": "a1ca2268",
   "metadata": {},
   "source": [
    "## Подготовка данных"
   ]
  },
  {
   "cell_type": "markdown",
   "id": "367fc83e",
   "metadata": {},
   "source": [
    "### Приведем данные к \"змеиному стилю\""
   ]
  },
  {
   "cell_type": "markdown",
   "id": "5a76e87b",
   "metadata": {},
   "source": [
    "#### Заменим названия столбцов (приведем \"змеиному стилю\")"
   ]
  },
  {
   "cell_type": "code",
   "execution_count": 6,
   "id": "406d81b5",
   "metadata": {},
   "outputs": [
    {
     "data": {
      "text/plain": [
       "Index(['name', 'platform', 'year_of_release', 'genre', 'na_sales', 'eu_sales',\n",
       "       'jp_sales', 'other_sales', 'critic_score', 'user_score', 'rating'],\n",
       "      dtype='object')"
      ]
     },
     "execution_count": 6,
     "metadata": {},
     "output_type": "execute_result"
    }
   ],
   "source": [
    "data.columns = data.columns.str.lower()\n",
    "# Проверим:\n",
    "data.columns"
   ]
  },
  {
   "cell_type": "markdown",
   "id": "ff4b5fb6",
   "metadata": {},
   "source": [
    "#### Приведем столбцы genre и name к \"змеиному стилю\""
   ]
  },
  {
   "cell_type": "code",
   "execution_count": 7,
   "id": "01c785fd",
   "metadata": {},
   "outputs": [
    {
     "data": {
      "text/html": [
       "<div>\n",
       "<style scoped>\n",
       "    .dataframe tbody tr th:only-of-type {\n",
       "        vertical-align: middle;\n",
       "    }\n",
       "\n",
       "    .dataframe tbody tr th {\n",
       "        vertical-align: top;\n",
       "    }\n",
       "\n",
       "    .dataframe thead th {\n",
       "        text-align: right;\n",
       "    }\n",
       "</style>\n",
       "<table border=\"1\" class=\"dataframe\">\n",
       "  <thead>\n",
       "    <tr style=\"text-align: right;\">\n",
       "      <th></th>\n",
       "      <th>name</th>\n",
       "      <th>genre</th>\n",
       "    </tr>\n",
       "  </thead>\n",
       "  <tbody>\n",
       "    <tr>\n",
       "      <th>0</th>\n",
       "      <td>wii sports</td>\n",
       "      <td>sports</td>\n",
       "    </tr>\n",
       "    <tr>\n",
       "      <th>1</th>\n",
       "      <td>super mario bros.</td>\n",
       "      <td>platform</td>\n",
       "    </tr>\n",
       "    <tr>\n",
       "      <th>2</th>\n",
       "      <td>mario kart wii</td>\n",
       "      <td>racing</td>\n",
       "    </tr>\n",
       "    <tr>\n",
       "      <th>3</th>\n",
       "      <td>wii sports resort</td>\n",
       "      <td>sports</td>\n",
       "    </tr>\n",
       "    <tr>\n",
       "      <th>4</th>\n",
       "      <td>pokemon red/pokemon blue</td>\n",
       "      <td>role-playing</td>\n",
       "    </tr>\n",
       "  </tbody>\n",
       "</table>\n",
       "</div>"
      ],
      "text/plain": [
       "                       name         genre\n",
       "0                wii sports        sports\n",
       "1         super mario bros.      platform\n",
       "2            mario kart wii        racing\n",
       "3         wii sports resort        sports\n",
       "4  pokemon red/pokemon blue  role-playing"
      ]
     },
     "execution_count": 7,
     "metadata": {},
     "output_type": "execute_result"
    }
   ],
   "source": [
    "for column in ['name', 'genre']:\n",
    "    data[column] = data[column].str.lower()\n",
    "# Проверим:\n",
    "data[['name','genre']].head()"
   ]
  },
  {
   "cell_type": "markdown",
   "id": "3a35b119",
   "metadata": {},
   "source": [
    "### Преобразуем данные в нужные типы"
   ]
  },
  {
   "cell_type": "markdown",
   "id": "d009f83a",
   "metadata": {},
   "source": [
    "#### Столбец year_of_release приведем к \"int\""
   ]
  },
  {
   "cell_type": "code",
   "execution_count": 8,
   "id": "aacc511a",
   "metadata": {},
   "outputs": [
    {
     "data": {
      "text/plain": [
       "Int32Dtype()"
      ]
     },
     "execution_count": 8,
     "metadata": {},
     "output_type": "execute_result"
    }
   ],
   "source": [
    "data.year_of_release = data.year_of_release.astype('Int32')\n",
    "# Проверим:\n",
    "data.dtypes['year_of_release']"
   ]
  },
  {
   "cell_type": "markdown",
   "id": "c0ea60b8",
   "metadata": {},
   "source": [
    "#### Столбец user_score приведем к \"float\""
   ]
  },
  {
   "cell_type": "markdown",
   "id": "dfbd4bfa",
   "metadata": {},
   "source": [
    "Со столбцом **user_score** не все так просто. В нем содержится признак **\"tbd\"**, что [означает To Be Determined, то есть \"Будет определено\".](https://fb.ru/article/171345/tbd---chto-znachit-eto-sokraschenie#:~:text=%D0%9D%D0%B0%20%D1%81%D0%B0%D0%BC%D0%BE%D0%BC%20%D0%B4%D0%B5%D0%BB%D0%B5%2C%20%D0%B7%D0%B4%D0%B5%D1%81%D1%8C,%D1%8D%D1%82%D0%BE%20%D1%81%D0%BE%D0%BA%D1%80%D0%B0%D1%89%D0%B5%D0%BD%D0%B8%D0%B5%20%D0%B8%20%D0%B8%D1%81%D0%BF%D0%BE%D0%BB%D1%8C%D0%B7%D1%83%D0%B5%D1%82%D1%81%D1%8F.) Посчитаем количество таких признаков:"
   ]
  },
  {
   "cell_type": "code",
   "execution_count": 9,
   "id": "41a784a7",
   "metadata": {
    "scrolled": true
   },
   "outputs": [
    {
     "name": "stdout",
     "output_type": "stream",
     "text": [
      "Количество строк c признаком  - \"tbd\" 2424\n",
      "Что составляет - 14.5% от данных\n"
     ]
    }
   ],
   "source": [
    "print('Количество строк c признаком  - \"tbd\"', data[data['user_score'] == 'tbd']['user_score'].count())\n",
    "print(f'Что составляет - {round((data[data[\"user_score\"] == \"tbd\"][\"user_score\"].count()*100)/(raw_data.shape[0]), 2)}% от данных')"
   ]
  },
  {
   "cell_type": "markdown",
   "id": "71ad2e54",
   "metadata": {},
   "source": [
    "Мы наблюдаем достаточно большое количество таких признаков. Но неопределенная оценка пользователей для нашего иследования равнозначна ее отсутствию. Поэтому пока заменим **\"tbd\"** на **Nan**."
   ]
  },
  {
   "cell_type": "code",
   "execution_count": 10,
   "id": "cd4784bb",
   "metadata": {},
   "outputs": [
    {
     "data": {
      "text/plain": [
       "dtype('float64')"
      ]
     },
     "execution_count": 10,
     "metadata": {},
     "output_type": "execute_result"
    }
   ],
   "source": [
    "data['user_score'] = data['user_score'].replace('tbd', None).astype('float')\n",
    "# Проверим:\n",
    "data.dtypes['user_score']"
   ]
  },
  {
   "cell_type": "markdown",
   "id": "e075b79b",
   "metadata": {},
   "source": [
    "#### Удостоверимся, что все данные преобразованы в нужные типы:"
   ]
  },
  {
   "cell_type": "code",
   "execution_count": 11,
   "id": "127c765b",
   "metadata": {},
   "outputs": [
    {
     "name": "stdout",
     "output_type": "stream",
     "text": [
      "<class 'pandas.core.frame.DataFrame'>\n",
      "RangeIndex: 16715 entries, 0 to 16714\n",
      "Data columns (total 11 columns):\n",
      " #   Column           Non-Null Count  Dtype  \n",
      "---  ------           --------------  -----  \n",
      " 0   name             16713 non-null  object \n",
      " 1   platform         16715 non-null  object \n",
      " 2   year_of_release  16446 non-null  Int32  \n",
      " 3   genre            16713 non-null  object \n",
      " 4   na_sales         16715 non-null  float64\n",
      " 5   eu_sales         16715 non-null  float64\n",
      " 6   jp_sales         16715 non-null  float64\n",
      " 7   other_sales      16715 non-null  float64\n",
      " 8   critic_score     8137 non-null   float64\n",
      " 9   user_score       7590 non-null   float64\n",
      " 10  rating           9949 non-null   object \n",
      "dtypes: Int32(1), float64(6), object(4)\n",
      "memory usage: 1.4+ MB\n"
     ]
    }
   ],
   "source": [
    "data.info()"
   ]
  },
  {
   "cell_type": "markdown",
   "id": "9e14712f",
   "metadata": {},
   "source": [
    "### Обработаем пропущенные данные и аномалии"
   ]
  },
  {
   "cell_type": "markdown",
   "id": "3bed83d2",
   "metadata": {},
   "source": [
    "#### Посмотрим на общее количество пропусков для каждого столбца:"
   ]
  },
  {
   "cell_type": "code",
   "execution_count": 12,
   "id": "e741d326",
   "metadata": {},
   "outputs": [
    {
     "data": {
      "text/plain": [
       "user_score         9125\n",
       "critic_score       8578\n",
       "rating             6766\n",
       "year_of_release     269\n",
       "name                  2\n",
       "genre                 2\n",
       "platform              0\n",
       "na_sales              0\n",
       "eu_sales              0\n",
       "jp_sales              0\n",
       "other_sales           0\n",
       "dtype: int64"
      ]
     },
     "execution_count": 12,
     "metadata": {},
     "output_type": "execute_result"
    }
   ],
   "source": [
    "data.isna().sum().sort_values(ascending=False)"
   ]
  },
  {
   "cell_type": "markdown",
   "id": "fa8902f7",
   "metadata": {},
   "source": [
    "#### Столбцы name и genre\n",
    "\n",
    "У столбцов **name** и **genre** по 2 пропуска. Возможно, это одни и те же строки. Проверим:"
   ]
  },
  {
   "cell_type": "code",
   "execution_count": 13,
   "id": "fe2d2dd6",
   "metadata": {},
   "outputs": [
    {
     "data": {
      "text/html": [
       "<div>\n",
       "<style scoped>\n",
       "    .dataframe tbody tr th:only-of-type {\n",
       "        vertical-align: middle;\n",
       "    }\n",
       "\n",
       "    .dataframe tbody tr th {\n",
       "        vertical-align: top;\n",
       "    }\n",
       "\n",
       "    .dataframe thead th {\n",
       "        text-align: right;\n",
       "    }\n",
       "</style>\n",
       "<table border=\"1\" class=\"dataframe\">\n",
       "  <thead>\n",
       "    <tr style=\"text-align: right;\">\n",
       "      <th></th>\n",
       "      <th>name</th>\n",
       "      <th>platform</th>\n",
       "      <th>year_of_release</th>\n",
       "      <th>genre</th>\n",
       "      <th>na_sales</th>\n",
       "      <th>eu_sales</th>\n",
       "      <th>jp_sales</th>\n",
       "      <th>other_sales</th>\n",
       "      <th>critic_score</th>\n",
       "      <th>user_score</th>\n",
       "      <th>rating</th>\n",
       "    </tr>\n",
       "  </thead>\n",
       "  <tbody>\n",
       "    <tr>\n",
       "      <th>659</th>\n",
       "      <td>NaN</td>\n",
       "      <td>GEN</td>\n",
       "      <td>1993</td>\n",
       "      <td>NaN</td>\n",
       "      <td>1.78</td>\n",
       "      <td>0.53</td>\n",
       "      <td>0.00</td>\n",
       "      <td>0.08</td>\n",
       "      <td>NaN</td>\n",
       "      <td>NaN</td>\n",
       "      <td>NaN</td>\n",
       "    </tr>\n",
       "    <tr>\n",
       "      <th>14244</th>\n",
       "      <td>NaN</td>\n",
       "      <td>GEN</td>\n",
       "      <td>1993</td>\n",
       "      <td>NaN</td>\n",
       "      <td>0.00</td>\n",
       "      <td>0.00</td>\n",
       "      <td>0.03</td>\n",
       "      <td>0.00</td>\n",
       "      <td>NaN</td>\n",
       "      <td>NaN</td>\n",
       "      <td>NaN</td>\n",
       "    </tr>\n",
       "  </tbody>\n",
       "</table>\n",
       "</div>"
      ],
      "text/plain": [
       "      name platform  year_of_release genre  na_sales  eu_sales  jp_sales  \\\n",
       "659    NaN      GEN             1993   NaN      1.78      0.53      0.00   \n",
       "14244  NaN      GEN             1993   NaN      0.00      0.00      0.03   \n",
       "\n",
       "       other_sales  critic_score  user_score rating  \n",
       "659           0.08           NaN         NaN    NaN  \n",
       "14244         0.00           NaN         NaN    NaN  "
      ]
     },
     "execution_count": 13,
     "metadata": {},
     "output_type": "execute_result"
    }
   ],
   "source": [
    "data[data['name'].isna()]"
   ]
  },
  {
   "cell_type": "markdown",
   "id": "0fa272cb",
   "metadata": {},
   "source": [
    "Названия нет, жанра нет, оценок тоже нет, год релиза - 1993. Все это врядли нам поможет ответить на вопросы исследования. Поэтому удалим их."
   ]
  },
  {
   "cell_type": "code",
   "execution_count": 14,
   "id": "161061c5",
   "metadata": {},
   "outputs": [
    {
     "data": {
      "text/plain": [
       "name     0\n",
       "genre    0\n",
       "dtype: int64"
      ]
     },
     "execution_count": 14,
     "metadata": {},
     "output_type": "execute_result"
    }
   ],
   "source": [
    "data.dropna(subset=['name', 'genre'], inplace=True)\n",
    "# Проверим:\n",
    "data[['name', 'genre']].isna().sum().sort_values()"
   ]
  },
  {
   "cell_type": "markdown",
   "id": "c6266b08",
   "metadata": {},
   "source": [
    "#### Посмотрим столбец year_of_release"
   ]
  },
  {
   "cell_type": "code",
   "execution_count": 15,
   "id": "232af75f",
   "metadata": {},
   "outputs": [
    {
     "name": "stdout",
     "output_type": "stream",
     "text": [
      "Количество пропусков в стобце \"year_of_release\" - 269\n",
      "Что составляет - 1.61% от данных\n"
     ]
    }
   ],
   "source": [
    "print('Количество пропусков в стобце \"year_of_release\" -',data['year_of_release'].isna().sum())\n",
    "print(f'Что составляет - {round((data[\"year_of_release\"].isna().sum()*100)/(raw_data.shape[0]), 2)}% от данных')"
   ]
  },
  {
   "cell_type": "markdown",
   "id": "8e3b1850",
   "metadata": {},
   "source": [
    "Заполнять пропущенные года выпуска игр используя внешние данные мы не будем (это не входит в текущую задачу), но попробуем заменить хотя-бы часть пропусков, годами выхода игр при совпадении названий:"
   ]
  },
  {
   "cell_type": "code",
   "execution_count": 16,
   "id": "2b789a83",
   "metadata": {},
   "outputs": [
    {
     "name": "stdout",
     "output_type": "stream",
     "text": [
      "Количество пропусков в стобце \"year_of_release\" - 146\n",
      "Что составляет - 0.87% от данных\n"
     ]
    }
   ],
   "source": [
    "for names in data[data['year_of_release'].isna()].index:\n",
    "    data['year_of_release'][names] = data.loc[data['name'] == data['name'][names], 'year_of_release'].max()\n",
    "# Проверим:\n",
    "print('Количество пропусков в стобце \"year_of_release\" -',data['year_of_release'].isna().sum())\n",
    "print(f'Что составляет - {round((data[\"year_of_release\"].isna().sum()*100)/(raw_data.shape[0]), 2)}% от данных')"
   ]
  },
  {
   "cell_type": "markdown",
   "id": "8d74ccbd",
   "metadata": {},
   "source": [
    "Осталось меньше одного процента пропущенных данных. Удалим их:"
   ]
  },
  {
   "cell_type": "code",
   "execution_count": 17,
   "id": "2efae3bd",
   "metadata": {},
   "outputs": [
    {
     "name": "stdout",
     "output_type": "stream",
     "text": [
      "Количество пропусков в стобце \"year_of_release\" - 0\n"
     ]
    }
   ],
   "source": [
    "data = data.dropna(subset=['year_of_release']).reset_index(drop=True)\n",
    "# Проверим:\n",
    "print('Количество пропусков в стобце \"year_of_release\" -',data['year_of_release'].isna().sum())"
   ]
  },
  {
   "cell_type": "markdown",
   "id": "0e449f7c",
   "metadata": {},
   "source": [
    "#### Посмотрим стобец rating"
   ]
  },
  {
   "cell_type": "markdown",
   "id": "b2e1cc22",
   "metadata": {},
   "source": [
    "Стобец **rating** — рейтинг от организации [**ESRB** (англ. Entertainment Software Rating Board).](https://ru.wikipedia.org/wiki/Entertainment_Software_Rating_Board) Эта ассоциация определяет рейтинг компьютерных игр и присваивает им подходящую возрастную категорию:\n",
    "\n",
    "- «EC» («Early childhood») — «Для детей младшего возраста»: Игра подходит для детей от 3 лет и не содержит материалов, которые родители могли бы счесть неподходящими.\n",
    "- «E» («Everyone») — «Для всех»: Содержание вполне подходит для всех возрастов. Первоначально \"K-A\" (\"Kids to Adults\"):\n",
    "- «E10+» («Everyone 10 and older») — «Для всех от 10 лет и старше». Рейтинг был принят ESRB 2 марта 2005 года.\n",
    "- «T» («Teen») — «Подросткам»: Игра подходит для лиц от 13 лет.\n",
    "- «M» («Mature») — «Для взрослых»: Материалы игры не подходят для лиц младше 17 лет.\n",
    "- «AO» («Adults Only 18+») — «Только для взрослых»: Содержание игры только для взрослых старше 18 лет.\n",
    "- «RP» («Rating Pending») — «Рейтинг ожидается»: Продукт был отправлен в ESRB и ожидает присвоения рейтинга.\n",
    "- «RP 17+» («Rating Pending») — «Рейтинг ожидается - примерно 17+»: Продукт отправлен ESRB на оценку, но примерное содержание близко к рейтингу «M». Данная маркировка была введена с 2021 г.\n",
    "\n",
    "Так как организация **ESRB** основана в 1994 году, возможно играм выпущенным ранее рейтинг не присваивался. Проверим это:"
   ]
  },
  {
   "cell_type": "code",
   "execution_count": 18,
   "id": "ad1e1a4f",
   "metadata": {},
   "outputs": [
    {
     "name": "stdout",
     "output_type": "stream",
     "text": [
      "Количество игр выпушенных до 1994 года - 365\n",
      "Количество пропущенных значений в играх выпушенных до 1994 года - 361\n"
     ]
    }
   ],
   "source": [
    "print('Количество игр выпушенных до 1994 года -', len(data.loc[data['year_of_release'] < 1994, 'rating']))\n",
    "print('Количество пропущенных значений в играх выпушенных до 1994 года -', data.loc[data['year_of_release'] < 1994, 'rating'].isna().sum())"
   ]
  },
  {
   "cell_type": "markdown",
   "id": "d0ad432d",
   "metadata": {},
   "source": [
    "В целом утверждение можно считать верным, но есть 4 игры с рейтингом. Посмотрим на них:"
   ]
  },
  {
   "cell_type": "code",
   "execution_count": 19,
   "id": "d1d72fa0",
   "metadata": {},
   "outputs": [
    {
     "data": {
      "text/html": [
       "<div>\n",
       "<style scoped>\n",
       "    .dataframe tbody tr th:only-of-type {\n",
       "        vertical-align: middle;\n",
       "    }\n",
       "\n",
       "    .dataframe tbody tr th {\n",
       "        vertical-align: top;\n",
       "    }\n",
       "\n",
       "    .dataframe thead th {\n",
       "        text-align: right;\n",
       "    }\n",
       "</style>\n",
       "<table border=\"1\" class=\"dataframe\">\n",
       "  <thead>\n",
       "    <tr style=\"text-align: right;\">\n",
       "      <th></th>\n",
       "      <th>name</th>\n",
       "      <th>platform</th>\n",
       "      <th>year_of_release</th>\n",
       "      <th>genre</th>\n",
       "      <th>na_sales</th>\n",
       "      <th>eu_sales</th>\n",
       "      <th>jp_sales</th>\n",
       "      <th>other_sales</th>\n",
       "      <th>critic_score</th>\n",
       "      <th>user_score</th>\n",
       "      <th>rating</th>\n",
       "    </tr>\n",
       "  </thead>\n",
       "  <tbody>\n",
       "    <tr>\n",
       "      <th>2597</th>\n",
       "      <td>the 7th guest</td>\n",
       "      <td>PC</td>\n",
       "      <td>1992</td>\n",
       "      <td>adventure</td>\n",
       "      <td>0.02</td>\n",
       "      <td>0.77</td>\n",
       "      <td>0.0</td>\n",
       "      <td>0.00</td>\n",
       "      <td>NaN</td>\n",
       "      <td>NaN</td>\n",
       "      <td>T</td>\n",
       "    </tr>\n",
       "    <tr>\n",
       "      <th>14347</th>\n",
       "      <td>alter ego</td>\n",
       "      <td>PC</td>\n",
       "      <td>1985</td>\n",
       "      <td>simulation</td>\n",
       "      <td>0.00</td>\n",
       "      <td>0.03</td>\n",
       "      <td>0.0</td>\n",
       "      <td>0.01</td>\n",
       "      <td>59.0</td>\n",
       "      <td>5.8</td>\n",
       "      <td>T</td>\n",
       "    </tr>\n",
       "    <tr>\n",
       "      <th>14485</th>\n",
       "      <td>doom</td>\n",
       "      <td>PC</td>\n",
       "      <td>1992</td>\n",
       "      <td>shooter</td>\n",
       "      <td>0.02</td>\n",
       "      <td>0.00</td>\n",
       "      <td>0.0</td>\n",
       "      <td>0.00</td>\n",
       "      <td>85.0</td>\n",
       "      <td>8.2</td>\n",
       "      <td>M</td>\n",
       "    </tr>\n",
       "    <tr>\n",
       "      <th>14496</th>\n",
       "      <td>simcity</td>\n",
       "      <td>PC</td>\n",
       "      <td>1988</td>\n",
       "      <td>simulation</td>\n",
       "      <td>0.00</td>\n",
       "      <td>0.02</td>\n",
       "      <td>0.0</td>\n",
       "      <td>0.01</td>\n",
       "      <td>64.0</td>\n",
       "      <td>2.2</td>\n",
       "      <td>E10+</td>\n",
       "    </tr>\n",
       "  </tbody>\n",
       "</table>\n",
       "</div>"
      ],
      "text/plain": [
       "                name platform  year_of_release       genre  na_sales  \\\n",
       "2597   the 7th guest       PC             1992   adventure      0.02   \n",
       "14347      alter ego       PC             1985  simulation      0.00   \n",
       "14485           doom       PC             1992     shooter      0.02   \n",
       "14496        simcity       PC             1988  simulation      0.00   \n",
       "\n",
       "       eu_sales  jp_sales  other_sales  critic_score  user_score rating  \n",
       "2597       0.77       0.0         0.00           NaN         NaN      T  \n",
       "14347      0.03       0.0         0.01          59.0         5.8      T  \n",
       "14485      0.00       0.0         0.00          85.0         8.2      M  \n",
       "14496      0.02       0.0         0.01          64.0         2.2   E10+  "
      ]
     },
     "execution_count": 19,
     "metadata": {},
     "output_type": "execute_result"
    }
   ],
   "source": [
    "data.loc[(data['year_of_release'] < 1994) & (~data['rating'].isna())]"
   ]
  },
  {
   "cell_type": "markdown",
   "id": "7f5b0fc5",
   "metadata": {},
   "source": [
    "Для игр **Doom, The 7th Guest и Alter Ego** рейтинг справедливый, они скорее всего издавались после 1994 года и могли получить рейтинг ESRB. А вот рейтинг **E10+** был принят 2 марта 2005 года, и получение его **Simcity**  1988 года выпуска настораживает. Но эти годы выпуска игр не относятся к актуальному периоду для нашего исследования, поэтому оставим все как есть.\n",
    "\n",
    "Посмотрим уникальные значения в стобце **rating:**"
   ]
  },
  {
   "cell_type": "code",
   "execution_count": 20,
   "id": "5e22d6b5",
   "metadata": {},
   "outputs": [
    {
     "data": {
      "text/plain": [
       "array(['E', nan, 'M', 'T', 'E10+', 'K-A', 'AO', 'EC', 'RP'], dtype=object)"
      ]
     },
     "execution_count": 20,
     "metadata": {},
     "output_type": "execute_result"
    }
   ],
   "source": [
    "data['rating'].unique()"
   ]
  },
  {
   "cell_type": "markdown",
   "id": "e7be7dfd",
   "metadata": {},
   "source": [
    "Заменим рейтинг **K-A** на **E**, так как **E** это новое название рейтинга **K-A**:"
   ]
  },
  {
   "cell_type": "code",
   "execution_count": 21,
   "id": "a3c24a81",
   "metadata": {},
   "outputs": [
    {
     "data": {
      "text/plain": [
       "array(['E', nan, 'M', 'T', 'E10+', 'AO', 'EC', 'RP'], dtype=object)"
      ]
     },
     "execution_count": 21,
     "metadata": {},
     "output_type": "execute_result"
    }
   ],
   "source": [
    "data.loc[data['rating'] == 'K-A', 'rating'] = 'E'\n",
    "# Проверим:\n",
    "data['rating'].unique()"
   ]
  },
  {
   "cell_type": "markdown",
   "id": "a199c532",
   "metadata": {},
   "source": [
    "Посмотрим пропуски в **rating**"
   ]
  },
  {
   "cell_type": "code",
   "execution_count": 22,
   "id": "e3720365",
   "metadata": {},
   "outputs": [
    {
     "name": "stdout",
     "output_type": "stream",
     "text": [
      "Количество пропусков в стобце \"rating\" - 6699\n",
      "Что составляет - 40.08% от данных\n"
     ]
    }
   ],
   "source": [
    "print('Количество пропусков в стобце \"rating\" -',data['rating'].isna().sum())\n",
    "print(f'Что составляет - {round((data[\"rating\"].isna().sum()*100)/(raw_data.shape[0]), 2)}% от данных')"
   ]
  },
  {
   "cell_type": "markdown",
   "id": "e2fda282",
   "metadata": {},
   "source": [
    "Поскольку **rating** - категориальные данные и присваивает их ESRB, заполним отсутствующие значения **N_R** (No Rating)"
   ]
  },
  {
   "cell_type": "code",
   "execution_count": 23,
   "id": "f5d8da04",
   "metadata": {},
   "outputs": [
    {
     "name": "stdout",
     "output_type": "stream",
     "text": [
      "Количество пропусков в стобце \"rating\" - 0\n"
     ]
    }
   ],
   "source": [
    "data['rating'] = data['rating'].fillna('NR')\n",
    "# Проверим:\n",
    "print('Количество пропусков в стобце \"rating\" -',data['rating'].isna().sum())"
   ]
  },
  {
   "cell_type": "markdown",
   "id": "583792df",
   "metadata": {},
   "source": [
    "#### Посмотрим critic_score и  user_score"
   ]
  },
  {
   "cell_type": "markdown",
   "id": "9634b53a",
   "metadata": {},
   "source": [
    "**critic_score**"
   ]
  },
  {
   "cell_type": "code",
   "execution_count": 24,
   "id": "ab45a539",
   "metadata": {},
   "outputs": [
    {
     "name": "stdout",
     "output_type": "stream",
     "text": [
      "Количество пропусков в стобце \"critic_score\" - 8492\n",
      "Что составляет - 50.8% от данных\n"
     ]
    }
   ],
   "source": [
    "print('Количество пропусков в стобце \"critic_score\" -',data['critic_score'].isna().sum())\n",
    "print(f'Что составляет - {round((data[\"critic_score\"].isna().sum()*100)/(raw_data.shape[0]), 2)}% от данных')"
   ]
  },
  {
   "cell_type": "code",
   "execution_count": 25,
   "id": "7c160b6e",
   "metadata": {},
   "outputs": [
    {
     "data": {
      "text/plain": [
       "count    8075.000000\n",
       "mean       68.991950\n",
       "std        13.923383\n",
       "min        13.000000\n",
       "25%        60.000000\n",
       "50%        71.000000\n",
       "75%        79.000000\n",
       "max        98.000000\n",
       "Name: critic_score, dtype: float64"
      ]
     },
     "execution_count": 25,
     "metadata": {},
     "output_type": "execute_result"
    }
   ],
   "source": [
    "data['critic_score'].describe()"
   ]
  },
  {
   "cell_type": "markdown",
   "id": "362428d4",
   "metadata": {},
   "source": [
    "**user_score**"
   ]
  },
  {
   "cell_type": "code",
   "execution_count": 26,
   "id": "81ab005b",
   "metadata": {},
   "outputs": [
    {
     "name": "stdout",
     "output_type": "stream",
     "text": [
      "Количество пропусков в стобце \"user_score\" - 9027\n",
      "Что составляет - 54.01% от данных\n"
     ]
    }
   ],
   "source": [
    "print('Количество пропусков в стобце \"user_score\" -',data['user_score'].isna().sum())\n",
    "print(f'Что составляет - {round((data[\"user_score\"].isna().sum()*100)/(raw_data.shape[0]), 2)}% от данных')"
   ]
  },
  {
   "cell_type": "code",
   "execution_count": 27,
   "id": "d7bebe5d",
   "metadata": {},
   "outputs": [
    {
     "data": {
      "text/plain": [
       "count    7540.000000\n",
       "mean        7.125027\n",
       "std         1.498254\n",
       "min         0.000000\n",
       "25%         6.400000\n",
       "50%         7.500000\n",
       "75%         8.200000\n",
       "max         9.700000\n",
       "Name: user_score, dtype: float64"
      ]
     },
     "execution_count": 27,
     "metadata": {},
     "output_type": "execute_result"
    }
   ],
   "source": [
    "data['user_score'].describe()"
   ]
  },
  {
   "cell_type": "markdown",
   "id": "412a98f6",
   "metadata": {},
   "source": [
    "**critic_score** и **user_score** -  оценочные данные. Мы не можем заменить их на среднее или медиану. Диапазоны данных соответвуют описанию: **critic_score** (0:100), **user_score** (0:10). Пропуски в этих признаках могут быть вызваны как отсутвием оценок для ранних игр, так и множеством факторов связанных со сроком жизни и популярностью разных игровых платформ и сроком жизни и популярностью самих игр. Оставим данные как есть. "
   ]
  },
  {
   "cell_type": "markdown",
   "id": "ade9bf8c",
   "metadata": {},
   "source": [
    "#### Посмотрим на предобработанный датафрейм:"
   ]
  },
  {
   "cell_type": "code",
   "execution_count": 28,
   "id": "7ee9685c",
   "metadata": {},
   "outputs": [
    {
     "name": "stdout",
     "output_type": "stream",
     "text": [
      "<class 'pandas.core.frame.DataFrame'>\n",
      "RangeIndex: 16567 entries, 0 to 16566\n",
      "Data columns (total 11 columns):\n",
      " #   Column           Non-Null Count  Dtype  \n",
      "---  ------           --------------  -----  \n",
      " 0   name             16567 non-null  object \n",
      " 1   platform         16567 non-null  object \n",
      " 2   year_of_release  16567 non-null  Int32  \n",
      " 3   genre            16567 non-null  object \n",
      " 4   na_sales         16567 non-null  float64\n",
      " 5   eu_sales         16567 non-null  float64\n",
      " 6   jp_sales         16567 non-null  float64\n",
      " 7   other_sales      16567 non-null  float64\n",
      " 8   critic_score     8075 non-null   float64\n",
      " 9   user_score       7540 non-null   float64\n",
      " 10  rating           16567 non-null  object \n",
      "dtypes: Int32(1), float64(6), object(4)\n",
      "memory usage: 1.3+ MB\n"
     ]
    }
   ],
   "source": [
    "data.info()"
   ]
  },
  {
   "cell_type": "code",
   "execution_count": 29,
   "id": "a7409d60",
   "metadata": {},
   "outputs": [
    {
     "name": "stdout",
     "output_type": "stream",
     "text": [
      "От основного датафрейма осталось - 99.11% данных\n"
     ]
    }
   ],
   "source": [
    "print(f'От основного датафрейма осталось - {round((len(data)*100)/(raw_data.shape[0]), 2)}% данных')"
   ]
  },
  {
   "cell_type": "markdown",
   "id": "64dbff82",
   "metadata": {},
   "source": [
    "### Посчитаем суммарные продажи во всех регионах и запишем их в отдельный столбец"
   ]
  },
  {
   "cell_type": "code",
   "execution_count": 30,
   "id": "ddfb150c",
   "metadata": {
    "scrolled": true
   },
   "outputs": [
    {
     "data": {
      "text/html": [
       "<div>\n",
       "<style scoped>\n",
       "    .dataframe tbody tr th:only-of-type {\n",
       "        vertical-align: middle;\n",
       "    }\n",
       "\n",
       "    .dataframe tbody tr th {\n",
       "        vertical-align: top;\n",
       "    }\n",
       "\n",
       "    .dataframe thead th {\n",
       "        text-align: right;\n",
       "    }\n",
       "</style>\n",
       "<table border=\"1\" class=\"dataframe\">\n",
       "  <thead>\n",
       "    <tr style=\"text-align: right;\">\n",
       "      <th></th>\n",
       "      <th>name</th>\n",
       "      <th>platform</th>\n",
       "      <th>year_of_release</th>\n",
       "      <th>genre</th>\n",
       "      <th>na_sales</th>\n",
       "      <th>eu_sales</th>\n",
       "      <th>jp_sales</th>\n",
       "      <th>other_sales</th>\n",
       "      <th>critic_score</th>\n",
       "      <th>user_score</th>\n",
       "      <th>rating</th>\n",
       "      <th>total_sales</th>\n",
       "    </tr>\n",
       "  </thead>\n",
       "  <tbody>\n",
       "    <tr>\n",
       "      <th>0</th>\n",
       "      <td>wii sports</td>\n",
       "      <td>Wii</td>\n",
       "      <td>2006</td>\n",
       "      <td>sports</td>\n",
       "      <td>41.36</td>\n",
       "      <td>28.96</td>\n",
       "      <td>3.77</td>\n",
       "      <td>8.45</td>\n",
       "      <td>76.0</td>\n",
       "      <td>8.0</td>\n",
       "      <td>E</td>\n",
       "      <td>82.54</td>\n",
       "    </tr>\n",
       "    <tr>\n",
       "      <th>1</th>\n",
       "      <td>super mario bros.</td>\n",
       "      <td>NES</td>\n",
       "      <td>1985</td>\n",
       "      <td>platform</td>\n",
       "      <td>29.08</td>\n",
       "      <td>3.58</td>\n",
       "      <td>6.81</td>\n",
       "      <td>0.77</td>\n",
       "      <td>NaN</td>\n",
       "      <td>NaN</td>\n",
       "      <td>NR</td>\n",
       "      <td>40.24</td>\n",
       "    </tr>\n",
       "    <tr>\n",
       "      <th>2</th>\n",
       "      <td>mario kart wii</td>\n",
       "      <td>Wii</td>\n",
       "      <td>2008</td>\n",
       "      <td>racing</td>\n",
       "      <td>15.68</td>\n",
       "      <td>12.76</td>\n",
       "      <td>3.79</td>\n",
       "      <td>3.29</td>\n",
       "      <td>82.0</td>\n",
       "      <td>8.3</td>\n",
       "      <td>E</td>\n",
       "      <td>35.52</td>\n",
       "    </tr>\n",
       "    <tr>\n",
       "      <th>3</th>\n",
       "      <td>wii sports resort</td>\n",
       "      <td>Wii</td>\n",
       "      <td>2009</td>\n",
       "      <td>sports</td>\n",
       "      <td>15.61</td>\n",
       "      <td>10.93</td>\n",
       "      <td>3.28</td>\n",
       "      <td>2.95</td>\n",
       "      <td>80.0</td>\n",
       "      <td>8.0</td>\n",
       "      <td>E</td>\n",
       "      <td>32.77</td>\n",
       "    </tr>\n",
       "    <tr>\n",
       "      <th>4</th>\n",
       "      <td>pokemon red/pokemon blue</td>\n",
       "      <td>GB</td>\n",
       "      <td>1996</td>\n",
       "      <td>role-playing</td>\n",
       "      <td>11.27</td>\n",
       "      <td>8.89</td>\n",
       "      <td>10.22</td>\n",
       "      <td>1.00</td>\n",
       "      <td>NaN</td>\n",
       "      <td>NaN</td>\n",
       "      <td>NR</td>\n",
       "      <td>31.38</td>\n",
       "    </tr>\n",
       "  </tbody>\n",
       "</table>\n",
       "</div>"
      ],
      "text/plain": [
       "                       name platform  year_of_release         genre  na_sales  \\\n",
       "0                wii sports      Wii             2006        sports     41.36   \n",
       "1         super mario bros.      NES             1985      platform     29.08   \n",
       "2            mario kart wii      Wii             2008        racing     15.68   \n",
       "3         wii sports resort      Wii             2009        sports     15.61   \n",
       "4  pokemon red/pokemon blue       GB             1996  role-playing     11.27   \n",
       "\n",
       "   eu_sales  jp_sales  other_sales  critic_score  user_score rating  \\\n",
       "0     28.96      3.77         8.45          76.0         8.0      E   \n",
       "1      3.58      6.81         0.77           NaN         NaN     NR   \n",
       "2     12.76      3.79         3.29          82.0         8.3      E   \n",
       "3     10.93      3.28         2.95          80.0         8.0      E   \n",
       "4      8.89     10.22         1.00           NaN         NaN     NR   \n",
       "\n",
       "   total_sales  \n",
       "0        82.54  \n",
       "1        40.24  \n",
       "2        35.52  \n",
       "3        32.77  \n",
       "4        31.38  "
      ]
     },
     "execution_count": 30,
     "metadata": {},
     "output_type": "execute_result"
    }
   ],
   "source": [
    "data['total_sales'] = data['na_sales'] + data['eu_sales'] + data['jp_sales'] + data['other_sales']\n",
    "# Проверим:\n",
    "data.head()"
   ]
  },
  {
   "cell_type": "markdown",
   "id": "d4d70f5b",
   "metadata": {},
   "source": [
    "### Выводы:"
   ]
  },
  {
   "cell_type": "markdown",
   "id": "0d123f3e",
   "metadata": {},
   "source": [
    "- Были приведены к \"зминому стилю\" названия столбцов и данные в столбцах **genre и name.**\n",
    "- Столбец **year_of_release** приведен к **\"int\".**\n",
    "- Столбец **user_score** приведем к **\"float\".**\n",
    "- Заменена на **NaN** аббревиатура **'tbd'** в столбце с оценкой пользователей.\n",
    "- В столбцах **name и genre** удалены пропущенные значения.\n",
    "- Заполнены часть пропусков в столбце **year_of_release**, остальные удалены.\n",
    "- Заполнены пропуски в столбце **rating** и заменен  рейтинг **K-A на E**.\n",
    "- Столбцы **critic_score и user_score** описаны и оставлены без изменения в связи с невозможностью заполнить в них пропуски.\n",
    "- При предобработке данных осталось 99.11% данных.\n",
    "- Посчитаны суммарные продажи во всех регионах и записаны в отдельный столбец."
   ]
  },
  {
   "cell_type": "markdown",
   "id": "37819c08",
   "metadata": {},
   "source": [
    "## Исследовательский анализ данных"
   ]
  },
  {
   "cell_type": "markdown",
   "id": "ebe8b963",
   "metadata": {},
   "source": [
    "### Посмотрим на датафрейм:"
   ]
  },
  {
   "cell_type": "code",
   "execution_count": 31,
   "id": "cb232d5b",
   "metadata": {},
   "outputs": [
    {
     "data": {
      "text/html": [
       "<div>\n",
       "<style scoped>\n",
       "    .dataframe tbody tr th:only-of-type {\n",
       "        vertical-align: middle;\n",
       "    }\n",
       "\n",
       "    .dataframe tbody tr th {\n",
       "        vertical-align: top;\n",
       "    }\n",
       "\n",
       "    .dataframe thead th {\n",
       "        text-align: right;\n",
       "    }\n",
       "</style>\n",
       "<table border=\"1\" class=\"dataframe\">\n",
       "  <thead>\n",
       "    <tr style=\"text-align: right;\">\n",
       "      <th></th>\n",
       "      <th>name</th>\n",
       "      <th>platform</th>\n",
       "      <th>year_of_release</th>\n",
       "      <th>genre</th>\n",
       "      <th>na_sales</th>\n",
       "      <th>eu_sales</th>\n",
       "      <th>jp_sales</th>\n",
       "      <th>other_sales</th>\n",
       "      <th>critic_score</th>\n",
       "      <th>user_score</th>\n",
       "      <th>rating</th>\n",
       "      <th>total_sales</th>\n",
       "    </tr>\n",
       "  </thead>\n",
       "  <tbody>\n",
       "    <tr>\n",
       "      <th>0</th>\n",
       "      <td>wii sports</td>\n",
       "      <td>Wii</td>\n",
       "      <td>2006</td>\n",
       "      <td>sports</td>\n",
       "      <td>41.36</td>\n",
       "      <td>28.96</td>\n",
       "      <td>3.77</td>\n",
       "      <td>8.45</td>\n",
       "      <td>76.0</td>\n",
       "      <td>8.0</td>\n",
       "      <td>E</td>\n",
       "      <td>82.54</td>\n",
       "    </tr>\n",
       "    <tr>\n",
       "      <th>1</th>\n",
       "      <td>super mario bros.</td>\n",
       "      <td>NES</td>\n",
       "      <td>1985</td>\n",
       "      <td>platform</td>\n",
       "      <td>29.08</td>\n",
       "      <td>3.58</td>\n",
       "      <td>6.81</td>\n",
       "      <td>0.77</td>\n",
       "      <td>NaN</td>\n",
       "      <td>NaN</td>\n",
       "      <td>NR</td>\n",
       "      <td>40.24</td>\n",
       "    </tr>\n",
       "    <tr>\n",
       "      <th>2</th>\n",
       "      <td>mario kart wii</td>\n",
       "      <td>Wii</td>\n",
       "      <td>2008</td>\n",
       "      <td>racing</td>\n",
       "      <td>15.68</td>\n",
       "      <td>12.76</td>\n",
       "      <td>3.79</td>\n",
       "      <td>3.29</td>\n",
       "      <td>82.0</td>\n",
       "      <td>8.3</td>\n",
       "      <td>E</td>\n",
       "      <td>35.52</td>\n",
       "    </tr>\n",
       "    <tr>\n",
       "      <th>3</th>\n",
       "      <td>wii sports resort</td>\n",
       "      <td>Wii</td>\n",
       "      <td>2009</td>\n",
       "      <td>sports</td>\n",
       "      <td>15.61</td>\n",
       "      <td>10.93</td>\n",
       "      <td>3.28</td>\n",
       "      <td>2.95</td>\n",
       "      <td>80.0</td>\n",
       "      <td>8.0</td>\n",
       "      <td>E</td>\n",
       "      <td>32.77</td>\n",
       "    </tr>\n",
       "    <tr>\n",
       "      <th>4</th>\n",
       "      <td>pokemon red/pokemon blue</td>\n",
       "      <td>GB</td>\n",
       "      <td>1996</td>\n",
       "      <td>role-playing</td>\n",
       "      <td>11.27</td>\n",
       "      <td>8.89</td>\n",
       "      <td>10.22</td>\n",
       "      <td>1.00</td>\n",
       "      <td>NaN</td>\n",
       "      <td>NaN</td>\n",
       "      <td>NR</td>\n",
       "      <td>31.38</td>\n",
       "    </tr>\n",
       "    <tr>\n",
       "      <th>5</th>\n",
       "      <td>tetris</td>\n",
       "      <td>GB</td>\n",
       "      <td>1989</td>\n",
       "      <td>puzzle</td>\n",
       "      <td>23.20</td>\n",
       "      <td>2.26</td>\n",
       "      <td>4.22</td>\n",
       "      <td>0.58</td>\n",
       "      <td>NaN</td>\n",
       "      <td>NaN</td>\n",
       "      <td>NR</td>\n",
       "      <td>30.26</td>\n",
       "    </tr>\n",
       "    <tr>\n",
       "      <th>6</th>\n",
       "      <td>new super mario bros.</td>\n",
       "      <td>DS</td>\n",
       "      <td>2006</td>\n",
       "      <td>platform</td>\n",
       "      <td>11.28</td>\n",
       "      <td>9.14</td>\n",
       "      <td>6.50</td>\n",
       "      <td>2.88</td>\n",
       "      <td>89.0</td>\n",
       "      <td>8.5</td>\n",
       "      <td>E</td>\n",
       "      <td>29.80</td>\n",
       "    </tr>\n",
       "    <tr>\n",
       "      <th>7</th>\n",
       "      <td>wii play</td>\n",
       "      <td>Wii</td>\n",
       "      <td>2006</td>\n",
       "      <td>misc</td>\n",
       "      <td>13.96</td>\n",
       "      <td>9.18</td>\n",
       "      <td>2.93</td>\n",
       "      <td>2.84</td>\n",
       "      <td>58.0</td>\n",
       "      <td>6.6</td>\n",
       "      <td>E</td>\n",
       "      <td>28.91</td>\n",
       "    </tr>\n",
       "    <tr>\n",
       "      <th>8</th>\n",
       "      <td>new super mario bros. wii</td>\n",
       "      <td>Wii</td>\n",
       "      <td>2009</td>\n",
       "      <td>platform</td>\n",
       "      <td>14.44</td>\n",
       "      <td>6.94</td>\n",
       "      <td>4.70</td>\n",
       "      <td>2.24</td>\n",
       "      <td>87.0</td>\n",
       "      <td>8.4</td>\n",
       "      <td>E</td>\n",
       "      <td>28.32</td>\n",
       "    </tr>\n",
       "    <tr>\n",
       "      <th>9</th>\n",
       "      <td>duck hunt</td>\n",
       "      <td>NES</td>\n",
       "      <td>1984</td>\n",
       "      <td>shooter</td>\n",
       "      <td>26.93</td>\n",
       "      <td>0.63</td>\n",
       "      <td>0.28</td>\n",
       "      <td>0.47</td>\n",
       "      <td>NaN</td>\n",
       "      <td>NaN</td>\n",
       "      <td>NR</td>\n",
       "      <td>28.31</td>\n",
       "    </tr>\n",
       "  </tbody>\n",
       "</table>\n",
       "</div>"
      ],
      "text/plain": [
       "                        name platform  year_of_release         genre  \\\n",
       "0                 wii sports      Wii             2006        sports   \n",
       "1          super mario bros.      NES             1985      platform   \n",
       "2             mario kart wii      Wii             2008        racing   \n",
       "3          wii sports resort      Wii             2009        sports   \n",
       "4   pokemon red/pokemon blue       GB             1996  role-playing   \n",
       "5                     tetris       GB             1989        puzzle   \n",
       "6      new super mario bros.       DS             2006      platform   \n",
       "7                   wii play      Wii             2006          misc   \n",
       "8  new super mario bros. wii      Wii             2009      platform   \n",
       "9                  duck hunt      NES             1984       shooter   \n",
       "\n",
       "   na_sales  eu_sales  jp_sales  other_sales  critic_score  user_score rating  \\\n",
       "0     41.36     28.96      3.77         8.45          76.0         8.0      E   \n",
       "1     29.08      3.58      6.81         0.77           NaN         NaN     NR   \n",
       "2     15.68     12.76      3.79         3.29          82.0         8.3      E   \n",
       "3     15.61     10.93      3.28         2.95          80.0         8.0      E   \n",
       "4     11.27      8.89     10.22         1.00           NaN         NaN     NR   \n",
       "5     23.20      2.26      4.22         0.58           NaN         NaN     NR   \n",
       "6     11.28      9.14      6.50         2.88          89.0         8.5      E   \n",
       "7     13.96      9.18      2.93         2.84          58.0         6.6      E   \n",
       "8     14.44      6.94      4.70         2.24          87.0         8.4      E   \n",
       "9     26.93      0.63      0.28         0.47           NaN         NaN     NR   \n",
       "\n",
       "   total_sales  \n",
       "0        82.54  \n",
       "1        40.24  \n",
       "2        35.52  \n",
       "3        32.77  \n",
       "4        31.38  \n",
       "5        30.26  \n",
       "6        29.80  \n",
       "7        28.91  \n",
       "8        28.32  \n",
       "9        28.31  "
      ]
     },
     "execution_count": 31,
     "metadata": {},
     "output_type": "execute_result"
    }
   ],
   "source": [
    "data.head(10)"
   ]
  },
  {
   "cell_type": "markdown",
   "id": "b37d1c2d",
   "metadata": {},
   "source": [
    "### Посмотрим, сколько игр выпускалось в разные годы. Важны ли данные за все периоды?"
   ]
  },
  {
   "cell_type": "code",
   "execution_count": 32,
   "id": "57c32fd3",
   "metadata": {},
   "outputs": [
    {
     "data": {
      "image/png": "[encoded data removed]",
      "text/plain": [
       "<Figure size 864x432 with 1 Axes>"
      ]
     },
     "metadata": {
      "needs_background": "light"
     },
     "output_type": "display_data"
    }
   ],
   "source": [
    "data.groupby('year_of_release')['name'].count().plot(kind='bar', grid=True, figsize=(12,6))\n",
    "plt.xlabel('Год выпуска', fontsize=15)\n",
    "plt.ylabel('Количество проданных игр, млн копий', fontsize=15)\n",
    "plt.title('Количество выпущенных игр в разные годы', fontsize=20);"
   ]
  },
  {
   "cell_type": "markdown",
   "id": "e9019bb3",
   "metadata": {},
   "source": [
    "**Из графика мы видим переодичность в развитии игровой индустрии в +- 10 лет:**\n",
    "- с 1980 по 1990 годы персональные компьютеры и другие игровые платформы только зарождаются, поэтому продажи минимально низкие по сравнению с остальными периодами.\n",
    "- с 1991 по 2001 год наблюдается рост продаж, что связанно с развитием технологий, появлением игровых консолей и как следствие увеличением количества выпускаемых игр.\n",
    "- с 2002 по 2009 год продается больше всего игр. Это связанно с популяризацией видеоигр, как досуга. У игровых платформ образовалась своя постоянная аудитория и появилось большое количество разработчиков.\n",
    "- Резкое падение продаж с 2010 по 2012 годы вызвано в первую всемирным экономическим кризисом, который не мог не отразиться на игровой индустрии. А также с развитием технологий, игры стали разрабатываться гораздо дольше, что тоже повлияло на количесво продаж. Нельзя забывать по онлайн игры, распространяющиеся бесплатно или условно-бесплатно, которые перетянули на себя львиную часть рынка.\n",
    "- с 2013 по 2016 год, наблюдаем стабилизацию игрового рынка и **этот период нам больше всего интересен для исследования.**"
   ]
  },
  {
   "cell_type": "markdown",
   "id": "85afb119",
   "metadata": {},
   "source": [
    "### Посмотрим, как менялись продажи по платформам. Выберем платформы с наибольшими суммарными продажами и построим распределение по годам. Определим, за какой характерный срок появляются новые и исчезают старые платформы?"
   ]
  },
  {
   "cell_type": "markdown",
   "id": "7595edad",
   "metadata": {},
   "source": [
    "#### Выберем платформы с наибольшими суммарными продажами и построем распределение по годам."
   ]
  },
  {
   "cell_type": "code",
   "execution_count": 33,
   "id": "fdef01e3",
   "metadata": {
    "scrolled": true
   },
   "outputs": [
    {
     "data": {
      "text/html": [
       "<div>\n",
       "<style scoped>\n",
       "    .dataframe tbody tr th:only-of-type {\n",
       "        vertical-align: middle;\n",
       "    }\n",
       "\n",
       "    .dataframe tbody tr th {\n",
       "        vertical-align: top;\n",
       "    }\n",
       "\n",
       "    .dataframe thead th {\n",
       "        text-align: right;\n",
       "    }\n",
       "</style>\n",
       "<table border=\"1\" class=\"dataframe\">\n",
       "  <thead>\n",
       "    <tr style=\"text-align: right;\">\n",
       "      <th></th>\n",
       "      <th>total_sales</th>\n",
       "    </tr>\n",
       "    <tr>\n",
       "      <th>platform</th>\n",
       "      <th></th>\n",
       "    </tr>\n",
       "  </thead>\n",
       "  <tbody>\n",
       "    <tr>\n",
       "      <th>PS2</th>\n",
       "      <td>1247.16</td>\n",
       "    </tr>\n",
       "    <tr>\n",
       "      <th>X360</th>\n",
       "      <td>966.61</td>\n",
       "    </tr>\n",
       "    <tr>\n",
       "      <th>PS3</th>\n",
       "      <td>935.19</td>\n",
       "    </tr>\n",
       "    <tr>\n",
       "      <th>Wii</th>\n",
       "      <td>903.31</td>\n",
       "    </tr>\n",
       "    <tr>\n",
       "      <th>DS</th>\n",
       "      <td>804.28</td>\n",
       "    </tr>\n",
       "    <tr>\n",
       "      <th>PS</th>\n",
       "      <td>727.58</td>\n",
       "    </tr>\n",
       "    <tr>\n",
       "      <th>PS4</th>\n",
       "      <td>314.14</td>\n",
       "    </tr>\n",
       "    <tr>\n",
       "      <th>GBA</th>\n",
       "      <td>313.73</td>\n",
       "    </tr>\n",
       "    <tr>\n",
       "      <th>PSP</th>\n",
       "      <td>293.57</td>\n",
       "    </tr>\n",
       "    <tr>\n",
       "      <th>PC</th>\n",
       "      <td>258.86</td>\n",
       "    </tr>\n",
       "  </tbody>\n",
       "</table>\n",
       "</div>"
      ],
      "text/plain": [
       "          total_sales\n",
       "platform             \n",
       "PS2           1247.16\n",
       "X360           966.61\n",
       "PS3            935.19\n",
       "Wii            903.31\n",
       "DS             804.28\n",
       "PS             727.58\n",
       "PS4            314.14\n",
       "GBA            313.73\n",
       "PSP            293.57\n",
       "PC             258.86"
      ]
     },
     "execution_count": 33,
     "metadata": {},
     "output_type": "execute_result"
    }
   ],
   "source": [
    "# Создадим датафрейм с 10 платформами с наибольшими суммарными продажами:\n",
    "top_game_gear = (\n",
    "    data.pivot_table(index='platform', values='total_sales', aggfunc='sum')\n",
    "    .sort_values(by = 'total_sales', ascending = False)\n",
    "    .head(10)\n",
    ")\n",
    "top_game_gear"
   ]
  },
  {
   "cell_type": "markdown",
   "id": "352fe32f",
   "metadata": {},
   "source": [
    "Из таблицы видно, что **PS2, X360, PS3, Wii, DS и PS** превосходят остальные платформы по суммарным продажам:\n",
    "- между продажами игр на платформах **PS и PS4** разрыв более, чем в 2 раза."
   ]
  },
  {
   "cell_type": "markdown",
   "id": "fbe516d7",
   "metadata": {},
   "source": [
    "#### Построим распределение по годам для платформ с наибольшими суммарными продажами:"
   ]
  },
  {
   "cell_type": "code",
   "execution_count": 34,
   "id": "06155cdb",
   "metadata": {
    "scrolled": false
   },
   "outputs": [
    {
     "data": {
      "image/png": "[encoded data removed]",
      "text/plain": [
       "<Figure size 1152x576 with 1 Axes>"
      ]
     },
     "metadata": {
      "needs_background": "light"
     },
     "output_type": "display_data"
    }
   ],
   "source": [
    "# Создадим список с платформами с наибольшими суммарными продажами:\n",
    "top_game_gear_list= top_game_gear.head(6).index.values.tolist ()\n",
    "# Сделаем срез данных для платформ с наибольшими суммарными продажами::\n",
    "top_game_gear_df = data.query('platform == @top_game_gear_list')\n",
    "# Построим график:\n",
    "top_game_gear_df.pivot_table(\n",
    "    index = ['year_of_release'],\n",
    "    columns = ['platform'],\n",
    "    values = ['total_sales'],\n",
    "    aggfunc =  ['sum']).plot(kind='line', grid=True, figsize=(16,8), linestyle='-', marker='o', xticks=range(1984, 2017,1))\n",
    "plt.xlabel('Год выпуска', fontsize=15)\n",
    "plt.ylabel('Количество проданных игр, млн копий', fontsize=15)\n",
    "plt.title('Распределение по годам для платформ с наибольшими суммарными продажами', fontsize=20);"
   ]
  },
  {
   "cell_type": "markdown",
   "id": "b19ce289",
   "metadata": {},
   "source": [
    "Из графика видно, что \"время жизни\" игровой платформы составляет примерно 9 лет. Также видны \"жизненные циклы\" платформы: резкий рост, один - два пика и спад. А еще мы видим аномалию в виде игры или игр выпущеных для платфомы **DS** в 1985 году. Хотя [Nintendo DS была выпущена в продажу в 2004 году.](https://ru.wikipedia.org/wiki/Nintendo_DS#:~:text=Nintendo%20DS%20(%D1%8F%D0%BF.%20%E3%83%8B%E3%83%B3%E3%83%86%E3%83%B3%E3%83%89%E3%83%BCDS%20%D0%9D%D0%B8%D0%BD%D1%82%D1%8D%D0%BD%D0%B4%D0%BE%3A%20DS%2C%20%D1%81%D0%BE%D0%BA%D1%80%D0%B0%D1%89%D1%91%D0%BD%D0%BD%D0%BE%20NDS%20%D0%BB%D0%B8%D0%B1%D0%BE%20DS)%C2%A0%E2%80%94%20%D1%81%D0%BB%D0%B5%D0%B4%D1%83%D1%8E%D1%89%D0%B5%D0%B5%20%D0%BF%D0%BE%D0%BA%D0%BE%D0%BB%D0%B5%D0%BD%D0%B8%D0%B5%20%D0%BA%D0%B0%D1%80%D0%BC%D0%B0%D0%BD%D0%BD%D1%8B%D1%85%20%D0%B8%D0%B3%D1%80%D0%BE%D0%B2%D1%8B%D1%85%20%D0%BA%D0%BE%D0%BD%D1%81%D0%BE%D0%BB%D0%B5%D0%B9%20%D0%BA%D0%BE%D0%BC%D0%BF%D0%B0%D0%BD%D0%B8%D0%B8%20Nintendo%20%D0%BF%D0%BE%D1%81%D0%BB%D0%B5%20Game%20Boy%20Advance%20SP.%20%D0%9A%D0%BE%D0%BD%D1%81%D0%BE%D0%BB%D1%8C%20%D0%B1%D1%8B%D0%BB%D0%B0%20%D0%B2%D1%8B%D0%BF%D1%83%D1%89%D0%B5%D0%BD%D0%B0%20%D0%B2%202004%20%D0%B3%D0%BE%D0%B4%D1%83%20%D0%B2%20%D0%9A%D0%B0%D0%BD%D0%B0%D0%B4%D0%B5%2C%20%D0%A1%D0%A8%D0%90%20%D0%B8%20%D0%AF%D0%BF%D0%BE%D0%BD%D0%B8%D0%B8.) Проверим:"
   ]
  },
  {
   "cell_type": "code",
   "execution_count": 35,
   "id": "ab9cda75",
   "metadata": {},
   "outputs": [
    {
     "data": {
      "text/html": [
       "<div>\n",
       "<style scoped>\n",
       "    .dataframe tbody tr th:only-of-type {\n",
       "        vertical-align: middle;\n",
       "    }\n",
       "\n",
       "    .dataframe tbody tr th {\n",
       "        vertical-align: top;\n",
       "    }\n",
       "\n",
       "    .dataframe thead th {\n",
       "        text-align: right;\n",
       "    }\n",
       "</style>\n",
       "<table border=\"1\" class=\"dataframe\">\n",
       "  <thead>\n",
       "    <tr style=\"text-align: right;\">\n",
       "      <th></th>\n",
       "      <th>name</th>\n",
       "      <th>platform</th>\n",
       "      <th>year_of_release</th>\n",
       "      <th>genre</th>\n",
       "      <th>na_sales</th>\n",
       "      <th>eu_sales</th>\n",
       "      <th>jp_sales</th>\n",
       "      <th>other_sales</th>\n",
       "      <th>critic_score</th>\n",
       "      <th>user_score</th>\n",
       "      <th>rating</th>\n",
       "      <th>total_sales</th>\n",
       "    </tr>\n",
       "  </thead>\n",
       "  <tbody>\n",
       "    <tr>\n",
       "      <th>15818</th>\n",
       "      <td>strongest tokyo university shogi ds</td>\n",
       "      <td>DS</td>\n",
       "      <td>1985</td>\n",
       "      <td>action</td>\n",
       "      <td>0.0</td>\n",
       "      <td>0.0</td>\n",
       "      <td>0.02</td>\n",
       "      <td>0.0</td>\n",
       "      <td>NaN</td>\n",
       "      <td>NaN</td>\n",
       "      <td>NR</td>\n",
       "      <td>0.02</td>\n",
       "    </tr>\n",
       "  </tbody>\n",
       "</table>\n",
       "</div>"
      ],
      "text/plain": [
       "                                      name platform  year_of_release   genre  \\\n",
       "15818  strongest tokyo university shogi ds       DS             1985  action   \n",
       "\n",
       "       na_sales  eu_sales  jp_sales  other_sales  critic_score  user_score  \\\n",
       "15818       0.0       0.0      0.02          0.0           NaN         NaN   \n",
       "\n",
       "      rating  total_sales  \n",
       "15818     NR         0.02  "
      ]
     },
     "execution_count": 35,
     "metadata": {},
     "output_type": "execute_result"
    }
   ],
   "source": [
    "data[(data['platform'] == 'DS')&(data['year_of_release'] <2004)]"
   ]
  },
  {
   "cell_type": "markdown",
   "id": "70657d68",
   "metadata": {},
   "source": [
    "Единственное, [что удалось найти про нее в интернете](https://www.vgchartz.com/game/4399/strongest-tokyo-university-shogi-ds/), что ее в 2010 году добавили в базу сайта vgchartz.com. Поменяем дату релиза на 2010:"
   ]
  },
  {
   "cell_type": "code",
   "execution_count": 36,
   "id": "8dbb13cb",
   "metadata": {},
   "outputs": [
    {
     "data": {
      "text/html": [
       "<div>\n",
       "<style scoped>\n",
       "    .dataframe tbody tr th:only-of-type {\n",
       "        vertical-align: middle;\n",
       "    }\n",
       "\n",
       "    .dataframe tbody tr th {\n",
       "        vertical-align: top;\n",
       "    }\n",
       "\n",
       "    .dataframe thead th {\n",
       "        text-align: right;\n",
       "    }\n",
       "</style>\n",
       "<table border=\"1\" class=\"dataframe\">\n",
       "  <thead>\n",
       "    <tr style=\"text-align: right;\">\n",
       "      <th></th>\n",
       "      <th>name</th>\n",
       "      <th>platform</th>\n",
       "      <th>year_of_release</th>\n",
       "      <th>genre</th>\n",
       "      <th>na_sales</th>\n",
       "      <th>eu_sales</th>\n",
       "      <th>jp_sales</th>\n",
       "      <th>other_sales</th>\n",
       "      <th>critic_score</th>\n",
       "      <th>user_score</th>\n",
       "      <th>rating</th>\n",
       "      <th>total_sales</th>\n",
       "    </tr>\n",
       "  </thead>\n",
       "  <tbody>\n",
       "  </tbody>\n",
       "</table>\n",
       "</div>"
      ],
      "text/plain": [
       "Empty DataFrame\n",
       "Columns: [name, platform, year_of_release, genre, na_sales, eu_sales, jp_sales, other_sales, critic_score, user_score, rating, total_sales]\n",
       "Index: []"
      ]
     },
     "execution_count": 36,
     "metadata": {},
     "output_type": "execute_result"
    }
   ],
   "source": [
    "data.loc[data['name'] == 'strongest tokyo university shogi ds', 'year_of_release'] = 2010\n",
    "# Проверим:\n",
    "data[(data['platform'] == 'DS')&(data['year_of_release'] <2004)]"
   ]
  },
  {
   "cell_type": "markdown",
   "id": "0cf5ab1c",
   "metadata": {},
   "source": [
    "### Определим данные за соответствующий актуальный период. Основной фактор — эти данные помогут построить прогноз на 2017 год."
   ]
  },
  {
   "cell_type": "markdown",
   "id": "e881118c",
   "metadata": {},
   "source": [
    "График распределения по годам для платформ с наибольшими суммарными продажами показывает нам \"жизненный цикл\" игровой платформы примерно в 9 лет. Это примерно 4.5 года роста продаж и 4.5 года падения. А график количества выпущенных игр в разные годы показывает стабилизацию рынка с 2012 по 2016 год. Возьмем эти 4 года для прогнозирования продаж на 2017 год. Сделаем срез данных с которым будем работать в дальнейшем:"
   ]
  },
  {
   "cell_type": "code",
   "execution_count": 37,
   "id": "89907ec5",
   "metadata": {},
   "outputs": [
    {
     "data": {
      "text/html": [
       "<div>\n",
       "<style scoped>\n",
       "    .dataframe tbody tr th:only-of-type {\n",
       "        vertical-align: middle;\n",
       "    }\n",
       "\n",
       "    .dataframe tbody tr th {\n",
       "        vertical-align: top;\n",
       "    }\n",
       "\n",
       "    .dataframe thead th {\n",
       "        text-align: right;\n",
       "    }\n",
       "</style>\n",
       "<table border=\"1\" class=\"dataframe\">\n",
       "  <thead>\n",
       "    <tr style=\"text-align: right;\">\n",
       "      <th></th>\n",
       "      <th>name</th>\n",
       "      <th>platform</th>\n",
       "      <th>year_of_release</th>\n",
       "      <th>genre</th>\n",
       "      <th>na_sales</th>\n",
       "      <th>eu_sales</th>\n",
       "      <th>jp_sales</th>\n",
       "      <th>other_sales</th>\n",
       "      <th>critic_score</th>\n",
       "      <th>user_score</th>\n",
       "      <th>rating</th>\n",
       "      <th>total_sales</th>\n",
       "    </tr>\n",
       "  </thead>\n",
       "  <tbody>\n",
       "    <tr>\n",
       "      <th>16</th>\n",
       "      <td>grand theft auto v</td>\n",
       "      <td>PS3</td>\n",
       "      <td>2013</td>\n",
       "      <td>action</td>\n",
       "      <td>7.02</td>\n",
       "      <td>9.09</td>\n",
       "      <td>0.98</td>\n",
       "      <td>3.96</td>\n",
       "      <td>97.0</td>\n",
       "      <td>8.2</td>\n",
       "      <td>M</td>\n",
       "      <td>21.05</td>\n",
       "    </tr>\n",
       "    <tr>\n",
       "      <th>23</th>\n",
       "      <td>grand theft auto v</td>\n",
       "      <td>X360</td>\n",
       "      <td>2013</td>\n",
       "      <td>action</td>\n",
       "      <td>9.66</td>\n",
       "      <td>5.14</td>\n",
       "      <td>0.06</td>\n",
       "      <td>1.41</td>\n",
       "      <td>97.0</td>\n",
       "      <td>8.1</td>\n",
       "      <td>M</td>\n",
       "      <td>16.27</td>\n",
       "    </tr>\n",
       "    <tr>\n",
       "      <th>31</th>\n",
       "      <td>call of duty: black ops 3</td>\n",
       "      <td>PS4</td>\n",
       "      <td>2015</td>\n",
       "      <td>shooter</td>\n",
       "      <td>6.03</td>\n",
       "      <td>5.86</td>\n",
       "      <td>0.36</td>\n",
       "      <td>2.38</td>\n",
       "      <td>NaN</td>\n",
       "      <td>NaN</td>\n",
       "      <td>NR</td>\n",
       "      <td>14.63</td>\n",
       "    </tr>\n",
       "    <tr>\n",
       "      <th>33</th>\n",
       "      <td>pokemon x/pokemon y</td>\n",
       "      <td>3DS</td>\n",
       "      <td>2013</td>\n",
       "      <td>role-playing</td>\n",
       "      <td>5.28</td>\n",
       "      <td>4.19</td>\n",
       "      <td>4.35</td>\n",
       "      <td>0.78</td>\n",
       "      <td>NaN</td>\n",
       "      <td>NaN</td>\n",
       "      <td>NR</td>\n",
       "      <td>14.60</td>\n",
       "    </tr>\n",
       "    <tr>\n",
       "      <th>34</th>\n",
       "      <td>call of duty: black ops ii</td>\n",
       "      <td>PS3</td>\n",
       "      <td>2012</td>\n",
       "      <td>shooter</td>\n",
       "      <td>4.99</td>\n",
       "      <td>5.73</td>\n",
       "      <td>0.65</td>\n",
       "      <td>2.42</td>\n",
       "      <td>83.0</td>\n",
       "      <td>5.3</td>\n",
       "      <td>M</td>\n",
       "      <td>13.79</td>\n",
       "    </tr>\n",
       "    <tr>\n",
       "      <th>...</th>\n",
       "      <td>...</td>\n",
       "      <td>...</td>\n",
       "      <td>...</td>\n",
       "      <td>...</td>\n",
       "      <td>...</td>\n",
       "      <td>...</td>\n",
       "      <td>...</td>\n",
       "      <td>...</td>\n",
       "      <td>...</td>\n",
       "      <td>...</td>\n",
       "      <td>...</td>\n",
       "      <td>...</td>\n",
       "    </tr>\n",
       "    <tr>\n",
       "      <th>16555</th>\n",
       "      <td>strawberry nauts</td>\n",
       "      <td>PSV</td>\n",
       "      <td>2016</td>\n",
       "      <td>adventure</td>\n",
       "      <td>0.00</td>\n",
       "      <td>0.00</td>\n",
       "      <td>0.01</td>\n",
       "      <td>0.00</td>\n",
       "      <td>NaN</td>\n",
       "      <td>NaN</td>\n",
       "      <td>NR</td>\n",
       "      <td>0.01</td>\n",
       "    </tr>\n",
       "    <tr>\n",
       "      <th>16559</th>\n",
       "      <td>aiyoku no eustia</td>\n",
       "      <td>PSV</td>\n",
       "      <td>2014</td>\n",
       "      <td>misc</td>\n",
       "      <td>0.00</td>\n",
       "      <td>0.00</td>\n",
       "      <td>0.01</td>\n",
       "      <td>0.00</td>\n",
       "      <td>NaN</td>\n",
       "      <td>NaN</td>\n",
       "      <td>NR</td>\n",
       "      <td>0.01</td>\n",
       "    </tr>\n",
       "    <tr>\n",
       "      <th>16562</th>\n",
       "      <td>samurai warriors: sanada maru</td>\n",
       "      <td>PS3</td>\n",
       "      <td>2016</td>\n",
       "      <td>action</td>\n",
       "      <td>0.00</td>\n",
       "      <td>0.00</td>\n",
       "      <td>0.01</td>\n",
       "      <td>0.00</td>\n",
       "      <td>NaN</td>\n",
       "      <td>NaN</td>\n",
       "      <td>NR</td>\n",
       "      <td>0.01</td>\n",
       "    </tr>\n",
       "    <tr>\n",
       "      <th>16564</th>\n",
       "      <td>haitaka no psychedelica</td>\n",
       "      <td>PSV</td>\n",
       "      <td>2016</td>\n",
       "      <td>adventure</td>\n",
       "      <td>0.00</td>\n",
       "      <td>0.00</td>\n",
       "      <td>0.01</td>\n",
       "      <td>0.00</td>\n",
       "      <td>NaN</td>\n",
       "      <td>NaN</td>\n",
       "      <td>NR</td>\n",
       "      <td>0.01</td>\n",
       "    </tr>\n",
       "    <tr>\n",
       "      <th>16566</th>\n",
       "      <td>winning post 8 2016</td>\n",
       "      <td>PSV</td>\n",
       "      <td>2016</td>\n",
       "      <td>simulation</td>\n",
       "      <td>0.00</td>\n",
       "      <td>0.00</td>\n",
       "      <td>0.01</td>\n",
       "      <td>0.00</td>\n",
       "      <td>NaN</td>\n",
       "      <td>NaN</td>\n",
       "      <td>NR</td>\n",
       "      <td>0.01</td>\n",
       "    </tr>\n",
       "  </tbody>\n",
       "</table>\n",
       "<p>2899 rows × 12 columns</p>\n",
       "</div>"
      ],
      "text/plain": [
       "                                name platform  year_of_release         genre  \\\n",
       "16                grand theft auto v      PS3             2013        action   \n",
       "23                grand theft auto v     X360             2013        action   \n",
       "31         call of duty: black ops 3      PS4             2015       shooter   \n",
       "33               pokemon x/pokemon y      3DS             2013  role-playing   \n",
       "34        call of duty: black ops ii      PS3             2012       shooter   \n",
       "...                              ...      ...              ...           ...   \n",
       "16555               strawberry nauts      PSV             2016     adventure   \n",
       "16559               aiyoku no eustia      PSV             2014          misc   \n",
       "16562  samurai warriors: sanada maru      PS3             2016        action   \n",
       "16564        haitaka no psychedelica      PSV             2016     adventure   \n",
       "16566            winning post 8 2016      PSV             2016    simulation   \n",
       "\n",
       "       na_sales  eu_sales  jp_sales  other_sales  critic_score  user_score  \\\n",
       "16         7.02      9.09      0.98         3.96          97.0         8.2   \n",
       "23         9.66      5.14      0.06         1.41          97.0         8.1   \n",
       "31         6.03      5.86      0.36         2.38           NaN         NaN   \n",
       "33         5.28      4.19      4.35         0.78           NaN         NaN   \n",
       "34         4.99      5.73      0.65         2.42          83.0         5.3   \n",
       "...         ...       ...       ...          ...           ...         ...   \n",
       "16555      0.00      0.00      0.01         0.00           NaN         NaN   \n",
       "16559      0.00      0.00      0.01         0.00           NaN         NaN   \n",
       "16562      0.00      0.00      0.01         0.00           NaN         NaN   \n",
       "16564      0.00      0.00      0.01         0.00           NaN         NaN   \n",
       "16566      0.00      0.00      0.01         0.00           NaN         NaN   \n",
       "\n",
       "      rating  total_sales  \n",
       "16         M        21.05  \n",
       "23         M        16.27  \n",
       "31        NR        14.63  \n",
       "33        NR        14.60  \n",
       "34         M        13.79  \n",
       "...      ...          ...  \n",
       "16555     NR         0.01  \n",
       "16559     NR         0.01  \n",
       "16562     NR         0.01  \n",
       "16564     NR         0.01  \n",
       "16566     NR         0.01  \n",
       "\n",
       "[2899 rows x 12 columns]"
      ]
     },
     "execution_count": 37,
     "metadata": {},
     "output_type": "execute_result"
    }
   ],
   "source": [
    "predict_data = data[data['year_of_release'] >= 2012]\n",
    "predict_data"
   ]
  },
  {
   "cell_type": "markdown",
   "id": "1a4dd6e3",
   "metadata": {},
   "source": [
    "### Какие платформы лидируют по продажам, растут или падают? Выберем несколько потенциально прибыльных платформ:"
   ]
  },
  {
   "cell_type": "markdown",
   "id": "5ea10fea",
   "metadata": {},
   "source": [
    "Посмотрим, какие платформы у нас остались в срезе:"
   ]
  },
  {
   "cell_type": "code",
   "execution_count": 38,
   "id": "4aac5bc1",
   "metadata": {},
   "outputs": [
    {
     "data": {
      "text/plain": [
       "array(['PS3', 'X360', 'PS4', '3DS', 'DS', 'XOne', 'WiiU', 'Wii', 'PC',\n",
       "       'PSV', 'PSP'], dtype=object)"
      ]
     },
     "execution_count": 38,
     "metadata": {},
     "output_type": "execute_result"
    }
   ],
   "source": [
    "predict_data['platform'].unique()"
   ]
  },
  {
   "cell_type": "markdown",
   "id": "af0574fc",
   "metadata": {},
   "source": [
    "Платформ заметно поубавилось. Посмотрим на продажи:"
   ]
  },
  {
   "cell_type": "code",
   "execution_count": 39,
   "id": "09acdd7c",
   "metadata": {},
   "outputs": [
    {
     "data": {
      "text/html": [
       "<div>\n",
       "<style scoped>\n",
       "    .dataframe tbody tr th:only-of-type {\n",
       "        vertical-align: middle;\n",
       "    }\n",
       "\n",
       "    .dataframe tbody tr th {\n",
       "        vertical-align: top;\n",
       "    }\n",
       "\n",
       "    .dataframe thead th {\n",
       "        text-align: right;\n",
       "    }\n",
       "</style>\n",
       "<table border=\"1\" class=\"dataframe\">\n",
       "  <thead>\n",
       "    <tr style=\"text-align: right;\">\n",
       "      <th></th>\n",
       "      <th>total_sales</th>\n",
       "    </tr>\n",
       "    <tr>\n",
       "      <th>platform</th>\n",
       "      <th></th>\n",
       "    </tr>\n",
       "  </thead>\n",
       "  <tbody>\n",
       "    <tr>\n",
       "      <th>PS4</th>\n",
       "      <td>314.14</td>\n",
       "    </tr>\n",
       "    <tr>\n",
       "      <th>PS3</th>\n",
       "      <td>289.71</td>\n",
       "    </tr>\n",
       "    <tr>\n",
       "      <th>X360</th>\n",
       "      <td>237.52</td>\n",
       "    </tr>\n",
       "    <tr>\n",
       "      <th>3DS</th>\n",
       "      <td>195.01</td>\n",
       "    </tr>\n",
       "    <tr>\n",
       "      <th>XOne</th>\n",
       "      <td>159.32</td>\n",
       "    </tr>\n",
       "    <tr>\n",
       "      <th>WiiU</th>\n",
       "      <td>82.19</td>\n",
       "    </tr>\n",
       "    <tr>\n",
       "      <th>PC</th>\n",
       "      <td>63.51</td>\n",
       "    </tr>\n",
       "    <tr>\n",
       "      <th>PSV</th>\n",
       "      <td>49.18</td>\n",
       "    </tr>\n",
       "    <tr>\n",
       "      <th>Wii</th>\n",
       "      <td>36.60</td>\n",
       "    </tr>\n",
       "    <tr>\n",
       "      <th>DS</th>\n",
       "      <td>13.21</td>\n",
       "    </tr>\n",
       "    <tr>\n",
       "      <th>PSP</th>\n",
       "      <td>11.69</td>\n",
       "    </tr>\n",
       "  </tbody>\n",
       "</table>\n",
       "</div>"
      ],
      "text/plain": [
       "          total_sales\n",
       "platform             \n",
       "PS4            314.14\n",
       "PS3            289.71\n",
       "X360           237.52\n",
       "3DS            195.01\n",
       "XOne           159.32\n",
       "WiiU            82.19\n",
       "PC              63.51\n",
       "PSV             49.18\n",
       "Wii             36.60\n",
       "DS              13.21\n",
       "PSP             11.69"
      ]
     },
     "execution_count": 39,
     "metadata": {},
     "output_type": "execute_result"
    }
   ],
   "source": [
    "predict_game_gear = (\n",
    "    predict_data.pivot_table(index='platform', values='total_sales', aggfunc='sum')\n",
    "    .sort_values(by = 'total_sales', ascending = False)\n",
    ")\n",
    "predict_game_gear"
   ]
  },
  {
   "cell_type": "markdown",
   "id": "50e07d39",
   "metadata": {},
   "source": [
    "По продажам игр лидируют платформы: **PS4, PS3, XOne и 3DS** - у них сумарно больше половины рынка. Что закономерно - ***Sony PS3 и Nintendo 3DS*** успели набрать клиентскую базу и под них разрабатывается большое количество игр. А **XOne и  Sony PS4** недавно успешно стартовали и на них повышенный спрос. Посмотрим график:"
   ]
  },
  {
   "cell_type": "code",
   "execution_count": 40,
   "id": "996906ae",
   "metadata": {},
   "outputs": [
    {
     "data": {
      "image/png": "[encoded data removed]",
      "text/plain": [
       "<Figure size 1152x576 with 1 Axes>"
      ]
     },
     "metadata": {
      "needs_background": "light"
     },
     "output_type": "display_data"
    }
   ],
   "source": [
    "# Создадим список с потенциально прибыльными платформами:\n",
    "predict_game_gear_list = predict_game_gear.head(10).index.values.tolist()\n",
    "# Сделаем срез данных для потенциально прибыльныx платформ:\n",
    "predict_game_gear_df = predict_data.query('platform == @predict_game_gear_list')\n",
    "# Построим график:\n",
    "predict_game_gear_df.pivot_table(\n",
    "    index = ['year_of_release'],\n",
    "    columns = ['platform'],\n",
    "    values = ['total_sales'],\n",
    "    aggfunc =  ['sum']).plot(kind='line', grid=True, figsize=(16,8), linestyle='-', marker='o', xticks=range(2012, 2017,1))\n",
    "plt.legend(bbox_to_anchor=(1, 1))\n",
    "plt.xlabel('Год выпуска', fontsize=15)\n",
    "plt.ylabel('Количество проданных игр, млн копий', fontsize=15)\n",
    "plt.title('Распределение по годам для для потенциально прибыльныx платформ', fontsize=20);"
   ]
  },
  {
   "cell_type": "markdown",
   "id": "a2abcf9c",
   "metadata": {},
   "source": [
    "У **PS4 и XOne** мы видим уверенный рост до 2015 года. Падение продаж в 2016 может быть ошибочным, так-как на момент снятия базы компании еще не успели опубликовать статистику. Также падение можно объяснить временным насыщением рынка - игры чаще всего выходят в первой половине года. Если смотреть на графики консолей предыдущего поколения (**PS3 и X360**), то можно утверждать, что количество пользоватей у них растет и при удачных обстоятельствах выручка тоже вырастет. Обе консоли вышли в продажу в 2013 году. По остальным платформам мы наблюдаем стабильное падение продаж, что соответвует \"времени жизни\" платформ, показанному на графике распределения по годам для платформ с наибольшими суммарными продажами(**пункт 3.3.2**).\n",
    "Отдельно стоит отметить вечно живой **PC**. Персональный компьютер, как игровая платформа надежно занял свою нишу на рынке и никуда оттуда деться не может потому, что его в отличии от игровых консолей, можно менять и модернизировать. Игры на **PC** продаются дольше чем на консолях. Также нельзя списыватьсо счетов **Nintendo 3DS**, которая не смотря на падение продаж и не самый удачный старт имеет достаточно высокие показатели.\n",
    "\n",
    "Потенциально прибыльными платформами мы можем назвать: **PS4, XOne**, **PC** и **Nintendo 3DS**."
   ]
  },
  {
   "cell_type": "markdown",
   "id": "e140a91b",
   "metadata": {},
   "source": [
    "### Построим график «ящик с усами» по глобальным продажам игр в разбивке по платформам и опишем результат."
   ]
  },
  {
   "cell_type": "code",
   "execution_count": 41,
   "id": "992a776c",
   "metadata": {},
   "outputs": [
    {
     "data": {
      "image/png": "[encoded data removed]",
      "text/plain": [
       "<Figure size 864x720 with 1 Axes>"
      ]
     },
     "metadata": {
      "needs_background": "light"
     },
     "output_type": "display_data"
    }
   ],
   "source": [
    "# Создадим список с потенциально прибыльными платформами:\n",
    "predict_game_gear_list = ['PS4', 'XOne', 'PC', '3DS']\n",
    "# Сделаем срез данных для платформ с наибольшими суммарными продажами:\n",
    "predict_game_gear_df = predict_data.query('platform == @predict_game_gear_list')\n",
    "plt.figure(figsize=(12,10))\n",
    "sns.boxplot(data=predict_game_gear_df, x='platform', y='total_sales')\n",
    "plt.ylim([0, 2])\n",
    "plt.xlabel('Платформа', fontsize=15)\n",
    "plt.ylabel('Количество проданных игр, млн копий', fontsize=15)\n",
    "plt.title('Ящик с усами', fontsize=20);"
   ]
  },
  {
   "cell_type": "markdown",
   "id": "aac2c1c1",
   "metadata": {},
   "source": [
    "Самое высокое медианное значение у **XOne**, после **PS4**, **3DS** и **PC**.\n",
    "Лидерство **XOne** и **PS4** объясним новизной и перспективностью платформ."
   ]
  },
  {
   "cell_type": "markdown",
   "id": "f6b60fb9",
   "metadata": {},
   "source": [
    "### Посмотрим, как влияют на продажи внутри одной популярной платформы отзывы пользователей и критиков. Построим диаграмму рассеяния и посчитаем корреляцию между отзывами и продажами. Сформулируем выводы."
   ]
  },
  {
   "cell_type": "markdown",
   "id": "d9505e7f",
   "metadata": {},
   "source": [
    "Выберем для анализа **XOne**, это одна из самых перспективных платформ."
   ]
  },
  {
   "cell_type": "code",
   "execution_count": 42,
   "id": "003299c9",
   "metadata": {},
   "outputs": [],
   "source": [
    "predict_game_xone = predict_data.query('platform == \"XOne\"')"
   ]
  },
  {
   "cell_type": "markdown",
   "id": "bbddbc43",
   "metadata": {},
   "source": [
    "Построим диаграмму рассеяния для проверки корреляции между отзывами пользователей и продажами."
   ]
  },
  {
   "cell_type": "code",
   "execution_count": 43,
   "id": "def875da",
   "metadata": {},
   "outputs": [
    {
     "data": {
      "image/png": "[encoded data removed]",
      "text/plain": [
       "<Figure size 864x432 with 1 Axes>"
      ]
     },
     "metadata": {
      "needs_background": "light"
     },
     "output_type": "display_data"
    }
   ],
   "source": [
    "plt.figure(figsize=(12, 6))\n",
    "sns.scatterplot(x='user_score', y='total_sales', data=predict_game_xone)\n",
    "plt.xlabel('Оценка пользователя', fontsize=15)\n",
    "plt.ylabel('Количество проданных игр, млн копий', fontsize=15)\n",
    "plt.title('Корреляция между оценками пользователей и продажами XOne', fontsize=20);\n"
   ]
  },
  {
   "cell_type": "code",
   "execution_count": 44,
   "id": "10cfc6ee",
   "metadata": {},
   "outputs": [
    {
     "name": "stdout",
     "output_type": "stream",
     "text": [
      "Корреляция между оценками пользователей и продажами: -0.06892505328279414\n"
     ]
    }
   ],
   "source": [
    "print('Корреляция между оценками пользователей и продажами:', \\\n",
    "      predict_game_xone['user_score'].corr(predict_game_xone['total_sales']))"
   ]
  },
  {
   "cell_type": "markdown",
   "id": "fa9f8839",
   "metadata": {},
   "source": [
    "Для **XOne** оценки пользователей не влияют на продажи. Коэффициент корреляции почти равен 0."
   ]
  },
  {
   "cell_type": "markdown",
   "id": "028f49e3",
   "metadata": {},
   "source": [
    "Построим диаграмму рассеяния для проверки корреляции между оценкой критиков и продажами."
   ]
  },
  {
   "cell_type": "code",
   "execution_count": 45,
   "id": "6cfe4938",
   "metadata": {
    "scrolled": false
   },
   "outputs": [
    {
     "data": {
      "image/png": "[encoded data removed]",
      "text/plain": [
       "<Figure size 864x432 with 1 Axes>"
      ]
     },
     "metadata": {
      "needs_background": "light"
     },
     "output_type": "display_data"
    }
   ],
   "source": [
    "plt.figure(figsize=(12, 6))\n",
    "sns.scatterplot(x='critic_score', y='total_sales', data=predict_game_xone)\n",
    "plt.xlabel('Оценка критиков', fontsize=15)\n",
    "plt.ylabel('Количество проданных игр, млн копий', fontsize=15)\n",
    "plt.title('Корреляция между оценками критиков и продажами XOne', fontsize=20);"
   ]
  },
  {
   "cell_type": "code",
   "execution_count": 46,
   "id": "2c6c7c8f",
   "metadata": {},
   "outputs": [
    {
     "name": "stdout",
     "output_type": "stream",
     "text": [
      "Корреляция между оценками критиков и продажами: 0.4169983280084017\n"
     ]
    }
   ],
   "source": [
    "print('Корреляция между оценками критиков и продажами:', \\\n",
    "      predict_game_xone['critic_score'].corr(predict_game_xone['total_sales']))"
   ]
  },
  {
   "cell_type": "markdown",
   "id": "70f36abb",
   "metadata": {},
   "source": [
    "Для **XOne** небольшая корреляция между оценками критиков и продажами."
   ]
  },
  {
   "cell_type": "markdown",
   "id": "e1d77ba6",
   "metadata": {},
   "source": [
    "Посмотрим на игры с максимальными оценками критиков и пользователей:"
   ]
  },
  {
   "cell_type": "code",
   "execution_count": 47,
   "id": "595d4bb3",
   "metadata": {
    "scrolled": true
   },
   "outputs": [
    {
     "data": {
      "text/html": [
       "<div>\n",
       "<style scoped>\n",
       "    .dataframe tbody tr th:only-of-type {\n",
       "        vertical-align: middle;\n",
       "    }\n",
       "\n",
       "    .dataframe tbody tr th {\n",
       "        vertical-align: top;\n",
       "    }\n",
       "\n",
       "    .dataframe thead th {\n",
       "        text-align: right;\n",
       "    }\n",
       "</style>\n",
       "<table border=\"1\" class=\"dataframe\">\n",
       "  <thead>\n",
       "    <tr style=\"text-align: right;\">\n",
       "      <th></th>\n",
       "      <th>name</th>\n",
       "      <th>critic_score</th>\n",
       "      <th>user_score</th>\n",
       "      <th>total_sales</th>\n",
       "    </tr>\n",
       "  </thead>\n",
       "  <tbody>\n",
       "    <tr>\n",
       "      <th>165</th>\n",
       "      <td>grand theft auto v</td>\n",
       "      <td>97.0</td>\n",
       "      <td>7.9</td>\n",
       "      <td>5.47</td>\n",
       "    </tr>\n",
       "    <tr>\n",
       "      <th>1492</th>\n",
       "      <td>the witcher 3: wild hunt</td>\n",
       "      <td>91.0</td>\n",
       "      <td>9.2</td>\n",
       "      <td>1.30</td>\n",
       "    </tr>\n",
       "    <tr>\n",
       "      <th>1894</th>\n",
       "      <td>forza horizon 3</td>\n",
       "      <td>91.0</td>\n",
       "      <td>7.4</td>\n",
       "      <td>1.08</td>\n",
       "    </tr>\n",
       "    <tr>\n",
       "      <th>1938</th>\n",
       "      <td>overwatch</td>\n",
       "      <td>91.0</td>\n",
       "      <td>5.6</td>\n",
       "      <td>1.06</td>\n",
       "    </tr>\n",
       "    <tr>\n",
       "      <th>2705</th>\n",
       "      <td>metal gear solid v: the phantom pain</td>\n",
       "      <td>95.0</td>\n",
       "      <td>7.3</td>\n",
       "      <td>0.75</td>\n",
       "    </tr>\n",
       "    <tr>\n",
       "      <th>5351</th>\n",
       "      <td>rayman legends</td>\n",
       "      <td>91.0</td>\n",
       "      <td>7.9</td>\n",
       "      <td>0.34</td>\n",
       "    </tr>\n",
       "  </tbody>\n",
       "</table>\n",
       "</div>"
      ],
      "text/plain": [
       "                                      name  critic_score  user_score  \\\n",
       "165                     grand theft auto v          97.0         7.9   \n",
       "1492              the witcher 3: wild hunt          91.0         9.2   \n",
       "1894                       forza horizon 3          91.0         7.4   \n",
       "1938                             overwatch          91.0         5.6   \n",
       "2705  metal gear solid v: the phantom pain          95.0         7.3   \n",
       "5351                        rayman legends          91.0         7.9   \n",
       "\n",
       "      total_sales  \n",
       "165          5.47  \n",
       "1492         1.30  \n",
       "1894         1.08  \n",
       "1938         1.06  \n",
       "2705         0.75  \n",
       "5351         0.34  "
      ]
     },
     "execution_count": 47,
     "metadata": {},
     "output_type": "execute_result"
    }
   ],
   "source": [
    "(\n",
    "predict_game_xone[(predict_game_xone['critic_score']>90)|\n",
    "                  (predict_game_xone['user_score']>9)][['name', 'critic_score', 'user_score', 'total_sales']]\n",
    ")"
   ]
  },
  {
   "cell_type": "markdown",
   "id": "699253c0",
   "metadata": {},
   "source": [
    "- Большинство оценок критиков в интревале 60 - 85. У игр находящихся в этом диапазоне более высокие шансы на высокие продажи, Но высокой корреляции между продажами и оценками критиков нет.\n",
    "- Большинство оценок пользователей находится в интервале 5.5 - 8. Пользователи ниже оценивают игры, чем критики. \n",
    "- На оценки критиков скорее влияют рекламные бюджеты, чем оцеки критиков на продажи."
   ]
  },
  {
   "cell_type": "markdown",
   "id": "1bb3087b",
   "metadata": {},
   "source": [
    "### Соотнесем выводы с продажами игр на других платформах."
   ]
  },
  {
   "cell_type": "markdown",
   "id": "fb0ae029",
   "metadata": {},
   "source": [
    "Напишем для этого функцию выводящую графики считающую корреляцию:"
   ]
  },
  {
   "cell_type": "code",
   "execution_count": 48,
   "id": "22b69b98",
   "metadata": {},
   "outputs": [],
   "source": [
    "def gear_corr(gear_name):\n",
    "    gear = predict_data[predict_data['platform'] == gear_name]\n",
    "    fig, ax = plt.subplots(1 ,2, figsize=(15,5))\n",
    "    sns.scatterplot(x='user_score', y='total_sales', data=gear, ax=ax[0])\n",
    "    sns.scatterplot(x='critic_score', y='total_sales', data=gear, ax=ax[1])\n",
    "    fig.suptitle(gear_name, fontsize=20)\n",
    "    ax[0].set(xlabel='Оценка пользователей')\n",
    "    ax[1].set(xlabel='Оценка критиков')\n",
    "    ax[0].set(ylabel='Количество проданных игр, млн копий')\n",
    "    ax[1].set(ylabel='Количество проданных игр, млн копий')\n",
    "    plt.show()\n",
    "    \n",
    "    user_corr = gear['user_score'].corr(gear['total_sales'])\n",
    "    critic_corr = gear['critic_score'].corr(gear['total_sales'])\n",
    "    \n",
    "    \n",
    "    if -0.4 <= user_corr <= 0.4:\n",
    "        print('Корреляция между оценками пользователей и продажами', \\\n",
    "              gear_name, 'не выявлена. Коэффициент корреляции:', user_corr)\n",
    "    if  0.4 < user_corr <= 0.7:\n",
    "        print('Корреляция между оценками пользователей и продажами', \\\n",
    "              gear_name, 'cлабая. Коэффициент корреляции:', user_corr)\n",
    "    if  user_corr > 0.7:\n",
    "        print('Корреляция между оценками пользователей и продажами', \\\n",
    "              gear_name, 'cильная. Коэффициент корреляции:', user_corr)\n",
    "    if -0.4 > user_corr >= -0.7:\n",
    "        print('Корреляция между оценками пользователей и продажами', \\\n",
    "              gear_name, 'cлабая. Коэффициент корреляции:', user_corr)\n",
    "    if -0.7 > user_corr:\n",
    "        print('Корреляция между оценками пользователей и продажами', \\\n",
    "              gear_name, 'cильная. Коэффициент корреляции:', user_corr)\n",
    "\n",
    "        \n",
    "    if -0.4 <= critic_corr <= 0.4:\n",
    "        print('Корреляция между оценками критиков и продажами', \\\n",
    "              gear_name, 'не выявлена. Коэффициент корреляции:', critic_corr)\n",
    "    if  0.4 < critic_corr <= 0.7:\n",
    "        print('Корреляция между оценками критиков и продажами', \\\n",
    "              gear_name, 'cлабая. Коэффициент корреляции:', critic_corr)\n",
    "    if  critic_corr > 0.7:\n",
    "        print('Корреляция между оценками критиков и продажами', \\\n",
    "              gear_name, 'cильная. Коэффициент корреляции:', critic_corr)\n",
    "    if -0.4 > critic_corr >= -0.7:\n",
    "        print('Корреляция между оценками критиков и продажами', \\\n",
    "              gear_name, 'cлабая. Коэффициент корреляции:', critic_corr)\n",
    "    if -0.7 > critic_corr:\n",
    "        print('Корреляция между оценками критиков и продажами', \\\n",
    "              gear_name, 'cильная. Коэффициент корреляции:', critic_corr)\n",
    "    \n",
    "    "
   ]
  },
  {
   "cell_type": "code",
   "execution_count": 49,
   "id": "c8f70f36",
   "metadata": {},
   "outputs": [
    {
     "data": {
      "image/png": "[encoded data removed]",
      "text/plain": [
       "<Figure size 1080x360 with 2 Axes>"
      ]
     },
     "metadata": {
      "needs_background": "light"
     },
     "output_type": "display_data"
    },
    {
     "name": "stdout",
     "output_type": "stream",
     "text": [
      "Корреляция между оценками пользователей и продажами PS4 не выявлена. Коэффициент корреляции: -0.031957110204556424\n",
      "Корреляция между оценками критиков и продажами PS4 cлабая. Коэффициент корреляции: 0.40656790206178095\n"
     ]
    },
    {
     "data": {
      "image/png": "[encoded data removed]",
      "text/plain": [
       "<Figure size 1080x360 with 2 Axes>"
      ]
     },
     "metadata": {
      "needs_background": "light"
     },
     "output_type": "display_data"
    },
    {
     "name": "stdout",
     "output_type": "stream",
     "text": [
      "Корреляция между оценками пользователей и продажами XOne не выявлена. Коэффициент корреляции: -0.06892505328279414\n",
      "Корреляция между оценками критиков и продажами XOne cлабая. Коэффициент корреляции: 0.4169983280084017\n"
     ]
    },
    {
     "data": {
      "image/png": "[encoded data removed]",
      "text/plain": [
       "<Figure size 1080x360 with 2 Axes>"
      ]
     },
     "metadata": {
      "needs_background": "light"
     },
     "output_type": "display_data"
    },
    {
     "name": "stdout",
     "output_type": "stream",
     "text": [
      "Корреляция между оценками пользователей и продажами PC не выявлена. Коэффициент корреляции: -0.12033868316119607\n",
      "Корреляция между оценками критиков и продажами PC не выявлена. Коэффициент корреляции: 0.24057023259681187\n"
     ]
    },
    {
     "data": {
      "image/png": "[encoded data removed]",
      "text/plain": [
       "<Figure size 1080x360 with 2 Axes>"
      ]
     },
     "metadata": {
      "needs_background": "light"
     },
     "output_type": "display_data"
    },
    {
     "name": "stdout",
     "output_type": "stream",
     "text": [
      "Корреляция между оценками пользователей и продажами 3DS не выявлена. Коэффициент корреляции: 0.19814963960883378\n",
      "Корреляция между оценками критиков и продажами 3DS не выявлена. Коэффициент корреляции: 0.32045778764077804\n"
     ]
    }
   ],
   "source": [
    "for gear in predict_game_gear_list:\n",
    "    gear_corr(gear)"
   ]
  },
  {
   "cell_type": "markdown",
   "id": "ac891f68",
   "metadata": {},
   "source": [
    "Корреляция между оценками пользователей и продажами не выявлена. Слабую корреляцию наблюдаем между оценками критиков и продажами у **XOne** и **PS4**. Глядя на цифры можно сказать, что пользователи больше прислушиваются к оценкам критиков, чем к оценкам других пользователей."
   ]
  },
  {
   "cell_type": "markdown",
   "id": "f6089627",
   "metadata": {},
   "source": [
    "### Опишем общее распределение игр по жанрам "
   ]
  },
  {
   "cell_type": "code",
   "execution_count": 50,
   "id": "fe299f18",
   "metadata": {
    "scrolled": true
   },
   "outputs": [
    {
     "data": {
      "text/html": [
       "<div>\n",
       "<style scoped>\n",
       "    .dataframe tbody tr th:only-of-type {\n",
       "        vertical-align: middle;\n",
       "    }\n",
       "\n",
       "    .dataframe tbody tr th {\n",
       "        vertical-align: top;\n",
       "    }\n",
       "\n",
       "    .dataframe thead th {\n",
       "        text-align: right;\n",
       "    }\n",
       "</style>\n",
       "<table border=\"1\" class=\"dataframe\">\n",
       "  <thead>\n",
       "    <tr style=\"text-align: right;\">\n",
       "      <th></th>\n",
       "      <th>genre</th>\n",
       "      <th>name</th>\n",
       "      <th>total_sales</th>\n",
       "    </tr>\n",
       "  </thead>\n",
       "  <tbody>\n",
       "    <tr>\n",
       "      <th>0</th>\n",
       "      <td>action</td>\n",
       "      <td>1041</td>\n",
       "      <td>446.41</td>\n",
       "    </tr>\n",
       "    <tr>\n",
       "      <th>7</th>\n",
       "      <td>role-playing</td>\n",
       "      <td>370</td>\n",
       "      <td>192.80</td>\n",
       "    </tr>\n",
       "    <tr>\n",
       "      <th>1</th>\n",
       "      <td>adventure</td>\n",
       "      <td>302</td>\n",
       "      <td>29.43</td>\n",
       "    </tr>\n",
       "    <tr>\n",
       "      <th>10</th>\n",
       "      <td>sports</td>\n",
       "      <td>268</td>\n",
       "      <td>181.07</td>\n",
       "    </tr>\n",
       "    <tr>\n",
       "      <th>8</th>\n",
       "      <td>shooter</td>\n",
       "      <td>237</td>\n",
       "      <td>304.75</td>\n",
       "    </tr>\n",
       "    <tr>\n",
       "      <th>3</th>\n",
       "      <td>misc</td>\n",
       "      <td>193</td>\n",
       "      <td>85.28</td>\n",
       "    </tr>\n",
       "    <tr>\n",
       "      <th>6</th>\n",
       "      <td>racing</td>\n",
       "      <td>115</td>\n",
       "      <td>53.50</td>\n",
       "    </tr>\n",
       "    <tr>\n",
       "      <th>2</th>\n",
       "      <td>fighting</td>\n",
       "      <td>109</td>\n",
       "      <td>44.49</td>\n",
       "    </tr>\n",
       "    <tr>\n",
       "      <th>4</th>\n",
       "      <td>platform</td>\n",
       "      <td>85</td>\n",
       "      <td>61.00</td>\n",
       "    </tr>\n",
       "    <tr>\n",
       "      <th>9</th>\n",
       "      <td>simulation</td>\n",
       "      <td>80</td>\n",
       "      <td>35.12</td>\n",
       "    </tr>\n",
       "    <tr>\n",
       "      <th>11</th>\n",
       "      <td>strategy</td>\n",
       "      <td>71</td>\n",
       "      <td>13.34</td>\n",
       "    </tr>\n",
       "    <tr>\n",
       "      <th>5</th>\n",
       "      <td>puzzle</td>\n",
       "      <td>28</td>\n",
       "      <td>4.89</td>\n",
       "    </tr>\n",
       "  </tbody>\n",
       "</table>\n",
       "</div>"
      ],
      "text/plain": [
       "           genre  name  total_sales\n",
       "0         action  1041       446.41\n",
       "7   role-playing   370       192.80\n",
       "1      adventure   302        29.43\n",
       "10        sports   268       181.07\n",
       "8        shooter   237       304.75\n",
       "3           misc   193        85.28\n",
       "6         racing   115        53.50\n",
       "2       fighting   109        44.49\n",
       "4       platform    85        61.00\n",
       "9     simulation    80        35.12\n",
       "11      strategy    71        13.34\n",
       "5         puzzle    28         4.89"
      ]
     },
     "execution_count": 50,
     "metadata": {},
     "output_type": "execute_result"
    }
   ],
   "source": [
    "(\n",
    "predict_data.groupby('genre').agg({'name':'count', 'total_sales':'sum'})\n",
    "    .reset_index().sort_values(by='name', ascending=False)\n",
    ")"
   ]
  },
  {
   "cell_type": "code",
   "execution_count": 51,
   "id": "c888e3be",
   "metadata": {},
   "outputs": [
    {
     "data": {
      "image/png": "[encoded data removed]",
      "text/plain": [
       "<Figure size 864x720 with 1 Axes>"
      ]
     },
     "metadata": {
      "needs_background": "light"
     },
     "output_type": "display_data"
    }
   ],
   "source": [
    "plt.figure(figsize=(12,10))\n",
    "sns.boxplot(data=predict_data, x='genre', y='total_sales')\n",
    "plt.ylim([0, 2])\n",
    "plt.xlabel('Жанры', fontsize=15)\n",
    "plt.ylabel('Количество проданных игр, млн копий', fontsize=15)\n",
    "plt.title('Распределение игр по жанрам', fontsize=20);"
   ]
  },
  {
   "cell_type": "markdown",
   "id": "c56cba5d",
   "metadata": {},
   "source": [
    "- Медианные продажи выше всего в жанре **shooter**, на втором месте **sports**, на третьем **platform**.\n",
    "- Жанры с самыми низкими продажами: **adventure**, **puzzle** и **strategy**.\n",
    "- Но в жанре **action** очень много выбросов, это говорит о большом количестве прибыльных игр."
   ]
  },
  {
   "cell_type": "markdown",
   "id": "9fa4fce2",
   "metadata": {},
   "source": [
    "### Выводы:"
   ]
  },
  {
   "cell_type": "markdown",
   "id": "cce44c54",
   "metadata": {},
   "source": [
    "- Мы посмотрели, сколько игр выпускалось в разные годы и пришли к выводу, что нам интересен для анализа период с 2013 по 2016 годы.\n",
    "- Также мы посмотрели, как менялись продажи по платформам. Платформы с наибольшими суммарными продажами: **PS2, X360, PS3, Wii, DS и PS**. \n",
    "- Построив распределение по годам определили, что срок за который появляются новые и исчезают старые платформы примеро 9 лет.\n",
    "- Определили, что актуальный период для построения прогноза на 2017 год - с 2012 по 2016 годы. Дальше будем работать только с этим периодом.\n",
    "- Определили потенциально прибыльтные платформы: **PS4, XOne, PC, 3DS**.\n",
    "- Построили график «ящик с усами» по глобальным продажам игр в разбивке по платформам и пришли к выводу, что самое высокое медианное значение у **XOne**.\n",
    "- Посмотрели, как влияют на продажи внутри одной популярной платформы отзывы пользователей и критиков и пришли к выводу, не нашли связи между оценками пользователей и продажами, но нашли слабую связь между оценками критиков и продажами на 2ух пересективных пратформах **PS4, XOne**.\n",
    "- Описали общее распределение игр по жанрам: \n",
    "    - жанры с самыми высокими продажами: **shooter,sports и platform**.\n",
    "    - жанры с самыми низкими продажами: **adventure, puzzle и strategy**.\n",
    "    - в жанре **action** большое количество прибыльных игр."
   ]
  },
  {
   "cell_type": "markdown",
   "id": "eeabbfeb",
   "metadata": {},
   "source": [
    "## Составим портрет пользователя каждого региона"
   ]
  },
  {
   "cell_type": "markdown",
   "id": "e73f913e",
   "metadata": {},
   "source": [
    "### Определим для пользователя каждого региона (NA, EU, JP) самые популярные платформы (топ-5).   "
   ]
  },
  {
   "cell_type": "markdown",
   "id": "943b0831",
   "metadata": {},
   "source": [
    "#### Распредление продаж по платформам в регионе NA (Северная Америка)"
   ]
  },
  {
   "cell_type": "code",
   "execution_count": 52,
   "id": "c192bc0a",
   "metadata": {
    "scrolled": false
   },
   "outputs": [
    {
     "data": {
      "image/png": "[encoded data removed]",
      "text/plain": [
       "<Figure size 720x432 with 1 Axes>"
      ]
     },
     "metadata": {
      "needs_background": "light"
     },
     "output_type": "display_data"
    }
   ],
   "source": [
    "(\n",
    "predict_data.groupby(by='platform').agg({'na_sales':'sum'})\n",
    "    .sort_values(by='na_sales', ascending=False).head(5)\n",
    "    .plot(kind='bar', figsize=(10,6), width=0.8, grid=True)\n",
    "    .set(xlabel='Платформа', ylabel='Количество проданных игр, млн копий', \n",
    "         title='Распредление продаж по платформам в регионе NA (Северная Америка)')\n",
    ");"
   ]
  },
  {
   "cell_type": "markdown",
   "id": "5281e84c",
   "metadata": {},
   "source": [
    "#### Распредление продаж по платформам в регионе EU (Европа)"
   ]
  },
  {
   "cell_type": "code",
   "execution_count": 53,
   "id": "a72e9e2e",
   "metadata": {},
   "outputs": [
    {
     "data": {
      "image/png": "[encoded data removed]",
      "text/plain": [
       "<Figure size 720x432 with 1 Axes>"
      ]
     },
     "metadata": {
      "needs_background": "light"
     },
     "output_type": "display_data"
    }
   ],
   "source": [
    "(\n",
    "predict_data.groupby(by='platform').agg({'eu_sales':'sum'})\n",
    "    .sort_values(by='eu_sales', ascending=False).head(5)\n",
    "    .plot(kind='bar', figsize=(10,6), width=0.8, grid=True)\n",
    "    .set(xlabel='Платформа', ylabel='Количество проданных игр, млн копий', \n",
    "         title='Распредление продаж по платформам в регионе EU (Европа)')\n",
    ");"
   ]
  },
  {
   "cell_type": "markdown",
   "id": "1d66fa8a",
   "metadata": {},
   "source": [
    "#### Распредление продаж по платформам в регионе JP (Япония)"
   ]
  },
  {
   "cell_type": "code",
   "execution_count": 54,
   "id": "19d07fd3",
   "metadata": {
    "scrolled": false
   },
   "outputs": [
    {
     "data": {
      "image/png": "[encoded data removed]",
      "text/plain": [
       "<Figure size 720x432 with 1 Axes>"
      ]
     },
     "metadata": {
      "needs_background": "light"
     },
     "output_type": "display_data"
    }
   ],
   "source": [
    "(\n",
    "predict_data.groupby(by='platform').agg({'jp_sales':'sum'})\n",
    "    .sort_values(by='jp_sales', ascending=False).head(5)\n",
    "    .plot(kind='bar', figsize=(10,6), width=0.8, grid=True)\n",
    "    .set(xlabel='Платформа', ylabel='Количество проданных игр, млн копий', \n",
    "         title='Распредление продаж по платформам в регионе JP (Япония)')\n",
    ");"
   ]
  },
  {
   "cell_type": "markdown",
   "id": "83369b8d",
   "metadata": {},
   "source": [
    "#### Вывод"
   ]
  },
  {
   "cell_type": "markdown",
   "id": "8add5f3e",
   "metadata": {},
   "source": [
    "Из графиков мы делаем вывод, что американцы очень привязаны к старенькому **X360**, а любители **Sony** уверено перебираются с **PS3** на **PS4**. Новый **XOne** чуть менее популярен. Также они не брезгуют портативной консолью **3DS**.\n",
    "\n",
    "В Европе лидируют приставки от **Sony**, За ними следуют приставки от **Microsoft**, но старенький **X360** впереди.  **3DS** тоже пользуется значительным успехом.\n",
    "\n",
    "Японцы наоборот больше любят портативные консоли - **3DS** лидирует с большим отрывом от **PS3**. Далее идет тоже портативная **PSV**. Новая **PS4** менее популярна портавной консоли от **Sony**. Также популярна консоль от **Nintendo WiiU**\n",
    "\n",
    "Если европейский и американский рынки похожи,с разницей, европейцам больше по душе **Sony**, а американцы старенький **X360**. То японский рынок выделяется предпочтением к портативным консолям."
   ]
  },
  {
   "cell_type": "markdown",
   "id": "c7a4e98d",
   "metadata": {},
   "source": [
    "### Самые популярные жанры (топ-5). "
   ]
  },
  {
   "cell_type": "markdown",
   "id": "2fd0b3a1",
   "metadata": {},
   "source": [
    "#### Распредление продаж по жанрам игры в регионе NA (Северная Америка)"
   ]
  },
  {
   "cell_type": "code",
   "execution_count": 55,
   "id": "2edd0143",
   "metadata": {},
   "outputs": [
    {
     "data": {
      "image/png": "[encoded data removed]",
      "text/plain": [
       "<Figure size 720x432 with 1 Axes>"
      ]
     },
     "metadata": {
      "needs_background": "light"
     },
     "output_type": "display_data"
    }
   ],
   "source": [
    "(\n",
    "predict_data.groupby(by='genre').agg({'na_sales':'sum'})\n",
    "    .sort_values(by='na_sales', ascending=False).head(5)\n",
    "    .plot(kind='bar', figsize=(10,6), width=0.8, grid=True)\n",
    "    .set(xlabel='Жанр игры', ylabel='Количество проданных игр, млн копий', \n",
    "         title='Распредление продаж по жанрам игры в регионе NA (Северная Америка)')\n",
    ");"
   ]
  },
  {
   "cell_type": "markdown",
   "id": "4865183c",
   "metadata": {},
   "source": [
    "#### Распредление продаж по жанрам игры в регионе EU (Европа)"
   ]
  },
  {
   "cell_type": "code",
   "execution_count": 56,
   "id": "d1660b54",
   "metadata": {},
   "outputs": [
    {
     "data": {
      "image/png": "[encoded data removed]",
      "text/plain": [
       "<Figure size 720x432 with 1 Axes>"
      ]
     },
     "metadata": {
      "needs_background": "light"
     },
     "output_type": "display_data"
    }
   ],
   "source": [
    "(\n",
    "predict_data.groupby(by='genre').agg({'eu_sales':'sum'})\n",
    "    .sort_values(by='eu_sales', ascending=False).head(5)\n",
    "    .plot(kind='bar', figsize=(10,6), width=0.8, grid=True)\n",
    "    .set(xlabel='Жанр игры', ylabel='Количество проданных игр, млн копий', \n",
    "         title='Распредление продаж по жанрам игры в регионе EU (Европа)')\n",
    ");"
   ]
  },
  {
   "cell_type": "markdown",
   "id": "da45434f",
   "metadata": {},
   "source": [
    "#### Распредление продаж по жанрам игры в регионе JP (Япония)"
   ]
  },
  {
   "cell_type": "code",
   "execution_count": 57,
   "id": "1d82c8dd",
   "metadata": {},
   "outputs": [
    {
     "data": {
      "image/png": "[encoded data removed]",
      "text/plain": [
       "<Figure size 720x432 with 1 Axes>"
      ]
     },
     "metadata": {
      "needs_background": "light"
     },
     "output_type": "display_data"
    }
   ],
   "source": [
    "(\n",
    "predict_data.groupby(by='genre').agg({'jp_sales':'sum'})\n",
    "    .sort_values(by='jp_sales', ascending=False).head(5)\n",
    "    .plot(kind='bar', figsize=(10,6), width=0.8, grid=True)\n",
    "    .set(xlabel='Жанр игры', ylabel='Количество проданных игр, млн копий', \n",
    "         title='Распредление продаж по жанрам игры в регионе JP (Япония)')\n",
    ");"
   ]
  },
  {
   "cell_type": "markdown",
   "id": "a4bb0695",
   "metadata": {},
   "source": [
    "#### Вывод"
   ]
  },
  {
   "cell_type": "markdown",
   "id": "f8ee311d",
   "metadata": {},
   "source": [
    "Из графиков мы видим, что американский и европейский рынки похожи. С разницой что европейцам больше по душе гонки, а американцам игры категории прочее. На обоих рынках лидирует **action**, на втором месте **shooter**, на третьем **sports**, на четвертом **role-playing**.\n",
    "\n",
    "Японцы больше покупают **role-playing**, на втором месте **action**, на третьем игры категории прочее, на четвертом **simulation**, на пятом **fighting**."
   ]
  },
  {
   "cell_type": "markdown",
   "id": "5371bdf5",
   "metadata": {},
   "source": [
    "### Определим, влияет ли рейтинг ESRB на продажи в отдельном регионе"
   ]
  },
  {
   "cell_type": "markdown",
   "id": "531bd362",
   "metadata": {},
   "source": [
    "#### Распредление продаж по рейтингам ESRB в регионе NA (Северная Америка)"
   ]
  },
  {
   "cell_type": "code",
   "execution_count": 58,
   "id": "de2d7192",
   "metadata": {},
   "outputs": [
    {
     "data": {
      "image/png": "[encoded data removed]",
      "text/plain": [
       "<Figure size 720x432 with 1 Axes>"
      ]
     },
     "metadata": {
      "needs_background": "light"
     },
     "output_type": "display_data"
    }
   ],
   "source": [
    "(\n",
    "predict_data.groupby(by='rating').agg({'na_sales':'sum'})\n",
    "    .sort_values(by='na_sales', ascending=False).head(5)\n",
    "    .plot(kind='bar', figsize=(10,6), width=0.8, grid=True)\n",
    "    .set(xlabel='Рейтинг ESRB', ylabel='Количество проданных игр, млн копий', \n",
    "         title='Распредление продаж по рейтингам ESRB в регионе NA (Северная Америка)')\n",
    ");"
   ]
  },
  {
   "cell_type": "markdown",
   "id": "7b825800",
   "metadata": {},
   "source": [
    "#### Распредление продаж по рейтингам ESRB в регионе EU (Европа)"
   ]
  },
  {
   "cell_type": "code",
   "execution_count": 59,
   "id": "f4acbc52",
   "metadata": {},
   "outputs": [
    {
     "data": {
      "image/png": "[encoded data removed]",
      "text/plain": [
       "<Figure size 720x432 with 1 Axes>"
      ]
     },
     "metadata": {
      "needs_background": "light"
     },
     "output_type": "display_data"
    }
   ],
   "source": [
    "(\n",
    "predict_data.groupby(by='rating').agg({'eu_sales':'sum'})\n",
    "    .sort_values(by='eu_sales', ascending=False).head(5)\n",
    "    .plot(kind='bar', figsize=(10,6), width=0.8, grid=True)\n",
    "    .set(xlabel='Рейтинг ESRB', ylabel='Количество проданных игр, млн копий', \n",
    "         title='Распредление продаж по рейтингам ESRB в регионе EU (Европа)')\n",
    ");"
   ]
  },
  {
   "cell_type": "markdown",
   "id": "7ab7b809",
   "metadata": {},
   "source": [
    "#### Распредление продаж по рейтингам ESRB в регионе JP (Япония)"
   ]
  },
  {
   "cell_type": "code",
   "execution_count": 60,
   "id": "68d05440",
   "metadata": {},
   "outputs": [
    {
     "data": {
      "image/png": "[encoded data removed]",
      "text/plain": [
       "<Figure size 720x432 with 1 Axes>"
      ]
     },
     "metadata": {
      "needs_background": "light"
     },
     "output_type": "display_data"
    }
   ],
   "source": [
    "(\n",
    "predict_data.groupby(by='rating').agg({'jp_sales':'sum'})\n",
    "    .sort_values(by='jp_sales', ascending=False).head(5)\n",
    "    .plot(kind='bar', figsize=(10,6), width=0.8, grid=True)\n",
    "    .set(xlabel='Рейтинг ESRB', ylabel='Количество проданных игр, млн копий', \n",
    "         title='Распредление продаж по рейтингам ESRB в регионе JP (Япония)')\n",
    ");"
   ]
  },
  {
   "cell_type": "markdown",
   "id": "7fb71997",
   "metadata": {},
   "source": [
    "#### Вывод"
   ]
  },
  {
   "cell_type": "markdown",
   "id": "00c8cfcd",
   "metadata": {},
   "source": [
    "Из графиков мы видим, что рынки Америки и Европы похожи. В большинстве пользователи покупают игры категории **M** (Материалы игры не подходят для лиц младше 17 лет). На втором месте категория **Е** (Содержание вполне подходит для всех возрастов), на третьем категория которой не присвоен никакой рейтинг ESRB или он отсутвовал в базе, на четвертом категория **Е10+** (Для всех от 10 лет и старше), на пятом категория **T** (Игра подходит для лиц от 13 лет).\n",
    "\n",
    "Японцы наоборот больше всего покупают игры с неприсвоенной категорией ESRB или отсутвующей в базе. На втором месте с большим отрывом категория **Е** (Содержание вполне подходит для всех возрастов), на третьем категория категория **T** (Игра подходит для лиц от 13 лет), на четвером категория **M** (Материалы игры не подходят для лиц младше 17 лет), на пятом катгория **Е10+** (Для всех от 10 лет и старше)."
   ]
  },
  {
   "cell_type": "markdown",
   "id": "e01edc8e",
   "metadata": {},
   "source": [
    "### Общий вывод по разделу Портрет пользователя каждого региона:"
   ]
  },
  {
   "cell_type": "markdown",
   "id": "90e00476",
   "metadata": {},
   "source": [
    "- Европейский и американский рынки похожи. Пользователи в них в основном препочитают стационарные приставки портатиным консолям и игры в жанрах **action** и **shooter** категории **M** (Материалы игры не подходят для лиц младше 17 лет).\n",
    "- Японский рынок сильно выделяется привеженностью японцев к портативным консолям, играм в жанре **role-play** с неприсвоенным рейтингом ESRB."
   ]
  },
  {
   "cell_type": "markdown",
   "id": "8afc8be5",
   "metadata": {},
   "source": [
    "## Проверка гипотез"
   ]
  },
  {
   "cell_type": "markdown",
   "id": "8c257e2b",
   "metadata": {},
   "source": [
    "### Гипотеза 1. Средние пользовательские рейтинги платформ Xbox One и PC одинаковые."
   ]
  },
  {
   "cell_type": "markdown",
   "id": "d2b2918c",
   "metadata": {},
   "source": [
    "#### Сформулируем нулевую и альтернативную гипотезы:\n",
    "\n",
    "- Н0: Средний пользовательский рейтинг платформ Xbox One и PC одинаковый\n",
    "- H1: Средний пользовательский рейтинг платформ Xbox One и PC различается\n",
    "\n",
    "Поскольку между собой выборки независимы, будем использовать t-критерий Стьюдента"
   ]
  },
  {
   "cell_type": "markdown",
   "id": "aa9736c3",
   "metadata": {},
   "source": [
    "#### Назначим переменные с данными оценок по XOne и PC"
   ]
  },
  {
   "cell_type": "code",
   "execution_count": 61,
   "id": "d2235742",
   "metadata": {},
   "outputs": [],
   "source": [
    "x_one = predict_data[(predict_data['platform'] == 'XOne') & (predict_data['user_score'] > 0)]['user_score']\n",
    "pc = predict_data[(predict_data['platform'] == 'PC') & (predict_data['user_score'] > 0)]['user_score']"
   ]
  },
  {
   "cell_type": "markdown",
   "id": "f8e3f97e",
   "metadata": {},
   "source": [
    "#### Зададим пороговое значение alpha"
   ]
  },
  {
   "cell_type": "code",
   "execution_count": 62,
   "id": "6849cfed",
   "metadata": {},
   "outputs": [],
   "source": [
    "alpha = .05"
   ]
  },
  {
   "cell_type": "markdown",
   "id": "dcbc92a0",
   "metadata": {},
   "source": [
    "#### Проведём тест"
   ]
  },
  {
   "cell_type": "code",
   "execution_count": 63,
   "id": "d9a93d22",
   "metadata": {},
   "outputs": [],
   "source": [
    "results = st.ttest_ind(x_one, pc)"
   ]
  },
  {
   "cell_type": "markdown",
   "id": "404cbfb5",
   "metadata": {},
   "source": [
    "#### Выведем результат"
   ]
  },
  {
   "cell_type": "code",
   "execution_count": 64,
   "id": "c80d2abe",
   "metadata": {},
   "outputs": [
    {
     "name": "stdout",
     "output_type": "stream",
     "text": [
      "p-значение: 0.6252774522173157\n",
      "Не получилось отвергнуть нулевую гипотезу\n"
     ]
    }
   ],
   "source": [
    "print('p-значение:', results.pvalue)\n",
    "\n",
    "if (results.pvalue < alpha):\n",
    "    print(\"Отвергаем нулевую гипотезу\")\n",
    "else:\n",
    "    print(\"Не получилось отвергнуть нулевую гипотезу\")"
   ]
  },
  {
   "cell_type": "markdown",
   "id": "1bce012a",
   "metadata": {},
   "source": [
    "#### Вывод:\n",
    "\n",
    "По результатам проверки первой гипотезы можно сказать, что вероятность того, что пользовательские рейтинги платформ Xbox One и PC разные очень низкая. Будем склоняться к тому, что пользовательские рейтинги этих платформам примерно одинаковы."
   ]
  },
  {
   "cell_type": "markdown",
   "id": "001f6047",
   "metadata": {},
   "source": [
    "### Гипотеза 2. Средние пользовательские рейтинги жанров Action  и Sports разные."
   ]
  },
  {
   "cell_type": "markdown",
   "id": "24c54f64",
   "metadata": {},
   "source": [
    "#### Сформулируем нулевую и альтернативную гипотезы:"
   ]
  },
  {
   "cell_type": "markdown",
   "id": "ef0e0045",
   "metadata": {},
   "source": [
    "- H0: Средние пользовательские рейтинги жанров Action и Sports равны\n",
    "- H1: Средние пользовательские рейтинги жанров Action и Sports различаются\n",
    "\n",
    "Поскольку между собой выборки независимы, также будем использовать t-критерий Стьюдента"
   ]
  },
  {
   "cell_type": "markdown",
   "id": "6bbab8bd",
   "metadata": {},
   "source": [
    "#### Назначим переменные с данными оценок по Action и Sports"
   ]
  },
  {
   "cell_type": "code",
   "execution_count": 65,
   "id": "93b33faf",
   "metadata": {},
   "outputs": [],
   "source": [
    "action = predict_data[(predict_data['genre'] == 'action') & (predict_data['user_score'] > 0)]['user_score']\n",
    "sport = predict_data[(predict_data['genre'] == 'sports') & (predict_data['user_score'] > 0)]['user_score']"
   ]
  },
  {
   "cell_type": "markdown",
   "id": "945fd350",
   "metadata": {},
   "source": [
    "#### Зададим пороговое значение alpha"
   ]
  },
  {
   "cell_type": "code",
   "execution_count": 66,
   "id": "d2cf85df",
   "metadata": {},
   "outputs": [],
   "source": [
    "alpha = .05"
   ]
  },
  {
   "cell_type": "markdown",
   "id": "194a34b4",
   "metadata": {},
   "source": [
    "#### Проведём тест"
   ]
  },
  {
   "cell_type": "code",
   "execution_count": 67,
   "id": "901c934e",
   "metadata": {},
   "outputs": [],
   "source": [
    "results = st.ttest_ind(action, sport)"
   ]
  },
  {
   "cell_type": "markdown",
   "id": "aeaaf27f",
   "metadata": {},
   "source": [
    "#### Выведем результат"
   ]
  },
  {
   "cell_type": "code",
   "execution_count": 68,
   "id": "ce83ce1b",
   "metadata": {},
   "outputs": [
    {
     "name": "stdout",
     "output_type": "stream",
     "text": [
      "p-значение: 1.1405639632267916e-26\n",
      "Отвергаем нулевую гипотезу\n"
     ]
    }
   ],
   "source": [
    "print('p-значение:', results.pvalue)\n",
    "\n",
    "if (results.pvalue < alpha):\n",
    "    print(\"Отвергаем нулевую гипотезу\")\n",
    "else:\n",
    "    print(\"Не получилось отвергнуть нулевую гипотезу\")"
   ]
  },
  {
   "cell_type": "markdown",
   "id": "5d69d99e",
   "metadata": {},
   "source": [
    "#### Вывод:"
   ]
  },
  {
   "cell_type": "markdown",
   "id": "c402a428",
   "metadata": {},
   "source": [
    "По результатам проверки второй гипотезы можно сказать, что вероятность того, что пользовательские рейтинги между action и sports разные, высока. Или вероятность того, что они равны очень низкая."
   ]
  },
  {
   "cell_type": "markdown",
   "id": "57e55c41",
   "metadata": {},
   "source": [
    "## Общие выводы"
   ]
  },
  {
   "cell_type": "markdown",
   "id": "1350bbd3",
   "metadata": {},
   "source": [
    "**В этом исследовании мы:**\n",
    "1. Загрузили и ознакомились с данными, сделали копию и стали работать с ней.\n",
    "2. Подготовили данные к исследовательскому анализу:\n",
    "    - Были приведены к \"зминому стилю\" названия столбцов и данные в столбцах **genre и name**.\n",
    "    - Столбец **year_of_release** приведен к **\"int\"**.\n",
    "    - Столбец **user_scor**e приведем к \"float\".\n",
    "    - Заменена на **NaN** аббревиатура **'tbd'** в столбце с оценкой пользователей.\n",
    "    - В столбцах **name и genre** удалены пропущенные значения.\n",
    "    - Заполнены часть пропусков в столбце **year_of_release**, остальные удалены.\n",
    "    - Заполнены пропуски в столбце **rating** и заменен рейтинг **K-A** на **E**.\n",
    "    - Столбцы **critic_score** и **user_score** описаны и оставлены без изменения в связи с невозможностью заполнить в них пропуски.\n",
    "    - При предобработке данных осталось **99.11%** данных.\n",
    "    - Посчитаны суммарные продажи во всех регионах и записаны в отдельный столбец.\n",
    "3. Провели исследовательский анализ:\n",
    "    - Мы посмотрели, сколько игр выпускалось в разные годы и пришли к выводу, что нам интересен для анализа период с 2013 по 2016 годы.\n",
    "    - Также мы посмотрели, как менялись продажи по платформам. Платформы с наибольшими суммарными продажами: **PS2, X360, PS3, Wii, DS и PS**.\n",
    "    - Построив распределение по годам определили, что срок за который появляются новые и исчезают старые платформы примеро **9 лет**.\n",
    "    - Определили, что актуальный период для построения прогноза на 2017 год - **с 2012 по 2016 годы.** Дальше будем работать только с этим периодом.\n",
    "    - Определили потенциально прибыльтные платформы: **PS4, XOne, PC, 3DS.**\n",
    "    - Построили график «ящик с усами» по глобальным продажам игр в разбивке по платформам и пришли к выводу, что самое высокое медианное значение у **XOne**.\n",
    "    - Посмотрели, как влияют на продажи внутри одной популярной платформы отзывы пользователей и критиков и пришли к выводу, не нашли связи между оценками пользователей и продажами, но нашли слабую связь между оценками критиков и продажами на 2ух пересективных пратформах **PS4, XOne**.\n",
    "    - Описали общее распределение игр по жанрам:\n",
    "        - жанры с самыми высокими продажами: **shooter,sports и platform**.\n",
    "        - жанры с самыми низкими продажами: **adventure, puzzle и strategy**.\n",
    "        - в жанре action большое количество прибыльных игр.\n",
    "4. Составили портрет пользователя каждого региона:\n",
    "- Европейский и американский рынки похожи. Пользователи в них в основном препочитают стационарные приставки портатиным консолям и игры в жанрах **action и shooter** категории **M** (Материалы игры не подходят для лиц младше 17 лет).\n",
    "- Японский рынок сильно выделяется привеженностью японцев к портативным консолям, играм в жанре **role-play** с неприсвоенным рейтингом **ESRB**.\n",
    "5. Проверили 2 гипотезы:\n",
    "- Гипотеза 1. Средние пользовательские рейтинги платформ **Xbox One и PC** одинаковые.\n",
    "    - По результатам проверки первой гипотезы можно сказать, что вероятность того, что пользовательские рейтинги платформ **Xbox One и PC** разные очень низкая. Будем склоняться к тому, что пользовательские рейтинги этих платформам примерно одинаковы.\n",
    "- Гипотеза 2. Средние пользовательские рейтинги жанров **Action и Sports** разные.\n",
    "    - По результатам проверки второй гипотезы можно сказать, что вероятность того, что пользовательские рейтинги между **action и sports** разные, высока. Или вероятность того, что они равны очень низкая.\n",
    "    \n",
    "**По результам исследования игрового рынка можем сказать:**\n",
    "\n",
    "1. **Примерный срок жизни игровой платформы - 9 лет, за исключением РС - он вечен!**\n",
    "2. **Самые перспективные платформы PS4, XOne.**\n",
    "3. **Самые продаваемые жанры игр shooter,sports и platform**.\n",
    "4. **Европейский и американский рынки похожи. Пользователи в них предпочитают стционарные игровые приставки и игры в жанрах action и shooter которые не подходят для лиц младше 17 лет.**\n",
    "5. **Японские пользователи препочитают портативные консоли, игры в жанре role-play и судя по отсутвию рейтинга ESRB в большинстве игр, у них свой игровой продукт, который нравится только японцам.**"
   ]
  },
  {
   "cell_type": "markdown",
   "id": "6b472bf1",
   "metadata": {},
   "source": [
    "**Чек-лист:**"
   ]
  },
  {
   "cell_type": "markdown",
   "id": "09b49200",
   "metadata": {},
   "source": [
    "- [x]  Файл с данными загружен и изучена общая информация.\n",
    "- [x]  Названия столбцов заменены. \n",
    "- [x]  Данные в нужные типы пробразованы и описано, в каких столбцах заменили тип данных и почему.\n",
    "- [x]  Обработаны пропуски. Объяснено, почему заполнили пропуски определённым образом или почему не стали это делать.\n",
    "- [x]  Описаны причины, которые могли привести к пропускам.\n",
    "- [x]  Обработана и описана аббревиатура 'tbd' в столбце с оценкой пользователей.\n",
    "- [x]  Посчитаны суммарные продажи во всех регионах и записаны в отдельный столбец.\n",
    "- [x]  Определено, сколько игр выпускалось в разные годы и важны ли данные за все периоды.\n",
    "- [x]  Определено, как менялись продажи по платформам: \n",
    "    - [x]  Выбраны платформы с наибольшими суммарными продажами и построено распределение по годам. \n",
    "    - [x]  Определено, за какой характерный срок появляются новые и исчезают старые платформы.\n",
    "- [x]  Определен актуальный период в данных для построения прогноза на 2017 год.\n",
    "- [x]  Выбрано несколько потенциально прибыльных платформ.\n",
    "- [x]  Построен график «ящик с усами» по глобальным продажам игр в разбивке по платформам. Описан результат.\n",
    "- [x]  Определено влияние на продажи внутри одной популярной платформы отзывы пользователей и критиков. Построена диаграмма рассеяния и посчитана корреляция между отзывами и продажами. Сформулированы выводы.\n",
    "- [x]  Соотнесены выводы с продажами игр на других платформах.\n",
    "- [x]  Описано общее распределение игр по жанрам и получены ответы на вопросы: \n",
    "    - [x]  Что можно сказать о самых прибыльных жанрах? \n",
    "    - [x]  Выделяются ли жанры с высокими и низкими продажами?\n",
    "- [x]  Составлен портрет пользователя каждого региона. Определены для пользователя каждого региона (NA, EU, JP):\n",
    "    - [x]  Самые популярные платформы (топ-5). Описаны различия в долях продаж.\n",
    "    - [x]  Самые популярные жанры (топ-5). Пояснена разница.\n",
    "    - [x]  Определено, влияет ли рейтинг ESRB на продажи в отдельном регионе?\n",
    "- [x]  Проверены гипотезы:\n",
    "    - [x]  Средние пользовательские рейтинги платформ Xbox One и PC одинаковые.\n",
    "    - [x]  Средние пользовательские рейтинги жанров Action (англ. «действие», экшен-игры) и Sports (англ. «спортивные соревнования») разные.\n",
    "- [x]  Пояснено:\n",
    "    - [x]  Как сформулировали нулевую и альтернативную гипотезы.\n",
    "    - [x]  Какой критерий применили для проверки гипотез и почему.\n",
    "- [x]  Написан общий вывод."
   ]
  }
 ],
 "metadata": {
  "ExecuteTimeLog": [
   {
    "duration": 1356,
    "start_time": "2023-03-18T12:45:21.252Z"
   },
   {
    "duration": 130,
    "start_time": "2023-03-18T12:45:22.610Z"
   },
   {
    "duration": 3,
    "start_time": "2023-03-18T12:45:22.742Z"
   },
   {
    "duration": 8,
    "start_time": "2023-03-18T12:45:22.749Z"
   },
   {
    "duration": 785,
    "start_time": "2023-03-18T12:45:22.759Z"
   },
   {
    "duration": 5,
    "start_time": "2023-03-18T12:45:23.546Z"
   },
   {
    "duration": 22,
    "start_time": "2023-03-18T12:45:23.552Z"
   },
   {
    "duration": 18,
    "start_time": "2023-03-18T12:45:23.575Z"
   },
   {
    "duration": 9,
    "start_time": "2023-03-18T12:45:23.594Z"
   },
   {
    "duration": 6,
    "start_time": "2023-03-18T12:45:23.606Z"
   },
   {
    "duration": 17,
    "start_time": "2023-03-18T12:45:23.613Z"
   },
   {
    "duration": 9,
    "start_time": "2023-03-18T12:45:23.631Z"
   },
   {
    "duration": 14,
    "start_time": "2023-03-18T12:45:23.642Z"
   },
   {
    "duration": 44,
    "start_time": "2023-03-18T12:45:23.657Z"
   },
   {
    "duration": 5,
    "start_time": "2023-03-18T12:45:23.703Z"
   },
   {
    "duration": 358,
    "start_time": "2023-03-18T12:45:23.710Z"
   },
   {
    "duration": 9,
    "start_time": "2023-03-18T12:45:24.070Z"
   },
   {
    "duration": 13,
    "start_time": "2023-03-18T12:45:24.081Z"
   },
   {
    "duration": 15,
    "start_time": "2023-03-18T12:45:24.096Z"
   },
   {
    "duration": 5,
    "start_time": "2023-03-18T12:45:24.113Z"
   },
   {
    "duration": 12,
    "start_time": "2023-03-18T12:45:24.119Z"
   },
   {
    "duration": 8,
    "start_time": "2023-03-18T12:45:24.133Z"
   },
   {
    "duration": 10,
    "start_time": "2023-03-18T12:45:24.142Z"
   },
   {
    "duration": 12,
    "start_time": "2023-03-18T12:45:24.153Z"
   },
   {
    "duration": 9,
    "start_time": "2023-03-18T12:45:24.189Z"
   },
   {
    "duration": 5,
    "start_time": "2023-03-18T12:45:24.199Z"
   },
   {
    "duration": 13,
    "start_time": "2023-03-18T12:45:24.205Z"
   },
   {
    "duration": 12,
    "start_time": "2023-03-18T12:45:24.221Z"
   },
   {
    "duration": 4,
    "start_time": "2023-03-18T12:45:24.235Z"
   },
   {
    "duration": 25,
    "start_time": "2023-03-18T12:45:24.242Z"
   },
   {
    "duration": 16,
    "start_time": "2023-03-18T12:45:24.289Z"
   },
   {
    "duration": 350,
    "start_time": "2023-03-18T12:45:24.307Z"
   },
   {
    "duration": 15,
    "start_time": "2023-03-18T12:45:24.659Z"
   },
   {
    "duration": 413,
    "start_time": "2023-03-18T12:45:24.689Z"
   },
   {
    "duration": 17,
    "start_time": "2023-03-18T12:45:25.104Z"
   },
   {
    "duration": 12,
    "start_time": "2023-03-18T12:45:25.123Z"
   },
   {
    "duration": 21,
    "start_time": "2023-03-18T12:45:25.137Z"
   },
   {
    "duration": 4,
    "start_time": "2023-03-18T12:45:25.160Z"
   },
   {
    "duration": 14,
    "start_time": "2023-03-18T12:45:25.190Z"
   },
   {
    "duration": 334,
    "start_time": "2023-03-18T12:45:25.206Z"
   },
   {
    "duration": 272,
    "start_time": "2023-03-18T12:45:25.542Z"
   },
   {
    "duration": 5,
    "start_time": "2023-03-18T12:45:25.816Z"
   },
   {
    "duration": 176,
    "start_time": "2023-03-18T12:45:25.822Z"
   },
   {
    "duration": 4,
    "start_time": "2023-03-18T12:45:26.000Z"
   },
   {
    "duration": 202,
    "start_time": "2023-03-18T12:45:26.005Z"
   },
   {
    "duration": 5,
    "start_time": "2023-03-18T12:45:26.208Z"
   },
   {
    "duration": 21,
    "start_time": "2023-03-18T12:45:26.214Z"
   },
   {
    "duration": 11,
    "start_time": "2023-03-18T12:45:26.237Z"
   },
   {
    "duration": 1151,
    "start_time": "2023-03-18T12:45:26.250Z"
   },
   {
    "duration": 13,
    "start_time": "2023-03-18T12:45:27.403Z"
   },
   {
    "duration": 318,
    "start_time": "2023-03-18T12:45:27.418Z"
   },
   {
    "duration": 165,
    "start_time": "2023-03-18T12:45:27.738Z"
   },
   {
    "duration": 171,
    "start_time": "2023-03-18T12:45:27.905Z"
   },
   {
    "duration": 240,
    "start_time": "2023-03-18T12:45:28.078Z"
   },
   {
    "duration": 221,
    "start_time": "2023-03-18T12:45:28.319Z"
   },
   {
    "duration": 187,
    "start_time": "2023-03-18T12:45:28.541Z"
   },
   {
    "duration": 160,
    "start_time": "2023-03-18T12:45:28.730Z"
   },
   {
    "duration": 170,
    "start_time": "2023-03-18T12:45:28.892Z"
   },
   {
    "duration": 182,
    "start_time": "2023-03-18T12:45:29.064Z"
   },
   {
    "duration": 167,
    "start_time": "2023-03-18T12:45:29.248Z"
   },
   {
    "duration": 7,
    "start_time": "2023-03-18T12:45:29.416Z"
   },
   {
    "duration": 8,
    "start_time": "2023-03-18T12:45:29.425Z"
   },
   {
    "duration": 24,
    "start_time": "2023-03-18T12:45:29.434Z"
   },
   {
    "duration": 15,
    "start_time": "2023-03-18T12:45:29.460Z"
   },
   {
    "duration": 23,
    "start_time": "2023-03-18T12:45:29.477Z"
   },
   {
    "duration": 14,
    "start_time": "2023-03-18T12:45:29.501Z"
   },
   {
    "duration": 22,
    "start_time": "2023-03-18T12:45:29.517Z"
   },
   {
    "duration": 30,
    "start_time": "2023-03-18T12:45:29.541Z"
   },
   {
    "duration": 77,
    "start_time": "2023-03-18T12:48:36.277Z"
   },
   {
    "duration": 57,
    "start_time": "2023-03-18T13:03:10.607Z"
   },
   {
    "duration": 51,
    "start_time": "2023-03-18T13:03:21.575Z"
   },
   {
    "duration": 321,
    "start_time": "2023-03-18T13:14:08.320Z"
   },
   {
    "duration": 341,
    "start_time": "2023-03-18T13:14:33.000Z"
   },
   {
    "duration": 335,
    "start_time": "2023-03-18T13:14:42.938Z"
   },
   {
    "duration": 326,
    "start_time": "2023-03-18T13:14:51.479Z"
   },
   {
    "duration": 406,
    "start_time": "2023-03-18T13:14:58.318Z"
   },
   {
    "duration": 407,
    "start_time": "2023-03-18T13:18:06.910Z"
   },
   {
    "duration": 44,
    "start_time": "2023-03-18T13:18:36.791Z"
   },
   {
    "duration": 62,
    "start_time": "2023-03-18T13:18:50.045Z"
   },
   {
    "duration": 316,
    "start_time": "2023-03-18T13:19:01.985Z"
   },
   {
    "duration": 52,
    "start_time": "2023-03-18T13:20:51.692Z"
   },
   {
    "duration": 1152,
    "start_time": "2023-03-18T13:22:48.007Z"
   },
   {
    "duration": 151,
    "start_time": "2023-03-18T13:22:49.162Z"
   },
   {
    "duration": 3,
    "start_time": "2023-03-18T13:22:49.315Z"
   },
   {
    "duration": 8,
    "start_time": "2023-03-18T13:22:49.319Z"
   },
   {
    "duration": 865,
    "start_time": "2023-03-18T13:22:49.330Z"
   },
   {
    "duration": 5,
    "start_time": "2023-03-18T13:22:50.197Z"
   },
   {
    "duration": 33,
    "start_time": "2023-03-18T13:22:50.204Z"
   },
   {
    "duration": 7,
    "start_time": "2023-03-18T13:22:50.238Z"
   },
   {
    "duration": 8,
    "start_time": "2023-03-18T13:22:50.247Z"
   },
   {
    "duration": 34,
    "start_time": "2023-03-18T13:22:50.257Z"
   },
   {
    "duration": 13,
    "start_time": "2023-03-18T13:22:50.293Z"
   },
   {
    "duration": 10,
    "start_time": "2023-03-18T13:22:50.308Z"
   },
   {
    "duration": 17,
    "start_time": "2023-03-18T13:22:50.319Z"
   },
   {
    "duration": 14,
    "start_time": "2023-03-18T13:22:50.339Z"
   },
   {
    "duration": 38,
    "start_time": "2023-03-18T13:22:50.354Z"
   },
   {
    "duration": 366,
    "start_time": "2023-03-18T13:22:50.394Z"
   },
   {
    "duration": 9,
    "start_time": "2023-03-18T13:22:50.761Z"
   },
   {
    "duration": 5,
    "start_time": "2023-03-18T13:22:50.772Z"
   },
   {
    "duration": 15,
    "start_time": "2023-03-18T13:22:50.790Z"
   },
   {
    "duration": 6,
    "start_time": "2023-03-18T13:22:50.807Z"
   },
   {
    "duration": 17,
    "start_time": "2023-03-18T13:22:50.815Z"
   },
   {
    "duration": 10,
    "start_time": "2023-03-18T13:22:50.834Z"
   },
   {
    "duration": 7,
    "start_time": "2023-03-18T13:22:50.846Z"
   },
   {
    "duration": 12,
    "start_time": "2023-03-18T13:22:50.855Z"
   },
   {
    "duration": 25,
    "start_time": "2023-03-18T13:22:50.869Z"
   },
   {
    "duration": 5,
    "start_time": "2023-03-18T13:22:50.895Z"
   },
   {
    "duration": 13,
    "start_time": "2023-03-18T13:22:50.901Z"
   },
   {
    "duration": 12,
    "start_time": "2023-03-18T13:22:50.915Z"
   },
   {
    "duration": 22,
    "start_time": "2023-03-18T13:22:50.928Z"
   },
   {
    "duration": 19,
    "start_time": "2023-03-18T13:22:50.952Z"
   },
   {
    "duration": 29,
    "start_time": "2023-03-18T13:22:50.973Z"
   },
   {
    "duration": 343,
    "start_time": "2023-03-18T13:22:51.004Z"
   },
   {
    "duration": 16,
    "start_time": "2023-03-18T13:22:51.349Z"
   },
   {
    "duration": 439,
    "start_time": "2023-03-18T13:22:51.367Z"
   },
   {
    "duration": 16,
    "start_time": "2023-03-18T13:22:51.808Z"
   },
   {
    "duration": 12,
    "start_time": "2023-03-18T13:22:51.826Z"
   },
   {
    "duration": 43,
    "start_time": "2023-03-18T13:22:51.839Z"
   },
   {
    "duration": 7,
    "start_time": "2023-03-18T13:22:51.884Z"
   },
   {
    "duration": 31,
    "start_time": "2023-03-18T13:22:51.893Z"
   },
   {
    "duration": 336,
    "start_time": "2023-03-18T13:22:51.926Z"
   },
   {
    "duration": 289,
    "start_time": "2023-03-18T13:22:52.268Z"
   },
   {
    "duration": 5,
    "start_time": "2023-03-18T13:22:52.559Z"
   },
   {
    "duration": 181,
    "start_time": "2023-03-18T13:22:52.565Z"
   },
   {
    "duration": 4,
    "start_time": "2023-03-18T13:22:52.748Z"
   },
   {
    "duration": 189,
    "start_time": "2023-03-18T13:22:52.754Z"
   },
   {
    "duration": 5,
    "start_time": "2023-03-18T13:22:52.945Z"
   },
   {
    "duration": 17,
    "start_time": "2023-03-18T13:22:52.951Z"
   },
   {
    "duration": 22,
    "start_time": "2023-03-18T13:22:52.970Z"
   },
   {
    "duration": 1090,
    "start_time": "2023-03-18T13:22:52.994Z"
   },
   {
    "duration": 19,
    "start_time": "2023-03-18T13:22:54.091Z"
   },
   {
    "duration": 326,
    "start_time": "2023-03-18T13:22:54.111Z"
   },
   {
    "duration": 198,
    "start_time": "2023-03-18T13:22:54.440Z"
   },
   {
    "duration": 185,
    "start_time": "2023-03-18T13:22:54.640Z"
   },
   {
    "duration": 250,
    "start_time": "2023-03-18T13:22:54.827Z"
   },
   {
    "duration": 172,
    "start_time": "2023-03-18T13:22:55.079Z"
   },
   {
    "duration": 184,
    "start_time": "2023-03-18T13:22:55.253Z"
   },
   {
    "duration": 176,
    "start_time": "2023-03-18T13:22:55.439Z"
   },
   {
    "duration": 161,
    "start_time": "2023-03-18T13:22:55.617Z"
   },
   {
    "duration": 180,
    "start_time": "2023-03-18T13:22:55.780Z"
   },
   {
    "duration": 166,
    "start_time": "2023-03-18T13:22:55.962Z"
   },
   {
    "duration": 7,
    "start_time": "2023-03-18T13:22:56.130Z"
   },
   {
    "duration": 7,
    "start_time": "2023-03-18T13:22:56.139Z"
   },
   {
    "duration": 7,
    "start_time": "2023-03-18T13:22:56.148Z"
   },
   {
    "duration": 6,
    "start_time": "2023-03-18T13:22:56.156Z"
   },
   {
    "duration": 27,
    "start_time": "2023-03-18T13:22:56.164Z"
   },
   {
    "duration": 4,
    "start_time": "2023-03-18T13:22:56.193Z"
   },
   {
    "duration": 9,
    "start_time": "2023-03-18T13:22:56.198Z"
   },
   {
    "duration": 9,
    "start_time": "2023-03-18T13:22:56.209Z"
   }
  ],
  "kernelspec": {
   "display_name": "Python 3 (ipykernel)",
   "language": "python",
   "name": "python3"
  },
  "language_info": {
   "codemirror_mode": {
    "name": "ipython",
    "version": 3
   },
   "file_extension": ".py",
   "mimetype": "text/x-python",
   "name": "python",
   "nbconvert_exporter": "python",
   "pygments_lexer": "ipython3",
   "version": "3.9.13"
  },
  "toc": {
   "base_numbering": 1,
   "nav_menu": {},
   "number_sections": true,
   "sideBar": true,
   "skip_h1_title": true,
   "title_cell": "Table of Contents",
   "title_sidebar": "Contents",
   "toc_cell": true,
   "toc_position": {},
   "toc_section_display": true,
   "toc_window_display": false
  }
 },
 "nbformat": 4,
 "nbformat_minor": 5
}
