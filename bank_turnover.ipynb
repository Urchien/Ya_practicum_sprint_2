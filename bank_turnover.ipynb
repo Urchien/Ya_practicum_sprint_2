{
 "cells": [
  {
   "cell_type": "markdown",
   "metadata": {
    "toc": true
   },
   "source": [
    "<h1>Содержание<span class=\"tocSkip\"></span></h1>\n",
    "<div class=\"toc\"><ul class=\"toc-item\"><li><span><a href=\"#Подготовка-данных\" data-toc-modified-id=\"Подготовка-данных-1\"><span class=\"toc-item-num\">1&nbsp;&nbsp;</span>Подготовка данных</a></span><ul class=\"toc-item\"><li><span><a href=\"#Подключим-необходимые-библиотеки-и-настройки:\" data-toc-modified-id=\"Подключим-необходимые-библиотеки-и-настройки:-1.1\"><span class=\"toc-item-num\">1.1&nbsp;&nbsp;</span>Подключим необходимые библиотеки и настройки:</a></span></li><li><span><a href=\"#Загрузим-и-опишем-датафрейм:\" data-toc-modified-id=\"Загрузим-и-опишем-датафрейм:-1.2\"><span class=\"toc-item-num\">1.2&nbsp;&nbsp;</span>Загрузим и опишем датафрейм:</a></span></li><li><span><a href=\"#Вывод:\" data-toc-modified-id=\"Вывод:-1.3\"><span class=\"toc-item-num\">1.3&nbsp;&nbsp;</span>Вывод:</a></span></li><li><span><a href=\"#Предобработка-данных\" data-toc-modified-id=\"Предобработка-данных-1.4\"><span class=\"toc-item-num\">1.4&nbsp;&nbsp;</span>Предобработка данных</a></span></li><li><span><a href=\"#Выводы:\" data-toc-modified-id=\"Выводы:-1.5\"><span class=\"toc-item-num\">1.5&nbsp;&nbsp;</span>Выводы:</a></span></li></ul></li><li><span><a href=\"#Исследование-задачи\" data-toc-modified-id=\"Исследование-задачи-2\"><span class=\"toc-item-num\">2&nbsp;&nbsp;</span>Исследование задачи</a></span><ul class=\"toc-item\"><li><span><a href=\"#DecisionTreeClassifier-(Дерево-решений)\" data-toc-modified-id=\"DecisionTreeClassifier-(Дерево-решений)-2.1\"><span class=\"toc-item-num\">2.1&nbsp;&nbsp;</span>DecisionTreeClassifier (Дерево решений)</a></span></li><li><span><a href=\"#RandomForestClassifier-(Случайный-лес)\" data-toc-modified-id=\"RandomForestClassifier-(Случайный-лес)-2.2\"><span class=\"toc-item-num\">2.2&nbsp;&nbsp;</span>RandomForestClassifier (Случайный лес)</a></span></li><li><span><a href=\"#LogisticRegression-(Логистическая-регрессия)\" data-toc-modified-id=\"LogisticRegression-(Логистическая-регрессия)-2.3\"><span class=\"toc-item-num\">2.3&nbsp;&nbsp;</span>LogisticRegression (Логистическая регрессия)</a></span></li><li><span><a href=\"#Вывод:\" data-toc-modified-id=\"Вывод:-2.4\"><span class=\"toc-item-num\">2.4&nbsp;&nbsp;</span>Вывод:</a></span></li></ul></li><li><span><a href=\"#Борьба-с-дисбалансом\" data-toc-modified-id=\"Борьба-с-дисбалансом-3\"><span class=\"toc-item-num\">3&nbsp;&nbsp;</span>Борьба с дисбалансом</a></span><ul class=\"toc-item\"><li><span><a href=\"#Увеличение-выборки-(upsampling)\" data-toc-modified-id=\"Увеличение-выборки-(upsampling)-3.1\"><span class=\"toc-item-num\">3.1&nbsp;&nbsp;</span>Увеличение выборки (upsampling)</a></span></li><li><span><a href=\"#DecisionTreeClassifier-(Дерево-решений)\" data-toc-modified-id=\"DecisionTreeClassifier-(Дерево-решений)-3.2\"><span class=\"toc-item-num\">3.2&nbsp;&nbsp;</span>DecisionTreeClassifier (Дерево решений)</a></span></li><li><span><a href=\"#RandomForestClassifier-(Случайный-лес)\" data-toc-modified-id=\"RandomForestClassifier-(Случайный-лес)-3.3\"><span class=\"toc-item-num\">3.3&nbsp;&nbsp;</span>RandomForestClassifier (Случайный лес)</a></span></li><li><span><a href=\"#LogisticRegression-(Логистическая-регрессия)\" data-toc-modified-id=\"LogisticRegression-(Логистическая-регрессия)-3.4\"><span class=\"toc-item-num\">3.4&nbsp;&nbsp;</span>LogisticRegression (Логистическая регрессия)</a></span></li><li><span><a href=\"#Вывод:\" data-toc-modified-id=\"Вывод:-3.5\"><span class=\"toc-item-num\">3.5&nbsp;&nbsp;</span>Вывод:</a></span></li><li><span><a href=\"#Уменьшение-выборки-(downsampling)\" data-toc-modified-id=\"Уменьшение-выборки-(downsampling)-3.6\"><span class=\"toc-item-num\">3.6&nbsp;&nbsp;</span>Уменьшение выборки (downsampling)</a></span></li><li><span><a href=\"#DecisionTreeClassifier-(Дерево-решений)\" data-toc-modified-id=\"DecisionTreeClassifier-(Дерево-решений)-3.7\"><span class=\"toc-item-num\">3.7&nbsp;&nbsp;</span>DecisionTreeClassifier (Дерево решений)</a></span></li><li><span><a href=\"#RandomForestClassifier-(Случайный-лес)\" data-toc-modified-id=\"RandomForestClassifier-(Случайный-лес)-3.8\"><span class=\"toc-item-num\">3.8&nbsp;&nbsp;</span>RandomForestClassifier (Случайный лес)</a></span></li><li><span><a href=\"#LogisticRegression-(Логистическая-регрессия)\" data-toc-modified-id=\"LogisticRegression-(Логистическая-регрессия)-3.9\"><span class=\"toc-item-num\">3.9&nbsp;&nbsp;</span>LogisticRegression (Логистическая регрессия)</a></span></li><li><span><a href=\"#Вывод:\" data-toc-modified-id=\"Вывод:-3.10\"><span class=\"toc-item-num\">3.10&nbsp;&nbsp;</span>Вывод:</a></span></li><li><span><a href=\"#Взвешивание-классов\" data-toc-modified-id=\"Взвешивание-классов-3.11\"><span class=\"toc-item-num\">3.11&nbsp;&nbsp;</span>Взвешивание классов</a></span></li><li><span><a href=\"#DecisionTreeClassifier-(Дерево-решений)\" data-toc-modified-id=\"DecisionTreeClassifier-(Дерево-решений)-3.12\"><span class=\"toc-item-num\">3.12&nbsp;&nbsp;</span>DecisionTreeClassifier (Дерево решений)</a></span></li><li><span><a href=\"#RandomForestClassifier-(Случайный-лес)\" data-toc-modified-id=\"RandomForestClassifier-(Случайный-лес)-3.13\"><span class=\"toc-item-num\">3.13&nbsp;&nbsp;</span>RandomForestClassifier (Случайный лес)</a></span></li><li><span><a href=\"#LogisticRegression-(Логистическая-регрессия)\" data-toc-modified-id=\"LogisticRegression-(Логистическая-регрессия)-3.14\"><span class=\"toc-item-num\">3.14&nbsp;&nbsp;</span>LogisticRegression (Логистическая регрессия)</a></span></li><li><span><a href=\"#Вывод:\" data-toc-modified-id=\"Вывод:-3.15\"><span class=\"toc-item-num\">3.15&nbsp;&nbsp;</span>Вывод:</a></span></li><li><span><a href=\"#Вывод:\" data-toc-modified-id=\"Вывод:-3.16\"><span class=\"toc-item-num\">3.16&nbsp;&nbsp;</span>Вывод:</a></span></li></ul></li><li><span><a href=\"#Тестирование-модели\" data-toc-modified-id=\"Тестирование-модели-4\"><span class=\"toc-item-num\">4&nbsp;&nbsp;</span>Тестирование модели</a></span><ul class=\"toc-item\"><li><span><a href=\"#Общий-вывод:\" data-toc-modified-id=\"Общий-вывод:-4.1\"><span class=\"toc-item-num\">4.1&nbsp;&nbsp;</span>Общий вывод:</a></span></li></ul></li><li><span><a href=\"#Чек-лист-готовности-проекта\" data-toc-modified-id=\"Чек-лист-готовности-проекта-5\"><span class=\"toc-item-num\">5&nbsp;&nbsp;</span>Чек-лист готовности проекта</a></span></li></ul></div>"
   ]
  },
  {
   "cell_type": "markdown",
   "metadata": {},
   "source": [
    "# Отток клиентов"
   ]
  },
  {
   "cell_type": "markdown",
   "metadata": {},
   "source": [
    "Из «Бета-Банка» стали уходить клиенты. Каждый месяц. Немного, но заметно. Банковские маркетологи посчитали: сохранять текущих клиентов дешевле, чем привлекать новых.\n",
    "\n",
    "Нужно спрогнозировать, уйдёт клиент из банка в ближайшее время или нет. Вам предоставлены исторические данные о поведении клиентов и расторжении договоров с банком. \n",
    "\n",
    "Постройте модель с предельно большим значением *F1*-меры. Чтобы сдать проект успешно, нужно довести метрику до 0.59. Проверьте *F1*-меру на тестовой выборке самостоятельно.\n",
    "\n",
    "Дополнительно измеряйте *AUC-ROC*, сравнивайте её значение с *F1*-мерой.\n",
    "\n",
    "Источник данных: [https://www.kaggle.com/barelydedicated/bank-customer-churn-modeling](https://www.kaggle.com/barelydedicated/bank-customer-churn-modeling)"
   ]
  },
  {
   "cell_type": "markdown",
   "metadata": {},
   "source": [
    "**Описание данных:**\n",
    "\n",
    "- RowNumber — индекс строки в данных\n",
    "- CustomerId — уникальный идентификатор клиента\n",
    "- Surname — фамилия\n",
    "- CreditScore — кредитный рейтинг\n",
    "- Geography — страна проживания\n",
    "- Gender — пол\n",
    "- Age — возраст\n",
    "- Tenure — сколько лет человек является клиентом банка\n",
    "- Balance — баланс на счёте\n",
    "- NumOfProducts — количество продуктов банка, используемых клиентом\n",
    "- HasCrCard — наличие кредитной карты\n",
    "- IsActiveMember — активность клиента\n",
    "- EstimatedSalary — предполагаемая зарплата\n",
    "\n",
    "***Целевой признак***\n",
    "- Exited — факт ухода клиента— 0"
   ]
  },
  {
   "cell_type": "markdown",
   "metadata": {},
   "source": [
    "## Подготовка данных"
   ]
  },
  {
   "cell_type": "markdown",
   "metadata": {},
   "source": [
    "### Подключим необходимые библиотеки и настройки:"
   ]
  },
  {
   "cell_type": "code",
   "execution_count": 1,
   "metadata": {},
   "outputs": [
    {
     "name": "stdout",
     "output_type": "stream",
     "text": [
      "Requirement already satisfied: imblearn in c:\\users\\msi-\\anaconda3\\lib\\site-packages (0.0)\n",
      "Requirement already satisfied: imbalanced-learn in c:\\users\\msi-\\anaconda3\\lib\\site-packages (from imblearn) (0.10.1)\n",
      "Requirement already satisfied: joblib>=1.1.1 in c:\\users\\msi-\\anaconda3\\lib\\site-packages (from imbalanced-learn->imblearn) (1.2.0)\n",
      "Requirement already satisfied: numpy>=1.17.3 in c:\\users\\msi-\\anaconda3\\lib\\site-packages (from imbalanced-learn->imblearn) (1.21.5)\n",
      "Requirement already satisfied: scipy>=1.3.2 in c:\\users\\msi-\\anaconda3\\lib\\site-packages (from imbalanced-learn->imblearn) (1.9.1)\n",
      "Requirement already satisfied: threadpoolctl>=2.0.0 in c:\\users\\msi-\\anaconda3\\lib\\site-packages (from imbalanced-learn->imblearn) (2.2.0)\n",
      "Requirement already satisfied: scikit-learn>=1.0.2 in c:\\users\\msi-\\anaconda3\\lib\\site-packages (from imbalanced-learn->imblearn) (1.1.3)\n"
     ]
    },
    {
     "name": "stderr",
     "output_type": "stream",
     "text": [
      "WARNING: You are using pip version 21.3.1; however, version 23.1.1 is available.\n",
      "You should consider upgrading via the 'C:\\Users\\MSI-\\anaconda3\\python.exe -m pip install --upgrade pip' command.\n"
     ]
    }
   ],
   "source": [
    "#!pip install scikit-learn==1.1.3\n",
    "!pip install imblearn"
   ]
  },
  {
   "cell_type": "code",
   "execution_count": 2,
   "metadata": {},
   "outputs": [],
   "source": [
    "import pandas as pd\n",
    "import seaborn as sns\n",
    "import matplotlib.pyplot as plt\n",
    "import numpy as np\n",
    "# для регулярных выражений\n",
    "import re \n",
    "# для заполнения пропусков\n",
    "from sklearn.experimental import enable_iterative_imputer\n",
    "from sklearn.impute import IterativeImputer\n",
    "# для масштабирования числовых признаков датасета и перекодировки категориальных\n",
    "from sklearn.preprocessing import StandardScaler\n",
    "from sklearn.preprocessing import OneHotEncoder\n",
    "# уберем предупреждение SettingWithCopy\n",
    "pd.options.mode.chained_assignment = None\n",
    "# для апсэмплинга и даунсэмплинга\n",
    "from collections import Counter\n",
    "from imblearn.over_sampling import SMOTE\n",
    "from imblearn.under_sampling import RandomUnderSampler\n",
    "# алгоритмы ML\n",
    "from sklearn.tree import DecisionTreeClassifier\n",
    "from sklearn.model_selection import train_test_split\n",
    "from sklearn.ensemble import RandomForestClassifier\n",
    "from sklearn.linear_model import LogisticRegression\n",
    "from sklearn.utils import shuffle\n",
    "# метрики\n",
    "from sklearn.metrics import (\n",
    "    roc_curve, \n",
    "    auc, \n",
    "    roc_auc_score,\n",
    "    f1_score, \n",
    "    confusion_matrix,\n",
    "    precision_score,\n",
    "    recall_score\n",
    ")"
   ]
  },
  {
   "cell_type": "markdown",
   "metadata": {},
   "source": [
    "### Загрузим и опишем датафрейм:"
   ]
  },
  {
   "cell_type": "code",
   "execution_count": 3,
   "metadata": {},
   "outputs": [],
   "source": [
    "try:\n",
    "    data = pd.read_csv('D:\\\\Profile\\\\Desktop\\\\Ya_P\\\\Python\\\\Projects\\\\data\\\\Churn.csv')\n",
    "except FileNotFoundError:\n",
    "    data = pd.read_csv('https://code.s3.yandex.net/datasets/Churn.csv')"
   ]
  },
  {
   "cell_type": "markdown",
   "metadata": {},
   "source": [
    "**Создадим и применим функцию функцию, которая будет на вход принимать датафрейм, а на выходе будет выводить все необходимые характеристики поочередно применяя методы:**"
   ]
  },
  {
   "cell_type": "code",
   "execution_count": 4,
   "metadata": {},
   "outputs": [],
   "source": [
    "def data_info(dataframe):\n",
    "    print('Выведем общую информацию по датафрейму:')\n",
    "    display(dataframe.info())\n",
    "    print('\\nВыведем первые 10 строк:')\n",
    "    display(dataframe.head(10))\n",
    "    print('\\nВыведем последние 10 строк:')\n",
    "    display(dataframe.tail(10))\n",
    "    print('\\nПосмотрим пропуски:')\n",
    "    display(dataframe.isnull().sum().sort_values(ascending=False))\n",
    "    print('\\nПосмотрим на описание датафрейма:')\n",
    "    display(dataframe.describe())\n",
    "    print('\\nКоличество дубликатов:')\n",
    "    display(dataframe.duplicated().sum())\n",
    "    print('\\nПосмотрим на признаки:\\n')\n",
    "    num_columns, cat_columns = [], []\n",
    "    for num, i in enumerate(dataframe.columns):\n",
    "        if pd.api.types.is_numeric_dtype(dataframe[i]):\n",
    "            print(f'{num+1}. {i} - числовой признак, уникальных значений: {len(dataframe[i].unique())}')\n",
    "            num_columns.append(i)\n",
    "        elif pd.api.types.is_object_dtype(dataframe[i]):\n",
    "            print(f'{num+1}. {i} - категориальный признак, уникальных значений: {len(dataframe[i].unique())}')\n",
    "            cat_columns.append(i)\n",
    "    print(f'\\nИтого:\\nЧисловых признаков: {len(num_columns)}\\nКатегориальных признаков: {len(cat_columns)}')\n",
    "    print('\\nПосмотрим на корреляцию признаков:')\n",
    "    plt.figure(figsize = (15,5))\n",
    "    sns.heatmap(dataframe.corr(),annot=True, linewidth=.5, cmap='crest');  "
   ]
  },
  {
   "cell_type": "code",
   "execution_count": 5,
   "metadata": {
    "scrolled": false
   },
   "outputs": [
    {
     "name": "stdout",
     "output_type": "stream",
     "text": [
      "Выведем общую информацию по датафрейму:\n",
      "<class 'pandas.core.frame.DataFrame'>\n",
      "RangeIndex: 10000 entries, 0 to 9999\n",
      "Data columns (total 14 columns):\n",
      " #   Column           Non-Null Count  Dtype  \n",
      "---  ------           --------------  -----  \n",
      " 0   RowNumber        10000 non-null  int64  \n",
      " 1   CustomerId       10000 non-null  int64  \n",
      " 2   Surname          10000 non-null  object \n",
      " 3   CreditScore      10000 non-null  int64  \n",
      " 4   Geography        10000 non-null  object \n",
      " 5   Gender           10000 non-null  object \n",
      " 6   Age              10000 non-null  int64  \n",
      " 7   Tenure           9091 non-null   float64\n",
      " 8   Balance          10000 non-null  float64\n",
      " 9   NumOfProducts    10000 non-null  int64  \n",
      " 10  HasCrCard        10000 non-null  int64  \n",
      " 11  IsActiveMember   10000 non-null  int64  \n",
      " 12  EstimatedSalary  10000 non-null  float64\n",
      " 13  Exited           10000 non-null  int64  \n",
      "dtypes: float64(3), int64(8), object(3)\n",
      "memory usage: 1.1+ MB\n"
     ]
    },
    {
     "data": {
      "text/plain": [
       "None"
      ]
     },
     "metadata": {},
     "output_type": "display_data"
    },
    {
     "name": "stdout",
     "output_type": "stream",
     "text": [
      "\n",
      "Выведем первые 10 строк:\n"
     ]
    },
    {
     "data": {
      "text/html": [
       "<div>\n",
       "<style scoped>\n",
       "    .dataframe tbody tr th:only-of-type {\n",
       "        vertical-align: middle;\n",
       "    }\n",
       "\n",
       "    .dataframe tbody tr th {\n",
       "        vertical-align: top;\n",
       "    }\n",
       "\n",
       "    .dataframe thead th {\n",
       "        text-align: right;\n",
       "    }\n",
       "</style>\n",
       "<table border=\"1\" class=\"dataframe\">\n",
       "  <thead>\n",
       "    <tr style=\"text-align: right;\">\n",
       "      <th></th>\n",
       "      <th>RowNumber</th>\n",
       "      <th>CustomerId</th>\n",
       "      <th>Surname</th>\n",
       "      <th>CreditScore</th>\n",
       "      <th>Geography</th>\n",
       "      <th>Gender</th>\n",
       "      <th>Age</th>\n",
       "      <th>Tenure</th>\n",
       "      <th>Balance</th>\n",
       "      <th>NumOfProducts</th>\n",
       "      <th>HasCrCard</th>\n",
       "      <th>IsActiveMember</th>\n",
       "      <th>EstimatedSalary</th>\n",
       "      <th>Exited</th>\n",
       "    </tr>\n",
       "  </thead>\n",
       "  <tbody>\n",
       "    <tr>\n",
       "      <th>0</th>\n",
       "      <td>1</td>\n",
       "      <td>15634602</td>\n",
       "      <td>Hargrave</td>\n",
       "      <td>619</td>\n",
       "      <td>France</td>\n",
       "      <td>Female</td>\n",
       "      <td>42</td>\n",
       "      <td>2.0</td>\n",
       "      <td>0.00</td>\n",
       "      <td>1</td>\n",
       "      <td>1</td>\n",
       "      <td>1</td>\n",
       "      <td>101348.88</td>\n",
       "      <td>1</td>\n",
       "    </tr>\n",
       "    <tr>\n",
       "      <th>1</th>\n",
       "      <td>2</td>\n",
       "      <td>15647311</td>\n",
       "      <td>Hill</td>\n",
       "      <td>608</td>\n",
       "      <td>Spain</td>\n",
       "      <td>Female</td>\n",
       "      <td>41</td>\n",
       "      <td>1.0</td>\n",
       "      <td>83807.86</td>\n",
       "      <td>1</td>\n",
       "      <td>0</td>\n",
       "      <td>1</td>\n",
       "      <td>112542.58</td>\n",
       "      <td>0</td>\n",
       "    </tr>\n",
       "    <tr>\n",
       "      <th>2</th>\n",
       "      <td>3</td>\n",
       "      <td>15619304</td>\n",
       "      <td>Onio</td>\n",
       "      <td>502</td>\n",
       "      <td>France</td>\n",
       "      <td>Female</td>\n",
       "      <td>42</td>\n",
       "      <td>8.0</td>\n",
       "      <td>159660.80</td>\n",
       "      <td>3</td>\n",
       "      <td>1</td>\n",
       "      <td>0</td>\n",
       "      <td>113931.57</td>\n",
       "      <td>1</td>\n",
       "    </tr>\n",
       "    <tr>\n",
       "      <th>3</th>\n",
       "      <td>4</td>\n",
       "      <td>15701354</td>\n",
       "      <td>Boni</td>\n",
       "      <td>699</td>\n",
       "      <td>France</td>\n",
       "      <td>Female</td>\n",
       "      <td>39</td>\n",
       "      <td>1.0</td>\n",
       "      <td>0.00</td>\n",
       "      <td>2</td>\n",
       "      <td>0</td>\n",
       "      <td>0</td>\n",
       "      <td>93826.63</td>\n",
       "      <td>0</td>\n",
       "    </tr>\n",
       "    <tr>\n",
       "      <th>4</th>\n",
       "      <td>5</td>\n",
       "      <td>15737888</td>\n",
       "      <td>Mitchell</td>\n",
       "      <td>850</td>\n",
       "      <td>Spain</td>\n",
       "      <td>Female</td>\n",
       "      <td>43</td>\n",
       "      <td>2.0</td>\n",
       "      <td>125510.82</td>\n",
       "      <td>1</td>\n",
       "      <td>1</td>\n",
       "      <td>1</td>\n",
       "      <td>79084.10</td>\n",
       "      <td>0</td>\n",
       "    </tr>\n",
       "    <tr>\n",
       "      <th>5</th>\n",
       "      <td>6</td>\n",
       "      <td>15574012</td>\n",
       "      <td>Chu</td>\n",
       "      <td>645</td>\n",
       "      <td>Spain</td>\n",
       "      <td>Male</td>\n",
       "      <td>44</td>\n",
       "      <td>8.0</td>\n",
       "      <td>113755.78</td>\n",
       "      <td>2</td>\n",
       "      <td>1</td>\n",
       "      <td>0</td>\n",
       "      <td>149756.71</td>\n",
       "      <td>1</td>\n",
       "    </tr>\n",
       "    <tr>\n",
       "      <th>6</th>\n",
       "      <td>7</td>\n",
       "      <td>15592531</td>\n",
       "      <td>Bartlett</td>\n",
       "      <td>822</td>\n",
       "      <td>France</td>\n",
       "      <td>Male</td>\n",
       "      <td>50</td>\n",
       "      <td>7.0</td>\n",
       "      <td>0.00</td>\n",
       "      <td>2</td>\n",
       "      <td>1</td>\n",
       "      <td>1</td>\n",
       "      <td>10062.80</td>\n",
       "      <td>0</td>\n",
       "    </tr>\n",
       "    <tr>\n",
       "      <th>7</th>\n",
       "      <td>8</td>\n",
       "      <td>15656148</td>\n",
       "      <td>Obinna</td>\n",
       "      <td>376</td>\n",
       "      <td>Germany</td>\n",
       "      <td>Female</td>\n",
       "      <td>29</td>\n",
       "      <td>4.0</td>\n",
       "      <td>115046.74</td>\n",
       "      <td>4</td>\n",
       "      <td>1</td>\n",
       "      <td>0</td>\n",
       "      <td>119346.88</td>\n",
       "      <td>1</td>\n",
       "    </tr>\n",
       "    <tr>\n",
       "      <th>8</th>\n",
       "      <td>9</td>\n",
       "      <td>15792365</td>\n",
       "      <td>He</td>\n",
       "      <td>501</td>\n",
       "      <td>France</td>\n",
       "      <td>Male</td>\n",
       "      <td>44</td>\n",
       "      <td>4.0</td>\n",
       "      <td>142051.07</td>\n",
       "      <td>2</td>\n",
       "      <td>0</td>\n",
       "      <td>1</td>\n",
       "      <td>74940.50</td>\n",
       "      <td>0</td>\n",
       "    </tr>\n",
       "    <tr>\n",
       "      <th>9</th>\n",
       "      <td>10</td>\n",
       "      <td>15592389</td>\n",
       "      <td>H?</td>\n",
       "      <td>684</td>\n",
       "      <td>France</td>\n",
       "      <td>Male</td>\n",
       "      <td>27</td>\n",
       "      <td>2.0</td>\n",
       "      <td>134603.88</td>\n",
       "      <td>1</td>\n",
       "      <td>1</td>\n",
       "      <td>1</td>\n",
       "      <td>71725.73</td>\n",
       "      <td>0</td>\n",
       "    </tr>\n",
       "  </tbody>\n",
       "</table>\n",
       "</div>"
      ],
      "text/plain": [
       "   RowNumber  CustomerId   Surname  CreditScore Geography  Gender  Age  \\\n",
       "0          1    15634602  Hargrave          619    France  Female   42   \n",
       "1          2    15647311      Hill          608     Spain  Female   41   \n",
       "2          3    15619304      Onio          502    France  Female   42   \n",
       "3          4    15701354      Boni          699    France  Female   39   \n",
       "4          5    15737888  Mitchell          850     Spain  Female   43   \n",
       "5          6    15574012       Chu          645     Spain    Male   44   \n",
       "6          7    15592531  Bartlett          822    France    Male   50   \n",
       "7          8    15656148    Obinna          376   Germany  Female   29   \n",
       "8          9    15792365        He          501    France    Male   44   \n",
       "9         10    15592389        H?          684    France    Male   27   \n",
       "\n",
       "   Tenure    Balance  NumOfProducts  HasCrCard  IsActiveMember  \\\n",
       "0     2.0       0.00              1          1               1   \n",
       "1     1.0   83807.86              1          0               1   \n",
       "2     8.0  159660.80              3          1               0   \n",
       "3     1.0       0.00              2          0               0   \n",
       "4     2.0  125510.82              1          1               1   \n",
       "5     8.0  113755.78              2          1               0   \n",
       "6     7.0       0.00              2          1               1   \n",
       "7     4.0  115046.74              4          1               0   \n",
       "8     4.0  142051.07              2          0               1   \n",
       "9     2.0  134603.88              1          1               1   \n",
       "\n",
       "   EstimatedSalary  Exited  \n",
       "0        101348.88       1  \n",
       "1        112542.58       0  \n",
       "2        113931.57       1  \n",
       "3         93826.63       0  \n",
       "4         79084.10       0  \n",
       "5        149756.71       1  \n",
       "6         10062.80       0  \n",
       "7        119346.88       1  \n",
       "8         74940.50       0  \n",
       "9         71725.73       0  "
      ]
     },
     "metadata": {},
     "output_type": "display_data"
    },
    {
     "name": "stdout",
     "output_type": "stream",
     "text": [
      "\n",
      "Выведем последние 10 строк:\n"
     ]
    },
    {
     "data": {
      "text/html": [
       "<div>\n",
       "<style scoped>\n",
       "    .dataframe tbody tr th:only-of-type {\n",
       "        vertical-align: middle;\n",
       "    }\n",
       "\n",
       "    .dataframe tbody tr th {\n",
       "        vertical-align: top;\n",
       "    }\n",
       "\n",
       "    .dataframe thead th {\n",
       "        text-align: right;\n",
       "    }\n",
       "</style>\n",
       "<table border=\"1\" class=\"dataframe\">\n",
       "  <thead>\n",
       "    <tr style=\"text-align: right;\">\n",
       "      <th></th>\n",
       "      <th>RowNumber</th>\n",
       "      <th>CustomerId</th>\n",
       "      <th>Surname</th>\n",
       "      <th>CreditScore</th>\n",
       "      <th>Geography</th>\n",
       "      <th>Gender</th>\n",
       "      <th>Age</th>\n",
       "      <th>Tenure</th>\n",
       "      <th>Balance</th>\n",
       "      <th>NumOfProducts</th>\n",
       "      <th>HasCrCard</th>\n",
       "      <th>IsActiveMember</th>\n",
       "      <th>EstimatedSalary</th>\n",
       "      <th>Exited</th>\n",
       "    </tr>\n",
       "  </thead>\n",
       "  <tbody>\n",
       "    <tr>\n",
       "      <th>9990</th>\n",
       "      <td>9991</td>\n",
       "      <td>15798964</td>\n",
       "      <td>Nkemakonam</td>\n",
       "      <td>714</td>\n",
       "      <td>Germany</td>\n",
       "      <td>Male</td>\n",
       "      <td>33</td>\n",
       "      <td>3.0</td>\n",
       "      <td>35016.60</td>\n",
       "      <td>1</td>\n",
       "      <td>1</td>\n",
       "      <td>0</td>\n",
       "      <td>53667.08</td>\n",
       "      <td>0</td>\n",
       "    </tr>\n",
       "    <tr>\n",
       "      <th>9991</th>\n",
       "      <td>9992</td>\n",
       "      <td>15769959</td>\n",
       "      <td>Ajuluchukwu</td>\n",
       "      <td>597</td>\n",
       "      <td>France</td>\n",
       "      <td>Female</td>\n",
       "      <td>53</td>\n",
       "      <td>4.0</td>\n",
       "      <td>88381.21</td>\n",
       "      <td>1</td>\n",
       "      <td>1</td>\n",
       "      <td>0</td>\n",
       "      <td>69384.71</td>\n",
       "      <td>1</td>\n",
       "    </tr>\n",
       "    <tr>\n",
       "      <th>9992</th>\n",
       "      <td>9993</td>\n",
       "      <td>15657105</td>\n",
       "      <td>Chukwualuka</td>\n",
       "      <td>726</td>\n",
       "      <td>Spain</td>\n",
       "      <td>Male</td>\n",
       "      <td>36</td>\n",
       "      <td>2.0</td>\n",
       "      <td>0.00</td>\n",
       "      <td>1</td>\n",
       "      <td>1</td>\n",
       "      <td>0</td>\n",
       "      <td>195192.40</td>\n",
       "      <td>0</td>\n",
       "    </tr>\n",
       "    <tr>\n",
       "      <th>9993</th>\n",
       "      <td>9994</td>\n",
       "      <td>15569266</td>\n",
       "      <td>Rahman</td>\n",
       "      <td>644</td>\n",
       "      <td>France</td>\n",
       "      <td>Male</td>\n",
       "      <td>28</td>\n",
       "      <td>7.0</td>\n",
       "      <td>155060.41</td>\n",
       "      <td>1</td>\n",
       "      <td>1</td>\n",
       "      <td>0</td>\n",
       "      <td>29179.52</td>\n",
       "      <td>0</td>\n",
       "    </tr>\n",
       "    <tr>\n",
       "      <th>9994</th>\n",
       "      <td>9995</td>\n",
       "      <td>15719294</td>\n",
       "      <td>Wood</td>\n",
       "      <td>800</td>\n",
       "      <td>France</td>\n",
       "      <td>Female</td>\n",
       "      <td>29</td>\n",
       "      <td>2.0</td>\n",
       "      <td>0.00</td>\n",
       "      <td>2</td>\n",
       "      <td>0</td>\n",
       "      <td>0</td>\n",
       "      <td>167773.55</td>\n",
       "      <td>0</td>\n",
       "    </tr>\n",
       "    <tr>\n",
       "      <th>9995</th>\n",
       "      <td>9996</td>\n",
       "      <td>15606229</td>\n",
       "      <td>Obijiaku</td>\n",
       "      <td>771</td>\n",
       "      <td>France</td>\n",
       "      <td>Male</td>\n",
       "      <td>39</td>\n",
       "      <td>5.0</td>\n",
       "      <td>0.00</td>\n",
       "      <td>2</td>\n",
       "      <td>1</td>\n",
       "      <td>0</td>\n",
       "      <td>96270.64</td>\n",
       "      <td>0</td>\n",
       "    </tr>\n",
       "    <tr>\n",
       "      <th>9996</th>\n",
       "      <td>9997</td>\n",
       "      <td>15569892</td>\n",
       "      <td>Johnstone</td>\n",
       "      <td>516</td>\n",
       "      <td>France</td>\n",
       "      <td>Male</td>\n",
       "      <td>35</td>\n",
       "      <td>10.0</td>\n",
       "      <td>57369.61</td>\n",
       "      <td>1</td>\n",
       "      <td>1</td>\n",
       "      <td>1</td>\n",
       "      <td>101699.77</td>\n",
       "      <td>0</td>\n",
       "    </tr>\n",
       "    <tr>\n",
       "      <th>9997</th>\n",
       "      <td>9998</td>\n",
       "      <td>15584532</td>\n",
       "      <td>Liu</td>\n",
       "      <td>709</td>\n",
       "      <td>France</td>\n",
       "      <td>Female</td>\n",
       "      <td>36</td>\n",
       "      <td>7.0</td>\n",
       "      <td>0.00</td>\n",
       "      <td>1</td>\n",
       "      <td>0</td>\n",
       "      <td>1</td>\n",
       "      <td>42085.58</td>\n",
       "      <td>1</td>\n",
       "    </tr>\n",
       "    <tr>\n",
       "      <th>9998</th>\n",
       "      <td>9999</td>\n",
       "      <td>15682355</td>\n",
       "      <td>Sabbatini</td>\n",
       "      <td>772</td>\n",
       "      <td>Germany</td>\n",
       "      <td>Male</td>\n",
       "      <td>42</td>\n",
       "      <td>3.0</td>\n",
       "      <td>75075.31</td>\n",
       "      <td>2</td>\n",
       "      <td>1</td>\n",
       "      <td>0</td>\n",
       "      <td>92888.52</td>\n",
       "      <td>1</td>\n",
       "    </tr>\n",
       "    <tr>\n",
       "      <th>9999</th>\n",
       "      <td>10000</td>\n",
       "      <td>15628319</td>\n",
       "      <td>Walker</td>\n",
       "      <td>792</td>\n",
       "      <td>France</td>\n",
       "      <td>Female</td>\n",
       "      <td>28</td>\n",
       "      <td>NaN</td>\n",
       "      <td>130142.79</td>\n",
       "      <td>1</td>\n",
       "      <td>1</td>\n",
       "      <td>0</td>\n",
       "      <td>38190.78</td>\n",
       "      <td>0</td>\n",
       "    </tr>\n",
       "  </tbody>\n",
       "</table>\n",
       "</div>"
      ],
      "text/plain": [
       "      RowNumber  CustomerId      Surname  CreditScore Geography  Gender  Age  \\\n",
       "9990       9991    15798964   Nkemakonam          714   Germany    Male   33   \n",
       "9991       9992    15769959  Ajuluchukwu          597    France  Female   53   \n",
       "9992       9993    15657105  Chukwualuka          726     Spain    Male   36   \n",
       "9993       9994    15569266       Rahman          644    France    Male   28   \n",
       "9994       9995    15719294         Wood          800    France  Female   29   \n",
       "9995       9996    15606229     Obijiaku          771    France    Male   39   \n",
       "9996       9997    15569892    Johnstone          516    France    Male   35   \n",
       "9997       9998    15584532          Liu          709    France  Female   36   \n",
       "9998       9999    15682355    Sabbatini          772   Germany    Male   42   \n",
       "9999      10000    15628319       Walker          792    France  Female   28   \n",
       "\n",
       "      Tenure    Balance  NumOfProducts  HasCrCard  IsActiveMember  \\\n",
       "9990     3.0   35016.60              1          1               0   \n",
       "9991     4.0   88381.21              1          1               0   \n",
       "9992     2.0       0.00              1          1               0   \n",
       "9993     7.0  155060.41              1          1               0   \n",
       "9994     2.0       0.00              2          0               0   \n",
       "9995     5.0       0.00              2          1               0   \n",
       "9996    10.0   57369.61              1          1               1   \n",
       "9997     7.0       0.00              1          0               1   \n",
       "9998     3.0   75075.31              2          1               0   \n",
       "9999     NaN  130142.79              1          1               0   \n",
       "\n",
       "      EstimatedSalary  Exited  \n",
       "9990         53667.08       0  \n",
       "9991         69384.71       1  \n",
       "9992        195192.40       0  \n",
       "9993         29179.52       0  \n",
       "9994        167773.55       0  \n",
       "9995         96270.64       0  \n",
       "9996        101699.77       0  \n",
       "9997         42085.58       1  \n",
       "9998         92888.52       1  \n",
       "9999         38190.78       0  "
      ]
     },
     "metadata": {},
     "output_type": "display_data"
    },
    {
     "name": "stdout",
     "output_type": "stream",
     "text": [
      "\n",
      "Посмотрим пропуски:\n"
     ]
    },
    {
     "data": {
      "text/plain": [
       "Tenure             909\n",
       "RowNumber            0\n",
       "CustomerId           0\n",
       "Surname              0\n",
       "CreditScore          0\n",
       "Geography            0\n",
       "Gender               0\n",
       "Age                  0\n",
       "Balance              0\n",
       "NumOfProducts        0\n",
       "HasCrCard            0\n",
       "IsActiveMember       0\n",
       "EstimatedSalary      0\n",
       "Exited               0\n",
       "dtype: int64"
      ]
     },
     "metadata": {},
     "output_type": "display_data"
    },
    {
     "name": "stdout",
     "output_type": "stream",
     "text": [
      "\n",
      "Посмотрим на описание датафрейма:\n"
     ]
    },
    {
     "data": {
      "text/html": [
       "<div>\n",
       "<style scoped>\n",
       "    .dataframe tbody tr th:only-of-type {\n",
       "        vertical-align: middle;\n",
       "    }\n",
       "\n",
       "    .dataframe tbody tr th {\n",
       "        vertical-align: top;\n",
       "    }\n",
       "\n",
       "    .dataframe thead th {\n",
       "        text-align: right;\n",
       "    }\n",
       "</style>\n",
       "<table border=\"1\" class=\"dataframe\">\n",
       "  <thead>\n",
       "    <tr style=\"text-align: right;\">\n",
       "      <th></th>\n",
       "      <th>RowNumber</th>\n",
       "      <th>CustomerId</th>\n",
       "      <th>CreditScore</th>\n",
       "      <th>Age</th>\n",
       "      <th>Tenure</th>\n",
       "      <th>Balance</th>\n",
       "      <th>NumOfProducts</th>\n",
       "      <th>HasCrCard</th>\n",
       "      <th>IsActiveMember</th>\n",
       "      <th>EstimatedSalary</th>\n",
       "      <th>Exited</th>\n",
       "    </tr>\n",
       "  </thead>\n",
       "  <tbody>\n",
       "    <tr>\n",
       "      <th>count</th>\n",
       "      <td>10000.00000</td>\n",
       "      <td>1.000000e+04</td>\n",
       "      <td>10000.000000</td>\n",
       "      <td>10000.000000</td>\n",
       "      <td>9091.000000</td>\n",
       "      <td>10000.000000</td>\n",
       "      <td>10000.000000</td>\n",
       "      <td>10000.00000</td>\n",
       "      <td>10000.000000</td>\n",
       "      <td>10000.000000</td>\n",
       "      <td>10000.000000</td>\n",
       "    </tr>\n",
       "    <tr>\n",
       "      <th>mean</th>\n",
       "      <td>5000.50000</td>\n",
       "      <td>1.569094e+07</td>\n",
       "      <td>650.528800</td>\n",
       "      <td>38.921800</td>\n",
       "      <td>4.997690</td>\n",
       "      <td>76485.889288</td>\n",
       "      <td>1.530200</td>\n",
       "      <td>0.70550</td>\n",
       "      <td>0.515100</td>\n",
       "      <td>100090.239881</td>\n",
       "      <td>0.203700</td>\n",
       "    </tr>\n",
       "    <tr>\n",
       "      <th>std</th>\n",
       "      <td>2886.89568</td>\n",
       "      <td>7.193619e+04</td>\n",
       "      <td>96.653299</td>\n",
       "      <td>10.487806</td>\n",
       "      <td>2.894723</td>\n",
       "      <td>62397.405202</td>\n",
       "      <td>0.581654</td>\n",
       "      <td>0.45584</td>\n",
       "      <td>0.499797</td>\n",
       "      <td>57510.492818</td>\n",
       "      <td>0.402769</td>\n",
       "    </tr>\n",
       "    <tr>\n",
       "      <th>min</th>\n",
       "      <td>1.00000</td>\n",
       "      <td>1.556570e+07</td>\n",
       "      <td>350.000000</td>\n",
       "      <td>18.000000</td>\n",
       "      <td>0.000000</td>\n",
       "      <td>0.000000</td>\n",
       "      <td>1.000000</td>\n",
       "      <td>0.00000</td>\n",
       "      <td>0.000000</td>\n",
       "      <td>11.580000</td>\n",
       "      <td>0.000000</td>\n",
       "    </tr>\n",
       "    <tr>\n",
       "      <th>25%</th>\n",
       "      <td>2500.75000</td>\n",
       "      <td>1.562853e+07</td>\n",
       "      <td>584.000000</td>\n",
       "      <td>32.000000</td>\n",
       "      <td>2.000000</td>\n",
       "      <td>0.000000</td>\n",
       "      <td>1.000000</td>\n",
       "      <td>0.00000</td>\n",
       "      <td>0.000000</td>\n",
       "      <td>51002.110000</td>\n",
       "      <td>0.000000</td>\n",
       "    </tr>\n",
       "    <tr>\n",
       "      <th>50%</th>\n",
       "      <td>5000.50000</td>\n",
       "      <td>1.569074e+07</td>\n",
       "      <td>652.000000</td>\n",
       "      <td>37.000000</td>\n",
       "      <td>5.000000</td>\n",
       "      <td>97198.540000</td>\n",
       "      <td>1.000000</td>\n",
       "      <td>1.00000</td>\n",
       "      <td>1.000000</td>\n",
       "      <td>100193.915000</td>\n",
       "      <td>0.000000</td>\n",
       "    </tr>\n",
       "    <tr>\n",
       "      <th>75%</th>\n",
       "      <td>7500.25000</td>\n",
       "      <td>1.575323e+07</td>\n",
       "      <td>718.000000</td>\n",
       "      <td>44.000000</td>\n",
       "      <td>7.000000</td>\n",
       "      <td>127644.240000</td>\n",
       "      <td>2.000000</td>\n",
       "      <td>1.00000</td>\n",
       "      <td>1.000000</td>\n",
       "      <td>149388.247500</td>\n",
       "      <td>0.000000</td>\n",
       "    </tr>\n",
       "    <tr>\n",
       "      <th>max</th>\n",
       "      <td>10000.00000</td>\n",
       "      <td>1.581569e+07</td>\n",
       "      <td>850.000000</td>\n",
       "      <td>92.000000</td>\n",
       "      <td>10.000000</td>\n",
       "      <td>250898.090000</td>\n",
       "      <td>4.000000</td>\n",
       "      <td>1.00000</td>\n",
       "      <td>1.000000</td>\n",
       "      <td>199992.480000</td>\n",
       "      <td>1.000000</td>\n",
       "    </tr>\n",
       "  </tbody>\n",
       "</table>\n",
       "</div>"
      ],
      "text/plain": [
       "         RowNumber    CustomerId   CreditScore           Age       Tenure  \\\n",
       "count  10000.00000  1.000000e+04  10000.000000  10000.000000  9091.000000   \n",
       "mean    5000.50000  1.569094e+07    650.528800     38.921800     4.997690   \n",
       "std     2886.89568  7.193619e+04     96.653299     10.487806     2.894723   \n",
       "min        1.00000  1.556570e+07    350.000000     18.000000     0.000000   \n",
       "25%     2500.75000  1.562853e+07    584.000000     32.000000     2.000000   \n",
       "50%     5000.50000  1.569074e+07    652.000000     37.000000     5.000000   \n",
       "75%     7500.25000  1.575323e+07    718.000000     44.000000     7.000000   \n",
       "max    10000.00000  1.581569e+07    850.000000     92.000000    10.000000   \n",
       "\n",
       "             Balance  NumOfProducts    HasCrCard  IsActiveMember  \\\n",
       "count   10000.000000   10000.000000  10000.00000    10000.000000   \n",
       "mean    76485.889288       1.530200      0.70550        0.515100   \n",
       "std     62397.405202       0.581654      0.45584        0.499797   \n",
       "min         0.000000       1.000000      0.00000        0.000000   \n",
       "25%         0.000000       1.000000      0.00000        0.000000   \n",
       "50%     97198.540000       1.000000      1.00000        1.000000   \n",
       "75%    127644.240000       2.000000      1.00000        1.000000   \n",
       "max    250898.090000       4.000000      1.00000        1.000000   \n",
       "\n",
       "       EstimatedSalary        Exited  \n",
       "count     10000.000000  10000.000000  \n",
       "mean     100090.239881      0.203700  \n",
       "std       57510.492818      0.402769  \n",
       "min          11.580000      0.000000  \n",
       "25%       51002.110000      0.000000  \n",
       "50%      100193.915000      0.000000  \n",
       "75%      149388.247500      0.000000  \n",
       "max      199992.480000      1.000000  "
      ]
     },
     "metadata": {},
     "output_type": "display_data"
    },
    {
     "name": "stdout",
     "output_type": "stream",
     "text": [
      "\n",
      "Количество дубликатов:\n"
     ]
    },
    {
     "data": {
      "text/plain": [
       "0"
      ]
     },
     "metadata": {},
     "output_type": "display_data"
    },
    {
     "name": "stdout",
     "output_type": "stream",
     "text": [
      "\n",
      "Посмотрим на признаки:\n",
      "\n",
      "1. RowNumber - числовой признак, уникальных значений: 10000\n",
      "2. CustomerId - числовой признак, уникальных значений: 10000\n",
      "3. Surname - категориальный признак, уникальных значений: 2932\n",
      "4. CreditScore - числовой признак, уникальных значений: 460\n",
      "5. Geography - категориальный признак, уникальных значений: 3\n",
      "6. Gender - категориальный признак, уникальных значений: 2\n",
      "7. Age - числовой признак, уникальных значений: 70\n",
      "8. Tenure - числовой признак, уникальных значений: 12\n",
      "9. Balance - числовой признак, уникальных значений: 6382\n",
      "10. NumOfProducts - числовой признак, уникальных значений: 4\n",
      "11. HasCrCard - числовой признак, уникальных значений: 2\n",
      "12. IsActiveMember - числовой признак, уникальных значений: 2\n",
      "13. EstimatedSalary - числовой признак, уникальных значений: 9999\n",
      "14. Exited - числовой признак, уникальных значений: 2\n",
      "\n",
      "Итого:\n",
      "Числовых признаков: 11\n",
      "Категориальных признаков: 3\n",
      "\n",
      "Посмотрим на корреляцию признаков:\n"
     ]
    },
    {
     "data": {
      "image/png": "[encoded data removed]",
      "text/plain": [
       "<Figure size 1080x360 with 2 Axes>"
      ]
     },
     "metadata": {
      "needs_background": "light"
     },
     "output_type": "display_data"
    }
   ],
   "source": [
    "data_info(data)"
   ]
  },
  {
   "cell_type": "markdown",
   "metadata": {},
   "source": [
    "### Вывод:\n",
    "\n",
    "- Датафрейм в 10000 строк и 14 стобцов.\n",
    "- Среди них 11 числовых признаков и 3 категориальных признака.\n",
    "- Имена столбцов нужно привести к 'змеиному' стилю.\n",
    "- Признаки RowNumber, CustomerId, являются техническими идентификаторами с ункальными значениями. Их наличие не несет функциональной нагрузки для исследования, но может помешать обучению модели -удалим их.\n",
    "- Признак Surname — фамилия, тоже не несет для исследования функиональной нагрузки, но может мешать обучению модели - удалим его.\n",
    "- Признак CreditScore - тип int, пропуски отсутсвуют, но требует масшатбирования.\n",
    "- Признак Geography категорианьный - всего три страны, (Франция, Испания, Германия) Перекодируем его в числовой с помощью One-Hot Encoding.\n",
    "- Признак Age - тип int, пропуски отсутсвуют, но требует масшатбирования.\n",
    "- Признак Tenure - числовой. Он показывает сколько лет человек является клиентом банка. Минимум 0, максимум 10 лет. Тип данных float и пропущено в районе 10% данных. Поменяем тип данных на int и попытаемся заполнить пропущенные данные.\n",
    "- Balance - тип float, пропуски отсутсвуют, но требует масшатбирования.\n",
    "- NumOfProducts тип int, пропуски отсутсвуют.\n",
    "- EstimatedSalary - тип float, пропуски отсутсвуют, но требует масшатбирования.\n",
    "- Признак Gender категориальный, бинарный. Перекодируем его в числовой с помощью One-Hot Encoding.\n",
    "- HasCrCard, IsActiveMember - числовые бинарные признаки, пропуски отсутсвуют.\n",
    "- Корреляции признаков не наблюдается.\n",
    "- Exited - целевой бинарный признак. "
   ]
  },
  {
   "cell_type": "markdown",
   "metadata": {},
   "source": [
    "### Предобработка данных"
   ]
  },
  {
   "cell_type": "markdown",
   "metadata": {},
   "source": [
    "**Приведем имена столбцов нужно привести к 'змеиному' стилю:**"
   ]
  },
  {
   "cell_type": "code",
   "execution_count": 6,
   "metadata": {
    "scrolled": true
   },
   "outputs": [
    {
     "data": {
      "text/html": [
       "<div>\n",
       "<style scoped>\n",
       "    .dataframe tbody tr th:only-of-type {\n",
       "        vertical-align: middle;\n",
       "    }\n",
       "\n",
       "    .dataframe tbody tr th {\n",
       "        vertical-align: top;\n",
       "    }\n",
       "\n",
       "    .dataframe thead th {\n",
       "        text-align: right;\n",
       "    }\n",
       "</style>\n",
       "<table border=\"1\" class=\"dataframe\">\n",
       "  <thead>\n",
       "    <tr style=\"text-align: right;\">\n",
       "      <th></th>\n",
       "      <th>row_number</th>\n",
       "      <th>customer_id</th>\n",
       "      <th>surname</th>\n",
       "      <th>credit_score</th>\n",
       "      <th>geography</th>\n",
       "      <th>gender</th>\n",
       "      <th>age</th>\n",
       "      <th>tenure</th>\n",
       "      <th>balance</th>\n",
       "      <th>num_of_products</th>\n",
       "      <th>has_cr_card</th>\n",
       "      <th>is_active_member</th>\n",
       "      <th>estimated_salary</th>\n",
       "      <th>exited</th>\n",
       "    </tr>\n",
       "  </thead>\n",
       "  <tbody>\n",
       "    <tr>\n",
       "      <th>0</th>\n",
       "      <td>1</td>\n",
       "      <td>15634602</td>\n",
       "      <td>hargrave</td>\n",
       "      <td>619</td>\n",
       "      <td>france</td>\n",
       "      <td>female</td>\n",
       "      <td>42</td>\n",
       "      <td>2.0</td>\n",
       "      <td>0.00</td>\n",
       "      <td>1</td>\n",
       "      <td>1</td>\n",
       "      <td>1</td>\n",
       "      <td>101348.88</td>\n",
       "      <td>1</td>\n",
       "    </tr>\n",
       "    <tr>\n",
       "      <th>1</th>\n",
       "      <td>2</td>\n",
       "      <td>15647311</td>\n",
       "      <td>hill</td>\n",
       "      <td>608</td>\n",
       "      <td>spain</td>\n",
       "      <td>female</td>\n",
       "      <td>41</td>\n",
       "      <td>1.0</td>\n",
       "      <td>83807.86</td>\n",
       "      <td>1</td>\n",
       "      <td>0</td>\n",
       "      <td>1</td>\n",
       "      <td>112542.58</td>\n",
       "      <td>0</td>\n",
       "    </tr>\n",
       "    <tr>\n",
       "      <th>2</th>\n",
       "      <td>3</td>\n",
       "      <td>15619304</td>\n",
       "      <td>onio</td>\n",
       "      <td>502</td>\n",
       "      <td>france</td>\n",
       "      <td>female</td>\n",
       "      <td>42</td>\n",
       "      <td>8.0</td>\n",
       "      <td>159660.80</td>\n",
       "      <td>3</td>\n",
       "      <td>1</td>\n",
       "      <td>0</td>\n",
       "      <td>113931.57</td>\n",
       "      <td>1</td>\n",
       "    </tr>\n",
       "    <tr>\n",
       "      <th>3</th>\n",
       "      <td>4</td>\n",
       "      <td>15701354</td>\n",
       "      <td>boni</td>\n",
       "      <td>699</td>\n",
       "      <td>france</td>\n",
       "      <td>female</td>\n",
       "      <td>39</td>\n",
       "      <td>1.0</td>\n",
       "      <td>0.00</td>\n",
       "      <td>2</td>\n",
       "      <td>0</td>\n",
       "      <td>0</td>\n",
       "      <td>93826.63</td>\n",
       "      <td>0</td>\n",
       "    </tr>\n",
       "    <tr>\n",
       "      <th>4</th>\n",
       "      <td>5</td>\n",
       "      <td>15737888</td>\n",
       "      <td>mitchell</td>\n",
       "      <td>850</td>\n",
       "      <td>spain</td>\n",
       "      <td>female</td>\n",
       "      <td>43</td>\n",
       "      <td>2.0</td>\n",
       "      <td>125510.82</td>\n",
       "      <td>1</td>\n",
       "      <td>1</td>\n",
       "      <td>1</td>\n",
       "      <td>79084.10</td>\n",
       "      <td>0</td>\n",
       "    </tr>\n",
       "  </tbody>\n",
       "</table>\n",
       "</div>"
      ],
      "text/plain": [
       "   row_number  customer_id   surname  credit_score geography  gender  age  \\\n",
       "0           1     15634602  hargrave           619    france  female   42   \n",
       "1           2     15647311      hill           608     spain  female   41   \n",
       "2           3     15619304      onio           502    france  female   42   \n",
       "3           4     15701354      boni           699    france  female   39   \n",
       "4           5     15737888  mitchell           850     spain  female   43   \n",
       "\n",
       "   tenure    balance  num_of_products  has_cr_card  is_active_member  \\\n",
       "0     2.0       0.00                1            1                 1   \n",
       "1     1.0   83807.86                1            0                 1   \n",
       "2     8.0  159660.80                3            1                 0   \n",
       "3     1.0       0.00                2            0                 0   \n",
       "4     2.0  125510.82                1            1                 1   \n",
       "\n",
       "   estimated_salary  exited  \n",
       "0         101348.88       1  \n",
       "1         112542.58       0  \n",
       "2         113931.57       1  \n",
       "3          93826.63       0  \n",
       "4          79084.10       0  "
      ]
     },
     "execution_count": 6,
     "metadata": {},
     "output_type": "execute_result"
    }
   ],
   "source": [
    "data.columns = [re.sub(r'(?<!^)(?=[A-Z])', '_', i).lower() for i in data.columns]\n",
    "data = data.apply(lambda x: x.astype(str).str.lower() if(x.dtype == 'object') else x)\n",
    "# Проверим:\n",
    "data.head()"
   ]
  },
  {
   "cell_type": "markdown",
   "metadata": {},
   "source": [
    "**Удалим ненужные признаки row_number, customer_id и surname:**"
   ]
  },
  {
   "cell_type": "code",
   "execution_count": 7,
   "metadata": {},
   "outputs": [
    {
     "data": {
      "text/plain": [
       "Index(['credit_score', 'geography', 'gender', 'age', 'tenure', 'balance',\n",
       "       'num_of_products', 'has_cr_card', 'is_active_member',\n",
       "       'estimated_salary', 'exited'],\n",
       "      dtype='object')"
      ]
     },
     "execution_count": 7,
     "metadata": {},
     "output_type": "execute_result"
    }
   ],
   "source": [
    "data.drop(columns = ['row_number','customer_id','surname'], inplace = True)\n",
    "# Проверим:\n",
    "data.columns"
   ]
  },
  {
   "cell_type": "markdown",
   "metadata": {},
   "source": [
    "**Разделим датасет на 3 части в соотношении 3:1:1 (60% обучающая выборка, 20% валидационная и 20% тестовая).**"
   ]
  },
  {
   "cell_type": "code",
   "execution_count": 8,
   "metadata": {},
   "outputs": [
    {
     "name": "stdout",
     "output_type": "stream",
     "text": [
      "Количество строк и столбцов в обучающей выборке: (6000, 10) , что составляет 60 % от данных.\n",
      "Количество строк и столбцов в валидационной выборке: (2000, 10) , что составляет 20 % от данных.\n",
      "Количество строк и столбцов в тестовой выборке: (2000, 10) , что составляет 20 % от данных.\n"
     ]
    }
   ],
   "source": [
    "# Извлечем признаки:\n",
    "\n",
    "features = data.drop(['exited'], axis=1)\n",
    "target = data['exited']\n",
    "\n",
    "# Отделим обучающую выборку:\n",
    "\n",
    "features_train, features_valid, target_train, target_valid = train_test_split(\n",
    "    features, target, test_size=0.40, random_state=12345, stratify=target)\n",
    "\n",
    "# Разделим оставшиеся данные пополам для тестовой валидационной и тестовой выборки:\n",
    "\n",
    "features_valid, features_test, target_valid, target_test = train_test_split(\n",
    "    features_valid, target_valid, test_size=0.50, random_state=12345, stratify=target_valid)\n",
    "\n",
    "#Проверим разделение:\n",
    "\n",
    "(\n",
    "print('Количество строк и столбцов в обучающей выборке:',features_train.shape, \n",
    "      ', что составляет', round(len(features_train)/len(data)*100,), '% от данных.')\n",
    ")\n",
    "(\n",
    "print('Количество строк и столбцов в валидационной выборке:',features_valid.shape,\n",
    "      ', что составляет', round(len(features_valid)/len(data)*100,), '% от данных.')\n",
    ")\n",
    "(\n",
    "print('Количество строк и столбцов в тестовой выборке:',features_test.shape,\n",
    "      ', что составляет', round(len(features_test)/len(data)*100,), '% от данных.')\n",
    ")"
   ]
  },
  {
   "cell_type": "markdown",
   "metadata": {},
   "source": [
    "**Разберемся с пропусками в признаке tenure и приведем его в int:**"
   ]
  },
  {
   "cell_type": "markdown",
   "metadata": {},
   "source": [
    "Посмотрим на распределение в tenure"
   ]
  },
  {
   "cell_type": "code",
   "execution_count": 9,
   "metadata": {
    "scrolled": false
   },
   "outputs": [
    {
     "name": "stdout",
     "output_type": "stream",
     "text": [
      "Тренировочная выборка: 554 пропусков\n",
      "count    5446.000000\n",
      "mean        5.008447\n",
      "std         2.888742\n",
      "min         0.000000\n",
      "25%         2.250000\n",
      "50%         5.000000\n",
      "75%         7.000000\n",
      "max        10.000000\n",
      "Name: tenure, dtype: float64\n"
     ]
    },
    {
     "data": {
      "image/png": "[encoded data removed]",
      "text/plain": [
       "<Figure size 432x288 with 1 Axes>"
      ]
     },
     "metadata": {
      "needs_background": "light"
     },
     "output_type": "display_data"
    },
    {
     "name": "stdout",
     "output_type": "stream",
     "text": [
      "Валидационная выборка: 172 пропусков\n",
      "count    1828.000000\n",
      "mean        5.035558\n",
      "std         2.897132\n",
      "min         0.000000\n",
      "25%         3.000000\n",
      "50%         5.000000\n",
      "75%         8.000000\n",
      "max        10.000000\n",
      "Name: tenure, dtype: float64\n"
     ]
    },
    {
     "data": {
      "image/png": "[encoded data removed]",
      "text/plain": [
       "<Figure size 432x288 with 1 Axes>"
      ]
     },
     "metadata": {
      "needs_background": "light"
     },
     "output_type": "display_data"
    },
    {
     "name": "stdout",
     "output_type": "stream",
     "text": [
      "Тестовая выборка: 183 пропусков\n",
      "count    1817.000000\n",
      "mean        4.927353\n",
      "std         2.910600\n",
      "min         0.000000\n",
      "25%         2.000000\n",
      "50%         5.000000\n",
      "75%         7.000000\n",
      "max        10.000000\n",
      "Name: tenure, dtype: float64\n"
     ]
    },
    {
     "data": {
      "image/png": "[encoded data removed]",
      "text/plain": [
       "<Figure size 432x288 with 1 Axes>"
      ]
     },
     "metadata": {
      "needs_background": "light"
     },
     "output_type": "display_data"
    }
   ],
   "source": [
    "# Создадим словарь для предобработки всех 3-х выборок\n",
    "features_dic= {'Тренировочная выборка': features_train,\n",
    "                'Валидационная выборка': features_valid,\n",
    "                'Тестовая выборка': features_test}\n",
    "for name, df in features_dic.items():\n",
    "    print(f'{name}: {df[\"tenure\"].isna().sum()} пропусков')\n",
    "    print(df[\"tenure\"].describe())\n",
    "    df[\"tenure\"].hist()\n",
    "    plt.show()"
   ]
  },
  {
   "cell_type": "markdown",
   "metadata": {},
   "source": [
    "Из гистограмм мы видим, что стаж распределен более-менее равномерно. Заполним пропуски при помощи IterativeImputer (Это эксперементальная функция в библиотеке sklearn, которая реализует многомерные алгоритмы восстановления пропущенных значений, оценивая другие значения в наборе) и приведем в int. Этим сохраним 10% данных."
   ]
  },
  {
   "cell_type": "code",
   "execution_count": 10,
   "metadata": {
    "scrolled": true
   },
   "outputs": [
    {
     "name": "stdout",
     "output_type": "stream",
     "text": [
      "Тренировочная выборка: 0 пропусков, тип данных: int32\n",
      "Валидационная выборка: 0 пропусков, тип данных: int32\n",
      "Тестовая выборка: 0 пропусков, тип данных: int32\n"
     ]
    }
   ],
   "source": [
    "imputer = IterativeImputer()\n",
    "imputer.fit(features_train[['tenure']])\n",
    "for name, df in features_dic.items():\n",
    "    df['tenure'] = np.round(imputer.transform(df[['tenure']]))\n",
    "    df['tenure'] = df['tenure'].astype(int)\n",
    "    print(f'{name}: {df[\"tenure\"].isna().sum()} пропусков, тип данных: {df[\"tenure\"].dtypes}')"
   ]
  },
  {
   "cell_type": "markdown",
   "metadata": {},
   "source": [
    "**Перекодируем признаки категориальные признаки в  числовые, с помощью One-Hot Encoding и масштабируем числовые признаки:**"
   ]
  },
  {
   "cell_type": "markdown",
   "metadata": {},
   "source": [
    "У числовых признаков разные диапазоны, это может привести к ситуации, когда один из признаков окажется более важен не по объективным причинам, а за счет масштаба. Приведем признаки к единому масштабу."
   ]
  },
  {
   "cell_type": "code",
   "execution_count": 11,
   "metadata": {
    "scrolled": false
   },
   "outputs": [
    {
     "data": {
      "text/html": [
       "<div>\n",
       "<style scoped>\n",
       "    .dataframe tbody tr th:only-of-type {\n",
       "        vertical-align: middle;\n",
       "    }\n",
       "\n",
       "    .dataframe tbody tr th {\n",
       "        vertical-align: top;\n",
       "    }\n",
       "\n",
       "    .dataframe thead th {\n",
       "        text-align: right;\n",
       "    }\n",
       "</style>\n",
       "<table border=\"1\" class=\"dataframe\">\n",
       "  <thead>\n",
       "    <tr style=\"text-align: right;\">\n",
       "      <th></th>\n",
       "      <th>credit_score</th>\n",
       "      <th>geography</th>\n",
       "      <th>gender</th>\n",
       "      <th>age</th>\n",
       "      <th>tenure</th>\n",
       "      <th>balance</th>\n",
       "      <th>num_of_products</th>\n",
       "      <th>has_cr_card</th>\n",
       "      <th>is_active_member</th>\n",
       "      <th>estimated_salary</th>\n",
       "      <th>exited</th>\n",
       "    </tr>\n",
       "  </thead>\n",
       "  <tbody>\n",
       "    <tr>\n",
       "      <th>0</th>\n",
       "      <td>619</td>\n",
       "      <td>france</td>\n",
       "      <td>female</td>\n",
       "      <td>42</td>\n",
       "      <td>2.0</td>\n",
       "      <td>0.00</td>\n",
       "      <td>1</td>\n",
       "      <td>1</td>\n",
       "      <td>1</td>\n",
       "      <td>101348.88</td>\n",
       "      <td>1</td>\n",
       "    </tr>\n",
       "    <tr>\n",
       "      <th>1</th>\n",
       "      <td>608</td>\n",
       "      <td>spain</td>\n",
       "      <td>female</td>\n",
       "      <td>41</td>\n",
       "      <td>1.0</td>\n",
       "      <td>83807.86</td>\n",
       "      <td>1</td>\n",
       "      <td>0</td>\n",
       "      <td>1</td>\n",
       "      <td>112542.58</td>\n",
       "      <td>0</td>\n",
       "    </tr>\n",
       "    <tr>\n",
       "      <th>2</th>\n",
       "      <td>502</td>\n",
       "      <td>france</td>\n",
       "      <td>female</td>\n",
       "      <td>42</td>\n",
       "      <td>8.0</td>\n",
       "      <td>159660.80</td>\n",
       "      <td>3</td>\n",
       "      <td>1</td>\n",
       "      <td>0</td>\n",
       "      <td>113931.57</td>\n",
       "      <td>1</td>\n",
       "    </tr>\n",
       "    <tr>\n",
       "      <th>3</th>\n",
       "      <td>699</td>\n",
       "      <td>france</td>\n",
       "      <td>female</td>\n",
       "      <td>39</td>\n",
       "      <td>1.0</td>\n",
       "      <td>0.00</td>\n",
       "      <td>2</td>\n",
       "      <td>0</td>\n",
       "      <td>0</td>\n",
       "      <td>93826.63</td>\n",
       "      <td>0</td>\n",
       "    </tr>\n",
       "    <tr>\n",
       "      <th>4</th>\n",
       "      <td>850</td>\n",
       "      <td>spain</td>\n",
       "      <td>female</td>\n",
       "      <td>43</td>\n",
       "      <td>2.0</td>\n",
       "      <td>125510.82</td>\n",
       "      <td>1</td>\n",
       "      <td>1</td>\n",
       "      <td>1</td>\n",
       "      <td>79084.10</td>\n",
       "      <td>0</td>\n",
       "    </tr>\n",
       "  </tbody>\n",
       "</table>\n",
       "</div>"
      ],
      "text/plain": [
       "   credit_score geography  gender  age  tenure    balance  num_of_products  \\\n",
       "0           619    france  female   42     2.0       0.00                1   \n",
       "1           608     spain  female   41     1.0   83807.86                1   \n",
       "2           502    france  female   42     8.0  159660.80                3   \n",
       "3           699    france  female   39     1.0       0.00                2   \n",
       "4           850     spain  female   43     2.0  125510.82                1   \n",
       "\n",
       "   has_cr_card  is_active_member  estimated_salary  exited  \n",
       "0            1                 1         101348.88       1  \n",
       "1            0                 1         112542.58       0  \n",
       "2            1                 0         113931.57       1  \n",
       "3            0                 0          93826.63       0  \n",
       "4            1                 1          79084.10       0  "
      ]
     },
     "execution_count": 11,
     "metadata": {},
     "output_type": "execute_result"
    }
   ],
   "source": [
    "data.head()"
   ]
  },
  {
   "cell_type": "code",
   "execution_count": 12,
   "metadata": {},
   "outputs": [],
   "source": [
    "# копируем выборки:\n",
    "features_train_encode = features_train.copy()\n",
    "features_valid_encode = features_valid.copy()\n",
    "features_test_encode = features_test.copy()"
   ]
  },
  {
   "cell_type": "markdown",
   "metadata": {},
   "source": [
    "Создадим списки признаков:"
   ]
  },
  {
   "cell_type": "code",
   "execution_count": 13,
   "metadata": {},
   "outputs": [
    {
     "name": "stdout",
     "output_type": "stream",
     "text": [
      "Cписок категориальных признаков: ['geography', 'gender']\n",
      "Cписок числовых признаков: ['credit_score', 'age', 'tenure', 'balance', 'num_of_products', 'estimated_salary']\n"
     ]
    }
   ],
   "source": [
    "#создадим список категориальных признаков:\n",
    "categorial_features = features_train.select_dtypes(include='object').columns.to_list()\n",
    "print('Cписок категориальных признаков:', categorial_features)\n",
    "\n",
    "#создадим список числовых признаков и удалим из него бинарные признаки:\n",
    "num_features = features_train.select_dtypes(exclude='object').columns.to_list()\n",
    "num_features.remove('has_cr_card')\n",
    "num_features.remove('is_active_member')\n",
    "print('Cписок числовых признаков:', num_features)"
   ]
  },
  {
   "cell_type": "markdown",
   "metadata": {},
   "source": [
    "Обучим и трансформируем тренировочную выборку:"
   ]
  },
  {
   "cell_type": "code",
   "execution_count": 14,
   "metadata": {
    "scrolled": true
   },
   "outputs": [
    {
     "name": "stdout",
     "output_type": "stream",
     "text": [
      "Размер выборки: (6000, 11)\n"
     ]
    },
    {
     "data": {
      "text/html": [
       "<div>\n",
       "<style scoped>\n",
       "    .dataframe tbody tr th:only-of-type {\n",
       "        vertical-align: middle;\n",
       "    }\n",
       "\n",
       "    .dataframe tbody tr th {\n",
       "        vertical-align: top;\n",
       "    }\n",
       "\n",
       "    .dataframe thead th {\n",
       "        text-align: right;\n",
       "    }\n",
       "</style>\n",
       "<table border=\"1\" class=\"dataframe\">\n",
       "  <thead>\n",
       "    <tr style=\"text-align: right;\">\n",
       "      <th></th>\n",
       "      <th>credit_score</th>\n",
       "      <th>age</th>\n",
       "      <th>tenure</th>\n",
       "      <th>balance</th>\n",
       "      <th>num_of_products</th>\n",
       "      <th>has_cr_card</th>\n",
       "      <th>is_active_member</th>\n",
       "      <th>estimated_salary</th>\n",
       "      <th>geography_germany</th>\n",
       "      <th>geography_spain</th>\n",
       "      <th>gender_male</th>\n",
       "    </tr>\n",
       "  </thead>\n",
       "  <tbody>\n",
       "    <tr>\n",
       "      <th>2837</th>\n",
       "      <td>-1.040434</td>\n",
       "      <td>0.953312</td>\n",
       "      <td>0.360600</td>\n",
       "      <td>0.774657</td>\n",
       "      <td>-0.914708</td>\n",
       "      <td>0</td>\n",
       "      <td>1</td>\n",
       "      <td>-0.119110</td>\n",
       "      <td>1.0</td>\n",
       "      <td>0.0</td>\n",
       "      <td>0.0</td>\n",
       "    </tr>\n",
       "    <tr>\n",
       "      <th>9925</th>\n",
       "      <td>0.454006</td>\n",
       "      <td>-0.095244</td>\n",
       "      <td>-0.002786</td>\n",
       "      <td>1.910540</td>\n",
       "      <td>-0.914708</td>\n",
       "      <td>1</td>\n",
       "      <td>1</td>\n",
       "      <td>-0.258658</td>\n",
       "      <td>0.0</td>\n",
       "      <td>0.0</td>\n",
       "      <td>0.0</td>\n",
       "    </tr>\n",
       "    <tr>\n",
       "      <th>8746</th>\n",
       "      <td>0.103585</td>\n",
       "      <td>-0.476537</td>\n",
       "      <td>1.087371</td>\n",
       "      <td>0.481608</td>\n",
       "      <td>0.820981</td>\n",
       "      <td>0</td>\n",
       "      <td>1</td>\n",
       "      <td>1.422836</td>\n",
       "      <td>0.0</td>\n",
       "      <td>0.0</td>\n",
       "      <td>1.0</td>\n",
       "    </tr>\n",
       "    <tr>\n",
       "      <th>660</th>\n",
       "      <td>-0.184996</td>\n",
       "      <td>0.190726</td>\n",
       "      <td>-0.002786</td>\n",
       "      <td>0.088439</td>\n",
       "      <td>-0.914708</td>\n",
       "      <td>1</td>\n",
       "      <td>1</td>\n",
       "      <td>-1.160427</td>\n",
       "      <td>1.0</td>\n",
       "      <td>0.0</td>\n",
       "      <td>0.0</td>\n",
       "    </tr>\n",
       "    <tr>\n",
       "      <th>3610</th>\n",
       "      <td>-0.720933</td>\n",
       "      <td>1.620574</td>\n",
       "      <td>-1.456328</td>\n",
       "      <td>0.879129</td>\n",
       "      <td>-0.914708</td>\n",
       "      <td>1</td>\n",
       "      <td>0</td>\n",
       "      <td>0.113236</td>\n",
       "      <td>0.0</td>\n",
       "      <td>0.0</td>\n",
       "      <td>0.0</td>\n",
       "    </tr>\n",
       "  </tbody>\n",
       "</table>\n",
       "</div>"
      ],
      "text/plain": [
       "      credit_score       age    tenure   balance  num_of_products  \\\n",
       "2837     -1.040434  0.953312  0.360600  0.774657        -0.914708   \n",
       "9925      0.454006 -0.095244 -0.002786  1.910540        -0.914708   \n",
       "8746      0.103585 -0.476537  1.087371  0.481608         0.820981   \n",
       "660      -0.184996  0.190726 -0.002786  0.088439        -0.914708   \n",
       "3610     -0.720933  1.620574 -1.456328  0.879129        -0.914708   \n",
       "\n",
       "      has_cr_card  is_active_member  estimated_salary  geography_germany  \\\n",
       "2837            0                 1         -0.119110                1.0   \n",
       "9925            1                 1         -0.258658                0.0   \n",
       "8746            0                 1          1.422836                0.0   \n",
       "660             1                 1         -1.160427                1.0   \n",
       "3610            1                 0          0.113236                0.0   \n",
       "\n",
       "      geography_spain  gender_male  \n",
       "2837              0.0          0.0  \n",
       "9925              0.0          0.0  \n",
       "8746              0.0          1.0  \n",
       "660               0.0          0.0  \n",
       "3610              0.0          0.0  "
      ]
     },
     "metadata": {},
     "output_type": "display_data"
    }
   ],
   "source": [
    "# drop='first' удаляет первый признак из закодированных:\n",
    "# таким образом обходим dummy-ловушку\n",
    "# задаём handle_unknown='ignore':\n",
    "# игнорируется ранее невстречающиеся значения признака (при transform)\n",
    "encoder_ohe = OneHotEncoder(drop='first', handle_unknown='ignore', sparse=False)\n",
    "\n",
    "# обучаем энкодер на заданных категориальных признаках тренировочной выборки\n",
    "encoder_ohe.fit(features_train_encode[categorial_features])\n",
    "\n",
    "# добавляем закодированные признаки в features_train\n",
    "# encoder_ohe.get_feature_names_out() позволяет получить названия колонок\n",
    "features_train_encode[\n",
    "    encoder_ohe.get_feature_names_out()\n",
    "] = encoder_ohe.transform(features_train_encode[categorial_features])\n",
    "\n",
    "# удаляем незакодированные категориальные признаки (изначальные колонки)\n",
    "features_train_encode = features_train_encode.drop(categorial_features, axis=1)\n",
    "\n",
    "# создаём скелер\n",
    "scaler = StandardScaler()\n",
    "\n",
    "# обучаем его на численных признаках тренировочной выборки, трансформируем её же\n",
    "features_train_encode[num_features] = scaler.fit_transform(features_train_encode[num_features])\n",
    "\n",
    "# смотрим на результат\n",
    "print('Размер выборки:', features_train_encode.shape)\n",
    "display(features_train_encode.head())"
   ]
  },
  {
   "cell_type": "markdown",
   "metadata": {},
   "source": [
    "Теперь трансформируем валидацилнную и тестовую выборки:"
   ]
  },
  {
   "cell_type": "code",
   "execution_count": 15,
   "metadata": {},
   "outputs": [
    {
     "name": "stdout",
     "output_type": "stream",
     "text": [
      "Валидационная выборка: (2000, 11)\n"
     ]
    },
    {
     "data": {
      "text/html": [
       "<div>\n",
       "<style scoped>\n",
       "    .dataframe tbody tr th:only-of-type {\n",
       "        vertical-align: middle;\n",
       "    }\n",
       "\n",
       "    .dataframe tbody tr th {\n",
       "        vertical-align: top;\n",
       "    }\n",
       "\n",
       "    .dataframe thead th {\n",
       "        text-align: right;\n",
       "    }\n",
       "</style>\n",
       "<table border=\"1\" class=\"dataframe\">\n",
       "  <thead>\n",
       "    <tr style=\"text-align: right;\">\n",
       "      <th></th>\n",
       "      <th>credit_score</th>\n",
       "      <th>age</th>\n",
       "      <th>tenure</th>\n",
       "      <th>balance</th>\n",
       "      <th>num_of_products</th>\n",
       "      <th>has_cr_card</th>\n",
       "      <th>is_active_member</th>\n",
       "      <th>estimated_salary</th>\n",
       "      <th>geography_germany</th>\n",
       "      <th>geography_spain</th>\n",
       "      <th>gender_male</th>\n",
       "    </tr>\n",
       "  </thead>\n",
       "  <tbody>\n",
       "    <tr>\n",
       "      <th>6612</th>\n",
       "      <td>-1.524838</td>\n",
       "      <td>2.383160</td>\n",
       "      <td>-0.729557</td>\n",
       "      <td>1.011655</td>\n",
       "      <td>-0.914708</td>\n",
       "      <td>0</td>\n",
       "      <td>1</td>\n",
       "      <td>0.010275</td>\n",
       "      <td>0.0</td>\n",
       "      <td>0.0</td>\n",
       "      <td>0.0</td>\n",
       "    </tr>\n",
       "    <tr>\n",
       "      <th>519</th>\n",
       "      <td>0.587990</td>\n",
       "      <td>1.811221</td>\n",
       "      <td>0.360600</td>\n",
       "      <td>0.213192</td>\n",
       "      <td>-0.914708</td>\n",
       "      <td>0</td>\n",
       "      <td>1</td>\n",
       "      <td>0.453089</td>\n",
       "      <td>0.0</td>\n",
       "      <td>0.0</td>\n",
       "      <td>1.0</td>\n",
       "    </tr>\n",
       "    <tr>\n",
       "      <th>1609</th>\n",
       "      <td>-0.318980</td>\n",
       "      <td>-0.381213</td>\n",
       "      <td>1.087371</td>\n",
       "      <td>0.893896</td>\n",
       "      <td>-0.914708</td>\n",
       "      <td>1</td>\n",
       "      <td>0</td>\n",
       "      <td>-0.603508</td>\n",
       "      <td>0.0</td>\n",
       "      <td>0.0</td>\n",
       "      <td>0.0</td>\n",
       "    </tr>\n",
       "    <tr>\n",
       "      <th>3475</th>\n",
       "      <td>1.226991</td>\n",
       "      <td>-0.762506</td>\n",
       "      <td>-0.366172</td>\n",
       "      <td>-0.240363</td>\n",
       "      <td>0.820981</td>\n",
       "      <td>1</td>\n",
       "      <td>1</td>\n",
       "      <td>-1.621460</td>\n",
       "      <td>0.0</td>\n",
       "      <td>0.0</td>\n",
       "      <td>1.0</td>\n",
       "    </tr>\n",
       "    <tr>\n",
       "      <th>2707</th>\n",
       "      <td>-0.133464</td>\n",
       "      <td>-0.095244</td>\n",
       "      <td>-0.729557</td>\n",
       "      <td>0.447305</td>\n",
       "      <td>-0.914708</td>\n",
       "      <td>0</td>\n",
       "      <td>0</td>\n",
       "      <td>0.338574</td>\n",
       "      <td>0.0</td>\n",
       "      <td>0.0</td>\n",
       "      <td>0.0</td>\n",
       "    </tr>\n",
       "  </tbody>\n",
       "</table>\n",
       "</div>"
      ],
      "text/plain": [
       "      credit_score       age    tenure   balance  num_of_products  \\\n",
       "6612     -1.524838  2.383160 -0.729557  1.011655        -0.914708   \n",
       "519       0.587990  1.811221  0.360600  0.213192        -0.914708   \n",
       "1609     -0.318980 -0.381213  1.087371  0.893896        -0.914708   \n",
       "3475      1.226991 -0.762506 -0.366172 -0.240363         0.820981   \n",
       "2707     -0.133464 -0.095244 -0.729557  0.447305        -0.914708   \n",
       "\n",
       "      has_cr_card  is_active_member  estimated_salary  geography_germany  \\\n",
       "6612            0                 1          0.010275                0.0   \n",
       "519             0                 1          0.453089                0.0   \n",
       "1609            1                 0         -0.603508                0.0   \n",
       "3475            1                 1         -1.621460                0.0   \n",
       "2707            0                 0          0.338574                0.0   \n",
       "\n",
       "      geography_spain  gender_male  \n",
       "6612              0.0          0.0  \n",
       "519               0.0          1.0  \n",
       "1609              0.0          0.0  \n",
       "3475              0.0          1.0  \n",
       "2707              0.0          0.0  "
      ]
     },
     "metadata": {},
     "output_type": "display_data"
    },
    {
     "name": "stdout",
     "output_type": "stream",
     "text": [
      "Тестовая выборка: (2000, 11)\n"
     ]
    },
    {
     "data": {
      "text/html": [
       "<div>\n",
       "<style scoped>\n",
       "    .dataframe tbody tr th:only-of-type {\n",
       "        vertical-align: middle;\n",
       "    }\n",
       "\n",
       "    .dataframe tbody tr th {\n",
       "        vertical-align: top;\n",
       "    }\n",
       "\n",
       "    .dataframe thead th {\n",
       "        text-align: right;\n",
       "    }\n",
       "</style>\n",
       "<table border=\"1\" class=\"dataframe\">\n",
       "  <thead>\n",
       "    <tr style=\"text-align: right;\">\n",
       "      <th></th>\n",
       "      <th>credit_score</th>\n",
       "      <th>age</th>\n",
       "      <th>tenure</th>\n",
       "      <th>balance</th>\n",
       "      <th>num_of_products</th>\n",
       "      <th>has_cr_card</th>\n",
       "      <th>is_active_member</th>\n",
       "      <th>estimated_salary</th>\n",
       "      <th>geography_germany</th>\n",
       "      <th>geography_spain</th>\n",
       "      <th>gender_male</th>\n",
       "    </tr>\n",
       "  </thead>\n",
       "  <tbody>\n",
       "    <tr>\n",
       "      <th>657</th>\n",
       "      <td>-0.504497</td>\n",
       "      <td>1.429928</td>\n",
       "      <td>-1.456328</td>\n",
       "      <td>0.873883</td>\n",
       "      <td>0.820981</td>\n",
       "      <td>1</td>\n",
       "      <td>1</td>\n",
       "      <td>1.725255</td>\n",
       "      <td>1.0</td>\n",
       "      <td>0.0</td>\n",
       "      <td>0.0</td>\n",
       "    </tr>\n",
       "    <tr>\n",
       "      <th>2083</th>\n",
       "      <td>-1.195031</td>\n",
       "      <td>-1.429769</td>\n",
       "      <td>-1.456328</td>\n",
       "      <td>-1.219673</td>\n",
       "      <td>-0.914708</td>\n",
       "      <td>1</td>\n",
       "      <td>1</td>\n",
       "      <td>1.203665</td>\n",
       "      <td>0.0</td>\n",
       "      <td>0.0</td>\n",
       "      <td>1.0</td>\n",
       "    </tr>\n",
       "    <tr>\n",
       "      <th>3234</th>\n",
       "      <td>-1.267176</td>\n",
       "      <td>0.762665</td>\n",
       "      <td>-1.456328</td>\n",
       "      <td>-1.219673</td>\n",
       "      <td>-0.914708</td>\n",
       "      <td>1</td>\n",
       "      <td>0</td>\n",
       "      <td>-1.374743</td>\n",
       "      <td>0.0</td>\n",
       "      <td>0.0</td>\n",
       "      <td>1.0</td>\n",
       "    </tr>\n",
       "    <tr>\n",
       "      <th>1551</th>\n",
       "      <td>0.825039</td>\n",
       "      <td>1.239281</td>\n",
       "      <td>0.723985</td>\n",
       "      <td>-1.219673</td>\n",
       "      <td>0.820981</td>\n",
       "      <td>0</td>\n",
       "      <td>1</td>\n",
       "      <td>0.382306</td>\n",
       "      <td>0.0</td>\n",
       "      <td>1.0</td>\n",
       "      <td>0.0</td>\n",
       "    </tr>\n",
       "    <tr>\n",
       "      <th>2344</th>\n",
       "      <td>0.660135</td>\n",
       "      <td>0.953312</td>\n",
       "      <td>-0.366172</td>\n",
       "      <td>0.267087</td>\n",
       "      <td>-0.914708</td>\n",
       "      <td>1</td>\n",
       "      <td>0</td>\n",
       "      <td>-1.613578</td>\n",
       "      <td>1.0</td>\n",
       "      <td>0.0</td>\n",
       "      <td>0.0</td>\n",
       "    </tr>\n",
       "  </tbody>\n",
       "</table>\n",
       "</div>"
      ],
      "text/plain": [
       "      credit_score       age    tenure   balance  num_of_products  \\\n",
       "657      -0.504497  1.429928 -1.456328  0.873883         0.820981   \n",
       "2083     -1.195031 -1.429769 -1.456328 -1.219673        -0.914708   \n",
       "3234     -1.267176  0.762665 -1.456328 -1.219673        -0.914708   \n",
       "1551      0.825039  1.239281  0.723985 -1.219673         0.820981   \n",
       "2344      0.660135  0.953312 -0.366172  0.267087        -0.914708   \n",
       "\n",
       "      has_cr_card  is_active_member  estimated_salary  geography_germany  \\\n",
       "657             1                 1          1.725255                1.0   \n",
       "2083            1                 1          1.203665                0.0   \n",
       "3234            1                 0         -1.374743                0.0   \n",
       "1551            0                 1          0.382306                0.0   \n",
       "2344            1                 0         -1.613578                1.0   \n",
       "\n",
       "      geography_spain  gender_male  \n",
       "657               0.0          0.0  \n",
       "2083              0.0          1.0  \n",
       "3234              0.0          1.0  \n",
       "1551              1.0          0.0  \n",
       "2344              0.0          0.0  "
      ]
     },
     "metadata": {},
     "output_type": "display_data"
    }
   ],
   "source": [
    "# энкодером, который обучен на тренировочной выборке, масштабируем валидационную и тестовую\n",
    "features_valid_encode[encoder_ohe.get_feature_names_out()] = encoder_ohe.transform(\n",
    "    features_valid_encode[categorial_features]\n",
    ")\n",
    "features_test_encode[encoder_ohe.get_feature_names_out()] = encoder_ohe.transform(\n",
    "    features_test_encode[categorial_features]\n",
    ")\n",
    "\n",
    "# удаляем незакодированные категориальные признаки (изначальные колонки)\n",
    "features_valid_encode = features_valid_encode.drop(categorial_features, axis=1)\n",
    "features_test_encode = features_test_encode.drop(categorial_features, axis=1)\n",
    "\n",
    "# скелером, который обучен на тренировочной выборке, масштабируем валидационную и тестовую\n",
    "features_valid_encode[num_features] = scaler.transform(features_valid_encode[num_features])\n",
    "features_test_encode[num_features] = scaler.transform(features_test_encode[num_features])\n",
    "\n",
    "# смотрим на результат\n",
    "print('Валидационная выборка:', features_valid_encode.shape)\n",
    "display(features_valid_encode.head())\n",
    "print('Тестовая выборка:', features_test_encode.shape)\n",
    "display(features_test_encode.head())"
   ]
  },
  {
   "cell_type": "markdown",
   "metadata": {},
   "source": [
    "**Посмотрим на целевой признак exited:**"
   ]
  },
  {
   "cell_type": "code",
   "execution_count": 16,
   "metadata": {
    "scrolled": true
   },
   "outputs": [
    {
     "data": {
      "text/plain": [
       "0    0.7963\n",
       "1    0.2037\n",
       "Name: exited, dtype: float64"
      ]
     },
     "metadata": {},
     "output_type": "display_data"
    },
    {
     "data": {
      "image/png": "[encoded data removed]",
      "text/plain": [
       "<Figure size 432x288 with 1 Axes>"
      ]
     },
     "metadata": {
      "needs_background": "light"
     },
     "output_type": "display_data"
    }
   ],
   "source": [
    "display(data['exited'].value_counts(normalize=1))\n",
    "data['exited'].value_counts().plot(kind='bar')\n",
    "plt.title('Распределение классов в exited', fontsize=15)\n",
    "plt.xlabel('класс', fontsize=12)\n",
    "plt.ylabel('количество наблюдений', fontsize=12);"
   ]
  },
  {
   "cell_type": "markdown",
   "metadata": {},
   "source": [
    "В целевом признаке мы наблюдаем достаточно сильный дисбаланс классов - только 20% отражают факт ухода клиента."
   ]
  },
  {
   "cell_type": "markdown",
   "metadata": {},
   "source": [
    "### Выводы:\n",
    "\n",
    "На первом этапе мы:\n",
    "- Загрузили датафрейм и исследовали его.\n",
    "- Привели к \"змеиному\" стилю имена столбцов.\n",
    "- Удалили ненужные признаки row_number, customer_id и surname.\n",
    "- Разберались с пропусками в признаке tenure и привели его в int.\n",
    "- Перекодировали признаки geography и gender в числовые, с помощью One-Hot Encoding.\n",
    "- Разделили датасет на 3 части в соотношении 3:1:1 (60% обучающая выборка, 20% валидационная и 20% тестовая).\n",
    "- Масштабировали числовые признаки credit_score, age, balance, estimated_salary.\n",
    "- Обнаружили в  целевом признаке exited достаточно сильный дисбаланс классов - только 20% отражают факт ухода клиента."
   ]
  },
  {
   "cell_type": "markdown",
   "metadata": {},
   "source": [
    "<div class=\"alert alert-success\">\n",
    "<h2> Комментарий ревьюера <a class=\"tocSkip\"> </h2>\n",
    "\n",
    "👍 Есть промежуточный вывод по предобработке. Отличное оформление проекта.\n",
    "</div>\n"
   ]
  },
  {
   "cell_type": "markdown",
   "metadata": {},
   "source": [
    "## Исследование задачи"
   ]
  },
  {
   "cell_type": "markdown",
   "metadata": {},
   "source": [
    "**Исследуем модели не учитывая диссбаланс классов:**\n",
    "\n",
    "Выберем для исследования следующие классификаторы:\n",
    "\n",
    "- DecisionTreeClassifier (Дерево решений)\n",
    "- RandomForestClassifier (Случайный лес)\n",
    "- LogisticRegression (Логистическая регрессия)\n"
   ]
  },
  {
   "cell_type": "markdown",
   "metadata": {},
   "source": [
    "### DecisionTreeClassifier (Дерево решений)"
   ]
  },
  {
   "cell_type": "markdown",
   "metadata": {},
   "source": [
    "Подберем оптимальные гиперпараметры для дерева решений:"
   ]
  },
  {
   "cell_type": "code",
   "execution_count": 17,
   "metadata": {},
   "outputs": [
    {
     "name": "stdout",
     "output_type": "stream",
     "text": [
      "Лучший результат: 0.5953757225433526\n",
      "Гиперпараметры: max_depth: 7 , min_samples_leaf: 2\n",
      "Wall time: 17.2 s\n"
     ]
    }
   ],
   "source": [
    "%%time\n",
    "\n",
    "best_dt_model = None\n",
    "best_dt_model_depth = 0\n",
    "best_dt_model_leaf = 0\n",
    "best_dt_result = 0\n",
    "for depth in range(1, 20):\n",
    "    for i in range(1, 50):       \n",
    "            model_dt = DecisionTreeClassifier(random_state=12345, max_depth = depth, min_samples_leaf = i) \n",
    "            model_dt.fit(features_train_encode, target_train) \n",
    "            predictions_dt = model_dt.predict(features_valid_encode) \n",
    "            result_dt = f1_score(target_valid, predictions_dt)\n",
    "            if result_dt > best_dt_result:\n",
    "                best_dt_model = model_dt\n",
    "                best_dt_model_depth = depth\n",
    "                best_dt_model_leaf = i\n",
    "                best_dt_result = result_dt\n",
    "print('Лучший результат:', best_dt_result) \n",
    "print('Гиперпараметры:', 'max_depth:', best_dt_model_depth, ', min_samples_leaf:', best_dt_model_leaf)"
   ]
  },
  {
   "cell_type": "markdown",
   "metadata": {},
   "source": [
    "Обучим модель с подобранными гипрепараметрами и посмотрим метрики:"
   ]
  },
  {
   "cell_type": "code",
   "execution_count": 18,
   "metadata": {},
   "outputs": [
    {
     "name": "stdout",
     "output_type": "stream",
     "text": [
      "Полнота (recall) дерева решений: 0.5049019607843137\n",
      "Точность (precision) дерева решений: 0.7253521126760564\n",
      "F1-мера дерева решений: 0.5953757225433526\n"
     ]
    },
    {
     "data": {
      "image/png": "[encoded data removed]",
      "text/plain": [
       "<Figure size 576x432 with 2 Axes>"
      ]
     },
     "metadata": {
      "needs_background": "light"
     },
     "output_type": "display_data"
    }
   ],
   "source": [
    "# запустим модель:\n",
    "model_dt = DecisionTreeClassifier(random_state = 12345, \n",
    "                                  max_depth = best_dt_model_depth, min_samples_leaf = best_dt_model_leaf)\n",
    "model_dt.fit(features_train_encode, target_train)\n",
    "predictions_valid_dt = model_dt.predict(features_valid_encode)\n",
    "\n",
    "# выведем метрики:\n",
    "dt_recall = recall_score(target_valid, predictions_valid_dt)\n",
    "dt_precision = precision_score(target_valid, predictions_valid_dt)\n",
    "dt_f1 = f1_score(target_valid, predictions_valid_dt)\n",
    "\n",
    "print('Полнота (recall) дерева решений:', dt_recall)\n",
    "print('Точность (precision) дерева решений:', dt_precision)\n",
    "print('F1-мера дерева решений:', dt_f1)\n",
    "\n",
    "# отрисуем графики:\n",
    "plt.figure(figsize=(8, 6))\n",
    "sns.heatmap(confusion_matrix(target_valid, predictions_valid_dt), annot=True, fmt='g', linewidth=.5, cmap='crest');\n",
    "plt.title(f'МАТРИЦА ОШИБОК\\n[TN, FP]\\n[FN, TP]', fontsize=15)\n",
    "plt.xlabel('Предсказанные значения', fontsize=15)\n",
    "plt.ylabel('Истинные значения', fontsize=15)\n",
    "plt.show()"
   ]
  },
  {
   "cell_type": "markdown",
   "metadata": {},
   "source": [
    "### RandomForestClassifier (Случайный лес)"
   ]
  },
  {
   "cell_type": "markdown",
   "metadata": {},
   "source": [
    "Подберем оптимальные гиперпараметры для случайного леса:"
   ]
  },
  {
   "cell_type": "code",
   "execution_count": 19,
   "metadata": {},
   "outputs": [
    {
     "name": "stdout",
     "output_type": "stream",
     "text": [
      "Лучший результат: 0.6283185840707965\n",
      "Гиперпараметры: n_estimators: 60 , max_depth: 15\n",
      "Wall time: 55.6 s\n"
     ]
    }
   ],
   "source": [
    "%%time\n",
    "\n",
    "best_rf_model = None\n",
    "best_rf_model_est = 0\n",
    "best_rf_model_depth = 0\n",
    "best_rf_result = 0\n",
    "for est in range(10, 101, 10):\n",
    "    for depth in range(1, 20):\n",
    "        model_rf = RandomForestClassifier(random_state=12345, n_estimators=est, max_depth = depth) \n",
    "        model_rf.fit(features_train_encode, target_train) \n",
    "        predictions_rf = model_rf.predict(features_valid_encode) \n",
    "        result_rf = f1_score(target_valid, predictions_rf)\n",
    "        if result_rf > best_rf_result:\n",
    "            best_rf_model = model_rf\n",
    "            best_rf_result = result_rf\n",
    "            best_rf_model_est = est\n",
    "            best_rf_model_depth = depth\n",
    "print('Лучший результат:', best_rf_result) \n",
    "print('Гиперпараметры:', 'n_estimators:', best_rf_model_est, ', max_depth:', best_rf_model_depth)"
   ]
  },
  {
   "cell_type": "markdown",
   "metadata": {},
   "source": [
    "<div class=\"alert alert-success\">\n",
    "<h2> Комментарий ревьюера <a class=\"tocSkip\"> </h2>\n",
    "\n",
    "👍 Замечательный результат.  \n",
    "</div>  "
   ]
  },
  {
   "cell_type": "markdown",
   "metadata": {},
   "source": [
    "Обучим модель с подобранными гипрепараметрами и посмотрим метрики:"
   ]
  },
  {
   "cell_type": "code",
   "execution_count": 20,
   "metadata": {},
   "outputs": [
    {
     "name": "stdout",
     "output_type": "stream",
     "text": [
      "Полнота (recall) случайного леса: 0.5220588235294118\n",
      "Точность (precision) случайного леса: 0.7888888888888889\n",
      "F1-мера случайного леса: 0.6283185840707965\n"
     ]
    },
    {
     "data": {
      "image/png": "[encoded data removed]",
      "text/plain": [
       "<Figure size 576x432 with 2 Axes>"
      ]
     },
     "metadata": {
      "needs_background": "light"
     },
     "output_type": "display_data"
    }
   ],
   "source": [
    "# запустим модель:\n",
    "model_rf = RandomForestClassifier(random_state = 12345, \n",
    "                                  n_estimators=best_rf_model_est, max_depth=best_rf_model_depth)\n",
    "model_rf.fit(features_train_encode, target_train)\n",
    "predictions_valid_rf = model_rf.predict(features_valid_encode)\n",
    "\n",
    "# выведем метрики:\n",
    "rf_recall = recall_score(target_valid, predictions_valid_rf)\n",
    "rf_precision = precision_score(target_valid, predictions_valid_rf)\n",
    "rf_f1 = f1_score(target_valid, predictions_valid_rf)\n",
    "\n",
    "print('Полнота (recall) случайного леса:', rf_recall)\n",
    "print('Точность (precision) случайного леса:', rf_precision)\n",
    "print('F1-мера случайного леса:', rf_f1)\n",
    "\n",
    "# отрисуем графики:\n",
    "plt.figure(figsize=(8, 6))\n",
    "sns.heatmap(confusion_matrix(target_valid, predictions_valid_rf), annot=True, fmt='g', linewidth=.5, cmap='crest');\n",
    "plt.title(f'МАТРИЦА ОШИБОК\\n[TN, FP]\\n[FN, TP]', fontsize=15)\n",
    "plt.xlabel('Предсказанные значения', fontsize=15)\n",
    "plt.ylabel('Истинные значения', fontsize=15)\n",
    "plt.show()"
   ]
  },
  {
   "cell_type": "markdown",
   "metadata": {},
   "source": [
    "### LogisticRegression (Логистическая регрессия)"
   ]
  },
  {
   "cell_type": "markdown",
   "metadata": {},
   "source": [
    "Подберем оптимальные гиперпараметры для логистической регрессии:"
   ]
  },
  {
   "cell_type": "code",
   "execution_count": 21,
   "metadata": {},
   "outputs": [
    {
     "name": "stdout",
     "output_type": "stream",
     "text": [
      "Лучший результат: 0.30458715596330277\n",
      "Гиперпараметры: n_estimators: 100\n",
      "Wall time: 1.36 s\n"
     ]
    }
   ],
   "source": [
    "%%time\n",
    "\n",
    "best_lr_model = None\n",
    "best_lr_model_iter = 0\n",
    "best_lr_result = 0\n",
    "for iter in range(100, 10000, 100):\n",
    "    model_lr = LogisticRegression(random_state=12345, solver='lbfgs', max_iter = iter) \n",
    "    model_lr.fit(features_train_encode, target_train) \n",
    "    predictions_lr = model_lr.predict(features_valid_encode) \n",
    "    result_lr = f1_score(target_valid, predictions_lr)\n",
    "    if result_lr > best_lr_result:\n",
    "        best_lr_model = model_lr\n",
    "        best_lr_result = result_lr\n",
    "        best_lr_model_iter = iter\n",
    "print('Лучший результат:', best_lr_result) \n",
    "print('Гиперпараметры:', 'n_estimators:', best_lr_model_iter)"
   ]
  },
  {
   "cell_type": "markdown",
   "metadata": {},
   "source": [
    "Обучим модель с подобранными гипрепараметрами и посмотрим метрики:"
   ]
  },
  {
   "cell_type": "code",
   "execution_count": 22,
   "metadata": {},
   "outputs": [
    {
     "name": "stdout",
     "output_type": "stream",
     "text": [
      "Полнота (recall) логистической регрессии: 0.2034313725490196\n",
      "Точность (precision) логистической регрессии: 0.6058394160583942\n",
      "F1-мера логистической регрессии: 0.30458715596330277\n"
     ]
    },
    {
     "data": {
      "image/png": "[encoded data removed]",
      "text/plain": [
       "<Figure size 576x432 with 2 Axes>"
      ]
     },
     "metadata": {
      "needs_background": "light"
     },
     "output_type": "display_data"
    }
   ],
   "source": [
    "# запустим модель:\n",
    "model_lr = LogisticRegression(random_state=12345, solver='lbfgs', max_iter = best_lr_model_iter)\n",
    "model_lr.fit(features_train_encode, target_train)\n",
    "predictions_valid_lr = model_lr.predict(features_valid_encode)\n",
    "\n",
    "# выведем метрики:\n",
    "lr_recall = recall_score(target_valid, predictions_valid_lr)\n",
    "lr_precision = precision_score(target_valid, predictions_valid_lr)\n",
    "lr_f1 = f1_score(target_valid, predictions_valid_lr)\n",
    "\n",
    "print('Полнота (recall) логистической регрессии:', lr_recall)\n",
    "print('Точность (precision) логистической регрессии:', lr_precision)\n",
    "print('F1-мера логистической регрессии:', lr_f1)\n",
    "\n",
    "# отрисуем графики:\n",
    "plt.figure(figsize=(8, 6))\n",
    "sns.heatmap(confusion_matrix(target_valid, predictions_valid_lr), annot=True, fmt='g', linewidth=.5, cmap='crest');\n",
    "plt.title(f'МАТРИЦА ОШИБОК\\n[TN, FP]\\n[FN, TP]', fontsize=15)\n",
    "plt.xlabel('Предсказанные значения', fontsize=15)\n",
    "plt.ylabel('Истинные значения', fontsize=15)\n",
    "plt.show()"
   ]
  },
  {
   "cell_type": "markdown",
   "metadata": {},
   "source": [
    "Соберем данные исследования в таблицу:"
   ]
  },
  {
   "cell_type": "code",
   "execution_count": 23,
   "metadata": {},
   "outputs": [
    {
     "data": {
      "text/html": [
       "<div>\n",
       "<style scoped>\n",
       "    .dataframe tbody tr th:only-of-type {\n",
       "        vertical-align: middle;\n",
       "    }\n",
       "\n",
       "    .dataframe tbody tr th {\n",
       "        vertical-align: top;\n",
       "    }\n",
       "\n",
       "    .dataframe thead th {\n",
       "        text-align: right;\n",
       "    }\n",
       "</style>\n",
       "<table border=\"1\" class=\"dataframe\">\n",
       "  <thead>\n",
       "    <tr style=\"text-align: right;\">\n",
       "      <th></th>\n",
       "      <th>Recall</th>\n",
       "      <th>Precision</th>\n",
       "      <th>F1</th>\n",
       "    </tr>\n",
       "  </thead>\n",
       "  <tbody>\n",
       "    <tr>\n",
       "      <th>DecisionTreeClassifier (Дерево решений) disbalance</th>\n",
       "      <td>0.504902</td>\n",
       "      <td>0.725352</td>\n",
       "      <td>0.595376</td>\n",
       "    </tr>\n",
       "    <tr>\n",
       "      <th>RandomForestClassifier (Случайный лес) disbalance</th>\n",
       "      <td>0.522059</td>\n",
       "      <td>0.788889</td>\n",
       "      <td>0.628319</td>\n",
       "    </tr>\n",
       "    <tr>\n",
       "      <th>LogisticRegression (Логистическая регрессия) disbalance</th>\n",
       "      <td>0.203431</td>\n",
       "      <td>0.605839</td>\n",
       "      <td>0.304587</td>\n",
       "    </tr>\n",
       "  </tbody>\n",
       "</table>\n",
       "</div>"
      ],
      "text/plain": [
       "                                                      Recall  Precision  \\\n",
       "DecisionTreeClassifier (Дерево решений) disbalance  0.504902   0.725352   \n",
       "RandomForestClassifier (Случайный лес) disbalance   0.522059   0.788889   \n",
       "LogisticRegression (Логистическая регрессия) di...  0.203431   0.605839   \n",
       "\n",
       "                                                          F1  \n",
       "DecisionTreeClassifier (Дерево решений) disbalance  0.595376  \n",
       "RandomForestClassifier (Случайный лес) disbalance   0.628319  \n",
       "LogisticRegression (Логистическая регрессия) di...  0.304587  "
      ]
     },
     "execution_count": 23,
     "metadata": {},
     "output_type": "execute_result"
    }
   ],
   "source": [
    "researh_data = [{'Recall': dt_recall, 'Precision': dt_precision, 'F1': dt_f1}, \n",
    "                  {'Recall': rf_recall, 'Precision': rf_precision, 'F1': rf_f1},\n",
    "                  {'Recall': lr_recall, 'Precision': lr_precision, 'F1': lr_f1}] \n",
    "researh_res = pd.DataFrame(researh_data, index=['DecisionTreeClassifier (Дерево решений) disbalance', \n",
    "                                             'RandomForestClassifier (Случайный лес) disbalance', \n",
    "                                             'LogisticRegression (Логистическая регрессия) disbalance']) \n",
    "researh_res"
   ]
  },
  {
   "cell_type": "markdown",
   "metadata": {},
   "source": [
    "### Вывод:\n",
    "\n",
    "Обучив модели без учета дисбаланса классов мы видим, что случайный лес в F1-мере показывает лучший результат.\n",
    "А матрицы ошибок указывают на сильный дисбаланс классов. Например для моделей дерева решений и случайного леса, факт ухода клиента (1) верно определен примерно в 30% случаем, а предсказания, что клиент не ушел (0), более чем в 80% случаев. "
   ]
  },
  {
   "cell_type": "markdown",
   "metadata": {},
   "source": [
    "## Борьба с дисбалансом"
   ]
  },
  {
   "cell_type": "markdown",
   "metadata": {},
   "source": [
    "**Для борьбы с дисбалансом классов рассмотрим следующие методы:**\n",
    "\n",
    "- Увеличение выборки (upsampling) при помощи SMOTE\n",
    "- Уменьшение выборки (downsampling) при помощи RandomUnderSampler\n",
    "- Взвешивание классов"
   ]
  },
  {
   "cell_type": "markdown",
   "metadata": {},
   "source": [
    "### Увеличение выборки (upsampling)\n",
    "\n",
    "Увеличиваем выборку методом SMOTE. Он находит разность между данным образцом и его ближайшим соседом. Эта разность умножается на случайное число в интервале от 0 до 1. Полученное значение добавляется к данному образцу для формирования нового синтезированного образца в пространстве признаков."
   ]
  },
  {
   "cell_type": "code",
   "execution_count": 25,
   "metadata": {},
   "outputs": [
    {
     "name": "stdout",
     "output_type": "stream",
     "text": [
      "(9556, 11)\n",
      "(9556,)\n"
     ]
    }
   ],
   "source": [
    "# Cоздадим сэмплер:\n",
    "oversample = SMOTE(random_state=12345)\n",
    "\n",
    "# Увеличим выборки\n",
    "features_train_upsampled, target_train_upsampled = oversample.fit_resample(features_train_encode, target_train)\n",
    "\n",
    "# Проверим\n",
    "print(features_train_upsampled.shape)\n",
    "print(target_train_upsampled.shape)"
   ]
  },
  {
   "cell_type": "markdown",
   "metadata": {},
   "source": [
    "### DecisionTreeClassifier (Дерево решений)\n",
    "\n",
    "Подберем оптимальные гиперпараметры для дерева решений:"
   ]
  },
  {
   "cell_type": "code",
   "execution_count": 26,
   "metadata": {},
   "outputs": [
    {
     "name": "stdout",
     "output_type": "stream",
     "text": [
      "Лучший результат: 0.6010362694300518\n",
      "Гиперпараметры: max_depth: 8 , min_samples_leaf: 1\n",
      "Wall time: 20.9 s\n"
     ]
    }
   ],
   "source": [
    "%%time\n",
    "\n",
    "best_dt_model_up = None\n",
    "best_dt_model_depth = 0\n",
    "best_dt_model_leaf = 0\n",
    "best_dt_result = 0\n",
    "for depth in range(1, 15):\n",
    "    for i in range(1, 50):       \n",
    "            model_dt = DecisionTreeClassifier(random_state=12345, max_depth = depth, min_samples_leaf = i) \n",
    "            model_dt.fit(features_train_upsampled, target_train_upsampled) \n",
    "            predictions_dt = model_dt.predict(features_valid_encode) \n",
    "            result_dt = f1_score(target_valid, predictions_dt)\n",
    "            if result_dt > best_dt_result:\n",
    "                best_dt_model_up = model_dt\n",
    "                best_dt_model_depth = depth\n",
    "                best_dt_model_leaf = i\n",
    "                best_dt_result = result_dt\n",
    "print('Лучший результат:', best_dt_result) \n",
    "print('Гиперпараметры:', 'max_depth:', best_dt_model_depth, ', min_samples_leaf:', best_dt_model_leaf)"
   ]
  },
  {
   "cell_type": "markdown",
   "metadata": {},
   "source": [
    "Обучим модель с подобранными гипрепараметрами и посмотрим метрики:"
   ]
  },
  {
   "cell_type": "code",
   "execution_count": 27,
   "metadata": {
    "scrolled": false
   },
   "outputs": [
    {
     "name": "stdout",
     "output_type": "stream",
     "text": [
      "Полнота (recall) дерева решений: 0.7107843137254902\n",
      "Точность (precision) дерева решений: 0.5206463195691203\n",
      "F1-мера дерева решений: 0.6010362694300518\n",
      "AUC-ROC дерева решений: 0.8219044056064636\n"
     ]
    },
    {
     "data": {
      "image/png": "[encoded data removed]",
      "text/plain": [
       "<Figure size 1152x432 with 3 Axes>"
      ]
     },
     "metadata": {
      "needs_background": "light"
     },
     "output_type": "display_data"
    }
   ],
   "source": [
    "# запустим модель:\n",
    "model_dt = DecisionTreeClassifier(random_state = 12345, \n",
    "                                  max_depth = best_dt_model_depth, min_samples_leaf = best_dt_model_leaf)\n",
    "model_dt.fit(features_train_upsampled, target_train_upsampled)\n",
    "predictions_valid_dt = model_dt.predict(features_valid_encode)\n",
    "\n",
    "# выведем метрики:\n",
    "dt_recall = recall_score(target_valid, predictions_valid_dt)\n",
    "dt_precision = precision_score(target_valid, predictions_valid_dt)\n",
    "dt_f1 = f1_score(target_valid, predictions_valid_dt)\n",
    "\n",
    "print('Полнота (recall) дерева решений:', dt_recall)\n",
    "print('Точность (precision) дерева решений:', dt_precision)\n",
    "print('F1-мера дерева решений:', dt_f1)\n",
    "\n",
    "probabilities_valid = model_dt.predict_proba(features_valid_encode)\n",
    "probabilities_one_valid = probabilities_valid[:, 1]\n",
    "auc_roc_dt = roc_auc_score(target_valid, probabilities_one_valid)\n",
    "print('AUC-ROC дерева решений:', auc_roc_dt)\n",
    "\n",
    "# отрисуем графики:\n",
    "cnf_matrix = confusion_matrix(target_valid, predictions_valid_dt)\n",
    "\n",
    "fig, ax = plt.subplots(ncols=2, figsize=(16, 6))\n",
    "ax1, ax2 = ax.flatten()\n",
    "\n",
    "sns.heatmap(cnf_matrix, annot=True, cmap='crest', fmt='g', linewidths=.5, vmin=10, ax=ax[0])\n",
    "ax1.set_xlabel('Предсказанные значения', fontsize=15)\n",
    "ax1.set_ylabel('Истинные значения', fontsize=15)\n",
    "ax1.set_title(f'МАТРИЦА ОШИБОК\\n[TN, FP]\\n[FN, TP]', fontsize=15)\n",
    "\n",
    "fpr, tpr, thresholds = roc_curve(target_valid, probabilities_one_valid)\n",
    "roc_auc = auc(fpr, tpr)\n",
    "ax2.plot(fpr, tpr, lw=2, label=f'ROC curve (S={roc_auc:.2f})')\n",
    "ax2.plot([0, 1], [0, 1], lw=2, linestyle='--')\n",
    "ax2.set_xlim([0.0, 1.0])\n",
    "ax2.set_ylim([0.0, 1.05])\n",
    "ax2.set_xlabel('False Positive Rate', fontsize=15)\n",
    "ax2.set_ylabel('True Positive Rate', fontsize=15)\n",
    "ax2.set_title('ROC-кривая', fontsize=15)\n",
    "ax2.legend(loc='lower right')\n",
    "ax2.spines['top'].set_visible(False)\n",
    "ax2.spines['right'].set_visible(False)\n",
    "ax2.get_xaxis().tick_bottom()\n",
    "ax2.get_yaxis().tick_left()\n",
    "ax2.grid(linewidth=0.25);"
   ]
  },
  {
   "cell_type": "markdown",
   "metadata": {},
   "source": [
    "<div class=\"alert alert-success\">\n",
    "<h2> Комментарий ревьюера <a class=\"tocSkip\"> </h2>\n",
    "\n",
    "👍 Здесь вычисляем ROC_AUC по вероятностям классов. Все верно.\n",
    "    \n",
    "</div>\n"
   ]
  },
  {
   "cell_type": "markdown",
   "metadata": {},
   "source": [
    "### RandomForestClassifier (Случайный лес)\n",
    "\n",
    "Подберем оптимальные гиперпараметры для дерева решений:"
   ]
  },
  {
   "cell_type": "code",
   "execution_count": 28,
   "metadata": {},
   "outputs": [
    {
     "name": "stdout",
     "output_type": "stream",
     "text": [
      "Лучший результат: 0.6469920544835414\n",
      "Гиперпараметры: n_estimators: 70 , max_depth: 9\n",
      "Wall time: 1min 32s\n"
     ]
    }
   ],
   "source": [
    "%%time\n",
    "\n",
    "best_rf_model_up = None\n",
    "best_rf_model_est = 0\n",
    "best_rf_model_depth = 0\n",
    "best_rf_result = 0\n",
    "for est in range(10, 101, 10):\n",
    "    for depth in range(1, 20):\n",
    "        model_rf = RandomForestClassifier(random_state=12345, n_estimators=est, max_depth = depth) \n",
    "        model_rf.fit(features_train_upsampled, target_train_upsampled) \n",
    "        predictions_rf = model_rf.predict(features_valid_encode) \n",
    "        result_rf = f1_score(target_valid, predictions_rf)\n",
    "        if result_rf > best_rf_result:\n",
    "            best_rf_model_up = model_rf\n",
    "            best_rf_result = result_rf\n",
    "            best_rf_model_est = est\n",
    "            best_rf_model_depth = depth\n",
    "print('Лучший результат:', best_rf_result) \n",
    "print('Гиперпараметры:', 'n_estimators:', best_rf_model_est, ', max_depth:', best_rf_model_depth)"
   ]
  },
  {
   "cell_type": "code",
   "execution_count": 29,
   "metadata": {
    "scrolled": false
   },
   "outputs": [
    {
     "name": "stdout",
     "output_type": "stream",
     "text": [
      "Полнота (recall) случайного леса: 0.6985294117647058\n",
      "Точность (precision) случайного леса: 0.6025369978858351\n",
      "F1-мера случайного леса: 0.6469920544835414\n",
      "AUC-ROC случайного леса: 0.8671713346142477\n"
     ]
    },
    {
     "data": {
      "image/png": "[encoded data removed]",
      "text/plain": [
       "<Figure size 1152x432 with 3 Axes>"
      ]
     },
     "metadata": {
      "needs_background": "light"
     },
     "output_type": "display_data"
    }
   ],
   "source": [
    "# запустим модель:\n",
    "model_rf = RandomForestClassifier(random_state = 12345, \n",
    "                                  n_estimators=best_rf_model_est, max_depth=best_rf_model_depth)\n",
    "model_rf.fit(features_train_upsampled, target_train_upsampled)\n",
    "predictions_valid_rf = model_rf.predict(features_valid_encode)\n",
    "\n",
    "# выведем метрики:\n",
    "rf_recall = recall_score(target_valid, predictions_valid_rf)\n",
    "rf_precision = precision_score(target_valid, predictions_valid_rf)\n",
    "rf_f1 = f1_score(target_valid, predictions_valid_rf)\n",
    "\n",
    "print('Полнота (recall) случайного леса:', rf_recall)\n",
    "print('Точность (precision) случайного леса:', rf_precision)\n",
    "print('F1-мера случайного леса:', rf_f1)\n",
    "\n",
    "probabilities_valid = model_rf.predict_proba(features_valid_encode)\n",
    "probabilities_one_valid = probabilities_valid[:, 1]\n",
    "auc_roc_rf = roc_auc_score(target_valid, probabilities_one_valid)\n",
    "print('AUC-ROC случайного леса:', auc_roc_rf)\n",
    "\n",
    "# отрисуем графики:\n",
    "cnf_matrix = confusion_matrix(target_valid, predictions_valid_rf)\n",
    "\n",
    "fig, ax = plt.subplots(ncols=2, figsize=(16, 6))\n",
    "ax1, ax2 = ax.flatten()\n",
    "\n",
    "sns.heatmap(cnf_matrix, annot=True, cmap='crest', fmt='g', linewidths=.5, vmin=10, ax=ax[0])\n",
    "ax1.set_xlabel('Предсказанные значения', fontsize=15)\n",
    "ax1.set_ylabel('Истинные значения', fontsize=15)\n",
    "ax1.set_title(f'МАТРИЦА ОШИБОК\\n[TN, FP]\\n[FN, TP]', fontsize=15)\n",
    "\n",
    "fpr, tpr, thresholds = roc_curve(target_valid, probabilities_one_valid)\n",
    "roc_auc = auc(fpr, tpr)\n",
    "ax2.plot(fpr, tpr, lw=2, label=f'ROC curve (S={roc_auc:.2f})')\n",
    "ax2.plot([0, 1], [0, 1], lw=2, linestyle='--')\n",
    "ax2.set_xlim([0.0, 1.0])\n",
    "ax2.set_ylim([0.0, 1.05])\n",
    "ax2.set_xlabel('False Positive Rate', fontsize=15)\n",
    "ax2.set_ylabel('True Positive Rate', fontsize=15)\n",
    "ax2.set_title('ROC-кривая', fontsize=15)\n",
    "ax2.legend(loc='lower right')\n",
    "ax2.spines['top'].set_visible(False)\n",
    "ax2.spines['right'].set_visible(False)\n",
    "ax2.get_xaxis().tick_bottom()\n",
    "ax2.get_yaxis().tick_left()\n",
    "ax2.grid(linewidth=0.25);"
   ]
  },
  {
   "cell_type": "markdown",
   "metadata": {},
   "source": [
    "### LogisticRegression (Логистическая регрессия)\n",
    "\n",
    "Подберем оптимальные гиперпараметры для логистической регрессии:"
   ]
  },
  {
   "cell_type": "code",
   "execution_count": 30,
   "metadata": {},
   "outputs": [
    {
     "name": "stdout",
     "output_type": "stream",
     "text": [
      "Лучший результат: 0.5101500441306266\n",
      "Гиперпараметры: n_estimators: 100\n",
      "Wall time: 2.41 s\n"
     ]
    }
   ],
   "source": [
    "%%time\n",
    "\n",
    "best_lr_model_up = None\n",
    "best_lr_model_iter = 0\n",
    "best_lr_result = 0\n",
    "for iter in range(100, 10000, 100):\n",
    "    model_lr = LogisticRegression(random_state=12345, solver='lbfgs', max_iter = iter) \n",
    "    model_lr.fit(features_train_upsampled, target_train_upsampled) \n",
    "    predictions_lr = model_lr.predict(features_valid_encode) \n",
    "    result_lr = f1_score(target_valid, predictions_lr)\n",
    "    if result_lr > best_lr_result:\n",
    "        best_lr_model_up = model_lr\n",
    "        best_lr_result = result_lr\n",
    "        best_lr_model_iter = iter\n",
    "print('Лучший результат:', best_lr_result) \n",
    "print('Гиперпараметры:', 'n_estimators:', best_lr_model_iter)"
   ]
  },
  {
   "cell_type": "code",
   "execution_count": 31,
   "metadata": {
    "scrolled": false
   },
   "outputs": [
    {
     "name": "stdout",
     "output_type": "stream",
     "text": [
      "Полнота (recall) линейной регрессии: 0.7083333333333334\n",
      "Точность (precision) линейной регрессии: 0.3986206896551724\n",
      "F1-мера линейной регрессии: 0.5101500441306266\n",
      "AUC-ROC линейной регрессии: 0.7845154079219628\n"
     ]
    },
    {
     "data": {
      "image/png": "[encoded data removed]",
      "text/plain": [
       "<Figure size 1152x432 with 3 Axes>"
      ]
     },
     "metadata": {
      "needs_background": "light"
     },
     "output_type": "display_data"
    }
   ],
   "source": [
    "# запустим модель:\n",
    "model_lr = LogisticRegression(random_state=12345, solver='lbfgs', max_iter = best_lr_model_iter)\n",
    "model_lr.fit(features_train_upsampled, target_train_upsampled)\n",
    "predictions_valid_lr = model_lr.predict(features_valid_encode)\n",
    "\n",
    "# выведем метрики:\n",
    "lr_recall = recall_score(target_valid, predictions_valid_lr)\n",
    "lr_precision = precision_score(target_valid, predictions_valid_lr)\n",
    "lr_f1 = f1_score(target_valid, predictions_valid_lr)\n",
    "\n",
    "print('Полнота (recall) линейной регрессии:', lr_recall)\n",
    "print('Точность (precision) линейной регрессии:', lr_precision)\n",
    "print('F1-мера линейной регрессии:', lr_f1)\n",
    "\n",
    "probabilities_valid = model_lr.predict_proba(features_valid_encode)\n",
    "probabilities_one_valid = probabilities_valid[:, 1]\n",
    "auc_roc_lr = roc_auc_score(target_valid, probabilities_one_valid)\n",
    "print('AUC-ROC линейной регрессии:', auc_roc_lr)\n",
    "\n",
    "# отрисуем графики:\n",
    "cnf_matrix = confusion_matrix(target_valid, predictions_valid_lr)\n",
    "\n",
    "fig, ax = plt.subplots(ncols=2, figsize=(16, 6))\n",
    "ax1, ax2 = ax.flatten()\n",
    "\n",
    "sns.heatmap(cnf_matrix, annot=True, cmap='crest', fmt='g', linewidths=.5, vmin=10, ax=ax[0])\n",
    "ax1.set_xlabel('Предсказанные значения', fontsize=15)\n",
    "ax1.set_ylabel('Истинные значения', fontsize=15)\n",
    "ax1.set_title(f'МАТРИЦА ОШИБОК\\n[TN, FP]\\n[FN, TP]', fontsize=15)\n",
    "\n",
    "fpr, tpr, thresholds = roc_curve(target_valid, probabilities_one_valid)\n",
    "roc_auc = auc(fpr, tpr)\n",
    "ax2.plot(fpr, tpr, lw=2, label=f'ROC curve (S={roc_auc:.2f})')\n",
    "ax2.plot([0, 1], [0, 1], lw=2, linestyle='--')\n",
    "ax2.set_xlim([0.0, 1.0])\n",
    "ax2.set_ylim([0.0, 1.05])\n",
    "ax2.set_xlabel('False Positive Rate', fontsize=15)\n",
    "ax2.set_ylabel('True Positive Rate', fontsize=15)\n",
    "ax2.set_title('ROC-кривая', fontsize=15)\n",
    "ax2.legend(loc='lower right')\n",
    "ax2.spines['top'].set_visible(False)\n",
    "ax2.spines['right'].set_visible(False)\n",
    "ax2.get_xaxis().tick_bottom()\n",
    "ax2.get_yaxis().tick_left()\n",
    "ax2.grid(linewidth=0.25);"
   ]
  },
  {
   "cell_type": "markdown",
   "metadata": {},
   "source": [
    "Соберем данные исследования в таблицу:"
   ]
  },
  {
   "cell_type": "code",
   "execution_count": 32,
   "metadata": {
    "scrolled": true
   },
   "outputs": [
    {
     "data": {
      "text/html": [
       "<div>\n",
       "<style scoped>\n",
       "    .dataframe tbody tr th:only-of-type {\n",
       "        vertical-align: middle;\n",
       "    }\n",
       "\n",
       "    .dataframe tbody tr th {\n",
       "        vertical-align: top;\n",
       "    }\n",
       "\n",
       "    .dataframe thead th {\n",
       "        text-align: right;\n",
       "    }\n",
       "</style>\n",
       "<table border=\"1\" class=\"dataframe\">\n",
       "  <thead>\n",
       "    <tr style=\"text-align: right;\">\n",
       "      <th></th>\n",
       "      <th>Recall</th>\n",
       "      <th>Precision</th>\n",
       "      <th>F1</th>\n",
       "      <th>AUC-ROC</th>\n",
       "    </tr>\n",
       "  </thead>\n",
       "  <tbody>\n",
       "    <tr>\n",
       "      <th>DecisionTreeClassifier (Дерево решений) upsampled</th>\n",
       "      <td>0.710784</td>\n",
       "      <td>0.520646</td>\n",
       "      <td>0.601036</td>\n",
       "      <td>0.821904</td>\n",
       "    </tr>\n",
       "    <tr>\n",
       "      <th>RandomForestClassifier (Случайный лес) upsampled</th>\n",
       "      <td>0.698529</td>\n",
       "      <td>0.602537</td>\n",
       "      <td>0.646992</td>\n",
       "      <td>0.867171</td>\n",
       "    </tr>\n",
       "    <tr>\n",
       "      <th>LogisticRegression (Логистическая регрессия) upsampled</th>\n",
       "      <td>0.708333</td>\n",
       "      <td>0.398621</td>\n",
       "      <td>0.510150</td>\n",
       "      <td>0.784515</td>\n",
       "    </tr>\n",
       "  </tbody>\n",
       "</table>\n",
       "</div>"
      ],
      "text/plain": [
       "                                                      Recall  Precision  \\\n",
       "DecisionTreeClassifier (Дерево решений) upsampled   0.710784   0.520646   \n",
       "RandomForestClassifier (Случайный лес) upsampled    0.698529   0.602537   \n",
       "LogisticRegression (Логистическая регрессия) up...  0.708333   0.398621   \n",
       "\n",
       "                                                          F1   AUC-ROC  \n",
       "DecisionTreeClassifier (Дерево решений) upsampled   0.601036  0.821904  \n",
       "RandomForestClassifier (Случайный лес) upsampled    0.646992  0.867171  \n",
       "LogisticRegression (Логистическая регрессия) up...  0.510150  0.784515  "
      ]
     },
     "execution_count": 32,
     "metadata": {},
     "output_type": "execute_result"
    }
   ],
   "source": [
    "researh_data = [{'Recall': dt_recall, 'Precision': dt_precision, 'F1': dt_f1, 'AUC-ROC': auc_roc_dt}, \n",
    "                  {'Recall': rf_recall, 'Precision': rf_precision, 'F1': rf_f1, 'AUC-ROC': auc_roc_rf},\n",
    "                  {'Recall': lr_recall, 'Precision': lr_precision, 'F1': lr_f1, 'AUC-ROC': auc_roc_lr}] \n",
    "researh_res_upsample = pd.DataFrame(researh_data, index=['DecisionTreeClassifier (Дерево решений) upsampled', \n",
    "                                             'RandomForestClassifier (Случайный лес) upsampled', \n",
    "                                             'LogisticRegression (Логистическая регрессия) upsampled']) \n",
    "researh_res_upsample"
   ]
  },
  {
   "cell_type": "markdown",
   "metadata": {},
   "source": [
    "### Вывод:\n",
    "\n",
    "Увеличение выборки (upsampling) немного улучшило качество модели. Самые лучшие метрики у случайного леса. Метрика AUC-ROC выше метрики F1 и колеблется в районе 80%."
   ]
  },
  {
   "cell_type": "markdown",
   "metadata": {},
   "source": [
    "### Уменьшение выборки (downsampling)\n",
    "\n",
    "Уменьшать выборку будем при помощи RandomUnderSampler. Это случайная недостаточная выборка, которая случайным образом уменьшает количество классов большинства до желаемого соотношения по сравнению с классом меньшинства."
   ]
  },
  {
   "cell_type": "code",
   "execution_count": 34,
   "metadata": {},
   "outputs": [
    {
     "name": "stdout",
     "output_type": "stream",
     "text": [
      "(2444, 11)\n",
      "(2444,)\n"
     ]
    }
   ],
   "source": [
    "# создадим даунсэмплер:\n",
    "undersample = RandomUnderSampler(random_state=12345)\n",
    "\n",
    "# Увеличим выборки\n",
    "features_train_downsampled, target_train_downsampled = undersample.fit_resample(features_train_encode, target_train)\n",
    "\n",
    "# Проверим\n",
    "print(features_train_downsampled.shape)\n",
    "print(target_train_downsampled.shape)"
   ]
  },
  {
   "cell_type": "markdown",
   "metadata": {},
   "source": [
    "### DecisionTreeClassifier (Дерево решений)\n",
    "\n",
    "Подберем оптимальные гиперпараметры для дерева решений:"
   ]
  },
  {
   "cell_type": "code",
   "execution_count": 35,
   "metadata": {},
   "outputs": [
    {
     "name": "stdout",
     "output_type": "stream",
     "text": [
      "Лучший результат: 0.597918637653737\n",
      "Гиперпараметры: max_depth: 6 , min_samples_leaf: 1\n",
      "Wall time: 6.89 s\n"
     ]
    }
   ],
   "source": [
    "%%time\n",
    "\n",
    "best_dt_model_down = None\n",
    "best_dt_model_depth = 0\n",
    "best_dt_model_leaf = 0\n",
    "best_dt_result = 0\n",
    "for depth in range(1, 15):\n",
    "    for i in range(1, 50):       \n",
    "            model_dt = DecisionTreeClassifier(random_state=12345, max_depth = depth, min_samples_leaf = i) \n",
    "            model_dt.fit(features_train_downsampled, target_train_downsampled) \n",
    "            predictions_dt = model_dt.predict(features_valid_encode) \n",
    "            result_dt = f1_score(target_valid, predictions_dt)\n",
    "            if result_dt > best_dt_result:\n",
    "                best_dt_model_down = model_dt\n",
    "                best_dt_model_depth = depth\n",
    "                best_dt_model_leaf = i\n",
    "                best_dt_result = result_dt\n",
    "print('Лучший результат:', best_dt_result) \n",
    "print('Гиперпараметры:', 'max_depth:', best_dt_model_depth, ', min_samples_leaf:', best_dt_model_leaf)"
   ]
  },
  {
   "cell_type": "markdown",
   "metadata": {},
   "source": [
    "Обучим модель с подобранными гипрепараметрами и посмотрим метрики:"
   ]
  },
  {
   "cell_type": "code",
   "execution_count": 36,
   "metadata": {
    "scrolled": false
   },
   "outputs": [
    {
     "name": "stdout",
     "output_type": "stream",
     "text": [
      "Полнота (recall) дерева решений: 0.7745098039215687\n",
      "Точность (precision) дерева решений: 0.4869029275808937\n",
      "F1-мера дерева решений: 0.597918637653737\n",
      "AUC-ROC дерева решений: 0.8533414622130259\n"
     ]
    },
    {
     "data": {
      "image/png": "[encoded data removed]",
      "text/plain": [
       "<Figure size 1152x432 with 3 Axes>"
      ]
     },
     "metadata": {
      "needs_background": "light"
     },
     "output_type": "display_data"
    }
   ],
   "source": [
    "# запустим модель:\n",
    "model_dt = DecisionTreeClassifier(random_state = 12345, \n",
    "                                  max_depth = best_dt_model_depth, min_samples_leaf = best_dt_model_leaf)\n",
    "model_dt.fit(features_train_downsampled, target_train_downsampled)\n",
    "predictions_valid_dt = model_dt.predict(features_valid_encode)\n",
    "\n",
    "# выведем метрики:\n",
    "dt_recall = recall_score(target_valid, predictions_valid_dt)\n",
    "dt_precision = precision_score(target_valid, predictions_valid_dt)\n",
    "dt_f1 = f1_score(target_valid, predictions_valid_dt)\n",
    "\n",
    "print('Полнота (recall) дерева решений:', dt_recall)\n",
    "print('Точность (precision) дерева решений:', dt_precision)\n",
    "print('F1-мера дерева решений:', dt_f1)\n",
    "\n",
    "probabilities_valid = model_dt.predict_proba(features_valid_encode)\n",
    "probabilities_one_valid = probabilities_valid[:, 1]\n",
    "auc_roc_dt = roc_auc_score(target_valid, probabilities_one_valid)\n",
    "print('AUC-ROC дерева решений:', auc_roc_dt)\n",
    "\n",
    "# отрисуем графики:\n",
    "cnf_matrix = confusion_matrix(target_valid, predictions_valid_dt)\n",
    "\n",
    "fig, ax = plt.subplots(ncols=2, figsize=(16, 6))\n",
    "ax1, ax2 = ax.flatten()\n",
    "\n",
    "sns.heatmap(cnf_matrix, annot=True, cmap='crest', fmt='g', linewidths=.5, vmin=10, ax=ax[0])\n",
    "ax1.set_xlabel('Предсказанные значения', fontsize=15)\n",
    "ax1.set_ylabel('Истинные значения', fontsize=15)\n",
    "ax1.set_title(f'МАТРИЦА ОШИБОК\\n[TN, FP]\\n[FN, TP]', fontsize=15)\n",
    "\n",
    "fpr, tpr, thresholds = roc_curve(target_valid, probabilities_one_valid)\n",
    "roc_auc = auc(fpr, tpr)\n",
    "ax2.plot(fpr, tpr, lw=2, label=f'ROC curve (S={roc_auc:.2f})')\n",
    "ax2.plot([0, 1], [0, 1], lw=2, linestyle='--')\n",
    "ax2.set_xlim([0.0, 1.0])\n",
    "ax2.set_ylim([0.0, 1.05])\n",
    "ax2.set_xlabel('False Positive Rate', fontsize=15)\n",
    "ax2.set_ylabel('True Positive Rate', fontsize=15)\n",
    "ax2.set_title('ROC-кривая', fontsize=15)\n",
    "ax2.legend(loc='lower right')\n",
    "ax2.spines['top'].set_visible(False)\n",
    "ax2.spines['right'].set_visible(False)\n",
    "ax2.get_xaxis().tick_bottom()\n",
    "ax2.get_yaxis().tick_left()\n",
    "ax2.grid(linewidth=0.25);"
   ]
  },
  {
   "cell_type": "markdown",
   "metadata": {},
   "source": [
    "### RandomForestClassifier (Случайный лес)\n",
    "\n",
    "Подберем оптимальные гиперпараметры для дерева решений:"
   ]
  },
  {
   "cell_type": "code",
   "execution_count": 37,
   "metadata": {},
   "outputs": [
    {
     "name": "stdout",
     "output_type": "stream",
     "text": [
      "Лучший результат: 0.630665380906461\n",
      "Гиперпараметры: n_estimators: 50 , max_depth: 7\n",
      "Wall time: 36.3 s\n"
     ]
    }
   ],
   "source": [
    "%%time\n",
    "\n",
    "best_rf_model_down = None\n",
    "best_rf_model_est = 0\n",
    "best_rf_model_depth = 0\n",
    "best_rf_result = 0\n",
    "for est in range(10, 101, 10):\n",
    "    for depth in range(1, 20):\n",
    "        model_rf = RandomForestClassifier(random_state=12345, n_estimators=est, max_depth = depth) \n",
    "        model_rf.fit(features_train_downsampled, target_train_downsampled) \n",
    "        predictions_rf = model_rf.predict(features_valid_encode) \n",
    "        result_rf = f1_score(target_valid, predictions_rf)\n",
    "        if result_rf > best_rf_result:\n",
    "            best_rf_model_down = model_rf\n",
    "            best_rf_result = result_rf\n",
    "            best_rf_model_est = est\n",
    "            best_rf_model_depth = depth\n",
    "print('Лучший результат:', best_rf_result) \n",
    "print('Гиперпараметры:', 'n_estimators:', best_rf_model_est, ', max_depth:', best_rf_model_depth)"
   ]
  },
  {
   "cell_type": "code",
   "execution_count": 38,
   "metadata": {
    "scrolled": false
   },
   "outputs": [
    {
     "name": "stdout",
     "output_type": "stream",
     "text": [
      "Полнота (recall) случайного леса: 0.8014705882352942\n",
      "Точность (precision) случайного леса: 0.519872813990461\n",
      "F1-мера случайного леса: 0.630665380906461\n",
      "AUC-ROC случайного леса: 0.8666940708444181\n"
     ]
    },
    {
     "data": {
      "image/png": "[encoded data removed]",
      "text/plain": [
       "<Figure size 1152x432 with 3 Axes>"
      ]
     },
     "metadata": {
      "needs_background": "light"
     },
     "output_type": "display_data"
    }
   ],
   "source": [
    "# запустим модель:\n",
    "model_rf = RandomForestClassifier(random_state = 12345, \n",
    "                                  n_estimators=best_rf_model_est, max_depth=best_rf_model_depth)\n",
    "model_rf.fit(features_train_downsampled, target_train_downsampled)\n",
    "predictions_valid_rf = model_rf.predict(features_valid_encode)\n",
    "\n",
    "# выведем метрики:\n",
    "rf_recall = recall_score(target_valid, predictions_valid_rf)\n",
    "rf_precision = precision_score(target_valid, predictions_valid_rf)\n",
    "rf_f1 = f1_score(target_valid, predictions_valid_rf)\n",
    "\n",
    "print('Полнота (recall) случайного леса:', rf_recall)\n",
    "print('Точность (precision) случайного леса:', rf_precision)\n",
    "print('F1-мера случайного леса:', rf_f1)\n",
    "\n",
    "probabilities_valid = model_rf.predict_proba(features_valid_encode)\n",
    "probabilities_one_valid = probabilities_valid[:, 1]\n",
    "auc_roc_rf = roc_auc_score(target_valid, probabilities_one_valid)\n",
    "print('AUC-ROC случайного леса:', auc_roc_rf)\n",
    "\n",
    "# отрисуем графики:\n",
    "cnf_matrix = confusion_matrix(target_valid, predictions_valid_rf)\n",
    "\n",
    "fig, ax = plt.subplots(ncols=2, figsize=(16, 6))\n",
    "ax1, ax2 = ax.flatten()\n",
    "\n",
    "sns.heatmap(cnf_matrix, annot=True, cmap='crest', fmt='g', linewidths=.5, vmin=10, ax=ax[0])\n",
    "ax1.set_xlabel('Предсказанные значения', fontsize=15)\n",
    "ax1.set_ylabel('Истинные значения', fontsize=15)\n",
    "ax1.set_title(f'МАТРИЦА ОШИБОК\\n[TN, FP]\\n[FN, TP]', fontsize=15)\n",
    "\n",
    "fpr, tpr, thresholds = roc_curve(target_valid, probabilities_one_valid)\n",
    "roc_auc = auc(fpr, tpr)\n",
    "ax2.plot(fpr, tpr, lw=2, label=f'ROC curve (S={roc_auc:.2f})')\n",
    "ax2.plot([0, 1], [0, 1], lw=2, linestyle='--')\n",
    "ax2.set_xlim([0.0, 1.0])\n",
    "ax2.set_ylim([0.0, 1.05])\n",
    "ax2.set_xlabel('False Positive Rate', fontsize=15)\n",
    "ax2.set_ylabel('True Positive Rate', fontsize=15)\n",
    "ax2.set_title('ROC-кривая', fontsize=15)\n",
    "ax2.legend(loc='lower right')\n",
    "ax2.spines['top'].set_visible(False)\n",
    "ax2.spines['right'].set_visible(False)\n",
    "ax2.get_xaxis().tick_bottom()\n",
    "ax2.get_yaxis().tick_left()\n",
    "ax2.grid(linewidth=0.25);"
   ]
  },
  {
   "cell_type": "markdown",
   "metadata": {},
   "source": [
    "### LogisticRegression (Логистическая регрессия)\n",
    "\n",
    "Подберем оптимальные гиперпараметры для логистической регрессии:"
   ]
  },
  {
   "cell_type": "code",
   "execution_count": 39,
   "metadata": {},
   "outputs": [
    {
     "name": "stdout",
     "output_type": "stream",
     "text": [
      "Лучший результат: 0.5269565217391304\n",
      "Гиперпараметры: n_estimators: 100\n",
      "Wall time: 1.16 s\n"
     ]
    }
   ],
   "source": [
    "%%time\n",
    "\n",
    "best_lr_model_down = None\n",
    "best_lr_model_iter = 0\n",
    "best_lr_result = 0\n",
    "for iter in range(100, 10000, 100):\n",
    "    model_lr = LogisticRegression(random_state=12345, solver='lbfgs', max_iter = iter) \n",
    "    model_lr.fit(features_train_downsampled, target_train_downsampled) \n",
    "    predictions_lr = model_lr.predict(features_valid_encode) \n",
    "    result_lr = f1_score(target_valid, predictions_lr)\n",
    "    if result_lr > best_lr_result:\n",
    "        best_lr_model_down = model_lr\n",
    "        best_lr_result = result_lr\n",
    "        best_lr_model_iter = iter\n",
    "print('Лучший результат:', best_lr_result) \n",
    "print('Гиперпараметры:', 'n_estimators:', best_lr_model_iter)"
   ]
  },
  {
   "cell_type": "code",
   "execution_count": 40,
   "metadata": {
    "scrolled": false
   },
   "outputs": [
    {
     "name": "stdout",
     "output_type": "stream",
     "text": [
      "Полнота (recall) линейной регрессии: 0.7426470588235294\n",
      "Точность (precision) линейной регрессии: 0.408355795148248\n",
      "F1-мера линейной регрессии: 0.5269565217391304\n",
      "AUC-ROC линейной регрессии: 0.7925503744211252\n"
     ]
    },
    {
     "data": {
      "image/png": "[encoded data removed]",
      "text/plain": [
       "<Figure size 1152x432 with 3 Axes>"
      ]
     },
     "metadata": {
      "needs_background": "light"
     },
     "output_type": "display_data"
    }
   ],
   "source": [
    "# запустим модель:\n",
    "model_lr = LogisticRegression(random_state=12345, solver='lbfgs', max_iter = best_lr_model_iter)\n",
    "model_lr.fit(features_train_downsampled, target_train_downsampled)\n",
    "predictions_valid_lr = model_lr.predict(features_valid_encode)\n",
    "\n",
    "# выведем метрики:\n",
    "lr_recall = recall_score(target_valid, predictions_valid_lr)\n",
    "lr_precision = precision_score(target_valid, predictions_valid_lr)\n",
    "lr_f1 = f1_score(target_valid, predictions_valid_lr)\n",
    "\n",
    "print('Полнота (recall) линейной регрессии:', lr_recall)\n",
    "print('Точность (precision) линейной регрессии:', lr_precision)\n",
    "print('F1-мера линейной регрессии:', lr_f1)\n",
    "\n",
    "probabilities_valid = model_lr.predict_proba(features_valid_encode)\n",
    "probabilities_one_valid = probabilities_valid[:, 1]\n",
    "auc_roc_lr = roc_auc_score(target_valid, probabilities_one_valid)\n",
    "print('AUC-ROC линейной регрессии:', auc_roc_lr)\n",
    "\n",
    "# отрисуем графики:\n",
    "cnf_matrix = confusion_matrix(target_valid, predictions_valid_lr)\n",
    "\n",
    "fig, ax = plt.subplots(ncols=2, figsize=(16, 6))\n",
    "ax1, ax2 = ax.flatten()\n",
    "\n",
    "sns.heatmap(cnf_matrix, annot=True, cmap='crest', fmt='g', linewidths=.5, vmin=10, ax=ax[0])\n",
    "ax1.set_xlabel('Предсказанные значения', fontsize=15)\n",
    "ax1.set_ylabel('Истинные значения', fontsize=15)\n",
    "ax1.set_title(f'МАТРИЦА ОШИБОК\\n[TN, FP]\\n[FN, TP]', fontsize=15)\n",
    "\n",
    "fpr, tpr, thresholds = roc_curve(target_valid, probabilities_one_valid)\n",
    "roc_auc = auc(fpr, tpr)\n",
    "ax2.plot(fpr, tpr, lw=2, label=f'ROC curve (S={roc_auc:.2f})')\n",
    "ax2.plot([0, 1], [0, 1], lw=2, linestyle='--')\n",
    "ax2.set_xlim([0.0, 1.0])\n",
    "ax2.set_ylim([0.0, 1.05])\n",
    "ax2.set_xlabel('False Positive Rate', fontsize=15)\n",
    "ax2.set_ylabel('True Positive Rate', fontsize=15)\n",
    "ax2.set_title('ROC-кривая', fontsize=15)\n",
    "ax2.legend(loc='lower right')\n",
    "ax2.spines['top'].set_visible(False)\n",
    "ax2.spines['right'].set_visible(False)\n",
    "ax2.get_xaxis().tick_bottom()\n",
    "ax2.get_yaxis().tick_left()\n",
    "ax2.grid(linewidth=0.25);"
   ]
  },
  {
   "cell_type": "markdown",
   "metadata": {},
   "source": [
    "Соберем данные исследования в таблицу:"
   ]
  },
  {
   "cell_type": "code",
   "execution_count": 41,
   "metadata": {
    "scrolled": true
   },
   "outputs": [
    {
     "data": {
      "text/html": [
       "<div>\n",
       "<style scoped>\n",
       "    .dataframe tbody tr th:only-of-type {\n",
       "        vertical-align: middle;\n",
       "    }\n",
       "\n",
       "    .dataframe tbody tr th {\n",
       "        vertical-align: top;\n",
       "    }\n",
       "\n",
       "    .dataframe thead th {\n",
       "        text-align: right;\n",
       "    }\n",
       "</style>\n",
       "<table border=\"1\" class=\"dataframe\">\n",
       "  <thead>\n",
       "    <tr style=\"text-align: right;\">\n",
       "      <th></th>\n",
       "      <th>Recall</th>\n",
       "      <th>Precision</th>\n",
       "      <th>F1</th>\n",
       "      <th>AUC-ROC</th>\n",
       "    </tr>\n",
       "  </thead>\n",
       "  <tbody>\n",
       "    <tr>\n",
       "      <th>DecisionTreeClassifier (Дерево решений) downsampled</th>\n",
       "      <td>0.774510</td>\n",
       "      <td>0.486903</td>\n",
       "      <td>0.597919</td>\n",
       "      <td>0.853341</td>\n",
       "    </tr>\n",
       "    <tr>\n",
       "      <th>RandomForestClassifier (Случайный лес) downsampled</th>\n",
       "      <td>0.801471</td>\n",
       "      <td>0.519873</td>\n",
       "      <td>0.630665</td>\n",
       "      <td>0.866694</td>\n",
       "    </tr>\n",
       "    <tr>\n",
       "      <th>LogisticRegression (Логистическая регрессия) downsampled</th>\n",
       "      <td>0.742647</td>\n",
       "      <td>0.408356</td>\n",
       "      <td>0.526957</td>\n",
       "      <td>0.792550</td>\n",
       "    </tr>\n",
       "  </tbody>\n",
       "</table>\n",
       "</div>"
      ],
      "text/plain": [
       "                                                      Recall  Precision  \\\n",
       "DecisionTreeClassifier (Дерево решений) downsam...  0.774510   0.486903   \n",
       "RandomForestClassifier (Случайный лес) downsampled  0.801471   0.519873   \n",
       "LogisticRegression (Логистическая регрессия) do...  0.742647   0.408356   \n",
       "\n",
       "                                                          F1   AUC-ROC  \n",
       "DecisionTreeClassifier (Дерево решений) downsam...  0.597919  0.853341  \n",
       "RandomForestClassifier (Случайный лес) downsampled  0.630665  0.866694  \n",
       "LogisticRegression (Логистическая регрессия) do...  0.526957  0.792550  "
      ]
     },
     "execution_count": 41,
     "metadata": {},
     "output_type": "execute_result"
    }
   ],
   "source": [
    "researh_data = [{'Recall': dt_recall, 'Precision': dt_precision, 'F1': dt_f1, 'AUC-ROC': auc_roc_dt}, \n",
    "                  {'Recall': rf_recall, 'Precision': rf_precision, 'F1': rf_f1, 'AUC-ROC': auc_roc_rf},\n",
    "                  {'Recall': lr_recall, 'Precision': lr_precision, 'F1': lr_f1, 'AUC-ROC': auc_roc_lr}] \n",
    "researh_res_downsample = pd.DataFrame(researh_data, index=['DecisionTreeClassifier (Дерево решений) downsampled', \n",
    "                                             'RandomForestClassifier (Случайный лес) downsampled', \n",
    "                                             'LogisticRegression (Логистическая регрессия) downsampled']) \n",
    "researh_res_downsample"
   ]
  },
  {
   "cell_type": "markdown",
   "metadata": {},
   "source": [
    "### Вывод:\n",
    "\n",
    "Уменьшение выборки (downsampling) сработало немного лучше увеличения (upsampling). Самые лучшие также метрики у случайного леса. Метрика AUC-ROC выше метрики F1 и колеблется в районе 80%."
   ]
  },
  {
   "cell_type": "markdown",
   "metadata": {},
   "source": [
    "### Взвешивание классов"
   ]
  },
  {
   "cell_type": "markdown",
   "metadata": {},
   "source": [
    "### DecisionTreeClassifier (Дерево решений)\n",
    "\n",
    "Подберем оптимальные гиперпараметры для дерева решений:"
   ]
  },
  {
   "cell_type": "code",
   "execution_count": 42,
   "metadata": {},
   "outputs": [
    {
     "name": "stdout",
     "output_type": "stream",
     "text": [
      "Лучший результат: 0.5837320574162679\n",
      "Гиперпараметры: max_depth: 8 , min_samples_leaf: 43\n",
      "Wall time: 13.5 s\n"
     ]
    }
   ],
   "source": [
    "%%time\n",
    "\n",
    "best_dt_model_balanced = None\n",
    "best_dt_model_depth = 0\n",
    "best_dt_model_leaf = 0\n",
    "best_dt_result = 0\n",
    "for depth in range(1, 15):\n",
    "    for i in range(1, 50):       \n",
    "            model_dt = DecisionTreeClassifier(random_state=12345, max_depth = depth, min_samples_leaf = i, \n",
    "                                              class_weight='balanced') \n",
    "            model_dt.fit(features_train_encode, target_train) \n",
    "            predictions_dt = model_dt.predict(features_valid_encode) \n",
    "            result_dt = f1_score(target_valid, predictions_dt)\n",
    "            if result_dt > best_dt_result:\n",
    "                best_dt_model_balanced = model_dt\n",
    "                best_dt_model_depth = depth\n",
    "                best_dt_model_leaf = i\n",
    "                best_dt_result = result_dt\n",
    "print('Лучший результат:', best_dt_result) \n",
    "print('Гиперпараметры:', 'max_depth:', best_dt_model_depth, ', min_samples_leaf:', best_dt_model_leaf)"
   ]
  },
  {
   "cell_type": "markdown",
   "metadata": {},
   "source": [
    "Обучим модель с подобранными гипрепараметрами и посмотрим метрики:"
   ]
  },
  {
   "cell_type": "code",
   "execution_count": 43,
   "metadata": {
    "scrolled": false
   },
   "outputs": [
    {
     "name": "stdout",
     "output_type": "stream",
     "text": [
      "Полнота (recall) дерева решений: 0.4534313725490196\n",
      "Точность (precision) дерева решений: 0.6678700361010831\n",
      "F1-мера дерева решений: 0.5401459854014599\n",
      "AUC-ROC дерева решений: 0.8375609665976944\n"
     ]
    },
    {
     "data": {
      "image/png": "[encoded data removed]",
      "text/plain": [
       "<Figure size 1152x432 with 3 Axes>"
      ]
     },
     "metadata": {
      "needs_background": "light"
     },
     "output_type": "display_data"
    }
   ],
   "source": [
    "# запустим модель:\n",
    "model_dt = DecisionTreeClassifier(random_state = 12345, \n",
    "                                  max_depth = best_dt_model_depth, min_samples_leaf = best_dt_model_leaf)\n",
    "model_dt.fit(features_train_encode, target_train)\n",
    "predictions_valid_dt = model_dt.predict(features_valid_encode)\n",
    "\n",
    "# выведем метрики:\n",
    "dt_recall = recall_score(target_valid, predictions_valid_dt)\n",
    "dt_precision = precision_score(target_valid, predictions_valid_dt)\n",
    "dt_f1 = f1_score(target_valid, predictions_valid_dt)\n",
    "\n",
    "print('Полнота (recall) дерева решений:', dt_recall)\n",
    "print('Точность (precision) дерева решений:', dt_precision)\n",
    "print('F1-мера дерева решений:', dt_f1)\n",
    "\n",
    "probabilities_valid = model_dt.predict_proba(features_valid_encode)\n",
    "probabilities_one_valid = probabilities_valid[:, 1]\n",
    "auc_roc_dt = roc_auc_score(target_valid, probabilities_one_valid)\n",
    "print('AUC-ROC дерева решений:', auc_roc_dt)\n",
    "\n",
    "# отрисуем графики:\n",
    "cnf_matrix = confusion_matrix(target_valid, predictions_valid_dt)\n",
    "\n",
    "fig, ax = plt.subplots(ncols=2, figsize=(16, 6))\n",
    "ax1, ax2 = ax.flatten()\n",
    "\n",
    "sns.heatmap(cnf_matrix, annot=True, cmap='crest', fmt='g', linewidths=.5, vmin=10, ax=ax[0])\n",
    "ax1.set_xlabel('Предсказанные значения', fontsize=15)\n",
    "ax1.set_ylabel('Истинные значения', fontsize=15)\n",
    "ax1.set_title(f'МАТРИЦА ОШИБОК\\n[TN, FP]\\n[FN, TP]', fontsize=15)\n",
    "\n",
    "fpr, tpr, thresholds = roc_curve(target_valid, probabilities_one_valid)\n",
    "roc_auc = auc(fpr, tpr)\n",
    "ax2.plot(fpr, tpr, lw=2, label=f'ROC curve (S={roc_auc:.2f})')\n",
    "ax2.plot([0, 1], [0, 1], lw=2, linestyle='--')\n",
    "ax2.set_xlim([0.0, 1.0])\n",
    "ax2.set_ylim([0.0, 1.05])\n",
    "ax2.set_xlabel('False Positive Rate', fontsize=15)\n",
    "ax2.set_ylabel('True Positive Rate', fontsize=15)\n",
    "ax2.set_title('ROC-кривая', fontsize=15)\n",
    "ax2.legend(loc='lower right')\n",
    "ax2.spines['top'].set_visible(False)\n",
    "ax2.spines['right'].set_visible(False)\n",
    "ax2.get_xaxis().tick_bottom()\n",
    "ax2.get_yaxis().tick_left()\n",
    "ax2.grid(linewidth=0.25);"
   ]
  },
  {
   "cell_type": "markdown",
   "metadata": {},
   "source": [
    "### RandomForestClassifier (Случайный лес)\n",
    "\n",
    "Подберем оптимальные гиперпараметры для дерева решений:"
   ]
  },
  {
   "cell_type": "code",
   "execution_count": 44,
   "metadata": {},
   "outputs": [
    {
     "name": "stdout",
     "output_type": "stream",
     "text": [
      "Лучший результат: 0.6546762589928057\n",
      "Гиперпараметры: n_estimators: 60 , max_depth: 10\n",
      "Wall time: 58.9 s\n"
     ]
    }
   ],
   "source": [
    "%%time\n",
    "\n",
    "best_rf_model_balanced = None\n",
    "best_rf_model_est = 0\n",
    "best_rf_model_depth = 0\n",
    "best_rf_result = 0\n",
    "for est in range(10, 101, 10):\n",
    "    for depth in range(1, 20):\n",
    "        model_rf = RandomForestClassifier(random_state=12345, n_estimators=est, max_depth = depth, \n",
    "                                              class_weight='balanced') \n",
    "        model_rf.fit(features_train_encode, target_train) \n",
    "        predictions_rf = model_rf.predict(features_valid_encode) \n",
    "        result_rf = f1_score(target_valid, predictions_rf)\n",
    "        if result_rf > best_rf_result:\n",
    "            best_rf_model_balanced = model_rf\n",
    "            best_rf_result = result_rf\n",
    "            best_rf_model_est = est\n",
    "            best_rf_model_depth = depth\n",
    "print('Лучший результат:', best_rf_result) \n",
    "print('Гиперпараметры:', 'n_estimators:', best_rf_model_est, ', max_depth:', best_rf_model_depth)"
   ]
  },
  {
   "cell_type": "code",
   "execution_count": 45,
   "metadata": {
    "scrolled": false
   },
   "outputs": [
    {
     "name": "stdout",
     "output_type": "stream",
     "text": [
      "Полнота (recall) случайного леса: 0.46568627450980393\n",
      "Точность (precision) случайного леса: 0.7883817427385892\n",
      "F1-мера случайного леса: 0.5855161787365177\n",
      "AUC-ROC случайного леса: 0.8723257833284067\n"
     ]
    },
    {
     "data": {
      "image/png": "[encoded data removed]",
      "text/plain": [
       "<Figure size 1152x432 with 3 Axes>"
      ]
     },
     "metadata": {
      "needs_background": "light"
     },
     "output_type": "display_data"
    }
   ],
   "source": [
    "# запустим модель:\n",
    "model_rf = RandomForestClassifier(random_state = 12345, \n",
    "                                  n_estimators=best_rf_model_est, max_depth=best_rf_model_depth)\n",
    "model_rf.fit(features_train_encode, target_train)\n",
    "predictions_valid_rf = model_rf.predict(features_valid_encode)\n",
    "\n",
    "# выведем метрики:\n",
    "rf_recall = recall_score(target_valid, predictions_valid_rf)\n",
    "rf_precision = precision_score(target_valid, predictions_valid_rf)\n",
    "rf_f1 = f1_score(target_valid, predictions_valid_rf)\n",
    "\n",
    "print('Полнота (recall) случайного леса:', rf_recall)\n",
    "print('Точность (precision) случайного леса:', rf_precision)\n",
    "print('F1-мера случайного леса:', rf_f1)\n",
    "\n",
    "probabilities_valid = model_rf.predict_proba(features_valid_encode)\n",
    "probabilities_one_valid = probabilities_valid[:, 1]\n",
    "auc_roc_rf = roc_auc_score(target_valid, probabilities_one_valid)\n",
    "print('AUC-ROC случайного леса:', auc_roc_rf)\n",
    "\n",
    "# отрисуем графики:\n",
    "cnf_matrix = confusion_matrix(target_valid, predictions_valid_rf)\n",
    "\n",
    "fig, ax = plt.subplots(ncols=2, figsize=(16, 6))\n",
    "ax1, ax2 = ax.flatten()\n",
    "\n",
    "sns.heatmap(cnf_matrix, annot=True, cmap='crest', fmt='g', linewidths=.5, vmin=10, ax=ax[0])\n",
    "ax1.set_xlabel('Предсказанные значения', fontsize=15)\n",
    "ax1.set_ylabel('Истинные значения', fontsize=15)\n",
    "ax1.set_title(f'МАТРИЦА ОШИБОК\\n[TN, FP]\\n[FN, TP]', fontsize=15)\n",
    "\n",
    "fpr, tpr, thresholds = roc_curve(target_valid, probabilities_one_valid)\n",
    "roc_auc = auc(fpr, tpr)\n",
    "ax2.plot(fpr, tpr, lw=2, label=f'ROC curve (S={roc_auc:.2f})')\n",
    "ax2.plot([0, 1], [0, 1], lw=2, linestyle='--')\n",
    "ax2.set_xlim([0.0, 1.0])\n",
    "ax2.set_ylim([0.0, 1.05])\n",
    "ax2.set_xlabel('False Positive Rate', fontsize=15)\n",
    "ax2.set_ylabel('True Positive Rate', fontsize=15)\n",
    "ax2.set_title('ROC-кривая', fontsize=15)\n",
    "ax2.legend(loc='lower right')\n",
    "ax2.spines['top'].set_visible(False)\n",
    "ax2.spines['right'].set_visible(False)\n",
    "ax2.get_xaxis().tick_bottom()\n",
    "ax2.get_yaxis().tick_left()\n",
    "ax2.grid(linewidth=0.25);"
   ]
  },
  {
   "cell_type": "markdown",
   "metadata": {},
   "source": [
    "### LogisticRegression (Логистическая регрессия)\n",
    "\n",
    "Подберем оптимальные гиперпараметры для логистической регрессии:"
   ]
  },
  {
   "cell_type": "code",
   "execution_count": 46,
   "metadata": {},
   "outputs": [
    {
     "name": "stdout",
     "output_type": "stream",
     "text": [
      "Лучший результат: 0.5285338015803336\n",
      "Гиперпараметры: n_estimators: 100\n",
      "Wall time: 1.65 s\n"
     ]
    }
   ],
   "source": [
    "%%time\n",
    "\n",
    "best_lr_model_balanced = None\n",
    "best_lr_model_iter = 0\n",
    "best_lr_result = 0\n",
    "for iter in range(100, 10000, 100):\n",
    "    model_lr = LogisticRegression(random_state=12345, solver='lbfgs', max_iter = iter, \n",
    "                                              class_weight='balanced') \n",
    "    model_lr.fit(features_train_encode, target_train) \n",
    "    predictions_lr = model_lr.predict(features_valid_encode) \n",
    "    result_lr = f1_score(target_valid, predictions_lr)\n",
    "    if result_lr > best_lr_result:\n",
    "        best_lr_model_balanced = model_lr\n",
    "        best_lr_result = result_lr\n",
    "        best_lr_model_iter = iter\n",
    "print('Лучший результат:', best_lr_result) \n",
    "print('Гиперпараметры:', 'n_estimators:', best_lr_model_iter)"
   ]
  },
  {
   "cell_type": "code",
   "execution_count": 47,
   "metadata": {
    "scrolled": false
   },
   "outputs": [
    {
     "name": "stdout",
     "output_type": "stream",
     "text": [
      "Полнота (recall) линейной регрессии: 0.2034313725490196\n",
      "Точность (precision) линейной регрессии: 0.6058394160583942\n",
      "F1-мера линейной регрессии: 0.30458715596330277\n",
      "AUC-ROC линейной регрессии: 0.7875698960488718\n"
     ]
    },
    {
     "data": {
      "image/png": "[encoded data removed]",
      "text/plain": [
       "<Figure size 1152x432 with 3 Axes>"
      ]
     },
     "metadata": {
      "needs_background": "light"
     },
     "output_type": "display_data"
    }
   ],
   "source": [
    "# запустим модель:\n",
    "model_lr = LogisticRegression(random_state=12345, solver='lbfgs', max_iter = best_lr_model_iter)\n",
    "model_lr.fit(features_train_encode, target_train)\n",
    "predictions_valid_lr = model_lr.predict(features_valid_encode)\n",
    "\n",
    "# выведем метрики:\n",
    "lr_recall = recall_score(target_valid, predictions_valid_lr)\n",
    "lr_precision = precision_score(target_valid, predictions_valid_lr)\n",
    "lr_f1 = f1_score(target_valid, predictions_valid_lr)\n",
    "\n",
    "print('Полнота (recall) линейной регрессии:', lr_recall)\n",
    "print('Точность (precision) линейной регрессии:', lr_precision)\n",
    "print('F1-мера линейной регрессии:', lr_f1)\n",
    "\n",
    "probabilities_valid = model_lr.predict_proba(features_valid_encode)\n",
    "probabilities_one_valid = probabilities_valid[:, 1]\n",
    "auc_roc_lr = roc_auc_score(target_valid, probabilities_one_valid)\n",
    "print('AUC-ROC линейной регрессии:', auc_roc_lr)\n",
    "\n",
    "# отрисуем графики:\n",
    "cnf_matrix = confusion_matrix(target_valid, predictions_valid_lr)\n",
    "\n",
    "fig, ax = plt.subplots(ncols=2, figsize=(16, 6))\n",
    "ax1, ax2 = ax.flatten()\n",
    "\n",
    "sns.heatmap(cnf_matrix, annot=True, cmap='crest', fmt='g', linewidths=.5, vmin=10, ax=ax[0])\n",
    "ax1.set_xlabel('Предсказанные значения', fontsize=15)\n",
    "ax1.set_ylabel('Истинные значения', fontsize=15)\n",
    "ax1.set_title(f'МАТРИЦА ОШИБОК\\n[TN, FP]\\n[FN, TP]', fontsize=15)\n",
    "\n",
    "fpr, tpr, thresholds = roc_curve(target_valid, probabilities_one_valid)\n",
    "roc_auc = auc(fpr, tpr)\n",
    "ax2.plot(fpr, tpr, lw=2, label=f'ROC curve (S={roc_auc:.2f})')\n",
    "ax2.plot([0, 1], [0, 1], lw=2, linestyle='--')\n",
    "ax2.set_xlim([0.0, 1.0])\n",
    "ax2.set_ylim([0.0, 1.05])\n",
    "ax2.set_xlabel('False Positive Rate', fontsize=15)\n",
    "ax2.set_ylabel('True Positive Rate', fontsize=15)\n",
    "ax2.set_title('ROC-кривая', fontsize=15)\n",
    "ax2.legend(loc='lower right')\n",
    "ax2.spines['top'].set_visible(False)\n",
    "ax2.spines['right'].set_visible(False)\n",
    "ax2.get_xaxis().tick_bottom()\n",
    "ax2.get_yaxis().tick_left()\n",
    "ax2.grid(linewidth=0.25);"
   ]
  },
  {
   "cell_type": "markdown",
   "metadata": {},
   "source": [
    "Соберем данные исследования в таблицу:"
   ]
  },
  {
   "cell_type": "code",
   "execution_count": 48,
   "metadata": {
    "scrolled": true
   },
   "outputs": [
    {
     "data": {
      "text/html": [
       "<div>\n",
       "<style scoped>\n",
       "    .dataframe tbody tr th:only-of-type {\n",
       "        vertical-align: middle;\n",
       "    }\n",
       "\n",
       "    .dataframe tbody tr th {\n",
       "        vertical-align: top;\n",
       "    }\n",
       "\n",
       "    .dataframe thead th {\n",
       "        text-align: right;\n",
       "    }\n",
       "</style>\n",
       "<table border=\"1\" class=\"dataframe\">\n",
       "  <thead>\n",
       "    <tr style=\"text-align: right;\">\n",
       "      <th></th>\n",
       "      <th>Recall</th>\n",
       "      <th>Precision</th>\n",
       "      <th>F1</th>\n",
       "      <th>AUC-ROC</th>\n",
       "    </tr>\n",
       "  </thead>\n",
       "  <tbody>\n",
       "    <tr>\n",
       "      <th>DecisionTreeClassifier (Дерево решений) weight</th>\n",
       "      <td>0.453431</td>\n",
       "      <td>0.667870</td>\n",
       "      <td>0.540146</td>\n",
       "      <td>0.837561</td>\n",
       "    </tr>\n",
       "    <tr>\n",
       "      <th>RandomForestClassifier (Случайный лес) weight</th>\n",
       "      <td>0.465686</td>\n",
       "      <td>0.788382</td>\n",
       "      <td>0.585516</td>\n",
       "      <td>0.872326</td>\n",
       "    </tr>\n",
       "    <tr>\n",
       "      <th>LogisticRegression (Логистическая регрессия) weight</th>\n",
       "      <td>0.203431</td>\n",
       "      <td>0.605839</td>\n",
       "      <td>0.304587</td>\n",
       "      <td>0.787570</td>\n",
       "    </tr>\n",
       "  </tbody>\n",
       "</table>\n",
       "</div>"
      ],
      "text/plain": [
       "                                                      Recall  Precision  \\\n",
       "DecisionTreeClassifier (Дерево решений) weight      0.453431   0.667870   \n",
       "RandomForestClassifier (Случайный лес) weight       0.465686   0.788382   \n",
       "LogisticRegression (Логистическая регрессия) we...  0.203431   0.605839   \n",
       "\n",
       "                                                          F1   AUC-ROC  \n",
       "DecisionTreeClassifier (Дерево решений) weight      0.540146  0.837561  \n",
       "RandomForestClassifier (Случайный лес) weight       0.585516  0.872326  \n",
       "LogisticRegression (Логистическая регрессия) we...  0.304587  0.787570  "
      ]
     },
     "execution_count": 48,
     "metadata": {},
     "output_type": "execute_result"
    }
   ],
   "source": [
    "researh_data = [{'Recall': dt_recall, 'Precision': dt_precision, 'F1': dt_f1, 'AUC-ROC': auc_roc_dt}, \n",
    "                  {'Recall': rf_recall, 'Precision': rf_precision, 'F1': rf_f1, 'AUC-ROC': auc_roc_rf},\n",
    "                  {'Recall': lr_recall, 'Precision': lr_precision, 'F1': lr_f1, 'AUC-ROC': auc_roc_lr}] \n",
    "researh_res_weight = pd.DataFrame(researh_data, index=['DecisionTreeClassifier (Дерево решений) weight', \n",
    "                                             'RandomForestClassifier (Случайный лес) weight', \n",
    "                                             'LogisticRegression (Логистическая регрессия) weight']) \n",
    "researh_res_weight"
   ]
  },
  {
   "cell_type": "markdown",
   "metadata": {},
   "source": [
    "### Вывод:\n",
    "\n",
    "Взвешивание классов показывает самый худший результат среди всех использованных методов борьбы с диссбалансом. Самые лучшие метрики у случайного леса. Метрика AUC-ROC выше метрики F1 и колеблется в районе 80%."
   ]
  },
  {
   "cell_type": "markdown",
   "metadata": {},
   "source": [
    "### Вывод:"
   ]
  },
  {
   "cell_type": "markdown",
   "metadata": {},
   "source": [
    "- Увеличение и уменьшение выборки немного улучшает модель по сравнению исходной.\n",
    "- Взвешивание классов дает самый низкий результат.\n",
    "- AUC-ROC колеблется от 78% до 87%\n",
    "- По результам всех исследований, самые высокие метрики F1 и AUC-ROC у модели обученой с помощью случайного леса с увеличением выборки. На ней и будем проводить тестирование."
   ]
  },
  {
   "cell_type": "markdown",
   "metadata": {},
   "source": [
    "## Тестирование модели"
   ]
  },
  {
   "cell_type": "markdown",
   "metadata": {},
   "source": [
    "Для повышения качества объединим валидационную и тестовую выборки и посмотрим метрики на модели случайного леса с увеличением выборки"
   ]
  },
  {
   "cell_type": "code",
   "execution_count": 50,
   "metadata": {},
   "outputs": [],
   "source": [
    "final_features_test = pd.concat([features_test_encode, features_valid_encode], axis=0, ignore_index=True)\n",
    "final_target_test = pd.concat([target_test, target_valid], axis=0, ignore_index=True)"
   ]
  },
  {
   "cell_type": "markdown",
   "metadata": {},
   "source": [
    "Протестируем модель на объединенной выборке и выведем основные метрики с графиками:"
   ]
  },
  {
   "cell_type": "code",
   "execution_count": 51,
   "metadata": {},
   "outputs": [
    {
     "name": "stdout",
     "output_type": "stream",
     "text": [
      "Полнота (recall) для тестовой выборки: 0.6650306748466258\n",
      "Точность (precision) для тестовой выборки: 0.5846817691477886\n",
      "F1-мера для тестовой выборки: 0.6222732491389209\n",
      "AUC-ROC для тестовой выборки: 0.8603952576783427\n"
     ]
    },
    {
     "data": {
      "image/png": "[encoded data removed]",
      "text/plain": [
       "<Figure size 1152x432 with 3 Axes>"
      ]
     },
     "metadata": {
      "needs_background": "light"
     },
     "output_type": "display_data"
    }
   ],
   "source": [
    "# запустим модель:\n",
    "predictions = best_rf_model_up.predict(final_features_test)\n",
    "\n",
    "# выведем метрики:\n",
    "recall = recall_score(final_target_test, predictions)\n",
    "precision = precision_score(final_target_test, predictions)\n",
    "\n",
    "probabilities_valid = best_rf_model_up.predict_proba(final_features_test)\n",
    "probabilities_one_valid = probabilities_valid[:, 1]\n",
    "auc_roc_lr = roc_auc_score(final_target_test, probabilities_one_valid)\n",
    "cnf_matrix = confusion_matrix(final_target_test, predictions)\n",
    "\n",
    "print('Полнота (recall) для тестовой выборки:', recall)\n",
    "print('Точность (precision) для тестовой выборки:', precision)\n",
    "print('F1-мера для тестовой выборки:', f1_score(predictions, final_target_test))\n",
    "print('AUC-ROC для тестовой выборки:', auc_roc_lr)\n",
    "\n",
    "# отрисуем графики:\n",
    "fig, ax = plt.subplots(ncols=2, figsize=(16, 6))\n",
    "ax1, ax2 = ax.flatten()\n",
    "sns.heatmap(cnf_matrix, annot=True, cmap='crest', fmt='g', linewidths=.5, vmin=10, ax=ax[0])\n",
    "ax1.set_xlabel('Предсказанные значения', fontsize=15)\n",
    "ax1.set_ylabel('Истинные значения', fontsize=15)\n",
    "ax1.set_title(f'МАТРИЦА ОШИБОК\\n[TN, FP]\\n[FN, TP]', fontsize=15)\n",
    "\n",
    "fpr, tpr, thresholds = roc_curve(final_target_test, probabilities_one_valid)\n",
    "roc_auc = auc(fpr, tpr)\n",
    "ax2.plot(fpr, tpr, lw=2, label=f'ROC curve (S={roc_auc:.2f})')\n",
    "ax2.plot([0, 1], [0, 1], lw=2, linestyle='--')\n",
    "ax2.set_xlim([0.0, 1.0])\n",
    "ax2.set_ylim([0.0, 1.05])\n",
    "ax2.set_xlabel('False Positive Rate', fontsize=15)\n",
    "ax2.set_ylabel('True Positive Rate', fontsize=15)\n",
    "ax2.set_title('ROC-кривая', fontsize=15)\n",
    "ax2.legend(loc='lower right')\n",
    "ax2.spines['top'].set_visible(False)\n",
    "ax2.spines['right'].set_visible(False)\n",
    "ax2.get_xaxis().tick_bottom()\n",
    "ax2.get_yaxis().tick_left()\n",
    "ax2.grid(linewidth=0.25);"
   ]
  },
  {
   "cell_type": "markdown",
   "metadata": {},
   "source": [
    "F1-мера для тестовой выборки: 0.6222732491389209, что выше указаного в задании порога."
   ]
  },
  {
   "cell_type": "markdown",
   "metadata": {},
   "source": [
    "### Общий вывод:"
   ]
  },
  {
   "cell_type": "markdown",
   "metadata": {},
   "source": [
    "Соберем данные всех исследований в таблицу и отсортируем по F1-мере:"
   ]
  },
  {
   "cell_type": "code",
   "execution_count": 49,
   "metadata": {
    "scrolled": true
   },
   "outputs": [
    {
     "data": {
      "text/html": [
       "<div>\n",
       "<style scoped>\n",
       "    .dataframe tbody tr th:only-of-type {\n",
       "        vertical-align: middle;\n",
       "    }\n",
       "\n",
       "    .dataframe tbody tr th {\n",
       "        vertical-align: top;\n",
       "    }\n",
       "\n",
       "    .dataframe thead th {\n",
       "        text-align: right;\n",
       "    }\n",
       "</style>\n",
       "<table border=\"1\" class=\"dataframe\">\n",
       "  <thead>\n",
       "    <tr style=\"text-align: right;\">\n",
       "      <th></th>\n",
       "      <th>Recall</th>\n",
       "      <th>Precision</th>\n",
       "      <th>F1</th>\n",
       "      <th>AUC-ROC</th>\n",
       "    </tr>\n",
       "  </thead>\n",
       "  <tbody>\n",
       "    <tr>\n",
       "      <th>RandomForestClassifier (Случайный лес) upsampled</th>\n",
       "      <td>0.698529</td>\n",
       "      <td>0.602537</td>\n",
       "      <td>0.646992</td>\n",
       "      <td>0.867171</td>\n",
       "    </tr>\n",
       "    <tr>\n",
       "      <th>RandomForestClassifier (Случайный лес) downsampled</th>\n",
       "      <td>0.801471</td>\n",
       "      <td>0.519873</td>\n",
       "      <td>0.630665</td>\n",
       "      <td>0.866694</td>\n",
       "    </tr>\n",
       "    <tr>\n",
       "      <th>RandomForestClassifier (Случайный лес) disbalance</th>\n",
       "      <td>0.522059</td>\n",
       "      <td>0.788889</td>\n",
       "      <td>0.628319</td>\n",
       "      <td>NaN</td>\n",
       "    </tr>\n",
       "    <tr>\n",
       "      <th>DecisionTreeClassifier (Дерево решений) upsampled</th>\n",
       "      <td>0.710784</td>\n",
       "      <td>0.520646</td>\n",
       "      <td>0.601036</td>\n",
       "      <td>0.821904</td>\n",
       "    </tr>\n",
       "    <tr>\n",
       "      <th>DecisionTreeClassifier (Дерево решений) downsampled</th>\n",
       "      <td>0.774510</td>\n",
       "      <td>0.486903</td>\n",
       "      <td>0.597919</td>\n",
       "      <td>0.853341</td>\n",
       "    </tr>\n",
       "    <tr>\n",
       "      <th>DecisionTreeClassifier (Дерево решений) disbalance</th>\n",
       "      <td>0.504902</td>\n",
       "      <td>0.725352</td>\n",
       "      <td>0.595376</td>\n",
       "      <td>NaN</td>\n",
       "    </tr>\n",
       "    <tr>\n",
       "      <th>RandomForestClassifier (Случайный лес) weight</th>\n",
       "      <td>0.465686</td>\n",
       "      <td>0.788382</td>\n",
       "      <td>0.585516</td>\n",
       "      <td>0.872326</td>\n",
       "    </tr>\n",
       "    <tr>\n",
       "      <th>DecisionTreeClassifier (Дерево решений) weight</th>\n",
       "      <td>0.453431</td>\n",
       "      <td>0.667870</td>\n",
       "      <td>0.540146</td>\n",
       "      <td>0.837561</td>\n",
       "    </tr>\n",
       "    <tr>\n",
       "      <th>LogisticRegression (Логистическая регрессия) downsampled</th>\n",
       "      <td>0.742647</td>\n",
       "      <td>0.408356</td>\n",
       "      <td>0.526957</td>\n",
       "      <td>0.792550</td>\n",
       "    </tr>\n",
       "    <tr>\n",
       "      <th>LogisticRegression (Логистическая регрессия) upsampled</th>\n",
       "      <td>0.708333</td>\n",
       "      <td>0.398621</td>\n",
       "      <td>0.510150</td>\n",
       "      <td>0.784515</td>\n",
       "    </tr>\n",
       "    <tr>\n",
       "      <th>LogisticRegression (Логистическая регрессия) disbalance</th>\n",
       "      <td>0.203431</td>\n",
       "      <td>0.605839</td>\n",
       "      <td>0.304587</td>\n",
       "      <td>NaN</td>\n",
       "    </tr>\n",
       "    <tr>\n",
       "      <th>LogisticRegression (Логистическая регрессия) weight</th>\n",
       "      <td>0.203431</td>\n",
       "      <td>0.605839</td>\n",
       "      <td>0.304587</td>\n",
       "      <td>0.787570</td>\n",
       "    </tr>\n",
       "  </tbody>\n",
       "</table>\n",
       "</div>"
      ],
      "text/plain": [
       "                                                      Recall  Precision  \\\n",
       "RandomForestClassifier (Случайный лес) upsampled    0.698529   0.602537   \n",
       "RandomForestClassifier (Случайный лес) downsampled  0.801471   0.519873   \n",
       "RandomForestClassifier (Случайный лес) disbalance   0.522059   0.788889   \n",
       "DecisionTreeClassifier (Дерево решений) upsampled   0.710784   0.520646   \n",
       "DecisionTreeClassifier (Дерево решений) downsam...  0.774510   0.486903   \n",
       "DecisionTreeClassifier (Дерево решений) disbalance  0.504902   0.725352   \n",
       "RandomForestClassifier (Случайный лес) weight       0.465686   0.788382   \n",
       "DecisionTreeClassifier (Дерево решений) weight      0.453431   0.667870   \n",
       "LogisticRegression (Логистическая регрессия) do...  0.742647   0.408356   \n",
       "LogisticRegression (Логистическая регрессия) up...  0.708333   0.398621   \n",
       "LogisticRegression (Логистическая регрессия) di...  0.203431   0.605839   \n",
       "LogisticRegression (Логистическая регрессия) we...  0.203431   0.605839   \n",
       "\n",
       "                                                          F1   AUC-ROC  \n",
       "RandomForestClassifier (Случайный лес) upsampled    0.646992  0.867171  \n",
       "RandomForestClassifier (Случайный лес) downsampled  0.630665  0.866694  \n",
       "RandomForestClassifier (Случайный лес) disbalance   0.628319       NaN  \n",
       "DecisionTreeClassifier (Дерево решений) upsampled   0.601036  0.821904  \n",
       "DecisionTreeClassifier (Дерево решений) downsam...  0.597919  0.853341  \n",
       "DecisionTreeClassifier (Дерево решений) disbalance  0.595376       NaN  \n",
       "RandomForestClassifier (Случайный лес) weight       0.585516  0.872326  \n",
       "DecisionTreeClassifier (Дерево решений) weight      0.540146  0.837561  \n",
       "LogisticRegression (Логистическая регрессия) do...  0.526957  0.792550  \n",
       "LogisticRegression (Логистическая регрессия) up...  0.510150  0.784515  \n",
       "LogisticRegression (Логистическая регрессия) di...  0.304587       NaN  \n",
       "LogisticRegression (Логистическая регрессия) we...  0.304587  0.787570  "
      ]
     },
     "execution_count": 49,
     "metadata": {},
     "output_type": "execute_result"
    }
   ],
   "source": [
    "researh_res_total = pd.concat([researh_res, researh_res_upsample, researh_res_downsample, researh_res_weight], \n",
    "                              axis=0).sort_values('F1', ascending=False)\n",
    "researh_res_total"
   ]
  },
  {
   "cell_type": "markdown",
   "metadata": {},
   "source": [
    "В этом проекте мы:\n",
    "- Загрузили необходимые библиотеки и подготовили данные.\n",
    "    - Привели к \"змеиному\" стилю имена столбцов.\n",
    "    - Удалили ненужные признаки row_number, customer_id и surname.\n",
    "    - Разобрались с пропусками в признаке tenure и привели его в int.\n",
    "    - Перекодировали признаки geography и gender в числовые, с помощью One-Hot Encoding.\n",
    "    - Разделили датасет на 3 части в соотношении 3:1:1 (60% обучающая выборка, 20% валидационная и 20% тестовая).\n",
    "    - Масштабировали числовые признаки credit_score, age, balance, estimated_salary.\n",
    "    - Обнаружили в целевом признаке exited достаточно сильный дисбаланс классов - только 20% отражают факт ухода клиента.\n",
    "- Исследовали модели без учета дисбаланса и обнаружили, что случайный лес в F1-мере показывает лучший результат. А матрицы ошибок указывают на сильный дисбаланс классов.  \n",
    "- Исследовали модели с учетом дисбаланса:\n",
    "    - С использованием увеличенной выборки(Upsampling), обнаружили что случайный лес в F1-мере показывает лучший результат. AUC-ROC выше F1- меры.  \n",
    "    - С использованием уменьшенной выборки(Downsampling), обнаружили что случайный лес в F1-мере показывает лучший результат. AUC-ROC выше F1- меры.\n",
    "    - С использованием Взвешивания классов: , обнаружили что случайный лес в F1-мере показывает лучший результат. AUC-ROC выше F1- меры.   \n",
    "- Выяснили, что увеличение и уменьшение выборки немного улучшает модель по сравнению исходной.\n",
    "- Взвешивание классов дает самый низкий результат.\n",
    "- AUC-ROC колеблется от 78% до 87%\n",
    "- По результам всех исследований, самые высокие метрики F1 и AUC-ROC у модели обученой с помощью случайного леса с увеличением выборки. \n",
    "- Провели тестирование самой успешной модели.\n",
    "    - Для этого объединили тестовую и валидационную выборки.\n",
    "    - Полнота (recall) для тестовой выборки: 0.6736196319018405\n",
    "    - Точность (precision) для тестовой выборки: 0.5815677966101694\n",
    "    - F1-мера для тестовой выборки: 0.6242183058555998\n",
    "    - AUC-ROC для тестовой выборки: 0.8598672843370478\n",
    "\n",
    "**Удалось достичь F1-меры не менее 0.59**, что было основным заданием проекта.\n",
    "\n"
   ]
  }
 ],
 "metadata": {
  "ExecuteTimeLog": [
   {
    "duration": 2216,
    "start_time": "2023-04-24T08:11:19.917Z"
   },
   {
    "duration": 222,
    "start_time": "2023-04-24T08:11:22.136Z"
   },
   {
    "duration": 7,
    "start_time": "2023-04-24T08:11:22.360Z"
   },
   {
    "duration": 1377,
    "start_time": "2023-04-24T08:11:22.369Z"
   },
   {
    "duration": 16,
    "start_time": "2023-04-24T08:11:23.748Z"
   },
   {
    "duration": 14,
    "start_time": "2023-04-24T08:11:23.766Z"
   },
   {
    "duration": 9,
    "start_time": "2023-04-24T08:11:23.782Z"
   },
   {
    "duration": 212,
    "start_time": "2023-04-24T08:11:23.793Z"
   },
   {
    "duration": 15,
    "start_time": "2023-04-24T08:11:24.007Z"
   },
   {
    "duration": 20,
    "start_time": "2023-04-24T08:11:24.035Z"
   },
   {
    "duration": 129,
    "start_time": "2023-04-24T08:11:24.057Z"
   },
   {
    "duration": 19,
    "start_time": "2023-04-24T08:11:24.188Z"
   },
   {
    "duration": 81,
    "start_time": "2023-04-24T08:11:24.209Z"
   },
   {
    "duration": 146,
    "start_time": "2023-04-24T08:11:24.292Z"
   },
   {
    "duration": 15745,
    "start_time": "2023-04-24T08:11:24.439Z"
   },
   {
    "duration": 337,
    "start_time": "2023-04-24T08:11:40.186Z"
   },
   {
    "duration": 123217,
    "start_time": "2023-04-24T08:11:40.534Z"
   },
   {
    "duration": 999,
    "start_time": "2023-04-24T08:13:43.753Z"
   },
   {
    "duration": 60381,
    "start_time": "2023-04-24T08:13:44.753Z"
   },
   {
    "duration": 1112,
    "start_time": "2023-04-24T08:14:45.137Z"
   },
   {
    "duration": 11,
    "start_time": "2023-04-24T08:14:46.251Z"
   },
   {
    "duration": 72,
    "start_time": "2023-04-24T08:14:46.265Z"
   },
   {
    "duration": 36712,
    "start_time": "2023-04-24T08:14:46.339Z"
   },
   {
    "duration": 912,
    "start_time": "2023-04-24T08:15:23.054Z"
   },
   {
    "duration": 176908,
    "start_time": "2023-04-24T08:15:23.968Z"
   },
   {
    "duration": 2743,
    "start_time": "2023-04-24T08:18:20.934Z"
   },
   {
    "duration": 51657,
    "start_time": "2023-04-24T08:18:23.679Z"
   },
   {
    "duration": 1906,
    "start_time": "2023-04-24T08:19:15.344Z"
   },
   {
    "duration": 16,
    "start_time": "2023-04-24T08:19:17.252Z"
   },
   {
    "duration": 80,
    "start_time": "2023-04-24T08:19:17.271Z"
   },
   {
    "duration": 14921,
    "start_time": "2023-04-24T08:19:17.354Z"
   },
   {
    "duration": 820,
    "start_time": "2023-04-24T08:19:32.333Z"
   },
   {
    "duration": 133623,
    "start_time": "2023-04-24T08:19:33.155Z"
   },
   {
    "duration": 1403,
    "start_time": "2023-04-24T08:21:46.833Z"
   },
   {
    "duration": 37597,
    "start_time": "2023-04-24T08:21:48.238Z"
   },
   {
    "duration": 1495,
    "start_time": "2023-04-24T08:22:25.838Z"
   },
   {
    "duration": 13,
    "start_time": "2023-04-24T08:22:27.335Z"
   },
   {
    "duration": 29926,
    "start_time": "2023-04-24T08:22:27.349Z"
   },
   {
    "duration": 883,
    "start_time": "2023-04-24T08:22:57.276Z"
   },
   {
    "duration": 129787,
    "start_time": "2023-04-24T08:22:58.161Z"
   },
   {
    "duration": 2608,
    "start_time": "2023-04-24T08:25:07.951Z"
   },
   {
    "duration": 47675,
    "start_time": "2023-04-24T08:25:10.562Z"
   },
   {
    "duration": 1934,
    "start_time": "2023-04-24T08:25:58.244Z"
   },
   {
    "duration": 62,
    "start_time": "2023-04-24T08:26:00.180Z"
   },
   {
    "duration": 40,
    "start_time": "2023-04-24T08:26:00.244Z"
   },
   {
    "duration": 7,
    "start_time": "2023-04-24T08:26:00.334Z"
   },
   {
    "duration": 1213,
    "start_time": "2023-04-24T08:26:00.343Z"
   },
   {
    "duration": 14290,
    "start_time": "2023-04-25T08:31:25.689Z"
   },
   {
    "duration": 2978,
    "start_time": "2023-04-25T08:31:39.983Z"
   },
   {
    "duration": 288,
    "start_time": "2023-04-25T08:31:42.963Z"
   },
   {
    "duration": 11,
    "start_time": "2023-04-25T08:31:43.257Z"
   },
   {
    "duration": 2870,
    "start_time": "2023-04-25T08:31:43.272Z"
   },
   {
    "duration": 103,
    "start_time": "2023-04-25T08:31:46.145Z"
   },
   {
    "duration": 15,
    "start_time": "2023-04-25T08:31:46.251Z"
   },
   {
    "duration": 94,
    "start_time": "2023-04-25T08:31:46.269Z"
   },
   {
    "duration": 1113,
    "start_time": "2023-04-25T08:31:46.366Z"
   },
   {
    "duration": 87,
    "start_time": "2023-04-25T08:31:47.482Z"
   },
   {
    "duration": 73,
    "start_time": "2023-04-25T08:31:47.571Z"
   },
   {
    "duration": 122,
    "start_time": "2023-04-25T08:31:47.652Z"
   },
   {
    "duration": 193,
    "start_time": "2023-04-25T08:31:47.776Z"
   },
   {
    "duration": 372,
    "start_time": "2023-04-25T08:31:47.973Z"
   },
   {
    "duration": 63,
    "start_time": "2023-04-25T08:32:01.095Z"
   },
   {
    "duration": 50,
    "start_time": "2023-04-25T08:33:12.197Z"
   }
  ],
  "kernelspec": {
   "display_name": "Python 3 (ipykernel)",
   "language": "python",
   "name": "python3"
  },
  "language_info": {
   "codemirror_mode": {
    "name": "ipython",
    "version": 3
   },
   "file_extension": ".py",
   "mimetype": "text/x-python",
   "name": "python",
   "nbconvert_exporter": "python",
   "pygments_lexer": "ipython3",
   "version": "3.9.13"
  },
  "toc": {
   "base_numbering": 1,
   "nav_menu": {},
   "number_sections": true,
   "sideBar": true,
   "skip_h1_title": true,
   "title_cell": "Содержание",
   "title_sidebar": "Contents",
   "toc_cell": true,
   "toc_position": {
    "height": "calc(100% - 180px)",
    "left": "10px",
    "top": "150px",
    "width": "317.225px"
   },
   "toc_section_display": true,
   "toc_window_display": false
  }
 },
 "nbformat": 4,
 "nbformat_minor": 2
}
